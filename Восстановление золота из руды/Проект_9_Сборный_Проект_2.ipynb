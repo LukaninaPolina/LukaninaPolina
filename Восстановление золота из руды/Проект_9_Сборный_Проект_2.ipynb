{
  "cells": [
    {
      "cell_type": "markdown",
      "metadata": {
        "id": "C6QaPPf0Yrwr"
      },
      "source": [
        "# Восстановление золота из руды"
      ]
    },
    {
      "cell_type": "markdown",
      "metadata": {
        "id": "5-NqL1WGYrws"
      },
      "source": [
        "Подготовьте прототип модели машинного обучения для «Цифры». Компания разрабатывает решения для эффективной работы промышленных предприятий.\n",
        "\n",
        "Модель должна предсказать коэффициент восстановления золота из золотосодержащей руды. Используйте данные с параметрами добычи и очистки.\n",
        "\n",
        "Модель поможет оптимизировать производство, чтобы не запускать предприятие с убыточными характеристиками.\n",
        "\n",
        "Вам нужно:\n",
        "\n",
        "1. Подготовить данные;\n",
        "2. Провести исследовательский анализ данных;\n",
        "3. Построить и обучить модель.\n",
        "\n",
        "Чтобы выполнить проект, обращайтесь к библиотекам *pandas*, *matplotlib* и *sklearn.* Вам поможет их документация."
      ]
    },
    {
      "cell_type": "markdown",
      "metadata": {
        "id": "0cSfBWiNYrws"
      },
      "source": [
        "## Подготовка данных"
      ]
    },
    {
      "cell_type": "markdown",
      "metadata": {
        "id": "q4l_0m7dYrws"
      },
      "source": [
        "### Откроем данные и изучим их"
      ]
    },
    {
      "cell_type": "code",
      "execution_count": null,
      "metadata": {
        "id": "J3sGL_EDYrws"
      },
      "outputs": [],
      "source": [
        "import pandas as pd\n",
        "import numpy as np\n",
        "from sklearn.metrics import mean_absolute_error\n",
        "import matplotlib.pyplot as plt\n",
        "import numpy as np\n",
        "from sklearn.model_selection import cross_val_score,KFold\n",
        "from sklearn.tree import DecisionTreeRegressor\n",
        "from sklearn.ensemble import RandomForestRegressor\n",
        "from sklearn.metrics import fbeta_score, make_scorer\n",
        "from sklearn.model_selection import cross_val_score\n",
        "import warnings\n",
        "from sklearn.linear_model import LinearRegression\n",
        "import seaborn as sns\n",
        "from sklearn.dummy import DummyRegressor"
      ]
    },
    {
      "cell_type": "markdown",
      "metadata": {
        "id": "njKRtAvAYrwt"
      },
      "source": [
        "- gold_recovery_train_new.csv — обучающая выборка;\n",
        "- gold_recovery_test_new.csv — тестовая выборка;\n",
        "- gold_recovery_full_new.csv — исходные данные."
      ]
    },
    {
      "cell_type": "code",
      "execution_count": null,
      "metadata": {
        "id": "Bg0-WMfxYrwt"
      },
      "outputs": [],
      "source": [
        "data = pd.read_csv('/datasets/gold_recovery_full_new.csv')\n",
        "train_data = pd.read_csv('/datasets/gold_recovery_train_new.csv')\n",
        "test_data = pd.read_csv('/datasets/gold_recovery_test_new.csv')"
      ]
    },
    {
      "cell_type": "code",
      "execution_count": null,
      "metadata": {
        "id": "JghMs5RXYrwt",
        "outputId": "6d73d584-ffca-4c79-f02c-ff93b5ef0eed"
      },
      "outputs": [
        {
          "data": {
            "text/html": [
              "<div>\n",
              "<style scoped>\n",
              "    .dataframe tbody tr th:only-of-type {\n",
              "        vertical-align: middle;\n",
              "    }\n",
              "\n",
              "    .dataframe tbody tr th {\n",
              "        vertical-align: top;\n",
              "    }\n",
              "\n",
              "    .dataframe thead th {\n",
              "        text-align: right;\n",
              "    }\n",
              "</style>\n",
              "<table border=\"1\" class=\"dataframe\">\n",
              "  <thead>\n",
              "    <tr style=\"text-align: right;\">\n",
              "      <th></th>\n",
              "      <th>date</th>\n",
              "      <th>final.output.concentrate_ag</th>\n",
              "      <th>final.output.concentrate_pb</th>\n",
              "      <th>final.output.concentrate_sol</th>\n",
              "      <th>final.output.concentrate_au</th>\n",
              "      <th>final.output.recovery</th>\n",
              "      <th>final.output.tail_ag</th>\n",
              "      <th>final.output.tail_pb</th>\n",
              "      <th>final.output.tail_sol</th>\n",
              "      <th>final.output.tail_au</th>\n",
              "      <th>...</th>\n",
              "      <th>secondary_cleaner.state.floatbank4_a_air</th>\n",
              "      <th>secondary_cleaner.state.floatbank4_a_level</th>\n",
              "      <th>secondary_cleaner.state.floatbank4_b_air</th>\n",
              "      <th>secondary_cleaner.state.floatbank4_b_level</th>\n",
              "      <th>secondary_cleaner.state.floatbank5_a_air</th>\n",
              "      <th>secondary_cleaner.state.floatbank5_a_level</th>\n",
              "      <th>secondary_cleaner.state.floatbank5_b_air</th>\n",
              "      <th>secondary_cleaner.state.floatbank5_b_level</th>\n",
              "      <th>secondary_cleaner.state.floatbank6_a_air</th>\n",
              "      <th>secondary_cleaner.state.floatbank6_a_level</th>\n",
              "    </tr>\n",
              "  </thead>\n",
              "  <tbody>\n",
              "    <tr>\n",
              "      <th>0</th>\n",
              "      <td>2016-01-15 00:00:00</td>\n",
              "      <td>6.055403</td>\n",
              "      <td>9.889648</td>\n",
              "      <td>5.507324</td>\n",
              "      <td>42.192020</td>\n",
              "      <td>70.541216</td>\n",
              "      <td>10.411962</td>\n",
              "      <td>0.895447</td>\n",
              "      <td>16.904297</td>\n",
              "      <td>2.143149</td>\n",
              "      <td>...</td>\n",
              "      <td>14.016835</td>\n",
              "      <td>-502.488007</td>\n",
              "      <td>12.099931</td>\n",
              "      <td>-504.715942</td>\n",
              "      <td>9.925633</td>\n",
              "      <td>-498.310211</td>\n",
              "      <td>8.079666</td>\n",
              "      <td>-500.470978</td>\n",
              "      <td>14.151341</td>\n",
              "      <td>-605.841980</td>\n",
              "    </tr>\n",
              "    <tr>\n",
              "      <th>1</th>\n",
              "      <td>2016-01-15 01:00:00</td>\n",
              "      <td>6.029369</td>\n",
              "      <td>9.968944</td>\n",
              "      <td>5.257781</td>\n",
              "      <td>42.701629</td>\n",
              "      <td>69.266198</td>\n",
              "      <td>10.462676</td>\n",
              "      <td>0.927452</td>\n",
              "      <td>16.634514</td>\n",
              "      <td>2.224930</td>\n",
              "      <td>...</td>\n",
              "      <td>13.992281</td>\n",
              "      <td>-505.503262</td>\n",
              "      <td>11.950531</td>\n",
              "      <td>-501.331529</td>\n",
              "      <td>10.039245</td>\n",
              "      <td>-500.169983</td>\n",
              "      <td>7.984757</td>\n",
              "      <td>-500.582168</td>\n",
              "      <td>13.998353</td>\n",
              "      <td>-599.787184</td>\n",
              "    </tr>\n",
              "    <tr>\n",
              "      <th>2</th>\n",
              "      <td>2016-01-15 02:00:00</td>\n",
              "      <td>6.055926</td>\n",
              "      <td>10.213995</td>\n",
              "      <td>5.383759</td>\n",
              "      <td>42.657501</td>\n",
              "      <td>68.116445</td>\n",
              "      <td>10.507046</td>\n",
              "      <td>0.953716</td>\n",
              "      <td>16.208849</td>\n",
              "      <td>2.257889</td>\n",
              "      <td>...</td>\n",
              "      <td>14.015015</td>\n",
              "      <td>-502.520901</td>\n",
              "      <td>11.912783</td>\n",
              "      <td>-501.133383</td>\n",
              "      <td>10.070913</td>\n",
              "      <td>-500.129135</td>\n",
              "      <td>8.013877</td>\n",
              "      <td>-500.517572</td>\n",
              "      <td>14.028663</td>\n",
              "      <td>-601.427363</td>\n",
              "    </tr>\n",
              "    <tr>\n",
              "      <th>3</th>\n",
              "      <td>2016-01-15 03:00:00</td>\n",
              "      <td>6.047977</td>\n",
              "      <td>9.977019</td>\n",
              "      <td>4.858634</td>\n",
              "      <td>42.689819</td>\n",
              "      <td>68.347543</td>\n",
              "      <td>10.422762</td>\n",
              "      <td>0.883763</td>\n",
              "      <td>16.532835</td>\n",
              "      <td>2.146849</td>\n",
              "      <td>...</td>\n",
              "      <td>14.036510</td>\n",
              "      <td>-500.857308</td>\n",
              "      <td>11.999550</td>\n",
              "      <td>-501.193686</td>\n",
              "      <td>9.970366</td>\n",
              "      <td>-499.201640</td>\n",
              "      <td>7.977324</td>\n",
              "      <td>-500.255908</td>\n",
              "      <td>14.005551</td>\n",
              "      <td>-599.996129</td>\n",
              "    </tr>\n",
              "    <tr>\n",
              "      <th>4</th>\n",
              "      <td>2016-01-15 04:00:00</td>\n",
              "      <td>6.148599</td>\n",
              "      <td>10.142511</td>\n",
              "      <td>4.939416</td>\n",
              "      <td>42.774141</td>\n",
              "      <td>66.927016</td>\n",
              "      <td>10.360302</td>\n",
              "      <td>0.792826</td>\n",
              "      <td>16.525686</td>\n",
              "      <td>2.055292</td>\n",
              "      <td>...</td>\n",
              "      <td>14.027298</td>\n",
              "      <td>-499.838632</td>\n",
              "      <td>11.953070</td>\n",
              "      <td>-501.053894</td>\n",
              "      <td>9.925709</td>\n",
              "      <td>-501.686727</td>\n",
              "      <td>7.894242</td>\n",
              "      <td>-500.356035</td>\n",
              "      <td>13.996647</td>\n",
              "      <td>-601.496691</td>\n",
              "    </tr>\n",
              "    <tr>\n",
              "      <th>5</th>\n",
              "      <td>2016-01-15 05:00:00</td>\n",
              "      <td>6.482968</td>\n",
              "      <td>10.049416</td>\n",
              "      <td>5.480257</td>\n",
              "      <td>41.633678</td>\n",
              "      <td>69.465816</td>\n",
              "      <td>10.182708</td>\n",
              "      <td>0.664118</td>\n",
              "      <td>16.999638</td>\n",
              "      <td>1.918586</td>\n",
              "      <td>...</td>\n",
              "      <td>13.938497</td>\n",
              "      <td>-500.970168</td>\n",
              "      <td>11.883350</td>\n",
              "      <td>-500.395298</td>\n",
              "      <td>10.054147</td>\n",
              "      <td>-496.374715</td>\n",
              "      <td>7.965083</td>\n",
              "      <td>-499.364752</td>\n",
              "      <td>14.017067</td>\n",
              "      <td>-599.707915</td>\n",
              "    </tr>\n",
              "    <tr>\n",
              "      <th>6</th>\n",
              "      <td>2016-01-15 06:00:00</td>\n",
              "      <td>6.533849</td>\n",
              "      <td>10.058141</td>\n",
              "      <td>4.569100</td>\n",
              "      <td>41.995316</td>\n",
              "      <td>69.300835</td>\n",
              "      <td>10.304598</td>\n",
              "      <td>0.807342</td>\n",
              "      <td>16.723575</td>\n",
              "      <td>2.058913</td>\n",
              "      <td>...</td>\n",
              "      <td>14.046819</td>\n",
              "      <td>-500.971133</td>\n",
              "      <td>12.091543</td>\n",
              "      <td>-500.501426</td>\n",
              "      <td>10.003247</td>\n",
              "      <td>-497.083180</td>\n",
              "      <td>8.010890</td>\n",
              "      <td>-500.002423</td>\n",
              "      <td>14.029649</td>\n",
              "      <td>-600.905470</td>\n",
              "    </tr>\n",
              "    <tr>\n",
              "      <th>7</th>\n",
              "      <td>2016-01-15 07:00:00</td>\n",
              "      <td>6.130823</td>\n",
              "      <td>9.935481</td>\n",
              "      <td>4.389813</td>\n",
              "      <td>42.452727</td>\n",
              "      <td>70.230976</td>\n",
              "      <td>10.443288</td>\n",
              "      <td>0.949346</td>\n",
              "      <td>16.689959</td>\n",
              "      <td>2.143437</td>\n",
              "      <td>...</td>\n",
              "      <td>13.974691</td>\n",
              "      <td>-501.819696</td>\n",
              "      <td>12.101324</td>\n",
              "      <td>-500.583446</td>\n",
              "      <td>9.873169</td>\n",
              "      <td>-499.171928</td>\n",
              "      <td>7.993381</td>\n",
              "      <td>-499.794518</td>\n",
              "      <td>13.984498</td>\n",
              "      <td>-600.411070</td>\n",
              "    </tr>\n",
              "    <tr>\n",
              "      <th>8</th>\n",
              "      <td>2016-01-15 08:00:00</td>\n",
              "      <td>5.834140</td>\n",
              "      <td>10.071156</td>\n",
              "      <td>4.876389</td>\n",
              "      <td>43.404078</td>\n",
              "      <td>69.688595</td>\n",
              "      <td>10.420140</td>\n",
              "      <td>1.065453</td>\n",
              "      <td>17.201948</td>\n",
              "      <td>2.209881</td>\n",
              "      <td>...</td>\n",
              "      <td>13.964030</td>\n",
              "      <td>-504.252450</td>\n",
              "      <td>12.060738</td>\n",
              "      <td>-501.174549</td>\n",
              "      <td>10.033838</td>\n",
              "      <td>-501.178133</td>\n",
              "      <td>7.881604</td>\n",
              "      <td>-499.729434</td>\n",
              "      <td>13.967135</td>\n",
              "      <td>-599.061188</td>\n",
              "    </tr>\n",
              "    <tr>\n",
              "      <th>9</th>\n",
              "      <td>2016-01-15 09:00:00</td>\n",
              "      <td>5.687063</td>\n",
              "      <td>9.980404</td>\n",
              "      <td>5.282514</td>\n",
              "      <td>43.235220</td>\n",
              "      <td>70.279619</td>\n",
              "      <td>10.487013</td>\n",
              "      <td>1.159805</td>\n",
              "      <td>17.483979</td>\n",
              "      <td>2.209593</td>\n",
              "      <td>...</td>\n",
              "      <td>13.989632</td>\n",
              "      <td>-503.195299</td>\n",
              "      <td>12.052233</td>\n",
              "      <td>-500.928547</td>\n",
              "      <td>9.962574</td>\n",
              "      <td>-502.986357</td>\n",
              "      <td>7.979219</td>\n",
              "      <td>-500.146835</td>\n",
              "      <td>13.981614</td>\n",
              "      <td>-598.070855</td>\n",
              "    </tr>\n",
              "  </tbody>\n",
              "</table>\n",
              "<p>10 rows × 87 columns</p>\n",
              "</div>"
            ],
            "text/plain": [
              "                  date  final.output.concentrate_ag  \\\n",
              "0  2016-01-15 00:00:00                     6.055403   \n",
              "1  2016-01-15 01:00:00                     6.029369   \n",
              "2  2016-01-15 02:00:00                     6.055926   \n",
              "3  2016-01-15 03:00:00                     6.047977   \n",
              "4  2016-01-15 04:00:00                     6.148599   \n",
              "5  2016-01-15 05:00:00                     6.482968   \n",
              "6  2016-01-15 06:00:00                     6.533849   \n",
              "7  2016-01-15 07:00:00                     6.130823   \n",
              "8  2016-01-15 08:00:00                     5.834140   \n",
              "9  2016-01-15 09:00:00                     5.687063   \n",
              "\n",
              "   final.output.concentrate_pb  final.output.concentrate_sol  \\\n",
              "0                     9.889648                      5.507324   \n",
              "1                     9.968944                      5.257781   \n",
              "2                    10.213995                      5.383759   \n",
              "3                     9.977019                      4.858634   \n",
              "4                    10.142511                      4.939416   \n",
              "5                    10.049416                      5.480257   \n",
              "6                    10.058141                      4.569100   \n",
              "7                     9.935481                      4.389813   \n",
              "8                    10.071156                      4.876389   \n",
              "9                     9.980404                      5.282514   \n",
              "\n",
              "   final.output.concentrate_au  final.output.recovery  final.output.tail_ag  \\\n",
              "0                    42.192020              70.541216             10.411962   \n",
              "1                    42.701629              69.266198             10.462676   \n",
              "2                    42.657501              68.116445             10.507046   \n",
              "3                    42.689819              68.347543             10.422762   \n",
              "4                    42.774141              66.927016             10.360302   \n",
              "5                    41.633678              69.465816             10.182708   \n",
              "6                    41.995316              69.300835             10.304598   \n",
              "7                    42.452727              70.230976             10.443288   \n",
              "8                    43.404078              69.688595             10.420140   \n",
              "9                    43.235220              70.279619             10.487013   \n",
              "\n",
              "   final.output.tail_pb  final.output.tail_sol  final.output.tail_au  ...  \\\n",
              "0              0.895447              16.904297              2.143149  ...   \n",
              "1              0.927452              16.634514              2.224930  ...   \n",
              "2              0.953716              16.208849              2.257889  ...   \n",
              "3              0.883763              16.532835              2.146849  ...   \n",
              "4              0.792826              16.525686              2.055292  ...   \n",
              "5              0.664118              16.999638              1.918586  ...   \n",
              "6              0.807342              16.723575              2.058913  ...   \n",
              "7              0.949346              16.689959              2.143437  ...   \n",
              "8              1.065453              17.201948              2.209881  ...   \n",
              "9              1.159805              17.483979              2.209593  ...   \n",
              "\n",
              "   secondary_cleaner.state.floatbank4_a_air  \\\n",
              "0                                 14.016835   \n",
              "1                                 13.992281   \n",
              "2                                 14.015015   \n",
              "3                                 14.036510   \n",
              "4                                 14.027298   \n",
              "5                                 13.938497   \n",
              "6                                 14.046819   \n",
              "7                                 13.974691   \n",
              "8                                 13.964030   \n",
              "9                                 13.989632   \n",
              "\n",
              "   secondary_cleaner.state.floatbank4_a_level  \\\n",
              "0                                 -502.488007   \n",
              "1                                 -505.503262   \n",
              "2                                 -502.520901   \n",
              "3                                 -500.857308   \n",
              "4                                 -499.838632   \n",
              "5                                 -500.970168   \n",
              "6                                 -500.971133   \n",
              "7                                 -501.819696   \n",
              "8                                 -504.252450   \n",
              "9                                 -503.195299   \n",
              "\n",
              "   secondary_cleaner.state.floatbank4_b_air  \\\n",
              "0                                 12.099931   \n",
              "1                                 11.950531   \n",
              "2                                 11.912783   \n",
              "3                                 11.999550   \n",
              "4                                 11.953070   \n",
              "5                                 11.883350   \n",
              "6                                 12.091543   \n",
              "7                                 12.101324   \n",
              "8                                 12.060738   \n",
              "9                                 12.052233   \n",
              "\n",
              "   secondary_cleaner.state.floatbank4_b_level  \\\n",
              "0                                 -504.715942   \n",
              "1                                 -501.331529   \n",
              "2                                 -501.133383   \n",
              "3                                 -501.193686   \n",
              "4                                 -501.053894   \n",
              "5                                 -500.395298   \n",
              "6                                 -500.501426   \n",
              "7                                 -500.583446   \n",
              "8                                 -501.174549   \n",
              "9                                 -500.928547   \n",
              "\n",
              "   secondary_cleaner.state.floatbank5_a_air  \\\n",
              "0                                  9.925633   \n",
              "1                                 10.039245   \n",
              "2                                 10.070913   \n",
              "3                                  9.970366   \n",
              "4                                  9.925709   \n",
              "5                                 10.054147   \n",
              "6                                 10.003247   \n",
              "7                                  9.873169   \n",
              "8                                 10.033838   \n",
              "9                                  9.962574   \n",
              "\n",
              "   secondary_cleaner.state.floatbank5_a_level  \\\n",
              "0                                 -498.310211   \n",
              "1                                 -500.169983   \n",
              "2                                 -500.129135   \n",
              "3                                 -499.201640   \n",
              "4                                 -501.686727   \n",
              "5                                 -496.374715   \n",
              "6                                 -497.083180   \n",
              "7                                 -499.171928   \n",
              "8                                 -501.178133   \n",
              "9                                 -502.986357   \n",
              "\n",
              "   secondary_cleaner.state.floatbank5_b_air  \\\n",
              "0                                  8.079666   \n",
              "1                                  7.984757   \n",
              "2                                  8.013877   \n",
              "3                                  7.977324   \n",
              "4                                  7.894242   \n",
              "5                                  7.965083   \n",
              "6                                  8.010890   \n",
              "7                                  7.993381   \n",
              "8                                  7.881604   \n",
              "9                                  7.979219   \n",
              "\n",
              "   secondary_cleaner.state.floatbank5_b_level  \\\n",
              "0                                 -500.470978   \n",
              "1                                 -500.582168   \n",
              "2                                 -500.517572   \n",
              "3                                 -500.255908   \n",
              "4                                 -500.356035   \n",
              "5                                 -499.364752   \n",
              "6                                 -500.002423   \n",
              "7                                 -499.794518   \n",
              "8                                 -499.729434   \n",
              "9                                 -500.146835   \n",
              "\n",
              "   secondary_cleaner.state.floatbank6_a_air  \\\n",
              "0                                 14.151341   \n",
              "1                                 13.998353   \n",
              "2                                 14.028663   \n",
              "3                                 14.005551   \n",
              "4                                 13.996647   \n",
              "5                                 14.017067   \n",
              "6                                 14.029649   \n",
              "7                                 13.984498   \n",
              "8                                 13.967135   \n",
              "9                                 13.981614   \n",
              "\n",
              "   secondary_cleaner.state.floatbank6_a_level  \n",
              "0                                 -605.841980  \n",
              "1                                 -599.787184  \n",
              "2                                 -601.427363  \n",
              "3                                 -599.996129  \n",
              "4                                 -601.496691  \n",
              "5                                 -599.707915  \n",
              "6                                 -600.905470  \n",
              "7                                 -600.411070  \n",
              "8                                 -599.061188  \n",
              "9                                 -598.070855  \n",
              "\n",
              "[10 rows x 87 columns]"
            ]
          },
          "execution_count": 3,
          "metadata": {},
          "output_type": "execute_result"
        }
      ],
      "source": [
        "data.head(10)"
      ]
    },
    {
      "cell_type": "code",
      "execution_count": null,
      "metadata": {
        "id": "QjxjpbFvYrwu",
        "outputId": "396ddc45-b52e-4118-9f13-e638d3b69a0e"
      },
      "outputs": [
        {
          "data": {
            "text/plain": [
              "date                                            0\n",
              "final.output.concentrate_ag                     1\n",
              "final.output.concentrate_pb                     1\n",
              "final.output.concentrate_sol                  211\n",
              "final.output.concentrate_au                     0\n",
              "                                             ... \n",
              "secondary_cleaner.state.floatbank5_a_level      1\n",
              "secondary_cleaner.state.floatbank5_b_air        1\n",
              "secondary_cleaner.state.floatbank5_b_level      1\n",
              "secondary_cleaner.state.floatbank6_a_air        2\n",
              "secondary_cleaner.state.floatbank6_a_level      1\n",
              "Length: 87, dtype: int64"
            ]
          },
          "execution_count": 4,
          "metadata": {},
          "output_type": "execute_result"
        }
      ],
      "source": [
        "data.isna().sum()"
      ]
    },
    {
      "cell_type": "code",
      "execution_count": null,
      "metadata": {
        "id": "WV5Rs1YXYrwu",
        "outputId": "e2ee06c2-c4f5-4ebb-95c7-1f82e2372ca1"
      },
      "outputs": [
        {
          "data": {
            "text/plain": [
              "0"
            ]
          },
          "execution_count": 5,
          "metadata": {},
          "output_type": "execute_result"
        }
      ],
      "source": [
        "data.duplicated().sum()"
      ]
    },
    {
      "cell_type": "code",
      "execution_count": null,
      "metadata": {
        "id": "Pbbo0MJ0Yrwu",
        "outputId": "fa697e2f-ccdd-43e5-ff6a-fe6ec15eae70"
      },
      "outputs": [
        {
          "data": {
            "text/html": [
              "<div>\n",
              "<style scoped>\n",
              "    .dataframe tbody tr th:only-of-type {\n",
              "        vertical-align: middle;\n",
              "    }\n",
              "\n",
              "    .dataframe tbody tr th {\n",
              "        vertical-align: top;\n",
              "    }\n",
              "\n",
              "    .dataframe thead th {\n",
              "        text-align: right;\n",
              "    }\n",
              "</style>\n",
              "<table border=\"1\" class=\"dataframe\">\n",
              "  <thead>\n",
              "    <tr style=\"text-align: right;\">\n",
              "      <th></th>\n",
              "      <th>date</th>\n",
              "      <th>final.output.concentrate_ag</th>\n",
              "      <th>final.output.concentrate_pb</th>\n",
              "      <th>final.output.concentrate_sol</th>\n",
              "      <th>final.output.concentrate_au</th>\n",
              "      <th>final.output.recovery</th>\n",
              "      <th>final.output.tail_ag</th>\n",
              "      <th>final.output.tail_pb</th>\n",
              "      <th>final.output.tail_sol</th>\n",
              "      <th>final.output.tail_au</th>\n",
              "      <th>...</th>\n",
              "      <th>secondary_cleaner.state.floatbank4_a_air</th>\n",
              "      <th>secondary_cleaner.state.floatbank4_a_level</th>\n",
              "      <th>secondary_cleaner.state.floatbank4_b_air</th>\n",
              "      <th>secondary_cleaner.state.floatbank4_b_level</th>\n",
              "      <th>secondary_cleaner.state.floatbank5_a_air</th>\n",
              "      <th>secondary_cleaner.state.floatbank5_a_level</th>\n",
              "      <th>secondary_cleaner.state.floatbank5_b_air</th>\n",
              "      <th>secondary_cleaner.state.floatbank5_b_level</th>\n",
              "      <th>secondary_cleaner.state.floatbank6_a_air</th>\n",
              "      <th>secondary_cleaner.state.floatbank6_a_level</th>\n",
              "    </tr>\n",
              "  </thead>\n",
              "  <tbody>\n",
              "    <tr>\n",
              "      <th>0</th>\n",
              "      <td>2016-01-15 00:00:00</td>\n",
              "      <td>6.055403</td>\n",
              "      <td>9.889648</td>\n",
              "      <td>5.507324</td>\n",
              "      <td>42.192020</td>\n",
              "      <td>70.541216</td>\n",
              "      <td>10.411962</td>\n",
              "      <td>0.895447</td>\n",
              "      <td>16.904297</td>\n",
              "      <td>2.143149</td>\n",
              "      <td>...</td>\n",
              "      <td>14.016835</td>\n",
              "      <td>-502.488007</td>\n",
              "      <td>12.099931</td>\n",
              "      <td>-504.715942</td>\n",
              "      <td>9.925633</td>\n",
              "      <td>-498.310211</td>\n",
              "      <td>8.079666</td>\n",
              "      <td>-500.470978</td>\n",
              "      <td>14.151341</td>\n",
              "      <td>-605.841980</td>\n",
              "    </tr>\n",
              "    <tr>\n",
              "      <th>1</th>\n",
              "      <td>2016-01-15 01:00:00</td>\n",
              "      <td>6.029369</td>\n",
              "      <td>9.968944</td>\n",
              "      <td>5.257781</td>\n",
              "      <td>42.701629</td>\n",
              "      <td>69.266198</td>\n",
              "      <td>10.462676</td>\n",
              "      <td>0.927452</td>\n",
              "      <td>16.634514</td>\n",
              "      <td>2.224930</td>\n",
              "      <td>...</td>\n",
              "      <td>13.992281</td>\n",
              "      <td>-505.503262</td>\n",
              "      <td>11.950531</td>\n",
              "      <td>-501.331529</td>\n",
              "      <td>10.039245</td>\n",
              "      <td>-500.169983</td>\n",
              "      <td>7.984757</td>\n",
              "      <td>-500.582168</td>\n",
              "      <td>13.998353</td>\n",
              "      <td>-599.787184</td>\n",
              "    </tr>\n",
              "    <tr>\n",
              "      <th>2</th>\n",
              "      <td>2016-01-15 02:00:00</td>\n",
              "      <td>6.055926</td>\n",
              "      <td>10.213995</td>\n",
              "      <td>5.383759</td>\n",
              "      <td>42.657501</td>\n",
              "      <td>68.116445</td>\n",
              "      <td>10.507046</td>\n",
              "      <td>0.953716</td>\n",
              "      <td>16.208849</td>\n",
              "      <td>2.257889</td>\n",
              "      <td>...</td>\n",
              "      <td>14.015015</td>\n",
              "      <td>-502.520901</td>\n",
              "      <td>11.912783</td>\n",
              "      <td>-501.133383</td>\n",
              "      <td>10.070913</td>\n",
              "      <td>-500.129135</td>\n",
              "      <td>8.013877</td>\n",
              "      <td>-500.517572</td>\n",
              "      <td>14.028663</td>\n",
              "      <td>-601.427363</td>\n",
              "    </tr>\n",
              "    <tr>\n",
              "      <th>3</th>\n",
              "      <td>2016-01-15 03:00:00</td>\n",
              "      <td>6.047977</td>\n",
              "      <td>9.977019</td>\n",
              "      <td>4.858634</td>\n",
              "      <td>42.689819</td>\n",
              "      <td>68.347543</td>\n",
              "      <td>10.422762</td>\n",
              "      <td>0.883763</td>\n",
              "      <td>16.532835</td>\n",
              "      <td>2.146849</td>\n",
              "      <td>...</td>\n",
              "      <td>14.036510</td>\n",
              "      <td>-500.857308</td>\n",
              "      <td>11.999550</td>\n",
              "      <td>-501.193686</td>\n",
              "      <td>9.970366</td>\n",
              "      <td>-499.201640</td>\n",
              "      <td>7.977324</td>\n",
              "      <td>-500.255908</td>\n",
              "      <td>14.005551</td>\n",
              "      <td>-599.996129</td>\n",
              "    </tr>\n",
              "    <tr>\n",
              "      <th>4</th>\n",
              "      <td>2016-01-15 04:00:00</td>\n",
              "      <td>6.148599</td>\n",
              "      <td>10.142511</td>\n",
              "      <td>4.939416</td>\n",
              "      <td>42.774141</td>\n",
              "      <td>66.927016</td>\n",
              "      <td>10.360302</td>\n",
              "      <td>0.792826</td>\n",
              "      <td>16.525686</td>\n",
              "      <td>2.055292</td>\n",
              "      <td>...</td>\n",
              "      <td>14.027298</td>\n",
              "      <td>-499.838632</td>\n",
              "      <td>11.953070</td>\n",
              "      <td>-501.053894</td>\n",
              "      <td>9.925709</td>\n",
              "      <td>-501.686727</td>\n",
              "      <td>7.894242</td>\n",
              "      <td>-500.356035</td>\n",
              "      <td>13.996647</td>\n",
              "      <td>-601.496691</td>\n",
              "    </tr>\n",
              "    <tr>\n",
              "      <th>5</th>\n",
              "      <td>2016-01-15 05:00:00</td>\n",
              "      <td>6.482968</td>\n",
              "      <td>10.049416</td>\n",
              "      <td>5.480257</td>\n",
              "      <td>41.633678</td>\n",
              "      <td>69.465816</td>\n",
              "      <td>10.182708</td>\n",
              "      <td>0.664118</td>\n",
              "      <td>16.999638</td>\n",
              "      <td>1.918586</td>\n",
              "      <td>...</td>\n",
              "      <td>13.938497</td>\n",
              "      <td>-500.970168</td>\n",
              "      <td>11.883350</td>\n",
              "      <td>-500.395298</td>\n",
              "      <td>10.054147</td>\n",
              "      <td>-496.374715</td>\n",
              "      <td>7.965083</td>\n",
              "      <td>-499.364752</td>\n",
              "      <td>14.017067</td>\n",
              "      <td>-599.707915</td>\n",
              "    </tr>\n",
              "    <tr>\n",
              "      <th>6</th>\n",
              "      <td>2016-01-15 06:00:00</td>\n",
              "      <td>6.533849</td>\n",
              "      <td>10.058141</td>\n",
              "      <td>4.569100</td>\n",
              "      <td>41.995316</td>\n",
              "      <td>69.300835</td>\n",
              "      <td>10.304598</td>\n",
              "      <td>0.807342</td>\n",
              "      <td>16.723575</td>\n",
              "      <td>2.058913</td>\n",
              "      <td>...</td>\n",
              "      <td>14.046819</td>\n",
              "      <td>-500.971133</td>\n",
              "      <td>12.091543</td>\n",
              "      <td>-500.501426</td>\n",
              "      <td>10.003247</td>\n",
              "      <td>-497.083180</td>\n",
              "      <td>8.010890</td>\n",
              "      <td>-500.002423</td>\n",
              "      <td>14.029649</td>\n",
              "      <td>-600.905470</td>\n",
              "    </tr>\n",
              "    <tr>\n",
              "      <th>7</th>\n",
              "      <td>2016-01-15 07:00:00</td>\n",
              "      <td>6.130823</td>\n",
              "      <td>9.935481</td>\n",
              "      <td>4.389813</td>\n",
              "      <td>42.452727</td>\n",
              "      <td>70.230976</td>\n",
              "      <td>10.443288</td>\n",
              "      <td>0.949346</td>\n",
              "      <td>16.689959</td>\n",
              "      <td>2.143437</td>\n",
              "      <td>...</td>\n",
              "      <td>13.974691</td>\n",
              "      <td>-501.819696</td>\n",
              "      <td>12.101324</td>\n",
              "      <td>-500.583446</td>\n",
              "      <td>9.873169</td>\n",
              "      <td>-499.171928</td>\n",
              "      <td>7.993381</td>\n",
              "      <td>-499.794518</td>\n",
              "      <td>13.984498</td>\n",
              "      <td>-600.411070</td>\n",
              "    </tr>\n",
              "    <tr>\n",
              "      <th>8</th>\n",
              "      <td>2016-01-15 08:00:00</td>\n",
              "      <td>5.834140</td>\n",
              "      <td>10.071156</td>\n",
              "      <td>4.876389</td>\n",
              "      <td>43.404078</td>\n",
              "      <td>69.688595</td>\n",
              "      <td>10.420140</td>\n",
              "      <td>1.065453</td>\n",
              "      <td>17.201948</td>\n",
              "      <td>2.209881</td>\n",
              "      <td>...</td>\n",
              "      <td>13.964030</td>\n",
              "      <td>-504.252450</td>\n",
              "      <td>12.060738</td>\n",
              "      <td>-501.174549</td>\n",
              "      <td>10.033838</td>\n",
              "      <td>-501.178133</td>\n",
              "      <td>7.881604</td>\n",
              "      <td>-499.729434</td>\n",
              "      <td>13.967135</td>\n",
              "      <td>-599.061188</td>\n",
              "    </tr>\n",
              "    <tr>\n",
              "      <th>9</th>\n",
              "      <td>2016-01-15 09:00:00</td>\n",
              "      <td>5.687063</td>\n",
              "      <td>9.980404</td>\n",
              "      <td>5.282514</td>\n",
              "      <td>43.235220</td>\n",
              "      <td>70.279619</td>\n",
              "      <td>10.487013</td>\n",
              "      <td>1.159805</td>\n",
              "      <td>17.483979</td>\n",
              "      <td>2.209593</td>\n",
              "      <td>...</td>\n",
              "      <td>13.989632</td>\n",
              "      <td>-503.195299</td>\n",
              "      <td>12.052233</td>\n",
              "      <td>-500.928547</td>\n",
              "      <td>9.962574</td>\n",
              "      <td>-502.986357</td>\n",
              "      <td>7.979219</td>\n",
              "      <td>-500.146835</td>\n",
              "      <td>13.981614</td>\n",
              "      <td>-598.070855</td>\n",
              "    </tr>\n",
              "  </tbody>\n",
              "</table>\n",
              "<p>10 rows × 87 columns</p>\n",
              "</div>"
            ],
            "text/plain": [
              "                  date  final.output.concentrate_ag  \\\n",
              "0  2016-01-15 00:00:00                     6.055403   \n",
              "1  2016-01-15 01:00:00                     6.029369   \n",
              "2  2016-01-15 02:00:00                     6.055926   \n",
              "3  2016-01-15 03:00:00                     6.047977   \n",
              "4  2016-01-15 04:00:00                     6.148599   \n",
              "5  2016-01-15 05:00:00                     6.482968   \n",
              "6  2016-01-15 06:00:00                     6.533849   \n",
              "7  2016-01-15 07:00:00                     6.130823   \n",
              "8  2016-01-15 08:00:00                     5.834140   \n",
              "9  2016-01-15 09:00:00                     5.687063   \n",
              "\n",
              "   final.output.concentrate_pb  final.output.concentrate_sol  \\\n",
              "0                     9.889648                      5.507324   \n",
              "1                     9.968944                      5.257781   \n",
              "2                    10.213995                      5.383759   \n",
              "3                     9.977019                      4.858634   \n",
              "4                    10.142511                      4.939416   \n",
              "5                    10.049416                      5.480257   \n",
              "6                    10.058141                      4.569100   \n",
              "7                     9.935481                      4.389813   \n",
              "8                    10.071156                      4.876389   \n",
              "9                     9.980404                      5.282514   \n",
              "\n",
              "   final.output.concentrate_au  final.output.recovery  final.output.tail_ag  \\\n",
              "0                    42.192020              70.541216             10.411962   \n",
              "1                    42.701629              69.266198             10.462676   \n",
              "2                    42.657501              68.116445             10.507046   \n",
              "3                    42.689819              68.347543             10.422762   \n",
              "4                    42.774141              66.927016             10.360302   \n",
              "5                    41.633678              69.465816             10.182708   \n",
              "6                    41.995316              69.300835             10.304598   \n",
              "7                    42.452727              70.230976             10.443288   \n",
              "8                    43.404078              69.688595             10.420140   \n",
              "9                    43.235220              70.279619             10.487013   \n",
              "\n",
              "   final.output.tail_pb  final.output.tail_sol  final.output.tail_au  ...  \\\n",
              "0              0.895447              16.904297              2.143149  ...   \n",
              "1              0.927452              16.634514              2.224930  ...   \n",
              "2              0.953716              16.208849              2.257889  ...   \n",
              "3              0.883763              16.532835              2.146849  ...   \n",
              "4              0.792826              16.525686              2.055292  ...   \n",
              "5              0.664118              16.999638              1.918586  ...   \n",
              "6              0.807342              16.723575              2.058913  ...   \n",
              "7              0.949346              16.689959              2.143437  ...   \n",
              "8              1.065453              17.201948              2.209881  ...   \n",
              "9              1.159805              17.483979              2.209593  ...   \n",
              "\n",
              "   secondary_cleaner.state.floatbank4_a_air  \\\n",
              "0                                 14.016835   \n",
              "1                                 13.992281   \n",
              "2                                 14.015015   \n",
              "3                                 14.036510   \n",
              "4                                 14.027298   \n",
              "5                                 13.938497   \n",
              "6                                 14.046819   \n",
              "7                                 13.974691   \n",
              "8                                 13.964030   \n",
              "9                                 13.989632   \n",
              "\n",
              "   secondary_cleaner.state.floatbank4_a_level  \\\n",
              "0                                 -502.488007   \n",
              "1                                 -505.503262   \n",
              "2                                 -502.520901   \n",
              "3                                 -500.857308   \n",
              "4                                 -499.838632   \n",
              "5                                 -500.970168   \n",
              "6                                 -500.971133   \n",
              "7                                 -501.819696   \n",
              "8                                 -504.252450   \n",
              "9                                 -503.195299   \n",
              "\n",
              "   secondary_cleaner.state.floatbank4_b_air  \\\n",
              "0                                 12.099931   \n",
              "1                                 11.950531   \n",
              "2                                 11.912783   \n",
              "3                                 11.999550   \n",
              "4                                 11.953070   \n",
              "5                                 11.883350   \n",
              "6                                 12.091543   \n",
              "7                                 12.101324   \n",
              "8                                 12.060738   \n",
              "9                                 12.052233   \n",
              "\n",
              "   secondary_cleaner.state.floatbank4_b_level  \\\n",
              "0                                 -504.715942   \n",
              "1                                 -501.331529   \n",
              "2                                 -501.133383   \n",
              "3                                 -501.193686   \n",
              "4                                 -501.053894   \n",
              "5                                 -500.395298   \n",
              "6                                 -500.501426   \n",
              "7                                 -500.583446   \n",
              "8                                 -501.174549   \n",
              "9                                 -500.928547   \n",
              "\n",
              "   secondary_cleaner.state.floatbank5_a_air  \\\n",
              "0                                  9.925633   \n",
              "1                                 10.039245   \n",
              "2                                 10.070913   \n",
              "3                                  9.970366   \n",
              "4                                  9.925709   \n",
              "5                                 10.054147   \n",
              "6                                 10.003247   \n",
              "7                                  9.873169   \n",
              "8                                 10.033838   \n",
              "9                                  9.962574   \n",
              "\n",
              "   secondary_cleaner.state.floatbank5_a_level  \\\n",
              "0                                 -498.310211   \n",
              "1                                 -500.169983   \n",
              "2                                 -500.129135   \n",
              "3                                 -499.201640   \n",
              "4                                 -501.686727   \n",
              "5                                 -496.374715   \n",
              "6                                 -497.083180   \n",
              "7                                 -499.171928   \n",
              "8                                 -501.178133   \n",
              "9                                 -502.986357   \n",
              "\n",
              "   secondary_cleaner.state.floatbank5_b_air  \\\n",
              "0                                  8.079666   \n",
              "1                                  7.984757   \n",
              "2                                  8.013877   \n",
              "3                                  7.977324   \n",
              "4                                  7.894242   \n",
              "5                                  7.965083   \n",
              "6                                  8.010890   \n",
              "7                                  7.993381   \n",
              "8                                  7.881604   \n",
              "9                                  7.979219   \n",
              "\n",
              "   secondary_cleaner.state.floatbank5_b_level  \\\n",
              "0                                 -500.470978   \n",
              "1                                 -500.582168   \n",
              "2                                 -500.517572   \n",
              "3                                 -500.255908   \n",
              "4                                 -500.356035   \n",
              "5                                 -499.364752   \n",
              "6                                 -500.002423   \n",
              "7                                 -499.794518   \n",
              "8                                 -499.729434   \n",
              "9                                 -500.146835   \n",
              "\n",
              "   secondary_cleaner.state.floatbank6_a_air  \\\n",
              "0                                 14.151341   \n",
              "1                                 13.998353   \n",
              "2                                 14.028663   \n",
              "3                                 14.005551   \n",
              "4                                 13.996647   \n",
              "5                                 14.017067   \n",
              "6                                 14.029649   \n",
              "7                                 13.984498   \n",
              "8                                 13.967135   \n",
              "9                                 13.981614   \n",
              "\n",
              "   secondary_cleaner.state.floatbank6_a_level  \n",
              "0                                 -605.841980  \n",
              "1                                 -599.787184  \n",
              "2                                 -601.427363  \n",
              "3                                 -599.996129  \n",
              "4                                 -601.496691  \n",
              "5                                 -599.707915  \n",
              "6                                 -600.905470  \n",
              "7                                 -600.411070  \n",
              "8                                 -599.061188  \n",
              "9                                 -598.070855  \n",
              "\n",
              "[10 rows x 87 columns]"
            ]
          },
          "execution_count": 6,
          "metadata": {},
          "output_type": "execute_result"
        }
      ],
      "source": [
        "train_data.head(10)"
      ]
    },
    {
      "cell_type": "code",
      "execution_count": null,
      "metadata": {
        "id": "SF_x4O_qYrwv",
        "outputId": "70645da6-5732-45dc-95ae-781f6b02aa19"
      },
      "outputs": [
        {
          "data": {
            "text/plain": [
              "date                                            0\n",
              "final.output.concentrate_ag                     1\n",
              "final.output.concentrate_pb                     1\n",
              "final.output.concentrate_sol                  211\n",
              "final.output.concentrate_au                     0\n",
              "                                             ... \n",
              "secondary_cleaner.state.floatbank5_a_level      1\n",
              "secondary_cleaner.state.floatbank5_b_air        1\n",
              "secondary_cleaner.state.floatbank5_b_level      1\n",
              "secondary_cleaner.state.floatbank6_a_air        2\n",
              "secondary_cleaner.state.floatbank6_a_level      1\n",
              "Length: 87, dtype: int64"
            ]
          },
          "execution_count": 7,
          "metadata": {},
          "output_type": "execute_result"
        }
      ],
      "source": [
        "train_data.isna().sum()"
      ]
    },
    {
      "cell_type": "code",
      "execution_count": null,
      "metadata": {
        "id": "_VBohZz5Yrwv",
        "outputId": "0ddd65a3-b726-465e-a739-2dea40b9eed5"
      },
      "outputs": [
        {
          "data": {
            "text/plain": [
              "0"
            ]
          },
          "execution_count": 8,
          "metadata": {},
          "output_type": "execute_result"
        }
      ],
      "source": [
        "train_data.duplicated().sum()"
      ]
    },
    {
      "cell_type": "code",
      "execution_count": null,
      "metadata": {
        "id": "uWdzXvmmYrwv",
        "outputId": "c0a12064-377e-49cb-b569-ca603ceb02dc"
      },
      "outputs": [
        {
          "data": {
            "text/html": [
              "<div>\n",
              "<style scoped>\n",
              "    .dataframe tbody tr th:only-of-type {\n",
              "        vertical-align: middle;\n",
              "    }\n",
              "\n",
              "    .dataframe tbody tr th {\n",
              "        vertical-align: top;\n",
              "    }\n",
              "\n",
              "    .dataframe thead th {\n",
              "        text-align: right;\n",
              "    }\n",
              "</style>\n",
              "<table border=\"1\" class=\"dataframe\">\n",
              "  <thead>\n",
              "    <tr style=\"text-align: right;\">\n",
              "      <th></th>\n",
              "      <th>date</th>\n",
              "      <th>primary_cleaner.input.sulfate</th>\n",
              "      <th>primary_cleaner.input.depressant</th>\n",
              "      <th>primary_cleaner.input.feed_size</th>\n",
              "      <th>primary_cleaner.input.xanthate</th>\n",
              "      <th>primary_cleaner.state.floatbank8_a_air</th>\n",
              "      <th>primary_cleaner.state.floatbank8_a_level</th>\n",
              "      <th>primary_cleaner.state.floatbank8_b_air</th>\n",
              "      <th>primary_cleaner.state.floatbank8_b_level</th>\n",
              "      <th>primary_cleaner.state.floatbank8_c_air</th>\n",
              "      <th>...</th>\n",
              "      <th>secondary_cleaner.state.floatbank4_a_air</th>\n",
              "      <th>secondary_cleaner.state.floatbank4_a_level</th>\n",
              "      <th>secondary_cleaner.state.floatbank4_b_air</th>\n",
              "      <th>secondary_cleaner.state.floatbank4_b_level</th>\n",
              "      <th>secondary_cleaner.state.floatbank5_a_air</th>\n",
              "      <th>secondary_cleaner.state.floatbank5_a_level</th>\n",
              "      <th>secondary_cleaner.state.floatbank5_b_air</th>\n",
              "      <th>secondary_cleaner.state.floatbank5_b_level</th>\n",
              "      <th>secondary_cleaner.state.floatbank6_a_air</th>\n",
              "      <th>secondary_cleaner.state.floatbank6_a_level</th>\n",
              "    </tr>\n",
              "  </thead>\n",
              "  <tbody>\n",
              "    <tr>\n",
              "      <th>0</th>\n",
              "      <td>2016-09-01 00:59:59</td>\n",
              "      <td>210.800909</td>\n",
              "      <td>14.993118</td>\n",
              "      <td>8.080000</td>\n",
              "      <td>1.005021</td>\n",
              "      <td>1398.981301</td>\n",
              "      <td>-500.225577</td>\n",
              "      <td>1399.144926</td>\n",
              "      <td>-499.919735</td>\n",
              "      <td>1400.102998</td>\n",
              "      <td>...</td>\n",
              "      <td>12.023554</td>\n",
              "      <td>-497.795834</td>\n",
              "      <td>8.016656</td>\n",
              "      <td>-501.289139</td>\n",
              "      <td>7.946562</td>\n",
              "      <td>-432.317850</td>\n",
              "      <td>4.872511</td>\n",
              "      <td>-500.037437</td>\n",
              "      <td>26.705889</td>\n",
              "      <td>-499.709414</td>\n",
              "    </tr>\n",
              "    <tr>\n",
              "      <th>1</th>\n",
              "      <td>2016-09-01 01:59:59</td>\n",
              "      <td>215.392455</td>\n",
              "      <td>14.987471</td>\n",
              "      <td>8.080000</td>\n",
              "      <td>0.990469</td>\n",
              "      <td>1398.777912</td>\n",
              "      <td>-500.057435</td>\n",
              "      <td>1398.055362</td>\n",
              "      <td>-499.778182</td>\n",
              "      <td>1396.151033</td>\n",
              "      <td>...</td>\n",
              "      <td>12.058140</td>\n",
              "      <td>-498.695773</td>\n",
              "      <td>8.130979</td>\n",
              "      <td>-499.634209</td>\n",
              "      <td>7.958270</td>\n",
              "      <td>-525.839648</td>\n",
              "      <td>4.878850</td>\n",
              "      <td>-500.162375</td>\n",
              "      <td>25.019940</td>\n",
              "      <td>-499.819438</td>\n",
              "    </tr>\n",
              "    <tr>\n",
              "      <th>2</th>\n",
              "      <td>2016-09-01 02:59:59</td>\n",
              "      <td>215.259946</td>\n",
              "      <td>12.884934</td>\n",
              "      <td>7.786667</td>\n",
              "      <td>0.996043</td>\n",
              "      <td>1398.493666</td>\n",
              "      <td>-500.868360</td>\n",
              "      <td>1398.860436</td>\n",
              "      <td>-499.764529</td>\n",
              "      <td>1398.075709</td>\n",
              "      <td>...</td>\n",
              "      <td>11.962366</td>\n",
              "      <td>-498.767484</td>\n",
              "      <td>8.096893</td>\n",
              "      <td>-500.827423</td>\n",
              "      <td>8.071056</td>\n",
              "      <td>-500.801673</td>\n",
              "      <td>4.905125</td>\n",
              "      <td>-499.828510</td>\n",
              "      <td>24.994862</td>\n",
              "      <td>-500.622559</td>\n",
              "    </tr>\n",
              "    <tr>\n",
              "      <th>3</th>\n",
              "      <td>2016-09-01 03:59:59</td>\n",
              "      <td>215.336236</td>\n",
              "      <td>12.006805</td>\n",
              "      <td>7.640000</td>\n",
              "      <td>0.863514</td>\n",
              "      <td>1399.618111</td>\n",
              "      <td>-498.863574</td>\n",
              "      <td>1397.440120</td>\n",
              "      <td>-499.211024</td>\n",
              "      <td>1400.129303</td>\n",
              "      <td>...</td>\n",
              "      <td>12.033091</td>\n",
              "      <td>-498.350935</td>\n",
              "      <td>8.074946</td>\n",
              "      <td>-499.474407</td>\n",
              "      <td>7.897085</td>\n",
              "      <td>-500.868509</td>\n",
              "      <td>4.931400</td>\n",
              "      <td>-499.963623</td>\n",
              "      <td>24.948919</td>\n",
              "      <td>-498.709987</td>\n",
              "    </tr>\n",
              "    <tr>\n",
              "      <th>4</th>\n",
              "      <td>2016-09-01 04:59:59</td>\n",
              "      <td>199.099327</td>\n",
              "      <td>10.682530</td>\n",
              "      <td>7.530000</td>\n",
              "      <td>0.805575</td>\n",
              "      <td>1401.268123</td>\n",
              "      <td>-500.808305</td>\n",
              "      <td>1398.128818</td>\n",
              "      <td>-499.504543</td>\n",
              "      <td>1402.172226</td>\n",
              "      <td>...</td>\n",
              "      <td>12.025367</td>\n",
              "      <td>-500.786497</td>\n",
              "      <td>8.054678</td>\n",
              "      <td>-500.397500</td>\n",
              "      <td>8.107890</td>\n",
              "      <td>-509.526725</td>\n",
              "      <td>4.957674</td>\n",
              "      <td>-500.360026</td>\n",
              "      <td>25.003331</td>\n",
              "      <td>-500.856333</td>\n",
              "    </tr>\n",
              "    <tr>\n",
              "      <th>5</th>\n",
              "      <td>2016-09-01 05:59:59</td>\n",
              "      <td>168.485085</td>\n",
              "      <td>8.817007</td>\n",
              "      <td>7.420000</td>\n",
              "      <td>0.791191</td>\n",
              "      <td>1402.826803</td>\n",
              "      <td>-499.299521</td>\n",
              "      <td>1401.511119</td>\n",
              "      <td>-499.205357</td>\n",
              "      <td>1404.088107</td>\n",
              "      <td>...</td>\n",
              "      <td>12.029797</td>\n",
              "      <td>-499.814895</td>\n",
              "      <td>8.036586</td>\n",
              "      <td>-500.371492</td>\n",
              "      <td>8.041446</td>\n",
              "      <td>-510.037054</td>\n",
              "      <td>4.983949</td>\n",
              "      <td>-499.990990</td>\n",
              "      <td>24.978973</td>\n",
              "      <td>-500.475640</td>\n",
              "    </tr>\n",
              "    <tr>\n",
              "      <th>6</th>\n",
              "      <td>2016-09-01 06:59:59</td>\n",
              "      <td>144.133440</td>\n",
              "      <td>7.924610</td>\n",
              "      <td>7.420000</td>\n",
              "      <td>0.788838</td>\n",
              "      <td>1398.252401</td>\n",
              "      <td>-499.748672</td>\n",
              "      <td>1393.255503</td>\n",
              "      <td>-499.195380</td>\n",
              "      <td>1396.738566</td>\n",
              "      <td>...</td>\n",
              "      <td>12.026296</td>\n",
              "      <td>-499.473127</td>\n",
              "      <td>8.027984</td>\n",
              "      <td>-500.983079</td>\n",
              "      <td>7.907340</td>\n",
              "      <td>-507.964971</td>\n",
              "      <td>5.010224</td>\n",
              "      <td>-500.043697</td>\n",
              "      <td>25.040709</td>\n",
              "      <td>-499.501984</td>\n",
              "    </tr>\n",
              "    <tr>\n",
              "      <th>7</th>\n",
              "      <td>2016-09-01 07:59:59</td>\n",
              "      <td>133.513396</td>\n",
              "      <td>8.055252</td>\n",
              "      <td>6.988000</td>\n",
              "      <td>0.801871</td>\n",
              "      <td>1401.669677</td>\n",
              "      <td>-501.777839</td>\n",
              "      <td>1400.754446</td>\n",
              "      <td>-502.514024</td>\n",
              "      <td>1400.465244</td>\n",
              "      <td>...</td>\n",
              "      <td>12.040911</td>\n",
              "      <td>-501.293852</td>\n",
              "      <td>8.020490</td>\n",
              "      <td>-499.185229</td>\n",
              "      <td>8.116897</td>\n",
              "      <td>-511.927561</td>\n",
              "      <td>5.036498</td>\n",
              "      <td>-500.149615</td>\n",
              "      <td>25.032580</td>\n",
              "      <td>-503.970657</td>\n",
              "    </tr>\n",
              "    <tr>\n",
              "      <th>8</th>\n",
              "      <td>2016-09-01 08:59:59</td>\n",
              "      <td>133.735356</td>\n",
              "      <td>7.999618</td>\n",
              "      <td>6.935000</td>\n",
              "      <td>0.789329</td>\n",
              "      <td>1402.358981</td>\n",
              "      <td>-499.981597</td>\n",
              "      <td>1400.985954</td>\n",
              "      <td>-496.802968</td>\n",
              "      <td>1401.168584</td>\n",
              "      <td>...</td>\n",
              "      <td>11.998184</td>\n",
              "      <td>-499.481608</td>\n",
              "      <td>8.012610</td>\n",
              "      <td>-500.896783</td>\n",
              "      <td>7.974422</td>\n",
              "      <td>-521.199104</td>\n",
              "      <td>5.061599</td>\n",
              "      <td>-499.791519</td>\n",
              "      <td>25.005063</td>\n",
              "      <td>-497.613716</td>\n",
              "    </tr>\n",
              "    <tr>\n",
              "      <th>9</th>\n",
              "      <td>2016-09-01 09:59:59</td>\n",
              "      <td>126.961069</td>\n",
              "      <td>8.017856</td>\n",
              "      <td>7.030000</td>\n",
              "      <td>0.805298</td>\n",
              "      <td>1400.816120</td>\n",
              "      <td>-499.014158</td>\n",
              "      <td>1399.975401</td>\n",
              "      <td>-499.570552</td>\n",
              "      <td>1401.871924</td>\n",
              "      <td>...</td>\n",
              "      <td>12.040725</td>\n",
              "      <td>-499.987743</td>\n",
              "      <td>7.989503</td>\n",
              "      <td>-499.750625</td>\n",
              "      <td>7.989710</td>\n",
              "      <td>-509.946737</td>\n",
              "      <td>5.068811</td>\n",
              "      <td>-499.293900</td>\n",
              "      <td>24.992741</td>\n",
              "      <td>-499.272255</td>\n",
              "    </tr>\n",
              "  </tbody>\n",
              "</table>\n",
              "<p>10 rows × 53 columns</p>\n",
              "</div>"
            ],
            "text/plain": [
              "                  date  primary_cleaner.input.sulfate  \\\n",
              "0  2016-09-01 00:59:59                     210.800909   \n",
              "1  2016-09-01 01:59:59                     215.392455   \n",
              "2  2016-09-01 02:59:59                     215.259946   \n",
              "3  2016-09-01 03:59:59                     215.336236   \n",
              "4  2016-09-01 04:59:59                     199.099327   \n",
              "5  2016-09-01 05:59:59                     168.485085   \n",
              "6  2016-09-01 06:59:59                     144.133440   \n",
              "7  2016-09-01 07:59:59                     133.513396   \n",
              "8  2016-09-01 08:59:59                     133.735356   \n",
              "9  2016-09-01 09:59:59                     126.961069   \n",
              "\n",
              "   primary_cleaner.input.depressant  primary_cleaner.input.feed_size  \\\n",
              "0                         14.993118                         8.080000   \n",
              "1                         14.987471                         8.080000   \n",
              "2                         12.884934                         7.786667   \n",
              "3                         12.006805                         7.640000   \n",
              "4                         10.682530                         7.530000   \n",
              "5                          8.817007                         7.420000   \n",
              "6                          7.924610                         7.420000   \n",
              "7                          8.055252                         6.988000   \n",
              "8                          7.999618                         6.935000   \n",
              "9                          8.017856                         7.030000   \n",
              "\n",
              "   primary_cleaner.input.xanthate  primary_cleaner.state.floatbank8_a_air  \\\n",
              "0                        1.005021                             1398.981301   \n",
              "1                        0.990469                             1398.777912   \n",
              "2                        0.996043                             1398.493666   \n",
              "3                        0.863514                             1399.618111   \n",
              "4                        0.805575                             1401.268123   \n",
              "5                        0.791191                             1402.826803   \n",
              "6                        0.788838                             1398.252401   \n",
              "7                        0.801871                             1401.669677   \n",
              "8                        0.789329                             1402.358981   \n",
              "9                        0.805298                             1400.816120   \n",
              "\n",
              "   primary_cleaner.state.floatbank8_a_level  \\\n",
              "0                               -500.225577   \n",
              "1                               -500.057435   \n",
              "2                               -500.868360   \n",
              "3                               -498.863574   \n",
              "4                               -500.808305   \n",
              "5                               -499.299521   \n",
              "6                               -499.748672   \n",
              "7                               -501.777839   \n",
              "8                               -499.981597   \n",
              "9                               -499.014158   \n",
              "\n",
              "   primary_cleaner.state.floatbank8_b_air  \\\n",
              "0                             1399.144926   \n",
              "1                             1398.055362   \n",
              "2                             1398.860436   \n",
              "3                             1397.440120   \n",
              "4                             1398.128818   \n",
              "5                             1401.511119   \n",
              "6                             1393.255503   \n",
              "7                             1400.754446   \n",
              "8                             1400.985954   \n",
              "9                             1399.975401   \n",
              "\n",
              "   primary_cleaner.state.floatbank8_b_level  \\\n",
              "0                               -499.919735   \n",
              "1                               -499.778182   \n",
              "2                               -499.764529   \n",
              "3                               -499.211024   \n",
              "4                               -499.504543   \n",
              "5                               -499.205357   \n",
              "6                               -499.195380   \n",
              "7                               -502.514024   \n",
              "8                               -496.802968   \n",
              "9                               -499.570552   \n",
              "\n",
              "   primary_cleaner.state.floatbank8_c_air  ...  \\\n",
              "0                             1400.102998  ...   \n",
              "1                             1396.151033  ...   \n",
              "2                             1398.075709  ...   \n",
              "3                             1400.129303  ...   \n",
              "4                             1402.172226  ...   \n",
              "5                             1404.088107  ...   \n",
              "6                             1396.738566  ...   \n",
              "7                             1400.465244  ...   \n",
              "8                             1401.168584  ...   \n",
              "9                             1401.871924  ...   \n",
              "\n",
              "   secondary_cleaner.state.floatbank4_a_air  \\\n",
              "0                                 12.023554   \n",
              "1                                 12.058140   \n",
              "2                                 11.962366   \n",
              "3                                 12.033091   \n",
              "4                                 12.025367   \n",
              "5                                 12.029797   \n",
              "6                                 12.026296   \n",
              "7                                 12.040911   \n",
              "8                                 11.998184   \n",
              "9                                 12.040725   \n",
              "\n",
              "   secondary_cleaner.state.floatbank4_a_level  \\\n",
              "0                                 -497.795834   \n",
              "1                                 -498.695773   \n",
              "2                                 -498.767484   \n",
              "3                                 -498.350935   \n",
              "4                                 -500.786497   \n",
              "5                                 -499.814895   \n",
              "6                                 -499.473127   \n",
              "7                                 -501.293852   \n",
              "8                                 -499.481608   \n",
              "9                                 -499.987743   \n",
              "\n",
              "   secondary_cleaner.state.floatbank4_b_air  \\\n",
              "0                                  8.016656   \n",
              "1                                  8.130979   \n",
              "2                                  8.096893   \n",
              "3                                  8.074946   \n",
              "4                                  8.054678   \n",
              "5                                  8.036586   \n",
              "6                                  8.027984   \n",
              "7                                  8.020490   \n",
              "8                                  8.012610   \n",
              "9                                  7.989503   \n",
              "\n",
              "   secondary_cleaner.state.floatbank4_b_level  \\\n",
              "0                                 -501.289139   \n",
              "1                                 -499.634209   \n",
              "2                                 -500.827423   \n",
              "3                                 -499.474407   \n",
              "4                                 -500.397500   \n",
              "5                                 -500.371492   \n",
              "6                                 -500.983079   \n",
              "7                                 -499.185229   \n",
              "8                                 -500.896783   \n",
              "9                                 -499.750625   \n",
              "\n",
              "   secondary_cleaner.state.floatbank5_a_air  \\\n",
              "0                                  7.946562   \n",
              "1                                  7.958270   \n",
              "2                                  8.071056   \n",
              "3                                  7.897085   \n",
              "4                                  8.107890   \n",
              "5                                  8.041446   \n",
              "6                                  7.907340   \n",
              "7                                  8.116897   \n",
              "8                                  7.974422   \n",
              "9                                  7.989710   \n",
              "\n",
              "   secondary_cleaner.state.floatbank5_a_level  \\\n",
              "0                                 -432.317850   \n",
              "1                                 -525.839648   \n",
              "2                                 -500.801673   \n",
              "3                                 -500.868509   \n",
              "4                                 -509.526725   \n",
              "5                                 -510.037054   \n",
              "6                                 -507.964971   \n",
              "7                                 -511.927561   \n",
              "8                                 -521.199104   \n",
              "9                                 -509.946737   \n",
              "\n",
              "   secondary_cleaner.state.floatbank5_b_air  \\\n",
              "0                                  4.872511   \n",
              "1                                  4.878850   \n",
              "2                                  4.905125   \n",
              "3                                  4.931400   \n",
              "4                                  4.957674   \n",
              "5                                  4.983949   \n",
              "6                                  5.010224   \n",
              "7                                  5.036498   \n",
              "8                                  5.061599   \n",
              "9                                  5.068811   \n",
              "\n",
              "   secondary_cleaner.state.floatbank5_b_level  \\\n",
              "0                                 -500.037437   \n",
              "1                                 -500.162375   \n",
              "2                                 -499.828510   \n",
              "3                                 -499.963623   \n",
              "4                                 -500.360026   \n",
              "5                                 -499.990990   \n",
              "6                                 -500.043697   \n",
              "7                                 -500.149615   \n",
              "8                                 -499.791519   \n",
              "9                                 -499.293900   \n",
              "\n",
              "   secondary_cleaner.state.floatbank6_a_air  \\\n",
              "0                                 26.705889   \n",
              "1                                 25.019940   \n",
              "2                                 24.994862   \n",
              "3                                 24.948919   \n",
              "4                                 25.003331   \n",
              "5                                 24.978973   \n",
              "6                                 25.040709   \n",
              "7                                 25.032580   \n",
              "8                                 25.005063   \n",
              "9                                 24.992741   \n",
              "\n",
              "   secondary_cleaner.state.floatbank6_a_level  \n",
              "0                                 -499.709414  \n",
              "1                                 -499.819438  \n",
              "2                                 -500.622559  \n",
              "3                                 -498.709987  \n",
              "4                                 -500.856333  \n",
              "5                                 -500.475640  \n",
              "6                                 -499.501984  \n",
              "7                                 -503.970657  \n",
              "8                                 -497.613716  \n",
              "9                                 -499.272255  \n",
              "\n",
              "[10 rows x 53 columns]"
            ]
          },
          "execution_count": 9,
          "metadata": {},
          "output_type": "execute_result"
        }
      ],
      "source": [
        "test_data.head(10)"
      ]
    },
    {
      "cell_type": "code",
      "execution_count": null,
      "metadata": {
        "id": "4lT2YHunYrwv",
        "outputId": "34a2d49b-b41b-4ef0-aa38-ed7ff377fbc3"
      },
      "outputs": [
        {
          "data": {
            "text/plain": [
              "date                                           0\n",
              "primary_cleaner.input.sulfate                  4\n",
              "primary_cleaner.input.depressant               5\n",
              "primary_cleaner.input.feed_size                0\n",
              "primary_cleaner.input.xanthate                 4\n",
              "primary_cleaner.state.floatbank8_a_air         0\n",
              "primary_cleaner.state.floatbank8_a_level       0\n",
              "primary_cleaner.state.floatbank8_b_air         0\n",
              "primary_cleaner.state.floatbank8_b_level       0\n",
              "primary_cleaner.state.floatbank8_c_air         0\n",
              "primary_cleaner.state.floatbank8_c_level       0\n",
              "primary_cleaner.state.floatbank8_d_air         0\n",
              "primary_cleaner.state.floatbank8_d_level       0\n",
              "rougher.input.feed_ag                          0\n",
              "rougher.input.feed_pb                          0\n",
              "rougher.input.feed_rate                        3\n",
              "rougher.input.feed_size                        1\n",
              "rougher.input.feed_sol                        21\n",
              "rougher.input.feed_au                          0\n",
              "rougher.input.floatbank10_sulfate              5\n",
              "rougher.input.floatbank10_xanthate             0\n",
              "rougher.input.floatbank11_sulfate              8\n",
              "rougher.input.floatbank11_xanthate            25\n",
              "rougher.state.floatbank10_a_air                0\n",
              "rougher.state.floatbank10_a_level              0\n",
              "rougher.state.floatbank10_b_air                0\n",
              "rougher.state.floatbank10_b_level              0\n",
              "rougher.state.floatbank10_c_air                0\n",
              "rougher.state.floatbank10_c_level              0\n",
              "rougher.state.floatbank10_d_air                0\n",
              "rougher.state.floatbank10_d_level              0\n",
              "rougher.state.floatbank10_e_air                0\n",
              "rougher.state.floatbank10_e_level              0\n",
              "rougher.state.floatbank10_f_air                0\n",
              "rougher.state.floatbank10_f_level              0\n",
              "secondary_cleaner.state.floatbank2_a_air       3\n",
              "secondary_cleaner.state.floatbank2_a_level     0\n",
              "secondary_cleaner.state.floatbank2_b_air       2\n",
              "secondary_cleaner.state.floatbank2_b_level     0\n",
              "secondary_cleaner.state.floatbank3_a_air       9\n",
              "secondary_cleaner.state.floatbank3_a_level     0\n",
              "secondary_cleaner.state.floatbank3_b_air       0\n",
              "secondary_cleaner.state.floatbank3_b_level     0\n",
              "secondary_cleaner.state.floatbank4_a_air       0\n",
              "secondary_cleaner.state.floatbank4_a_level     0\n",
              "secondary_cleaner.state.floatbank4_b_air       0\n",
              "secondary_cleaner.state.floatbank4_b_level     0\n",
              "secondary_cleaner.state.floatbank5_a_air       0\n",
              "secondary_cleaner.state.floatbank5_a_level     0\n",
              "secondary_cleaner.state.floatbank5_b_air       0\n",
              "secondary_cleaner.state.floatbank5_b_level     0\n",
              "secondary_cleaner.state.floatbank6_a_air       0\n",
              "secondary_cleaner.state.floatbank6_a_level     0\n",
              "dtype: int64"
            ]
          },
          "execution_count": 10,
          "metadata": {},
          "output_type": "execute_result"
        }
      ],
      "source": [
        "test_data.isna().sum()"
      ]
    },
    {
      "cell_type": "code",
      "execution_count": null,
      "metadata": {
        "id": "pnL2r39DYrwv",
        "outputId": "3b8f3ce4-1741-4e0c-cb15-3ea37dabdae4"
      },
      "outputs": [
        {
          "data": {
            "text/plain": [
              "0"
            ]
          },
          "execution_count": 11,
          "metadata": {},
          "output_type": "execute_result"
        }
      ],
      "source": [
        "test_data.duplicated().sum()"
      ]
    },
    {
      "cell_type": "markdown",
      "metadata": {
        "id": "CPeBhFP9Yrww"
      },
      "source": [
        "**Вывод**"
      ]
    },
    {
      "cell_type": "markdown",
      "metadata": {
        "id": "SNlzN6IbYrww"
      },
      "source": [
        "В данных отсутсвют явные дубликаты, однако были найдены пропуски, особенно в обучающей выборке. Можно предположить, что был неправильно заполнены данные или были пропуски на тапах. Полученная информация поможет нам в дальнейшем с предобработкой данных."
      ]
    },
    {
      "cell_type": "markdown",
      "metadata": {
        "id": "Ii0LHQg3Yrww"
      },
      "source": [
        "### Проверим, что эффективность обогащения рассчитана правильно"
      ]
    },
    {
      "cell_type": "markdown",
      "metadata": {
        "id": "9fG5gWbeYrww"
      },
      "source": [
        "- recovery = ((C(F-T))/(FC-T))*100%, где:\n",
        "- С - доля золота концентрате после фильтрации/очитски (rougher.output.concentrate_au)\n",
        "- F - доля золота в сырье/концентрате до флотации/очистки (rougher.input.feed_au)\n",
        "- T - доля золота в отвальных хвостах после фильтрации/очистки (rougher.output.tail_au)\n",
        "- Значение нужного целевого признака - rougher.output.recovery"
      ]
    },
    {
      "cell_type": "code",
      "execution_count": null,
      "metadata": {
        "id": "CfUje00tYrww"
      },
      "outputs": [],
      "source": [
        "C = train_data['rougher.output.concentrate_au']\n",
        "F = train_data['rougher.input.feed_au']\n",
        "T = train_data['rougher.output.tail_au']"
      ]
    },
    {
      "cell_type": "code",
      "execution_count": null,
      "metadata": {
        "id": "k3H73JvuYrww"
      },
      "outputs": [],
      "source": [
        "recovery = ((C*(F-T))/(F*(C-T)))*100"
      ]
    },
    {
      "cell_type": "code",
      "execution_count": null,
      "metadata": {
        "id": "WtY_hY6vYrww",
        "outputId": "a91cfb52-31b3-41f8-ac6e-57627a6dead2"
      },
      "outputs": [
        {
          "name": "stdout",
          "output_type": "stream",
          "text": [
            "Эффективность обогащения рассчитана правильно: 82.70450164550293\n"
          ]
        }
      ],
      "source": [
        "if recovery.mean() == train_data['rougher.output.recovery'].mean():\n",
        "    print(\"Эффективность обогащения рассчитана правильно:\", recovery.mean())\n",
        "else:\n",
        "    print(\"Эффективность обогащения рассчитана неверно\")"
      ]
    },
    {
      "cell_type": "markdown",
      "metadata": {
        "id": "xELUxianYrwx"
      },
      "source": [
        "**Найдем MAE между расчётами и значением признака**"
      ]
    },
    {
      "cell_type": "code",
      "execution_count": null,
      "metadata": {
        "id": "fs2e8GMSYrwx",
        "outputId": "f1acaa96-c870-4dcf-a09e-3d9d41d9f379"
      },
      "outputs": [
        {
          "name": "stdout",
          "output_type": "stream",
          "text": [
            "9.73512347450521e-15\n"
          ]
        }
      ],
      "source": [
        "print(mean_absolute_error(train_data['rougher.output.recovery'],recovery))"
      ]
    },
    {
      "cell_type": "markdown",
      "metadata": {
        "id": "YjRwKHLCYrwx"
      },
      "source": [
        "**Вывод**"
      ]
    },
    {
      "cell_type": "markdown",
      "metadata": {
        "id": "LCOoYagLYrwx"
      },
      "source": [
        "Как мы можеи увидеть, значение MAE очень маленькое, что означает - эффективность обогащения рассчитана правильно."
      ]
    },
    {
      "cell_type": "markdown",
      "metadata": {
        "id": "XubuCjzkYrwx"
      },
      "source": [
        "### Проанализируем признаки, недоступные в тестовой выборке"
      ]
    },
    {
      "cell_type": "markdown",
      "metadata": {
        "id": "TMVAju7oYrwx"
      },
      "source": [
        "Используем метод difference(), который возвращает установленную разницу двух наборов."
      ]
    },
    {
      "cell_type": "code",
      "execution_count": null,
      "metadata": {
        "id": "52cEtoh4Yrwx"
      },
      "outputs": [],
      "source": [
        "train = train_data.columns\n",
        "test = test_data.columns"
      ]
    },
    {
      "cell_type": "code",
      "execution_count": null,
      "metadata": {
        "scrolled": true,
        "id": "-fy79owwYrwy",
        "outputId": "7201f23f-9fd6-4965-d390-89f43e5da869"
      },
      "outputs": [
        {
          "name": "stdout",
          "output_type": "stream",
          "text": [
            "Index(['final.output.concentrate_ag', 'final.output.concentrate_au',\n",
            "       'final.output.concentrate_pb', 'final.output.concentrate_sol',\n",
            "       'final.output.recovery', 'final.output.tail_ag', 'final.output.tail_au',\n",
            "       'final.output.tail_pb', 'final.output.tail_sol',\n",
            "       'primary_cleaner.output.concentrate_ag',\n",
            "       'primary_cleaner.output.concentrate_au',\n",
            "       'primary_cleaner.output.concentrate_pb',\n",
            "       'primary_cleaner.output.concentrate_sol',\n",
            "       'primary_cleaner.output.tail_ag', 'primary_cleaner.output.tail_au',\n",
            "       'primary_cleaner.output.tail_pb', 'primary_cleaner.output.tail_sol',\n",
            "       'rougher.calculation.au_pb_ratio',\n",
            "       'rougher.calculation.floatbank10_sulfate_to_au_feed',\n",
            "       'rougher.calculation.floatbank11_sulfate_to_au_feed',\n",
            "       'rougher.calculation.sulfate_to_au_concentrate',\n",
            "       'rougher.output.concentrate_ag', 'rougher.output.concentrate_au',\n",
            "       'rougher.output.concentrate_pb', 'rougher.output.concentrate_sol',\n",
            "       'rougher.output.recovery', 'rougher.output.tail_ag',\n",
            "       'rougher.output.tail_au', 'rougher.output.tail_pb',\n",
            "       'rougher.output.tail_sol', 'secondary_cleaner.output.tail_ag',\n",
            "       'secondary_cleaner.output.tail_au', 'secondary_cleaner.output.tail_pb',\n",
            "       'secondary_cleaner.output.tail_sol'],\n",
            "      dtype='object')\n"
          ]
        }
      ],
      "source": [
        "print(train.difference(test))"
      ]
    },
    {
      "cell_type": "markdown",
      "metadata": {
        "id": "drUJcYSSYrwy"
      },
      "source": [
        "**Вывод**"
      ]
    },
    {
      "cell_type": "markdown",
      "metadata": {
        "id": "PBoD3R0EYrwy"
      },
      "source": [
        "Таким образом, мы обнаружены признаки, отсутсвующие в тестовой выборке. Это признаки, относящиеся к вторичным стадиям обогащения, параметры продуктов, расчетные характеристики."
      ]
    },
    {
      "cell_type": "markdown",
      "metadata": {
        "id": "ScHjGlLxYrwy"
      },
      "source": [
        "### Проведем предобработку данных"
      ]
    },
    {
      "cell_type": "markdown",
      "metadata": {
        "id": "R1dQ2JUgYrwy"
      },
      "source": [
        "Удалим данные, которые отсутсвуют в тестовой выборке"
      ]
    },
    {
      "cell_type": "code",
      "execution_count": null,
      "metadata": {
        "id": "Mqf6EwAbYrwz"
      },
      "outputs": [],
      "source": [
        "train_data = train_data[test_data.columns]"
      ]
    },
    {
      "cell_type": "markdown",
      "metadata": {
        "id": "z1rkxK3FYrwz"
      },
      "source": [
        "Заменим пропуски в данных"
      ]
    },
    {
      "cell_type": "code",
      "execution_count": null,
      "metadata": {
        "id": "wmLgs9pmYrwz"
      },
      "outputs": [],
      "source": [
        "train_data = train_data.fillna(method='bfill')\n",
        "test_data = test_data.fillna(method='bfill')\n",
        "data = data.fillna(method='bfill')"
      ]
    },
    {
      "cell_type": "markdown",
      "metadata": {
        "id": "Lb6_cOqUYrwz"
      },
      "source": [
        "Проверим, остались ли пропуски"
      ]
    },
    {
      "cell_type": "code",
      "execution_count": null,
      "metadata": {
        "id": "-ky0lW8KYrwz",
        "outputId": "8c475a84-fb36-4833-964b-b2a3a691c266"
      },
      "outputs": [
        {
          "data": {
            "text/plain": [
              "date                                          0\n",
              "primary_cleaner.input.sulfate                 0\n",
              "primary_cleaner.input.depressant              0\n",
              "primary_cleaner.input.feed_size               0\n",
              "primary_cleaner.input.xanthate                0\n",
              "primary_cleaner.state.floatbank8_a_air        0\n",
              "primary_cleaner.state.floatbank8_a_level      0\n",
              "primary_cleaner.state.floatbank8_b_air        0\n",
              "primary_cleaner.state.floatbank8_b_level      0\n",
              "primary_cleaner.state.floatbank8_c_air        0\n",
              "primary_cleaner.state.floatbank8_c_level      0\n",
              "primary_cleaner.state.floatbank8_d_air        0\n",
              "primary_cleaner.state.floatbank8_d_level      0\n",
              "rougher.input.feed_ag                         0\n",
              "rougher.input.feed_pb                         0\n",
              "rougher.input.feed_rate                       0\n",
              "rougher.input.feed_size                       0\n",
              "rougher.input.feed_sol                        0\n",
              "rougher.input.feed_au                         0\n",
              "rougher.input.floatbank10_sulfate             0\n",
              "rougher.input.floatbank10_xanthate            0\n",
              "rougher.input.floatbank11_sulfate             0\n",
              "rougher.input.floatbank11_xanthate            0\n",
              "rougher.state.floatbank10_a_air               0\n",
              "rougher.state.floatbank10_a_level             0\n",
              "rougher.state.floatbank10_b_air               0\n",
              "rougher.state.floatbank10_b_level             0\n",
              "rougher.state.floatbank10_c_air               0\n",
              "rougher.state.floatbank10_c_level             0\n",
              "rougher.state.floatbank10_d_air               0\n",
              "rougher.state.floatbank10_d_level             0\n",
              "rougher.state.floatbank10_e_air               0\n",
              "rougher.state.floatbank10_e_level             0\n",
              "rougher.state.floatbank10_f_air               0\n",
              "rougher.state.floatbank10_f_level             0\n",
              "secondary_cleaner.state.floatbank2_a_air      0\n",
              "secondary_cleaner.state.floatbank2_a_level    0\n",
              "secondary_cleaner.state.floatbank2_b_air      0\n",
              "secondary_cleaner.state.floatbank2_b_level    0\n",
              "secondary_cleaner.state.floatbank3_a_air      0\n",
              "secondary_cleaner.state.floatbank3_a_level    0\n",
              "secondary_cleaner.state.floatbank3_b_air      0\n",
              "secondary_cleaner.state.floatbank3_b_level    0\n",
              "secondary_cleaner.state.floatbank4_a_air      0\n",
              "secondary_cleaner.state.floatbank4_a_level    0\n",
              "secondary_cleaner.state.floatbank4_b_air      0\n",
              "secondary_cleaner.state.floatbank4_b_level    0\n",
              "secondary_cleaner.state.floatbank5_a_air      0\n",
              "secondary_cleaner.state.floatbank5_a_level    0\n",
              "secondary_cleaner.state.floatbank5_b_air      0\n",
              "secondary_cleaner.state.floatbank5_b_level    0\n",
              "secondary_cleaner.state.floatbank6_a_air      0\n",
              "secondary_cleaner.state.floatbank6_a_level    0\n",
              "dtype: int64"
            ]
          },
          "execution_count": 20,
          "metadata": {},
          "output_type": "execute_result"
        }
      ],
      "source": [
        "test_data.isna().sum()"
      ]
    },
    {
      "cell_type": "code",
      "execution_count": null,
      "metadata": {
        "id": "m7voR9jfYrw0",
        "outputId": "9c66220b-d173-4d5a-b39f-3818007d3e21"
      },
      "outputs": [
        {
          "data": {
            "text/plain": [
              "date                                          0\n",
              "primary_cleaner.input.sulfate                 0\n",
              "primary_cleaner.input.depressant              0\n",
              "primary_cleaner.input.feed_size               0\n",
              "primary_cleaner.input.xanthate                0\n",
              "primary_cleaner.state.floatbank8_a_air        0\n",
              "primary_cleaner.state.floatbank8_a_level      0\n",
              "primary_cleaner.state.floatbank8_b_air        0\n",
              "primary_cleaner.state.floatbank8_b_level      0\n",
              "primary_cleaner.state.floatbank8_c_air        0\n",
              "primary_cleaner.state.floatbank8_c_level      0\n",
              "primary_cleaner.state.floatbank8_d_air        0\n",
              "primary_cleaner.state.floatbank8_d_level      0\n",
              "rougher.input.feed_ag                         0\n",
              "rougher.input.feed_pb                         0\n",
              "rougher.input.feed_rate                       0\n",
              "rougher.input.feed_size                       0\n",
              "rougher.input.feed_sol                        0\n",
              "rougher.input.feed_au                         0\n",
              "rougher.input.floatbank10_sulfate             0\n",
              "rougher.input.floatbank10_xanthate            0\n",
              "rougher.input.floatbank11_sulfate             0\n",
              "rougher.input.floatbank11_xanthate            0\n",
              "rougher.state.floatbank10_a_air               0\n",
              "rougher.state.floatbank10_a_level             0\n",
              "rougher.state.floatbank10_b_air               0\n",
              "rougher.state.floatbank10_b_level             0\n",
              "rougher.state.floatbank10_c_air               0\n",
              "rougher.state.floatbank10_c_level             0\n",
              "rougher.state.floatbank10_d_air               0\n",
              "rougher.state.floatbank10_d_level             0\n",
              "rougher.state.floatbank10_e_air               0\n",
              "rougher.state.floatbank10_e_level             0\n",
              "rougher.state.floatbank10_f_air               0\n",
              "rougher.state.floatbank10_f_level             0\n",
              "secondary_cleaner.state.floatbank2_a_air      0\n",
              "secondary_cleaner.state.floatbank2_a_level    0\n",
              "secondary_cleaner.state.floatbank2_b_air      0\n",
              "secondary_cleaner.state.floatbank2_b_level    0\n",
              "secondary_cleaner.state.floatbank3_a_air      0\n",
              "secondary_cleaner.state.floatbank3_a_level    0\n",
              "secondary_cleaner.state.floatbank3_b_air      0\n",
              "secondary_cleaner.state.floatbank3_b_level    0\n",
              "secondary_cleaner.state.floatbank4_a_air      0\n",
              "secondary_cleaner.state.floatbank4_a_level    0\n",
              "secondary_cleaner.state.floatbank4_b_air      0\n",
              "secondary_cleaner.state.floatbank4_b_level    0\n",
              "secondary_cleaner.state.floatbank5_a_air      0\n",
              "secondary_cleaner.state.floatbank5_a_level    0\n",
              "secondary_cleaner.state.floatbank5_b_air      0\n",
              "secondary_cleaner.state.floatbank5_b_level    0\n",
              "secondary_cleaner.state.floatbank6_a_air      0\n",
              "secondary_cleaner.state.floatbank6_a_level    0\n",
              "dtype: int64"
            ]
          },
          "execution_count": 21,
          "metadata": {},
          "output_type": "execute_result"
        }
      ],
      "source": [
        "train_data.isna().sum()"
      ]
    },
    {
      "cell_type": "code",
      "execution_count": null,
      "metadata": {
        "id": "zgMtdldtYrw0",
        "outputId": "225d103f-620f-42a4-ec67-410a2acca7f5"
      },
      "outputs": [
        {
          "data": {
            "text/plain": [
              "date                                          0\n",
              "final.output.concentrate_ag                   0\n",
              "final.output.concentrate_pb                   0\n",
              "final.output.concentrate_sol                  0\n",
              "final.output.concentrate_au                   0\n",
              "                                             ..\n",
              "secondary_cleaner.state.floatbank5_a_level    0\n",
              "secondary_cleaner.state.floatbank5_b_air      0\n",
              "secondary_cleaner.state.floatbank5_b_level    0\n",
              "secondary_cleaner.state.floatbank6_a_air      0\n",
              "secondary_cleaner.state.floatbank6_a_level    0\n",
              "Length: 87, dtype: int64"
            ]
          },
          "execution_count": 22,
          "metadata": {},
          "output_type": "execute_result"
        }
      ],
      "source": [
        "data.isna().sum()"
      ]
    },
    {
      "cell_type": "markdown",
      "metadata": {
        "id": "lpF3e-yMYrw0"
      },
      "source": [
        "## Анализ данных"
      ]
    },
    {
      "cell_type": "markdown",
      "metadata": {
        "id": "KZ8DBcgpYrw0"
      },
      "source": [
        "### Посмотрим, как меняется концентрация металлов (Au, Ag, Pb) на различных этапах очистки"
      ]
    },
    {
      "cell_type": "code",
      "execution_count": null,
      "metadata": {
        "id": "kzSSk7ZrYrw0",
        "outputId": "6a03fc32-3cd2-4659-e9fb-221f65395f9c"
      },
      "outputs": [
        {
          "data": {
            "image/png": "[encoded data removed]",
            "text/plain": [
              "<Figure size 1800x1080 with 1 Axes>"
            ]
          },
          "metadata": {
            "needs_background": "light"
          },
          "output_type": "display_data"
        }
      ],
      "source": [
        "data.plot(y=['rougher.output.concentrate_ag', 'primary_cleaner.output.concentrate_ag','final.output.concentrate_ag','rougher.input.feed_ag'], kind='hist',figsize=(25,15),fontsize=20)\n",
        "plt.grid(True)\n",
        "plt.title('AG', fontsize=30)\n",
        "plt.xlabel('Количество строк данных',fontsize=20)\n",
        "plt.ylabel('Pаспределение концетрации',fontsize=20)\n",
        "plt.show()"
      ]
    },
    {
      "cell_type": "code",
      "execution_count": null,
      "metadata": {
        "id": "7Q4LpPDuYrw0",
        "outputId": "db9f977e-5a5d-403a-aba5-235b40167ded"
      },
      "outputs": [
        {
          "data": {
            "image/png": "[encoded data removed]",
            "text/plain": [
              "<Figure size 1800x1080 with 1 Axes>"
            ]
          },
          "metadata": {
            "needs_background": "light"
          },
          "output_type": "display_data"
        }
      ],
      "source": [
        "data.plot(y=['rougher.output.concentrate_au', 'primary_cleaner.output.concentrate_au','final.output.concentrate_au','rougher.input.feed_au'], kind='hist',figsize=(25,15),fontsize=20)\n",
        "plt.grid(True)\n",
        "plt.title('AU', fontsize=30)\n",
        "plt.xlabel('Количество строк данных',fontsize=20)\n",
        "plt.ylabel('Pаспределение концетрации',fontsize=20)\n",
        "plt.show()"
      ]
    },
    {
      "cell_type": "code",
      "execution_count": null,
      "metadata": {
        "id": "7lQ9fFeSYrw1",
        "outputId": "6846ca99-e792-4c4c-b8f4-d9edf20ce15d"
      },
      "outputs": [
        {
          "data": {
            "image/png": "[encoded data removed]",
            "text/plain": [
              "<Figure size 1800x1080 with 1 Axes>"
            ]
          },
          "metadata": {
            "needs_background": "light"
          },
          "output_type": "display_data"
        }
      ],
      "source": [
        "data.plot(y=['rougher.output.concentrate_pb', 'primary_cleaner.output.concentrate_pb','final.output.concentrate_pb','rougher.input.feed_pb'], kind='hist',figsize=(25,15),fontsize=20)\n",
        "plt.grid(True)\n",
        "plt.title('Pb', fontsize=30)\n",
        "plt.xlabel('Количество строк данных',fontsize=20)\n",
        "plt.ylabel('Pаспределение концетрации',fontsize=20)\n",
        "plt.show()"
      ]
    },
    {
      "cell_type": "markdown",
      "metadata": {
        "id": "_d7so1UIYrw1"
      },
      "source": [
        "**Вывод**"
      ]
    },
    {
      "cell_type": "markdown",
      "metadata": {
        "id": "OU4-9b0dYrw1"
      },
      "source": [
        "Концентрация свинца и серебра находится на всех этапах практически на одном уровне, в то время как концентрация золота возрастает на финальной отчистке."
      ]
    },
    {
      "cell_type": "markdown",
      "metadata": {
        "id": "15kwBpZ1Yrw1"
      },
      "source": [
        "### Сравним распределения размеров гранул сырья на обучающей и тестовой выборках. Если распределения сильно отличаются друг от друга, оценка модели будет неправильной"
      ]
    },
    {
      "cell_type": "code",
      "execution_count": null,
      "metadata": {
        "id": "j8YUxRkTYrw1",
        "outputId": "33da7830-58ff-400d-ca53-ed1b4f78a106"
      },
      "outputs": [
        {
          "data": {
            "text/plain": [
              "<matplotlib.legend.Legend at 0x7f8cc336f910>"
            ]
          },
          "execution_count": 26,
          "metadata": {},
          "output_type": "execute_result"
        },
        {
          "data": {
            "image/png": "[encoded data removed]",
            "text/plain": [
              "<Figure size 432x288 with 1 Axes>"
            ]
          },
          "metadata": {
            "needs_background": "light"
          },
          "output_type": "display_data"
        }
      ],
      "source": [
        "train_data['rougher.input.feed_size'].hist(bins=200, alpha=0.5, label='train')\n",
        "test_data['rougher.input.feed_size'].hist(bins=200, alpha=0.5, label='test')\n",
        "plt.xlabel('Размер частиц')\n",
        "plt.ylabel('Количество наблюдений')\n",
        "plt.legend()"
      ]
    },
    {
      "cell_type": "code",
      "execution_count": null,
      "metadata": {
        "id": "RQKhAMpcYrw2",
        "outputId": "53f59166-1347-4f78-9f6f-009af8bb3977"
      },
      "outputs": [
        {
          "data": {
            "text/plain": [
              "count    14149.000000\n",
              "mean        59.955950\n",
              "std         23.286534\n",
              "min          9.659576\n",
              "25%         48.920770\n",
              "50%         55.301596\n",
              "75%         65.941463\n",
              "max        484.967466\n",
              "Name: rougher.input.feed_size, dtype: float64"
            ]
          },
          "execution_count": 27,
          "metadata": {},
          "output_type": "execute_result"
        }
      ],
      "source": [
        "train_data['rougher.input.feed_size'].describe()"
      ]
    },
    {
      "cell_type": "code",
      "execution_count": null,
      "metadata": {
        "id": "b-90ZXC7Yrw2",
        "outputId": "17c18707-558f-435a-f88f-4fbf4827cfb5"
      },
      "outputs": [
        {
          "data": {
            "text/plain": [
              "count    5290.000000\n",
              "mean       55.952917\n",
              "std        19.080412\n",
              "min         0.046369\n",
              "25%        43.906504\n",
              "50%        50.846843\n",
              "75%        62.451165\n",
              "max       392.494040\n",
              "Name: rougher.input.feed_size, dtype: float64"
            ]
          },
          "execution_count": 28,
          "metadata": {},
          "output_type": "execute_result"
        }
      ],
      "source": [
        "test_data['rougher.input.feed_size'].describe()"
      ]
    },
    {
      "cell_type": "markdown",
      "metadata": {
        "id": "tSZ_A9zfYrw2"
      },
      "source": [
        "**Вывод**"
      ]
    },
    {
      "cell_type": "markdown",
      "metadata": {
        "id": "jybBAcrIYrw2"
      },
      "source": [
        "Исходя из анализа, можно сделать вывод, что распределения не имееют значительных различий."
      ]
    },
    {
      "cell_type": "markdown",
      "metadata": {
        "id": "x9QuzkNiYrw2"
      },
      "source": [
        "### Исследуем  суммарную концентрацию всех веществ на разных стадиях: в сырье, в черновом и финальном концентратах."
      ]
    },
    {
      "cell_type": "code",
      "execution_count": null,
      "metadata": {
        "id": "AEX7nvukYrw3",
        "outputId": "988ff675-8f29-4a6b-e087-a0dfba7bacde"
      },
      "outputs": [
        {
          "data": {
            "image/png": "[encoded data removed]",
            "text/plain": [
              "<Figure size 720x720 with 1 Axes>"
            ]
          },
          "metadata": {
            "needs_background": "light"
          },
          "output_type": "display_data"
        }
      ],
      "source": [
        "data['summary_rougher_input_feed_']= data[['rougher.input.feed_ag','rougher.input.feed_au','rougher.input.feed_pb','rougher.input.feed_sol']].sum(axis=1)\n",
        "data.plot(y = 'summary_rougher_input_feed_', kind='hist', figsize=(10,10))\n",
        "plt.show()"
      ]
    },
    {
      "cell_type": "code",
      "execution_count": null,
      "metadata": {
        "id": "hEwHps_nYrw3",
        "outputId": "8703277a-d73e-4c33-8ec5-f855d4366800"
      },
      "outputs": [
        {
          "data": {
            "image/png": "[encoded data removed]",
            "text/plain": [
              "<Figure size 720x720 with 1 Axes>"
            ]
          },
          "metadata": {
            "needs_background": "light"
          },
          "output_type": "display_data"
        }
      ],
      "source": [
        "data['summary_rougher_output_concentrate_']= data[['rougher.output.concentrate_ag','rougher.output.concentrate_au','rougher.output.concentrate_pb','rougher.output.concentrate_sol']].sum(axis=1)\n",
        "data.plot(y = 'summary_rougher_output_concentrate_', kind='hist', figsize=(10,10))\n",
        "plt.show()"
      ]
    },
    {
      "cell_type": "code",
      "execution_count": null,
      "metadata": {
        "id": "rGC4LSAuYrw3",
        "outputId": "a935550a-0f90-4873-b3fb-9d44243ae1bc"
      },
      "outputs": [
        {
          "data": {
            "image/png": "[encoded data removed]",
            "text/plain": [
              "<Figure size 720x720 with 1 Axes>"
            ]
          },
          "metadata": {
            "needs_background": "light"
          },
          "output_type": "display_data"
        }
      ],
      "source": [
        "data['summary_final_output_concentrate_']= data[['final.output.concentrate_ag','final.output.concentrate_au','final.output.concentrate_pb','final.output.concentrate_sol']].sum(axis=1)\n",
        "data.plot(y = 'summary_final_output_concentrate_', kind='hist', figsize=(10,10))\n",
        "plt.show()"
      ]
    },
    {
      "cell_type": "code",
      "execution_count": null,
      "metadata": {
        "id": "kKhvImqkYrw3"
      },
      "outputs": [],
      "source": [
        "data['summary_rougher_output_concentrate_'] = data['summary_rougher_output_concentrate_'].replace(0, np.nan)\n",
        "data['summary_rougher_output_concentrate_'].dropna(inplace=True)"
      ]
    },
    {
      "cell_type": "markdown",
      "metadata": {
        "id": "eP79F4ZWYrw3"
      },
      "source": [
        "**Необходимо удалить значения, которые являются аномалией, поскольку на черновом концентрате достаточно большой нулевой столбец.**"
      ]
    },
    {
      "cell_type": "code",
      "execution_count": null,
      "metadata": {
        "id": "SSNi0yOzYrw3"
      },
      "outputs": [],
      "source": [
        "data['summary_rougher_output_concentrate_'] = data['summary_rougher_output_concentrate_'].replace(0, np.nan)\n",
        "data['summary_rougher_output_concentrate_'].dropna(inplace=True)"
      ]
    },
    {
      "cell_type": "markdown",
      "metadata": {
        "id": "B5zORznLYrw4"
      },
      "source": [
        "## Модель"
      ]
    },
    {
      "cell_type": "markdown",
      "metadata": {
        "id": "2ZnJdg9IYrw4"
      },
      "source": [
        "### Напишем функцию для вычисления итоговой sMAPE."
      ]
    },
    {
      "cell_type": "code",
      "execution_count": null,
      "metadata": {
        "id": "S7NtniF0Yrw4"
      },
      "outputs": [],
      "source": [
        "def smape_total_func(target_rougher, prediction_rougher, target_final, prediction_final):\n",
        "    smape_rough = 1 / len(target_rougher) * np.sum(2 * np.abs(target_rougher - prediction_rougher) / (np.abs(target_rougher) + np.abs(prediction_rougher))*100)\n",
        "    smape_final = 1 / len(target_final) * np.sum(2 * np.abs(target_final - prediction_final) / (np.abs(target_final) + np.abs(prediction_final))*100)\n",
        "    smape_total = (0.25 * smape_rough) + (0.75 * smape_final)\n",
        "    return smape_total"
      ]
    },
    {
      "cell_type": "code",
      "execution_count": null,
      "metadata": {
        "id": "ys3u3OAoYrw4"
      },
      "outputs": [],
      "source": [
        "def smape_final_func(rougher, final):\n",
        "    smape_final = 0.25 * rougher + 0.75 * final\n",
        "    return smape_final"
      ]
    },
    {
      "cell_type": "code",
      "execution_count": null,
      "metadata": {
        "id": "NHnNesycYrw4"
      },
      "outputs": [],
      "source": [
        "def smape_func(target, prediction):\n",
        "    smape = 1 / len(target) * np.sum(2 * np.abs(target - prediction) / (np.abs(target) + np.abs(prediction))*100)\n",
        "    return smape"
      ]
    },
    {
      "cell_type": "markdown",
      "metadata": {
        "id": "SKZUrwB_Yrw5"
      },
      "source": [
        "### Обучим разные модели и оценим их качество кросс-валидацией."
      ]
    },
    {
      "cell_type": "code",
      "execution_count": null,
      "metadata": {
        "id": "3FzEgCdMYrw5"
      },
      "outputs": [],
      "source": [
        "test_data = test_data.merge(data[['rougher.output.recovery', 'final.output.recovery', 'date']], how = 'left', on= 'date')\n",
        "train_data = train_data.merge(data[['rougher.output.recovery', 'final.output.recovery', 'date']], how = 'left', on= 'date')"
      ]
    },
    {
      "cell_type": "code",
      "execution_count": null,
      "metadata": {
        "id": "CYoeVAzFYrw5"
      },
      "outputs": [],
      "source": [
        "test_data.drop(['date'], axis = 1 , inplace=True)\n",
        "train_data.drop(['date'], axis = 1 , inplace=True)"
      ]
    },
    {
      "cell_type": "code",
      "execution_count": null,
      "metadata": {
        "id": "th4Ky8V_Yrw5"
      },
      "outputs": [],
      "source": [
        "features_train_rougher = train_data.filter(regex='^rougher',axis=1)\n",
        "features_train_rougher = features_train_rougher.drop(['rougher.output.recovery'], axis=1)\n",
        "target_train_rougher = train_data['rougher.output.recovery']\n",
        "features_train_final = train_data.drop(['rougher.output.recovery', 'final.output.recovery'], axis=1)\n",
        "target_train_final = train_data['final.output.recovery']"
      ]
    },
    {
      "cell_type": "code",
      "execution_count": null,
      "metadata": {
        "id": "cKctkinOYrw5"
      },
      "outputs": [],
      "source": [
        "features_test_rougher = test_data.filter(regex='^rougher',axis=1)\n",
        "features_test_rougher = features_test_rougher.drop(['rougher.output.recovery'], axis=1)\n",
        "target_test_rougher = test_data['rougher.output.recovery']\n",
        "features_test_final = test_data.drop(['rougher.output.recovery', 'final.output.recovery'], axis=1)\n",
        "target_test_final = test_data['final.output.recovery']"
      ]
    },
    {
      "cell_type": "markdown",
      "metadata": {
        "id": "v1bLg7-CYrw5"
      },
      "source": [
        "**Линейная регрессия**"
      ]
    },
    {
      "cell_type": "code",
      "execution_count": null,
      "metadata": {
        "id": "OY4Ld7DEYrw6",
        "outputId": "95839af0-37cb-47ef-99f3-18a26e218a76"
      },
      "outputs": [
        {
          "name": "stdout",
          "output_type": "stream",
          "text": [
            "SMAPE: -12.087260472858052\n"
          ]
        }
      ],
      "source": [
        "model = LinearRegression()\n",
        "scorer = make_scorer(smape_func, greater_is_better=False)\n",
        "rougher_lin = cross_val_score(model, features_train_rougher, target_train_rougher, scoring=scorer, cv=5)\n",
        "final_lin =  cross_val_score(model, features_train_final, target_train_final, scoring=scorer, cv=5)\n",
        "print('SMAPE:', smape_final_func(rougher_lin, final_lin).mean())"
      ]
    },
    {
      "cell_type": "markdown",
      "metadata": {
        "id": "yx1_7YrVYrw6"
      },
      "source": [
        "**Дерево решений**"
      ]
    },
    {
      "cell_type": "code",
      "execution_count": null,
      "metadata": {
        "id": "XvrjpJChYrw6",
        "outputId": "9a309523-2d8c-4ee8-d2f8-3c400d61ff7d"
      },
      "outputs": [
        {
          "name": "stdout",
          "output_type": "stream",
          "text": [
            "Глубина: 1\n",
            "SMAPE: -11.398605696208332\n",
            "Глубина: 2\n",
            "SMAPE: -11.403011957774389\n",
            "Глубина: 3\n",
            "SMAPE: -11.216765520639076\n",
            "Глубина: 4\n",
            "SMAPE: -11.788904359134524\n",
            "Глубина: 5\n",
            "SMAPE: -11.775061129140564\n",
            "Глубина: 6\n",
            "SMAPE: -12.623266334210076\n",
            "Глубина: 7\n",
            "SMAPE: -14.678428519798725\n",
            "Глубина: 8\n",
            "SMAPE: -15.569285437120438\n",
            "Глубина: 9\n",
            "SMAPE: -17.560638989145485\n",
            "Глубина: 10\n",
            "SMAPE: -18.604460697360956\n",
            "Глубина: 11\n",
            "SMAPE: -18.44119086914546\n",
            "\n"
          ]
        }
      ],
      "source": [
        "for depth in range(1, 12):\n",
        "    model = DecisionTreeRegressor(random_state=12345, max_depth = depth)\n",
        "    scorer = make_scorer(smape_func, greater_is_better=False)\n",
        "    rougher_tree = cross_val_score(model, features_train_rougher, target_train_rougher, scoring=scorer, cv=5)\n",
        "    final_tree = cross_val_score(model, features_train_final, target_train_final, scoring=scorer, cv=5)\n",
        "    print('Глубина:',depth)\n",
        "    print('SMAPE:',smape_final_func(rougher_tree, final_tree).mean())\n",
        "print()"
      ]
    },
    {
      "cell_type": "markdown",
      "metadata": {
        "id": "yFVlPfZHYrw6"
      },
      "source": [
        "**Вывод**"
      ]
    },
    {
      "cell_type": "markdown",
      "metadata": {
        "id": "BywICtZDYrw7"
      },
      "source": [
        "Таким образом, наилучшей моделью является дерево решений, поскольку минимальное значение равняется -11,216765520639076, а в линейной регрессии -12.087260472858052"
      ]
    },
    {
      "cell_type": "markdown",
      "metadata": {
        "id": "wcOCRg52Yrw7"
      },
      "source": [
        "**Выберием лучшую модель и проверяем её на тестовой выборке**"
      ]
    },
    {
      "cell_type": "code",
      "execution_count": null,
      "metadata": {
        "id": "RTu7_fAbYrw7",
        "outputId": "3b9c8561-e833-4120-8cef-428c84e3fe42"
      },
      "outputs": [
        {
          "name": "stdout",
          "output_type": "stream",
          "text": [
            "SMAPE: 9.397953978076298\n"
          ]
        }
      ],
      "source": [
        "model_rougher = DecisionTreeRegressor(random_state=12345, max_depth = 3)\n",
        "model_final = DecisionTreeRegressor(random_state=12345, max_depth = 3)\n",
        "model_rougher.fit(features_train_rougher, target_train_rougher)\n",
        "model_final.fit(features_train_final, target_train_final)\n",
        "test_predictions_rougher = model_rougher.predict(features_test_rougher)\n",
        "test_predictions_final = model_final.predict(features_test_final)\n",
        "print('SMAPE:',smape_total_func(target_test_rougher, test_predictions_rougher, target_test_final, test_predictions_final).mean())"
      ]
    },
    {
      "cell_type": "code",
      "execution_count": null,
      "metadata": {
        "id": "y562DDY0Yrw7"
      },
      "outputs": [],
      "source": [
        "dummy_model_rougher = DummyRegressor(strategy=\"mean\")\n",
        "dummy_model_final = DummyRegressor(strategy=\"mean\")\n",
        "dummy_model_rougher.fit(features_train_rougher, target_train_rougher)\n",
        "dummy_model_final.fit(features_train_final, target_train_final)\n",
        "test_predictions_rougher = dummy_model_rougher.predict(features_test_rougher)\n",
        "test_predictions_final = dummy_model_final.predict(features_test_final)\n",
        "\n",
        "print('SMAPE:',smape_total_func(target_test_rougher, test_predictions_rougher, target_test_final, test_predictions_final).mean())"
      ]
    },
    {
      "cell_type": "markdown",
      "metadata": {
        "id": "qMS9nPeJYrw8"
      },
      "source": [
        "**Вывод**"
      ]
    },
    {
      "cell_type": "markdown",
      "metadata": {
        "id": "Y00J1i0iYrw8"
      },
      "source": [
        "Таким образом, нам удалось достичь параметра SMape меньше DummyRegressor и равняется 9.397953978076298"
      ]
    }
  ],
  "metadata": {
    "ExecuteTimeLog": [
      {
        "duration": 1108,
        "start_time": "2023-02-19T13:38:06.126Z"
      },
      {
        "duration": 3440,
        "start_time": "2023-02-19T13:41:03.896Z"
      },
      {
        "duration": 37,
        "start_time": "2023-02-19T13:42:34.746Z"
      },
      {
        "duration": 23,
        "start_time": "2023-02-19T13:42:54.054Z"
      },
      {
        "duration": 24,
        "start_time": "2023-02-19T13:43:13.889Z"
      },
      {
        "duration": 21,
        "start_time": "2023-02-19T13:43:22.199Z"
      },
      {
        "duration": 6,
        "start_time": "2023-02-19T13:46:08.184Z"
      },
      {
        "duration": 18,
        "start_time": "2023-02-19T13:46:24.779Z"
      },
      {
        "duration": 15,
        "start_time": "2023-02-19T13:46:31.768Z"
      },
      {
        "duration": 21,
        "start_time": "2023-02-19T13:46:39.556Z"
      },
      {
        "duration": 11,
        "start_time": "2023-02-19T13:46:51.432Z"
      },
      {
        "duration": 9,
        "start_time": "2023-02-19T13:47:44.559Z"
      },
      {
        "duration": 7,
        "start_time": "2023-02-19T13:48:01.052Z"
      },
      {
        "duration": 96,
        "start_time": "2023-02-19T13:48:47.974Z"
      },
      {
        "duration": 26,
        "start_time": "2023-02-19T13:49:04.787Z"
      },
      {
        "duration": 124,
        "start_time": "2023-02-19T13:49:26.162Z"
      },
      {
        "duration": 25,
        "start_time": "2023-02-19T13:49:34.265Z"
      },
      {
        "duration": 3,
        "start_time": "2023-02-19T14:02:50.754Z"
      },
      {
        "duration": 75,
        "start_time": "2023-02-19T14:03:03.480Z"
      },
      {
        "duration": 91,
        "start_time": "2023-02-19T14:03:09.547Z"
      },
      {
        "duration": 11,
        "start_time": "2023-02-19T14:03:38.592Z"
      },
      {
        "duration": 3,
        "start_time": "2023-02-19T14:03:44.054Z"
      },
      {
        "duration": 11,
        "start_time": "2023-02-19T14:03:44.802Z"
      },
      {
        "duration": 9,
        "start_time": "2023-02-19T14:04:02.878Z"
      },
      {
        "duration": 4,
        "start_time": "2023-02-19T14:04:33.588Z"
      },
      {
        "duration": 5,
        "start_time": "2023-02-19T14:04:43.567Z"
      },
      {
        "duration": 6,
        "start_time": "2023-02-19T14:05:11.451Z"
      },
      {
        "duration": 7,
        "start_time": "2023-02-19T14:05:28.424Z"
      },
      {
        "duration": 4,
        "start_time": "2023-02-19T14:05:35.167Z"
      },
      {
        "duration": 4,
        "start_time": "2023-02-19T14:06:38.149Z"
      },
      {
        "duration": 5,
        "start_time": "2023-02-19T14:07:07.960Z"
      },
      {
        "duration": 5,
        "start_time": "2023-02-19T14:08:12.852Z"
      },
      {
        "duration": 8,
        "start_time": "2023-02-19T14:12:53.734Z"
      },
      {
        "duration": 5,
        "start_time": "2023-02-19T14:13:28.963Z"
      },
      {
        "duration": 4,
        "start_time": "2023-02-19T14:13:40.962Z"
      },
      {
        "duration": 3,
        "start_time": "2023-02-19T14:13:57.690Z"
      },
      {
        "duration": 4,
        "start_time": "2023-02-19T14:14:20.515Z"
      },
      {
        "duration": 2,
        "start_time": "2023-02-19T14:21:47.000Z"
      },
      {
        "duration": 4,
        "start_time": "2023-02-19T14:22:18.295Z"
      },
      {
        "duration": 6,
        "start_time": "2023-02-19T14:26:14.065Z"
      },
      {
        "duration": 7,
        "start_time": "2023-02-19T14:28:11.736Z"
      },
      {
        "duration": 7,
        "start_time": "2023-02-19T14:28:34.266Z"
      },
      {
        "duration": 7,
        "start_time": "2023-02-19T14:28:49.917Z"
      },
      {
        "duration": 68,
        "start_time": "2023-02-19T14:37:12.083Z"
      },
      {
        "duration": 10,
        "start_time": "2023-02-19T14:44:51.910Z"
      },
      {
        "duration": 23,
        "start_time": "2023-02-19T14:45:27.979Z"
      },
      {
        "duration": 1053,
        "start_time": "2023-02-19T14:45:39.441Z"
      },
      {
        "duration": 665,
        "start_time": "2023-02-19T14:45:40.771Z"
      },
      {
        "duration": 27,
        "start_time": "2023-02-19T14:45:41.442Z"
      },
      {
        "duration": 10,
        "start_time": "2023-02-19T14:45:41.825Z"
      },
      {
        "duration": 109,
        "start_time": "2023-02-19T14:45:42.161Z"
      },
      {
        "duration": 22,
        "start_time": "2023-02-19T14:45:42.355Z"
      },
      {
        "duration": 8,
        "start_time": "2023-02-19T14:45:42.579Z"
      },
      {
        "duration": 136,
        "start_time": "2023-02-19T14:45:42.822Z"
      },
      {
        "duration": 22,
        "start_time": "2023-02-19T14:45:43.021Z"
      },
      {
        "duration": 7,
        "start_time": "2023-02-19T14:45:43.263Z"
      },
      {
        "duration": 24,
        "start_time": "2023-02-19T14:45:43.472Z"
      },
      {
        "duration": 3,
        "start_time": "2023-02-19T14:45:45.040Z"
      },
      {
        "duration": 6,
        "start_time": "2023-02-19T14:45:50.608Z"
      },
      {
        "duration": 5,
        "start_time": "2023-02-19T14:45:51.123Z"
      },
      {
        "duration": 4,
        "start_time": "2023-02-19T14:45:52.293Z"
      },
      {
        "duration": 2,
        "start_time": "2023-02-19T14:45:54.229Z"
      },
      {
        "duration": 5,
        "start_time": "2023-02-19T14:45:55.392Z"
      },
      {
        "duration": 7,
        "start_time": "2023-02-19T14:46:00.475Z"
      },
      {
        "duration": 24,
        "start_time": "2023-02-19T14:46:01.930Z"
      },
      {
        "duration": 7,
        "start_time": "2023-02-19T14:46:04.086Z"
      },
      {
        "duration": 7,
        "start_time": "2023-02-19T14:46:14.073Z"
      },
      {
        "duration": 15,
        "start_time": "2023-02-19T14:49:05.234Z"
      },
      {
        "duration": 1040,
        "start_time": "2023-02-19T14:50:56.788Z"
      },
      {
        "duration": 624,
        "start_time": "2023-02-19T14:50:57.829Z"
      },
      {
        "duration": 27,
        "start_time": "2023-02-19T14:50:58.454Z"
      },
      {
        "duration": 12,
        "start_time": "2023-02-19T14:50:58.483Z"
      },
      {
        "duration": 115,
        "start_time": "2023-02-19T14:50:58.496Z"
      },
      {
        "duration": 21,
        "start_time": "2023-02-19T14:50:58.612Z"
      },
      {
        "duration": 9,
        "start_time": "2023-02-19T14:50:58.797Z"
      },
      {
        "duration": 117,
        "start_time": "2023-02-19T14:50:59.159Z"
      },
      {
        "duration": 22,
        "start_time": "2023-02-19T14:50:59.579Z"
      },
      {
        "duration": 6,
        "start_time": "2023-02-19T14:51:00.088Z"
      },
      {
        "duration": 23,
        "start_time": "2023-02-19T14:51:00.543Z"
      },
      {
        "duration": 2,
        "start_time": "2023-02-19T14:51:03.189Z"
      },
      {
        "duration": 5,
        "start_time": "2023-02-19T14:51:03.723Z"
      },
      {
        "duration": 4,
        "start_time": "2023-02-19T14:51:04.379Z"
      },
      {
        "duration": 4,
        "start_time": "2023-02-19T14:51:05.537Z"
      },
      {
        "duration": 3,
        "start_time": "2023-02-19T14:51:13.563Z"
      },
      {
        "duration": 4,
        "start_time": "2023-02-19T14:51:14.368Z"
      },
      {
        "duration": 24,
        "start_time": "2023-02-19T14:51:56.152Z"
      },
      {
        "duration": 13,
        "start_time": "2023-02-19T14:51:57.620Z"
      },
      {
        "duration": 13,
        "start_time": "2023-02-19T14:52:50.083Z"
      },
      {
        "duration": 98,
        "start_time": "2023-02-19T15:03:02.178Z"
      },
      {
        "duration": 10,
        "start_time": "2023-02-19T15:03:10.429Z"
      },
      {
        "duration": 9,
        "start_time": "2023-02-19T15:03:15.109Z"
      },
      {
        "duration": 3,
        "start_time": "2023-02-19T15:03:25.878Z"
      },
      {
        "duration": 9,
        "start_time": "2023-02-19T15:03:26.878Z"
      },
      {
        "duration": 755,
        "start_time": "2023-02-19T15:04:24.239Z"
      },
      {
        "duration": 110,
        "start_time": "2023-02-19T15:05:00.149Z"
      },
      {
        "duration": 415,
        "start_time": "2023-02-19T15:05:15.765Z"
      },
      {
        "duration": 482,
        "start_time": "2023-02-19T15:05:29.845Z"
      },
      {
        "duration": 359,
        "start_time": "2023-02-19T15:05:44.927Z"
      },
      {
        "duration": 355,
        "start_time": "2023-02-19T15:05:59.991Z"
      },
      {
        "duration": 383,
        "start_time": "2023-02-19T15:06:20.512Z"
      },
      {
        "duration": 367,
        "start_time": "2023-02-19T15:06:52.847Z"
      },
      {
        "duration": 3,
        "start_time": "2023-02-19T15:09:11.254Z"
      },
      {
        "duration": 16,
        "start_time": "2023-02-19T15:09:40.081Z"
      },
      {
        "duration": 10,
        "start_time": "2023-02-19T15:12:38.569Z"
      },
      {
        "duration": 392,
        "start_time": "2023-02-19T15:23:14.983Z"
      },
      {
        "duration": 379,
        "start_time": "2023-02-19T15:23:52.492Z"
      },
      {
        "duration": 350,
        "start_time": "2023-02-19T15:24:08.973Z"
      },
      {
        "duration": 419,
        "start_time": "2023-02-19T15:25:34.216Z"
      },
      {
        "duration": 379,
        "start_time": "2023-02-19T15:25:39.593Z"
      },
      {
        "duration": 501,
        "start_time": "2023-02-19T15:28:06.949Z"
      },
      {
        "duration": 120,
        "start_time": "2023-02-19T15:28:10.909Z"
      },
      {
        "duration": 220,
        "start_time": "2023-02-19T15:31:33.776Z"
      },
      {
        "duration": 44,
        "start_time": "2023-02-19T15:34:33.845Z"
      },
      {
        "duration": 812,
        "start_time": "2023-02-19T15:34:46.636Z"
      },
      {
        "duration": 10,
        "start_time": "2023-02-19T15:35:35.348Z"
      },
      {
        "duration": 10,
        "start_time": "2023-02-19T15:35:50.046Z"
      },
      {
        "duration": 9,
        "start_time": "2023-02-19T15:39:56.270Z"
      },
      {
        "duration": 171,
        "start_time": "2023-02-19T15:40:15.829Z"
      },
      {
        "duration": 149,
        "start_time": "2023-02-19T15:40:18.920Z"
      },
      {
        "duration": 245,
        "start_time": "2023-02-19T15:40:21.622Z"
      },
      {
        "duration": 17,
        "start_time": "2023-02-19T15:43:34.051Z"
      },
      {
        "duration": 166,
        "start_time": "2023-02-19T15:44:11.587Z"
      },
      {
        "duration": 168,
        "start_time": "2023-02-19T15:45:55.465Z"
      },
      {
        "duration": 170,
        "start_time": "2023-02-19T15:46:50.911Z"
      },
      {
        "duration": 183,
        "start_time": "2023-02-19T15:47:01.822Z"
      },
      {
        "duration": 206,
        "start_time": "2023-02-19T15:47:45.744Z"
      },
      {
        "duration": 179,
        "start_time": "2023-02-19T15:48:21.545Z"
      },
      {
        "duration": 5,
        "start_time": "2023-02-19T15:49:12.244Z"
      },
      {
        "duration": 84,
        "start_time": "2023-02-19T15:50:07.066Z"
      },
      {
        "duration": 4,
        "start_time": "2023-02-19T16:05:41.311Z"
      },
      {
        "duration": 2,
        "start_time": "2023-02-19T16:06:44.152Z"
      },
      {
        "duration": 4,
        "start_time": "2023-02-19T16:08:25.935Z"
      },
      {
        "duration": 3,
        "start_time": "2023-02-19T16:08:26.377Z"
      },
      {
        "duration": 3,
        "start_time": "2023-02-19T16:08:26.843Z"
      },
      {
        "duration": 4,
        "start_time": "2023-02-19T16:11:20.371Z"
      },
      {
        "duration": 3,
        "start_time": "2023-02-19T16:11:20.746Z"
      },
      {
        "duration": 3,
        "start_time": "2023-02-19T16:11:21.161Z"
      },
      {
        "duration": 10,
        "start_time": "2023-02-19T16:19:36.740Z"
      },
      {
        "duration": 20,
        "start_time": "2023-02-19T16:21:05.220Z"
      },
      {
        "duration": 11,
        "start_time": "2023-02-19T16:21:16.531Z"
      },
      {
        "duration": 29,
        "start_time": "2023-02-19T16:21:49.879Z"
      },
      {
        "duration": 11,
        "start_time": "2023-02-19T16:22:01.181Z"
      },
      {
        "duration": 16,
        "start_time": "2023-02-19T16:22:25.387Z"
      },
      {
        "duration": 1372,
        "start_time": "2023-02-19T16:22:54.592Z"
      },
      {
        "duration": 649,
        "start_time": "2023-02-19T16:22:55.966Z"
      },
      {
        "duration": 25,
        "start_time": "2023-02-19T16:22:56.616Z"
      },
      {
        "duration": 10,
        "start_time": "2023-02-19T16:22:56.643Z"
      },
      {
        "duration": 99,
        "start_time": "2023-02-19T16:22:56.654Z"
      },
      {
        "duration": 21,
        "start_time": "2023-02-19T16:22:56.755Z"
      },
      {
        "duration": 19,
        "start_time": "2023-02-19T16:22:56.778Z"
      },
      {
        "duration": 140,
        "start_time": "2023-02-19T16:22:56.798Z"
      },
      {
        "duration": 27,
        "start_time": "2023-02-19T16:22:56.939Z"
      },
      {
        "duration": 7,
        "start_time": "2023-02-19T16:22:56.967Z"
      },
      {
        "duration": 33,
        "start_time": "2023-02-19T16:22:56.976Z"
      },
      {
        "duration": 2,
        "start_time": "2023-02-19T16:22:57.333Z"
      },
      {
        "duration": 6,
        "start_time": "2023-02-19T16:22:57.919Z"
      },
      {
        "duration": 5,
        "start_time": "2023-02-19T16:22:58.171Z"
      },
      {
        "duration": 4,
        "start_time": "2023-02-19T16:22:59.102Z"
      },
      {
        "duration": 3,
        "start_time": "2023-02-19T16:23:01.131Z"
      },
      {
        "duration": 4,
        "start_time": "2023-02-19T16:23:01.565Z"
      },
      {
        "duration": 7,
        "start_time": "2023-02-19T16:23:03.596Z"
      },
      {
        "duration": 25,
        "start_time": "2023-02-19T16:23:04.513Z"
      },
      {
        "duration": 6,
        "start_time": "2023-02-19T16:23:05.551Z"
      },
      {
        "duration": 9,
        "start_time": "2023-02-19T16:23:06.186Z"
      },
      {
        "duration": 9,
        "start_time": "2023-02-19T16:23:06.703Z"
      },
      {
        "duration": 365,
        "start_time": "2023-02-19T16:23:08.123Z"
      },
      {
        "duration": 350,
        "start_time": "2023-02-19T16:23:08.491Z"
      },
      {
        "duration": 405,
        "start_time": "2023-02-19T16:23:08.916Z"
      },
      {
        "duration": 582,
        "start_time": "2023-02-19T16:23:10.509Z"
      },
      {
        "duration": 862,
        "start_time": "2023-02-19T16:23:23.978Z"
      },
      {
        "duration": 8,
        "start_time": "2023-02-19T16:23:27.805Z"
      },
      {
        "duration": 9,
        "start_time": "2023-02-19T16:23:28.787Z"
      },
      {
        "duration": 184,
        "start_time": "2023-02-19T16:23:31.449Z"
      },
      {
        "duration": 181,
        "start_time": "2023-02-19T16:23:32.331Z"
      },
      {
        "duration": 192,
        "start_time": "2023-02-19T16:23:33.223Z"
      },
      {
        "duration": 5,
        "start_time": "2023-02-19T16:23:36.516Z"
      },
      {
        "duration": 6,
        "start_time": "2023-02-19T16:23:37.797Z"
      },
      {
        "duration": 4,
        "start_time": "2023-02-19T16:23:40.236Z"
      },
      {
        "duration": 2,
        "start_time": "2023-02-19T16:23:40.938Z"
      },
      {
        "duration": 3,
        "start_time": "2023-02-19T16:23:45.690Z"
      },
      {
        "duration": 125,
        "start_time": "2023-02-19T16:23:47.324Z"
      },
      {
        "duration": 15,
        "start_time": "2023-02-19T16:23:48.284Z"
      },
      {
        "duration": 9,
        "start_time": "2023-02-19T16:24:28.943Z"
      },
      {
        "duration": 14,
        "start_time": "2023-02-19T16:24:57.168Z"
      },
      {
        "duration": 35,
        "start_time": "2023-02-19T16:26:01.224Z"
      },
      {
        "duration": 13,
        "start_time": "2023-02-19T16:26:02.227Z"
      },
      {
        "duration": 8,
        "start_time": "2023-02-19T16:26:05.112Z"
      },
      {
        "duration": 7,
        "start_time": "2023-02-19T16:26:08.696Z"
      },
      {
        "duration": 15,
        "start_time": "2023-02-19T16:28:41.095Z"
      },
      {
        "duration": 14,
        "start_time": "2023-02-19T16:28:49.836Z"
      },
      {
        "duration": 12,
        "start_time": "2023-02-19T16:28:50.658Z"
      },
      {
        "duration": 9,
        "start_time": "2023-02-19T16:28:51.535Z"
      },
      {
        "duration": 8,
        "start_time": "2023-02-19T16:28:52.374Z"
      },
      {
        "duration": 10,
        "start_time": "2023-02-19T16:31:28.010Z"
      },
      {
        "duration": 2389,
        "start_time": "2023-02-19T16:32:17.160Z"
      },
      {
        "duration": 2185,
        "start_time": "2023-02-19T16:32:51.663Z"
      },
      {
        "duration": 490,
        "start_time": "2023-02-19T16:34:31.215Z"
      },
      {
        "duration": 13093,
        "start_time": "2023-02-19T16:34:41.906Z"
      },
      {
        "duration": 59728,
        "start_time": "2023-02-19T16:38:00.717Z"
      },
      {
        "duration": 11,
        "start_time": "2023-02-19T16:39:03.023Z"
      },
      {
        "duration": 39722,
        "start_time": "2023-02-19T16:39:22.226Z"
      },
      {
        "duration": 13851,
        "start_time": "2023-02-19T16:40:30.807Z"
      },
      {
        "duration": 351,
        "start_time": "2023-02-19T16:45:36.567Z"
      },
      {
        "duration": 306,
        "start_time": "2023-02-19T16:45:56.224Z"
      },
      {
        "duration": 8,
        "start_time": "2023-02-19T16:46:17.551Z"
      },
      {
        "duration": 65192,
        "start_time": "2023-02-19T16:50:17.641Z"
      },
      {
        "duration": 12255,
        "start_time": "2023-02-19T16:51:27.556Z"
      },
      {
        "duration": 116304,
        "start_time": "2023-02-19T16:52:34.665Z"
      },
      {
        "duration": 18061,
        "start_time": "2023-02-19T17:08:40.093Z"
      },
      {
        "duration": 6800,
        "start_time": "2023-02-19T17:11:01.483Z"
      },
      {
        "duration": 235124,
        "start_time": "2023-02-19T17:11:41.532Z"
      },
      {
        "duration": 189410,
        "start_time": "2023-02-19T17:17:35.464Z"
      },
      {
        "duration": 1,
        "start_time": "2023-02-19T17:20:44.876Z"
      },
      {
        "duration": 1379,
        "start_time": "2023-02-19T17:21:08.723Z"
      },
      {
        "duration": 636,
        "start_time": "2023-02-19T17:21:10.104Z"
      },
      {
        "duration": 26,
        "start_time": "2023-02-19T17:21:10.741Z"
      },
      {
        "duration": 11,
        "start_time": "2023-02-19T17:21:10.769Z"
      },
      {
        "duration": 117,
        "start_time": "2023-02-19T17:21:10.781Z"
      },
      {
        "duration": 22,
        "start_time": "2023-02-19T17:21:10.900Z"
      },
      {
        "duration": 32,
        "start_time": "2023-02-19T17:21:10.924Z"
      },
      {
        "duration": 128,
        "start_time": "2023-02-19T17:21:10.959Z"
      },
      {
        "duration": 23,
        "start_time": "2023-02-19T17:21:11.089Z"
      },
      {
        "duration": 6,
        "start_time": "2023-02-19T17:21:11.184Z"
      },
      {
        "duration": 24,
        "start_time": "2023-02-19T17:21:11.361Z"
      },
      {
        "duration": 2,
        "start_time": "2023-02-19T17:21:12.325Z"
      },
      {
        "duration": 6,
        "start_time": "2023-02-19T17:21:12.496Z"
      },
      {
        "duration": 6,
        "start_time": "2023-02-19T17:21:12.685Z"
      },
      {
        "duration": 5,
        "start_time": "2023-02-19T17:21:13.052Z"
      },
      {
        "duration": 2,
        "start_time": "2023-02-19T17:21:13.962Z"
      },
      {
        "duration": 4,
        "start_time": "2023-02-19T17:21:14.145Z"
      },
      {
        "duration": 6,
        "start_time": "2023-02-19T17:21:15.132Z"
      },
      {
        "duration": 23,
        "start_time": "2023-02-19T17:21:15.548Z"
      },
      {
        "duration": 8,
        "start_time": "2023-02-19T17:21:15.957Z"
      },
      {
        "duration": 11,
        "start_time": "2023-02-19T17:21:16.155Z"
      },
      {
        "duration": 10,
        "start_time": "2023-02-19T17:21:16.376Z"
      },
      {
        "duration": 452,
        "start_time": "2023-02-19T17:21:17.249Z"
      },
      {
        "duration": 387,
        "start_time": "2023-02-19T17:21:17.702Z"
      },
      {
        "duration": 442,
        "start_time": "2023-02-19T17:21:18.091Z"
      },
      {
        "duration": 695,
        "start_time": "2023-02-19T17:21:18.567Z"
      },
      {
        "duration": 8,
        "start_time": "2023-02-19T17:21:19.265Z"
      },
      {
        "duration": 12,
        "start_time": "2023-02-19T17:21:19.275Z"
      },
      {
        "duration": 156,
        "start_time": "2023-02-19T17:21:20.558Z"
      },
      {
        "duration": 174,
        "start_time": "2023-02-19T17:21:20.862Z"
      },
      {
        "duration": 181,
        "start_time": "2023-02-19T17:21:21.049Z"
      },
      {
        "duration": 4,
        "start_time": "2023-02-19T17:21:21.273Z"
      },
      {
        "duration": 5,
        "start_time": "2023-02-19T17:21:21.648Z"
      },
      {
        "duration": 4,
        "start_time": "2023-02-19T17:21:22.769Z"
      },
      {
        "duration": 3,
        "start_time": "2023-02-19T17:21:23.103Z"
      },
      {
        "duration": 3,
        "start_time": "2023-02-19T17:21:23.482Z"
      },
      {
        "duration": 35,
        "start_time": "2023-02-19T17:21:24.759Z"
      },
      {
        "duration": 12,
        "start_time": "2023-02-19T17:21:25.722Z"
      },
      {
        "duration": 8,
        "start_time": "2023-02-19T17:21:26.630Z"
      },
      {
        "duration": 7,
        "start_time": "2023-02-19T17:21:27.147Z"
      },
      {
        "duration": 2713,
        "start_time": "2023-02-19T17:21:28.842Z"
      },
      {
        "duration": 16946,
        "start_time": "2023-02-19T17:21:40.606Z"
      },
      {
        "duration": 313415,
        "start_time": "2023-02-19T17:24:10.816Z"
      },
      {
        "duration": 4405,
        "start_time": "2023-02-19T17:30:02.530Z"
      },
      {
        "duration": 20666,
        "start_time": "2023-02-19T17:31:06.352Z"
      },
      {
        "duration": 24065,
        "start_time": "2023-02-19T17:44:35.987Z"
      },
      {
        "duration": 302,
        "start_time": "2023-02-19T17:46:49.379Z"
      },
      {
        "duration": 8,
        "start_time": "2023-02-19T17:46:52.055Z"
      },
      {
        "duration": 2473,
        "start_time": "2023-02-19T19:23:15.982Z"
      },
      {
        "duration": 24542,
        "start_time": "2023-02-19T19:23:22.886Z"
      },
      {
        "duration": 66,
        "start_time": "2023-02-19T19:23:50.638Z"
      },
      {
        "duration": 301,
        "start_time": "2023-02-19T19:25:46.181Z"
      },
      {
        "duration": 9,
        "start_time": "2023-02-19T19:26:12.712Z"
      },
      {
        "duration": 1876,
        "start_time": "2023-02-19T19:26:25.880Z"
      },
      {
        "duration": 1895,
        "start_time": "2023-02-19T19:26:47.560Z"
      },
      {
        "duration": 23726,
        "start_time": "2023-02-19T19:26:51.335Z"
      },
      {
        "duration": 310,
        "start_time": "2023-02-19T19:27:25.805Z"
      },
      {
        "duration": 8,
        "start_time": "2023-02-19T19:27:27.356Z"
      },
      {
        "duration": 168,
        "start_time": "2023-02-19T19:36:04.263Z"
      },
      {
        "duration": 149,
        "start_time": "2023-02-19T19:36:11.386Z"
      },
      {
        "duration": 175,
        "start_time": "2023-02-19T19:37:02.430Z"
      },
      {
        "duration": 56,
        "start_time": "2023-02-20T12:34:41.779Z"
      }
    ],
    "kernelspec": {
      "display_name": "Python 3 (ipykernel)",
      "language": "python",
      "name": "python3"
    },
    "language_info": {
      "codemirror_mode": {
        "name": "ipython",
        "version": 3
      },
      "file_extension": ".py",
      "mimetype": "text/x-python",
      "name": "python",
      "nbconvert_exporter": "python",
      "pygments_lexer": "ipython3",
      "version": "3.9.5"
    },
    "toc": {
      "base_numbering": 1,
      "nav_menu": {},
      "number_sections": true,
      "sideBar": true,
      "skip_h1_title": true,
      "title_cell": "Содержание",
      "title_sidebar": "Contents",
      "toc_cell": true,
      "toc_position": {
        "height": "calc(100% - 180px)",
        "left": "10px",
        "top": "150px",
        "width": "165px"
      },
      "toc_section_display": true,
      "toc_window_display": true
    },
    "colab": {
      "provenance": []
    }
  },
  "nbformat": 4,
  "nbformat_minor": 0
}