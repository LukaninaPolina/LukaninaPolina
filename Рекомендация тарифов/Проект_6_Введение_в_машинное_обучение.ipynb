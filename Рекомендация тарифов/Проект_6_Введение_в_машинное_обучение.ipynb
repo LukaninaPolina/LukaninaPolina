{
  "cells": [
    {
      "cell_type": "markdown",
      "metadata": {
        "id": "ZOyACDQtV4ca"
      },
      "source": [
        "# Рекомендация тарифов"
      ]
    },
    {
      "cell_type": "markdown",
      "metadata": {
        "id": "ZEMfZW2-V4cb"
      },
      "source": [
        "В нашем распоряжении данные о поведении клиентов, которые уже перешли на эти тарифы (из проекта курса «Статистический анализ данных»). Нужно построить модель для задачи классификации, которая выберет подходящий тариф. Предобработка данных не понадобится — вы её уже сделали.\n",
        "\n",
        "Постройте модель с максимально большим значением *accuracy*. Чтобы сдать проект успешно, нужно довести долю правильных ответов по крайней мере до 0.75. Проверьте *accuracy* на тестовой выборке самостоятельно."
      ]
    },
    {
      "cell_type": "markdown",
      "metadata": {
        "id": "orkzMW-vV4cb"
      },
      "source": [
        "**Описание проекта**\n",
        "- Оператор мобильной связи «Мегалайн» выяснил: многие клиенты пользуются архивными тарифами. Они хотят построить систему, способную проанализировать поведение клиентов и предложить пользователям новый тариф: «Смарт» или «Ультра».\n",
        "- В вашем распоряжении данные о поведении клиентов, которые уже перешли на эти тарифы (из проекта курса «Статистический анализ данных»). Нужно построить модель для задачи классификации, которая выберет подходящий тариф. Предобработка данных не понадобится — вы её уже сделали.\n",
        "- Постройте модель с максимально большим значением accuracy. Чтобы сдать проект успешно, нужно довести долю правильных ответов по крайней мере до 0.75. Проверьте accuracy на тестовой выборке самостоятельно."
      ]
    },
    {
      "cell_type": "markdown",
      "metadata": {
        "id": "9LeZ-A0uV4cb"
      },
      "source": [
        "## Обзор данных"
      ]
    },
    {
      "cell_type": "code",
      "execution_count": null,
      "metadata": {
        "id": "ntd9zmNRV4cc"
      },
      "outputs": [],
      "source": [
        "import pandas as pd\n",
        "from sklearn.model_selection import train_test_split\n",
        "from sklearn.tree import DecisionTreeClassifier\n",
        "from sklearn.linear_model import LogisticRegression\n",
        "from sklearn.ensemble import RandomForestClassifier\n",
        "from sklearn.dummy import DummyClassifier\n"
      ]
    },
    {
      "cell_type": "code",
      "execution_count": null,
      "metadata": {
        "id": "SOU7L2leV4cc"
      },
      "outputs": [],
      "source": [
        "data = pd.read_csv('/datasets/users_behavior.csv')"
      ]
    },
    {
      "cell_type": "code",
      "execution_count": null,
      "metadata": {
        "id": "npvoCgITV4cd",
        "outputId": "96a7fc3d-5a2c-4c04-a3d3-5a31c8eed7b5"
      },
      "outputs": [
        {
          "name": "stdout",
          "output_type": "stream",
          "text": [
            "<class 'pandas.core.frame.DataFrame'>\n",
            "RangeIndex: 3214 entries, 0 to 3213\n",
            "Data columns (total 5 columns):\n",
            " #   Column    Non-Null Count  Dtype  \n",
            "---  ------    --------------  -----  \n",
            " 0   calls     3214 non-null   float64\n",
            " 1   minutes   3214 non-null   float64\n",
            " 2   messages  3214 non-null   float64\n",
            " 3   mb_used   3214 non-null   float64\n",
            " 4   is_ultra  3214 non-null   int64  \n",
            "dtypes: float64(4), int64(1)\n",
            "memory usage: 125.7 KB\n"
          ]
        }
      ],
      "source": [
        "data.info()"
      ]
    },
    {
      "cell_type": "code",
      "execution_count": null,
      "metadata": {
        "id": "_WTdSE03V4cd",
        "outputId": "f133f121-91f1-43dd-ce13-6918751238f6"
      },
      "outputs": [
        {
          "data": {
            "text/html": [
              "<div>\n",
              "<style scoped>\n",
              "    .dataframe tbody tr th:only-of-type {\n",
              "        vertical-align: middle;\n",
              "    }\n",
              "\n",
              "    .dataframe tbody tr th {\n",
              "        vertical-align: top;\n",
              "    }\n",
              "\n",
              "    .dataframe thead th {\n",
              "        text-align: right;\n",
              "    }\n",
              "</style>\n",
              "<table border=\"1\" class=\"dataframe\">\n",
              "  <thead>\n",
              "    <tr style=\"text-align: right;\">\n",
              "      <th></th>\n",
              "      <th>calls</th>\n",
              "      <th>minutes</th>\n",
              "      <th>messages</th>\n",
              "      <th>mb_used</th>\n",
              "      <th>is_ultra</th>\n",
              "    </tr>\n",
              "  </thead>\n",
              "  <tbody>\n",
              "    <tr>\n",
              "      <th>count</th>\n",
              "      <td>3214.000000</td>\n",
              "      <td>3214.000000</td>\n",
              "      <td>3214.000000</td>\n",
              "      <td>3214.000000</td>\n",
              "      <td>3214.000000</td>\n",
              "    </tr>\n",
              "    <tr>\n",
              "      <th>mean</th>\n",
              "      <td>63.038892</td>\n",
              "      <td>438.208787</td>\n",
              "      <td>38.281269</td>\n",
              "      <td>17207.673836</td>\n",
              "      <td>0.306472</td>\n",
              "    </tr>\n",
              "    <tr>\n",
              "      <th>std</th>\n",
              "      <td>33.236368</td>\n",
              "      <td>234.569872</td>\n",
              "      <td>36.148326</td>\n",
              "      <td>7570.968246</td>\n",
              "      <td>0.461100</td>\n",
              "    </tr>\n",
              "    <tr>\n",
              "      <th>min</th>\n",
              "      <td>0.000000</td>\n",
              "      <td>0.000000</td>\n",
              "      <td>0.000000</td>\n",
              "      <td>0.000000</td>\n",
              "      <td>0.000000</td>\n",
              "    </tr>\n",
              "    <tr>\n",
              "      <th>25%</th>\n",
              "      <td>40.000000</td>\n",
              "      <td>274.575000</td>\n",
              "      <td>9.000000</td>\n",
              "      <td>12491.902500</td>\n",
              "      <td>0.000000</td>\n",
              "    </tr>\n",
              "    <tr>\n",
              "      <th>50%</th>\n",
              "      <td>62.000000</td>\n",
              "      <td>430.600000</td>\n",
              "      <td>30.000000</td>\n",
              "      <td>16943.235000</td>\n",
              "      <td>0.000000</td>\n",
              "    </tr>\n",
              "    <tr>\n",
              "      <th>75%</th>\n",
              "      <td>82.000000</td>\n",
              "      <td>571.927500</td>\n",
              "      <td>57.000000</td>\n",
              "      <td>21424.700000</td>\n",
              "      <td>1.000000</td>\n",
              "    </tr>\n",
              "    <tr>\n",
              "      <th>max</th>\n",
              "      <td>244.000000</td>\n",
              "      <td>1632.060000</td>\n",
              "      <td>224.000000</td>\n",
              "      <td>49745.730000</td>\n",
              "      <td>1.000000</td>\n",
              "    </tr>\n",
              "  </tbody>\n",
              "</table>\n",
              "</div>"
            ],
            "text/plain": [
              "             calls      minutes     messages       mb_used     is_ultra\n",
              "count  3214.000000  3214.000000  3214.000000   3214.000000  3214.000000\n",
              "mean     63.038892   438.208787    38.281269  17207.673836     0.306472\n",
              "std      33.236368   234.569872    36.148326   7570.968246     0.461100\n",
              "min       0.000000     0.000000     0.000000      0.000000     0.000000\n",
              "25%      40.000000   274.575000     9.000000  12491.902500     0.000000\n",
              "50%      62.000000   430.600000    30.000000  16943.235000     0.000000\n",
              "75%      82.000000   571.927500    57.000000  21424.700000     1.000000\n",
              "max     244.000000  1632.060000   224.000000  49745.730000     1.000000"
            ]
          },
          "execution_count": 4,
          "metadata": {},
          "output_type": "execute_result"
        }
      ],
      "source": [
        "data.describe()"
      ]
    },
    {
      "cell_type": "code",
      "execution_count": null,
      "metadata": {
        "id": "l0jhwVzhV4cd",
        "outputId": "166bdeb3-0668-4c83-ab14-e6c4876fc1ae"
      },
      "outputs": [
        {
          "data": {
            "text/html": [
              "<div>\n",
              "<style scoped>\n",
              "    .dataframe tbody tr th:only-of-type {\n",
              "        vertical-align: middle;\n",
              "    }\n",
              "\n",
              "    .dataframe tbody tr th {\n",
              "        vertical-align: top;\n",
              "    }\n",
              "\n",
              "    .dataframe thead th {\n",
              "        text-align: right;\n",
              "    }\n",
              "</style>\n",
              "<table border=\"1\" class=\"dataframe\">\n",
              "  <thead>\n",
              "    <tr style=\"text-align: right;\">\n",
              "      <th></th>\n",
              "      <th>calls</th>\n",
              "      <th>minutes</th>\n",
              "      <th>messages</th>\n",
              "      <th>mb_used</th>\n",
              "      <th>is_ultra</th>\n",
              "    </tr>\n",
              "  </thead>\n",
              "  <tbody>\n",
              "    <tr>\n",
              "      <th>0</th>\n",
              "      <td>40.0</td>\n",
              "      <td>311.90</td>\n",
              "      <td>83.0</td>\n",
              "      <td>19915.42</td>\n",
              "      <td>0</td>\n",
              "    </tr>\n",
              "    <tr>\n",
              "      <th>1</th>\n",
              "      <td>85.0</td>\n",
              "      <td>516.75</td>\n",
              "      <td>56.0</td>\n",
              "      <td>22696.96</td>\n",
              "      <td>0</td>\n",
              "    </tr>\n",
              "    <tr>\n",
              "      <th>2</th>\n",
              "      <td>77.0</td>\n",
              "      <td>467.66</td>\n",
              "      <td>86.0</td>\n",
              "      <td>21060.45</td>\n",
              "      <td>0</td>\n",
              "    </tr>\n",
              "    <tr>\n",
              "      <th>3</th>\n",
              "      <td>106.0</td>\n",
              "      <td>745.53</td>\n",
              "      <td>81.0</td>\n",
              "      <td>8437.39</td>\n",
              "      <td>1</td>\n",
              "    </tr>\n",
              "    <tr>\n",
              "      <th>4</th>\n",
              "      <td>66.0</td>\n",
              "      <td>418.74</td>\n",
              "      <td>1.0</td>\n",
              "      <td>14502.75</td>\n",
              "      <td>0</td>\n",
              "    </tr>\n",
              "    <tr>\n",
              "      <th>5</th>\n",
              "      <td>58.0</td>\n",
              "      <td>344.56</td>\n",
              "      <td>21.0</td>\n",
              "      <td>15823.37</td>\n",
              "      <td>0</td>\n",
              "    </tr>\n",
              "    <tr>\n",
              "      <th>6</th>\n",
              "      <td>57.0</td>\n",
              "      <td>431.64</td>\n",
              "      <td>20.0</td>\n",
              "      <td>3738.90</td>\n",
              "      <td>1</td>\n",
              "    </tr>\n",
              "    <tr>\n",
              "      <th>7</th>\n",
              "      <td>15.0</td>\n",
              "      <td>132.40</td>\n",
              "      <td>6.0</td>\n",
              "      <td>21911.60</td>\n",
              "      <td>0</td>\n",
              "    </tr>\n",
              "    <tr>\n",
              "      <th>8</th>\n",
              "      <td>7.0</td>\n",
              "      <td>43.39</td>\n",
              "      <td>3.0</td>\n",
              "      <td>2538.67</td>\n",
              "      <td>1</td>\n",
              "    </tr>\n",
              "    <tr>\n",
              "      <th>9</th>\n",
              "      <td>90.0</td>\n",
              "      <td>665.41</td>\n",
              "      <td>38.0</td>\n",
              "      <td>17358.61</td>\n",
              "      <td>0</td>\n",
              "    </tr>\n",
              "    <tr>\n",
              "      <th>10</th>\n",
              "      <td>82.0</td>\n",
              "      <td>560.51</td>\n",
              "      <td>20.0</td>\n",
              "      <td>9619.53</td>\n",
              "      <td>1</td>\n",
              "    </tr>\n",
              "    <tr>\n",
              "      <th>11</th>\n",
              "      <td>45.0</td>\n",
              "      <td>344.32</td>\n",
              "      <td>13.0</td>\n",
              "      <td>19898.81</td>\n",
              "      <td>0</td>\n",
              "    </tr>\n",
              "    <tr>\n",
              "      <th>12</th>\n",
              "      <td>51.0</td>\n",
              "      <td>437.13</td>\n",
              "      <td>61.0</td>\n",
              "      <td>21523.58</td>\n",
              "      <td>0</td>\n",
              "    </tr>\n",
              "    <tr>\n",
              "      <th>13</th>\n",
              "      <td>56.0</td>\n",
              "      <td>433.07</td>\n",
              "      <td>16.0</td>\n",
              "      <td>16702.36</td>\n",
              "      <td>0</td>\n",
              "    </tr>\n",
              "    <tr>\n",
              "      <th>14</th>\n",
              "      <td>108.0</td>\n",
              "      <td>587.90</td>\n",
              "      <td>0.0</td>\n",
              "      <td>14406.50</td>\n",
              "      <td>1</td>\n",
              "    </tr>\n",
              "  </tbody>\n",
              "</table>\n",
              "</div>"
            ],
            "text/plain": [
              "    calls  minutes  messages   mb_used  is_ultra\n",
              "0    40.0   311.90      83.0  19915.42         0\n",
              "1    85.0   516.75      56.0  22696.96         0\n",
              "2    77.0   467.66      86.0  21060.45         0\n",
              "3   106.0   745.53      81.0   8437.39         1\n",
              "4    66.0   418.74       1.0  14502.75         0\n",
              "5    58.0   344.56      21.0  15823.37         0\n",
              "6    57.0   431.64      20.0   3738.90         1\n",
              "7    15.0   132.40       6.0  21911.60         0\n",
              "8     7.0    43.39       3.0   2538.67         1\n",
              "9    90.0   665.41      38.0  17358.61         0\n",
              "10   82.0   560.51      20.0   9619.53         1\n",
              "11   45.0   344.32      13.0  19898.81         0\n",
              "12   51.0   437.13      61.0  21523.58         0\n",
              "13   56.0   433.07      16.0  16702.36         0\n",
              "14  108.0   587.90       0.0  14406.50         1"
            ]
          },
          "execution_count": 5,
          "metadata": {},
          "output_type": "execute_result"
        }
      ],
      "source": [
        "data.head(15)"
      ]
    },
    {
      "cell_type": "code",
      "execution_count": null,
      "metadata": {
        "id": "OiEBUBR2V4ce",
        "outputId": "cd64fe2b-bbf8-436f-a456-9ecadd2aeb13"
      },
      "outputs": [
        {
          "data": {
            "text/plain": [
              "calls       0\n",
              "minutes     0\n",
              "messages    0\n",
              "mb_used     0\n",
              "is_ultra    0\n",
              "dtype: int64"
            ]
          },
          "execution_count": 6,
          "metadata": {},
          "output_type": "execute_result"
        }
      ],
      "source": [
        "data.isna().sum()"
      ]
    },
    {
      "cell_type": "code",
      "execution_count": null,
      "metadata": {
        "id": "fPP7vl-9V4ce",
        "outputId": "5e1e30c0-1b03-47ff-81d0-380d389e8f6d"
      },
      "outputs": [
        {
          "data": {
            "text/plain": [
              "0"
            ]
          },
          "execution_count": 7,
          "metadata": {},
          "output_type": "execute_result"
        }
      ],
      "source": [
        "data.duplicated().sum()"
      ]
    },
    {
      "cell_type": "markdown",
      "metadata": {
        "id": "NsRfcyhZV4ce"
      },
      "source": [
        "**Вывод**\n",
        "- Проблем в данных не было обнаружено, можно преступать к дальнейшим шагам"
      ]
    },
    {
      "cell_type": "markdown",
      "metadata": {
        "id": "G1B4MPouV4ce"
      },
      "source": [
        "Необходимо разбить данные на выборки:\n",
        "- Обучающая выборка\n",
        "- Валидационная выборка\n",
        "- Тестовая выборка"
      ]
    },
    {
      "cell_type": "code",
      "execution_count": null,
      "metadata": {
        "id": "WK-3b1mVV4ce"
      },
      "outputs": [],
      "source": [
        "data_train, data_valid = train_test_split(data, test_size=0.4, random_state=12345)"
      ]
    },
    {
      "cell_type": "code",
      "execution_count": null,
      "metadata": {
        "id": "sUVpHkNQV4cf"
      },
      "outputs": [],
      "source": [
        "data_valid, data_test = train_test_split(data_valid, test_size=0.6, random_state=12345)"
      ]
    },
    {
      "cell_type": "markdown",
      "metadata": {
        "id": "xZx_NSXbV4cf"
      },
      "source": [
        "**Выделяем целевой признак**"
      ]
    },
    {
      "cell_type": "code",
      "execution_count": null,
      "metadata": {
        "id": "rpk6XwhJV4cf"
      },
      "outputs": [],
      "source": [
        "features_train = data_train.drop(['is_ultra'], axis=1)\n",
        "target_train = data_train['is_ultra']\n",
        "\n",
        "features_valid = data_valid.drop(['is_ultra'], axis=1)\n",
        "target_valid = data_valid['is_ultra']\n",
        "\n",
        "features_test = data_test.drop(['is_ultra'], axis=1)\n",
        "target_test = data_test['is_ultra']"
      ]
    },
    {
      "cell_type": "code",
      "execution_count": null,
      "metadata": {
        "id": "fW6n4MjQV4cf",
        "outputId": "e3697eb2-661f-4e11-aff3-4786e907838d"
      },
      "outputs": [
        {
          "data": {
            "text/plain": [
              "(1928, 5)"
            ]
          },
          "execution_count": 11,
          "metadata": {},
          "output_type": "execute_result"
        }
      ],
      "source": [
        "data_train.shape"
      ]
    },
    {
      "cell_type": "code",
      "execution_count": null,
      "metadata": {
        "id": "qGt9Za-8V4cf",
        "outputId": "8c850c5f-bb94-4ff9-bd37-be7129ff3d37"
      },
      "outputs": [
        {
          "data": {
            "text/plain": [
              "(514, 5)"
            ]
          },
          "execution_count": 12,
          "metadata": {},
          "output_type": "execute_result"
        }
      ],
      "source": [
        "data_valid.shape"
      ]
    },
    {
      "cell_type": "code",
      "execution_count": null,
      "metadata": {
        "id": "_5XvAOKLV4cf",
        "outputId": "6eb84ef0-b704-497e-c83b-e8120eabac82"
      },
      "outputs": [
        {
          "data": {
            "text/plain": [
              "(772, 5)"
            ]
          },
          "execution_count": 13,
          "metadata": {},
          "output_type": "execute_result"
        }
      ],
      "source": [
        "data_test.shape"
      ]
    },
    {
      "cell_type": "markdown",
      "metadata": {
        "id": "2W7Dqsg-V4cg"
      },
      "source": [
        "## Исследуйте модели"
      ]
    },
    {
      "cell_type": "markdown",
      "metadata": {
        "id": "QAoTUfhNV4cg"
      },
      "source": [
        "**Дерево решений**"
      ]
    },
    {
      "cell_type": "code",
      "execution_count": null,
      "metadata": {
        "id": "_aU7wdKeV4cg",
        "outputId": "767fe662-651a-4a88-a613-fda7a411e6b9"
      },
      "outputs": [
        {
          "name": "stdout",
          "output_type": "stream",
          "text": [
            "Глубина дерева: 3 Лучший результат качества: 0.7996108949416343\n"
          ]
        }
      ],
      "source": [
        "best_model = None\n",
        "best_result = 0\n",
        "best_depth = 0\n",
        "\n",
        "for depth in range(1, 20):\n",
        "    model = DecisionTreeClassifier(max_depth=depth, random_state=1234)\n",
        "    model.fit(features_train , target_train)\n",
        "    result = model.score(features_valid, target_valid)\n",
        "    if result > best_result:\n",
        "        best_model = model\n",
        "        best_result = result\n",
        "        best_depth = depth\n",
        "print(\"Глубина дерева:\", best_depth, \"Лучший результат качества:\", best_result)"
      ]
    },
    {
      "cell_type": "markdown",
      "metadata": {
        "id": "t69RAFedV4cg"
      },
      "source": [
        "**Случайный лес**"
      ]
    },
    {
      "cell_type": "code",
      "execution_count": null,
      "metadata": {
        "id": "clUyfwdDV4cg",
        "outputId": "1266c25c-c831-4afd-f545-03fb4fba95fa"
      },
      "outputs": [
        {
          "name": "stdout",
          "output_type": "stream",
          "text": [
            "Количество деревьев: 10 Глубина дерева: 10 Лучший результат качества: 0.8093385214007782\n"
          ]
        }
      ],
      "source": [
        "best_model = None\n",
        "best_est = 0\n",
        "best_depth = 0\n",
        "best_result = 0\n",
        "for est in range(10, 20, 200):\n",
        "    for depth in range(10, 20, 200):\n",
        "        model = RandomForestClassifier(random_state=12345, n_estimators=est, max_depth = depth)\n",
        "        model.fit(features_train, target_train)\n",
        "        result = model.score(features_valid, target_valid)\n",
        "        if best_result < result:\n",
        "            best_model = model\n",
        "            best_est = est\n",
        "            best_depth = depth\n",
        "            best_result = result\n",
        "print('Количество деревьев:', best_est, 'Глубина дерева:', best_depth, 'Лучший результат качества:', best_result)"
      ]
    },
    {
      "cell_type": "markdown",
      "metadata": {
        "id": "rG5rwithV4ch"
      },
      "source": [
        "**Логическая регрессия**"
      ]
    },
    {
      "cell_type": "code",
      "execution_count": null,
      "metadata": {
        "id": "38pLH8KrV4ch",
        "outputId": "429d6a4f-5c74-4cc1-d54e-00f92f54c63b"
      },
      "outputs": [
        {
          "name": "stdout",
          "output_type": "stream",
          "text": [
            "Лучший результат качества: 0.7062256809338522\n"
          ]
        }
      ],
      "source": [
        "model = LogisticRegression()\n",
        "model.fit(features_train , target_train)\n",
        "result = model.score(features_valid, target_valid)\n",
        "print(\"Лучший результат качества:\", result)"
      ]
    },
    {
      "cell_type": "markdown",
      "metadata": {
        "id": "OBDDgauZV4ch"
      },
      "source": [
        "**Вывод**"
      ]
    },
    {
      "cell_type": "markdown",
      "metadata": {
        "id": "12joIeAMV4ch"
      },
      "source": [
        "После исследования модели мы получили следующие результаты:\n",
        "- Качество модели логической регрессии - 0.7062256809338522\n",
        "- Качество модели дерево решений - 0.7996108949416343\n",
        "- Качество модели случайный лес - 0.8171206225680934\n",
        "- Исходя из этого лучше выбрать модель - случаный лес"
      ]
    },
    {
      "cell_type": "markdown",
      "metadata": {
        "id": "FNoUAn3ZV4ci"
      },
      "source": [
        "## Проверьте модель на тестовой выборке"
      ]
    },
    {
      "cell_type": "code",
      "execution_count": null,
      "metadata": {
        "id": "dpTZ8S1cV4ci",
        "outputId": "da7af598-74b6-4697-e51f-4c4562c9d019"
      },
      "outputs": [
        {
          "name": "stdout",
          "output_type": "stream",
          "text": [
            "Качество: 0.7823834196891192\n"
          ]
        }
      ],
      "source": [
        "model = RandomForestClassifier(max_depth=8, n_estimators=9, random_state=1234)\n",
        "model.fit(features_train , target_train)\n",
        "accuracy = model.score(features_test, target_test)\n",
        "print(\"Качество:\", accuracy)"
      ]
    },
    {
      "cell_type": "markdown",
      "metadata": {
        "id": "JeNnNs7lV4ci"
      },
      "source": [
        "## Проверьте модели на адекватность"
      ]
    },
    {
      "cell_type": "markdown",
      "metadata": {
        "id": "BMEIDc-0V4cj"
      },
      "source": [
        "**Для проверки выбираем модель DummyClassifier со стратегией most_frequent**"
      ]
    },
    {
      "cell_type": "code",
      "execution_count": null,
      "metadata": {
        "id": "S-cr8V1LV4cj",
        "outputId": "e102e9df-d822-41f9-f6df-65314a1251e5"
      },
      "outputs": [
        {
          "data": {
            "text/plain": [
              "0.7023346303501945"
            ]
          },
          "execution_count": 18,
          "metadata": {},
          "output_type": "execute_result"
        }
      ],
      "source": [
        "dummy = DummyClassifier(strategy= \"most_frequent\", random_state=0)\n",
        "dummy.fit(features_valid, target_valid)\n",
        "dummy.score(features_valid, target_valid)"
      ]
    },
    {
      "cell_type": "markdown",
      "metadata": {
        "id": "zwNIexeJV4cj"
      },
      "source": [
        "## Итоговый вывод"
      ]
    },
    {
      "cell_type": "markdown",
      "metadata": {
        "id": "9ztyo0IeV4cj"
      },
      "source": [
        "- Проверены три модели: деревья решений, случайный лес, логистическая регрессия\n",
        "- Лучшей моделью по качеству стала модель случайный лес с гиперпараметрами max_depth=8, n_estimators=9\n",
        "- Также была проведена проверка модели случайный лес на адекватность, что подтвердилось меньшим значением модели DummyClassifier"
      ]
    }
  ],
  "metadata": {
    "ExecuteTimeLog": [
      {
        "duration": 1094,
        "start_time": "2023-01-15T12:16:02.896Z"
      },
      {
        "duration": 121,
        "start_time": "2023-01-15T12:16:18.196Z"
      },
      {
        "duration": 15,
        "start_time": "2023-01-15T12:17:06.532Z"
      },
      {
        "duration": 25,
        "start_time": "2023-01-15T12:17:24.282Z"
      },
      {
        "duration": 7,
        "start_time": "2023-01-15T12:18:24.083Z"
      },
      {
        "duration": 9,
        "start_time": "2023-01-15T12:18:24.922Z"
      },
      {
        "duration": 112,
        "start_time": "2023-01-15T12:26:15.303Z"
      },
      {
        "duration": 9,
        "start_time": "2023-01-15T12:26:33.458Z"
      },
      {
        "duration": 12,
        "start_time": "2023-01-15T12:26:40.874Z"
      },
      {
        "duration": 7,
        "start_time": "2023-01-15T12:28:31.055Z"
      },
      {
        "duration": 6,
        "start_time": "2023-01-15T12:37:14.132Z"
      },
      {
        "duration": 5,
        "start_time": "2023-01-15T12:37:14.542Z"
      },
      {
        "duration": 7,
        "start_time": "2023-01-15T12:39:13.160Z"
      },
      {
        "duration": 5,
        "start_time": "2023-01-15T12:40:20.319Z"
      },
      {
        "duration": 4,
        "start_time": "2023-01-15T12:40:20.824Z"
      },
      {
        "duration": 6,
        "start_time": "2023-01-15T12:40:21.373Z"
      },
      {
        "duration": 112,
        "start_time": "2023-01-15T12:58:53.363Z"
      },
      {
        "duration": 165,
        "start_time": "2023-01-15T13:00:16.685Z"
      },
      {
        "duration": 7,
        "start_time": "2023-01-15T13:07:22.608Z"
      },
      {
        "duration": 73,
        "start_time": "2023-01-15T13:07:22.618Z"
      },
      {
        "duration": 11,
        "start_time": "2023-01-15T13:07:22.853Z"
      },
      {
        "duration": 14,
        "start_time": "2023-01-15T13:07:23.494Z"
      },
      {
        "duration": 7,
        "start_time": "2023-01-15T13:07:26.324Z"
      },
      {
        "duration": 6,
        "start_time": "2023-01-15T13:07:26.888Z"
      },
      {
        "duration": 4,
        "start_time": "2023-01-15T13:07:29.577Z"
      },
      {
        "duration": 5,
        "start_time": "2023-01-15T13:07:29.988Z"
      },
      {
        "duration": 6,
        "start_time": "2023-01-15T13:07:31.999Z"
      },
      {
        "duration": 160,
        "start_time": "2023-01-15T13:07:35.079Z"
      },
      {
        "duration": 10,
        "start_time": "2023-01-15T13:07:37.761Z"
      },
      {
        "duration": 15022,
        "start_time": "2023-01-15T13:09:02.296Z"
      },
      {
        "duration": 163,
        "start_time": "2023-01-15T13:09:17.320Z"
      },
      {
        "duration": 6641,
        "start_time": "2023-01-15T13:09:34.968Z"
      },
      {
        "duration": 18571,
        "start_time": "2023-01-15T13:10:12.323Z"
      },
      {
        "duration": 31,
        "start_time": "2023-01-15T13:24:21.600Z"
      },
      {
        "duration": 14006,
        "start_time": "2023-01-15T13:24:42.102Z"
      },
      {
        "duration": 16702,
        "start_time": "2023-01-15T13:25:22.584Z"
      },
      {
        "duration": 46,
        "start_time": "2023-01-15T13:25:39.289Z"
      },
      {
        "duration": 152,
        "start_time": "2023-01-15T13:27:41.738Z"
      },
      {
        "duration": 151,
        "start_time": "2023-01-15T13:29:16.602Z"
      },
      {
        "duration": 165,
        "start_time": "2023-01-15T13:29:40.156Z"
      },
      {
        "duration": 17193,
        "start_time": "2023-01-15T13:30:31.732Z"
      },
      {
        "duration": 32,
        "start_time": "2023-01-15T13:31:04.130Z"
      },
      {
        "duration": 38459,
        "start_time": "2023-01-15T13:31:16.811Z"
      },
      {
        "duration": 23,
        "start_time": "2023-01-15T13:32:25.281Z"
      },
      {
        "duration": 172,
        "start_time": "2023-01-15T13:32:39.930Z"
      },
      {
        "duration": 69,
        "start_time": "2023-01-15T13:32:46.754Z"
      },
      {
        "duration": 6689,
        "start_time": "2023-01-15T13:33:01.201Z"
      },
      {
        "duration": 9495,
        "start_time": "2023-01-15T13:33:23.439Z"
      },
      {
        "duration": 9331,
        "start_time": "2023-01-15T13:33:41.311Z"
      },
      {
        "duration": 9274,
        "start_time": "2023-01-15T13:34:12.254Z"
      },
      {
        "duration": 15105,
        "start_time": "2023-01-15T13:35:14.311Z"
      },
      {
        "duration": 5,
        "start_time": "2023-01-15T13:37:25.669Z"
      },
      {
        "duration": 5,
        "start_time": "2023-01-15T13:37:26.067Z"
      },
      {
        "duration": 6,
        "start_time": "2023-01-15T13:37:30.447Z"
      },
      {
        "duration": 55,
        "start_time": "2023-01-15T13:37:31.730Z"
      },
      {
        "duration": 14704,
        "start_time": "2023-01-15T13:37:33.296Z"
      },
      {
        "duration": 31,
        "start_time": "2023-01-15T13:37:48.002Z"
      },
      {
        "duration": 4546,
        "start_time": "2023-01-15T13:41:38.825Z"
      },
      {
        "duration": 43,
        "start_time": "2023-01-15T13:46:09.251Z"
      },
      {
        "duration": 79,
        "start_time": "2023-01-15T13:46:20.463Z"
      },
      {
        "duration": 2186,
        "start_time": "2023-01-15T13:47:42.780Z"
      },
      {
        "duration": 66,
        "start_time": "2023-01-15T13:49:36.184Z"
      },
      {
        "duration": 2099,
        "start_time": "2023-01-15T13:49:50.678Z"
      },
      {
        "duration": 3038,
        "start_time": "2023-01-15T13:50:39.827Z"
      },
      {
        "duration": 15448,
        "start_time": "2023-01-15T13:52:05.661Z"
      },
      {
        "duration": 3234,
        "start_time": "2023-01-15T13:52:46.436Z"
      },
      {
        "duration": 3304,
        "start_time": "2023-01-15T13:54:39.551Z"
      },
      {
        "duration": 3324,
        "start_time": "2023-01-15T13:55:16.973Z"
      },
      {
        "duration": 14,
        "start_time": "2023-01-15T13:57:24.107Z"
      },
      {
        "duration": 102,
        "start_time": "2023-01-15T13:57:28.483Z"
      },
      {
        "duration": 25,
        "start_time": "2023-01-15T13:57:49.679Z"
      },
      {
        "duration": 10,
        "start_time": "2023-01-15T14:00:02.060Z"
      },
      {
        "duration": 3504,
        "start_time": "2023-01-15T14:00:45.882Z"
      },
      {
        "duration": 3611,
        "start_time": "2023-01-15T14:02:46.101Z"
      },
      {
        "duration": 30,
        "start_time": "2023-01-15T14:03:08.246Z"
      },
      {
        "duration": 26,
        "start_time": "2023-01-15T14:03:25.334Z"
      },
      {
        "duration": 7,
        "start_time": "2023-01-15T14:07:09.377Z"
      },
      {
        "duration": 3527,
        "start_time": "2023-01-15T14:11:58.585Z"
      },
      {
        "duration": 37,
        "start_time": "2023-01-15T14:12:12.824Z"
      },
      {
        "duration": 11951,
        "start_time": "2023-01-15T14:14:10.255Z"
      },
      {
        "duration": 7,
        "start_time": "2023-01-15T14:15:42.183Z"
      },
      {
        "duration": 3,
        "start_time": "2023-01-15T14:17:59.153Z"
      },
      {
        "duration": 30,
        "start_time": "2023-01-15T14:17:59.601Z"
      },
      {
        "duration": 12,
        "start_time": "2023-01-15T14:18:00.026Z"
      },
      {
        "duration": 12,
        "start_time": "2023-01-15T14:18:00.578Z"
      },
      {
        "duration": 7,
        "start_time": "2023-01-15T14:18:01.280Z"
      },
      {
        "duration": 7,
        "start_time": "2023-01-15T14:18:01.527Z"
      },
      {
        "duration": 6,
        "start_time": "2023-01-15T14:18:01.879Z"
      },
      {
        "duration": 5,
        "start_time": "2023-01-15T14:18:02.068Z"
      },
      {
        "duration": 7,
        "start_time": "2023-01-15T14:18:02.382Z"
      },
      {
        "duration": 87,
        "start_time": "2023-01-15T14:18:02.892Z"
      },
      {
        "duration": 11498,
        "start_time": "2023-01-15T14:18:03.235Z"
      },
      {
        "duration": 26,
        "start_time": "2023-01-15T14:18:14.735Z"
      },
      {
        "duration": 11,
        "start_time": "2023-01-15T14:18:14.763Z"
      },
      {
        "duration": 31,
        "start_time": "2023-01-15T14:18:21.782Z"
      },
      {
        "duration": 33,
        "start_time": "2023-01-15T14:18:22.183Z"
      },
      {
        "duration": 8,
        "start_time": "2023-01-15T14:18:26.759Z"
      },
      {
        "duration": 172,
        "start_time": "2023-01-15T14:19:23.216Z"
      },
      {
        "duration": 30920,
        "start_time": "2023-01-15T14:19:29.584Z"
      },
      {
        "duration": 32,
        "start_time": "2023-01-15T14:20:00.703Z"
      },
      {
        "duration": 21,
        "start_time": "2023-01-15T14:20:47.862Z"
      },
      {
        "duration": 11,
        "start_time": "2023-01-15T17:50:52.923Z"
      },
      {
        "duration": 20,
        "start_time": "2023-01-15T17:52:25.537Z"
      },
      {
        "duration": 1709,
        "start_time": "2023-01-15T17:54:03.293Z"
      },
      {
        "duration": 1716,
        "start_time": "2023-01-15T17:54:38.615Z"
      },
      {
        "duration": 1686,
        "start_time": "2023-01-15T17:54:50.317Z"
      },
      {
        "duration": 1620,
        "start_time": "2023-01-15T17:59:00.767Z"
      },
      {
        "duration": 14,
        "start_time": "2023-01-15T18:01:08.967Z"
      },
      {
        "duration": 20,
        "start_time": "2023-01-15T18:01:22.095Z"
      },
      {
        "duration": 153,
        "start_time": "2023-01-15T18:01:53.959Z"
      },
      {
        "duration": 142,
        "start_time": "2023-01-15T18:02:01.826Z"
      },
      {
        "duration": 156,
        "start_time": "2023-01-15T18:02:05.853Z"
      },
      {
        "duration": 144,
        "start_time": "2023-01-15T18:02:10.019Z"
      },
      {
        "duration": 34,
        "start_time": "2023-01-15T18:02:50.996Z"
      },
      {
        "duration": 9,
        "start_time": "2023-01-15T18:02:53.717Z"
      },
      {
        "duration": 51,
        "start_time": "2023-01-15T18:04:15.128Z"
      },
      {
        "duration": 52,
        "start_time": "2023-01-15T18:12:03.437Z"
      },
      {
        "duration": 7,
        "start_time": "2023-01-15T18:12:14.808Z"
      },
      {
        "duration": 44,
        "start_time": "2023-01-15T18:13:07.868Z"
      },
      {
        "duration": 34,
        "start_time": "2023-01-15T18:14:05.905Z"
      },
      {
        "duration": 5292,
        "start_time": "2023-01-15T18:42:35.021Z"
      },
      {
        "duration": 197,
        "start_time": "2023-01-15T18:42:40.316Z"
      },
      {
        "duration": 100,
        "start_time": "2023-01-15T18:42:40.521Z"
      },
      {
        "duration": 292,
        "start_time": "2023-01-15T18:42:40.623Z"
      },
      {
        "duration": 97,
        "start_time": "2023-01-15T18:42:40.917Z"
      },
      {
        "duration": 95,
        "start_time": "2023-01-15T18:42:41.019Z"
      },
      {
        "duration": 196,
        "start_time": "2023-01-15T18:42:41.116Z"
      },
      {
        "duration": 6,
        "start_time": "2023-01-15T18:42:41.314Z"
      },
      {
        "duration": 96,
        "start_time": "2023-01-15T18:42:41.327Z"
      },
      {
        "duration": 191,
        "start_time": "2023-01-15T18:42:41.425Z"
      },
      {
        "duration": 1494,
        "start_time": "2023-01-15T18:42:41.619Z"
      },
      {
        "duration": 18105,
        "start_time": "2023-01-15T18:42:43.115Z"
      },
      {
        "duration": 198,
        "start_time": "2023-01-15T18:43:01.223Z"
      },
      {
        "duration": 206,
        "start_time": "2023-01-15T18:43:01.514Z"
      },
      {
        "duration": 96,
        "start_time": "2023-01-15T18:43:01.722Z"
      },
      {
        "duration": 53,
        "start_time": "2023-01-15T20:12:14.668Z"
      },
      {
        "duration": 1168,
        "start_time": "2023-01-15T20:12:23.736Z"
      },
      {
        "duration": 122,
        "start_time": "2023-01-15T20:12:24.907Z"
      },
      {
        "duration": 17,
        "start_time": "2023-01-15T20:12:25.032Z"
      },
      {
        "duration": 48,
        "start_time": "2023-01-15T20:12:25.052Z"
      },
      {
        "duration": 20,
        "start_time": "2023-01-15T20:12:25.102Z"
      },
      {
        "duration": 19,
        "start_time": "2023-01-15T20:12:25.124Z"
      },
      {
        "duration": 17,
        "start_time": "2023-01-15T20:12:25.145Z"
      },
      {
        "duration": 7,
        "start_time": "2023-01-15T20:12:25.605Z"
      },
      {
        "duration": 6,
        "start_time": "2023-01-15T20:12:25.771Z"
      },
      {
        "duration": 12,
        "start_time": "2023-01-15T20:12:28.274Z"
      },
      {
        "duration": 4,
        "start_time": "2023-01-15T20:12:29.966Z"
      },
      {
        "duration": 4,
        "start_time": "2023-01-15T20:13:21.669Z"
      },
      {
        "duration": 5,
        "start_time": "2023-01-15T20:14:27.694Z"
      },
      {
        "duration": 5,
        "start_time": "2023-01-15T20:14:38.609Z"
      },
      {
        "duration": 5,
        "start_time": "2023-01-15T20:14:40.997Z"
      },
      {
        "duration": 5,
        "start_time": "2023-01-15T20:14:42.819Z"
      },
      {
        "duration": 5,
        "start_time": "2023-01-15T20:15:01.756Z"
      },
      {
        "duration": 1251,
        "start_time": "2023-01-15T20:28:25.629Z"
      },
      {
        "duration": 32,
        "start_time": "2023-01-15T20:28:29.803Z"
      },
      {
        "duration": 26,
        "start_time": "2023-01-15T20:28:31.384Z"
      },
      {
        "duration": 37,
        "start_time": "2023-01-15T20:28:33.683Z"
      },
      {
        "duration": 14,
        "start_time": "2023-01-15T20:28:34.233Z"
      },
      {
        "duration": 7,
        "start_time": "2023-01-15T20:28:34.845Z"
      },
      {
        "duration": 16,
        "start_time": "2023-01-15T20:28:35.260Z"
      },
      {
        "duration": 7,
        "start_time": "2023-01-15T20:28:37.499Z"
      },
      {
        "duration": 6,
        "start_time": "2023-01-15T20:28:37.927Z"
      },
      {
        "duration": 7,
        "start_time": "2023-01-15T20:28:38.753Z"
      },
      {
        "duration": 4,
        "start_time": "2023-01-15T20:28:39.237Z"
      },
      {
        "duration": 6,
        "start_time": "2023-01-15T20:28:39.545Z"
      },
      {
        "duration": 14,
        "start_time": "2023-01-15T20:28:39.874Z"
      },
      {
        "duration": 186,
        "start_time": "2023-01-15T20:28:41.727Z"
      },
      {
        "duration": 6227,
        "start_time": "2023-01-15T20:28:47.665Z"
      },
      {
        "duration": 60,
        "start_time": "2023-01-15T20:29:39.507Z"
      },
      {
        "duration": 60,
        "start_time": "2023-01-15T20:29:42.838Z"
      },
      {
        "duration": 58,
        "start_time": "2023-01-15T20:30:18.095Z"
      },
      {
        "duration": 55,
        "start_time": "2023-01-15T20:31:13.768Z"
      },
      {
        "duration": 48,
        "start_time": "2023-01-15T20:32:35.688Z"
      },
      {
        "duration": 31,
        "start_time": "2023-01-15T20:32:57.300Z"
      },
      {
        "duration": 38,
        "start_time": "2023-01-15T20:32:59.008Z"
      },
      {
        "duration": 8,
        "start_time": "2023-01-15T20:33:33.714Z"
      },
      {
        "duration": 47,
        "start_time": "2023-01-15T20:33:41.020Z"
      },
      {
        "duration": 1837,
        "start_time": "2023-01-16T14:58:48.854Z"
      },
      {
        "duration": 17,
        "start_time": "2023-01-16T14:58:50.693Z"
      },
      {
        "duration": 12,
        "start_time": "2023-01-16T14:58:50.712Z"
      },
      {
        "duration": 30,
        "start_time": "2023-01-16T14:58:50.727Z"
      },
      {
        "duration": 13,
        "start_time": "2023-01-16T14:58:50.758Z"
      },
      {
        "duration": 21,
        "start_time": "2023-01-16T14:58:50.772Z"
      },
      {
        "duration": 23,
        "start_time": "2023-01-16T14:58:50.795Z"
      },
      {
        "duration": 21,
        "start_time": "2023-01-16T14:58:50.820Z"
      },
      {
        "duration": 36,
        "start_time": "2023-01-16T14:58:50.842Z"
      },
      {
        "duration": 15,
        "start_time": "2023-01-16T14:58:50.881Z"
      },
      {
        "duration": 53,
        "start_time": "2023-01-16T14:58:50.898Z"
      },
      {
        "duration": 12,
        "start_time": "2023-01-16T14:58:50.953Z"
      },
      {
        "duration": 14,
        "start_time": "2023-01-16T14:58:50.967Z"
      },
      {
        "duration": 173,
        "start_time": "2023-01-16T14:58:50.982Z"
      },
      {
        "duration": 44,
        "start_time": "2023-01-16T14:58:51.156Z"
      },
      {
        "duration": 25,
        "start_time": "2023-01-16T14:58:51.212Z"
      },
      {
        "duration": 35,
        "start_time": "2023-01-16T14:58:51.240Z"
      },
      {
        "duration": 6,
        "start_time": "2023-01-16T14:58:51.277Z"
      },
      {
        "duration": 1877,
        "start_time": "2023-01-16T17:47:47.094Z"
      },
      {
        "duration": 25,
        "start_time": "2023-01-16T17:47:48.973Z"
      },
      {
        "duration": 11,
        "start_time": "2023-01-16T17:47:49.000Z"
      },
      {
        "duration": 50,
        "start_time": "2023-01-16T17:47:49.013Z"
      },
      {
        "duration": 13,
        "start_time": "2023-01-16T17:47:49.065Z"
      },
      {
        "duration": 12,
        "start_time": "2023-01-16T17:47:49.080Z"
      },
      {
        "duration": 20,
        "start_time": "2023-01-16T17:47:49.094Z"
      },
      {
        "duration": 7,
        "start_time": "2023-01-16T17:47:49.116Z"
      },
      {
        "duration": 9,
        "start_time": "2023-01-16T17:47:49.124Z"
      },
      {
        "duration": 17,
        "start_time": "2023-01-16T17:47:49.135Z"
      },
      {
        "duration": 13,
        "start_time": "2023-01-16T17:47:49.154Z"
      },
      {
        "duration": 7,
        "start_time": "2023-01-16T17:47:49.169Z"
      },
      {
        "duration": 7,
        "start_time": "2023-01-16T17:47:49.178Z"
      },
      {
        "duration": 164,
        "start_time": "2023-01-16T17:47:49.186Z"
      },
      {
        "duration": 43,
        "start_time": "2023-01-16T17:47:49.352Z"
      },
      {
        "duration": 38,
        "start_time": "2023-01-16T17:47:49.396Z"
      },
      {
        "duration": 33,
        "start_time": "2023-01-16T17:47:49.436Z"
      },
      {
        "duration": 5,
        "start_time": "2023-01-16T17:47:49.471Z"
      },
      {
        "duration": 26,
        "start_time": "2023-01-16T18:17:51.155Z"
      }
    ],
    "kernelspec": {
      "display_name": "Python 3 (ipykernel)",
      "language": "python",
      "name": "python3"
    },
    "language_info": {
      "codemirror_mode": {
        "name": "ipython",
        "version": 3
      },
      "file_extension": ".py",
      "mimetype": "text/x-python",
      "name": "python",
      "nbconvert_exporter": "python",
      "pygments_lexer": "ipython3",
      "version": "3.9.5"
    },
    "toc": {
      "base_numbering": 1,
      "nav_menu": {},
      "number_sections": true,
      "sideBar": true,
      "skip_h1_title": true,
      "title_cell": "Table of Contents",
      "title_sidebar": "Contents",
      "toc_cell": false,
      "toc_position": {
        "height": "calc(100% - 180px)",
        "left": "10px",
        "top": "150px",
        "width": "165px"
      },
      "toc_section_display": true,
      "toc_window_display": true
    },
    "colab": {
      "provenance": []
    }
  },
  "nbformat": 4,
  "nbformat_minor": 0
}