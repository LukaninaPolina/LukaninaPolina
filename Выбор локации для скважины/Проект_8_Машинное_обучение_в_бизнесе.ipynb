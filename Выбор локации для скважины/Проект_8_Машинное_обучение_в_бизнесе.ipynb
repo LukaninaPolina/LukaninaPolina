{
  "cells": [
    {
      "cell_type": "markdown",
      "metadata": {
        "id": "r6XPiy98Xw96"
      },
      "source": [
        "# Выбор локации для скважины"
      ]
    },
    {
      "cell_type": "markdown",
      "metadata": {
        "id": "H-_rEGe-Xw97"
      },
      "source": [
        "Допустим, вы работаете в добывающей компании «ГлавРосГосНефть». Нужно решить, где бурить новую скважину.\n",
        "\n",
        "Вам предоставлены пробы нефти в трёх регионах: в каждом 10 000 месторождений, где измерили качество нефти и объём её запасов. Постройте модель машинного обучения, которая поможет определить регион, где добыча принесёт наибольшую прибыль. Проанализируйте возможную прибыль и риски техникой *Bootstrap.*\n",
        "\n",
        "Шаги для выбора локации:\n",
        "\n",
        "- В избранном регионе ищут месторождения, для каждого определяют значения признаков;\n",
        "- Строят модель и оценивают объём запасов;\n",
        "- Выбирают месторождения с самым высокими оценками значений. Количество месторождений зависит от бюджета компании и стоимости разработки одной скважины;\n",
        "- Прибыль равна суммарной прибыли отобранных месторождений."
      ]
    },
    {
      "cell_type": "markdown",
      "metadata": {
        "id": "bYt6mv3uXw97"
      },
      "source": [
        "## Загрузка и подготовка данных"
      ]
    },
    {
      "cell_type": "code",
      "execution_count": null,
      "metadata": {
        "id": "Ah1eScZ0Xw97"
      },
      "outputs": [],
      "source": [
        "import pandas as pd\n",
        "import numpy as np\n",
        "from scipy import stats as st\n",
        "from sklearn.model_selection import train_test_split\n",
        "from sklearn.preprocessing import StandardScaler\n",
        "from sklearn.linear_model import LinearRegression\n",
        "from sklearn.metrics import mean_squared_error\n",
        "import warnings\n",
        "warnings.filterwarnings('ignore')"
      ]
    },
    {
      "cell_type": "code",
      "execution_count": null,
      "metadata": {
        "id": "jEgR9nv_Xw98",
        "outputId": "6833091a-72d2-4eeb-afb2-d78b076a0d21"
      },
      "outputs": [
        {
          "data": {
            "text/html": [
              "<div>\n",
              "<style scoped>\n",
              "    .dataframe tbody tr th:only-of-type {\n",
              "        vertical-align: middle;\n",
              "    }\n",
              "\n",
              "    .dataframe tbody tr th {\n",
              "        vertical-align: top;\n",
              "    }\n",
              "\n",
              "    .dataframe thead th {\n",
              "        text-align: right;\n",
              "    }\n",
              "</style>\n",
              "<table border=\"1\" class=\"dataframe\">\n",
              "  <thead>\n",
              "    <tr style=\"text-align: right;\">\n",
              "      <th></th>\n",
              "      <th>id</th>\n",
              "      <th>f0</th>\n",
              "      <th>f1</th>\n",
              "      <th>f2</th>\n",
              "      <th>product</th>\n",
              "    </tr>\n",
              "  </thead>\n",
              "  <tbody>\n",
              "    <tr>\n",
              "      <th>0</th>\n",
              "      <td>txEyH</td>\n",
              "      <td>0.705745</td>\n",
              "      <td>-0.497823</td>\n",
              "      <td>1.221170</td>\n",
              "      <td>105.280062</td>\n",
              "    </tr>\n",
              "    <tr>\n",
              "      <th>1</th>\n",
              "      <td>2acmU</td>\n",
              "      <td>1.334711</td>\n",
              "      <td>-0.340164</td>\n",
              "      <td>4.365080</td>\n",
              "      <td>73.037750</td>\n",
              "    </tr>\n",
              "    <tr>\n",
              "      <th>2</th>\n",
              "      <td>409Wp</td>\n",
              "      <td>1.022732</td>\n",
              "      <td>0.151990</td>\n",
              "      <td>1.419926</td>\n",
              "      <td>85.265647</td>\n",
              "    </tr>\n",
              "    <tr>\n",
              "      <th>3</th>\n",
              "      <td>iJLyR</td>\n",
              "      <td>-0.032172</td>\n",
              "      <td>0.139033</td>\n",
              "      <td>2.978566</td>\n",
              "      <td>168.620776</td>\n",
              "    </tr>\n",
              "    <tr>\n",
              "      <th>4</th>\n",
              "      <td>Xdl7t</td>\n",
              "      <td>1.988431</td>\n",
              "      <td>0.155413</td>\n",
              "      <td>4.751769</td>\n",
              "      <td>154.036647</td>\n",
              "    </tr>\n",
              "    <tr>\n",
              "      <th>5</th>\n",
              "      <td>wX4Hy</td>\n",
              "      <td>0.969570</td>\n",
              "      <td>0.489775</td>\n",
              "      <td>-0.735383</td>\n",
              "      <td>64.741541</td>\n",
              "    </tr>\n",
              "    <tr>\n",
              "      <th>6</th>\n",
              "      <td>tL6pL</td>\n",
              "      <td>0.645075</td>\n",
              "      <td>0.530656</td>\n",
              "      <td>1.780266</td>\n",
              "      <td>49.055285</td>\n",
              "    </tr>\n",
              "    <tr>\n",
              "      <th>7</th>\n",
              "      <td>BYPU6</td>\n",
              "      <td>-0.400648</td>\n",
              "      <td>0.808337</td>\n",
              "      <td>-5.624670</td>\n",
              "      <td>72.943292</td>\n",
              "    </tr>\n",
              "    <tr>\n",
              "      <th>8</th>\n",
              "      <td>j9Oui</td>\n",
              "      <td>0.643105</td>\n",
              "      <td>-0.551583</td>\n",
              "      <td>2.372141</td>\n",
              "      <td>113.356160</td>\n",
              "    </tr>\n",
              "    <tr>\n",
              "      <th>9</th>\n",
              "      <td>OLuZU</td>\n",
              "      <td>2.173381</td>\n",
              "      <td>0.563698</td>\n",
              "      <td>9.441852</td>\n",
              "      <td>127.910945</td>\n",
              "    </tr>\n",
              "  </tbody>\n",
              "</table>\n",
              "</div>"
            ],
            "text/plain": [
              "      id        f0        f1        f2     product\n",
              "0  txEyH  0.705745 -0.497823  1.221170  105.280062\n",
              "1  2acmU  1.334711 -0.340164  4.365080   73.037750\n",
              "2  409Wp  1.022732  0.151990  1.419926   85.265647\n",
              "3  iJLyR -0.032172  0.139033  2.978566  168.620776\n",
              "4  Xdl7t  1.988431  0.155413  4.751769  154.036647\n",
              "5  wX4Hy  0.969570  0.489775 -0.735383   64.741541\n",
              "6  tL6pL  0.645075  0.530656  1.780266   49.055285\n",
              "7  BYPU6 -0.400648  0.808337 -5.624670   72.943292\n",
              "8  j9Oui  0.643105 -0.551583  2.372141  113.356160\n",
              "9  OLuZU  2.173381  0.563698  9.441852  127.910945"
            ]
          },
          "execution_count": 2,
          "metadata": {},
          "output_type": "execute_result"
        }
      ],
      "source": [
        "data_0 = pd.read_csv('/datasets/geo_data_0.csv')\n",
        "data_0.head(10)"
      ]
    },
    {
      "cell_type": "code",
      "execution_count": null,
      "metadata": {
        "id": "m4A0FmrBXw99",
        "outputId": "d95edd52-247c-4a65-e0cc-1740b31d59ee"
      },
      "outputs": [
        {
          "data": {
            "text/html": [
              "<div>\n",
              "<style scoped>\n",
              "    .dataframe tbody tr th:only-of-type {\n",
              "        vertical-align: middle;\n",
              "    }\n",
              "\n",
              "    .dataframe tbody tr th {\n",
              "        vertical-align: top;\n",
              "    }\n",
              "\n",
              "    .dataframe thead th {\n",
              "        text-align: right;\n",
              "    }\n",
              "</style>\n",
              "<table border=\"1\" class=\"dataframe\">\n",
              "  <thead>\n",
              "    <tr style=\"text-align: right;\">\n",
              "      <th></th>\n",
              "      <th>id</th>\n",
              "      <th>f0</th>\n",
              "      <th>f1</th>\n",
              "      <th>f2</th>\n",
              "      <th>product</th>\n",
              "    </tr>\n",
              "  </thead>\n",
              "  <tbody>\n",
              "    <tr>\n",
              "      <th>0</th>\n",
              "      <td>kBEdx</td>\n",
              "      <td>-15.001348</td>\n",
              "      <td>-8.276000</td>\n",
              "      <td>-0.005876</td>\n",
              "      <td>3.179103</td>\n",
              "    </tr>\n",
              "    <tr>\n",
              "      <th>1</th>\n",
              "      <td>62mP7</td>\n",
              "      <td>14.272088</td>\n",
              "      <td>-3.475083</td>\n",
              "      <td>0.999183</td>\n",
              "      <td>26.953261</td>\n",
              "    </tr>\n",
              "    <tr>\n",
              "      <th>2</th>\n",
              "      <td>vyE1P</td>\n",
              "      <td>6.263187</td>\n",
              "      <td>-5.948386</td>\n",
              "      <td>5.001160</td>\n",
              "      <td>134.766305</td>\n",
              "    </tr>\n",
              "    <tr>\n",
              "      <th>3</th>\n",
              "      <td>KcrkZ</td>\n",
              "      <td>-13.081196</td>\n",
              "      <td>-11.506057</td>\n",
              "      <td>4.999415</td>\n",
              "      <td>137.945408</td>\n",
              "    </tr>\n",
              "    <tr>\n",
              "      <th>4</th>\n",
              "      <td>AHL4O</td>\n",
              "      <td>12.702195</td>\n",
              "      <td>-8.147433</td>\n",
              "      <td>5.004363</td>\n",
              "      <td>134.766305</td>\n",
              "    </tr>\n",
              "    <tr>\n",
              "      <th>5</th>\n",
              "      <td>HHckp</td>\n",
              "      <td>-3.327590</td>\n",
              "      <td>-2.205276</td>\n",
              "      <td>3.003647</td>\n",
              "      <td>84.038886</td>\n",
              "    </tr>\n",
              "    <tr>\n",
              "      <th>6</th>\n",
              "      <td>h5Ujo</td>\n",
              "      <td>-11.142655</td>\n",
              "      <td>-10.133399</td>\n",
              "      <td>4.002382</td>\n",
              "      <td>110.992147</td>\n",
              "    </tr>\n",
              "    <tr>\n",
              "      <th>7</th>\n",
              "      <td>muH9x</td>\n",
              "      <td>4.234715</td>\n",
              "      <td>-0.001354</td>\n",
              "      <td>2.004588</td>\n",
              "      <td>53.906522</td>\n",
              "    </tr>\n",
              "    <tr>\n",
              "      <th>8</th>\n",
              "      <td>YiRkx</td>\n",
              "      <td>13.355129</td>\n",
              "      <td>-0.332068</td>\n",
              "      <td>4.998647</td>\n",
              "      <td>134.766305</td>\n",
              "    </tr>\n",
              "    <tr>\n",
              "      <th>9</th>\n",
              "      <td>jG6Gi</td>\n",
              "      <td>1.069227</td>\n",
              "      <td>-11.025667</td>\n",
              "      <td>4.997844</td>\n",
              "      <td>137.945408</td>\n",
              "    </tr>\n",
              "  </tbody>\n",
              "</table>\n",
              "</div>"
            ],
            "text/plain": [
              "      id         f0         f1        f2     product\n",
              "0  kBEdx -15.001348  -8.276000 -0.005876    3.179103\n",
              "1  62mP7  14.272088  -3.475083  0.999183   26.953261\n",
              "2  vyE1P   6.263187  -5.948386  5.001160  134.766305\n",
              "3  KcrkZ -13.081196 -11.506057  4.999415  137.945408\n",
              "4  AHL4O  12.702195  -8.147433  5.004363  134.766305\n",
              "5  HHckp  -3.327590  -2.205276  3.003647   84.038886\n",
              "6  h5Ujo -11.142655 -10.133399  4.002382  110.992147\n",
              "7  muH9x   4.234715  -0.001354  2.004588   53.906522\n",
              "8  YiRkx  13.355129  -0.332068  4.998647  134.766305\n",
              "9  jG6Gi   1.069227 -11.025667  4.997844  137.945408"
            ]
          },
          "execution_count": 3,
          "metadata": {},
          "output_type": "execute_result"
        }
      ],
      "source": [
        "data_1 = pd.read_csv('/datasets/geo_data_1.csv')\n",
        "data_1.head(10)"
      ]
    },
    {
      "cell_type": "code",
      "execution_count": null,
      "metadata": {
        "id": "l8JVXKDcXw99",
        "outputId": "78b0653b-7ed8-4d89-a07f-408eced7bc30"
      },
      "outputs": [
        {
          "data": {
            "text/html": [
              "<div>\n",
              "<style scoped>\n",
              "    .dataframe tbody tr th:only-of-type {\n",
              "        vertical-align: middle;\n",
              "    }\n",
              "\n",
              "    .dataframe tbody tr th {\n",
              "        vertical-align: top;\n",
              "    }\n",
              "\n",
              "    .dataframe thead th {\n",
              "        text-align: right;\n",
              "    }\n",
              "</style>\n",
              "<table border=\"1\" class=\"dataframe\">\n",
              "  <thead>\n",
              "    <tr style=\"text-align: right;\">\n",
              "      <th></th>\n",
              "      <th>id</th>\n",
              "      <th>f0</th>\n",
              "      <th>f1</th>\n",
              "      <th>f2</th>\n",
              "      <th>product</th>\n",
              "    </tr>\n",
              "  </thead>\n",
              "  <tbody>\n",
              "    <tr>\n",
              "      <th>0</th>\n",
              "      <td>fwXo0</td>\n",
              "      <td>-1.146987</td>\n",
              "      <td>0.963328</td>\n",
              "      <td>-0.828965</td>\n",
              "      <td>27.758673</td>\n",
              "    </tr>\n",
              "    <tr>\n",
              "      <th>1</th>\n",
              "      <td>WJtFt</td>\n",
              "      <td>0.262778</td>\n",
              "      <td>0.269839</td>\n",
              "      <td>-2.530187</td>\n",
              "      <td>56.069697</td>\n",
              "    </tr>\n",
              "    <tr>\n",
              "      <th>2</th>\n",
              "      <td>ovLUW</td>\n",
              "      <td>0.194587</td>\n",
              "      <td>0.289035</td>\n",
              "      <td>-5.586433</td>\n",
              "      <td>62.871910</td>\n",
              "    </tr>\n",
              "    <tr>\n",
              "      <th>3</th>\n",
              "      <td>q6cA6</td>\n",
              "      <td>2.236060</td>\n",
              "      <td>-0.553760</td>\n",
              "      <td>0.930038</td>\n",
              "      <td>114.572842</td>\n",
              "    </tr>\n",
              "    <tr>\n",
              "      <th>4</th>\n",
              "      <td>WPMUX</td>\n",
              "      <td>-0.515993</td>\n",
              "      <td>1.716266</td>\n",
              "      <td>5.899011</td>\n",
              "      <td>149.600746</td>\n",
              "    </tr>\n",
              "    <tr>\n",
              "      <th>5</th>\n",
              "      <td>LzZXx</td>\n",
              "      <td>-0.758092</td>\n",
              "      <td>0.710691</td>\n",
              "      <td>2.585887</td>\n",
              "      <td>90.222465</td>\n",
              "    </tr>\n",
              "    <tr>\n",
              "      <th>6</th>\n",
              "      <td>WBHRv</td>\n",
              "      <td>-0.574891</td>\n",
              "      <td>0.317727</td>\n",
              "      <td>1.773745</td>\n",
              "      <td>45.641478</td>\n",
              "    </tr>\n",
              "    <tr>\n",
              "      <th>7</th>\n",
              "      <td>XO8fn</td>\n",
              "      <td>-1.906649</td>\n",
              "      <td>-2.458350</td>\n",
              "      <td>-0.177097</td>\n",
              "      <td>72.480640</td>\n",
              "    </tr>\n",
              "    <tr>\n",
              "      <th>8</th>\n",
              "      <td>ybmQ5</td>\n",
              "      <td>1.776292</td>\n",
              "      <td>-0.279356</td>\n",
              "      <td>3.004156</td>\n",
              "      <td>106.616832</td>\n",
              "    </tr>\n",
              "    <tr>\n",
              "      <th>9</th>\n",
              "      <td>OilcN</td>\n",
              "      <td>-1.214452</td>\n",
              "      <td>-0.439314</td>\n",
              "      <td>5.922514</td>\n",
              "      <td>52.954532</td>\n",
              "    </tr>\n",
              "  </tbody>\n",
              "</table>\n",
              "</div>"
            ],
            "text/plain": [
              "      id        f0        f1        f2     product\n",
              "0  fwXo0 -1.146987  0.963328 -0.828965   27.758673\n",
              "1  WJtFt  0.262778  0.269839 -2.530187   56.069697\n",
              "2  ovLUW  0.194587  0.289035 -5.586433   62.871910\n",
              "3  q6cA6  2.236060 -0.553760  0.930038  114.572842\n",
              "4  WPMUX -0.515993  1.716266  5.899011  149.600746\n",
              "5  LzZXx -0.758092  0.710691  2.585887   90.222465\n",
              "6  WBHRv -0.574891  0.317727  1.773745   45.641478\n",
              "7  XO8fn -1.906649 -2.458350 -0.177097   72.480640\n",
              "8  ybmQ5  1.776292 -0.279356  3.004156  106.616832\n",
              "9  OilcN -1.214452 -0.439314  5.922514   52.954532"
            ]
          },
          "execution_count": 4,
          "metadata": {},
          "output_type": "execute_result"
        }
      ],
      "source": [
        "data_2 = pd.read_csv('/datasets/geo_data_2.csv')\n",
        "data_2.head(10)"
      ]
    },
    {
      "cell_type": "code",
      "execution_count": null,
      "metadata": {
        "id": "IsJtR9weXw99",
        "outputId": "bc0097bb-38e5-4fb9-805d-cc1e59a98329"
      },
      "outputs": [
        {
          "name": "stdout",
          "output_type": "stream",
          "text": [
            "<class 'pandas.core.frame.DataFrame'>\n",
            "RangeIndex: 100000 entries, 0 to 99999\n",
            "Data columns (total 5 columns):\n",
            " #   Column   Non-Null Count   Dtype  \n",
            "---  ------   --------------   -----  \n",
            " 0   id       100000 non-null  object \n",
            " 1   f0       100000 non-null  float64\n",
            " 2   f1       100000 non-null  float64\n",
            " 3   f2       100000 non-null  float64\n",
            " 4   product  100000 non-null  float64\n",
            "dtypes: float64(4), object(1)\n",
            "memory usage: 3.8+ MB\n",
            "<class 'pandas.core.frame.DataFrame'>\n",
            "RangeIndex: 100000 entries, 0 to 99999\n",
            "Data columns (total 5 columns):\n",
            " #   Column   Non-Null Count   Dtype  \n",
            "---  ------   --------------   -----  \n",
            " 0   id       100000 non-null  object \n",
            " 1   f0       100000 non-null  float64\n",
            " 2   f1       100000 non-null  float64\n",
            " 3   f2       100000 non-null  float64\n",
            " 4   product  100000 non-null  float64\n",
            "dtypes: float64(4), object(1)\n",
            "memory usage: 3.8+ MB\n",
            "<class 'pandas.core.frame.DataFrame'>\n",
            "RangeIndex: 100000 entries, 0 to 99999\n",
            "Data columns (total 5 columns):\n",
            " #   Column   Non-Null Count   Dtype  \n",
            "---  ------   --------------   -----  \n",
            " 0   id       100000 non-null  object \n",
            " 1   f0       100000 non-null  float64\n",
            " 2   f1       100000 non-null  float64\n",
            " 3   f2       100000 non-null  float64\n",
            " 4   product  100000 non-null  float64\n",
            "dtypes: float64(4), object(1)\n",
            "memory usage: 3.8+ MB\n"
          ]
        },
        {
          "data": {
            "text/plain": [
              "(None, None, None)"
            ]
          },
          "execution_count": 5,
          "metadata": {},
          "output_type": "execute_result"
        }
      ],
      "source": [
        "data_0.info(), data_1.info(), data_2.info()"
      ]
    },
    {
      "cell_type": "code",
      "execution_count": null,
      "metadata": {
        "id": "z0YxLnU7Xw9-",
        "outputId": "f18e4430-07ef-4876-aa33-4b34b424fbc0"
      },
      "outputs": [
        {
          "data": {
            "text/plain": [
              "(0, 0, 0)"
            ]
          },
          "execution_count": 6,
          "metadata": {},
          "output_type": "execute_result"
        }
      ],
      "source": [
        "data_0.duplicated().sum(), data_1.duplicated().sum(), data_2.duplicated().sum()"
      ]
    },
    {
      "cell_type": "code",
      "execution_count": null,
      "metadata": {
        "id": "pkHTmU3iXw9-",
        "outputId": "068f62ca-1adc-4c6d-b540-b6aee46fab09"
      },
      "outputs": [
        {
          "data": {
            "text/plain": [
              "(id         0\n",
              " f0         0\n",
              " f1         0\n",
              " f2         0\n",
              " product    0\n",
              " dtype: int64,\n",
              " id         0\n",
              " f0         0\n",
              " f1         0\n",
              " f2         0\n",
              " product    0\n",
              " dtype: int64,\n",
              " id         0\n",
              " f0         0\n",
              " f1         0\n",
              " f2         0\n",
              " product    0\n",
              " dtype: int64)"
            ]
          },
          "execution_count": 7,
          "metadata": {},
          "output_type": "execute_result"
        }
      ],
      "source": [
        "data_0.isna().sum(),data_1.isna().sum(),data_2.isna().sum()"
      ]
    },
    {
      "cell_type": "markdown",
      "metadata": {
        "id": "NPKr07xyXw9-"
      },
      "source": [
        "**Вывод**"
      ]
    },
    {
      "cell_type": "markdown",
      "metadata": {
        "id": "sj7iVcUFXw9-"
      },
      "source": [
        "В данных не обнаружено пропусков и дубликатов, поэтому можно приступить к дальнейшим действиям."
      ]
    },
    {
      "cell_type": "markdown",
      "metadata": {
        "id": "sl7UVjUdXw9-"
      },
      "source": [
        "## Обучение и проверка модели"
      ]
    },
    {
      "cell_type": "markdown",
      "metadata": {
        "id": "s7siCa4UXw9-"
      },
      "source": [
        "Разобьем выборки на валидационную и обучающую в соотношении 25:75"
      ]
    },
    {
      "cell_type": "code",
      "execution_count": null,
      "metadata": {
        "id": "VNsyncxiXw9_"
      },
      "outputs": [],
      "source": [
        "def function(data):\n",
        "\n",
        "    target = data['product']\n",
        "    features = data.drop(['product', 'id'], axis=1)\n",
        "\n",
        "    features_train, features_valid, target_train, target_valid = train_test_split(features, target, test_size=0.25, random_state=12345)\n",
        "    numeric = ['0', '1', '2']\n",
        "    scaler = StandardScaler()\n",
        "    scaler.fit(features_train)\n",
        "    features_train[numeric] = scaler.transform(features_train)\n",
        "    features_valid[numeric] = scaler.transform(features_valid)\n",
        "\n",
        "    return features_train, features_valid, target_train, target_valid"
      ]
    },
    {
      "cell_type": "code",
      "execution_count": null,
      "metadata": {
        "id": "1YGhFCehXw9_"
      },
      "outputs": [],
      "source": [
        "features_train0, features_valid0, target_train0, target_valid0 = function(data_0)\n",
        "features_train1, features_valid1, target_train1, target_valid1 = function(data_1)\n",
        "features_train2, features_valid2, target_train2, target_valid2 = function(data_2)"
      ]
    },
    {
      "cell_type": "markdown",
      "metadata": {
        "id": "5zc1QaMfXw9_"
      },
      "source": [
        "Теперь обучим модель"
      ]
    },
    {
      "cell_type": "code",
      "execution_count": null,
      "metadata": {
        "id": "eWP70OPQXw9_"
      },
      "outputs": [],
      "source": [
        "def train(features_train, features_valid, target_train, target_valid):\n",
        "    model = LinearRegression()\n",
        "    model.fit(features_train,target_train)\n",
        "    predictions_valid = pd.Series(model.predict(features_valid))\n",
        "    print(\"RMSE =\", mean_squared_error(target_valid,predictions_valid) ** 0.5)\n",
        "    print('Cредний запас предсказанного сырья',predictions_valid.mean())\n",
        "\n",
        "    return predictions_valid"
      ]
    },
    {
      "cell_type": "code",
      "execution_count": null,
      "metadata": {
        "id": "kcpjQGUrXw9_",
        "outputId": "6910cf96-553e-4c45-bd2d-7fe341220ee0"
      },
      "outputs": [
        {
          "name": "stdout",
          "output_type": "stream",
          "text": [
            "RMSE = 37.5794217150813\n",
            "Cредний запас предсказанного сырья 92.59256778438035\n"
          ]
        }
      ],
      "source": [
        "predictions_valid0 =  train(features_train0, features_valid0, target_train0, target_valid0)"
      ]
    },
    {
      "cell_type": "code",
      "execution_count": null,
      "metadata": {
        "id": "2csXjn9vXw9_",
        "outputId": "3f02f479-a347-4bd2-dc41-9208cd05ec17"
      },
      "outputs": [
        {
          "name": "stdout",
          "output_type": "stream",
          "text": [
            "RMSE = 0.8930992867756169\n",
            "Cредний запас предсказанного сырья 68.728546895446\n"
          ]
        }
      ],
      "source": [
        "predictions_valid1 =  train(features_train1, features_valid1, target_train1, target_valid1)"
      ]
    },
    {
      "cell_type": "code",
      "execution_count": null,
      "metadata": {
        "id": "MTismmsIXw-A",
        "outputId": "deb41c07-7dbf-4fc9-c3b7-afe3525e343f"
      },
      "outputs": [
        {
          "name": "stdout",
          "output_type": "stream",
          "text": [
            "RMSE = 40.02970873393434\n",
            "Cредний запас предсказанного сырья 94.96504596800489\n"
          ]
        }
      ],
      "source": [
        "predictions_valid2 =  train(features_train2, features_valid2, target_train2, target_valid2)"
      ]
    },
    {
      "cell_type": "markdown",
      "metadata": {
        "id": "96L_tSzfXw-A"
      },
      "source": [
        "**Вывод**"
      ]
    },
    {
      "cell_type": "markdown",
      "metadata": {
        "id": "toAIHKEJXw-A"
      },
      "source": [
        "Исходя из данных обучения модели, можно сделать вывод о том, что точнее всего 2 датасет, поскольку в 1 и 3 датасете мы можем наблюдать слишком большое значение rmse"
      ]
    },
    {
      "cell_type": "markdown",
      "metadata": {
        "id": "F1WdVg1CXw-A"
      },
      "source": [
        "## Подготовка к расчёту прибыли"
      ]
    },
    {
      "cell_type": "markdown",
      "metadata": {
        "id": "GlpDGP3CXw-A"
      },
      "source": [
        "При разведке региона исследуют 500 точек, из которых с помощью машинного обучения выбирают 200 лучших для разработки.\n",
        "Бюджет на разработку скважин в регионе — 10 млрд рублей.\n",
        "При нынешних ценах один баррель сырья приносит 450 рублей дохода. Доход с каждой единицы продукта составляет 450 тыс. рублей, поскольку объём указан в тысячах баррелей.\n",
        "После оценки рисков нужно оставить лишь те регионы, в которых вероятность убытков меньше 2.5%. Среди них выбирают регион с наибольшей средней прибылью."
      ]
    },
    {
      "cell_type": "code",
      "execution_count": null,
      "metadata": {
        "id": "cNRF-mGnXw-A"
      },
      "outputs": [],
      "source": [
        "budget = 10000000000\n",
        "income = 450000\n",
        "all_well = 500\n",
        "best_well = 200\n",
        "revenue = 450000\n",
        "bootstrap = 1000"
      ]
    },
    {
      "cell_type": "code",
      "execution_count": null,
      "metadata": {
        "id": "XdBONDT9Xw-B"
      },
      "outputs": [],
      "source": [
        "product_volume = budget / income / best_well"
      ]
    },
    {
      "cell_type": "code",
      "execution_count": null,
      "metadata": {
        "id": "SjvTKCqnXw-B",
        "outputId": "a1aea2f3-77fc-4e86-bd5c-cf83ed7c3190"
      },
      "outputs": [
        {
          "name": "stdout",
          "output_type": "stream",
          "text": [
            "Необходимый объем сырья для безубыточной разработки 1 скважины: 111.11111111111111\n"
          ]
        }
      ],
      "source": [
        "print('Необходимый объем сырья для безубыточной разработки 1 скважины:', product_volume)"
      ]
    },
    {
      "cell_type": "markdown",
      "metadata": {
        "id": "f_aT26y9Xw-B"
      },
      "source": [
        "**Вывод**"
      ]
    },
    {
      "cell_type": "markdown",
      "metadata": {
        "id": "vv8roLqhXw-B"
      },
      "source": [
        "Мы получили, что нам необходим объем сырья для безубыточной разработки 111 тыс. баррелей. Но средние значения запасоывв сырья для всех регионов ниже этого объема, поэтому имеется высокая доля риска не окупить затраченный бюджет."
      ]
    },
    {
      "cell_type": "markdown",
      "metadata": {
        "id": "A8Ah2tYCXw-B"
      },
      "source": [
        "**Функция для расчёта прибыли по выбранным скважинам и предсказаниям модели**"
      ]
    },
    {
      "cell_type": "code",
      "execution_count": null,
      "metadata": {
        "id": "GZE43qT5Xw-C"
      },
      "outputs": [],
      "source": [
        "def profit_calculation(target_valid, predictions_valid, best_well):\n",
        "    choice = predictions_valid.sort_values(ascending=False)\n",
        "    deposit = target_valid[choice.index][:best_well]\n",
        "    income = deposit.sum() * revenue - budget\n",
        "    return income"
      ]
    },
    {
      "cell_type": "markdown",
      "metadata": {
        "id": "wOsXY5qHXw-C"
      },
      "source": [
        "## Расчёт прибыли и рисков"
      ]
    },
    {
      "cell_type": "code",
      "execution_count": null,
      "metadata": {
        "id": "tV0TmsviXw-C"
      },
      "outputs": [],
      "source": [
        "def profit_and_risks (predictions_valid, target_valid, bootstrap, all_well):\n",
        "    state = np.random.RandomState(12345)\n",
        "    values = []\n",
        "\n",
        "    for i in range(bootstrap):\n",
        "        target_sample = target_valid.reset_index(drop=True).sample(all_well, replace=True, random_state=state)\n",
        "        predictions_sample = predictions_valid[target_sample.index]\n",
        "        values.append(profit_calculation(target_sample, predictions_sample, best_well))\n",
        "\n",
        "    values = pd.Series(values)\n",
        "    print(\"Средняя выручка:\", values.mean())\n",
        "    print(\"95%-й Доверительный интервал:\", values.quantile(0.025), '-', values.quantile(0.975))\n",
        "    print(\"Риск убытков:\", st.percentileofscore(values, 0))"
      ]
    },
    {
      "cell_type": "code",
      "execution_count": null,
      "metadata": {
        "id": "oi4XJ5vTXw-C",
        "outputId": "9bbdd010-9528-4801-b87e-253d32b2dea3"
      },
      "outputs": [
        {
          "name": "stdout",
          "output_type": "stream",
          "text": [
            "Средняя выручка: 425938526.91059244\n",
            "95%-й Доверительный интервал: -102090094.83793654 - 947976353.3583689\n",
            "Риск убытков: 6.0\n"
          ]
        }
      ],
      "source": [
        "profit_and_risks(predictions_valid0, target_valid0, bootstrap, all_well)"
      ]
    },
    {
      "cell_type": "code",
      "execution_count": null,
      "metadata": {
        "id": "N4KLTHhxXw-D",
        "outputId": "3c6150be-c714-415b-fae8-dcca5bea854b"
      },
      "outputs": [
        {
          "name": "stdout",
          "output_type": "stream",
          "text": [
            "Средняя выручка: 515222773.4432899\n",
            "95%-й Доверительный интервал: 68873225.37050176 - 931547591.2570494\n",
            "Риск убытков: 1.0\n"
          ]
        }
      ],
      "source": [
        "profit_and_risks(predictions_valid1, target_valid1, bootstrap, all_well)"
      ]
    },
    {
      "cell_type": "code",
      "execution_count": null,
      "metadata": {
        "id": "3KZg_vVhXw-D",
        "outputId": "847e1f5f-adfe-492a-bed2-8040bcfe9f11"
      },
      "outputs": [
        {
          "name": "stdout",
          "output_type": "stream",
          "text": [
            "Средняя выручка: 435008362.7827556\n",
            "95%-й Доверительный интервал: -128880547.32978901 - 969706954.1802661\n",
            "Риск убытков: 6.4\n"
          ]
        }
      ],
      "source": [
        "profit_and_risks(predictions_valid2, target_valid2, bootstrap, all_well)"
      ]
    },
    {
      "cell_type": "markdown",
      "metadata": {
        "id": "dyCccK0ZXw-D"
      },
      "source": [
        "**Вывод**"
      ]
    },
    {
      "cell_type": "markdown",
      "metadata": {
        "id": "qwKM70WZXw-D"
      },
      "source": [
        "Таким образом, второй регион имеет наименьшее значение риска, однако регион не подходит по объему. Но несмотря на это, данный регион рекомендуется рассматривать для разработки"
      ]
    },
    {
      "cell_type": "code",
      "execution_count": null,
      "metadata": {
        "id": "0tRbjitTXw-E"
      },
      "outputs": [],
      "source": []
    }
  ],
  "metadata": {
    "ExecuteTimeLog": [
      {
        "duration": 1458,
        "start_time": "2023-02-12T09:40:40.820Z"
      },
      {
        "duration": 920,
        "start_time": "2023-02-12T09:41:47.089Z"
      },
      {
        "duration": 141,
        "start_time": "2023-02-12T09:42:16.336Z"
      },
      {
        "duration": 139,
        "start_time": "2023-02-12T09:42:34.927Z"
      },
      {
        "duration": 137,
        "start_time": "2023-02-12T09:42:38.357Z"
      },
      {
        "duration": 3,
        "start_time": "2023-02-12T09:46:09.147Z"
      },
      {
        "duration": 34,
        "start_time": "2023-02-12T09:46:34.899Z"
      },
      {
        "duration": 109,
        "start_time": "2023-02-12T09:47:12.342Z"
      },
      {
        "duration": 4,
        "start_time": "2023-02-12T10:01:29.701Z"
      },
      {
        "duration": 59,
        "start_time": "2023-02-12T10:03:20.601Z"
      },
      {
        "duration": 4,
        "start_time": "2023-02-12T10:03:55.593Z"
      },
      {
        "duration": 126,
        "start_time": "2023-02-12T10:03:56.207Z"
      },
      {
        "duration": 135,
        "start_time": "2023-02-12T10:03:58.422Z"
      },
      {
        "duration": 132,
        "start_time": "2023-02-12T10:03:58.723Z"
      },
      {
        "duration": 39,
        "start_time": "2023-02-12T10:03:58.971Z"
      },
      {
        "duration": 117,
        "start_time": "2023-02-12T10:03:59.350Z"
      },
      {
        "duration": 4,
        "start_time": "2023-02-12T10:04:02.574Z"
      },
      {
        "duration": 60,
        "start_time": "2023-02-12T10:04:03.388Z"
      },
      {
        "duration": 4,
        "start_time": "2023-02-12T10:04:12.092Z"
      },
      {
        "duration": 5,
        "start_time": "2023-02-12T10:10:39.700Z"
      },
      {
        "duration": 108,
        "start_time": "2023-02-12T10:12:11.150Z"
      },
      {
        "duration": 314,
        "start_time": "2023-02-12T10:12:39.587Z"
      },
      {
        "duration": 15,
        "start_time": "2023-02-12T10:13:18.578Z"
      },
      {
        "duration": 14,
        "start_time": "2023-02-12T10:13:19.125Z"
      },
      {
        "duration": 14,
        "start_time": "2023-02-12T10:13:19.750Z"
      },
      {
        "duration": 47,
        "start_time": "2023-02-12T10:16:35.495Z"
      },
      {
        "duration": 9,
        "start_time": "2023-02-12T10:23:29.300Z"
      },
      {
        "duration": 3,
        "start_time": "2023-02-12T10:23:33.353Z"
      },
      {
        "duration": 4,
        "start_time": "2023-02-12T10:23:33.929Z"
      },
      {
        "duration": 2,
        "start_time": "2023-02-12T10:23:40.400Z"
      },
      {
        "duration": 4,
        "start_time": "2023-02-12T10:29:23.941Z"
      },
      {
        "duration": 54,
        "start_time": "2023-02-12T10:32:00.809Z"
      },
      {
        "duration": 13,
        "start_time": "2023-02-12T10:32:58.958Z"
      },
      {
        "duration": 3,
        "start_time": "2023-02-12T10:33:18.960Z"
      },
      {
        "duration": 4,
        "start_time": "2023-02-12T10:33:24.961Z"
      },
      {
        "duration": 4,
        "start_time": "2023-02-12T10:33:33.364Z"
      },
      {
        "duration": 51,
        "start_time": "2023-02-12T10:35:27.062Z"
      },
      {
        "duration": 3,
        "start_time": "2023-02-12T10:35:33.523Z"
      },
      {
        "duration": 23,
        "start_time": "2023-02-12T10:35:35.632Z"
      },
      {
        "duration": 4,
        "start_time": "2023-02-12T10:36:35.736Z"
      },
      {
        "duration": 15,
        "start_time": "2023-02-12T10:36:39.351Z"
      },
      {
        "duration": 4,
        "start_time": "2023-02-12T10:36:40.732Z"
      },
      {
        "duration": 3,
        "start_time": "2023-02-12T10:36:41.657Z"
      },
      {
        "duration": 4,
        "start_time": "2023-02-12T10:36:42.267Z"
      },
      {
        "duration": 3,
        "start_time": "2023-02-12T10:36:52.228Z"
      },
      {
        "duration": 13,
        "start_time": "2023-02-12T10:36:53.106Z"
      },
      {
        "duration": 3,
        "start_time": "2023-02-12T10:36:53.721Z"
      },
      {
        "duration": 4,
        "start_time": "2023-02-12T10:36:54.372Z"
      },
      {
        "duration": 3,
        "start_time": "2023-02-12T10:37:44.672Z"
      },
      {
        "duration": 14,
        "start_time": "2023-02-12T10:37:45.177Z"
      },
      {
        "duration": 4,
        "start_time": "2023-02-12T10:37:45.599Z"
      },
      {
        "duration": 4,
        "start_time": "2023-02-12T10:37:46.166Z"
      },
      {
        "duration": 3,
        "start_time": "2023-02-12T10:37:46.554Z"
      },
      {
        "duration": 1295,
        "start_time": "2023-02-12T10:38:14.458Z"
      },
      {
        "duration": 139,
        "start_time": "2023-02-12T10:38:15.755Z"
      },
      {
        "duration": 121,
        "start_time": "2023-02-12T10:38:15.895Z"
      },
      {
        "duration": 125,
        "start_time": "2023-02-12T10:38:16.018Z"
      },
      {
        "duration": 34,
        "start_time": "2023-02-12T10:38:16.144Z"
      },
      {
        "duration": 144,
        "start_time": "2023-02-12T10:38:16.180Z"
      },
      {
        "duration": 4,
        "start_time": "2023-02-12T10:38:17.740Z"
      },
      {
        "duration": 114,
        "start_time": "2023-02-12T10:38:18.237Z"
      },
      {
        "duration": 3,
        "start_time": "2023-02-12T10:38:26.454Z"
      },
      {
        "duration": 8,
        "start_time": "2023-02-12T10:38:27.208Z"
      },
      {
        "duration": 4,
        "start_time": "2023-02-12T10:38:34.501Z"
      },
      {
        "duration": 5,
        "start_time": "2023-02-12T10:38:39.016Z"
      },
      {
        "duration": 23,
        "start_time": "2023-02-12T10:38:39.882Z"
      },
      {
        "duration": 3,
        "start_time": "2023-02-12T10:39:09.236Z"
      },
      {
        "duration": 133,
        "start_time": "2023-02-12T10:39:10.354Z"
      },
      {
        "duration": 147,
        "start_time": "2023-02-12T10:39:13.631Z"
      },
      {
        "duration": 128,
        "start_time": "2023-02-12T10:39:14.251Z"
      },
      {
        "duration": 36,
        "start_time": "2023-02-12T10:39:14.992Z"
      },
      {
        "duration": 113,
        "start_time": "2023-02-12T10:39:15.701Z"
      },
      {
        "duration": 4,
        "start_time": "2023-02-12T10:39:40.626Z"
      },
      {
        "duration": 65,
        "start_time": "2023-02-12T10:39:42.394Z"
      },
      {
        "duration": 3,
        "start_time": "2023-02-12T10:39:44.317Z"
      },
      {
        "duration": 19,
        "start_time": "2023-02-12T10:39:44.864Z"
      },
      {
        "duration": 15,
        "start_time": "2023-02-12T10:39:45.488Z"
      },
      {
        "duration": 16,
        "start_time": "2023-02-12T10:39:46.421Z"
      },
      {
        "duration": 2,
        "start_time": "2023-02-12T10:39:49.238Z"
      },
      {
        "duration": 3,
        "start_time": "2023-02-12T10:39:49.901Z"
      },
      {
        "duration": 3,
        "start_time": "2023-02-12T10:39:50.881Z"
      },
      {
        "duration": 3,
        "start_time": "2023-02-12T10:39:55.508Z"
      },
      {
        "duration": 13,
        "start_time": "2023-02-12T10:39:55.921Z"
      },
      {
        "duration": 3,
        "start_time": "2023-02-12T10:39:56.554Z"
      },
      {
        "duration": 4,
        "start_time": "2023-02-12T10:39:57.215Z"
      },
      {
        "duration": 4,
        "start_time": "2023-02-12T10:39:57.821Z"
      },
      {
        "duration": 12,
        "start_time": "2023-02-12T10:40:36.506Z"
      },
      {
        "duration": 4,
        "start_time": "2023-02-12T10:40:44.495Z"
      },
      {
        "duration": 3,
        "start_time": "2023-02-12T10:41:01.114Z"
      },
      {
        "duration": 14,
        "start_time": "2023-02-12T10:41:01.604Z"
      },
      {
        "duration": 4,
        "start_time": "2023-02-12T10:41:02.213Z"
      },
      {
        "duration": 13,
        "start_time": "2023-02-12T10:41:30.414Z"
      },
      {
        "duration": 4,
        "start_time": "2023-02-12T10:41:31.420Z"
      },
      {
        "duration": 19,
        "start_time": "2023-02-12T10:41:41.806Z"
      },
      {
        "duration": 4,
        "start_time": "2023-02-12T10:41:43.121Z"
      },
      {
        "duration": 4,
        "start_time": "2023-02-12T10:42:05.963Z"
      },
      {
        "duration": 3,
        "start_time": "2023-02-12T10:42:06.319Z"
      },
      {
        "duration": 10,
        "start_time": "2023-02-12T10:49:39.285Z"
      },
      {
        "duration": 3,
        "start_time": "2023-02-12T10:49:48.433Z"
      },
      {
        "duration": 23,
        "start_time": "2023-02-12T10:49:49.620Z"
      },
      {
        "duration": 3,
        "start_time": "2023-02-12T10:51:57.793Z"
      },
      {
        "duration": 16,
        "start_time": "2023-02-12T10:52:00.952Z"
      },
      {
        "duration": 3,
        "start_time": "2023-02-12T10:52:07.897Z"
      },
      {
        "duration": 3,
        "start_time": "2023-02-12T10:52:10.095Z"
      },
      {
        "duration": 11,
        "start_time": "2023-02-12T10:52:10.673Z"
      },
      {
        "duration": 3,
        "start_time": "2023-02-12T10:52:12.415Z"
      },
      {
        "duration": 4,
        "start_time": "2023-02-12T10:52:20.548Z"
      },
      {
        "duration": 13,
        "start_time": "2023-02-12T10:52:21.027Z"
      },
      {
        "duration": 4,
        "start_time": "2023-02-12T10:52:21.526Z"
      },
      {
        "duration": 3,
        "start_time": "2023-02-12T10:52:40.640Z"
      },
      {
        "duration": 14,
        "start_time": "2023-02-12T10:52:41.151Z"
      },
      {
        "duration": 4,
        "start_time": "2023-02-12T10:52:41.539Z"
      },
      {
        "duration": 3,
        "start_time": "2023-02-12T10:53:00.344Z"
      },
      {
        "duration": 3,
        "start_time": "2023-02-12T10:53:00.993Z"
      },
      {
        "duration": 4,
        "start_time": "2023-02-12T10:53:01.408Z"
      },
      {
        "duration": 3,
        "start_time": "2023-02-12T10:53:03.183Z"
      },
      {
        "duration": 14,
        "start_time": "2023-02-12T10:53:03.784Z"
      },
      {
        "duration": 3,
        "start_time": "2023-02-12T10:53:13.704Z"
      },
      {
        "duration": 14,
        "start_time": "2023-02-12T10:53:14.022Z"
      },
      {
        "duration": 4,
        "start_time": "2023-02-12T10:53:14.429Z"
      },
      {
        "duration": 4,
        "start_time": "2023-02-12T10:53:15.299Z"
      },
      {
        "duration": 3,
        "start_time": "2023-02-12T10:53:16.026Z"
      },
      {
        "duration": 5,
        "start_time": "2023-02-12T10:58:22.593Z"
      },
      {
        "duration": 2,
        "start_time": "2023-02-12T10:59:09.841Z"
      },
      {
        "duration": 4,
        "start_time": "2023-02-12T10:59:36.751Z"
      },
      {
        "duration": 14,
        "start_time": "2023-02-12T11:00:12.227Z"
      },
      {
        "duration": 4,
        "start_time": "2023-02-12T11:00:20.845Z"
      },
      {
        "duration": 21,
        "start_time": "2023-02-12T11:00:21.366Z"
      },
      {
        "duration": 4,
        "start_time": "2023-02-12T11:00:43.915Z"
      },
      {
        "duration": 18,
        "start_time": "2023-02-12T11:00:44.251Z"
      },
      {
        "duration": 17,
        "start_time": "2023-02-12T11:01:58.598Z"
      },
      {
        "duration": 5,
        "start_time": "2023-02-12T11:12:03.661Z"
      },
      {
        "duration": 18,
        "start_time": "2023-02-12T11:13:19.501Z"
      },
      {
        "duration": 4,
        "start_time": "2023-02-12T11:15:10.375Z"
      },
      {
        "duration": 17,
        "start_time": "2023-02-12T11:15:11.093Z"
      },
      {
        "duration": 4,
        "start_time": "2023-02-12T11:15:35.470Z"
      },
      {
        "duration": 18,
        "start_time": "2023-02-12T11:15:36.468Z"
      },
      {
        "duration": 11,
        "start_time": "2023-02-12T11:16:49.059Z"
      },
      {
        "duration": 18,
        "start_time": "2023-02-12T11:18:27.211Z"
      },
      {
        "duration": 15,
        "start_time": "2023-02-12T11:19:09.907Z"
      },
      {
        "duration": 17,
        "start_time": "2023-02-12T11:22:52.623Z"
      },
      {
        "duration": 994,
        "start_time": "2023-02-12T11:23:37.543Z"
      },
      {
        "duration": 140,
        "start_time": "2023-02-12T11:23:38.539Z"
      },
      {
        "duration": 130,
        "start_time": "2023-02-12T11:23:38.681Z"
      },
      {
        "duration": 117,
        "start_time": "2023-02-12T11:23:38.870Z"
      },
      {
        "duration": 33,
        "start_time": "2023-02-12T11:23:39.585Z"
      },
      {
        "duration": 127,
        "start_time": "2023-02-12T11:23:40.165Z"
      },
      {
        "duration": 4,
        "start_time": "2023-02-12T11:23:42.129Z"
      },
      {
        "duration": 68,
        "start_time": "2023-02-12T11:23:42.573Z"
      },
      {
        "duration": 4,
        "start_time": "2023-02-12T11:23:43.281Z"
      },
      {
        "duration": 25,
        "start_time": "2023-02-12T11:23:43.636Z"
      },
      {
        "duration": 24,
        "start_time": "2023-02-12T11:23:44.150Z"
      },
      {
        "duration": 12,
        "start_time": "2023-02-12T11:23:44.538Z"
      },
      {
        "duration": 2,
        "start_time": "2023-02-12T11:23:46.476Z"
      },
      {
        "duration": 2,
        "start_time": "2023-02-12T11:23:46.925Z"
      },
      {
        "duration": 3,
        "start_time": "2023-02-12T11:23:47.343Z"
      },
      {
        "duration": 3,
        "start_time": "2023-02-12T11:23:49.128Z"
      },
      {
        "duration": 12,
        "start_time": "2023-02-12T11:23:49.491Z"
      },
      {
        "duration": 4,
        "start_time": "2023-02-12T11:23:49.928Z"
      },
      {
        "duration": 4,
        "start_time": "2023-02-12T11:23:50.393Z"
      },
      {
        "duration": 4,
        "start_time": "2023-02-12T11:23:50.828Z"
      },
      {
        "duration": 104,
        "start_time": "2023-02-12T11:23:54.485Z"
      },
      {
        "duration": 18,
        "start_time": "2023-02-12T11:27:53.610Z"
      },
      {
        "duration": 5,
        "start_time": "2023-02-12T11:30:59.273Z"
      },
      {
        "duration": 8,
        "start_time": "2023-02-12T11:31:00.017Z"
      },
      {
        "duration": 2,
        "start_time": "2023-02-12T11:31:05.868Z"
      },
      {
        "duration": 2,
        "start_time": "2023-02-12T11:31:11.379Z"
      },
      {
        "duration": 4,
        "start_time": "2023-02-12T11:31:11.596Z"
      },
      {
        "duration": 3,
        "start_time": "2023-02-12T11:31:14.007Z"
      },
      {
        "duration": 14,
        "start_time": "2023-02-12T11:31:14.351Z"
      },
      {
        "duration": 4,
        "start_time": "2023-02-12T11:31:14.682Z"
      },
      {
        "duration": 3,
        "start_time": "2023-02-12T11:31:15.105Z"
      },
      {
        "duration": 3,
        "start_time": "2023-02-12T11:31:15.444Z"
      },
      {
        "duration": 5,
        "start_time": "2023-02-12T11:31:18.388Z"
      },
      {
        "duration": 22,
        "start_time": "2023-02-12T11:31:19.118Z"
      },
      {
        "duration": 3,
        "start_time": "2023-02-12T11:35:47.870Z"
      },
      {
        "duration": 3,
        "start_time": "2023-02-12T11:35:52.909Z"
      },
      {
        "duration": 9,
        "start_time": "2023-02-12T11:35:53.386Z"
      },
      {
        "duration": 21,
        "start_time": "2023-02-12T11:36:11.190Z"
      },
      {
        "duration": 3,
        "start_time": "2023-02-12T11:37:17.710Z"
      },
      {
        "duration": 20,
        "start_time": "2023-02-12T11:37:18.646Z"
      },
      {
        "duration": 4,
        "start_time": "2023-02-12T11:44:33.672Z"
      },
      {
        "duration": 4,
        "start_time": "2023-02-12T11:44:35.617Z"
      },
      {
        "duration": 3,
        "start_time": "2023-02-12T11:44:37.651Z"
      },
      {
        "duration": 5,
        "start_time": "2023-02-12T11:45:18.325Z"
      },
      {
        "duration": 4,
        "start_time": "2023-02-12T11:46:14.153Z"
      },
      {
        "duration": 4,
        "start_time": "2023-02-12T11:46:17.476Z"
      },
      {
        "duration": 8,
        "start_time": "2023-02-12T11:46:22.134Z"
      },
      {
        "duration": 4,
        "start_time": "2023-02-12T11:47:13.145Z"
      },
      {
        "duration": 1506,
        "start_time": "2023-02-12T11:47:13.546Z"
      },
      {
        "duration": 5,
        "start_time": "2023-02-12T11:48:33.516Z"
      },
      {
        "duration": 1468,
        "start_time": "2023-02-12T11:48:33.890Z"
      },
      {
        "duration": 4,
        "start_time": "2023-02-12T11:49:08.101Z"
      },
      {
        "duration": 1425,
        "start_time": "2023-02-12T11:49:08.457Z"
      },
      {
        "duration": 1393,
        "start_time": "2023-02-12T11:49:57.825Z"
      },
      {
        "duration": 1355,
        "start_time": "2023-02-12T11:50:00.255Z"
      },
      {
        "duration": 21,
        "start_time": "2023-02-12T11:52:05.716Z"
      },
      {
        "duration": 4,
        "start_time": "2023-02-12T11:52:32.407Z"
      },
      {
        "duration": 175,
        "start_time": "2023-02-12T11:52:33.177Z"
      },
      {
        "duration": 3,
        "start_time": "2023-02-12T11:52:36.612Z"
      },
      {
        "duration": 36,
        "start_time": "2023-02-12T11:52:39.060Z"
      },
      {
        "duration": 24,
        "start_time": "2023-02-12T11:52:40.179Z"
      },
      {
        "duration": 22,
        "start_time": "2023-02-12T11:52:40.967Z"
      },
      {
        "duration": 5,
        "start_time": "2023-02-12T11:52:57.600Z"
      },
      {
        "duration": 19,
        "start_time": "2023-02-12T11:52:57.946Z"
      },
      {
        "duration": 17,
        "start_time": "2023-02-12T11:52:58.526Z"
      },
      {
        "duration": 18,
        "start_time": "2023-02-12T11:52:59.265Z"
      },
      {
        "duration": 3,
        "start_time": "2023-02-12T11:53:07.033Z"
      },
      {
        "duration": 3,
        "start_time": "2023-02-12T11:53:08.306Z"
      },
      {
        "duration": 3,
        "start_time": "2023-02-12T11:53:09.096Z"
      },
      {
        "duration": 45,
        "start_time": "2023-02-12T11:57:43.768Z"
      },
      {
        "duration": 3,
        "start_time": "2023-02-12T12:03:52.741Z"
      },
      {
        "duration": 6,
        "start_time": "2023-02-12T12:05:11.751Z"
      },
      {
        "duration": 1460,
        "start_time": "2023-02-12T12:05:12.502Z"
      },
      {
        "duration": 1434,
        "start_time": "2023-02-12T12:05:15.034Z"
      },
      {
        "duration": 1388,
        "start_time": "2023-02-12T12:05:17.502Z"
      },
      {
        "duration": 4,
        "start_time": "2023-02-12T12:07:17.707Z"
      },
      {
        "duration": 11,
        "start_time": "2023-02-12T12:07:29.891Z"
      },
      {
        "duration": 5,
        "start_time": "2023-02-12T12:07:47.931Z"
      },
      {
        "duration": 11,
        "start_time": "2023-02-12T12:07:48.630Z"
      },
      {
        "duration": 12,
        "start_time": "2023-02-12T12:08:24.750Z"
      },
      {
        "duration": 4,
        "start_time": "2023-02-12T12:09:22.779Z"
      },
      {
        "duration": 13,
        "start_time": "2023-02-12T12:09:23.303Z"
      },
      {
        "duration": 8,
        "start_time": "2023-02-12T12:10:46.827Z"
      },
      {
        "duration": 13,
        "start_time": "2023-02-12T12:10:55.056Z"
      },
      {
        "duration": 8,
        "start_time": "2023-02-12T12:12:11.318Z"
      },
      {
        "duration": 7,
        "start_time": "2023-02-12T12:12:15.107Z"
      },
      {
        "duration": 18,
        "start_time": "2023-02-12T12:12:15.697Z"
      },
      {
        "duration": 9,
        "start_time": "2023-02-12T12:12:45.401Z"
      },
      {
        "duration": 1010,
        "start_time": "2023-02-12T12:18:05.244Z"
      },
      {
        "duration": 142,
        "start_time": "2023-02-12T12:18:06.813Z"
      },
      {
        "duration": 130,
        "start_time": "2023-02-12T12:18:08.195Z"
      },
      {
        "duration": 119,
        "start_time": "2023-02-12T12:18:09.171Z"
      },
      {
        "duration": 36,
        "start_time": "2023-02-12T12:18:10.102Z"
      },
      {
        "duration": 115,
        "start_time": "2023-02-12T12:18:11.249Z"
      },
      {
        "duration": 23,
        "start_time": "2023-02-12T12:18:12.265Z"
      },
      {
        "duration": 4,
        "start_time": "2023-02-12T12:18:15.383Z"
      },
      {
        "duration": 184,
        "start_time": "2023-02-12T12:18:16.351Z"
      },
      {
        "duration": 3,
        "start_time": "2023-02-12T12:18:18.217Z"
      },
      {
        "duration": 29,
        "start_time": "2023-02-12T12:18:19.407Z"
      },
      {
        "duration": 24,
        "start_time": "2023-02-12T12:18:20.524Z"
      },
      {
        "duration": 23,
        "start_time": "2023-02-12T12:18:21.444Z"
      },
      {
        "duration": 3,
        "start_time": "2023-02-12T12:18:23.909Z"
      },
      {
        "duration": 3,
        "start_time": "2023-02-12T12:18:24.637Z"
      },
      {
        "duration": 3,
        "start_time": "2023-02-12T12:18:25.266Z"
      },
      {
        "duration": 3,
        "start_time": "2023-02-12T12:18:27.587Z"
      },
      {
        "duration": 4,
        "start_time": "2023-02-12T12:18:29.761Z"
      },
      {
        "duration": 97,
        "start_time": "2023-02-12T12:18:30.429Z"
      },
      {
        "duration": 5,
        "start_time": "2023-02-12T12:20:25.105Z"
      },
      {
        "duration": 14,
        "start_time": "2023-02-12T12:20:27.965Z"
      },
      {
        "duration": 4,
        "start_time": "2023-02-12T12:21:06.458Z"
      },
      {
        "duration": 1417,
        "start_time": "2023-02-12T12:21:08.694Z"
      },
      {
        "duration": 1435,
        "start_time": "2023-02-12T12:21:10.113Z"
      },
      {
        "duration": 1433,
        "start_time": "2023-02-12T12:21:11.550Z"
      },
      {
        "duration": 4,
        "start_time": "2023-02-12T12:21:49.709Z"
      },
      {
        "duration": 1357,
        "start_time": "2023-02-12T12:21:50.488Z"
      },
      {
        "duration": 1405,
        "start_time": "2023-02-12T12:21:52.799Z"
      },
      {
        "duration": 1389,
        "start_time": "2023-02-12T12:21:54.746Z"
      }
    ],
    "kernelspec": {
      "display_name": "Python 3 (ipykernel)",
      "language": "python",
      "name": "python3"
    },
    "language_info": {
      "codemirror_mode": {
        "name": "ipython",
        "version": 3
      },
      "file_extension": ".py",
      "mimetype": "text/x-python",
      "name": "python",
      "nbconvert_exporter": "python",
      "pygments_lexer": "ipython3",
      "version": "3.9.5"
    },
    "toc": {
      "base_numbering": 1,
      "nav_menu": {},
      "number_sections": true,
      "sideBar": true,
      "skip_h1_title": true,
      "title_cell": "Table of Contents",
      "title_sidebar": "Contents",
      "toc_cell": false,
      "toc_position": {},
      "toc_section_display": true,
      "toc_window_display": false
    },
    "colab": {
      "provenance": []
    }
  },
  "nbformat": 4,
  "nbformat_minor": 0
}