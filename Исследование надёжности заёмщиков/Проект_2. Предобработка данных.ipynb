{
  "cells": [
    {
      "cell_type": "markdown",
      "id": "76b1d68c",
      "metadata": {
        "deletable": false,
        "editable": false,
        "id": "76b1d68c"
      },
      "source": [
        "# Исследование надежности заемщиков\n"
      ]
    },
    {
      "cell_type": "markdown",
      "source": [
        "Заказчик — кредитный отдел банка. Нужно разобраться, влияет ли семейное положение и количество детей клиента на факт погашения кредита в срок. Входные данные от банка — статистика о платёжеспособности клиентов.\n",
        "\n",
        "Результаты исследования будут учтены при построении модели кредитного скоринга — специальной системы, которая оценивает способность потенциального заёмщика вернуть кредит банку."
      ],
      "metadata": {
        "id": "M9THIzbHJ9qx"
      },
      "id": "M9THIzbHJ9qx"
    },
    {
      "cell_type": "markdown",
      "id": "b45c2451",
      "metadata": {
        "deletable": false,
        "editable": false,
        "id": "b45c2451"
      },
      "source": [
        "## Обзор данных"
      ]
    },
    {
      "cell_type": "code",
      "source": [
        "import pandas as pd\n",
        "import seaborn as sns\n",
        "import matplotlib.pyplot as plt"
      ],
      "metadata": {
        "id": "O_dF4Ex9KIoA"
      },
      "id": "O_dF4Ex9KIoA",
      "execution_count": null,
      "outputs": []
    },
    {
      "cell_type": "code",
      "execution_count": null,
      "id": "05454c7b",
      "metadata": {
        "deletable": false,
        "id": "05454c7b"
      },
      "outputs": [],
      "source": [
        "try:\n",
        "    data = pd.read_csv('/datasets/data.csv')\n",
        "except:\n",
        "    data = pd.read_csv('https://code.s3.yandex.net/datasets/data.csv')"
      ]
    },
    {
      "cell_type": "code",
      "execution_count": null,
      "id": "36715c38",
      "metadata": {
        "deletable": false,
        "id": "36715c38",
        "outputId": "1a8f3ef2-d323-4ec2-ddf7-89670b5944c4"
      },
      "outputs": [
        {
          "data": {
            "text/html": [
              "<div>\n",
              "<style scoped>\n",
              "    .dataframe tbody tr th:only-of-type {\n",
              "        vertical-align: middle;\n",
              "    }\n",
              "\n",
              "    .dataframe tbody tr th {\n",
              "        vertical-align: top;\n",
              "    }\n",
              "\n",
              "    .dataframe thead th {\n",
              "        text-align: right;\n",
              "    }\n",
              "</style>\n",
              "<table border=\"1\" class=\"dataframe\">\n",
              "  <thead>\n",
              "    <tr style=\"text-align: right;\">\n",
              "      <th></th>\n",
              "      <th>children</th>\n",
              "      <th>days_employed</th>\n",
              "      <th>dob_years</th>\n",
              "      <th>education</th>\n",
              "      <th>education_id</th>\n",
              "      <th>family_status</th>\n",
              "      <th>family_status_id</th>\n",
              "      <th>gender</th>\n",
              "      <th>income_type</th>\n",
              "      <th>debt</th>\n",
              "      <th>total_income</th>\n",
              "      <th>purpose</th>\n",
              "    </tr>\n",
              "  </thead>\n",
              "  <tbody>\n",
              "    <tr>\n",
              "      <th>0</th>\n",
              "      <td>1</td>\n",
              "      <td>-8437.673028</td>\n",
              "      <td>42</td>\n",
              "      <td>высшее</td>\n",
              "      <td>0</td>\n",
              "      <td>женат / замужем</td>\n",
              "      <td>0</td>\n",
              "      <td>F</td>\n",
              "      <td>сотрудник</td>\n",
              "      <td>0</td>\n",
              "      <td>253875.639453</td>\n",
              "      <td>покупка жилья</td>\n",
              "    </tr>\n",
              "    <tr>\n",
              "      <th>1</th>\n",
              "      <td>1</td>\n",
              "      <td>-4024.803754</td>\n",
              "      <td>36</td>\n",
              "      <td>среднее</td>\n",
              "      <td>1</td>\n",
              "      <td>женат / замужем</td>\n",
              "      <td>0</td>\n",
              "      <td>F</td>\n",
              "      <td>сотрудник</td>\n",
              "      <td>0</td>\n",
              "      <td>112080.014102</td>\n",
              "      <td>приобретение автомобиля</td>\n",
              "    </tr>\n",
              "    <tr>\n",
              "      <th>2</th>\n",
              "      <td>0</td>\n",
              "      <td>-5623.422610</td>\n",
              "      <td>33</td>\n",
              "      <td>Среднее</td>\n",
              "      <td>1</td>\n",
              "      <td>женат / замужем</td>\n",
              "      <td>0</td>\n",
              "      <td>M</td>\n",
              "      <td>сотрудник</td>\n",
              "      <td>0</td>\n",
              "      <td>145885.952297</td>\n",
              "      <td>покупка жилья</td>\n",
              "    </tr>\n",
              "    <tr>\n",
              "      <th>3</th>\n",
              "      <td>3</td>\n",
              "      <td>-4124.747207</td>\n",
              "      <td>32</td>\n",
              "      <td>среднее</td>\n",
              "      <td>1</td>\n",
              "      <td>женат / замужем</td>\n",
              "      <td>0</td>\n",
              "      <td>M</td>\n",
              "      <td>сотрудник</td>\n",
              "      <td>0</td>\n",
              "      <td>267628.550329</td>\n",
              "      <td>дополнительное образование</td>\n",
              "    </tr>\n",
              "    <tr>\n",
              "      <th>4</th>\n",
              "      <td>0</td>\n",
              "      <td>340266.072047</td>\n",
              "      <td>53</td>\n",
              "      <td>среднее</td>\n",
              "      <td>1</td>\n",
              "      <td>гражданский брак</td>\n",
              "      <td>1</td>\n",
              "      <td>F</td>\n",
              "      <td>пенсионер</td>\n",
              "      <td>0</td>\n",
              "      <td>158616.077870</td>\n",
              "      <td>сыграть свадьбу</td>\n",
              "    </tr>\n",
              "    <tr>\n",
              "      <th>5</th>\n",
              "      <td>0</td>\n",
              "      <td>-926.185831</td>\n",
              "      <td>27</td>\n",
              "      <td>высшее</td>\n",
              "      <td>0</td>\n",
              "      <td>гражданский брак</td>\n",
              "      <td>1</td>\n",
              "      <td>M</td>\n",
              "      <td>компаньон</td>\n",
              "      <td>0</td>\n",
              "      <td>255763.565419</td>\n",
              "      <td>покупка жилья</td>\n",
              "    </tr>\n",
              "    <tr>\n",
              "      <th>6</th>\n",
              "      <td>0</td>\n",
              "      <td>-2879.202052</td>\n",
              "      <td>43</td>\n",
              "      <td>высшее</td>\n",
              "      <td>0</td>\n",
              "      <td>женат / замужем</td>\n",
              "      <td>0</td>\n",
              "      <td>F</td>\n",
              "      <td>компаньон</td>\n",
              "      <td>0</td>\n",
              "      <td>240525.971920</td>\n",
              "      <td>операции с жильем</td>\n",
              "    </tr>\n",
              "    <tr>\n",
              "      <th>7</th>\n",
              "      <td>0</td>\n",
              "      <td>-152.779569</td>\n",
              "      <td>50</td>\n",
              "      <td>СРЕДНЕЕ</td>\n",
              "      <td>1</td>\n",
              "      <td>женат / замужем</td>\n",
              "      <td>0</td>\n",
              "      <td>M</td>\n",
              "      <td>сотрудник</td>\n",
              "      <td>0</td>\n",
              "      <td>135823.934197</td>\n",
              "      <td>образование</td>\n",
              "    </tr>\n",
              "    <tr>\n",
              "      <th>8</th>\n",
              "      <td>2</td>\n",
              "      <td>-6929.865299</td>\n",
              "      <td>35</td>\n",
              "      <td>ВЫСШЕЕ</td>\n",
              "      <td>0</td>\n",
              "      <td>гражданский брак</td>\n",
              "      <td>1</td>\n",
              "      <td>F</td>\n",
              "      <td>сотрудник</td>\n",
              "      <td>0</td>\n",
              "      <td>95856.832424</td>\n",
              "      <td>на проведение свадьбы</td>\n",
              "    </tr>\n",
              "    <tr>\n",
              "      <th>9</th>\n",
              "      <td>0</td>\n",
              "      <td>-2188.756445</td>\n",
              "      <td>41</td>\n",
              "      <td>среднее</td>\n",
              "      <td>1</td>\n",
              "      <td>женат / замужем</td>\n",
              "      <td>0</td>\n",
              "      <td>M</td>\n",
              "      <td>сотрудник</td>\n",
              "      <td>0</td>\n",
              "      <td>144425.938277</td>\n",
              "      <td>покупка жилья для семьи</td>\n",
              "    </tr>\n",
              "    <tr>\n",
              "      <th>10</th>\n",
              "      <td>2</td>\n",
              "      <td>-4171.483647</td>\n",
              "      <td>36</td>\n",
              "      <td>высшее</td>\n",
              "      <td>0</td>\n",
              "      <td>женат / замужем</td>\n",
              "      <td>0</td>\n",
              "      <td>M</td>\n",
              "      <td>компаньон</td>\n",
              "      <td>0</td>\n",
              "      <td>113943.491460</td>\n",
              "      <td>покупка недвижимости</td>\n",
              "    </tr>\n",
              "    <tr>\n",
              "      <th>11</th>\n",
              "      <td>0</td>\n",
              "      <td>-792.701887</td>\n",
              "      <td>40</td>\n",
              "      <td>среднее</td>\n",
              "      <td>1</td>\n",
              "      <td>женат / замужем</td>\n",
              "      <td>0</td>\n",
              "      <td>F</td>\n",
              "      <td>сотрудник</td>\n",
              "      <td>0</td>\n",
              "      <td>77069.234271</td>\n",
              "      <td>покупка коммерческой недвижимости</td>\n",
              "    </tr>\n",
              "    <tr>\n",
              "      <th>12</th>\n",
              "      <td>0</td>\n",
              "      <td>NaN</td>\n",
              "      <td>65</td>\n",
              "      <td>среднее</td>\n",
              "      <td>1</td>\n",
              "      <td>гражданский брак</td>\n",
              "      <td>1</td>\n",
              "      <td>M</td>\n",
              "      <td>пенсионер</td>\n",
              "      <td>0</td>\n",
              "      <td>NaN</td>\n",
              "      <td>сыграть свадьбу</td>\n",
              "    </tr>\n",
              "    <tr>\n",
              "      <th>13</th>\n",
              "      <td>0</td>\n",
              "      <td>-1846.641941</td>\n",
              "      <td>54</td>\n",
              "      <td>неоконченное высшее</td>\n",
              "      <td>2</td>\n",
              "      <td>женат / замужем</td>\n",
              "      <td>0</td>\n",
              "      <td>F</td>\n",
              "      <td>сотрудник</td>\n",
              "      <td>0</td>\n",
              "      <td>130458.228857</td>\n",
              "      <td>приобретение автомобиля</td>\n",
              "    </tr>\n",
              "    <tr>\n",
              "      <th>14</th>\n",
              "      <td>0</td>\n",
              "      <td>-1844.956182</td>\n",
              "      <td>56</td>\n",
              "      <td>высшее</td>\n",
              "      <td>0</td>\n",
              "      <td>гражданский брак</td>\n",
              "      <td>1</td>\n",
              "      <td>F</td>\n",
              "      <td>компаньон</td>\n",
              "      <td>1</td>\n",
              "      <td>165127.911772</td>\n",
              "      <td>покупка жилой недвижимости</td>\n",
              "    </tr>\n",
              "    <tr>\n",
              "      <th>15</th>\n",
              "      <td>1</td>\n",
              "      <td>-972.364419</td>\n",
              "      <td>26</td>\n",
              "      <td>среднее</td>\n",
              "      <td>1</td>\n",
              "      <td>женат / замужем</td>\n",
              "      <td>0</td>\n",
              "      <td>F</td>\n",
              "      <td>сотрудник</td>\n",
              "      <td>0</td>\n",
              "      <td>116820.904450</td>\n",
              "      <td>строительство собственной недвижимости</td>\n",
              "    </tr>\n",
              "    <tr>\n",
              "      <th>16</th>\n",
              "      <td>0</td>\n",
              "      <td>-1719.934226</td>\n",
              "      <td>35</td>\n",
              "      <td>среднее</td>\n",
              "      <td>1</td>\n",
              "      <td>женат / замужем</td>\n",
              "      <td>0</td>\n",
              "      <td>F</td>\n",
              "      <td>сотрудник</td>\n",
              "      <td>0</td>\n",
              "      <td>289202.704229</td>\n",
              "      <td>недвижимость</td>\n",
              "    </tr>\n",
              "    <tr>\n",
              "      <th>17</th>\n",
              "      <td>0</td>\n",
              "      <td>-2369.999720</td>\n",
              "      <td>33</td>\n",
              "      <td>высшее</td>\n",
              "      <td>0</td>\n",
              "      <td>гражданский брак</td>\n",
              "      <td>1</td>\n",
              "      <td>M</td>\n",
              "      <td>сотрудник</td>\n",
              "      <td>0</td>\n",
              "      <td>90410.586745</td>\n",
              "      <td>строительство недвижимости</td>\n",
              "    </tr>\n",
              "    <tr>\n",
              "      <th>18</th>\n",
              "      <td>0</td>\n",
              "      <td>400281.136913</td>\n",
              "      <td>53</td>\n",
              "      <td>среднее</td>\n",
              "      <td>1</td>\n",
              "      <td>вдовец / вдова</td>\n",
              "      <td>2</td>\n",
              "      <td>F</td>\n",
              "      <td>пенсионер</td>\n",
              "      <td>0</td>\n",
              "      <td>56823.777243</td>\n",
              "      <td>на покупку подержанного автомобиля</td>\n",
              "    </tr>\n",
              "    <tr>\n",
              "      <th>19</th>\n",
              "      <td>0</td>\n",
              "      <td>-10038.818549</td>\n",
              "      <td>48</td>\n",
              "      <td>СРЕДНЕЕ</td>\n",
              "      <td>1</td>\n",
              "      <td>в разводе</td>\n",
              "      <td>3</td>\n",
              "      <td>F</td>\n",
              "      <td>сотрудник</td>\n",
              "      <td>0</td>\n",
              "      <td>242831.107982</td>\n",
              "      <td>на покупку своего автомобиля</td>\n",
              "    </tr>\n",
              "  </tbody>\n",
              "</table>\n",
              "</div>"
            ],
            "text/plain": [
              "    children  days_employed  dob_years            education  education_id  \\\n",
              "0          1   -8437.673028         42               высшее             0   \n",
              "1          1   -4024.803754         36              среднее             1   \n",
              "2          0   -5623.422610         33              Среднее             1   \n",
              "3          3   -4124.747207         32              среднее             1   \n",
              "4          0  340266.072047         53              среднее             1   \n",
              "5          0    -926.185831         27               высшее             0   \n",
              "6          0   -2879.202052         43               высшее             0   \n",
              "7          0    -152.779569         50              СРЕДНЕЕ             1   \n",
              "8          2   -6929.865299         35               ВЫСШЕЕ             0   \n",
              "9          0   -2188.756445         41              среднее             1   \n",
              "10         2   -4171.483647         36               высшее             0   \n",
              "11         0    -792.701887         40              среднее             1   \n",
              "12         0            NaN         65              среднее             1   \n",
              "13         0   -1846.641941         54  неоконченное высшее             2   \n",
              "14         0   -1844.956182         56               высшее             0   \n",
              "15         1    -972.364419         26              среднее             1   \n",
              "16         0   -1719.934226         35              среднее             1   \n",
              "17         0   -2369.999720         33               высшее             0   \n",
              "18         0  400281.136913         53              среднее             1   \n",
              "19         0  -10038.818549         48              СРЕДНЕЕ             1   \n",
              "\n",
              "       family_status  family_status_id gender income_type  debt  \\\n",
              "0    женат / замужем                 0      F   сотрудник     0   \n",
              "1    женат / замужем                 0      F   сотрудник     0   \n",
              "2    женат / замужем                 0      M   сотрудник     0   \n",
              "3    женат / замужем                 0      M   сотрудник     0   \n",
              "4   гражданский брак                 1      F   пенсионер     0   \n",
              "5   гражданский брак                 1      M   компаньон     0   \n",
              "6    женат / замужем                 0      F   компаньон     0   \n",
              "7    женат / замужем                 0      M   сотрудник     0   \n",
              "8   гражданский брак                 1      F   сотрудник     0   \n",
              "9    женат / замужем                 0      M   сотрудник     0   \n",
              "10   женат / замужем                 0      M   компаньон     0   \n",
              "11   женат / замужем                 0      F   сотрудник     0   \n",
              "12  гражданский брак                 1      M   пенсионер     0   \n",
              "13   женат / замужем                 0      F   сотрудник     0   \n",
              "14  гражданский брак                 1      F   компаньон     1   \n",
              "15   женат / замужем                 0      F   сотрудник     0   \n",
              "16   женат / замужем                 0      F   сотрудник     0   \n",
              "17  гражданский брак                 1      M   сотрудник     0   \n",
              "18    вдовец / вдова                 2      F   пенсионер     0   \n",
              "19         в разводе                 3      F   сотрудник     0   \n",
              "\n",
              "     total_income                                 purpose  \n",
              "0   253875.639453                           покупка жилья  \n",
              "1   112080.014102                 приобретение автомобиля  \n",
              "2   145885.952297                           покупка жилья  \n",
              "3   267628.550329              дополнительное образование  \n",
              "4   158616.077870                         сыграть свадьбу  \n",
              "5   255763.565419                           покупка жилья  \n",
              "6   240525.971920                       операции с жильем  \n",
              "7   135823.934197                             образование  \n",
              "8    95856.832424                   на проведение свадьбы  \n",
              "9   144425.938277                 покупка жилья для семьи  \n",
              "10  113943.491460                    покупка недвижимости  \n",
              "11   77069.234271       покупка коммерческой недвижимости  \n",
              "12            NaN                         сыграть свадьбу  \n",
              "13  130458.228857                 приобретение автомобиля  \n",
              "14  165127.911772              покупка жилой недвижимости  \n",
              "15  116820.904450  строительство собственной недвижимости  \n",
              "16  289202.704229                            недвижимость  \n",
              "17   90410.586745              строительство недвижимости  \n",
              "18   56823.777243      на покупку подержанного автомобиля  \n",
              "19  242831.107982            на покупку своего автомобиля  "
            ]
          },
          "execution_count": 9,
          "metadata": {},
          "output_type": "execute_result"
        }
      ],
      "source": [
        "data.head(20)"
      ]
    },
    {
      "cell_type": "code",
      "execution_count": null,
      "id": "899c25e6",
      "metadata": {
        "deletable": false,
        "id": "899c25e6",
        "outputId": "15376089-8dad-46c9-b520-c05248d43158"
      },
      "outputs": [
        {
          "name": "stdout",
          "output_type": "stream",
          "text": [
            "<class 'pandas.core.frame.DataFrame'>\n",
            "RangeIndex: 21525 entries, 0 to 21524\n",
            "Data columns (total 12 columns):\n",
            " #   Column            Non-Null Count  Dtype  \n",
            "---  ------            --------------  -----  \n",
            " 0   children          21525 non-null  int64  \n",
            " 1   days_employed     19351 non-null  float64\n",
            " 2   dob_years         21525 non-null  int64  \n",
            " 3   education         21525 non-null  object \n",
            " 4   education_id      21525 non-null  int64  \n",
            " 5   family_status     21525 non-null  object \n",
            " 6   family_status_id  21525 non-null  int64  \n",
            " 7   gender            21525 non-null  object \n",
            " 8   income_type       21525 non-null  object \n",
            " 9   debt              21525 non-null  int64  \n",
            " 10  total_income      19351 non-null  float64\n",
            " 11  purpose           21525 non-null  object \n",
            "dtypes: float64(2), int64(5), object(5)\n",
            "memory usage: 2.0+ MB\n"
          ]
        }
      ],
      "source": [
        "data.info()"
      ]
    },
    {
      "cell_type": "markdown",
      "source": [
        "\n",
        "\n",
        "---\n",
        "\n",
        "\n",
        "**В данных есть некоторые проблемы, а именно пропуски, неправильные форматы данных. Необходимо будет устранить эти проблемы, поработав с данными**\n",
        "\n",
        "---\n",
        "\n"
      ],
      "metadata": {
        "id": "Dmb8iPAOKTK1"
      },
      "id": "Dmb8iPAOKTK1"
    },
    {
      "cell_type": "markdown",
      "id": "cf5a289e",
      "metadata": {
        "deletable": false,
        "editable": false,
        "id": "cf5a289e"
      },
      "source": [
        "## Предобработка данных"
      ]
    },
    {
      "cell_type": "markdown",
      "id": "f985faea",
      "metadata": {
        "deletable": false,
        "editable": false,
        "id": "f985faea"
      },
      "source": [
        "### Удаление пропусков"
      ]
    },
    {
      "cell_type": "markdown",
      "source": [
        "Подсчитаем пропуски"
      ],
      "metadata": {
        "id": "XcTTEhKiKshn"
      },
      "id": "XcTTEhKiKshn"
    },
    {
      "cell_type": "code",
      "execution_count": null,
      "id": "b30ac4d2",
      "metadata": {
        "deletable": false,
        "id": "b30ac4d2",
        "outputId": "81f4d817-781c-465c-ed15-91ce4446810d"
      },
      "outputs": [
        {
          "data": {
            "text/plain": [
              "children               0\n",
              "days_employed       2174\n",
              "dob_years              0\n",
              "education              0\n",
              "education_id           0\n",
              "family_status          0\n",
              "family_status_id       0\n",
              "gender                 0\n",
              "income_type            0\n",
              "debt                   0\n",
              "total_income        2174\n",
              "purpose                0\n",
              "dtype: int64"
            ]
          },
          "execution_count": 11,
          "metadata": {},
          "output_type": "execute_result"
        }
      ],
      "source": [
        "data.isna().sum()"
      ]
    },
    {
      "cell_type": "markdown",
      "source": [
        "\n",
        "\n",
        "---\n",
        "\n",
        "\n",
        "В одной из колонок имеются отсутствующие значения. Мы обработаем пропущенные значения в этой колонке на следующем этапе. Вторая колонка с пропущенными значениями называется `total_income` и содержит информацию о доходах. Тип занятости сильно влияет на общую сумму дохода, поэтому мы заполним пропущенные значения в этой колонке медианным значением для каждого типа занятости из колонки `income_type`. Например, для человека с типом занятости \"сотрудник\" пропущенное значение в колонке `total_income` будет заполнено медианным доходом среди всех записей с таким же типом занятости.\n",
        "\n",
        "---\n",
        "\n"
      ],
      "metadata": {
        "id": "wQWrBZafKw7p"
      },
      "id": "wQWrBZafKw7p"
    },
    {
      "cell_type": "code",
      "execution_count": null,
      "id": "24168d18",
      "metadata": {
        "deletable": false,
        "id": "24168d18"
      },
      "outputs": [],
      "source": [
        "for t in data['income_type'].unique():\n",
        "    data.loc[(data['income_type'] == t) & (data['total_income'].isna()), 'total_income'] = \\\n",
        "    data.loc[(data['income_type'] == t), 'total_income'].median()"
      ]
    },
    {
      "cell_type": "markdown",
      "id": "4567e3f3",
      "metadata": {
        "deletable": false,
        "editable": false,
        "id": "4567e3f3"
      },
      "source": [
        "### Обработка аномальных значений"
      ]
    },
    {
      "cell_type": "markdown",
      "id": "f44aa4a4",
      "metadata": {
        "deletable": false,
        "editable": false,
        "id": "f44aa4a4"
      },
      "source": [
        "**В данных могут встречаться артефакты (аномалии) — значения, которые не отражают действительность и появились по какой-то ошибке. таким артефактом будет отрицательное количество дней трудового стажа в столбце `days_employed`.**"
      ]
    },
    {
      "cell_type": "code",
      "execution_count": null,
      "id": "ac5f6795",
      "metadata": {
        "deletable": false,
        "id": "ac5f6795"
      },
      "outputs": [],
      "source": [
        "data['days_employed'] = data['days_employed'].abs()"
      ]
    },
    {
      "cell_type": "markdown",
      "id": "6d82cac3",
      "metadata": {
        "deletable": false,
        "editable": false,
        "id": "6d82cac3"
      },
      "source": [
        "**Для каждого типа занятости выведите медианное значение трудового стажа `days_employed` в днях.**"
      ]
    },
    {
      "cell_type": "code",
      "execution_count": null,
      "id": "cbbd2857",
      "metadata": {
        "deletable": false,
        "id": "cbbd2857",
        "outputId": "801ef80e-522b-4668-f34e-565af7432bcf"
      },
      "outputs": [
        {
          "data": {
            "text/plain": [
              "income_type\n",
              "безработный        366413.652744\n",
              "в декрете            3296.759962\n",
              "госслужащий          2689.368353\n",
              "компаньон            1547.382223\n",
              "пенсионер          365213.306266\n",
              "предприниматель       520.848083\n",
              "сотрудник            1574.202821\n",
              "студент               578.751554\n",
              "Name: days_employed, dtype: float64"
            ]
          },
          "execution_count": 14,
          "metadata": {},
          "output_type": "execute_result"
        }
      ],
      "source": [
        "data.groupby('income_type')['days_employed'].agg('median')"
      ]
    },
    {
      "cell_type": "markdown",
      "id": "d5e63306",
      "metadata": {
        "deletable": false,
        "editable": false,
        "id": "d5e63306"
      },
      "source": [
        "У двух типов (безработные и пенсионеры) получатся аномально большие значения. Исправить такие значения сложно, поэтому оставьте их как есть. Тем более этот столбец не понадобится вам для исследования."
      ]
    },
    {
      "cell_type": "markdown",
      "id": "aedcd599",
      "metadata": {
        "deletable": false,
        "editable": false,
        "id": "aedcd599"
      },
      "source": [
        "**Посмотрим на уникальные значения столбца `children`.**"
      ]
    },
    {
      "cell_type": "code",
      "execution_count": null,
      "id": "40e57e09",
      "metadata": {
        "deletable": false,
        "id": "40e57e09",
        "outputId": "6975b15c-7f95-4697-d16d-a0c79b657b03"
      },
      "outputs": [
        {
          "data": {
            "text/plain": [
              "array([ 1,  0,  3,  2, -1,  4, 20,  5])"
            ]
          },
          "execution_count": 15,
          "metadata": {},
          "output_type": "execute_result"
        }
      ],
      "source": [
        "data['children'].unique()"
      ]
    },
    {
      "cell_type": "markdown",
      "id": "4f5298ad",
      "metadata": {
        "deletable": false,
        "editable": false,
        "id": "4f5298ad"
      },
      "source": [
        "**В столбце `children` есть два аномальных значения. Удалиv строки, в которых встречаются такие аномальные значения из датафрейма `data`.**"
      ]
    },
    {
      "cell_type": "code",
      "execution_count": null,
      "id": "22ff9484",
      "metadata": {
        "deletable": false,
        "id": "22ff9484"
      },
      "outputs": [],
      "source": [
        "data = data[(data['children'] != -1) & (data['children'] != 20)]"
      ]
    },
    {
      "cell_type": "markdown",
      "id": "a70c418f",
      "metadata": {
        "deletable": false,
        "editable": false,
        "id": "a70c418f"
      },
      "source": [
        "**Проверяем**"
      ]
    },
    {
      "cell_type": "code",
      "execution_count": null,
      "id": "ae9c5b41",
      "metadata": {
        "deletable": false,
        "id": "ae9c5b41",
        "outputId": "b2097101-d49d-44d9-901b-32a65c9463d1"
      },
      "outputs": [
        {
          "data": {
            "text/plain": [
              "array([1, 0, 3, 2, 4, 5])"
            ]
          },
          "execution_count": 17,
          "metadata": {},
          "output_type": "execute_result"
        }
      ],
      "source": [
        "data['children'].unique()"
      ]
    },
    {
      "cell_type": "markdown",
      "id": "b0d2da79",
      "metadata": {
        "deletable": false,
        "editable": false,
        "id": "b0d2da79"
      },
      "source": [
        "**Заполним пропуски в столбце days_employed медианными значениями по каждого типа занятости `income_type`.**"
      ]
    },
    {
      "cell_type": "code",
      "execution_count": null,
      "id": "90ee38b1",
      "metadata": {
        "deletable": false,
        "id": "90ee38b1"
      },
      "outputs": [],
      "source": [
        "for t in data['income_type'].unique():\n",
        "    data.loc[(data['income_type'] == t) & (data['days_employed'].isna()), 'days_employed'] = \\\n",
        "    data.loc[(data['income_type'] == t), 'days_employed'].median()"
      ]
    },
    {
      "cell_type": "markdown",
      "id": "830010c0",
      "metadata": {
        "deletable": false,
        "editable": false,
        "id": "830010c0"
      },
      "source": [
        "**Проверим**"
      ]
    },
    {
      "cell_type": "code",
      "execution_count": null,
      "id": "0813a596",
      "metadata": {
        "deletable": false,
        "id": "0813a596",
        "outputId": "8da1e4e1-358e-4e87-98c9-f261bce0a7b2"
      },
      "outputs": [
        {
          "data": {
            "text/plain": [
              "children            0\n",
              "days_employed       0\n",
              "dob_years           0\n",
              "education           0\n",
              "education_id        0\n",
              "family_status       0\n",
              "family_status_id    0\n",
              "gender              0\n",
              "income_type         0\n",
              "debt                0\n",
              "total_income        0\n",
              "purpose             0\n",
              "dtype: int64"
            ]
          },
          "execution_count": 19,
          "metadata": {},
          "output_type": "execute_result"
        }
      ],
      "source": [
        "data.isna().sum()"
      ]
    },
    {
      "cell_type": "markdown",
      "id": "885bfb54",
      "metadata": {
        "deletable": false,
        "editable": false,
        "id": "885bfb54"
      },
      "source": [
        "### Изменение типов данных"
      ]
    },
    {
      "cell_type": "markdown",
      "id": "dab16040",
      "metadata": {
        "deletable": false,
        "editable": false,
        "id": "dab16040"
      },
      "source": [
        "**Заменим вещественный тип данных в столбце `total_income` на целочисленный с помощью метода `astype()`.**"
      ]
    },
    {
      "cell_type": "code",
      "execution_count": null,
      "id": "68bce02d",
      "metadata": {
        "deletable": false,
        "id": "68bce02d"
      },
      "outputs": [],
      "source": [
        "data['total_income'] = data['total_income'].astype(int)"
      ]
    },
    {
      "cell_type": "markdown",
      "id": "398c763b",
      "metadata": {
        "deletable": false,
        "editable": false,
        "id": "398c763b"
      },
      "source": [
        "### Обработка дубликатов"
      ]
    },
    {
      "cell_type": "markdown",
      "id": "f9df089c",
      "metadata": {
        "deletable": false,
        "editable": false,
        "id": "f9df089c"
      },
      "source": [
        "**Обработайте неявные дубликаты в столбце `education`. В этом столбце есть одни и те же значения, но записанные по-разному: с использованием заглавных и строчных букв.**"
      ]
    },
    {
      "cell_type": "code",
      "execution_count": null,
      "id": "66eb1915",
      "metadata": {
        "deletable": false,
        "id": "66eb1915"
      },
      "outputs": [],
      "source": [
        "data['education'] = data['education'].str.lower()"
      ]
    },
    {
      "cell_type": "markdown",
      "id": "4c87fbe4",
      "metadata": {
        "deletable": false,
        "editable": false,
        "id": "4c87fbe4"
      },
      "source": [
        "**Посчитаем строки-дубликаты**"
      ]
    },
    {
      "cell_type": "code",
      "execution_count": null,
      "id": "a50a0198",
      "metadata": {
        "deletable": false,
        "id": "a50a0198",
        "outputId": "9684deba-1934-42d1-99e1-cda61740f822"
      },
      "outputs": [
        {
          "data": {
            "text/plain": [
              "71"
            ]
          },
          "execution_count": 22,
          "metadata": {},
          "output_type": "execute_result"
        }
      ],
      "source": [
        "data.duplicated().sum()"
      ]
    },
    {
      "cell_type": "code",
      "execution_count": null,
      "id": "632e514e",
      "metadata": {
        "deletable": false,
        "id": "632e514e"
      },
      "outputs": [],
      "source": [
        "data = data.drop_duplicates()"
      ]
    },
    {
      "cell_type": "markdown",
      "id": "3ee9a957",
      "metadata": {
        "deletable": false,
        "editable": false,
        "id": "3ee9a957"
      },
      "source": [
        "### Категоризация данных"
      ]
    },
    {
      "cell_type": "markdown",
      "id": "dfc78fda",
      "metadata": {
        "deletable": false,
        "editable": false,
        "id": "dfc78fda"
      },
      "source": [
        "**Задание 16. На основании диапазонов, указанных ниже, создадим в датафрейме `data` столбец `total_income_category` с категориями:**\n",
        "\n",
        "- 0–30000 — `'E'`;\n",
        "- 30001–50000 — `'D'`;\n",
        "- 50001–200000 — `'C'`;\n",
        "- 200001–1000000 — `'B'`;\n",
        "- 1000001 и выше — `'A'`.\n"
      ]
    },
    {
      "cell_type": "code",
      "execution_count": null,
      "id": "080b67f9",
      "metadata": {
        "deletable": false,
        "id": "080b67f9"
      },
      "outputs": [],
      "source": [
        "def categorize_income(income):\n",
        "    try:\n",
        "        if 0 <= income <= 30000:\n",
        "            return 'E'\n",
        "        elif 30001 <= income <= 50000:\n",
        "            return 'D'\n",
        "        elif 50001 <= income <= 200000:\n",
        "            return 'C'\n",
        "        elif 200001 <= income <= 1000000:\n",
        "            return 'B'\n",
        "        elif income >= 1000001:\n",
        "            return 'A'\n",
        "    except:\n",
        "        pass"
      ]
    },
    {
      "cell_type": "code",
      "execution_count": null,
      "id": "1ffa78e0",
      "metadata": {
        "deletable": false,
        "id": "1ffa78e0"
      },
      "outputs": [],
      "source": [
        "data['total_income_category'] = data['total_income'].apply(categorize_income)"
      ]
    },
    {
      "cell_type": "markdown",
      "id": "9be2ea84",
      "metadata": {
        "deletable": false,
        "editable": false,
        "id": "9be2ea84"
      },
      "source": [
        "**Выведим на экран перечень уникальных целей взятия кредита из столбца `purpose`.**"
      ]
    },
    {
      "cell_type": "code",
      "execution_count": null,
      "id": "85896b40",
      "metadata": {
        "deletable": false,
        "id": "85896b40",
        "outputId": "673c12d9-7d7e-4ae0-9812-c622c89dd244"
      },
      "outputs": [
        {
          "data": {
            "text/plain": [
              "array(['покупка жилья', 'приобретение автомобиля',\n",
              "       'дополнительное образование', 'сыграть свадьбу',\n",
              "       'операции с жильем', 'образование', 'на проведение свадьбы',\n",
              "       'покупка жилья для семьи', 'покупка недвижимости',\n",
              "       'покупка коммерческой недвижимости', 'покупка жилой недвижимости',\n",
              "       'строительство собственной недвижимости', 'недвижимость',\n",
              "       'строительство недвижимости', 'на покупку подержанного автомобиля',\n",
              "       'на покупку своего автомобиля',\n",
              "       'операции с коммерческой недвижимостью',\n",
              "       'строительство жилой недвижимости', 'жилье',\n",
              "       'операции со своей недвижимостью', 'автомобили',\n",
              "       'заняться образованием', 'сделка с подержанным автомобилем',\n",
              "       'получение образования', 'автомобиль', 'свадьба',\n",
              "       'получение дополнительного образования', 'покупка своего жилья',\n",
              "       'операции с недвижимостью', 'получение высшего образования',\n",
              "       'свой автомобиль', 'сделка с автомобилем',\n",
              "       'профильное образование', 'высшее образование',\n",
              "       'покупка жилья для сдачи', 'на покупку автомобиля', 'ремонт жилью',\n",
              "       'заняться высшим образованием'], dtype=object)"
            ]
          },
          "execution_count": 26,
          "metadata": {},
          "output_type": "execute_result"
        }
      ],
      "source": [
        "data['purpose'].unique()"
      ]
    },
    {
      "cell_type": "markdown",
      "id": "36753a1b",
      "metadata": {
        "deletable": false,
        "editable": false,
        "id": "36753a1b"
      },
      "source": [
        "**Создадим функцию, которая на основании данных из столбца `purpose` сформирует новый столбец `purpose_category`, в который войдут следующие категории:**\n",
        "\n",
        "- `'операции с автомобилем'`,\n",
        "- `'операции с недвижимостью'`,\n",
        "- `'проведение свадьбы'`,\n",
        "- `'получение образования'`.\n"
      ]
    },
    {
      "cell_type": "code",
      "execution_count": null,
      "id": "d1548374",
      "metadata": {
        "deletable": false,
        "id": "d1548374"
      },
      "outputs": [],
      "source": [
        "def categorize_purpose(row):\n",
        "    try:\n",
        "        if 'автом' in row:\n",
        "            return 'операции с автомобилем'\n",
        "        elif 'жил' in row or 'недвиж' in row:\n",
        "            return 'операции с недвижимостью'\n",
        "        elif 'свад' in row:\n",
        "            return 'проведение свадьбы'\n",
        "        elif 'образов' in row:\n",
        "            return 'получение образования'\n",
        "    except:\n",
        "        return 'нет категории'"
      ]
    },
    {
      "cell_type": "code",
      "execution_count": null,
      "id": "e0f580fe",
      "metadata": {
        "deletable": false,
        "id": "e0f580fe"
      },
      "outputs": [],
      "source": [
        "data['purpose_category'] = data['purpose'].apply(categorize_purpose)"
      ]
    },
    {
      "cell_type": "markdown",
      "id": "64de50ad",
      "metadata": {
        "deletable": false,
        "editable": false,
        "id": "64de50ad"
      },
      "source": [
        "### Шаг 3. Исследуйте данные и ответьте на вопросы"
      ]
    },
    {
      "cell_type": "markdown",
      "id": "b84a8a68",
      "metadata": {
        "deletable": false,
        "editable": false,
        "id": "b84a8a68"
      },
      "source": [
        "#### 3.1 Есть ли зависимость между количеством детей и возвратом кредита в срок?"
      ]
    },
    {
      "cell_type": "code",
      "execution_count": null,
      "id": "235229eb",
      "metadata": {
        "deletable": false,
        "id": "235229eb",
        "outputId": "55b006e3-ed44-45fa-d891-a9f1fd7b6c73"
      },
      "outputs": [
        {
          "data": {
            "text/html": [
              "<div>\n",
              "<style scoped>\n",
              "    .dataframe tbody tr th:only-of-type {\n",
              "        vertical-align: middle;\n",
              "    }\n",
              "\n",
              "    .dataframe tbody tr th {\n",
              "        vertical-align: top;\n",
              "    }\n",
              "\n",
              "    .dataframe thead th {\n",
              "        text-align: right;\n",
              "    }\n",
              "</style>\n",
              "<table border=\"1\" class=\"dataframe\">\n",
              "  <thead>\n",
              "    <tr style=\"text-align: right;\">\n",
              "      <th></th>\n",
              "      <th>children</th>\n",
              "      <th>days_employed</th>\n",
              "      <th>dob_years</th>\n",
              "      <th>education</th>\n",
              "      <th>education_id</th>\n",
              "      <th>family_status</th>\n",
              "      <th>family_status_id</th>\n",
              "      <th>gender</th>\n",
              "      <th>income_type</th>\n",
              "      <th>debt</th>\n",
              "      <th>total_income</th>\n",
              "      <th>purpose</th>\n",
              "      <th>total_income_category</th>\n",
              "      <th>purpose_category</th>\n",
              "    </tr>\n",
              "  </thead>\n",
              "  <tbody>\n",
              "    <tr>\n",
              "      <th>0</th>\n",
              "      <td>1</td>\n",
              "      <td>8437.673028</td>\n",
              "      <td>42</td>\n",
              "      <td>высшее</td>\n",
              "      <td>0</td>\n",
              "      <td>женат / замужем</td>\n",
              "      <td>0</td>\n",
              "      <td>F</td>\n",
              "      <td>сотрудник</td>\n",
              "      <td>0</td>\n",
              "      <td>253875</td>\n",
              "      <td>покупка жилья</td>\n",
              "      <td>B</td>\n",
              "      <td>операции с недвижимостью</td>\n",
              "    </tr>\n",
              "    <tr>\n",
              "      <th>1</th>\n",
              "      <td>1</td>\n",
              "      <td>4024.803754</td>\n",
              "      <td>36</td>\n",
              "      <td>среднее</td>\n",
              "      <td>1</td>\n",
              "      <td>женат / замужем</td>\n",
              "      <td>0</td>\n",
              "      <td>F</td>\n",
              "      <td>сотрудник</td>\n",
              "      <td>0</td>\n",
              "      <td>112080</td>\n",
              "      <td>приобретение автомобиля</td>\n",
              "      <td>C</td>\n",
              "      <td>операции с автомобилем</td>\n",
              "    </tr>\n",
              "    <tr>\n",
              "      <th>2</th>\n",
              "      <td>0</td>\n",
              "      <td>5623.422610</td>\n",
              "      <td>33</td>\n",
              "      <td>среднее</td>\n",
              "      <td>1</td>\n",
              "      <td>женат / замужем</td>\n",
              "      <td>0</td>\n",
              "      <td>M</td>\n",
              "      <td>сотрудник</td>\n",
              "      <td>0</td>\n",
              "      <td>145885</td>\n",
              "      <td>покупка жилья</td>\n",
              "      <td>C</td>\n",
              "      <td>операции с недвижимостью</td>\n",
              "    </tr>\n",
              "    <tr>\n",
              "      <th>3</th>\n",
              "      <td>3</td>\n",
              "      <td>4124.747207</td>\n",
              "      <td>32</td>\n",
              "      <td>среднее</td>\n",
              "      <td>1</td>\n",
              "      <td>женат / замужем</td>\n",
              "      <td>0</td>\n",
              "      <td>M</td>\n",
              "      <td>сотрудник</td>\n",
              "      <td>0</td>\n",
              "      <td>267628</td>\n",
              "      <td>дополнительное образование</td>\n",
              "      <td>B</td>\n",
              "      <td>получение образования</td>\n",
              "    </tr>\n",
              "    <tr>\n",
              "      <th>4</th>\n",
              "      <td>0</td>\n",
              "      <td>340266.072047</td>\n",
              "      <td>53</td>\n",
              "      <td>среднее</td>\n",
              "      <td>1</td>\n",
              "      <td>гражданский брак</td>\n",
              "      <td>1</td>\n",
              "      <td>F</td>\n",
              "      <td>пенсионер</td>\n",
              "      <td>0</td>\n",
              "      <td>158616</td>\n",
              "      <td>сыграть свадьбу</td>\n",
              "      <td>C</td>\n",
              "      <td>проведение свадьбы</td>\n",
              "    </tr>\n",
              "    <tr>\n",
              "      <th>5</th>\n",
              "      <td>0</td>\n",
              "      <td>926.185831</td>\n",
              "      <td>27</td>\n",
              "      <td>высшее</td>\n",
              "      <td>0</td>\n",
              "      <td>гражданский брак</td>\n",
              "      <td>1</td>\n",
              "      <td>M</td>\n",
              "      <td>компаньон</td>\n",
              "      <td>0</td>\n",
              "      <td>255763</td>\n",
              "      <td>покупка жилья</td>\n",
              "      <td>B</td>\n",
              "      <td>операции с недвижимостью</td>\n",
              "    </tr>\n",
              "    <tr>\n",
              "      <th>6</th>\n",
              "      <td>0</td>\n",
              "      <td>2879.202052</td>\n",
              "      <td>43</td>\n",
              "      <td>высшее</td>\n",
              "      <td>0</td>\n",
              "      <td>женат / замужем</td>\n",
              "      <td>0</td>\n",
              "      <td>F</td>\n",
              "      <td>компаньон</td>\n",
              "      <td>0</td>\n",
              "      <td>240525</td>\n",
              "      <td>операции с жильем</td>\n",
              "      <td>B</td>\n",
              "      <td>операции с недвижимостью</td>\n",
              "    </tr>\n",
              "    <tr>\n",
              "      <th>7</th>\n",
              "      <td>0</td>\n",
              "      <td>152.779569</td>\n",
              "      <td>50</td>\n",
              "      <td>среднее</td>\n",
              "      <td>1</td>\n",
              "      <td>женат / замужем</td>\n",
              "      <td>0</td>\n",
              "      <td>M</td>\n",
              "      <td>сотрудник</td>\n",
              "      <td>0</td>\n",
              "      <td>135823</td>\n",
              "      <td>образование</td>\n",
              "      <td>C</td>\n",
              "      <td>получение образования</td>\n",
              "    </tr>\n",
              "    <tr>\n",
              "      <th>8</th>\n",
              "      <td>2</td>\n",
              "      <td>6929.865299</td>\n",
              "      <td>35</td>\n",
              "      <td>высшее</td>\n",
              "      <td>0</td>\n",
              "      <td>гражданский брак</td>\n",
              "      <td>1</td>\n",
              "      <td>F</td>\n",
              "      <td>сотрудник</td>\n",
              "      <td>0</td>\n",
              "      <td>95856</td>\n",
              "      <td>на проведение свадьбы</td>\n",
              "      <td>C</td>\n",
              "      <td>проведение свадьбы</td>\n",
              "    </tr>\n",
              "    <tr>\n",
              "      <th>9</th>\n",
              "      <td>0</td>\n",
              "      <td>2188.756445</td>\n",
              "      <td>41</td>\n",
              "      <td>среднее</td>\n",
              "      <td>1</td>\n",
              "      <td>женат / замужем</td>\n",
              "      <td>0</td>\n",
              "      <td>M</td>\n",
              "      <td>сотрудник</td>\n",
              "      <td>0</td>\n",
              "      <td>144425</td>\n",
              "      <td>покупка жилья для семьи</td>\n",
              "      <td>C</td>\n",
              "      <td>операции с недвижимостью</td>\n",
              "    </tr>\n",
              "    <tr>\n",
              "      <th>10</th>\n",
              "      <td>2</td>\n",
              "      <td>4171.483647</td>\n",
              "      <td>36</td>\n",
              "      <td>высшее</td>\n",
              "      <td>0</td>\n",
              "      <td>женат / замужем</td>\n",
              "      <td>0</td>\n",
              "      <td>M</td>\n",
              "      <td>компаньон</td>\n",
              "      <td>0</td>\n",
              "      <td>113943</td>\n",
              "      <td>покупка недвижимости</td>\n",
              "      <td>C</td>\n",
              "      <td>операции с недвижимостью</td>\n",
              "    </tr>\n",
              "    <tr>\n",
              "      <th>11</th>\n",
              "      <td>0</td>\n",
              "      <td>792.701887</td>\n",
              "      <td>40</td>\n",
              "      <td>среднее</td>\n",
              "      <td>1</td>\n",
              "      <td>женат / замужем</td>\n",
              "      <td>0</td>\n",
              "      <td>F</td>\n",
              "      <td>сотрудник</td>\n",
              "      <td>0</td>\n",
              "      <td>77069</td>\n",
              "      <td>покупка коммерческой недвижимости</td>\n",
              "      <td>C</td>\n",
              "      <td>операции с недвижимостью</td>\n",
              "    </tr>\n",
              "    <tr>\n",
              "      <th>12</th>\n",
              "      <td>0</td>\n",
              "      <td>365286.622650</td>\n",
              "      <td>65</td>\n",
              "      <td>среднее</td>\n",
              "      <td>1</td>\n",
              "      <td>гражданский брак</td>\n",
              "      <td>1</td>\n",
              "      <td>M</td>\n",
              "      <td>пенсионер</td>\n",
              "      <td>0</td>\n",
              "      <td>118514</td>\n",
              "      <td>сыграть свадьбу</td>\n",
              "      <td>C</td>\n",
              "      <td>проведение свадьбы</td>\n",
              "    </tr>\n",
              "    <tr>\n",
              "      <th>13</th>\n",
              "      <td>0</td>\n",
              "      <td>1846.641941</td>\n",
              "      <td>54</td>\n",
              "      <td>неоконченное высшее</td>\n",
              "      <td>2</td>\n",
              "      <td>женат / замужем</td>\n",
              "      <td>0</td>\n",
              "      <td>F</td>\n",
              "      <td>сотрудник</td>\n",
              "      <td>0</td>\n",
              "      <td>130458</td>\n",
              "      <td>приобретение автомобиля</td>\n",
              "      <td>C</td>\n",
              "      <td>операции с автомобилем</td>\n",
              "    </tr>\n",
              "    <tr>\n",
              "      <th>14</th>\n",
              "      <td>0</td>\n",
              "      <td>1844.956182</td>\n",
              "      <td>56</td>\n",
              "      <td>высшее</td>\n",
              "      <td>0</td>\n",
              "      <td>гражданский брак</td>\n",
              "      <td>1</td>\n",
              "      <td>F</td>\n",
              "      <td>компаньон</td>\n",
              "      <td>1</td>\n",
              "      <td>165127</td>\n",
              "      <td>покупка жилой недвижимости</td>\n",
              "      <td>C</td>\n",
              "      <td>операции с недвижимостью</td>\n",
              "    </tr>\n",
              "    <tr>\n",
              "      <th>15</th>\n",
              "      <td>1</td>\n",
              "      <td>972.364419</td>\n",
              "      <td>26</td>\n",
              "      <td>среднее</td>\n",
              "      <td>1</td>\n",
              "      <td>женат / замужем</td>\n",
              "      <td>0</td>\n",
              "      <td>F</td>\n",
              "      <td>сотрудник</td>\n",
              "      <td>0</td>\n",
              "      <td>116820</td>\n",
              "      <td>строительство собственной недвижимости</td>\n",
              "      <td>C</td>\n",
              "      <td>операции с недвижимостью</td>\n",
              "    </tr>\n",
              "    <tr>\n",
              "      <th>16</th>\n",
              "      <td>0</td>\n",
              "      <td>1719.934226</td>\n",
              "      <td>35</td>\n",
              "      <td>среднее</td>\n",
              "      <td>1</td>\n",
              "      <td>женат / замужем</td>\n",
              "      <td>0</td>\n",
              "      <td>F</td>\n",
              "      <td>сотрудник</td>\n",
              "      <td>0</td>\n",
              "      <td>289202</td>\n",
              "      <td>недвижимость</td>\n",
              "      <td>B</td>\n",
              "      <td>операции с недвижимостью</td>\n",
              "    </tr>\n",
              "    <tr>\n",
              "      <th>17</th>\n",
              "      <td>0</td>\n",
              "      <td>2369.999720</td>\n",
              "      <td>33</td>\n",
              "      <td>высшее</td>\n",
              "      <td>0</td>\n",
              "      <td>гражданский брак</td>\n",
              "      <td>1</td>\n",
              "      <td>M</td>\n",
              "      <td>сотрудник</td>\n",
              "      <td>0</td>\n",
              "      <td>90410</td>\n",
              "      <td>строительство недвижимости</td>\n",
              "      <td>C</td>\n",
              "      <td>операции с недвижимостью</td>\n",
              "    </tr>\n",
              "    <tr>\n",
              "      <th>18</th>\n",
              "      <td>0</td>\n",
              "      <td>400281.136913</td>\n",
              "      <td>53</td>\n",
              "      <td>среднее</td>\n",
              "      <td>1</td>\n",
              "      <td>вдовец / вдова</td>\n",
              "      <td>2</td>\n",
              "      <td>F</td>\n",
              "      <td>пенсионер</td>\n",
              "      <td>0</td>\n",
              "      <td>56823</td>\n",
              "      <td>на покупку подержанного автомобиля</td>\n",
              "      <td>C</td>\n",
              "      <td>операции с автомобилем</td>\n",
              "    </tr>\n",
              "    <tr>\n",
              "      <th>19</th>\n",
              "      <td>0</td>\n",
              "      <td>10038.818549</td>\n",
              "      <td>48</td>\n",
              "      <td>среднее</td>\n",
              "      <td>1</td>\n",
              "      <td>в разводе</td>\n",
              "      <td>3</td>\n",
              "      <td>F</td>\n",
              "      <td>сотрудник</td>\n",
              "      <td>0</td>\n",
              "      <td>242831</td>\n",
              "      <td>на покупку своего автомобиля</td>\n",
              "      <td>B</td>\n",
              "      <td>операции с автомобилем</td>\n",
              "    </tr>\n",
              "  </tbody>\n",
              "</table>\n",
              "</div>"
            ],
            "text/plain": [
              "    children  days_employed  dob_years            education  education_id  \\\n",
              "0          1    8437.673028         42               высшее             0   \n",
              "1          1    4024.803754         36              среднее             1   \n",
              "2          0    5623.422610         33              среднее             1   \n",
              "3          3    4124.747207         32              среднее             1   \n",
              "4          0  340266.072047         53              среднее             1   \n",
              "5          0     926.185831         27               высшее             0   \n",
              "6          0    2879.202052         43               высшее             0   \n",
              "7          0     152.779569         50              среднее             1   \n",
              "8          2    6929.865299         35               высшее             0   \n",
              "9          0    2188.756445         41              среднее             1   \n",
              "10         2    4171.483647         36               высшее             0   \n",
              "11         0     792.701887         40              среднее             1   \n",
              "12         0  365286.622650         65              среднее             1   \n",
              "13         0    1846.641941         54  неоконченное высшее             2   \n",
              "14         0    1844.956182         56               высшее             0   \n",
              "15         1     972.364419         26              среднее             1   \n",
              "16         0    1719.934226         35              среднее             1   \n",
              "17         0    2369.999720         33               высшее             0   \n",
              "18         0  400281.136913         53              среднее             1   \n",
              "19         0   10038.818549         48              среднее             1   \n",
              "\n",
              "       family_status  family_status_id gender income_type  debt  total_income  \\\n",
              "0    женат / замужем                 0      F   сотрудник     0        253875   \n",
              "1    женат / замужем                 0      F   сотрудник     0        112080   \n",
              "2    женат / замужем                 0      M   сотрудник     0        145885   \n",
              "3    женат / замужем                 0      M   сотрудник     0        267628   \n",
              "4   гражданский брак                 1      F   пенсионер     0        158616   \n",
              "5   гражданский брак                 1      M   компаньон     0        255763   \n",
              "6    женат / замужем                 0      F   компаньон     0        240525   \n",
              "7    женат / замужем                 0      M   сотрудник     0        135823   \n",
              "8   гражданский брак                 1      F   сотрудник     0         95856   \n",
              "9    женат / замужем                 0      M   сотрудник     0        144425   \n",
              "10   женат / замужем                 0      M   компаньон     0        113943   \n",
              "11   женат / замужем                 0      F   сотрудник     0         77069   \n",
              "12  гражданский брак                 1      M   пенсионер     0        118514   \n",
              "13   женат / замужем                 0      F   сотрудник     0        130458   \n",
              "14  гражданский брак                 1      F   компаньон     1        165127   \n",
              "15   женат / замужем                 0      F   сотрудник     0        116820   \n",
              "16   женат / замужем                 0      F   сотрудник     0        289202   \n",
              "17  гражданский брак                 1      M   сотрудник     0         90410   \n",
              "18    вдовец / вдова                 2      F   пенсионер     0         56823   \n",
              "19         в разводе                 3      F   сотрудник     0        242831   \n",
              "\n",
              "                                   purpose total_income_category  \\\n",
              "0                            покупка жилья                     B   \n",
              "1                  приобретение автомобиля                     C   \n",
              "2                            покупка жилья                     C   \n",
              "3               дополнительное образование                     B   \n",
              "4                          сыграть свадьбу                     C   \n",
              "5                            покупка жилья                     B   \n",
              "6                        операции с жильем                     B   \n",
              "7                              образование                     C   \n",
              "8                    на проведение свадьбы                     C   \n",
              "9                  покупка жилья для семьи                     C   \n",
              "10                    покупка недвижимости                     C   \n",
              "11       покупка коммерческой недвижимости                     C   \n",
              "12                         сыграть свадьбу                     C   \n",
              "13                 приобретение автомобиля                     C   \n",
              "14              покупка жилой недвижимости                     C   \n",
              "15  строительство собственной недвижимости                     C   \n",
              "16                            недвижимость                     B   \n",
              "17              строительство недвижимости                     C   \n",
              "18      на покупку подержанного автомобиля                     C   \n",
              "19            на покупку своего автомобиля                     B   \n",
              "\n",
              "            purpose_category  \n",
              "0   операции с недвижимостью  \n",
              "1     операции с автомобилем  \n",
              "2   операции с недвижимостью  \n",
              "3      получение образования  \n",
              "4         проведение свадьбы  \n",
              "5   операции с недвижимостью  \n",
              "6   операции с недвижимостью  \n",
              "7      получение образования  \n",
              "8         проведение свадьбы  \n",
              "9   операции с недвижимостью  \n",
              "10  операции с недвижимостью  \n",
              "11  операции с недвижимостью  \n",
              "12        проведение свадьбы  \n",
              "13    операции с автомобилем  \n",
              "14  операции с недвижимостью  \n",
              "15  операции с недвижимостью  \n",
              "16  операции с недвижимостью  \n",
              "17  операции с недвижимостью  \n",
              "18    операции с автомобилем  \n",
              "19    операции с автомобилем  "
            ]
          },
          "execution_count": 29,
          "metadata": {},
          "output_type": "execute_result"
        }
      ],
      "source": [
        "# Изучаем данные\n",
        "data.head(20)"
      ]
    },
    {
      "cell_type": "code",
      "execution_count": null,
      "id": "64599cd4",
      "metadata": {
        "id": "64599cd4",
        "outputId": "40260036-4b13-4d74-ada2-223dd8bd0052"
      },
      "outputs": [
        {
          "data": {
            "text/html": [
              "<div>\n",
              "<style scoped>\n",
              "    .dataframe tbody tr th:only-of-type {\n",
              "        vertical-align: middle;\n",
              "    }\n",
              "\n",
              "    .dataframe tbody tr th {\n",
              "        vertical-align: top;\n",
              "    }\n",
              "\n",
              "    .dataframe thead th {\n",
              "        text-align: right;\n",
              "    }\n",
              "</style>\n",
              "<table border=\"1\" class=\"dataframe\">\n",
              "  <thead>\n",
              "    <tr style=\"text-align: right;\">\n",
              "      <th>children</th>\n",
              "      <th>0</th>\n",
              "      <th>1</th>\n",
              "      <th>2</th>\n",
              "      <th>3</th>\n",
              "      <th>4</th>\n",
              "      <th>5</th>\n",
              "    </tr>\n",
              "  </thead>\n",
              "  <tbody>\n",
              "    <tr>\n",
              "      <th>debt</th>\n",
              "      <td>0.075438</td>\n",
              "      <td>0.092346</td>\n",
              "      <td>0.094542</td>\n",
              "      <td>0.081818</td>\n",
              "      <td>0.097561</td>\n",
              "      <td>0.0</td>\n",
              "    </tr>\n",
              "  </tbody>\n",
              "</table>\n",
              "</div>"
            ],
            "text/plain": [
              "children         0         1         2         3         4    5\n",
              "debt      0.075438  0.092346  0.094542  0.081818  0.097561  0.0"
            ]
          },
          "execution_count": 30,
          "metadata": {},
          "output_type": "execute_result"
        }
      ],
      "source": [
        "#построим сводную таблицу зависимости возврата кредита и количество детей\n",
        "children_and_kredit = data.pivot_table(columns = 'children', values = 'debt')\n",
        "children_and_kredit"
      ]
    },
    {
      "cell_type": "code",
      "source": [
        "one_child = data.loc[data['children'] == 1]\n",
        "print('Количество семей с одним ребенком', len(one_child))"
      ],
      "metadata": {
        "id": "GAQmZxpINU4e"
      },
      "id": "GAQmZxpINU4e",
      "execution_count": null,
      "outputs": []
    },
    {
      "cell_type": "code",
      "execution_count": null,
      "id": "8ddc7908",
      "metadata": {
        "id": "8ddc7908",
        "outputId": "1c721f8d-dbbc-4393-d462-ca3f3c7e23be"
      },
      "outputs": [
        {
          "name": "stdout",
          "output_type": "stream",
          "text": [
            "Количество семей с двумя детьми  2052\n"
          ]
        }
      ],
      "source": [
        "two_children = data.loc[data['children'] == 2]\n",
        "print('Количество семей с двумя детьми ', len(two_children))"
      ]
    },
    {
      "cell_type": "code",
      "execution_count": null,
      "id": "87d54f67",
      "metadata": {
        "id": "87d54f67",
        "outputId": "0bf49926-b38b-4e25-c74e-5838c495f012"
      },
      "outputs": [
        {
          "name": "stdout",
          "output_type": "stream",
          "text": [
            "Количество семей с тремя детьми 330\n"
          ]
        }
      ],
      "source": [
        "three_children = data.loc[data['children'] == 3]\n",
        "print('Количество семей с тремя детьми', len(three_children))"
      ]
    },
    {
      "cell_type": "code",
      "execution_count": null,
      "id": "5314582b",
      "metadata": {
        "id": "5314582b",
        "outputId": "b95234b8-3137-4bac-8ebc-d0b27bb5944a"
      },
      "outputs": [
        {
          "name": "stdout",
          "output_type": "stream",
          "text": [
            "Количество семей с четырмя детьми 41\n"
          ]
        }
      ],
      "source": [
        "four_children = data.loc[data['children'] == 4]\n",
        "print('Количество семей с четырмя детьми', len(four_children))"
      ]
    },
    {
      "cell_type": "code",
      "execution_count": null,
      "id": "581e66dc",
      "metadata": {
        "id": "581e66dc",
        "outputId": "755ba27c-288d-4ea3-fc78-2b96ae0026e8"
      },
      "outputs": [
        {
          "name": "stdout",
          "output_type": "stream",
          "text": [
            "Количество семей с пятью детьми 9\n"
          ]
        }
      ],
      "source": [
        "five_children = data.loc[data['children'] == 5]\n",
        "print('Количество семей с пятью детьми', len(five_children))"
      ]
    },
    {
      "cell_type": "code",
      "execution_count": null,
      "id": "922176c0",
      "metadata": {
        "id": "922176c0",
        "outputId": "aaf8cd46-5a28-42eb-d11f-18c324eea5fb"
      },
      "outputs": [
        {
          "data": {
            "text/html": [
              "<div>\n",
              "<style scoped>\n",
              "    .dataframe tbody tr th:only-of-type {\n",
              "        vertical-align: middle;\n",
              "    }\n",
              "\n",
              "    .dataframe tbody tr th {\n",
              "        vertical-align: top;\n",
              "    }\n",
              "\n",
              "    .dataframe thead th {\n",
              "        text-align: right;\n",
              "    }\n",
              "</style>\n",
              "<table border=\"1\" class=\"dataframe\">\n",
              "  <thead>\n",
              "    <tr style=\"text-align: right;\">\n",
              "      <th></th>\n",
              "      <th>количество детей</th>\n",
              "      <th>доля должников</th>\n",
              "    </tr>\n",
              "    <tr>\n",
              "      <th>children</th>\n",
              "      <th></th>\n",
              "      <th></th>\n",
              "    </tr>\n",
              "  </thead>\n",
              "  <tbody>\n",
              "    <tr>\n",
              "      <th>0</th>\n",
              "      <td>14091.0</td>\n",
              "      <td>0.075438</td>\n",
              "    </tr>\n",
              "    <tr>\n",
              "      <th>1</th>\n",
              "      <td>4808.0</td>\n",
              "      <td>0.092346</td>\n",
              "    </tr>\n",
              "    <tr>\n",
              "      <th>2</th>\n",
              "      <td>2052.0</td>\n",
              "      <td>0.094542</td>\n",
              "    </tr>\n",
              "    <tr>\n",
              "      <th>3</th>\n",
              "      <td>330.0</td>\n",
              "      <td>0.081818</td>\n",
              "    </tr>\n",
              "    <tr>\n",
              "      <th>4</th>\n",
              "      <td>41.0</td>\n",
              "      <td>0.097561</td>\n",
              "    </tr>\n",
              "    <tr>\n",
              "      <th>5</th>\n",
              "      <td>9.0</td>\n",
              "      <td>0.000000</td>\n",
              "    </tr>\n",
              "  </tbody>\n",
              "</table>\n",
              "</div>"
            ],
            "text/plain": [
              "          количество детей  доля должников\n",
              "children                                  \n",
              "0                  14091.0        0.075438\n",
              "1                   4808.0        0.092346\n",
              "2                   2052.0        0.094542\n",
              "3                    330.0        0.081818\n",
              "4                     41.0        0.097561\n",
              "5                      9.0        0.000000"
            ]
          },
          "execution_count": 39,
          "metadata": {},
          "output_type": "execute_result"
        }
      ],
      "source": [
        "grouped_by_children = data.pivot_table(index = 'children', values = 'debt', aggfunc= {'debt' :['mean', 'count']})\n",
        "grouped_by_children.columns = ['количество детей', 'доля должников']\n",
        "grouped_by_children"
      ]
    },
    {
      "cell_type": "markdown",
      "id": "7b74cd7e",
      "metadata": {
        "id": "7b74cd7e"
      },
      "source": [
        "**Вывод:**"
      ]
    },
    {
      "cell_type": "markdown",
      "id": "716e646b",
      "metadata": {
        "deletable": false,
        "id": "716e646b"
      },
      "source": [
        "Таким образом, можно сделать вывод о том, что количество просрочек кредита напрямую завист от количество детей, то есть чем больше детей, тем меньше шанс банку получить возврат долга вовремя. Стоит учесть, что из-за маленького количества семей с пятью детьми нельзя брать эти данные для анализа."
      ]
    },
    {
      "cell_type": "markdown",
      "id": "3cde7888",
      "metadata": {
        "deletable": false,
        "editable": false,
        "id": "3cde7888"
      },
      "source": [
        "#### 3.2 Есть ли зависимость между семейным положением и возвратом кредита в срок?"
      ]
    },
    {
      "cell_type": "code",
      "execution_count": null,
      "id": "48b1bbf0",
      "metadata": {
        "deletable": false,
        "id": "48b1bbf0",
        "outputId": "c461bd26-d0bd-4365-ffc4-f8bee837f1a3"
      },
      "outputs": [
        {
          "data": {
            "text/html": [
              "<div>\n",
              "<style scoped>\n",
              "    .dataframe tbody tr th:only-of-type {\n",
              "        vertical-align: middle;\n",
              "    }\n",
              "\n",
              "    .dataframe tbody tr th {\n",
              "        vertical-align: top;\n",
              "    }\n",
              "\n",
              "    .dataframe thead th {\n",
              "        text-align: right;\n",
              "    }\n",
              "</style>\n",
              "<table border=\"1\" class=\"dataframe\">\n",
              "  <thead>\n",
              "    <tr style=\"text-align: right;\">\n",
              "      <th>family_status</th>\n",
              "      <th>Не женат / не замужем</th>\n",
              "      <th>в разводе</th>\n",
              "      <th>вдовец / вдова</th>\n",
              "      <th>гражданский брак</th>\n",
              "      <th>женат / замужем</th>\n",
              "    </tr>\n",
              "  </thead>\n",
              "  <tbody>\n",
              "    <tr>\n",
              "      <th>debt</th>\n",
              "      <td>0.097639</td>\n",
              "      <td>0.070648</td>\n",
              "      <td>0.066246</td>\n",
              "      <td>0.09313</td>\n",
              "      <td>0.075606</td>\n",
              "    </tr>\n",
              "  </tbody>\n",
              "</table>\n",
              "</div>"
            ],
            "text/plain": [
              "family_status  Не женат / не замужем  в разводе  вдовец / вдова  \\\n",
              "debt                        0.097639   0.070648        0.066246   \n",
              "\n",
              "family_status  гражданский брак  женат / замужем  \n",
              "debt                    0.09313         0.075606  "
            ]
          },
          "execution_count": 31,
          "metadata": {},
          "output_type": "execute_result"
        }
      ],
      "source": [
        "# Создаем сводную таблицу для того, чтобы выявить взаимосвязь между семейным положением и возвратом кредита в срок\n",
        "family_and_kredit = data.pivot_table(columns = 'family_status', values = 'debt')\n",
        "family_and_kredit"
      ]
    },
    {
      "cell_type": "markdown",
      "id": "14eba154",
      "metadata": {
        "id": "14eba154"
      },
      "source": [
        "**Исправильно**"
      ]
    },
    {
      "cell_type": "code",
      "execution_count": null,
      "id": "04904772",
      "metadata": {
        "id": "04904772",
        "outputId": "c998cd32-fa65-4f8b-d580-960113cd6e78"
      },
      "outputs": [
        {
          "data": {
            "text/html": [
              "<div>\n",
              "<style scoped>\n",
              "    .dataframe tbody tr th:only-of-type {\n",
              "        vertical-align: middle;\n",
              "    }\n",
              "\n",
              "    .dataframe tbody tr th {\n",
              "        vertical-align: top;\n",
              "    }\n",
              "\n",
              "    .dataframe thead th {\n",
              "        text-align: right;\n",
              "    }\n",
              "</style>\n",
              "<table border=\"1\" class=\"dataframe\">\n",
              "  <thead>\n",
              "    <tr style=\"text-align: right;\">\n",
              "      <th></th>\n",
              "      <th>доля должников</th>\n",
              "    </tr>\n",
              "    <tr>\n",
              "      <th>family_status</th>\n",
              "      <th></th>\n",
              "    </tr>\n",
              "  </thead>\n",
              "  <tbody>\n",
              "    <tr>\n",
              "      <th>Не женат / не замужем</th>\n",
              "      <td>0.097639</td>\n",
              "    </tr>\n",
              "    <tr>\n",
              "      <th>в разводе</th>\n",
              "      <td>0.070648</td>\n",
              "    </tr>\n",
              "    <tr>\n",
              "      <th>вдовец / вдова</th>\n",
              "      <td>0.066246</td>\n",
              "    </tr>\n",
              "    <tr>\n",
              "      <th>гражданский брак</th>\n",
              "      <td>0.093130</td>\n",
              "    </tr>\n",
              "    <tr>\n",
              "      <th>женат / замужем</th>\n",
              "      <td>0.075606</td>\n",
              "    </tr>\n",
              "  </tbody>\n",
              "</table>\n",
              "</div>"
            ],
            "text/plain": [
              "                       доля должников\n",
              "family_status                        \n",
              "Не женат / не замужем        0.097639\n",
              "в разводе                    0.070648\n",
              "вдовец / вдова               0.066246\n",
              "гражданский брак             0.093130\n",
              "женат / замужем              0.075606"
            ]
          },
          "execution_count": 40,
          "metadata": {},
          "output_type": "execute_result"
        }
      ],
      "source": [
        "grouped_by_family = data.pivot_table(index = 'family_status', values = 'debt', aggfunc= ['mean'])\n",
        "grouped_by_family.columns = ['доля должников']\n",
        "grouped_by_family"
      ]
    },
    {
      "cell_type": "markdown",
      "id": "86e8caca",
      "metadata": {
        "deletable": false,
        "editable": false,
        "id": "86e8caca"
      },
      "source": [
        "#### 3.3 Есть ли зависимость между уровнем дохода и возвратом кредита в срок?"
      ]
    },
    {
      "cell_type": "code",
      "execution_count": null,
      "id": "369d135c",
      "metadata": {
        "deletable": false,
        "id": "369d135c",
        "outputId": "f8f31b5a-f81e-4e08-ac85-a2327da9b329"
      },
      "outputs": [
        {
          "data": {
            "text/html": [
              "<div>\n",
              "<style scoped>\n",
              "    .dataframe tbody tr th:only-of-type {\n",
              "        vertical-align: middle;\n",
              "    }\n",
              "\n",
              "    .dataframe tbody tr th {\n",
              "        vertical-align: top;\n",
              "    }\n",
              "\n",
              "    .dataframe thead th {\n",
              "        text-align: right;\n",
              "    }\n",
              "</style>\n",
              "<table border=\"1\" class=\"dataframe\">\n",
              "  <thead>\n",
              "    <tr style=\"text-align: right;\">\n",
              "      <th>total_income_category</th>\n",
              "      <th>A</th>\n",
              "      <th>B</th>\n",
              "      <th>C</th>\n",
              "      <th>D</th>\n",
              "      <th>E</th>\n",
              "    </tr>\n",
              "  </thead>\n",
              "  <tbody>\n",
              "    <tr>\n",
              "      <th>debt</th>\n",
              "      <td>0.08</td>\n",
              "      <td>0.070621</td>\n",
              "      <td>0.085532</td>\n",
              "      <td>0.06</td>\n",
              "      <td>0.090909</td>\n",
              "    </tr>\n",
              "  </tbody>\n",
              "</table>\n",
              "</div>"
            ],
            "text/plain": [
              "total_income_category     A         B         C     D         E\n",
              "debt                   0.08  0.070621  0.085532  0.06  0.090909"
            ]
          },
          "execution_count": 49,
          "metadata": {},
          "output_type": "execute_result"
        }
      ],
      "source": [
        "# Создаем сводную таблицу для того, чтобы увидеть долю возврата кредита, для кажого уровня дохода\n",
        "income_and_kredit = data.pivot_table(columns = 'total_income_category', values = 'debt')\n",
        "income_and_kredit"
      ]
    },
    {
      "cell_type": "code",
      "execution_count": null,
      "id": "94325992",
      "metadata": {
        "id": "94325992",
        "outputId": "dbd53b5a-55bb-4948-9d4e-08ddcf6da8a9"
      },
      "outputs": [
        {
          "data": {
            "text/html": [
              "<div>\n",
              "<style scoped>\n",
              "    .dataframe tbody tr th:only-of-type {\n",
              "        vertical-align: middle;\n",
              "    }\n",
              "\n",
              "    .dataframe tbody tr th {\n",
              "        vertical-align: top;\n",
              "    }\n",
              "\n",
              "    .dataframe thead th {\n",
              "        text-align: right;\n",
              "    }\n",
              "</style>\n",
              "<table border=\"1\" class=\"dataframe\">\n",
              "  <thead>\n",
              "    <tr style=\"text-align: right;\">\n",
              "      <th></th>\n",
              "      <th>доля должников</th>\n",
              "    </tr>\n",
              "    <tr>\n",
              "      <th>total_income_category</th>\n",
              "      <th></th>\n",
              "    </tr>\n",
              "  </thead>\n",
              "  <tbody>\n",
              "    <tr>\n",
              "      <th>A</th>\n",
              "      <td>0.080000</td>\n",
              "    </tr>\n",
              "    <tr>\n",
              "      <th>B</th>\n",
              "      <td>0.070602</td>\n",
              "    </tr>\n",
              "    <tr>\n",
              "      <th>C</th>\n",
              "      <td>0.084982</td>\n",
              "    </tr>\n",
              "    <tr>\n",
              "      <th>D</th>\n",
              "      <td>0.060172</td>\n",
              "    </tr>\n",
              "    <tr>\n",
              "      <th>E</th>\n",
              "      <td>0.090909</td>\n",
              "    </tr>\n",
              "  </tbody>\n",
              "</table>\n",
              "</div>"
            ],
            "text/plain": [
              "                       доля должников\n",
              "total_income_category                \n",
              "A                            0.080000\n",
              "B                            0.070602\n",
              "C                            0.084982\n",
              "D                            0.060172\n",
              "E                            0.090909"
            ]
          },
          "execution_count": 41,
          "metadata": {},
          "output_type": "execute_result"
        }
      ],
      "source": [
        "grouped_by_income = data.pivot_table(index = 'total_income_category', values = 'debt', aggfunc= ['mean'])\n",
        "grouped_by_income.columns = ['доля должников']\n",
        "grouped_by_income"
      ]
    },
    {
      "cell_type": "markdown",
      "id": "9afc53f4",
      "metadata": {
        "id": "9afc53f4"
      },
      "source": [
        "0–30000 — 'E';\n",
        "30001–50000 — 'D';\n",
        "50001–200000 — 'C';\n",
        "200001–1000000 — 'B';\n",
        "1000001 и выше — 'A'"
      ]
    },
    {
      "cell_type": "markdown",
      "id": "2eeb008b",
      "metadata": {
        "deletable": false,
        "id": "2eeb008b"
      },
      "source": [
        "**Вывод:** Наименьшее число просроченных кредитов у людей с доходом от 50001 до 200000. Однако нельзя выявить взаимосвязь, что чем больше доход у людей, тем большая вероятность возврата кредита и наоборот."
      ]
    },
    {
      "cell_type": "markdown",
      "id": "b916f28d",
      "metadata": {
        "deletable": false,
        "editable": false,
        "id": "b916f28d"
      },
      "source": [
        "#### 3.4 Как разные цели кредита влияют на его возврат в срок?"
      ]
    },
    {
      "cell_type": "code",
      "execution_count": null,
      "id": "68e8ed84",
      "metadata": {
        "deletable": false,
        "id": "68e8ed84",
        "outputId": "04bf3753-4ab7-4802-98b1-a3425c2eced5"
      },
      "outputs": [
        {
          "data": {
            "text/html": [
              "<div>\n",
              "<style scoped>\n",
              "    .dataframe tbody tr th:only-of-type {\n",
              "        vertical-align: middle;\n",
              "    }\n",
              "\n",
              "    .dataframe tbody tr th {\n",
              "        vertical-align: top;\n",
              "    }\n",
              "\n",
              "    .dataframe thead th {\n",
              "        text-align: right;\n",
              "    }\n",
              "</style>\n",
              "<table border=\"1\" class=\"dataframe\">\n",
              "  <thead>\n",
              "    <tr style=\"text-align: right;\">\n",
              "      <th>purpose_category</th>\n",
              "      <th>операции с автомобилем</th>\n",
              "      <th>операции с недвижимостью</th>\n",
              "      <th>получение образования</th>\n",
              "      <th>проведение свадьбы</th>\n",
              "    </tr>\n",
              "  </thead>\n",
              "  <tbody>\n",
              "    <tr>\n",
              "      <th>debt</th>\n",
              "      <td>0.09348</td>\n",
              "      <td>0.072551</td>\n",
              "      <td>0.092528</td>\n",
              "      <td>0.079118</td>\n",
              "    </tr>\n",
              "  </tbody>\n",
              "</table>\n",
              "</div>"
            ],
            "text/plain": [
              "purpose_category  операции с автомобилем  операции с недвижимостью  \\\n",
              "debt                             0.09348                  0.072551   \n",
              "\n",
              "purpose_category  получение образования  проведение свадьбы  \n",
              "debt                           0.092528            0.079118  "
            ]
          },
          "execution_count": 33,
          "metadata": {},
          "output_type": "execute_result"
        }
      ],
      "source": [
        "# Создаем сводную таблицу для того, чтобы увидеть какие цели кредита влият на возврат кредита в срок.\n",
        "purpose_and_kredit = data.pivot_table(columns = 'purpose_category', values = 'debt')\n",
        "purpose_and_kredit"
      ]
    },
    {
      "cell_type": "code",
      "execution_count": null,
      "id": "ce56ea59",
      "metadata": {
        "id": "ce56ea59",
        "outputId": "5a009f80-5048-4060-f0c0-19038bea32fa"
      },
      "outputs": [
        {
          "data": {
            "text/html": [
              "<div>\n",
              "<style scoped>\n",
              "    .dataframe tbody tr th:only-of-type {\n",
              "        vertical-align: middle;\n",
              "    }\n",
              "\n",
              "    .dataframe tbody tr th {\n",
              "        vertical-align: top;\n",
              "    }\n",
              "\n",
              "    .dataframe thead th {\n",
              "        text-align: right;\n",
              "    }\n",
              "</style>\n",
              "<table border=\"1\" class=\"dataframe\">\n",
              "  <thead>\n",
              "    <tr style=\"text-align: right;\">\n",
              "      <th></th>\n",
              "      <th>доля должников</th>\n",
              "    </tr>\n",
              "    <tr>\n",
              "      <th>purpose_category</th>\n",
              "      <th></th>\n",
              "    </tr>\n",
              "  </thead>\n",
              "  <tbody>\n",
              "    <tr>\n",
              "      <th>операции с автомобилем</th>\n",
              "      <td>0.093480</td>\n",
              "    </tr>\n",
              "    <tr>\n",
              "      <th>операции с недвижимостью</th>\n",
              "      <td>0.072551</td>\n",
              "    </tr>\n",
              "    <tr>\n",
              "      <th>получение образования</th>\n",
              "      <td>0.092528</td>\n",
              "    </tr>\n",
              "    <tr>\n",
              "      <th>проведение свадьбы</th>\n",
              "      <td>0.079118</td>\n",
              "    </tr>\n",
              "  </tbody>\n",
              "</table>\n",
              "</div>"
            ],
            "text/plain": [
              "                          доля должников\n",
              "purpose_category                        \n",
              "операции с автомобилем          0.093480\n",
              "операции с недвижимостью        0.072551\n",
              "получение образования           0.092528\n",
              "проведение свадьбы              0.079118"
            ]
          },
          "execution_count": 42,
          "metadata": {},
          "output_type": "execute_result"
        }
      ],
      "source": [
        "grouped_by_purpose = data.pivot_table(index = 'purpose_category', values = 'debt', aggfunc= ['mean'])\n",
        "grouped_by_purpose.columns = ['доля должников']\n",
        "grouped_by_purpose"
      ]
    },
    {
      "cell_type": "markdown",
      "id": "dcca2b65",
      "metadata": {
        "deletable": false,
        "id": "dcca2b65"
      },
      "source": [
        "**Вывод:** Исходя из данных сводной таблицы, можно сделать вывод о том, что люди совершающие операции с недвижимостью и проведением свадьбы чаще всего возвращают долг в срок, в то время как люди совершающие операции с автомобилем и получением образования практически всегда задерживают возврат денег."
      ]
    },
    {
      "cell_type": "markdown",
      "id": "13238f2a",
      "metadata": {
        "deletable": false,
        "editable": false,
        "id": "13238f2a"
      },
      "source": [
        "#### 3.5 Приведите возможные причины появления пропусков в исходных данных."
      ]
    },
    {
      "cell_type": "code",
      "execution_count": null,
      "id": "5d1fed98",
      "metadata": {
        "id": "5d1fed98",
        "outputId": "07508b47-ba53-4c57-adbb-d820b6ee4c5f"
      },
      "outputs": [
        {
          "data": {
            "text/plain": [
              "children               0\n",
              "days_employed       2174\n",
              "dob_years              0\n",
              "education              0\n",
              "education_id           0\n",
              "family_status          0\n",
              "family_status_id       0\n",
              "gender                 0\n",
              "income_type            0\n",
              "debt                   0\n",
              "total_income        2174\n",
              "purpose                0\n",
              "dtype: int64"
            ]
          },
          "execution_count": 37,
          "metadata": {},
          "output_type": "execute_result"
        }
      ],
      "source": [
        "# находим пропущенные значения в days_employed и total_income\n",
        "data.isna().sum()"
      ]
    },
    {
      "cell_type": "code",
      "execution_count": null,
      "id": "f1f71c6e",
      "metadata": {
        "id": "f1f71c6e",
        "outputId": "885cb159-e362-4819-f7ee-0a60dfb0b320"
      },
      "outputs": [
        {
          "data": {
            "text/html": [
              "<div>\n",
              "<style scoped>\n",
              "    .dataframe tbody tr th:only-of-type {\n",
              "        vertical-align: middle;\n",
              "    }\n",
              "\n",
              "    .dataframe tbody tr th {\n",
              "        vertical-align: top;\n",
              "    }\n",
              "\n",
              "    .dataframe thead th {\n",
              "        text-align: right;\n",
              "    }\n",
              "</style>\n",
              "<table border=\"1\" class=\"dataframe\">\n",
              "  <thead>\n",
              "    <tr style=\"text-align: right;\">\n",
              "      <th></th>\n",
              "      <th>children</th>\n",
              "      <th>days_employed</th>\n",
              "      <th>dob_years</th>\n",
              "      <th>education</th>\n",
              "      <th>education_id</th>\n",
              "      <th>family_status</th>\n",
              "      <th>family_status_id</th>\n",
              "      <th>gender</th>\n",
              "      <th>income_type</th>\n",
              "      <th>debt</th>\n",
              "      <th>total_income</th>\n",
              "      <th>purpose</th>\n",
              "    </tr>\n",
              "  </thead>\n",
              "  <tbody>\n",
              "    <tr>\n",
              "      <th>12</th>\n",
              "      <td>0</td>\n",
              "      <td>NaN</td>\n",
              "      <td>65</td>\n",
              "      <td>среднее</td>\n",
              "      <td>1</td>\n",
              "      <td>гражданский брак</td>\n",
              "      <td>1</td>\n",
              "      <td>M</td>\n",
              "      <td>пенсионер</td>\n",
              "      <td>0</td>\n",
              "      <td>NaN</td>\n",
              "      <td>сыграть свадьбу</td>\n",
              "    </tr>\n",
              "    <tr>\n",
              "      <th>26</th>\n",
              "      <td>0</td>\n",
              "      <td>NaN</td>\n",
              "      <td>41</td>\n",
              "      <td>среднее</td>\n",
              "      <td>1</td>\n",
              "      <td>женат / замужем</td>\n",
              "      <td>0</td>\n",
              "      <td>M</td>\n",
              "      <td>госслужащий</td>\n",
              "      <td>0</td>\n",
              "      <td>NaN</td>\n",
              "      <td>образование</td>\n",
              "    </tr>\n",
              "    <tr>\n",
              "      <th>29</th>\n",
              "      <td>0</td>\n",
              "      <td>NaN</td>\n",
              "      <td>63</td>\n",
              "      <td>среднее</td>\n",
              "      <td>1</td>\n",
              "      <td>Не женат / не замужем</td>\n",
              "      <td>4</td>\n",
              "      <td>F</td>\n",
              "      <td>пенсионер</td>\n",
              "      <td>0</td>\n",
              "      <td>NaN</td>\n",
              "      <td>строительство жилой недвижимости</td>\n",
              "    </tr>\n",
              "    <tr>\n",
              "      <th>41</th>\n",
              "      <td>0</td>\n",
              "      <td>NaN</td>\n",
              "      <td>50</td>\n",
              "      <td>среднее</td>\n",
              "      <td>1</td>\n",
              "      <td>женат / замужем</td>\n",
              "      <td>0</td>\n",
              "      <td>F</td>\n",
              "      <td>госслужащий</td>\n",
              "      <td>0</td>\n",
              "      <td>NaN</td>\n",
              "      <td>сделка с подержанным автомобилем</td>\n",
              "    </tr>\n",
              "    <tr>\n",
              "      <th>55</th>\n",
              "      <td>0</td>\n",
              "      <td>NaN</td>\n",
              "      <td>54</td>\n",
              "      <td>среднее</td>\n",
              "      <td>1</td>\n",
              "      <td>гражданский брак</td>\n",
              "      <td>1</td>\n",
              "      <td>F</td>\n",
              "      <td>пенсионер</td>\n",
              "      <td>1</td>\n",
              "      <td>NaN</td>\n",
              "      <td>сыграть свадьбу</td>\n",
              "    </tr>\n",
              "    <tr>\n",
              "      <th>65</th>\n",
              "      <td>0</td>\n",
              "      <td>NaN</td>\n",
              "      <td>21</td>\n",
              "      <td>среднее</td>\n",
              "      <td>1</td>\n",
              "      <td>Не женат / не замужем</td>\n",
              "      <td>4</td>\n",
              "      <td>M</td>\n",
              "      <td>компаньон</td>\n",
              "      <td>0</td>\n",
              "      <td>NaN</td>\n",
              "      <td>операции с коммерческой недвижимостью</td>\n",
              "    </tr>\n",
              "    <tr>\n",
              "      <th>67</th>\n",
              "      <td>0</td>\n",
              "      <td>NaN</td>\n",
              "      <td>52</td>\n",
              "      <td>высшее</td>\n",
              "      <td>0</td>\n",
              "      <td>женат / замужем</td>\n",
              "      <td>0</td>\n",
              "      <td>F</td>\n",
              "      <td>пенсионер</td>\n",
              "      <td>0</td>\n",
              "      <td>NaN</td>\n",
              "      <td>покупка жилья для семьи</td>\n",
              "    </tr>\n",
              "    <tr>\n",
              "      <th>72</th>\n",
              "      <td>1</td>\n",
              "      <td>NaN</td>\n",
              "      <td>32</td>\n",
              "      <td>высшее</td>\n",
              "      <td>0</td>\n",
              "      <td>женат / замужем</td>\n",
              "      <td>0</td>\n",
              "      <td>M</td>\n",
              "      <td>госслужащий</td>\n",
              "      <td>0</td>\n",
              "      <td>NaN</td>\n",
              "      <td>операции с коммерческой недвижимостью</td>\n",
              "    </tr>\n",
              "    <tr>\n",
              "      <th>82</th>\n",
              "      <td>2</td>\n",
              "      <td>NaN</td>\n",
              "      <td>50</td>\n",
              "      <td>высшее</td>\n",
              "      <td>0</td>\n",
              "      <td>женат / замужем</td>\n",
              "      <td>0</td>\n",
              "      <td>F</td>\n",
              "      <td>сотрудник</td>\n",
              "      <td>0</td>\n",
              "      <td>NaN</td>\n",
              "      <td>жилье</td>\n",
              "    </tr>\n",
              "    <tr>\n",
              "      <th>83</th>\n",
              "      <td>0</td>\n",
              "      <td>NaN</td>\n",
              "      <td>52</td>\n",
              "      <td>среднее</td>\n",
              "      <td>1</td>\n",
              "      <td>женат / замужем</td>\n",
              "      <td>0</td>\n",
              "      <td>M</td>\n",
              "      <td>сотрудник</td>\n",
              "      <td>0</td>\n",
              "      <td>NaN</td>\n",
              "      <td>жилье</td>\n",
              "    </tr>\n",
              "    <tr>\n",
              "      <th>90</th>\n",
              "      <td>2</td>\n",
              "      <td>NaN</td>\n",
              "      <td>35</td>\n",
              "      <td>высшее</td>\n",
              "      <td>0</td>\n",
              "      <td>женат / замужем</td>\n",
              "      <td>0</td>\n",
              "      <td>F</td>\n",
              "      <td>сотрудник</td>\n",
              "      <td>0</td>\n",
              "      <td>NaN</td>\n",
              "      <td>операции с жильем</td>\n",
              "    </tr>\n",
              "    <tr>\n",
              "      <th>94</th>\n",
              "      <td>1</td>\n",
              "      <td>NaN</td>\n",
              "      <td>34</td>\n",
              "      <td>высшее</td>\n",
              "      <td>0</td>\n",
              "      <td>гражданский брак</td>\n",
              "      <td>1</td>\n",
              "      <td>F</td>\n",
              "      <td>компаньон</td>\n",
              "      <td>0</td>\n",
              "      <td>NaN</td>\n",
              "      <td>на проведение свадьбы</td>\n",
              "    </tr>\n",
              "    <tr>\n",
              "      <th>96</th>\n",
              "      <td>0</td>\n",
              "      <td>NaN</td>\n",
              "      <td>44</td>\n",
              "      <td>СРЕДНЕЕ</td>\n",
              "      <td>1</td>\n",
              "      <td>женат / замужем</td>\n",
              "      <td>0</td>\n",
              "      <td>F</td>\n",
              "      <td>сотрудник</td>\n",
              "      <td>0</td>\n",
              "      <td>NaN</td>\n",
              "      <td>покупка жилой недвижимости</td>\n",
              "    </tr>\n",
              "    <tr>\n",
              "      <th>97</th>\n",
              "      <td>0</td>\n",
              "      <td>NaN</td>\n",
              "      <td>47</td>\n",
              "      <td>высшее</td>\n",
              "      <td>0</td>\n",
              "      <td>женат / замужем</td>\n",
              "      <td>0</td>\n",
              "      <td>F</td>\n",
              "      <td>сотрудник</td>\n",
              "      <td>0</td>\n",
              "      <td>NaN</td>\n",
              "      <td>профильное образование</td>\n",
              "    </tr>\n",
              "    <tr>\n",
              "      <th>120</th>\n",
              "      <td>0</td>\n",
              "      <td>NaN</td>\n",
              "      <td>46</td>\n",
              "      <td>среднее</td>\n",
              "      <td>1</td>\n",
              "      <td>женат / замужем</td>\n",
              "      <td>0</td>\n",
              "      <td>F</td>\n",
              "      <td>сотрудник</td>\n",
              "      <td>0</td>\n",
              "      <td>NaN</td>\n",
              "      <td>высшее образование</td>\n",
              "    </tr>\n",
              "    <tr>\n",
              "      <th>121</th>\n",
              "      <td>0</td>\n",
              "      <td>NaN</td>\n",
              "      <td>29</td>\n",
              "      <td>высшее</td>\n",
              "      <td>0</td>\n",
              "      <td>женат / замужем</td>\n",
              "      <td>0</td>\n",
              "      <td>F</td>\n",
              "      <td>компаньон</td>\n",
              "      <td>0</td>\n",
              "      <td>NaN</td>\n",
              "      <td>автомобиль</td>\n",
              "    </tr>\n",
              "    <tr>\n",
              "      <th>135</th>\n",
              "      <td>0</td>\n",
              "      <td>NaN</td>\n",
              "      <td>27</td>\n",
              "      <td>среднее</td>\n",
              "      <td>1</td>\n",
              "      <td>женат / замужем</td>\n",
              "      <td>0</td>\n",
              "      <td>M</td>\n",
              "      <td>компаньон</td>\n",
              "      <td>0</td>\n",
              "      <td>NaN</td>\n",
              "      <td>жилье</td>\n",
              "    </tr>\n",
              "    <tr>\n",
              "      <th>141</th>\n",
              "      <td>0</td>\n",
              "      <td>NaN</td>\n",
              "      <td>39</td>\n",
              "      <td>среднее</td>\n",
              "      <td>1</td>\n",
              "      <td>гражданский брак</td>\n",
              "      <td>1</td>\n",
              "      <td>M</td>\n",
              "      <td>сотрудник</td>\n",
              "      <td>0</td>\n",
              "      <td>NaN</td>\n",
              "      <td>свадьба</td>\n",
              "    </tr>\n",
              "    <tr>\n",
              "      <th>145</th>\n",
              "      <td>0</td>\n",
              "      <td>NaN</td>\n",
              "      <td>62</td>\n",
              "      <td>среднее</td>\n",
              "      <td>1</td>\n",
              "      <td>женат / замужем</td>\n",
              "      <td>0</td>\n",
              "      <td>M</td>\n",
              "      <td>пенсионер</td>\n",
              "      <td>0</td>\n",
              "      <td>NaN</td>\n",
              "      <td>строительство недвижимости</td>\n",
              "    </tr>\n",
              "    <tr>\n",
              "      <th>174</th>\n",
              "      <td>0</td>\n",
              "      <td>NaN</td>\n",
              "      <td>55</td>\n",
              "      <td>высшее</td>\n",
              "      <td>0</td>\n",
              "      <td>вдовец / вдова</td>\n",
              "      <td>2</td>\n",
              "      <td>F</td>\n",
              "      <td>компаньон</td>\n",
              "      <td>0</td>\n",
              "      <td>NaN</td>\n",
              "      <td>свой автомобиль</td>\n",
              "    </tr>\n",
              "  </tbody>\n",
              "</table>\n",
              "</div>"
            ],
            "text/plain": [
              "     children  days_employed  dob_years education  education_id  \\\n",
              "12          0            NaN         65   среднее             1   \n",
              "26          0            NaN         41   среднее             1   \n",
              "29          0            NaN         63   среднее             1   \n",
              "41          0            NaN         50   среднее             1   \n",
              "55          0            NaN         54   среднее             1   \n",
              "65          0            NaN         21   среднее             1   \n",
              "67          0            NaN         52    высшее             0   \n",
              "72          1            NaN         32    высшее             0   \n",
              "82          2            NaN         50    высшее             0   \n",
              "83          0            NaN         52   среднее             1   \n",
              "90          2            NaN         35    высшее             0   \n",
              "94          1            NaN         34    высшее             0   \n",
              "96          0            NaN         44   СРЕДНЕЕ             1   \n",
              "97          0            NaN         47    высшее             0   \n",
              "120         0            NaN         46   среднее             1   \n",
              "121         0            NaN         29    высшее             0   \n",
              "135         0            NaN         27   среднее             1   \n",
              "141         0            NaN         39   среднее             1   \n",
              "145         0            NaN         62   среднее             1   \n",
              "174         0            NaN         55    высшее             0   \n",
              "\n",
              "             family_status  family_status_id gender  income_type  debt  \\\n",
              "12        гражданский брак                 1      M    пенсионер     0   \n",
              "26         женат / замужем                 0      M  госслужащий     0   \n",
              "29   Не женат / не замужем                 4      F    пенсионер     0   \n",
              "41         женат / замужем                 0      F  госслужащий     0   \n",
              "55        гражданский брак                 1      F    пенсионер     1   \n",
              "65   Не женат / не замужем                 4      M    компаньон     0   \n",
              "67         женат / замужем                 0      F    пенсионер     0   \n",
              "72         женат / замужем                 0      M  госслужащий     0   \n",
              "82         женат / замужем                 0      F    сотрудник     0   \n",
              "83         женат / замужем                 0      M    сотрудник     0   \n",
              "90         женат / замужем                 0      F    сотрудник     0   \n",
              "94        гражданский брак                 1      F    компаньон     0   \n",
              "96         женат / замужем                 0      F    сотрудник     0   \n",
              "97         женат / замужем                 0      F    сотрудник     0   \n",
              "120        женат / замужем                 0      F    сотрудник     0   \n",
              "121        женат / замужем                 0      F    компаньон     0   \n",
              "135        женат / замужем                 0      M    компаньон     0   \n",
              "141       гражданский брак                 1      M    сотрудник     0   \n",
              "145        женат / замужем                 0      M    пенсионер     0   \n",
              "174         вдовец / вдова                 2      F    компаньон     0   \n",
              "\n",
              "     total_income                                purpose  \n",
              "12            NaN                        сыграть свадьбу  \n",
              "26            NaN                            образование  \n",
              "29            NaN       строительство жилой недвижимости  \n",
              "41            NaN       сделка с подержанным автомобилем  \n",
              "55            NaN                        сыграть свадьбу  \n",
              "65            NaN  операции с коммерческой недвижимостью  \n",
              "67            NaN                покупка жилья для семьи  \n",
              "72            NaN  операции с коммерческой недвижимостью  \n",
              "82            NaN                                  жилье  \n",
              "83            NaN                                  жилье  \n",
              "90            NaN                      операции с жильем  \n",
              "94            NaN                  на проведение свадьбы  \n",
              "96            NaN             покупка жилой недвижимости  \n",
              "97            NaN                 профильное образование  \n",
              "120           NaN                     высшее образование  \n",
              "121           NaN                             автомобиль  \n",
              "135           NaN                                  жилье  \n",
              "141           NaN                                свадьба  \n",
              "145           NaN             строительство недвижимости  \n",
              "174           NaN                        свой автомобиль  "
            ]
          },
          "execution_count": 43,
          "metadata": {},
          "output_type": "execute_result"
        }
      ],
      "source": [
        "#выводим таблицу, где пропущены данные в столбцах, ищем взаимосвязь\n",
        "skipped_values = data.loc[data['days_employed'].isna()]\n",
        "skipped_values = data.loc[data['total_income'].isna()]\n",
        "skipped_values.head(20)"
      ]
    },
    {
      "cell_type": "markdown",
      "id": "1e4713ce",
      "metadata": {
        "deletable": false,
        "id": "1e4713ce"
      },
      "source": [
        "*Ответ:* Изучив данные, можно увидеть, что пропуски в days_employed и total_income напрямую взаимосвязаны, поскольку пропуски в одинаковых строках. Также видно, что данные не могут быть пропущены из-за других значений в столбцах, поэтому можно сделать вывод о том, что пропуск данных может быть обусловлен некорректным заполнением данных."
      ]
    },
    {
      "cell_type": "markdown",
      "id": "15492ad7",
      "metadata": {
        "deletable": false,
        "editable": false,
        "id": "15492ad7"
      },
      "source": [
        "#### 3.6 Объясните, почему заполнить пропуски медианным значением — лучшее решение для количественных переменных."
      ]
    },
    {
      "cell_type": "markdown",
      "id": "6612d364",
      "metadata": {
        "deletable": false,
        "id": "6612d364"
      },
      "source": [
        "*Ответ:* Медина, позволяет получить такое значение, больше которого будет ровно половина значений, как и меньше. Медиана также корректно характеризует данные, значения которых сильно выделяются среди большинства и на это значение не влияют выбросы."
      ]
    },
    {
      "cell_type": "markdown",
      "id": "d94a6617",
      "metadata": {
        "deletable": false,
        "editable": false,
        "id": "d94a6617"
      },
      "source": [
        "### Шаг 4: общий вывод."
      ]
    },
    {
      "cell_type": "markdown",
      "id": "4cfd473c",
      "metadata": {
        "id": "4cfd473c"
      },
      "source": [
        "В данном исследовании была осуществлена проверка разных факторов, которые влияют на возврат кредита вовремя.\n",
        "Было рассмотрено четыре гипотезы, влияние колчества детей, семейного положения, уровня дохода и целей кредита."
      ]
    },
    {
      "cell_type": "markdown",
      "id": "85164f56",
      "metadata": {
        "id": "85164f56"
      },
      "source": [
        "Рассмотрим первую гипотезу:"
      ]
    },
    {
      "cell_type": "code",
      "execution_count": null,
      "id": "1ebba74a",
      "metadata": {
        "id": "1ebba74a",
        "outputId": "de52c0d6-9b8b-44ab-f17c-08fa51e8cfe9"
      },
      "outputs": [
        {
          "data": {
            "text/html": [
              "<div>\n",
              "<style scoped>\n",
              "    .dataframe tbody tr th:only-of-type {\n",
              "        vertical-align: middle;\n",
              "    }\n",
              "\n",
              "    .dataframe tbody tr th {\n",
              "        vertical-align: top;\n",
              "    }\n",
              "\n",
              "    .dataframe thead th {\n",
              "        text-align: right;\n",
              "    }\n",
              "</style>\n",
              "<table border=\"1\" class=\"dataframe\">\n",
              "  <thead>\n",
              "    <tr style=\"text-align: right;\">\n",
              "      <th>children</th>\n",
              "      <th>0</th>\n",
              "      <th>1</th>\n",
              "      <th>2</th>\n",
              "      <th>3</th>\n",
              "      <th>4</th>\n",
              "      <th>5</th>\n",
              "    </tr>\n",
              "  </thead>\n",
              "  <tbody>\n",
              "    <tr>\n",
              "      <th>debt</th>\n",
              "      <td>0.075438</td>\n",
              "      <td>0.092346</td>\n",
              "      <td>0.094542</td>\n",
              "      <td>0.081818</td>\n",
              "      <td>0.097561</td>\n",
              "      <td>0.0</td>\n",
              "    </tr>\n",
              "  </tbody>\n",
              "</table>\n",
              "</div>"
            ],
            "text/plain": [
              "children         0         1         2         3         4    5\n",
              "debt      0.075438  0.092346  0.094542  0.081818  0.097561  0.0"
            ]
          },
          "execution_count": 52,
          "metadata": {},
          "output_type": "execute_result"
        }
      ],
      "source": [
        "children_and_kredit"
      ]
    },
    {
      "cell_type": "markdown",
      "id": "9efc69c0",
      "metadata": {
        "id": "9efc69c0"
      },
      "source": [
        "Она была частично подтверждена, поскольку не так много семей, обратившихся в банк, с 4-5 детьми."
      ]
    },
    {
      "cell_type": "markdown",
      "id": "dbbeb40f",
      "metadata": {
        "id": "dbbeb40f"
      },
      "source": [
        "Рассмотрим вторую гипотезу:"
      ]
    },
    {
      "cell_type": "code",
      "execution_count": null,
      "id": "4e375798",
      "metadata": {
        "id": "4e375798",
        "outputId": "7e73c84b-2228-4d19-9231-c08887c421a8"
      },
      "outputs": [
        {
          "data": {
            "text/html": [
              "<div>\n",
              "<style scoped>\n",
              "    .dataframe tbody tr th:only-of-type {\n",
              "        vertical-align: middle;\n",
              "    }\n",
              "\n",
              "    .dataframe tbody tr th {\n",
              "        vertical-align: top;\n",
              "    }\n",
              "\n",
              "    .dataframe thead th {\n",
              "        text-align: right;\n",
              "    }\n",
              "</style>\n",
              "<table border=\"1\" class=\"dataframe\">\n",
              "  <thead>\n",
              "    <tr style=\"text-align: right;\">\n",
              "      <th>family_status</th>\n",
              "      <th>Не женат / не замужем</th>\n",
              "      <th>в разводе</th>\n",
              "      <th>вдовец / вдова</th>\n",
              "      <th>гражданский брак</th>\n",
              "      <th>женат / замужем</th>\n",
              "    </tr>\n",
              "  </thead>\n",
              "  <tbody>\n",
              "    <tr>\n",
              "      <th>debt</th>\n",
              "      <td>0.097639</td>\n",
              "      <td>0.070648</td>\n",
              "      <td>0.066246</td>\n",
              "      <td>0.09313</td>\n",
              "      <td>0.075606</td>\n",
              "    </tr>\n",
              "  </tbody>\n",
              "</table>\n",
              "</div>"
            ],
            "text/plain": [
              "family_status  Не женат / не замужем  в разводе  вдовец / вдова  \\\n",
              "debt                        0.097639   0.070648        0.066246   \n",
              "\n",
              "family_status  гражданский брак  женат / замужем  \n",
              "debt                    0.09313         0.075606  "
            ]
          },
          "execution_count": 53,
          "metadata": {},
          "output_type": "execute_result"
        }
      ],
      "source": [
        "family_and_kredit"
      ]
    },
    {
      "cell_type": "markdown",
      "id": "7d5fd08e",
      "metadata": {
        "id": "7d5fd08e"
      },
      "source": [
        "Исходя из данных проверки взаимосвязи, можно сделать вывод о том, что люди ни разу не вступавшие в законный брак с большей вероятностью погашают кредит не вовремя."
      ]
    },
    {
      "cell_type": "markdown",
      "id": "2a57ab99",
      "metadata": {
        "id": "2a57ab99"
      },
      "source": [
        "Рассмотрим третью гипотезу:"
      ]
    },
    {
      "cell_type": "code",
      "execution_count": null,
      "id": "641b02f4",
      "metadata": {
        "id": "641b02f4",
        "outputId": "9fb62e45-8b0b-48e9-f0c1-84b1f268f21c"
      },
      "outputs": [
        {
          "data": {
            "text/html": [
              "<div>\n",
              "<style scoped>\n",
              "    .dataframe tbody tr th:only-of-type {\n",
              "        vertical-align: middle;\n",
              "    }\n",
              "\n",
              "    .dataframe tbody tr th {\n",
              "        vertical-align: top;\n",
              "    }\n",
              "\n",
              "    .dataframe thead th {\n",
              "        text-align: right;\n",
              "    }\n",
              "</style>\n",
              "<table border=\"1\" class=\"dataframe\">\n",
              "  <thead>\n",
              "    <tr style=\"text-align: right;\">\n",
              "      <th>total_income_category</th>\n",
              "      <th>A</th>\n",
              "      <th>B</th>\n",
              "      <th>C</th>\n",
              "      <th>D</th>\n",
              "      <th>E</th>\n",
              "    </tr>\n",
              "  </thead>\n",
              "  <tbody>\n",
              "    <tr>\n",
              "      <th>debt</th>\n",
              "      <td>0.08</td>\n",
              "      <td>0.070621</td>\n",
              "      <td>0.085532</td>\n",
              "      <td>0.06</td>\n",
              "      <td>0.090909</td>\n",
              "    </tr>\n",
              "  </tbody>\n",
              "</table>\n",
              "</div>"
            ],
            "text/plain": [
              "total_income_category     A         B         C     D         E\n",
              "debt                   0.08  0.070621  0.085532  0.06  0.090909"
            ]
          },
          "execution_count": 55,
          "metadata": {},
          "output_type": "execute_result"
        }
      ],
      "source": [
        "income_and_kredit"
      ]
    },
    {
      "cell_type": "markdown",
      "id": "b8a218fa",
      "metadata": {
        "id": "b8a218fa"
      },
      "source": [
        "Данная гипотеза неможет быть подтверждена, в связи с тем, что есть пропущенные данные в доходе."
      ]
    },
    {
      "cell_type": "markdown",
      "id": "7dc5c74b",
      "metadata": {
        "id": "7dc5c74b"
      },
      "source": [
        "Рассмотрим четвертую гипотезу:"
      ]
    },
    {
      "cell_type": "code",
      "execution_count": null,
      "id": "fc3a81c1",
      "metadata": {
        "id": "fc3a81c1",
        "outputId": "4cfa5ee7-c571-4d88-cf8f-05cd6f09b47b"
      },
      "outputs": [
        {
          "data": {
            "text/html": [
              "<div>\n",
              "<style scoped>\n",
              "    .dataframe tbody tr th:only-of-type {\n",
              "        vertical-align: middle;\n",
              "    }\n",
              "\n",
              "    .dataframe tbody tr th {\n",
              "        vertical-align: top;\n",
              "    }\n",
              "\n",
              "    .dataframe thead th {\n",
              "        text-align: right;\n",
              "    }\n",
              "</style>\n",
              "<table border=\"1\" class=\"dataframe\">\n",
              "  <thead>\n",
              "    <tr style=\"text-align: right;\">\n",
              "      <th>purpose_category</th>\n",
              "      <th>операции с автомобилем</th>\n",
              "      <th>операции с недвижимостью</th>\n",
              "      <th>получение образования</th>\n",
              "      <th>проведение свадьбы</th>\n",
              "    </tr>\n",
              "  </thead>\n",
              "  <tbody>\n",
              "    <tr>\n",
              "      <th>debt</th>\n",
              "      <td>0.09348</td>\n",
              "      <td>0.072551</td>\n",
              "      <td>0.092528</td>\n",
              "      <td>0.079118</td>\n",
              "    </tr>\n",
              "  </tbody>\n",
              "</table>\n",
              "</div>"
            ],
            "text/plain": [
              "purpose_category  операции с автомобилем  операции с недвижимостью  \\\n",
              "debt                             0.09348                  0.072551   \n",
              "\n",
              "purpose_category  получение образования  проведение свадьбы  \n",
              "debt                           0.092528            0.079118  "
            ]
          },
          "execution_count": 56,
          "metadata": {},
          "output_type": "execute_result"
        }
      ],
      "source": [
        "purpose_and_kredit"
      ]
    },
    {
      "cell_type": "markdown",
      "id": "a2915722",
      "metadata": {
        "id": "a2915722"
      },
      "source": [
        "Исходя из данных, сводной таблицы, можно сделать вывод о том, что то люди совершающие операции с недвижимостью и проведением свадьбы чаще всего возвращают долг в срок, в то время как люди совершающие операции с автомобилем и получением образования практически всегда задерживают возврат денег."
      ]
    }
  ],
  "metadata": {
    "ExecuteTimeLog": [
      {
        "duration": 649,
        "start_time": "2022-11-12T10:31:55.308Z"
      },
      {
        "duration": 21,
        "start_time": "2022-11-12T10:31:56.288Z"
      },
      {
        "duration": 15,
        "start_time": "2022-11-12T10:31:57.374Z"
      },
      {
        "duration": 9,
        "start_time": "2022-11-12T10:31:59.437Z"
      },
      {
        "duration": 31,
        "start_time": "2022-11-12T10:32:00.425Z"
      },
      {
        "duration": 3,
        "start_time": "2022-11-12T10:32:01.745Z"
      },
      {
        "duration": 8,
        "start_time": "2022-11-12T10:32:02.619Z"
      },
      {
        "duration": 5,
        "start_time": "2022-11-12T10:32:03.889Z"
      },
      {
        "duration": 7,
        "start_time": "2022-11-12T10:32:04.762Z"
      },
      {
        "duration": 4,
        "start_time": "2022-11-12T10:32:05.654Z"
      },
      {
        "duration": 31,
        "start_time": "2022-11-12T10:32:07.336Z"
      },
      {
        "duration": 10,
        "start_time": "2022-11-12T10:32:08.325Z"
      },
      {
        "duration": 4,
        "start_time": "2022-11-12T10:32:09.840Z"
      },
      {
        "duration": 12,
        "start_time": "2022-11-12T10:32:11.118Z"
      },
      {
        "duration": 18,
        "start_time": "2022-11-12T10:32:12.115Z"
      },
      {
        "duration": 17,
        "start_time": "2022-11-12T10:32:12.430Z"
      },
      {
        "duration": 4,
        "start_time": "2022-11-12T10:32:13.992Z"
      },
      {
        "duration": 10,
        "start_time": "2022-11-12T10:32:14.515Z"
      },
      {
        "duration": 6,
        "start_time": "2022-11-12T10:32:15.522Z"
      },
      {
        "duration": 3,
        "start_time": "2022-11-12T10:32:16.389Z"
      },
      {
        "duration": 8,
        "start_time": "2022-11-12T10:32:16.890Z"
      },
      {
        "duration": 12,
        "start_time": "2022-11-12T10:33:05.969Z"
      },
      {
        "duration": 19,
        "start_time": "2022-11-12T10:33:16.985Z"
      },
      {
        "duration": 8,
        "start_time": "2022-11-12T10:33:40.752Z"
      },
      {
        "duration": 15,
        "start_time": "2022-11-12T10:36:36.292Z"
      },
      {
        "duration": 16,
        "start_time": "2022-11-12T10:42:44.657Z"
      },
      {
        "duration": 12,
        "start_time": "2022-11-12T10:42:59.721Z"
      },
      {
        "duration": 15,
        "start_time": "2022-11-12T10:45:12.246Z"
      },
      {
        "duration": 3,
        "start_time": "2022-11-12T10:48:00.251Z"
      },
      {
        "duration": 4,
        "start_time": "2022-11-12T10:48:09.305Z"
      },
      {
        "duration": 4,
        "start_time": "2022-11-12T10:48:18.384Z"
      },
      {
        "duration": 4,
        "start_time": "2022-11-12T10:48:57.465Z"
      },
      {
        "duration": 14,
        "start_time": "2022-11-12T10:49:46.376Z"
      },
      {
        "duration": 17,
        "start_time": "2022-11-12T10:50:56.930Z"
      },
      {
        "duration": 19,
        "start_time": "2022-11-12T10:51:36.622Z"
      },
      {
        "duration": 70,
        "start_time": "2022-11-12T10:52:12.537Z"
      },
      {
        "duration": 9,
        "start_time": "2022-11-12T10:53:30.419Z"
      },
      {
        "duration": 13,
        "start_time": "2022-11-12T10:53:38.647Z"
      },
      {
        "duration": 12,
        "start_time": "2022-11-12T10:53:53.891Z"
      },
      {
        "duration": 5,
        "start_time": "2022-11-12T10:55:13.851Z"
      },
      {
        "duration": 25,
        "start_time": "2022-11-12T10:55:28.579Z"
      },
      {
        "duration": 9,
        "start_time": "2022-11-12T10:56:04.832Z"
      },
      {
        "duration": 5,
        "start_time": "2022-11-12T10:59:12.938Z"
      },
      {
        "duration": 6,
        "start_time": "2022-11-12T10:59:14.662Z"
      },
      {
        "duration": 4,
        "start_time": "2022-11-12T11:00:56.688Z"
      },
      {
        "duration": 64,
        "start_time": "2022-11-12T11:01:00.133Z"
      },
      {
        "duration": 4,
        "start_time": "2022-11-12T11:01:07.811Z"
      },
      {
        "duration": 5,
        "start_time": "2022-11-12T11:01:10.954Z"
      },
      {
        "duration": 17,
        "start_time": "2022-11-12T11:02:56.033Z"
      },
      {
        "duration": 22,
        "start_time": "2022-11-12T11:04:36.244Z"
      },
      {
        "duration": 15,
        "start_time": "2022-11-12T11:05:25.201Z"
      },
      {
        "duration": 15,
        "start_time": "2022-11-12T11:09:44.139Z"
      },
      {
        "duration": 54,
        "start_time": "2022-11-12T11:10:38.674Z"
      },
      {
        "duration": 8,
        "start_time": "2022-11-12T15:46:52.591Z"
      },
      {
        "duration": 43,
        "start_time": "2022-11-12T15:46:57.995Z"
      },
      {
        "duration": 544,
        "start_time": "2022-11-12T15:47:07.600Z"
      },
      {
        "duration": 23,
        "start_time": "2022-11-12T15:47:11.357Z"
      },
      {
        "duration": 15,
        "start_time": "2022-11-12T15:47:12.430Z"
      },
      {
        "duration": 9,
        "start_time": "2022-11-12T15:47:14.770Z"
      },
      {
        "duration": 33,
        "start_time": "2022-11-12T15:47:15.967Z"
      },
      {
        "duration": 4,
        "start_time": "2022-11-12T15:47:17.921Z"
      },
      {
        "duration": 8,
        "start_time": "2022-11-12T15:47:19.011Z"
      },
      {
        "duration": 5,
        "start_time": "2022-11-12T15:47:20.553Z"
      },
      {
        "duration": 7,
        "start_time": "2022-11-12T15:47:21.598Z"
      },
      {
        "duration": 5,
        "start_time": "2022-11-12T15:47:22.625Z"
      },
      {
        "duration": 31,
        "start_time": "2022-11-12T15:47:24.238Z"
      },
      {
        "duration": 11,
        "start_time": "2022-11-12T15:47:25.165Z"
      },
      {
        "duration": 4,
        "start_time": "2022-11-12T15:47:26.310Z"
      },
      {
        "duration": 12,
        "start_time": "2022-11-12T15:47:26.933Z"
      },
      {
        "duration": 23,
        "start_time": "2022-11-12T15:47:27.317Z"
      },
      {
        "duration": 17,
        "start_time": "2022-11-12T15:47:27.546Z"
      },
      {
        "duration": 4,
        "start_time": "2022-11-12T15:47:28.124Z"
      },
      {
        "duration": 9,
        "start_time": "2022-11-12T15:47:28.338Z"
      },
      {
        "duration": 6,
        "start_time": "2022-11-12T15:47:28.767Z"
      },
      {
        "duration": 4,
        "start_time": "2022-11-12T15:47:29.192Z"
      },
      {
        "duration": 13,
        "start_time": "2022-11-12T15:47:29.401Z"
      },
      {
        "duration": 14,
        "start_time": "2022-11-12T15:47:29.989Z"
      },
      {
        "duration": 23,
        "start_time": "2022-11-12T15:47:30.195Z"
      },
      {
        "duration": 9,
        "start_time": "2022-11-12T15:47:30.411Z"
      },
      {
        "duration": 5,
        "start_time": "2022-11-12T15:47:30.602Z"
      },
      {
        "duration": 4,
        "start_time": "2022-11-12T15:47:30.807Z"
      },
      {
        "duration": 5,
        "start_time": "2022-11-12T15:47:31.017Z"
      },
      {
        "duration": 5,
        "start_time": "2022-11-12T15:47:31.253Z"
      },
      {
        "duration": 17,
        "start_time": "2022-11-12T15:47:32.290Z"
      },
      {
        "duration": 53,
        "start_time": "2022-11-12T15:47:34.037Z"
      },
      {
        "duration": 18,
        "start_time": "2022-11-12T15:47:35.689Z"
      },
      {
        "duration": 8,
        "start_time": "2022-11-12T15:47:38.960Z"
      },
      {
        "duration": 10,
        "start_time": "2022-11-12T15:47:48.959Z"
      },
      {
        "duration": 60,
        "start_time": "2022-11-12T15:49:11.920Z"
      },
      {
        "duration": 9,
        "start_time": "2022-11-12T15:49:23.228Z"
      },
      {
        "duration": 38,
        "start_time": "2022-11-12T15:51:36.176Z"
      },
      {
        "duration": 4,
        "start_time": "2022-11-12T15:52:58.033Z"
      },
      {
        "duration": 19,
        "start_time": "2022-11-12T15:53:17.706Z"
      },
      {
        "duration": 15,
        "start_time": "2022-11-12T15:54:03.711Z"
      },
      {
        "duration": 16,
        "start_time": "2022-11-12T15:54:46.649Z"
      },
      {
        "duration": 21,
        "start_time": "2022-11-12T15:55:14.467Z"
      },
      {
        "duration": 18,
        "start_time": "2022-11-12T16:31:21.605Z"
      },
      {
        "duration": 4,
        "start_time": "2022-11-12T16:31:30.751Z"
      },
      {
        "duration": 8,
        "start_time": "2022-11-12T16:31:33.050Z"
      },
      {
        "duration": 4,
        "start_time": "2022-11-12T16:31:59.771Z"
      },
      {
        "duration": 12,
        "start_time": "2022-11-12T16:32:00.667Z"
      },
      {
        "duration": 22,
        "start_time": "2022-11-12T16:32:06.941Z"
      },
      {
        "duration": 68,
        "start_time": "2022-11-12T16:50:11.983Z"
      },
      {
        "duration": 8,
        "start_time": "2022-11-12T16:50:41.942Z"
      },
      {
        "duration": 11,
        "start_time": "2022-11-12T16:51:23.930Z"
      },
      {
        "duration": 8,
        "start_time": "2022-11-12T16:53:03.470Z"
      },
      {
        "duration": 73,
        "start_time": "2022-11-12T16:54:57.404Z"
      },
      {
        "duration": 10,
        "start_time": "2022-11-12T16:56:23.629Z"
      },
      {
        "duration": 13,
        "start_time": "2022-11-12T16:56:41.026Z"
      },
      {
        "duration": 635,
        "start_time": "2022-11-13T11:30:13.772Z"
      },
      {
        "duration": 76,
        "start_time": "2022-11-13T11:33:08.766Z"
      },
      {
        "duration": 14,
        "start_time": "2022-11-13T11:35:16.902Z"
      },
      {
        "duration": 33,
        "start_time": "2022-11-13T11:35:46.723Z"
      },
      {
        "duration": 1144,
        "start_time": "2022-11-13T11:41:04.363Z"
      },
      {
        "duration": 14,
        "start_time": "2022-11-13T11:41:15.233Z"
      },
      {
        "duration": 13,
        "start_time": "2022-11-13T11:41:23.190Z"
      },
      {
        "duration": 10,
        "start_time": "2022-11-13T11:41:38.923Z"
      },
      {
        "duration": 17,
        "start_time": "2022-11-13T11:41:57.475Z"
      },
      {
        "duration": 14,
        "start_time": "2022-11-13T11:41:57.970Z"
      },
      {
        "duration": 11,
        "start_time": "2022-11-13T11:41:58.569Z"
      },
      {
        "duration": 35,
        "start_time": "2022-11-13T11:41:58.881Z"
      },
      {
        "duration": 3,
        "start_time": "2022-11-13T11:41:59.375Z"
      },
      {
        "duration": 8,
        "start_time": "2022-11-13T11:41:59.716Z"
      },
      {
        "duration": 5,
        "start_time": "2022-11-13T11:42:00.236Z"
      },
      {
        "duration": 6,
        "start_time": "2022-11-13T11:42:00.578Z"
      },
      {
        "duration": 5,
        "start_time": "2022-11-13T11:42:00.935Z"
      },
      {
        "duration": 37,
        "start_time": "2022-11-13T11:42:01.499Z"
      },
      {
        "duration": 11,
        "start_time": "2022-11-13T11:42:01.859Z"
      },
      {
        "duration": 4,
        "start_time": "2022-11-13T11:42:02.400Z"
      },
      {
        "duration": 13,
        "start_time": "2022-11-13T11:42:02.972Z"
      },
      {
        "duration": 24,
        "start_time": "2022-11-13T11:42:03.378Z"
      },
      {
        "duration": 19,
        "start_time": "2022-11-13T11:42:03.562Z"
      },
      {
        "duration": 4,
        "start_time": "2022-11-13T11:42:04.124Z"
      },
      {
        "duration": 12,
        "start_time": "2022-11-13T11:42:04.326Z"
      },
      {
        "duration": 8,
        "start_time": "2022-11-13T11:42:04.958Z"
      },
      {
        "duration": 3,
        "start_time": "2022-11-13T11:42:05.735Z"
      },
      {
        "duration": 9,
        "start_time": "2022-11-13T11:42:05.929Z"
      },
      {
        "duration": 16,
        "start_time": "2022-11-13T11:42:07.163Z"
      },
      {
        "duration": 21,
        "start_time": "2022-11-13T11:42:07.777Z"
      },
      {
        "duration": 11,
        "start_time": "2022-11-13T11:42:13.175Z"
      },
      {
        "duration": 19,
        "start_time": "2022-11-13T11:47:50.210Z"
      },
      {
        "duration": 27,
        "start_time": "2022-11-13T11:54:35.493Z"
      },
      {
        "duration": 24,
        "start_time": "2022-11-13T11:54:52.766Z"
      },
      {
        "duration": 23,
        "start_time": "2022-11-13T11:56:06.969Z"
      },
      {
        "duration": 15,
        "start_time": "2022-11-13T11:57:29.162Z"
      },
      {
        "duration": 20,
        "start_time": "2022-11-13T11:57:52.278Z"
      },
      {
        "duration": 16,
        "start_time": "2022-11-13T12:01:17.525Z"
      },
      {
        "duration": 22,
        "start_time": "2022-11-13T12:01:26.416Z"
      },
      {
        "duration": 17,
        "start_time": "2022-11-13T12:03:59.791Z"
      },
      {
        "duration": 17,
        "start_time": "2022-11-13T12:05:23.604Z"
      },
      {
        "duration": 16,
        "start_time": "2022-11-13T12:06:59.782Z"
      }
    ],
    "colab": {
      "provenance": []
    },
    "kernelspec": {
      "display_name": "Python 3 (ipykernel)",
      "language": "python",
      "name": "python3"
    },
    "language_info": {
      "codemirror_mode": {
        "name": "ipython",
        "version": 3
      },
      "file_extension": ".py",
      "mimetype": "text/x-python",
      "name": "python",
      "nbconvert_exporter": "python",
      "pygments_lexer": "ipython3",
      "version": "3.9.5"
    },
    "toc": {
      "base_numbering": 1,
      "nav_menu": {},
      "number_sections": true,
      "sideBar": true,
      "skip_h1_title": true,
      "title_cell": "Table of Contents",
      "title_sidebar": "Contents",
      "toc_cell": false,
      "toc_position": {},
      "toc_section_display": true,
      "toc_window_display": false
    }
  },
  "nbformat": 4,
  "nbformat_minor": 5
}