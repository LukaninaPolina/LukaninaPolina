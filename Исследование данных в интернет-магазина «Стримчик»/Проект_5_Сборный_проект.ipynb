{
  "cells": [
    {
      "cell_type": "markdown",
      "source": [
        "# Сборный проект"
      ],
      "metadata": {
        "id": "syJJvRSuUlxx"
      }
    },
    {
      "cell_type": "markdown",
      "metadata": {
        "id": "p8FzyNiBUhxQ"
      },
      "source": [
        "**Описание проекта**\n",
        "- Вы работаете в интернет-магазине «Стримчик», который продаёт по всему миру компьютерные игры. Из открытых источников доступны исторические данные о продажах игр, оценки пользователей и экспертов, жанры и платформы (например, Xbox или PlayStation). Вам нужно выявить определяющие успешность игры закономерности. Это позволит сделать ставку на потенциально популярный продукт и спланировать рекламные кампании.\n",
        "- Перед вами данные до 2016 года. Представим, что сейчас декабрь 2016 г., и вы планируете кампанию на 2017-й. Нужно отработать принцип работы с данными. Неважно, прогнозируете ли вы продажи на 2017 год по данным 2016-го или же 2027-й — по данным 2026 года.\n",
        "- В наборе данных попадается аббревиатура ESRB (Entertainment Software Rating Board) — это ассоциация, определяющая возрастной рейтинг компьютерных игр. ESRB оценивает игровой контент и присваивает ему подходящую возрастную категорию, например, «Для взрослых», «Для детей младшего возраста» или «Для подростков»."
      ]
    },
    {
      "cell_type": "markdown",
      "metadata": {
        "id": "iCSXaZd2UhxR"
      },
      "source": [
        "**Описание данных**\n",
        "- Name — название игры\n",
        "- Platform — платформа\n",
        "- Year_of_Release — год выпуска\n",
        "- Genre — жанр игры\n",
        "- NA_sales — продажи в Северной Америке (миллионы проданных копий)\n",
        "- EU_sales — продажи в Европе (миллионы проданных копий)\n",
        "- JP_sales — продажи в Японии (миллионы проданных копий)\n",
        "- Other_sales — продажи в других странах (миллионы проданных копий)\n",
        "- Critic_Score — оценка критиков (максимум 100)\n",
        "- User_Score — оценка пользователей (максимум 10)\n",
        "- Rating — рейтинг от организации ESRB (англ. Entertainment Software Rating Board). Эта ассоциация определяет рейтинг компьютерных игр и присваивает им подходящую возрастную категорию."
      ]
    },
    {
      "cell_type": "markdown",
      "metadata": {
        "id": "MsUUTG57UhxR"
      },
      "source": [
        "**Шаг 1.Открываем файл и изучаем данные**"
      ]
    },
    {
      "cell_type": "code",
      "execution_count": null,
      "metadata": {
        "id": "-9Io6FnoUhxR"
      },
      "outputs": [],
      "source": [
        "import pandas as pd\n",
        "import numpy as np\n",
        "import matplotlib.pyplot as plt\n",
        "import seaborn as sns\n",
        "from scipy import stats as st"
      ]
    },
    {
      "cell_type": "code",
      "execution_count": null,
      "metadata": {
        "id": "JZJS90imUhxS"
      },
      "outputs": [],
      "source": [
        "try:\n",
        "    data = pd.read_csv('/Users/pashc/Downloads/games.csv')\n",
        "except:\n",
        "    data = pd.read_csv('/datasets/games.csv')"
      ]
    },
    {
      "cell_type": "code",
      "execution_count": null,
      "metadata": {
        "id": "h5q4G7pNUhxS",
        "outputId": "bc8cb8ee-0e8c-4055-839d-89fb23a9256d"
      },
      "outputs": [
        {
          "name": "stdout",
          "output_type": "stream",
          "text": [
            "<class 'pandas.core.frame.DataFrame'>\n",
            "RangeIndex: 16715 entries, 0 to 16714\n",
            "Data columns (total 11 columns):\n",
            " #   Column           Non-Null Count  Dtype  \n",
            "---  ------           --------------  -----  \n",
            " 0   Name             16713 non-null  object \n",
            " 1   Platform         16715 non-null  object \n",
            " 2   Year_of_Release  16446 non-null  float64\n",
            " 3   Genre            16713 non-null  object \n",
            " 4   NA_sales         16715 non-null  float64\n",
            " 5   EU_sales         16715 non-null  float64\n",
            " 6   JP_sales         16715 non-null  float64\n",
            " 7   Other_sales      16715 non-null  float64\n",
            " 8   Critic_Score     8137 non-null   float64\n",
            " 9   User_Score       10014 non-null  object \n",
            " 10  Rating           9949 non-null   object \n",
            "dtypes: float64(6), object(5)\n",
            "memory usage: 1.4+ MB\n"
          ]
        }
      ],
      "source": [
        "data.info()"
      ]
    },
    {
      "cell_type": "code",
      "execution_count": null,
      "metadata": {
        "id": "JuM106eQUhxT",
        "outputId": "68e43a51-cf57-4046-ba43-de51ece4622d"
      },
      "outputs": [
        {
          "data": {
            "text/html": [
              "<div>\n",
              "<style scoped>\n",
              "    .dataframe tbody tr th:only-of-type {\n",
              "        vertical-align: middle;\n",
              "    }\n",
              "\n",
              "    .dataframe tbody tr th {\n",
              "        vertical-align: top;\n",
              "    }\n",
              "\n",
              "    .dataframe thead th {\n",
              "        text-align: right;\n",
              "    }\n",
              "</style>\n",
              "<table border=\"1\" class=\"dataframe\">\n",
              "  <thead>\n",
              "    <tr style=\"text-align: right;\">\n",
              "      <th></th>\n",
              "      <th>Name</th>\n",
              "      <th>Platform</th>\n",
              "      <th>Year_of_Release</th>\n",
              "      <th>Genre</th>\n",
              "      <th>NA_sales</th>\n",
              "      <th>EU_sales</th>\n",
              "      <th>JP_sales</th>\n",
              "      <th>Other_sales</th>\n",
              "      <th>Critic_Score</th>\n",
              "      <th>User_Score</th>\n",
              "      <th>Rating</th>\n",
              "    </tr>\n",
              "  </thead>\n",
              "  <tbody>\n",
              "    <tr>\n",
              "      <th>0</th>\n",
              "      <td>Wii Sports</td>\n",
              "      <td>Wii</td>\n",
              "      <td>2006.0</td>\n",
              "      <td>Sports</td>\n",
              "      <td>41.36</td>\n",
              "      <td>28.96</td>\n",
              "      <td>3.77</td>\n",
              "      <td>8.45</td>\n",
              "      <td>76.0</td>\n",
              "      <td>8</td>\n",
              "      <td>E</td>\n",
              "    </tr>\n",
              "    <tr>\n",
              "      <th>1</th>\n",
              "      <td>Super Mario Bros.</td>\n",
              "      <td>NES</td>\n",
              "      <td>1985.0</td>\n",
              "      <td>Platform</td>\n",
              "      <td>29.08</td>\n",
              "      <td>3.58</td>\n",
              "      <td>6.81</td>\n",
              "      <td>0.77</td>\n",
              "      <td>NaN</td>\n",
              "      <td>NaN</td>\n",
              "      <td>NaN</td>\n",
              "    </tr>\n",
              "    <tr>\n",
              "      <th>2</th>\n",
              "      <td>Mario Kart Wii</td>\n",
              "      <td>Wii</td>\n",
              "      <td>2008.0</td>\n",
              "      <td>Racing</td>\n",
              "      <td>15.68</td>\n",
              "      <td>12.76</td>\n",
              "      <td>3.79</td>\n",
              "      <td>3.29</td>\n",
              "      <td>82.0</td>\n",
              "      <td>8.3</td>\n",
              "      <td>E</td>\n",
              "    </tr>\n",
              "    <tr>\n",
              "      <th>3</th>\n",
              "      <td>Wii Sports Resort</td>\n",
              "      <td>Wii</td>\n",
              "      <td>2009.0</td>\n",
              "      <td>Sports</td>\n",
              "      <td>15.61</td>\n",
              "      <td>10.93</td>\n",
              "      <td>3.28</td>\n",
              "      <td>2.95</td>\n",
              "      <td>80.0</td>\n",
              "      <td>8</td>\n",
              "      <td>E</td>\n",
              "    </tr>\n",
              "    <tr>\n",
              "      <th>4</th>\n",
              "      <td>Pokemon Red/Pokemon Blue</td>\n",
              "      <td>GB</td>\n",
              "      <td>1996.0</td>\n",
              "      <td>Role-Playing</td>\n",
              "      <td>11.27</td>\n",
              "      <td>8.89</td>\n",
              "      <td>10.22</td>\n",
              "      <td>1.00</td>\n",
              "      <td>NaN</td>\n",
              "      <td>NaN</td>\n",
              "      <td>NaN</td>\n",
              "    </tr>\n",
              "    <tr>\n",
              "      <th>5</th>\n",
              "      <td>Tetris</td>\n",
              "      <td>GB</td>\n",
              "      <td>1989.0</td>\n",
              "      <td>Puzzle</td>\n",
              "      <td>23.20</td>\n",
              "      <td>2.26</td>\n",
              "      <td>4.22</td>\n",
              "      <td>0.58</td>\n",
              "      <td>NaN</td>\n",
              "      <td>NaN</td>\n",
              "      <td>NaN</td>\n",
              "    </tr>\n",
              "    <tr>\n",
              "      <th>6</th>\n",
              "      <td>New Super Mario Bros.</td>\n",
              "      <td>DS</td>\n",
              "      <td>2006.0</td>\n",
              "      <td>Platform</td>\n",
              "      <td>11.28</td>\n",
              "      <td>9.14</td>\n",
              "      <td>6.50</td>\n",
              "      <td>2.88</td>\n",
              "      <td>89.0</td>\n",
              "      <td>8.5</td>\n",
              "      <td>E</td>\n",
              "    </tr>\n",
              "    <tr>\n",
              "      <th>7</th>\n",
              "      <td>Wii Play</td>\n",
              "      <td>Wii</td>\n",
              "      <td>2006.0</td>\n",
              "      <td>Misc</td>\n",
              "      <td>13.96</td>\n",
              "      <td>9.18</td>\n",
              "      <td>2.93</td>\n",
              "      <td>2.84</td>\n",
              "      <td>58.0</td>\n",
              "      <td>6.6</td>\n",
              "      <td>E</td>\n",
              "    </tr>\n",
              "    <tr>\n",
              "      <th>8</th>\n",
              "      <td>New Super Mario Bros. Wii</td>\n",
              "      <td>Wii</td>\n",
              "      <td>2009.0</td>\n",
              "      <td>Platform</td>\n",
              "      <td>14.44</td>\n",
              "      <td>6.94</td>\n",
              "      <td>4.70</td>\n",
              "      <td>2.24</td>\n",
              "      <td>87.0</td>\n",
              "      <td>8.4</td>\n",
              "      <td>E</td>\n",
              "    </tr>\n",
              "    <tr>\n",
              "      <th>9</th>\n",
              "      <td>Duck Hunt</td>\n",
              "      <td>NES</td>\n",
              "      <td>1984.0</td>\n",
              "      <td>Shooter</td>\n",
              "      <td>26.93</td>\n",
              "      <td>0.63</td>\n",
              "      <td>0.28</td>\n",
              "      <td>0.47</td>\n",
              "      <td>NaN</td>\n",
              "      <td>NaN</td>\n",
              "      <td>NaN</td>\n",
              "    </tr>\n",
              "    <tr>\n",
              "      <th>10</th>\n",
              "      <td>Nintendogs</td>\n",
              "      <td>DS</td>\n",
              "      <td>2005.0</td>\n",
              "      <td>Simulation</td>\n",
              "      <td>9.05</td>\n",
              "      <td>10.95</td>\n",
              "      <td>1.93</td>\n",
              "      <td>2.74</td>\n",
              "      <td>NaN</td>\n",
              "      <td>NaN</td>\n",
              "      <td>NaN</td>\n",
              "    </tr>\n",
              "    <tr>\n",
              "      <th>11</th>\n",
              "      <td>Mario Kart DS</td>\n",
              "      <td>DS</td>\n",
              "      <td>2005.0</td>\n",
              "      <td>Racing</td>\n",
              "      <td>9.71</td>\n",
              "      <td>7.47</td>\n",
              "      <td>4.13</td>\n",
              "      <td>1.90</td>\n",
              "      <td>91.0</td>\n",
              "      <td>8.6</td>\n",
              "      <td>E</td>\n",
              "    </tr>\n",
              "    <tr>\n",
              "      <th>12</th>\n",
              "      <td>Pokemon Gold/Pokemon Silver</td>\n",
              "      <td>GB</td>\n",
              "      <td>1999.0</td>\n",
              "      <td>Role-Playing</td>\n",
              "      <td>9.00</td>\n",
              "      <td>6.18</td>\n",
              "      <td>7.20</td>\n",
              "      <td>0.71</td>\n",
              "      <td>NaN</td>\n",
              "      <td>NaN</td>\n",
              "      <td>NaN</td>\n",
              "    </tr>\n",
              "    <tr>\n",
              "      <th>13</th>\n",
              "      <td>Wii Fit</td>\n",
              "      <td>Wii</td>\n",
              "      <td>2007.0</td>\n",
              "      <td>Sports</td>\n",
              "      <td>8.92</td>\n",
              "      <td>8.03</td>\n",
              "      <td>3.60</td>\n",
              "      <td>2.15</td>\n",
              "      <td>80.0</td>\n",
              "      <td>7.7</td>\n",
              "      <td>E</td>\n",
              "    </tr>\n",
              "    <tr>\n",
              "      <th>14</th>\n",
              "      <td>Kinect Adventures!</td>\n",
              "      <td>X360</td>\n",
              "      <td>2010.0</td>\n",
              "      <td>Misc</td>\n",
              "      <td>15.00</td>\n",
              "      <td>4.89</td>\n",
              "      <td>0.24</td>\n",
              "      <td>1.69</td>\n",
              "      <td>61.0</td>\n",
              "      <td>6.3</td>\n",
              "      <td>E</td>\n",
              "    </tr>\n",
              "    <tr>\n",
              "      <th>15</th>\n",
              "      <td>Wii Fit Plus</td>\n",
              "      <td>Wii</td>\n",
              "      <td>2009.0</td>\n",
              "      <td>Sports</td>\n",
              "      <td>9.01</td>\n",
              "      <td>8.49</td>\n",
              "      <td>2.53</td>\n",
              "      <td>1.77</td>\n",
              "      <td>80.0</td>\n",
              "      <td>7.4</td>\n",
              "      <td>E</td>\n",
              "    </tr>\n",
              "    <tr>\n",
              "      <th>16</th>\n",
              "      <td>Grand Theft Auto V</td>\n",
              "      <td>PS3</td>\n",
              "      <td>2013.0</td>\n",
              "      <td>Action</td>\n",
              "      <td>7.02</td>\n",
              "      <td>9.09</td>\n",
              "      <td>0.98</td>\n",
              "      <td>3.96</td>\n",
              "      <td>97.0</td>\n",
              "      <td>8.2</td>\n",
              "      <td>M</td>\n",
              "    </tr>\n",
              "    <tr>\n",
              "      <th>17</th>\n",
              "      <td>Grand Theft Auto: San Andreas</td>\n",
              "      <td>PS2</td>\n",
              "      <td>2004.0</td>\n",
              "      <td>Action</td>\n",
              "      <td>9.43</td>\n",
              "      <td>0.40</td>\n",
              "      <td>0.41</td>\n",
              "      <td>10.57</td>\n",
              "      <td>95.0</td>\n",
              "      <td>9</td>\n",
              "      <td>M</td>\n",
              "    </tr>\n",
              "    <tr>\n",
              "      <th>18</th>\n",
              "      <td>Super Mario World</td>\n",
              "      <td>SNES</td>\n",
              "      <td>1990.0</td>\n",
              "      <td>Platform</td>\n",
              "      <td>12.78</td>\n",
              "      <td>3.75</td>\n",
              "      <td>3.54</td>\n",
              "      <td>0.55</td>\n",
              "      <td>NaN</td>\n",
              "      <td>NaN</td>\n",
              "      <td>NaN</td>\n",
              "    </tr>\n",
              "    <tr>\n",
              "      <th>19</th>\n",
              "      <td>Brain Age: Train Your Brain in Minutes a Day</td>\n",
              "      <td>DS</td>\n",
              "      <td>2005.0</td>\n",
              "      <td>Misc</td>\n",
              "      <td>4.74</td>\n",
              "      <td>9.20</td>\n",
              "      <td>4.16</td>\n",
              "      <td>2.04</td>\n",
              "      <td>77.0</td>\n",
              "      <td>7.9</td>\n",
              "      <td>E</td>\n",
              "    </tr>\n",
              "    <tr>\n",
              "      <th>20</th>\n",
              "      <td>Pokemon Diamond/Pokemon Pearl</td>\n",
              "      <td>DS</td>\n",
              "      <td>2006.0</td>\n",
              "      <td>Role-Playing</td>\n",
              "      <td>6.38</td>\n",
              "      <td>4.46</td>\n",
              "      <td>6.04</td>\n",
              "      <td>1.36</td>\n",
              "      <td>NaN</td>\n",
              "      <td>NaN</td>\n",
              "      <td>NaN</td>\n",
              "    </tr>\n",
              "    <tr>\n",
              "      <th>21</th>\n",
              "      <td>Super Mario Land</td>\n",
              "      <td>GB</td>\n",
              "      <td>1989.0</td>\n",
              "      <td>Platform</td>\n",
              "      <td>10.83</td>\n",
              "      <td>2.71</td>\n",
              "      <td>4.18</td>\n",
              "      <td>0.42</td>\n",
              "      <td>NaN</td>\n",
              "      <td>NaN</td>\n",
              "      <td>NaN</td>\n",
              "    </tr>\n",
              "    <tr>\n",
              "      <th>22</th>\n",
              "      <td>Super Mario Bros. 3</td>\n",
              "      <td>NES</td>\n",
              "      <td>1988.0</td>\n",
              "      <td>Platform</td>\n",
              "      <td>9.54</td>\n",
              "      <td>3.44</td>\n",
              "      <td>3.84</td>\n",
              "      <td>0.46</td>\n",
              "      <td>NaN</td>\n",
              "      <td>NaN</td>\n",
              "      <td>NaN</td>\n",
              "    </tr>\n",
              "    <tr>\n",
              "      <th>23</th>\n",
              "      <td>Grand Theft Auto V</td>\n",
              "      <td>X360</td>\n",
              "      <td>2013.0</td>\n",
              "      <td>Action</td>\n",
              "      <td>9.66</td>\n",
              "      <td>5.14</td>\n",
              "      <td>0.06</td>\n",
              "      <td>1.41</td>\n",
              "      <td>97.0</td>\n",
              "      <td>8.1</td>\n",
              "      <td>M</td>\n",
              "    </tr>\n",
              "    <tr>\n",
              "      <th>24</th>\n",
              "      <td>Grand Theft Auto: Vice City</td>\n",
              "      <td>PS2</td>\n",
              "      <td>2002.0</td>\n",
              "      <td>Action</td>\n",
              "      <td>8.41</td>\n",
              "      <td>5.49</td>\n",
              "      <td>0.47</td>\n",
              "      <td>1.78</td>\n",
              "      <td>95.0</td>\n",
              "      <td>8.7</td>\n",
              "      <td>M</td>\n",
              "    </tr>\n",
              "    <tr>\n",
              "      <th>25</th>\n",
              "      <td>Pokemon Ruby/Pokemon Sapphire</td>\n",
              "      <td>GBA</td>\n",
              "      <td>2002.0</td>\n",
              "      <td>Role-Playing</td>\n",
              "      <td>6.06</td>\n",
              "      <td>3.90</td>\n",
              "      <td>5.38</td>\n",
              "      <td>0.50</td>\n",
              "      <td>NaN</td>\n",
              "      <td>NaN</td>\n",
              "      <td>NaN</td>\n",
              "    </tr>\n",
              "    <tr>\n",
              "      <th>26</th>\n",
              "      <td>Brain Age 2: More Training in Minutes a Day</td>\n",
              "      <td>DS</td>\n",
              "      <td>2005.0</td>\n",
              "      <td>Puzzle</td>\n",
              "      <td>3.43</td>\n",
              "      <td>5.35</td>\n",
              "      <td>5.32</td>\n",
              "      <td>1.18</td>\n",
              "      <td>77.0</td>\n",
              "      <td>7.1</td>\n",
              "      <td>E</td>\n",
              "    </tr>\n",
              "    <tr>\n",
              "      <th>27</th>\n",
              "      <td>Pokemon Black/Pokemon White</td>\n",
              "      <td>DS</td>\n",
              "      <td>2010.0</td>\n",
              "      <td>Role-Playing</td>\n",
              "      <td>5.51</td>\n",
              "      <td>3.17</td>\n",
              "      <td>5.65</td>\n",
              "      <td>0.80</td>\n",
              "      <td>NaN</td>\n",
              "      <td>NaN</td>\n",
              "      <td>NaN</td>\n",
              "    </tr>\n",
              "    <tr>\n",
              "      <th>28</th>\n",
              "      <td>Gran Turismo 3: A-Spec</td>\n",
              "      <td>PS2</td>\n",
              "      <td>2001.0</td>\n",
              "      <td>Racing</td>\n",
              "      <td>6.85</td>\n",
              "      <td>5.09</td>\n",
              "      <td>1.87</td>\n",
              "      <td>1.16</td>\n",
              "      <td>95.0</td>\n",
              "      <td>8.4</td>\n",
              "      <td>E</td>\n",
              "    </tr>\n",
              "    <tr>\n",
              "      <th>29</th>\n",
              "      <td>Call of Duty: Modern Warfare 3</td>\n",
              "      <td>X360</td>\n",
              "      <td>2011.0</td>\n",
              "      <td>Shooter</td>\n",
              "      <td>9.04</td>\n",
              "      <td>4.24</td>\n",
              "      <td>0.13</td>\n",
              "      <td>1.32</td>\n",
              "      <td>88.0</td>\n",
              "      <td>3.4</td>\n",
              "      <td>M</td>\n",
              "    </tr>\n",
              "  </tbody>\n",
              "</table>\n",
              "</div>"
            ],
            "text/plain": [
              "                                            Name Platform  Year_of_Release  \\\n",
              "0                                     Wii Sports      Wii           2006.0   \n",
              "1                              Super Mario Bros.      NES           1985.0   \n",
              "2                                 Mario Kart Wii      Wii           2008.0   \n",
              "3                              Wii Sports Resort      Wii           2009.0   \n",
              "4                       Pokemon Red/Pokemon Blue       GB           1996.0   \n",
              "5                                         Tetris       GB           1989.0   \n",
              "6                          New Super Mario Bros.       DS           2006.0   \n",
              "7                                       Wii Play      Wii           2006.0   \n",
              "8                      New Super Mario Bros. Wii      Wii           2009.0   \n",
              "9                                      Duck Hunt      NES           1984.0   \n",
              "10                                    Nintendogs       DS           2005.0   \n",
              "11                                 Mario Kart DS       DS           2005.0   \n",
              "12                   Pokemon Gold/Pokemon Silver       GB           1999.0   \n",
              "13                                       Wii Fit      Wii           2007.0   \n",
              "14                            Kinect Adventures!     X360           2010.0   \n",
              "15                                  Wii Fit Plus      Wii           2009.0   \n",
              "16                            Grand Theft Auto V      PS3           2013.0   \n",
              "17                 Grand Theft Auto: San Andreas      PS2           2004.0   \n",
              "18                             Super Mario World     SNES           1990.0   \n",
              "19  Brain Age: Train Your Brain in Minutes a Day       DS           2005.0   \n",
              "20                 Pokemon Diamond/Pokemon Pearl       DS           2006.0   \n",
              "21                              Super Mario Land       GB           1989.0   \n",
              "22                           Super Mario Bros. 3      NES           1988.0   \n",
              "23                            Grand Theft Auto V     X360           2013.0   \n",
              "24                   Grand Theft Auto: Vice City      PS2           2002.0   \n",
              "25                 Pokemon Ruby/Pokemon Sapphire      GBA           2002.0   \n",
              "26   Brain Age 2: More Training in Minutes a Day       DS           2005.0   \n",
              "27                   Pokemon Black/Pokemon White       DS           2010.0   \n",
              "28                        Gran Turismo 3: A-Spec      PS2           2001.0   \n",
              "29                Call of Duty: Modern Warfare 3     X360           2011.0   \n",
              "\n",
              "           Genre  NA_sales  EU_sales  JP_sales  Other_sales  Critic_Score  \\\n",
              "0         Sports     41.36     28.96      3.77         8.45          76.0   \n",
              "1       Platform     29.08      3.58      6.81         0.77           NaN   \n",
              "2         Racing     15.68     12.76      3.79         3.29          82.0   \n",
              "3         Sports     15.61     10.93      3.28         2.95          80.0   \n",
              "4   Role-Playing     11.27      8.89     10.22         1.00           NaN   \n",
              "5         Puzzle     23.20      2.26      4.22         0.58           NaN   \n",
              "6       Platform     11.28      9.14      6.50         2.88          89.0   \n",
              "7           Misc     13.96      9.18      2.93         2.84          58.0   \n",
              "8       Platform     14.44      6.94      4.70         2.24          87.0   \n",
              "9        Shooter     26.93      0.63      0.28         0.47           NaN   \n",
              "10    Simulation      9.05     10.95      1.93         2.74           NaN   \n",
              "11        Racing      9.71      7.47      4.13         1.90          91.0   \n",
              "12  Role-Playing      9.00      6.18      7.20         0.71           NaN   \n",
              "13        Sports      8.92      8.03      3.60         2.15          80.0   \n",
              "14          Misc     15.00      4.89      0.24         1.69          61.0   \n",
              "15        Sports      9.01      8.49      2.53         1.77          80.0   \n",
              "16        Action      7.02      9.09      0.98         3.96          97.0   \n",
              "17        Action      9.43      0.40      0.41        10.57          95.0   \n",
              "18      Platform     12.78      3.75      3.54         0.55           NaN   \n",
              "19          Misc      4.74      9.20      4.16         2.04          77.0   \n",
              "20  Role-Playing      6.38      4.46      6.04         1.36           NaN   \n",
              "21      Platform     10.83      2.71      4.18         0.42           NaN   \n",
              "22      Platform      9.54      3.44      3.84         0.46           NaN   \n",
              "23        Action      9.66      5.14      0.06         1.41          97.0   \n",
              "24        Action      8.41      5.49      0.47         1.78          95.0   \n",
              "25  Role-Playing      6.06      3.90      5.38         0.50           NaN   \n",
              "26        Puzzle      3.43      5.35      5.32         1.18          77.0   \n",
              "27  Role-Playing      5.51      3.17      5.65         0.80           NaN   \n",
              "28        Racing      6.85      5.09      1.87         1.16          95.0   \n",
              "29       Shooter      9.04      4.24      0.13         1.32          88.0   \n",
              "\n",
              "   User_Score Rating  \n",
              "0           8      E  \n",
              "1         NaN    NaN  \n",
              "2         8.3      E  \n",
              "3           8      E  \n",
              "4         NaN    NaN  \n",
              "5         NaN    NaN  \n",
              "6         8.5      E  \n",
              "7         6.6      E  \n",
              "8         8.4      E  \n",
              "9         NaN    NaN  \n",
              "10        NaN    NaN  \n",
              "11        8.6      E  \n",
              "12        NaN    NaN  \n",
              "13        7.7      E  \n",
              "14        6.3      E  \n",
              "15        7.4      E  \n",
              "16        8.2      M  \n",
              "17          9      M  \n",
              "18        NaN    NaN  \n",
              "19        7.9      E  \n",
              "20        NaN    NaN  \n",
              "21        NaN    NaN  \n",
              "22        NaN    NaN  \n",
              "23        8.1      M  \n",
              "24        8.7      M  \n",
              "25        NaN    NaN  \n",
              "26        7.1      E  \n",
              "27        NaN    NaN  \n",
              "28        8.4      E  \n",
              "29        3.4      M  "
            ]
          },
          "execution_count": 4,
          "metadata": {},
          "output_type": "execute_result"
        }
      ],
      "source": [
        "data.head(30)"
      ]
    },
    {
      "cell_type": "code",
      "execution_count": null,
      "metadata": {
        "scrolled": true,
        "id": "TBOOrKiIUhxT",
        "outputId": "a121b87f-72a3-43ad-8b42-a67e129f1169"
      },
      "outputs": [
        {
          "data": {
            "text/html": [
              "<div>\n",
              "<style scoped>\n",
              "    .dataframe tbody tr th:only-of-type {\n",
              "        vertical-align: middle;\n",
              "    }\n",
              "\n",
              "    .dataframe tbody tr th {\n",
              "        vertical-align: top;\n",
              "    }\n",
              "\n",
              "    .dataframe thead th {\n",
              "        text-align: right;\n",
              "    }\n",
              "</style>\n",
              "<table border=\"1\" class=\"dataframe\">\n",
              "  <thead>\n",
              "    <tr style=\"text-align: right;\">\n",
              "      <th></th>\n",
              "      <th>Year_of_Release</th>\n",
              "      <th>NA_sales</th>\n",
              "      <th>EU_sales</th>\n",
              "      <th>JP_sales</th>\n",
              "      <th>Other_sales</th>\n",
              "      <th>Critic_Score</th>\n",
              "    </tr>\n",
              "  </thead>\n",
              "  <tbody>\n",
              "    <tr>\n",
              "      <th>count</th>\n",
              "      <td>16446.000000</td>\n",
              "      <td>16715.000000</td>\n",
              "      <td>16715.000000</td>\n",
              "      <td>16715.000000</td>\n",
              "      <td>16715.000000</td>\n",
              "      <td>8137.000000</td>\n",
              "    </tr>\n",
              "    <tr>\n",
              "      <th>mean</th>\n",
              "      <td>2006.484616</td>\n",
              "      <td>0.263377</td>\n",
              "      <td>0.145060</td>\n",
              "      <td>0.077617</td>\n",
              "      <td>0.047342</td>\n",
              "      <td>68.967679</td>\n",
              "    </tr>\n",
              "    <tr>\n",
              "      <th>std</th>\n",
              "      <td>5.877050</td>\n",
              "      <td>0.813604</td>\n",
              "      <td>0.503339</td>\n",
              "      <td>0.308853</td>\n",
              "      <td>0.186731</td>\n",
              "      <td>13.938165</td>\n",
              "    </tr>\n",
              "    <tr>\n",
              "      <th>min</th>\n",
              "      <td>1980.000000</td>\n",
              "      <td>0.000000</td>\n",
              "      <td>0.000000</td>\n",
              "      <td>0.000000</td>\n",
              "      <td>0.000000</td>\n",
              "      <td>13.000000</td>\n",
              "    </tr>\n",
              "    <tr>\n",
              "      <th>25%</th>\n",
              "      <td>2003.000000</td>\n",
              "      <td>0.000000</td>\n",
              "      <td>0.000000</td>\n",
              "      <td>0.000000</td>\n",
              "      <td>0.000000</td>\n",
              "      <td>60.000000</td>\n",
              "    </tr>\n",
              "    <tr>\n",
              "      <th>50%</th>\n",
              "      <td>2007.000000</td>\n",
              "      <td>0.080000</td>\n",
              "      <td>0.020000</td>\n",
              "      <td>0.000000</td>\n",
              "      <td>0.010000</td>\n",
              "      <td>71.000000</td>\n",
              "    </tr>\n",
              "    <tr>\n",
              "      <th>75%</th>\n",
              "      <td>2010.000000</td>\n",
              "      <td>0.240000</td>\n",
              "      <td>0.110000</td>\n",
              "      <td>0.040000</td>\n",
              "      <td>0.030000</td>\n",
              "      <td>79.000000</td>\n",
              "    </tr>\n",
              "    <tr>\n",
              "      <th>max</th>\n",
              "      <td>2016.000000</td>\n",
              "      <td>41.360000</td>\n",
              "      <td>28.960000</td>\n",
              "      <td>10.220000</td>\n",
              "      <td>10.570000</td>\n",
              "      <td>98.000000</td>\n",
              "    </tr>\n",
              "  </tbody>\n",
              "</table>\n",
              "</div>"
            ],
            "text/plain": [
              "       Year_of_Release      NA_sales      EU_sales      JP_sales  \\\n",
              "count     16446.000000  16715.000000  16715.000000  16715.000000   \n",
              "mean       2006.484616      0.263377      0.145060      0.077617   \n",
              "std           5.877050      0.813604      0.503339      0.308853   \n",
              "min        1980.000000      0.000000      0.000000      0.000000   \n",
              "25%        2003.000000      0.000000      0.000000      0.000000   \n",
              "50%        2007.000000      0.080000      0.020000      0.000000   \n",
              "75%        2010.000000      0.240000      0.110000      0.040000   \n",
              "max        2016.000000     41.360000     28.960000     10.220000   \n",
              "\n",
              "        Other_sales  Critic_Score  \n",
              "count  16715.000000   8137.000000  \n",
              "mean       0.047342     68.967679  \n",
              "std        0.186731     13.938165  \n",
              "min        0.000000     13.000000  \n",
              "25%        0.000000     60.000000  \n",
              "50%        0.010000     71.000000  \n",
              "75%        0.030000     79.000000  \n",
              "max       10.570000     98.000000  "
            ]
          },
          "execution_count": 5,
          "metadata": {},
          "output_type": "execute_result"
        }
      ],
      "source": [
        "data.describe()"
      ]
    },
    {
      "cell_type": "code",
      "execution_count": null,
      "metadata": {
        "id": "UHSnS6mWUhxT",
        "outputId": "7bef57bd-dc68-4729-c5a7-d6e9714e5e10"
      },
      "outputs": [
        {
          "data": {
            "text/plain": [
              "Name                  2\n",
              "Platform              0\n",
              "Year_of_Release     269\n",
              "Genre                 2\n",
              "NA_sales              0\n",
              "EU_sales              0\n",
              "JP_sales              0\n",
              "Other_sales           0\n",
              "Critic_Score       8578\n",
              "User_Score         6701\n",
              "Rating             6766\n",
              "dtype: int64"
            ]
          },
          "execution_count": 6,
          "metadata": {},
          "output_type": "execute_result"
        }
      ],
      "source": [
        "data.isna().sum()"
      ]
    },
    {
      "cell_type": "code",
      "execution_count": null,
      "metadata": {
        "id": "rQuavScBUhxT",
        "outputId": "fe3d6435-e94f-4503-dd7a-c5f4a69558e6"
      },
      "outputs": [
        {
          "data": {
            "text/plain": [
              "0"
            ]
          },
          "execution_count": 7,
          "metadata": {},
          "output_type": "execute_result"
        }
      ],
      "source": [
        "data.duplicated().sum()"
      ]
    },
    {
      "cell_type": "markdown",
      "metadata": {
        "id": "Ln45V11VUhxU"
      },
      "source": [
        "**Вывод**"
      ]
    },
    {
      "cell_type": "markdown",
      "metadata": {
        "id": "dvNN5oq7UhxU"
      },
      "source": [
        "Всего строк в датасете - 1675, таким образом, можно увидеть что в следующих столбцах есть пропущенные значения:\n",
        "Year_of_Release, Critic_Score, User_Score, Rating\n",
        "Также Year_of_Release нужно превести к формату int, а User_Score - float.\n",
        "Более того, явные дубликаты не обнаружены"
      ]
    },
    {
      "cell_type": "markdown",
      "metadata": {
        "id": "AKZztmubUhxU"
      },
      "source": [
        "**Шаг 2. Подготовьте данные**"
      ]
    },
    {
      "cell_type": "markdown",
      "metadata": {
        "id": "qYFCH9jgUhxU"
      },
      "source": [
        "Приведем названия столбцов к нижнему регистру"
      ]
    },
    {
      "cell_type": "code",
      "execution_count": null,
      "metadata": {
        "id": "SDVo1XqmUhxU"
      },
      "outputs": [],
      "source": [
        "data.columns = data.columns.str.lower()"
      ]
    },
    {
      "cell_type": "code",
      "execution_count": null,
      "metadata": {
        "id": "DCFaiYx6UhxU",
        "outputId": "1a22dc87-e980-4b01-d2ac-8028e54ede60"
      },
      "outputs": [
        {
          "name": "stdout",
          "output_type": "stream",
          "text": [
            "<class 'pandas.core.frame.DataFrame'>\n",
            "RangeIndex: 16715 entries, 0 to 16714\n",
            "Data columns (total 11 columns):\n",
            " #   Column           Non-Null Count  Dtype  \n",
            "---  ------           --------------  -----  \n",
            " 0   name             16713 non-null  object \n",
            " 1   platform         16715 non-null  object \n",
            " 2   year_of_release  16446 non-null  float64\n",
            " 3   genre            16713 non-null  object \n",
            " 4   na_sales         16715 non-null  float64\n",
            " 5   eu_sales         16715 non-null  float64\n",
            " 6   jp_sales         16715 non-null  float64\n",
            " 7   other_sales      16715 non-null  float64\n",
            " 8   critic_score     8137 non-null   float64\n",
            " 9   user_score       10014 non-null  object \n",
            " 10  rating           9949 non-null   object \n",
            "dtypes: float64(6), object(5)\n",
            "memory usage: 1.4+ MB\n"
          ]
        }
      ],
      "source": [
        "data.info()"
      ]
    },
    {
      "cell_type": "markdown",
      "metadata": {
        "id": "fRKZ_VTYUhxV"
      },
      "source": [
        "Преобразуем данные в нужные типы"
      ]
    },
    {
      "cell_type": "code",
      "execution_count": null,
      "metadata": {
        "id": "FyQjK6ZkUhxV",
        "outputId": "422fe36f-3faf-4c8f-838f-8d28b681f26b"
      },
      "outputs": [
        {
          "data": {
            "text/plain": [
              "array(['E', nan, 'M', 'T', 'E10+', 'K-A', 'AO', 'EC', 'RP'], dtype=object)"
            ]
          },
          "execution_count": 10,
          "metadata": {},
          "output_type": "execute_result"
        }
      ],
      "source": [
        "data['rating'].unique()"
      ]
    },
    {
      "cell_type": "code",
      "execution_count": null,
      "metadata": {
        "id": "EOOvurK0UhxV"
      },
      "outputs": [],
      "source": [
        "#заменяем значение nan на without - т.е нет рейтинга\n",
        "data['rating'] = data['rating'].fillna('without')"
      ]
    },
    {
      "cell_type": "code",
      "execution_count": null,
      "metadata": {
        "id": "DvYgPpDwUhxV",
        "outputId": "690382ee-3cf4-4d24-a322-6e628d8c2cbf"
      },
      "outputs": [
        {
          "data": {
            "text/plain": [
              "array(['8', nan, '8.3', '8.5', '6.6', '8.4', '8.6', '7.7', '6.3', '7.4',\n",
              "       '8.2', '9', '7.9', '8.1', '8.7', '7.1', '3.4', '5.3', '4.8', '3.2',\n",
              "       '8.9', '6.4', '7.8', '7.5', '2.6', '7.2', '9.2', '7', '7.3', '4.3',\n",
              "       '7.6', '5.7', '5', '9.1', '6.5', 'tbd', '8.8', '6.9', '9.4', '6.8',\n",
              "       '6.1', '6.7', '5.4', '4', '4.9', '4.5', '9.3', '6.2', '4.2', '6',\n",
              "       '3.7', '4.1', '5.8', '5.6', '5.5', '4.4', '4.6', '5.9', '3.9',\n",
              "       '3.1', '2.9', '5.2', '3.3', '4.7', '5.1', '3.5', '2.5', '1.9', '3',\n",
              "       '2.7', '2.2', '2', '9.5', '2.1', '3.6', '2.8', '1.8', '3.8', '0',\n",
              "       '1.6', '9.6', '2.4', '1.7', '1.1', '0.3', '1.5', '0.7', '1.2',\n",
              "       '2.3', '0.5', '1.3', '0.2', '0.6', '1.4', '0.9', '1', '9.7'],\n",
              "      dtype=object)"
            ]
          },
          "execution_count": 12,
          "metadata": {},
          "output_type": "execute_result"
        }
      ],
      "source": [
        "#смотрим, почему тип object\n",
        "data['user_score'].unique()"
      ]
    },
    {
      "cell_type": "markdown",
      "metadata": {
        "id": "4qEqfTf-UhxV"
      },
      "source": [
        "'tbd' - это To Be Decided или To Be Determined(будет определено). То есть это тоже самое что NAN, поэтому можно заменить tbd на nan"
      ]
    },
    {
      "cell_type": "code",
      "execution_count": null,
      "metadata": {
        "id": "Ao_aGYHSUhxW"
      },
      "outputs": [],
      "source": [
        "data['user_score'] = data['user_score'].replace('tbd', np.nan)\n",
        "data['user_score'] = data['user_score'].astype('float')"
      ]
    },
    {
      "cell_type": "code",
      "execution_count": null,
      "metadata": {
        "id": "uN9EkKgHUhxW"
      },
      "outputs": [],
      "source": [
        "data['year_of_release'] = data['year_of_release'].astype('Int64')"
      ]
    },
    {
      "cell_type": "markdown",
      "metadata": {
        "id": "o2ubbmjbUhxW"
      },
      "source": [
        "Пропуски в данных не повлияют на результаты исследования, поээтому оставим так"
      ]
    },
    {
      "cell_type": "markdown",
      "metadata": {
        "id": "0Sy7IJkGUhxW"
      },
      "source": [
        "Проверям изменения"
      ]
    },
    {
      "cell_type": "code",
      "execution_count": null,
      "metadata": {
        "id": "LyvlGrJ7UhxW",
        "outputId": "27b9de15-2586-4dd4-d3d5-87a75be16349"
      },
      "outputs": [
        {
          "name": "stdout",
          "output_type": "stream",
          "text": [
            "<class 'pandas.core.frame.DataFrame'>\n",
            "RangeIndex: 16715 entries, 0 to 16714\n",
            "Data columns (total 11 columns):\n",
            " #   Column           Non-Null Count  Dtype  \n",
            "---  ------           --------------  -----  \n",
            " 0   name             16713 non-null  object \n",
            " 1   platform         16715 non-null  object \n",
            " 2   year_of_release  16446 non-null  Int64  \n",
            " 3   genre            16713 non-null  object \n",
            " 4   na_sales         16715 non-null  float64\n",
            " 5   eu_sales         16715 non-null  float64\n",
            " 6   jp_sales         16715 non-null  float64\n",
            " 7   other_sales      16715 non-null  float64\n",
            " 8   critic_score     8137 non-null   float64\n",
            " 9   user_score       7590 non-null   float64\n",
            " 10  rating           16715 non-null  object \n",
            "dtypes: Int64(1), float64(6), object(4)\n",
            "memory usage: 1.4+ MB\n"
          ]
        }
      ],
      "source": [
        "data.info()"
      ]
    },
    {
      "cell_type": "markdown",
      "metadata": {
        "id": "zonOBBcjUhxX"
      },
      "source": [
        "Суммарные продажи во всех регионах\n"
      ]
    },
    {
      "cell_type": "code",
      "execution_count": null,
      "metadata": {
        "id": "zDJfELSgUhxX"
      },
      "outputs": [],
      "source": [
        "#data['total_sales'] = data['na_sales'] + data['eu_sales'] + data['jp_sales'] + data['other_sales']"
      ]
    },
    {
      "cell_type": "code",
      "execution_count": null,
      "metadata": {
        "id": "9f9rbPS0UhxX"
      },
      "outputs": [],
      "source": [
        "data['total_sales'] = data[['na_sales','eu_sales','jp_sales', 'other_sales']].sum(axis = 1)"
      ]
    },
    {
      "cell_type": "code",
      "execution_count": null,
      "metadata": {
        "scrolled": false,
        "id": "5hdR99aWUhxX",
        "outputId": "fc91ac96-624c-444b-b15b-c7b5d2b387f9"
      },
      "outputs": [
        {
          "data": {
            "text/html": [
              "<div>\n",
              "<style scoped>\n",
              "    .dataframe tbody tr th:only-of-type {\n",
              "        vertical-align: middle;\n",
              "    }\n",
              "\n",
              "    .dataframe tbody tr th {\n",
              "        vertical-align: top;\n",
              "    }\n",
              "\n",
              "    .dataframe thead th {\n",
              "        text-align: right;\n",
              "    }\n",
              "</style>\n",
              "<table border=\"1\" class=\"dataframe\">\n",
              "  <thead>\n",
              "    <tr style=\"text-align: right;\">\n",
              "      <th></th>\n",
              "      <th>name</th>\n",
              "      <th>platform</th>\n",
              "      <th>year_of_release</th>\n",
              "      <th>genre</th>\n",
              "      <th>na_sales</th>\n",
              "      <th>eu_sales</th>\n",
              "      <th>jp_sales</th>\n",
              "      <th>other_sales</th>\n",
              "      <th>critic_score</th>\n",
              "      <th>user_score</th>\n",
              "      <th>rating</th>\n",
              "      <th>total_sales</th>\n",
              "    </tr>\n",
              "  </thead>\n",
              "  <tbody>\n",
              "    <tr>\n",
              "      <th>0</th>\n",
              "      <td>Wii Sports</td>\n",
              "      <td>Wii</td>\n",
              "      <td>2006</td>\n",
              "      <td>Sports</td>\n",
              "      <td>41.36</td>\n",
              "      <td>28.96</td>\n",
              "      <td>3.77</td>\n",
              "      <td>8.45</td>\n",
              "      <td>76.0</td>\n",
              "      <td>8.0</td>\n",
              "      <td>E</td>\n",
              "      <td>82.54</td>\n",
              "    </tr>\n",
              "    <tr>\n",
              "      <th>1</th>\n",
              "      <td>Super Mario Bros.</td>\n",
              "      <td>NES</td>\n",
              "      <td>1985</td>\n",
              "      <td>Platform</td>\n",
              "      <td>29.08</td>\n",
              "      <td>3.58</td>\n",
              "      <td>6.81</td>\n",
              "      <td>0.77</td>\n",
              "      <td>NaN</td>\n",
              "      <td>NaN</td>\n",
              "      <td>without</td>\n",
              "      <td>40.24</td>\n",
              "    </tr>\n",
              "    <tr>\n",
              "      <th>2</th>\n",
              "      <td>Mario Kart Wii</td>\n",
              "      <td>Wii</td>\n",
              "      <td>2008</td>\n",
              "      <td>Racing</td>\n",
              "      <td>15.68</td>\n",
              "      <td>12.76</td>\n",
              "      <td>3.79</td>\n",
              "      <td>3.29</td>\n",
              "      <td>82.0</td>\n",
              "      <td>8.3</td>\n",
              "      <td>E</td>\n",
              "      <td>35.52</td>\n",
              "    </tr>\n",
              "    <tr>\n",
              "      <th>3</th>\n",
              "      <td>Wii Sports Resort</td>\n",
              "      <td>Wii</td>\n",
              "      <td>2009</td>\n",
              "      <td>Sports</td>\n",
              "      <td>15.61</td>\n",
              "      <td>10.93</td>\n",
              "      <td>3.28</td>\n",
              "      <td>2.95</td>\n",
              "      <td>80.0</td>\n",
              "      <td>8.0</td>\n",
              "      <td>E</td>\n",
              "      <td>32.77</td>\n",
              "    </tr>\n",
              "    <tr>\n",
              "      <th>4</th>\n",
              "      <td>Pokemon Red/Pokemon Blue</td>\n",
              "      <td>GB</td>\n",
              "      <td>1996</td>\n",
              "      <td>Role-Playing</td>\n",
              "      <td>11.27</td>\n",
              "      <td>8.89</td>\n",
              "      <td>10.22</td>\n",
              "      <td>1.00</td>\n",
              "      <td>NaN</td>\n",
              "      <td>NaN</td>\n",
              "      <td>without</td>\n",
              "      <td>31.38</td>\n",
              "    </tr>\n",
              "    <tr>\n",
              "      <th>...</th>\n",
              "      <td>...</td>\n",
              "      <td>...</td>\n",
              "      <td>...</td>\n",
              "      <td>...</td>\n",
              "      <td>...</td>\n",
              "      <td>...</td>\n",
              "      <td>...</td>\n",
              "      <td>...</td>\n",
              "      <td>...</td>\n",
              "      <td>...</td>\n",
              "      <td>...</td>\n",
              "      <td>...</td>\n",
              "    </tr>\n",
              "    <tr>\n",
              "      <th>16710</th>\n",
              "      <td>Samurai Warriors: Sanada Maru</td>\n",
              "      <td>PS3</td>\n",
              "      <td>2016</td>\n",
              "      <td>Action</td>\n",
              "      <td>0.00</td>\n",
              "      <td>0.00</td>\n",
              "      <td>0.01</td>\n",
              "      <td>0.00</td>\n",
              "      <td>NaN</td>\n",
              "      <td>NaN</td>\n",
              "      <td>without</td>\n",
              "      <td>0.01</td>\n",
              "    </tr>\n",
              "    <tr>\n",
              "      <th>16711</th>\n",
              "      <td>LMA Manager 2007</td>\n",
              "      <td>X360</td>\n",
              "      <td>2006</td>\n",
              "      <td>Sports</td>\n",
              "      <td>0.00</td>\n",
              "      <td>0.01</td>\n",
              "      <td>0.00</td>\n",
              "      <td>0.00</td>\n",
              "      <td>NaN</td>\n",
              "      <td>NaN</td>\n",
              "      <td>without</td>\n",
              "      <td>0.01</td>\n",
              "    </tr>\n",
              "    <tr>\n",
              "      <th>16712</th>\n",
              "      <td>Haitaka no Psychedelica</td>\n",
              "      <td>PSV</td>\n",
              "      <td>2016</td>\n",
              "      <td>Adventure</td>\n",
              "      <td>0.00</td>\n",
              "      <td>0.00</td>\n",
              "      <td>0.01</td>\n",
              "      <td>0.00</td>\n",
              "      <td>NaN</td>\n",
              "      <td>NaN</td>\n",
              "      <td>without</td>\n",
              "      <td>0.01</td>\n",
              "    </tr>\n",
              "    <tr>\n",
              "      <th>16713</th>\n",
              "      <td>Spirits &amp; Spells</td>\n",
              "      <td>GBA</td>\n",
              "      <td>2003</td>\n",
              "      <td>Platform</td>\n",
              "      <td>0.01</td>\n",
              "      <td>0.00</td>\n",
              "      <td>0.00</td>\n",
              "      <td>0.00</td>\n",
              "      <td>NaN</td>\n",
              "      <td>NaN</td>\n",
              "      <td>without</td>\n",
              "      <td>0.01</td>\n",
              "    </tr>\n",
              "    <tr>\n",
              "      <th>16714</th>\n",
              "      <td>Winning Post 8 2016</td>\n",
              "      <td>PSV</td>\n",
              "      <td>2016</td>\n",
              "      <td>Simulation</td>\n",
              "      <td>0.00</td>\n",
              "      <td>0.00</td>\n",
              "      <td>0.01</td>\n",
              "      <td>0.00</td>\n",
              "      <td>NaN</td>\n",
              "      <td>NaN</td>\n",
              "      <td>without</td>\n",
              "      <td>0.01</td>\n",
              "    </tr>\n",
              "  </tbody>\n",
              "</table>\n",
              "<p>16715 rows × 12 columns</p>\n",
              "</div>"
            ],
            "text/plain": [
              "                                name platform  year_of_release         genre  \\\n",
              "0                         Wii Sports      Wii             2006        Sports   \n",
              "1                  Super Mario Bros.      NES             1985      Platform   \n",
              "2                     Mario Kart Wii      Wii             2008        Racing   \n",
              "3                  Wii Sports Resort      Wii             2009        Sports   \n",
              "4           Pokemon Red/Pokemon Blue       GB             1996  Role-Playing   \n",
              "...                              ...      ...              ...           ...   \n",
              "16710  Samurai Warriors: Sanada Maru      PS3             2016        Action   \n",
              "16711               LMA Manager 2007     X360             2006        Sports   \n",
              "16712        Haitaka no Psychedelica      PSV             2016     Adventure   \n",
              "16713               Spirits & Spells      GBA             2003      Platform   \n",
              "16714            Winning Post 8 2016      PSV             2016    Simulation   \n",
              "\n",
              "       na_sales  eu_sales  jp_sales  other_sales  critic_score  user_score  \\\n",
              "0         41.36     28.96      3.77         8.45          76.0         8.0   \n",
              "1         29.08      3.58      6.81         0.77           NaN         NaN   \n",
              "2         15.68     12.76      3.79         3.29          82.0         8.3   \n",
              "3         15.61     10.93      3.28         2.95          80.0         8.0   \n",
              "4         11.27      8.89     10.22         1.00           NaN         NaN   \n",
              "...         ...       ...       ...          ...           ...         ...   \n",
              "16710      0.00      0.00      0.01         0.00           NaN         NaN   \n",
              "16711      0.00      0.01      0.00         0.00           NaN         NaN   \n",
              "16712      0.00      0.00      0.01         0.00           NaN         NaN   \n",
              "16713      0.01      0.00      0.00         0.00           NaN         NaN   \n",
              "16714      0.00      0.00      0.01         0.00           NaN         NaN   \n",
              "\n",
              "        rating  total_sales  \n",
              "0            E        82.54  \n",
              "1      without        40.24  \n",
              "2            E        35.52  \n",
              "3            E        32.77  \n",
              "4      without        31.38  \n",
              "...        ...          ...  \n",
              "16710  without         0.01  \n",
              "16711  without         0.01  \n",
              "16712  without         0.01  \n",
              "16713  without         0.01  \n",
              "16714  without         0.01  \n",
              "\n",
              "[16715 rows x 12 columns]"
            ]
          },
          "execution_count": 18,
          "metadata": {},
          "output_type": "execute_result"
        }
      ],
      "source": [
        "data"
      ]
    },
    {
      "cell_type": "markdown",
      "metadata": {
        "id": "jpF3TL3IUhxY"
      },
      "source": [
        "Вывод: Были разобраны пропуски в данных, было принято решение не удалять пропуски, поскольк это может повлиять на анализ данных. Также были приведены данные к нужному типу данных и создан новый столбец - общие продажи(total_sales)"
      ]
    },
    {
      "cell_type": "markdown",
      "metadata": {
        "id": "VlJDlkqiUhxY"
      },
      "source": [
        "**Шаг 3. Исследовательский анализ данных**"
      ]
    },
    {
      "cell_type": "markdown",
      "metadata": {
        "id": "yxPrK9T9UhxY"
      },
      "source": [
        "**Посмотрите, сколько игр выпускалось в разные годы. Важны ли данные за все периоды?**"
      ]
    },
    {
      "cell_type": "code",
      "execution_count": null,
      "metadata": {
        "scrolled": false,
        "id": "Gs935NyaUhxY",
        "outputId": "1af27e59-c8a0-4a12-c6c8-a220682cc693"
      },
      "outputs": [
        {
          "data": {
            "image/png": "[encoded data removed]",
            "text/plain": [
              "<Figure size 1080x576 with 1 Axes>"
            ]
          },
          "metadata": {
            "needs_background": "light"
          },
          "output_type": "display_data"
        }
      ],
      "source": [
        "data.groupby('year_of_release')['name'].count().plot(x = 'year_of_release', style = \"-og\",figsize=(15,8))\n",
        "plt.title(\"Количество игр по годам\")\n",
        "plt.xlabel(\"Год выпуска\")\n",
        "plt.ylabel(\"Количество выпущенных игр\")\n",
        "plt.show()"
      ]
    },
    {
      "cell_type": "code",
      "execution_count": null,
      "metadata": {
        "id": "hDpXa9vNUhxZ",
        "outputId": "88e0b603-cd20-4a97-826e-e1038f283036"
      },
      "outputs": [
        {
          "data": {
            "text/html": [
              "<div>\n",
              "<style scoped>\n",
              "    .dataframe tbody tr th:only-of-type {\n",
              "        vertical-align: middle;\n",
              "    }\n",
              "\n",
              "    .dataframe tbody tr th {\n",
              "        vertical-align: top;\n",
              "    }\n",
              "\n",
              "    .dataframe thead th {\n",
              "        text-align: right;\n",
              "    }\n",
              "</style>\n",
              "<table border=\"1\" class=\"dataframe\">\n",
              "  <thead>\n",
              "    <tr style=\"text-align: right;\">\n",
              "      <th></th>\n",
              "      <th>Количество выпущенных игр</th>\n",
              "    </tr>\n",
              "    <tr>\n",
              "      <th>year_of_release</th>\n",
              "      <th></th>\n",
              "    </tr>\n",
              "  </thead>\n",
              "  <tbody>\n",
              "    <tr>\n",
              "      <th>1980</th>\n",
              "      <td>9</td>\n",
              "    </tr>\n",
              "    <tr>\n",
              "      <th>1981</th>\n",
              "      <td>46</td>\n",
              "    </tr>\n",
              "    <tr>\n",
              "      <th>1982</th>\n",
              "      <td>36</td>\n",
              "    </tr>\n",
              "    <tr>\n",
              "      <th>1983</th>\n",
              "      <td>17</td>\n",
              "    </tr>\n",
              "    <tr>\n",
              "      <th>1984</th>\n",
              "      <td>14</td>\n",
              "    </tr>\n",
              "    <tr>\n",
              "      <th>1985</th>\n",
              "      <td>14</td>\n",
              "    </tr>\n",
              "    <tr>\n",
              "      <th>1986</th>\n",
              "      <td>21</td>\n",
              "    </tr>\n",
              "    <tr>\n",
              "      <th>1987</th>\n",
              "      <td>16</td>\n",
              "    </tr>\n",
              "    <tr>\n",
              "      <th>1988</th>\n",
              "      <td>15</td>\n",
              "    </tr>\n",
              "    <tr>\n",
              "      <th>1989</th>\n",
              "      <td>17</td>\n",
              "    </tr>\n",
              "    <tr>\n",
              "      <th>1990</th>\n",
              "      <td>16</td>\n",
              "    </tr>\n",
              "    <tr>\n",
              "      <th>1991</th>\n",
              "      <td>41</td>\n",
              "    </tr>\n",
              "    <tr>\n",
              "      <th>1992</th>\n",
              "      <td>43</td>\n",
              "    </tr>\n",
              "    <tr>\n",
              "      <th>1993</th>\n",
              "      <td>60</td>\n",
              "    </tr>\n",
              "    <tr>\n",
              "      <th>1994</th>\n",
              "      <td>121</td>\n",
              "    </tr>\n",
              "    <tr>\n",
              "      <th>1995</th>\n",
              "      <td>219</td>\n",
              "    </tr>\n",
              "    <tr>\n",
              "      <th>1996</th>\n",
              "      <td>263</td>\n",
              "    </tr>\n",
              "    <tr>\n",
              "      <th>1997</th>\n",
              "      <td>289</td>\n",
              "    </tr>\n",
              "    <tr>\n",
              "      <th>1998</th>\n",
              "      <td>379</td>\n",
              "    </tr>\n",
              "    <tr>\n",
              "      <th>1999</th>\n",
              "      <td>338</td>\n",
              "    </tr>\n",
              "    <tr>\n",
              "      <th>2000</th>\n",
              "      <td>350</td>\n",
              "    </tr>\n",
              "    <tr>\n",
              "      <th>2001</th>\n",
              "      <td>482</td>\n",
              "    </tr>\n",
              "    <tr>\n",
              "      <th>2002</th>\n",
              "      <td>829</td>\n",
              "    </tr>\n",
              "    <tr>\n",
              "      <th>2003</th>\n",
              "      <td>775</td>\n",
              "    </tr>\n",
              "    <tr>\n",
              "      <th>2004</th>\n",
              "      <td>762</td>\n",
              "    </tr>\n",
              "    <tr>\n",
              "      <th>2005</th>\n",
              "      <td>939</td>\n",
              "    </tr>\n",
              "    <tr>\n",
              "      <th>2006</th>\n",
              "      <td>1006</td>\n",
              "    </tr>\n",
              "    <tr>\n",
              "      <th>2007</th>\n",
              "      <td>1197</td>\n",
              "    </tr>\n",
              "    <tr>\n",
              "      <th>2008</th>\n",
              "      <td>1427</td>\n",
              "    </tr>\n",
              "    <tr>\n",
              "      <th>2009</th>\n",
              "      <td>1426</td>\n",
              "    </tr>\n",
              "    <tr>\n",
              "      <th>2010</th>\n",
              "      <td>1255</td>\n",
              "    </tr>\n",
              "    <tr>\n",
              "      <th>2011</th>\n",
              "      <td>1136</td>\n",
              "    </tr>\n",
              "    <tr>\n",
              "      <th>2012</th>\n",
              "      <td>653</td>\n",
              "    </tr>\n",
              "    <tr>\n",
              "      <th>2013</th>\n",
              "      <td>544</td>\n",
              "    </tr>\n",
              "    <tr>\n",
              "      <th>2014</th>\n",
              "      <td>581</td>\n",
              "    </tr>\n",
              "    <tr>\n",
              "      <th>2015</th>\n",
              "      <td>606</td>\n",
              "    </tr>\n",
              "    <tr>\n",
              "      <th>2016</th>\n",
              "      <td>502</td>\n",
              "    </tr>\n",
              "  </tbody>\n",
              "</table>\n",
              "</div>"
            ],
            "text/plain": [
              "                 Количество выпущенных игр\n",
              "year_of_release                           \n",
              "1980                                     9\n",
              "1981                                    46\n",
              "1982                                    36\n",
              "1983                                    17\n",
              "1984                                    14\n",
              "1985                                    14\n",
              "1986                                    21\n",
              "1987                                    16\n",
              "1988                                    15\n",
              "1989                                    17\n",
              "1990                                    16\n",
              "1991                                    41\n",
              "1992                                    43\n",
              "1993                                    60\n",
              "1994                                   121\n",
              "1995                                   219\n",
              "1996                                   263\n",
              "1997                                   289\n",
              "1998                                   379\n",
              "1999                                   338\n",
              "2000                                   350\n",
              "2001                                   482\n",
              "2002                                   829\n",
              "2003                                   775\n",
              "2004                                   762\n",
              "2005                                   939\n",
              "2006                                  1006\n",
              "2007                                  1197\n",
              "2008                                  1427\n",
              "2009                                  1426\n",
              "2010                                  1255\n",
              "2011                                  1136\n",
              "2012                                   653\n",
              "2013                                   544\n",
              "2014                                   581\n",
              "2015                                   606\n",
              "2016                                   502"
            ]
          },
          "execution_count": 20,
          "metadata": {},
          "output_type": "execute_result"
        }
      ],
      "source": [
        "grouped_by_years = data.pivot_table(index='year_of_release', values='name', aggfunc='count')\n",
        "grouped_by_years.columns = ['Количество выпущенных игр']\n",
        "grouped_by_years"
      ]
    },
    {
      "cell_type": "markdown",
      "metadata": {
        "id": "Cl4e7ijTUhxZ"
      },
      "source": [
        "**Вывод**"
      ]
    },
    {
      "cell_type": "markdown",
      "metadata": {
        "id": "GjdsDuuCUhxZ"
      },
      "source": [
        "Исходя из графика и сводной таблицы, можно сделать вывод о том, что с 1980 по 1994 игры выпускались в малом количестве- эти данные могут навредить анализу, затем наблюдается рост вплоть до 2008 - в этом году выпущено больше всего игр. После этого года выден спад по выпуску игр.\n"
      ]
    },
    {
      "cell_type": "markdown",
      "metadata": {
        "id": "PY_drVCYUhxZ"
      },
      "source": [
        "**Посмотрите, как менялись продажи по платформам**"
      ]
    },
    {
      "cell_type": "code",
      "execution_count": null,
      "metadata": {
        "id": "Hyaq0EE-UhxZ",
        "outputId": "ebc37d6a-cf48-4977-a94a-b038cad06388"
      },
      "outputs": [
        {
          "data": {
            "image/png": "[encoded data removed]",
            "text/plain": [
              "<Figure size 1080x576 with 1 Axes>"
            ]
          },
          "metadata": {
            "needs_background": "light"
          },
          "output_type": "display_data"
        }
      ],
      "source": [
        "#Посмотрим количесво продаж повсем платформам\n",
        "data.groupby('platform')['total_sales'].count().plot(kind='bar',figsize=(15,8))\n",
        "plt.title(\"Количество продаж по платформам\")\n",
        "plt.xlabel(\"Платформа\")\n",
        "plt.ylabel(\"Количество продаж\")\n",
        "plt.show()"
      ]
    },
    {
      "cell_type": "markdown",
      "metadata": {
        "id": "VucxECiUUhxa"
      },
      "source": [
        "Выбираем топ платформ по количеству продаж"
      ]
    },
    {
      "cell_type": "code",
      "execution_count": null,
      "metadata": {
        "id": "hMccU4jkUhxa",
        "outputId": "35e8c715-3fa3-4c90-f8c9-3c3f5cc45df7"
      },
      "outputs": [
        {
          "data": {
            "text/html": [
              "<div>\n",
              "<style scoped>\n",
              "    .dataframe tbody tr th:only-of-type {\n",
              "        vertical-align: middle;\n",
              "    }\n",
              "\n",
              "    .dataframe tbody tr th {\n",
              "        vertical-align: top;\n",
              "    }\n",
              "\n",
              "    .dataframe thead th {\n",
              "        text-align: right;\n",
              "    }\n",
              "</style>\n",
              "<table border=\"1\" class=\"dataframe\">\n",
              "  <thead>\n",
              "    <tr style=\"text-align: right;\">\n",
              "      <th></th>\n",
              "      <th>platform</th>\n",
              "      <th>total_sales</th>\n",
              "    </tr>\n",
              "  </thead>\n",
              "  <tbody>\n",
              "    <tr>\n",
              "      <th>0</th>\n",
              "      <td>PS2</td>\n",
              "      <td>1255.77</td>\n",
              "    </tr>\n",
              "    <tr>\n",
              "      <th>1</th>\n",
              "      <td>X360</td>\n",
              "      <td>971.42</td>\n",
              "    </tr>\n",
              "    <tr>\n",
              "      <th>2</th>\n",
              "      <td>PS3</td>\n",
              "      <td>939.65</td>\n",
              "    </tr>\n",
              "    <tr>\n",
              "      <th>3</th>\n",
              "      <td>Wii</td>\n",
              "      <td>907.51</td>\n",
              "    </tr>\n",
              "    <tr>\n",
              "      <th>4</th>\n",
              "      <td>DS</td>\n",
              "      <td>806.12</td>\n",
              "    </tr>\n",
              "    <tr>\n",
              "      <th>5</th>\n",
              "      <td>PS</td>\n",
              "      <td>730.86</td>\n",
              "    </tr>\n",
              "  </tbody>\n",
              "</table>\n",
              "</div>"
            ],
            "text/plain": [
              "  platform  total_sales\n",
              "0      PS2      1255.77\n",
              "1     X360       971.42\n",
              "2      PS3       939.65\n",
              "3      Wii       907.51\n",
              "4       DS       806.12\n",
              "5       PS       730.86"
            ]
          },
          "execution_count": 22,
          "metadata": {},
          "output_type": "execute_result"
        }
      ],
      "source": [
        "top_platforms = data.pivot_table(index='platform', values='total_sales', aggfunc='sum').sort_values(by='total_sales', ascending=False).head(6)\n",
        "top_platforms = top_platforms.head(6).reset_index()\n",
        "top_platforms"
      ]
    },
    {
      "cell_type": "markdown",
      "metadata": {
        "id": "GZHiMN5OUhxa"
      },
      "source": [
        "Мы видим по сводной таблице, что в наиболее продаваемыми платформами являются PS2, X360, PS3, Wii, DS, PS"
      ]
    },
    {
      "cell_type": "code",
      "execution_count": null,
      "metadata": {
        "id": "O_hBAYRbUhxa",
        "outputId": "ceca38e0-7759-4578-9003-0662c301da4f"
      },
      "outputs": [
        {
          "data": {
            "text/plain": [
              "array(['PS2', 'X360', 'PS3', 'Wii', 'DS', 'PS'], dtype=object)"
            ]
          },
          "execution_count": 23,
          "metadata": {},
          "output_type": "execute_result"
        }
      ],
      "source": [
        "#создаем список имен топовых платформ\n",
        "platforms_dict = top_platforms['platform'].unique()\n",
        "platforms_dict"
      ]
    },
    {
      "cell_type": "code",
      "execution_count": null,
      "metadata": {
        "id": "V7397bRSUhxa",
        "outputId": "c8929061-0f54-4967-a07c-e50d7e0d9e3c"
      },
      "outputs": [
        {
          "data": {
            "image/png": "[encoded data removed]",
            "text/plain": [
              "<Figure size 1080x360 with 1 Axes>"
            ]
          },
          "metadata": {
            "needs_background": "light"
          },
          "output_type": "display_data"
        },
        {
          "data": {
            "image/png": "[encoded data removed]",
            "text/plain": [
              "<Figure size 1080x360 with 1 Axes>"
            ]
          },
          "metadata": {
            "needs_background": "light"
          },
          "output_type": "display_data"
        },
        {
          "data": {
            "image/png": "[encoded data removed]",
            "text/plain": [
              "<Figure size 1080x360 with 1 Axes>"
            ]
          },
          "metadata": {
            "needs_background": "light"
          },
          "output_type": "display_data"
        },
        {
          "data": {
            "image/png": "[encoded data removed]",
            "text/plain": [
              "<Figure size 1080x360 with 1 Axes>"
            ]
          },
          "metadata": {
            "needs_background": "light"
          },
          "output_type": "display_data"
        },
        {
          "data": {
            "image/png": "[encoded data removed]",
            "text/plain": [
              "<Figure size 1080x360 with 1 Axes>"
            ]
          },
          "metadata": {
            "needs_background": "light"
          },
          "output_type": "display_data"
        },
        {
          "data": {
            "image/png": "[encoded data removed]",
            "text/plain": [
              "<Figure size 1080x360 with 1 Axes>"
            ]
          },
          "metadata": {
            "needs_background": "light"
          },
          "output_type": "display_data"
        }
      ],
      "source": [
        "#создаем графики распределения продаж платформ по годам\n",
        "for i in platforms_dict:\n",
        "    data[data['platform'] == i].pivot_table(index='year_of_release', values='total_sales', aggfunc='sum').plot(kind='bar', figsize=(15,5))\n",
        "    plt.title(i)"
      ]
    },
    {
      "cell_type": "markdown",
      "metadata": {
        "id": "xMeJRhuBUhxa"
      },
      "source": [
        "За какой характерный срок появляются новые и исчезают старые платформы?"
      ]
    },
    {
      "cell_type": "markdown",
      "metadata": {
        "id": "enCfIsGAUhxb"
      },
      "source": [
        "Платформы живут примерно 10-12 лет, а пик их продаж приходится на 4-6 года, после чего продажи начинают падать"
      ]
    },
    {
      "cell_type": "markdown",
      "metadata": {
        "id": "IsP7sF3yUhxb"
      },
      "source": [
        "**Актуальные данные**"
      ]
    },
    {
      "cell_type": "markdown",
      "metadata": {
        "id": "0El4Yz5mUhxb"
      },
      "source": [
        "Чтобы спрогнозировать на 2017 год, необходимо понимать, что пик приходился на 2008-2009 год, однако после этого продажи упали и в последние 5 лет не превышают 700, поэтому корректно будет взять данные с 2012 года"
      ]
    },
    {
      "cell_type": "code",
      "execution_count": null,
      "metadata": {
        "id": "3cbin7FfUhxb",
        "outputId": "ec644f77-fb7f-40d1-b1b2-f634cb9615b3"
      },
      "outputs": [
        {
          "data": {
            "text/html": [
              "<div>\n",
              "<style scoped>\n",
              "    .dataframe tbody tr th:only-of-type {\n",
              "        vertical-align: middle;\n",
              "    }\n",
              "\n",
              "    .dataframe tbody tr th {\n",
              "        vertical-align: top;\n",
              "    }\n",
              "\n",
              "    .dataframe thead th {\n",
              "        text-align: right;\n",
              "    }\n",
              "</style>\n",
              "<table border=\"1\" class=\"dataframe\">\n",
              "  <thead>\n",
              "    <tr style=\"text-align: right;\">\n",
              "      <th></th>\n",
              "      <th>name</th>\n",
              "      <th>platform</th>\n",
              "      <th>year_of_release</th>\n",
              "      <th>genre</th>\n",
              "      <th>na_sales</th>\n",
              "      <th>eu_sales</th>\n",
              "      <th>jp_sales</th>\n",
              "      <th>other_sales</th>\n",
              "      <th>critic_score</th>\n",
              "      <th>user_score</th>\n",
              "      <th>rating</th>\n",
              "      <th>total_sales</th>\n",
              "    </tr>\n",
              "  </thead>\n",
              "  <tbody>\n",
              "    <tr>\n",
              "      <th>16</th>\n",
              "      <td>Grand Theft Auto V</td>\n",
              "      <td>PS3</td>\n",
              "      <td>2013</td>\n",
              "      <td>Action</td>\n",
              "      <td>7.02</td>\n",
              "      <td>9.09</td>\n",
              "      <td>0.98</td>\n",
              "      <td>3.96</td>\n",
              "      <td>97.0</td>\n",
              "      <td>8.2</td>\n",
              "      <td>M</td>\n",
              "      <td>21.05</td>\n",
              "    </tr>\n",
              "    <tr>\n",
              "      <th>23</th>\n",
              "      <td>Grand Theft Auto V</td>\n",
              "      <td>X360</td>\n",
              "      <td>2013</td>\n",
              "      <td>Action</td>\n",
              "      <td>9.66</td>\n",
              "      <td>5.14</td>\n",
              "      <td>0.06</td>\n",
              "      <td>1.41</td>\n",
              "      <td>97.0</td>\n",
              "      <td>8.1</td>\n",
              "      <td>M</td>\n",
              "      <td>16.27</td>\n",
              "    </tr>\n",
              "    <tr>\n",
              "      <th>31</th>\n",
              "      <td>Call of Duty: Black Ops 3</td>\n",
              "      <td>PS4</td>\n",
              "      <td>2015</td>\n",
              "      <td>Shooter</td>\n",
              "      <td>6.03</td>\n",
              "      <td>5.86</td>\n",
              "      <td>0.36</td>\n",
              "      <td>2.38</td>\n",
              "      <td>NaN</td>\n",
              "      <td>NaN</td>\n",
              "      <td>without</td>\n",
              "      <td>14.63</td>\n",
              "    </tr>\n",
              "    <tr>\n",
              "      <th>33</th>\n",
              "      <td>Pokemon X/Pokemon Y</td>\n",
              "      <td>3DS</td>\n",
              "      <td>2013</td>\n",
              "      <td>Role-Playing</td>\n",
              "      <td>5.28</td>\n",
              "      <td>4.19</td>\n",
              "      <td>4.35</td>\n",
              "      <td>0.78</td>\n",
              "      <td>NaN</td>\n",
              "      <td>NaN</td>\n",
              "      <td>without</td>\n",
              "      <td>14.60</td>\n",
              "    </tr>\n",
              "    <tr>\n",
              "      <th>42</th>\n",
              "      <td>Grand Theft Auto V</td>\n",
              "      <td>PS4</td>\n",
              "      <td>2014</td>\n",
              "      <td>Action</td>\n",
              "      <td>3.96</td>\n",
              "      <td>6.31</td>\n",
              "      <td>0.38</td>\n",
              "      <td>1.97</td>\n",
              "      <td>97.0</td>\n",
              "      <td>8.3</td>\n",
              "      <td>M</td>\n",
              "      <td>12.62</td>\n",
              "    </tr>\n",
              "    <tr>\n",
              "      <th>...</th>\n",
              "      <td>...</td>\n",
              "      <td>...</td>\n",
              "      <td>...</td>\n",
              "      <td>...</td>\n",
              "      <td>...</td>\n",
              "      <td>...</td>\n",
              "      <td>...</td>\n",
              "      <td>...</td>\n",
              "      <td>...</td>\n",
              "      <td>...</td>\n",
              "      <td>...</td>\n",
              "      <td>...</td>\n",
              "    </tr>\n",
              "    <tr>\n",
              "      <th>16703</th>\n",
              "      <td>Strawberry Nauts</td>\n",
              "      <td>PSV</td>\n",
              "      <td>2016</td>\n",
              "      <td>Adventure</td>\n",
              "      <td>0.00</td>\n",
              "      <td>0.00</td>\n",
              "      <td>0.01</td>\n",
              "      <td>0.00</td>\n",
              "      <td>NaN</td>\n",
              "      <td>NaN</td>\n",
              "      <td>without</td>\n",
              "      <td>0.01</td>\n",
              "    </tr>\n",
              "    <tr>\n",
              "      <th>16707</th>\n",
              "      <td>Aiyoku no Eustia</td>\n",
              "      <td>PSV</td>\n",
              "      <td>2014</td>\n",
              "      <td>Misc</td>\n",
              "      <td>0.00</td>\n",
              "      <td>0.00</td>\n",
              "      <td>0.01</td>\n",
              "      <td>0.00</td>\n",
              "      <td>NaN</td>\n",
              "      <td>NaN</td>\n",
              "      <td>without</td>\n",
              "      <td>0.01</td>\n",
              "    </tr>\n",
              "    <tr>\n",
              "      <th>16710</th>\n",
              "      <td>Samurai Warriors: Sanada Maru</td>\n",
              "      <td>PS3</td>\n",
              "      <td>2016</td>\n",
              "      <td>Action</td>\n",
              "      <td>0.00</td>\n",
              "      <td>0.00</td>\n",
              "      <td>0.01</td>\n",
              "      <td>0.00</td>\n",
              "      <td>NaN</td>\n",
              "      <td>NaN</td>\n",
              "      <td>without</td>\n",
              "      <td>0.01</td>\n",
              "    </tr>\n",
              "    <tr>\n",
              "      <th>16712</th>\n",
              "      <td>Haitaka no Psychedelica</td>\n",
              "      <td>PSV</td>\n",
              "      <td>2016</td>\n",
              "      <td>Adventure</td>\n",
              "      <td>0.00</td>\n",
              "      <td>0.00</td>\n",
              "      <td>0.01</td>\n",
              "      <td>0.00</td>\n",
              "      <td>NaN</td>\n",
              "      <td>NaN</td>\n",
              "      <td>without</td>\n",
              "      <td>0.01</td>\n",
              "    </tr>\n",
              "    <tr>\n",
              "      <th>16714</th>\n",
              "      <td>Winning Post 8 2016</td>\n",
              "      <td>PSV</td>\n",
              "      <td>2016</td>\n",
              "      <td>Simulation</td>\n",
              "      <td>0.00</td>\n",
              "      <td>0.00</td>\n",
              "      <td>0.01</td>\n",
              "      <td>0.00</td>\n",
              "      <td>NaN</td>\n",
              "      <td>NaN</td>\n",
              "      <td>without</td>\n",
              "      <td>0.01</td>\n",
              "    </tr>\n",
              "  </tbody>\n",
              "</table>\n",
              "<p>2233 rows × 12 columns</p>\n",
              "</div>"
            ],
            "text/plain": [
              "                                name platform  year_of_release         genre  \\\n",
              "16                Grand Theft Auto V      PS3             2013        Action   \n",
              "23                Grand Theft Auto V     X360             2013        Action   \n",
              "31         Call of Duty: Black Ops 3      PS4             2015       Shooter   \n",
              "33               Pokemon X/Pokemon Y      3DS             2013  Role-Playing   \n",
              "42                Grand Theft Auto V      PS4             2014        Action   \n",
              "...                              ...      ...              ...           ...   \n",
              "16703               Strawberry Nauts      PSV             2016     Adventure   \n",
              "16707               Aiyoku no Eustia      PSV             2014          Misc   \n",
              "16710  Samurai Warriors: Sanada Maru      PS3             2016        Action   \n",
              "16712        Haitaka no Psychedelica      PSV             2016     Adventure   \n",
              "16714            Winning Post 8 2016      PSV             2016    Simulation   \n",
              "\n",
              "       na_sales  eu_sales  jp_sales  other_sales  critic_score  user_score  \\\n",
              "16         7.02      9.09      0.98         3.96          97.0         8.2   \n",
              "23         9.66      5.14      0.06         1.41          97.0         8.1   \n",
              "31         6.03      5.86      0.36         2.38           NaN         NaN   \n",
              "33         5.28      4.19      4.35         0.78           NaN         NaN   \n",
              "42         3.96      6.31      0.38         1.97          97.0         8.3   \n",
              "...         ...       ...       ...          ...           ...         ...   \n",
              "16703      0.00      0.00      0.01         0.00           NaN         NaN   \n",
              "16707      0.00      0.00      0.01         0.00           NaN         NaN   \n",
              "16710      0.00      0.00      0.01         0.00           NaN         NaN   \n",
              "16712      0.00      0.00      0.01         0.00           NaN         NaN   \n",
              "16714      0.00      0.00      0.01         0.00           NaN         NaN   \n",
              "\n",
              "        rating  total_sales  \n",
              "16           M        21.05  \n",
              "23           M        16.27  \n",
              "31     without        14.63  \n",
              "33     without        14.60  \n",
              "42           M        12.62  \n",
              "...        ...          ...  \n",
              "16703  without         0.01  \n",
              "16707  without         0.01  \n",
              "16710  without         0.01  \n",
              "16712  without         0.01  \n",
              "16714  without         0.01  \n",
              "\n",
              "[2233 rows x 12 columns]"
            ]
          },
          "execution_count": 25,
          "metadata": {},
          "output_type": "execute_result"
        }
      ],
      "source": [
        "#отбираем акутальные данные\n",
        "actual_data = data[data['year_of_release'] > 2012]\n",
        "actual_data"
      ]
    },
    {
      "cell_type": "markdown",
      "metadata": {
        "id": "nf56M9woUhxc"
      },
      "source": [
        "**Какие платформы лидируют по продажам, растут или падают?**"
      ]
    },
    {
      "cell_type": "code",
      "execution_count": null,
      "metadata": {
        "id": "gNgGnTtgUhxc",
        "outputId": "3503bb0f-b43c-46dc-efd4-223f8442c826"
      },
      "outputs": [
        {
          "data": {
            "image/png": "[encoded data removed]",
            "text/plain": [
              "<Figure size 1296x360 with 1 Axes>"
            ]
          },
          "metadata": {
            "needs_background": "light"
          },
          "output_type": "display_data"
        }
      ],
      "source": [
        "#потенциально-прибыльные платформы\n",
        "actual_2016 = actual_data.pivot_table(index=['platform'], values='total_sales', aggfunc='sum').reset_index().sort_values(by='total_sales', ascending=False)\n",
        "plt.figure(figsize=(18, 5))\n",
        "sns.barplot(data = actual_2016, x='platform', y='total_sales')\n",
        "plt.title('Продажи платформ')\n",
        "plt.show()"
      ]
    },
    {
      "cell_type": "code",
      "execution_count": null,
      "metadata": {
        "id": "zHEwezcgUhxc",
        "outputId": "e736ea49-1c03-4a51-fb01-2fbdb6b474e6"
      },
      "outputs": [
        {
          "data": {
            "image/png": "[encoded data removed]",
            "text/plain": [
              "<Figure size 1440x720 with 1 Axes>"
            ]
          },
          "metadata": {
            "needs_background": "light"
          },
          "output_type": "display_data"
        }
      ],
      "source": [
        "top_platforms_actual =actual_data.pivot_table(index = ['year_of_release'], columns = ['platform'], values = ['total_sales'],aggfunc =  ['sum'])\n",
        "top_platforms_actual.plot(figsize = (20,10))\n",
        "plt.title('Динамика продаж платформ')\n",
        "plt.show()"
      ]
    },
    {
      "cell_type": "markdown",
      "metadata": {
        "id": "yNOwZvrtUhxc"
      },
      "source": [
        "Из графика мы видим, что прибыльными платформами будут являться ps4, xone, 3ds и PC. Они демонстировали рост в особенности ps4 и 3ds, однако продажи начали падать после 2015 года."
      ]
    },
    {
      "cell_type": "markdown",
      "metadata": {
        "id": "IjAqJQpnUhxd"
      },
      "source": [
        "**«Ящик с усами» по глобальным продажам игр в разбивке по платформам.**"
      ]
    },
    {
      "cell_type": "code",
      "execution_count": null,
      "metadata": {
        "id": "Yx1rdrEWUhxd",
        "outputId": "24517913-8a01-4803-d499-2c9b025d2e3a"
      },
      "outputs": [
        {
          "data": {
            "image/png": "[encoded data removed]",
            "text/plain": [
              "<Figure size 1080x720 with 1 Axes>"
            ]
          },
          "metadata": {
            "needs_background": "light"
          },
          "output_type": "display_data"
        }
      ],
      "source": [
        "plt.figure(figsize=(15,10))\n",
        "(sns.boxplot(data = actual_data, y = 'total_sales', x = 'platform').set(title = 'Продажи по платформам', xlabel = 'Платформы', ylabel = 'Всего продаж', ylim = (0,1.8)))\n",
        "plt.show()"
      ]
    },
    {
      "cell_type": "code",
      "execution_count": null,
      "metadata": {
        "id": "wfAlCEpoUhxe",
        "outputId": "f4bd5c6a-a860-41a8-a58b-fa34962832e4"
      },
      "outputs": [
        {
          "data": {
            "image/png": "[encoded data removed]",
            "text/plain": [
              "<Figure size 1080x720 with 1 Axes>"
            ]
          },
          "metadata": {
            "needs_background": "light"
          },
          "output_type": "display_data"
        }
      ],
      "source": [
        "plt.figure(figsize=(15,10))\n",
        "(sns.boxplot(data = actual_data, y = 'total_sales', x = 'platform').set(title = 'Продажи по платформам', xlabel = 'Платформы', ylabel = 'Всего продаж', ylim = (0,10)))\n",
        "plt.show()"
      ]
    },
    {
      "cell_type": "markdown",
      "metadata": {
        "id": "N6krRMZ_Uhxf"
      },
      "source": [
        "Исходя из пердставленной диаграммы, мы видим, что медиана везде стремится к нижнему квартилю, что означает не высокий уровень средних продаж. Максимальные продажи больше 1,5 м наблюдаются у платформ x360, PS4, XOne, WII. Несмотря на это, во многих платформах наблюдается много выбросов, свидетельствующих о крупных суммах."
      ]
    },
    {
      "cell_type": "markdown",
      "metadata": {
        "id": "fjo2jaiwUhxf"
      },
      "source": [
        "**Как влияют на продажи внутри одной популярной платформы отзывы пользователей и критиков**"
      ]
    },
    {
      "cell_type": "code",
      "execution_count": null,
      "metadata": {
        "id": "RahoMBhEUhxg"
      },
      "outputs": [],
      "source": [
        "xone = actual_data.query('platform == \"XOne\"')\n",
        "xone = xone.sort_values('user_score',ascending = False)"
      ]
    },
    {
      "cell_type": "code",
      "execution_count": null,
      "metadata": {
        "id": "fbCJxGJvUhxg",
        "outputId": "c6a52870-03f0-434d-a83a-7cc7f4c87167"
      },
      "outputs": [
        {
          "data": {
            "image/png": "[encoded data removed]",
            "text/plain": [
              "<Figure size 864x432 with 1 Axes>"
            ]
          },
          "metadata": {
            "needs_background": "light"
          },
          "output_type": "display_data"
        }
      ],
      "source": [
        "plt.figure(figsize=(12,6))\n",
        "sns.scatterplot(x ='user_score', y ='total_sales', data = xone)\n",
        "plt.show()"
      ]
    },
    {
      "cell_type": "code",
      "execution_count": null,
      "metadata": {
        "id": "ZZmrS0bTUhxg",
        "outputId": "1e03e03a-2edc-44e9-e25f-5afea9b39756"
      },
      "outputs": [
        {
          "data": {
            "text/plain": [
              "-0.06892505328279423"
            ]
          },
          "execution_count": 32,
          "metadata": {},
          "output_type": "execute_result"
        }
      ],
      "source": [
        "#корреляцция между отзывами и продажами\n",
        "xone['user_score'].corr(xone['total_sales'])"
      ]
    },
    {
      "cell_type": "markdown",
      "metadata": {
        "id": "QswwHBU3Uhxg"
      },
      "source": [
        "Коэффициент коррелции очень близок к нулю, поэтому влияния на продажи оценки пользователей"
      ]
    },
    {
      "cell_type": "code",
      "execution_count": null,
      "metadata": {
        "id": "dssrvqRKUhxh",
        "outputId": "e5bfc08a-d4d4-4fac-db33-72662bc7e52f"
      },
      "outputs": [
        {
          "data": {
            "image/png": "[encoded data removed]",
            "text/plain": [
              "<Figure size 864x432 with 1 Axes>"
            ]
          },
          "metadata": {
            "needs_background": "light"
          },
          "output_type": "display_data"
        }
      ],
      "source": [
        "plt.figure(figsize = (12,6))\n",
        "sns.scatterplot(x = 'critic_score', y = 'total_sales', data = xone)\n",
        "plt.show()"
      ]
    },
    {
      "cell_type": "code",
      "execution_count": null,
      "metadata": {
        "id": "FIx2kWtkUhxh",
        "outputId": "d42babeb-449e-4de8-f3af-229395ce83b0"
      },
      "outputs": [
        {
          "data": {
            "text/plain": [
              "0.4169983280084016"
            ]
          },
          "execution_count": 34,
          "metadata": {},
          "output_type": "execute_result"
        }
      ],
      "source": [
        "#корреляцция между отзывами и продажами\n",
        "xone['critic_score'].corr(xone['total_sales'])"
      ]
    },
    {
      "cell_type": "markdown",
      "metadata": {
        "id": "uNc-tWDJUhxh"
      },
      "source": [
        "Здесь мы видим, что коэффициент уже больше, но связь все равно не очень сильная, тем не менее существует слабое влияние на продажи со стороны отзывово критиков."
      ]
    },
    {
      "cell_type": "code",
      "execution_count": null,
      "metadata": {
        "id": "1B92GZmOUhxh",
        "outputId": "7bc310fc-d3b0-424f-ed8d-606db8acc904"
      },
      "outputs": [
        {
          "name": "stdout",
          "output_type": "stream",
          "text": [
            "-0.031957110204556424\n",
            "0.40656790206178134\n"
          ]
        }
      ],
      "source": [
        "ps4 = actual_data.query('platform == \"PS4\"')\n",
        "ps4 = ps4.sort_values('user_score',ascending = False)\n",
        "print(ps4['user_score'].corr(ps4['total_sales']))\n",
        "print(ps4['critic_score'].corr(ps4['total_sales']))"
      ]
    },
    {
      "cell_type": "code",
      "execution_count": null,
      "metadata": {
        "id": "yCx_eF8OUhxh",
        "outputId": "0ec876e5-86b8-4fd7-c637-52b23543dbf2"
      },
      "outputs": [
        {
          "name": "stdout",
          "output_type": "stream",
          "text": [
            "-0.011742185147181356\n",
            "0.3503445460228664\n"
          ]
        }
      ],
      "source": [
        "x360 = actual_data.query('platform == \"X360\"')\n",
        "x360 = x360.sort_values('user_score',ascending = False)\n",
        "print(x360['user_score'].corr(x360['total_sales']))\n",
        "print(x360['critic_score'].corr(x360['total_sales']))"
      ]
    },
    {
      "cell_type": "code",
      "execution_count": null,
      "metadata": {
        "id": "hcvaNE4SUhxh",
        "outputId": "b5d2bbb6-4b60-4e94-cfc3-910966635c5e"
      },
      "outputs": [
        {
          "name": "stdout",
          "output_type": "stream",
          "text": [
            "0.0023944027357566773\n",
            "0.33428533933719184\n"
          ]
        }
      ],
      "source": [
        "ps3 = actual_data.query('platform == \"PS3\"')\n",
        "ps3 = ps3.sort_values('user_score',ascending = False)\n",
        "print(ps3['user_score'].corr(ps3['total_sales']))\n",
        "print(ps3['critic_score'].corr(ps3['total_sales']))"
      ]
    },
    {
      "cell_type": "markdown",
      "metadata": {
        "id": "T7NWdZwSUhxi"
      },
      "source": [
        "Рассмотрев для сравнения другие платформы , мы наблюдаем такую же ситуацию, соответственно - прямой зависимости нет."
      ]
    },
    {
      "cell_type": "markdown",
      "metadata": {
        "id": "VGJi8rVKUhxi"
      },
      "source": [
        "**Посмотрим на общее распределение игр по жанрам. Что можно сказать о самых прибыльных жанрах? Выделяются ли жанры с высокими и низкими продажами?**"
      ]
    },
    {
      "cell_type": "code",
      "execution_count": null,
      "metadata": {
        "id": "e6BpY83_Uhxi",
        "outputId": "dcee4190-47d5-4bbd-8e26-1b5f984fc600"
      },
      "outputs": [
        {
          "data": {
            "text/html": [
              "<div>\n",
              "<style scoped>\n",
              "    .dataframe tbody tr th:only-of-type {\n",
              "        vertical-align: middle;\n",
              "    }\n",
              "\n",
              "    .dataframe tbody tr th {\n",
              "        vertical-align: top;\n",
              "    }\n",
              "\n",
              "    .dataframe thead th {\n",
              "        text-align: right;\n",
              "    }\n",
              "</style>\n",
              "<table border=\"1\" class=\"dataframe\">\n",
              "  <thead>\n",
              "    <tr style=\"text-align: right;\">\n",
              "      <th></th>\n",
              "      <th>genre</th>\n",
              "      <th>name</th>\n",
              "    </tr>\n",
              "  </thead>\n",
              "  <tbody>\n",
              "    <tr>\n",
              "      <th>0</th>\n",
              "      <td>Action</td>\n",
              "      <td>766</td>\n",
              "    </tr>\n",
              "    <tr>\n",
              "      <th>7</th>\n",
              "      <td>Role-Playing</td>\n",
              "      <td>292</td>\n",
              "    </tr>\n",
              "    <tr>\n",
              "      <th>1</th>\n",
              "      <td>Adventure</td>\n",
              "      <td>245</td>\n",
              "    </tr>\n",
              "    <tr>\n",
              "      <th>10</th>\n",
              "      <td>Sports</td>\n",
              "      <td>214</td>\n",
              "    </tr>\n",
              "    <tr>\n",
              "      <th>8</th>\n",
              "      <td>Shooter</td>\n",
              "      <td>187</td>\n",
              "    </tr>\n",
              "    <tr>\n",
              "      <th>3</th>\n",
              "      <td>Misc</td>\n",
              "      <td>155</td>\n",
              "    </tr>\n",
              "    <tr>\n",
              "      <th>6</th>\n",
              "      <td>Racing</td>\n",
              "      <td>85</td>\n",
              "    </tr>\n",
              "    <tr>\n",
              "      <th>2</th>\n",
              "      <td>Fighting</td>\n",
              "      <td>80</td>\n",
              "    </tr>\n",
              "    <tr>\n",
              "      <th>4</th>\n",
              "      <td>Platform</td>\n",
              "      <td>74</td>\n",
              "    </tr>\n",
              "    <tr>\n",
              "      <th>9</th>\n",
              "      <td>Simulation</td>\n",
              "      <td>62</td>\n",
              "    </tr>\n",
              "    <tr>\n",
              "      <th>11</th>\n",
              "      <td>Strategy</td>\n",
              "      <td>56</td>\n",
              "    </tr>\n",
              "    <tr>\n",
              "      <th>5</th>\n",
              "      <td>Puzzle</td>\n",
              "      <td>17</td>\n",
              "    </tr>\n",
              "  </tbody>\n",
              "</table>\n",
              "</div>"
            ],
            "text/plain": [
              "           genre  name\n",
              "0         Action   766\n",
              "7   Role-Playing   292\n",
              "1      Adventure   245\n",
              "10        Sports   214\n",
              "8        Shooter   187\n",
              "3           Misc   155\n",
              "6         Racing    85\n",
              "2       Fighting    80\n",
              "4       Platform    74\n",
              "9     Simulation    62\n",
              "11      Strategy    56\n",
              "5         Puzzle    17"
            ]
          },
          "execution_count": 38,
          "metadata": {},
          "output_type": "execute_result"
        }
      ],
      "source": [
        "genre = actual_data.groupby('genre').agg({'name':'count'}).reset_index()\n",
        "genre.sort_values(by='name', ascending=False)"
      ]
    },
    {
      "cell_type": "markdown",
      "metadata": {
        "id": "HDn9Pza2Uhxi"
      },
      "source": [
        "Исходя из сводной таблицы распределения жанра игр, видим, что наиболее популярными играми являются action игры."
      ]
    },
    {
      "cell_type": "code",
      "execution_count": null,
      "metadata": {
        "id": "RMF3MckzUhxi",
        "outputId": "308cc733-578c-48d0-b60c-44aad9ed12ac"
      },
      "outputs": [
        {
          "data": {
            "image/png": "[encoded data removed]",
            "text/plain": [
              "<Figure size 1080x720 with 1 Axes>"
            ]
          },
          "metadata": {
            "needs_background": "light"
          },
          "output_type": "display_data"
        }
      ],
      "source": [
        "plt.figure(figsize=(15,10))\n",
        "(sns.boxplot(data = actual_data, y = 'total_sales', x = 'genre').set(title = 'Продажи по платформам', xlabel = 'Платформы', ylabel = 'Всего продаж', ylim = (0,5)))\n",
        "plt.show()"
      ]
    },
    {
      "cell_type": "markdown",
      "metadata": {
        "id": "nztdfMVjUhxi"
      },
      "source": [
        "Мы видим, что больше всего прибыльных игр, т.е выбросов больше всего у популярного жанра игр Action, что означает большую общую прибыль.\n",
        "Также стоит отметить игры жанра shooter, где самая высокая медиана продаж.\n"
      ]
    },
    {
      "cell_type": "markdown",
      "metadata": {
        "id": "El9EEQlkUhxj"
      },
      "source": [
        "**Портрет пользователя каждого региона**"
      ]
    },
    {
      "cell_type": "markdown",
      "metadata": {
        "id": "ydTKP-uqUhxj"
      },
      "source": [
        "Самые популярные платформы (топ-5)"
      ]
    },
    {
      "cell_type": "code",
      "execution_count": null,
      "metadata": {
        "id": "IOB4YdbnUhxj",
        "outputId": "8e0c9636-f3ab-42f3-dc9b-6a09b37c2636"
      },
      "outputs": [
        {
          "data": {
            "image/png": "[encoded data removed]",
            "text/plain": [
              "<Figure size 432x288 with 1 Axes>"
            ]
          },
          "metadata": {
            "needs_background": "light"
          },
          "output_type": "display_data"
        }
      ],
      "source": [
        "actual_data.groupby(by='platform').agg({'na_sales':'sum'}).sort_values(by='na_sales', ascending=False).head(5).plot(kind='bar')\n",
        "plt.title('Топ 5 платформ по продажам в Северной Америке')\n",
        "plt.show()"
      ]
    },
    {
      "cell_type": "code",
      "execution_count": null,
      "metadata": {
        "id": "0jWJZKhtUhxj",
        "outputId": "21bfd5ff-fdbd-4c0c-ef68-30f8670f6cef"
      },
      "outputs": [
        {
          "data": {
            "image/png": "[encoded data removed]",
            "text/plain": [
              "<Figure size 432x288 with 1 Axes>"
            ]
          },
          "metadata": {
            "needs_background": "light"
          },
          "output_type": "display_data"
        }
      ],
      "source": [
        "actual_data.groupby(by='platform').agg({'eu_sales':'sum'}).sort_values(by='eu_sales', ascending=False).head(5).plot(kind='bar')\n",
        "plt.title('Топ 5 платформ по продажам в Европе')\n",
        "plt.show()"
      ]
    },
    {
      "cell_type": "code",
      "execution_count": null,
      "metadata": {
        "id": "hAqzXP83Uhxj",
        "outputId": "50be2ac7-09a9-4472-a710-eb77120207ac"
      },
      "outputs": [
        {
          "data": {
            "image/png": "[encoded data removed]",
            "text/plain": [
              "<Figure size 432x288 with 1 Axes>"
            ]
          },
          "metadata": {
            "needs_background": "light"
          },
          "output_type": "display_data"
        }
      ],
      "source": [
        "actual_data.groupby(by='platform').agg({'jp_sales':'sum'}).sort_values(by='jp_sales', ascending=False).head(5).plot(kind='bar')\n",
        "plt.title('Топ 5 платформ по продажам в Японии')\n",
        "plt.show()"
      ]
    },
    {
      "cell_type": "markdown",
      "metadata": {
        "id": "sxozfzFVUhxk"
      },
      "source": [
        "Таким образом, мы видим, что наиболее популярными платформами являются PS4, XOne, X360, PS3"
      ]
    },
    {
      "cell_type": "markdown",
      "metadata": {
        "id": "pELFXxnUUhxk"
      },
      "source": [
        "Самые популярные жанры (топ-5)"
      ]
    },
    {
      "cell_type": "code",
      "execution_count": null,
      "metadata": {
        "id": "CaDDaSpHUhxk",
        "outputId": "8a6e4a90-701e-4e5e-d5bb-a6439d2874e3"
      },
      "outputs": [
        {
          "data": {
            "image/png": "[encoded data removed]",
            "text/plain": [
              "<Figure size 432x288 with 1 Axes>"
            ]
          },
          "metadata": {
            "needs_background": "light"
          },
          "output_type": "display_data"
        }
      ],
      "source": [
        "actual_data.groupby(by='genre').agg({'na_sales':'sum'}).sort_values(by='na_sales', ascending=False).head(5).plot(kind='bar')\n",
        "plt.title('Топ 5 платформ по продажам в Северной Америке')\n",
        "plt.show()"
      ]
    },
    {
      "cell_type": "code",
      "execution_count": null,
      "metadata": {
        "id": "wFMklJg4Uhxk",
        "outputId": "b69a3477-76d6-497f-f6d9-fe98271433b6"
      },
      "outputs": [
        {
          "data": {
            "image/png": "[encoded data removed]",
            "text/plain": [
              "<Figure size 432x288 with 1 Axes>"
            ]
          },
          "metadata": {
            "needs_background": "light"
          },
          "output_type": "display_data"
        }
      ],
      "source": [
        "actual_data.groupby(by='genre').agg({'eu_sales':'sum'}).sort_values(by='eu_sales', ascending=False).head(5).plot(kind='bar')\n",
        "plt.title('Топ 5 платформ по продажам в Европе')\n",
        "plt.show()"
      ]
    },
    {
      "cell_type": "code",
      "execution_count": null,
      "metadata": {
        "id": "2HlziwOIUhxl",
        "outputId": "1eba475e-e6ef-42e4-f66e-fc50e5b5d678"
      },
      "outputs": [
        {
          "data": {
            "image/png": "[encoded data removed]",
            "text/plain": [
              "<Figure size 432x288 with 1 Axes>"
            ]
          },
          "metadata": {
            "needs_background": "light"
          },
          "output_type": "display_data"
        }
      ],
      "source": [
        "actual_data.groupby(by='genre').agg({'jp_sales':'sum'}).sort_values(by='jp_sales', ascending=False).head(5).plot(kind='bar')\n",
        "plt.title('Топ 5 платформ по продажам в Японии')\n",
        "plt.show()"
      ]
    },
    {
      "cell_type": "markdown",
      "metadata": {
        "id": "izhAHncWUhxl"
      },
      "source": [
        "Мы видим, что только в Японии жанр Action уступает жанру Role-Playing, более того, популярными жанрами также являются shooter, sports, misc"
      ]
    },
    {
      "cell_type": "markdown",
      "metadata": {
        "id": "FVOxPwosUhxl"
      },
      "source": [
        "Влияет ли рейтинг ESRB на продажи в отдельном регионе?"
      ]
    },
    {
      "cell_type": "code",
      "execution_count": null,
      "metadata": {
        "id": "oVTC1EkHUhxl",
        "outputId": "0d2d6573-72f9-47ad-da7f-3b448d0b706a"
      },
      "outputs": [
        {
          "data": {
            "image/png": "[encoded data removed]",
            "text/plain": [
              "<Figure size 432x288 with 1 Axes>"
            ]
          },
          "metadata": {
            "needs_background": "light"
          },
          "output_type": "display_data"
        }
      ],
      "source": [
        "actual_data.groupby(by='rating').agg({'na_sales':'sum'}).sort_values(by='na_sales', ascending=False).head(5).plot(kind='bar')\n",
        "plt.title('Топ 5 платформ по продажам в Северной Америке')\n",
        "plt.show()"
      ]
    },
    {
      "cell_type": "code",
      "execution_count": null,
      "metadata": {
        "id": "5nz5aZP8Uhxl",
        "outputId": "bc128992-42ea-4a3c-dfb0-a3faaf0dcd84"
      },
      "outputs": [
        {
          "data": {
            "image/png": "[encoded data removed]",
            "text/plain": [
              "<Figure size 432x288 with 1 Axes>"
            ]
          },
          "metadata": {
            "needs_background": "light"
          },
          "output_type": "display_data"
        }
      ],
      "source": [
        "actual_data.groupby(by='rating').agg({'eu_sales':'sum'}).sort_values(by='eu_sales', ascending=False).head(5).plot(kind='bar')\n",
        "plt.title('Топ 5 платформ по продажам в Европе')\n",
        "plt.show()"
      ]
    },
    {
      "cell_type": "code",
      "execution_count": null,
      "metadata": {
        "id": "wF714JVQUhxl",
        "outputId": "99549518-ff01-4085-d0b4-dc8159fc42e8"
      },
      "outputs": [
        {
          "data": {
            "image/png": "[encoded data removed]",
            "text/plain": [
              "<Figure size 432x288 with 1 Axes>"
            ]
          },
          "metadata": {
            "needs_background": "light"
          },
          "output_type": "display_data"
        }
      ],
      "source": [
        "actual_data.groupby(by='rating').agg({'jp_sales':'sum'}).sort_values(by='jp_sales', ascending=False).head(5).plot(kind='bar')\n",
        "plt.title('Топ 5 платформ по продажам в Японии')\n",
        "plt.show()"
      ]
    },
    {
      "cell_type": "markdown",
      "metadata": {
        "id": "QeUF5Y4LUhxl"
      },
      "source": [
        "Благодаря диаграммам можно отметить интересную ситуацию, где градация рейтингов одинаковая что в Северной Америки, что в Европе. На первом месте игры рейтинга для взрослых, на втором - для всех, на третьем месте игры для лиц старше 10 лет, и на последнем месте для подростков.\n",
        "В Японии же лидирцют игры с рейтингом для подростков, а игры для взрослых находятся только на последнем месте."
      ]
    },
    {
      "cell_type": "markdown",
      "metadata": {
        "id": "RIvcEb_AUhxm"
      },
      "source": [
        "**Проверка гипотез**"
      ]
    },
    {
      "cell_type": "markdown",
      "metadata": {
        "id": "o6ECAx0DUhxm"
      },
      "source": [
        "Средние пользовательские рейтинги платформ Xbox One и PC одинаковые"
      ]
    },
    {
      "cell_type": "markdown",
      "metadata": {
        "id": "SszhDFXvUhxm"
      },
      "source": [
        "Необходимо определить нулевую и альтернативную гипотезу:\n",
        "\n",
        "Н0: Средний пользовательский рейтинг платформ Xbox One и PC одинаковый (по условию)\n",
        "\n",
        "H1: Средний пользовательский рейтинг платформ Xbox One и PC различается (противоположное нулевой гипотезе)"
      ]
    },
    {
      "cell_type": "markdown",
      "metadata": {
        "id": "yVjavmARUhxm"
      },
      "source": [
        "критический уровень статистической значимости"
      ]
    },
    {
      "cell_type": "code",
      "execution_count": null,
      "metadata": {
        "id": "vrLSsvqJUhxn"
      },
      "outputs": [],
      "source": [
        "alpha = 0.05 # если p-value окажется меньше него - отвергнем гипотезу"
      ]
    },
    {
      "cell_type": "code",
      "execution_count": null,
      "metadata": {
        "id": "Sqttu0c2Uhxn",
        "outputId": "dae15e6b-497b-4132-f646-7b28daa2ea07"
      },
      "outputs": [
        {
          "name": "stdout",
          "output_type": "stream",
          "text": [
            "p-значение: 0.14012658403611647\n",
            "Не получилось отвергнуть нулевую гипотезу\n"
          ]
        }
      ],
      "source": [
        "x_one = actual_data[(actual_data['platform'] == 'XOne') & (actual_data['user_score'] > 0)]['user_score']\n",
        "pc = actual_data[(actual_data['platform'] == 'PC') & (actual_data['user_score'] > 0)]['user_score']\n",
        "results = st.ttest_ind(x_one, pc)\n",
        "print('p-значение:', results.pvalue)\n",
        "if (results.pvalue < alpha):\n",
        "    print(\"Отвергаем нулевую гипотезу\")\n",
        "else:\n",
        "    print(\"Не получилось отвергнуть нулевую гипотезу\")"
      ]
    },
    {
      "cell_type": "markdown",
      "metadata": {
        "id": "WczqJh_CUhxn"
      },
      "source": [
        "Средние пользовательские рейтинги жанров Action (англ. «действие», экшен-игры) и Sports (англ. «спортивные соревнования») разные"
      ]
    },
    {
      "cell_type": "markdown",
      "metadata": {
        "id": "3OIiQLCGUhxn"
      },
      "source": [
        "Необходимо определить нулевую и альтернативную гипотезу:\n",
        "\n",
        "Н0: Средний пользовательский рейтинг платформ Action и Sports одинаковый (по условию)\n",
        "\n",
        "H1: Средний пользовательский рейтинг платформ Action и Sports различается (противоположное нулевой гипотезе)"
      ]
    },
    {
      "cell_type": "code",
      "execution_count": null,
      "metadata": {
        "id": "bPVM0JbdUhxo",
        "outputId": "6ed4bb66-69e4-4d73-ea0f-43fb8d34413f"
      },
      "outputs": [
        {
          "name": "stdout",
          "output_type": "stream",
          "text": [
            "p-значение: 1.0517832389140023e-27\n",
            "Отвергаем нулевую гипотезу\n"
          ]
        }
      ],
      "source": [
        "action = actual_data[(actual_data['genre'] == 'Action') & (actual_data['user_score'] > 0)]['user_score']\n",
        "sport = actual_data[(actual_data['genre'] == 'Sports') & (actual_data['user_score'] > 0)]['user_score']\n",
        "results = st.ttest_ind(action, sport)\n",
        "print('p-значение:', results.pvalue)\n",
        "if (results.pvalue < alpha):\n",
        "    print(\"Отвергаем нулевую гипотезу\")\n",
        "else:\n",
        "    print(\"Не получилось отвергнуть нулевую гипотезу\")"
      ]
    },
    {
      "cell_type": "markdown",
      "metadata": {
        "id": "1EnTL2ArUhxo"
      },
      "source": [
        "### Общий вывод"
      ]
    },
    {
      "cell_type": "markdown",
      "metadata": {
        "id": "GnTUN1nHUhxo"
      },
      "source": [
        "**Шаг 1. Получение данных**"
      ]
    },
    {
      "cell_type": "markdown",
      "metadata": {
        "id": "y3Z1w9ipUhxo"
      },
      "source": [
        "- Были получены данные о продажах компьютерных игр"
      ]
    },
    {
      "cell_type": "code",
      "execution_count": null,
      "metadata": {
        "id": "SJCRwjrxUhxo",
        "outputId": "1430275c-9d11-483c-ca42-3d281d2f92e7"
      },
      "outputs": [
        {
          "data": {
            "text/html": [
              "<div>\n",
              "<style scoped>\n",
              "    .dataframe tbody tr th:only-of-type {\n",
              "        vertical-align: middle;\n",
              "    }\n",
              "\n",
              "    .dataframe tbody tr th {\n",
              "        vertical-align: top;\n",
              "    }\n",
              "\n",
              "    .dataframe thead th {\n",
              "        text-align: right;\n",
              "    }\n",
              "</style>\n",
              "<table border=\"1\" class=\"dataframe\">\n",
              "  <thead>\n",
              "    <tr style=\"text-align: right;\">\n",
              "      <th></th>\n",
              "      <th>name</th>\n",
              "      <th>platform</th>\n",
              "      <th>year_of_release</th>\n",
              "      <th>genre</th>\n",
              "      <th>na_sales</th>\n",
              "      <th>eu_sales</th>\n",
              "      <th>jp_sales</th>\n",
              "      <th>other_sales</th>\n",
              "      <th>critic_score</th>\n",
              "      <th>user_score</th>\n",
              "      <th>rating</th>\n",
              "      <th>total_sales</th>\n",
              "    </tr>\n",
              "  </thead>\n",
              "  <tbody>\n",
              "    <tr>\n",
              "      <th>0</th>\n",
              "      <td>Wii Sports</td>\n",
              "      <td>Wii</td>\n",
              "      <td>2006</td>\n",
              "      <td>Sports</td>\n",
              "      <td>41.36</td>\n",
              "      <td>28.96</td>\n",
              "      <td>3.77</td>\n",
              "      <td>8.45</td>\n",
              "      <td>76.0</td>\n",
              "      <td>8.0</td>\n",
              "      <td>E</td>\n",
              "      <td>82.54</td>\n",
              "    </tr>\n",
              "    <tr>\n",
              "      <th>1</th>\n",
              "      <td>Super Mario Bros.</td>\n",
              "      <td>NES</td>\n",
              "      <td>1985</td>\n",
              "      <td>Platform</td>\n",
              "      <td>29.08</td>\n",
              "      <td>3.58</td>\n",
              "      <td>6.81</td>\n",
              "      <td>0.77</td>\n",
              "      <td>NaN</td>\n",
              "      <td>NaN</td>\n",
              "      <td>without</td>\n",
              "      <td>40.24</td>\n",
              "    </tr>\n",
              "    <tr>\n",
              "      <th>2</th>\n",
              "      <td>Mario Kart Wii</td>\n",
              "      <td>Wii</td>\n",
              "      <td>2008</td>\n",
              "      <td>Racing</td>\n",
              "      <td>15.68</td>\n",
              "      <td>12.76</td>\n",
              "      <td>3.79</td>\n",
              "      <td>3.29</td>\n",
              "      <td>82.0</td>\n",
              "      <td>8.3</td>\n",
              "      <td>E</td>\n",
              "      <td>35.52</td>\n",
              "    </tr>\n",
              "    <tr>\n",
              "      <th>3</th>\n",
              "      <td>Wii Sports Resort</td>\n",
              "      <td>Wii</td>\n",
              "      <td>2009</td>\n",
              "      <td>Sports</td>\n",
              "      <td>15.61</td>\n",
              "      <td>10.93</td>\n",
              "      <td>3.28</td>\n",
              "      <td>2.95</td>\n",
              "      <td>80.0</td>\n",
              "      <td>8.0</td>\n",
              "      <td>E</td>\n",
              "      <td>32.77</td>\n",
              "    </tr>\n",
              "    <tr>\n",
              "      <th>4</th>\n",
              "      <td>Pokemon Red/Pokemon Blue</td>\n",
              "      <td>GB</td>\n",
              "      <td>1996</td>\n",
              "      <td>Role-Playing</td>\n",
              "      <td>11.27</td>\n",
              "      <td>8.89</td>\n",
              "      <td>10.22</td>\n",
              "      <td>1.00</td>\n",
              "      <td>NaN</td>\n",
              "      <td>NaN</td>\n",
              "      <td>without</td>\n",
              "      <td>31.38</td>\n",
              "    </tr>\n",
              "    <tr>\n",
              "      <th>...</th>\n",
              "      <td>...</td>\n",
              "      <td>...</td>\n",
              "      <td>...</td>\n",
              "      <td>...</td>\n",
              "      <td>...</td>\n",
              "      <td>...</td>\n",
              "      <td>...</td>\n",
              "      <td>...</td>\n",
              "      <td>...</td>\n",
              "      <td>...</td>\n",
              "      <td>...</td>\n",
              "      <td>...</td>\n",
              "    </tr>\n",
              "    <tr>\n",
              "      <th>16710</th>\n",
              "      <td>Samurai Warriors: Sanada Maru</td>\n",
              "      <td>PS3</td>\n",
              "      <td>2016</td>\n",
              "      <td>Action</td>\n",
              "      <td>0.00</td>\n",
              "      <td>0.00</td>\n",
              "      <td>0.01</td>\n",
              "      <td>0.00</td>\n",
              "      <td>NaN</td>\n",
              "      <td>NaN</td>\n",
              "      <td>without</td>\n",
              "      <td>0.01</td>\n",
              "    </tr>\n",
              "    <tr>\n",
              "      <th>16711</th>\n",
              "      <td>LMA Manager 2007</td>\n",
              "      <td>X360</td>\n",
              "      <td>2006</td>\n",
              "      <td>Sports</td>\n",
              "      <td>0.00</td>\n",
              "      <td>0.01</td>\n",
              "      <td>0.00</td>\n",
              "      <td>0.00</td>\n",
              "      <td>NaN</td>\n",
              "      <td>NaN</td>\n",
              "      <td>without</td>\n",
              "      <td>0.01</td>\n",
              "    </tr>\n",
              "    <tr>\n",
              "      <th>16712</th>\n",
              "      <td>Haitaka no Psychedelica</td>\n",
              "      <td>PSV</td>\n",
              "      <td>2016</td>\n",
              "      <td>Adventure</td>\n",
              "      <td>0.00</td>\n",
              "      <td>0.00</td>\n",
              "      <td>0.01</td>\n",
              "      <td>0.00</td>\n",
              "      <td>NaN</td>\n",
              "      <td>NaN</td>\n",
              "      <td>without</td>\n",
              "      <td>0.01</td>\n",
              "    </tr>\n",
              "    <tr>\n",
              "      <th>16713</th>\n",
              "      <td>Spirits &amp; Spells</td>\n",
              "      <td>GBA</td>\n",
              "      <td>2003</td>\n",
              "      <td>Platform</td>\n",
              "      <td>0.01</td>\n",
              "      <td>0.00</td>\n",
              "      <td>0.00</td>\n",
              "      <td>0.00</td>\n",
              "      <td>NaN</td>\n",
              "      <td>NaN</td>\n",
              "      <td>without</td>\n",
              "      <td>0.01</td>\n",
              "    </tr>\n",
              "    <tr>\n",
              "      <th>16714</th>\n",
              "      <td>Winning Post 8 2016</td>\n",
              "      <td>PSV</td>\n",
              "      <td>2016</td>\n",
              "      <td>Simulation</td>\n",
              "      <td>0.00</td>\n",
              "      <td>0.00</td>\n",
              "      <td>0.01</td>\n",
              "      <td>0.00</td>\n",
              "      <td>NaN</td>\n",
              "      <td>NaN</td>\n",
              "      <td>without</td>\n",
              "      <td>0.01</td>\n",
              "    </tr>\n",
              "  </tbody>\n",
              "</table>\n",
              "<p>16715 rows × 12 columns</p>\n",
              "</div>"
            ],
            "text/plain": [
              "                                name platform  year_of_release         genre  \\\n",
              "0                         Wii Sports      Wii             2006        Sports   \n",
              "1                  Super Mario Bros.      NES             1985      Platform   \n",
              "2                     Mario Kart Wii      Wii             2008        Racing   \n",
              "3                  Wii Sports Resort      Wii             2009        Sports   \n",
              "4           Pokemon Red/Pokemon Blue       GB             1996  Role-Playing   \n",
              "...                              ...      ...              ...           ...   \n",
              "16710  Samurai Warriors: Sanada Maru      PS3             2016        Action   \n",
              "16711               LMA Manager 2007     X360             2006        Sports   \n",
              "16712        Haitaka no Psychedelica      PSV             2016     Adventure   \n",
              "16713               Spirits & Spells      GBA             2003      Platform   \n",
              "16714            Winning Post 8 2016      PSV             2016    Simulation   \n",
              "\n",
              "       na_sales  eu_sales  jp_sales  other_sales  critic_score  user_score  \\\n",
              "0         41.36     28.96      3.77         8.45          76.0         8.0   \n",
              "1         29.08      3.58      6.81         0.77           NaN         NaN   \n",
              "2         15.68     12.76      3.79         3.29          82.0         8.3   \n",
              "3         15.61     10.93      3.28         2.95          80.0         8.0   \n",
              "4         11.27      8.89     10.22         1.00           NaN         NaN   \n",
              "...         ...       ...       ...          ...           ...         ...   \n",
              "16710      0.00      0.00      0.01         0.00           NaN         NaN   \n",
              "16711      0.00      0.01      0.00         0.00           NaN         NaN   \n",
              "16712      0.00      0.00      0.01         0.00           NaN         NaN   \n",
              "16713      0.01      0.00      0.00         0.00           NaN         NaN   \n",
              "16714      0.00      0.00      0.01         0.00           NaN         NaN   \n",
              "\n",
              "        rating  total_sales  \n",
              "0            E        82.54  \n",
              "1      without        40.24  \n",
              "2            E        35.52  \n",
              "3            E        32.77  \n",
              "4      without        31.38  \n",
              "...        ...          ...  \n",
              "16710  without         0.01  \n",
              "16711  without         0.01  \n",
              "16712  without         0.01  \n",
              "16713  without         0.01  \n",
              "16714  without         0.01  \n",
              "\n",
              "[16715 rows x 12 columns]"
            ]
          },
          "execution_count": 52,
          "metadata": {},
          "output_type": "execute_result"
        }
      ],
      "source": [
        "data"
      ]
    },
    {
      "cell_type": "markdown",
      "metadata": {
        "id": "wtRb_afYUhxo"
      },
      "source": [
        "**Шаг 2. Подготовка данных**"
      ]
    },
    {
      "cell_type": "markdown",
      "metadata": {
        "id": "0GLqz719Uhxo"
      },
      "source": [
        "Были обнаружены и изучены пропуски в данных. В столбце user_score было заменено tbd на nan, в столбце rating nan были заменены на without (нет рейтинга).\n",
        "Также Year_of_Release было приведено в int, а User_Score - float.\n",
        "Более того, явные дубликаты не были  обнаружены"
      ]
    },
    {
      "cell_type": "markdown",
      "metadata": {
        "id": "V1p5TvXiUhxp"
      },
      "source": [
        "**Шаг 3. Исследовательский анализ данных**"
      ]
    },
    {
      "cell_type": "markdown",
      "metadata": {
        "id": "Qwmph1LhUhxp"
      },
      "source": [
        "- Игры выпускались с 1985, но данная сфера не развивалась. Индустрия начала расти с 1995 года. Пиком по количеству выпущенных игр будет являться период с 2008 по 2009 год, после чего количество игр стало уменьшаться"
      ]
    },
    {
      "cell_type": "code",
      "execution_count": null,
      "metadata": {
        "id": "zl7jrRcDUhxp",
        "outputId": "a083edcc-3964-4084-e587-79943df97e99"
      },
      "outputs": [
        {
          "data": {
            "text/html": [
              "<div>\n",
              "<style scoped>\n",
              "    .dataframe tbody tr th:only-of-type {\n",
              "        vertical-align: middle;\n",
              "    }\n",
              "\n",
              "    .dataframe tbody tr th {\n",
              "        vertical-align: top;\n",
              "    }\n",
              "\n",
              "    .dataframe thead th {\n",
              "        text-align: right;\n",
              "    }\n",
              "</style>\n",
              "<table border=\"1\" class=\"dataframe\">\n",
              "  <thead>\n",
              "    <tr style=\"text-align: right;\">\n",
              "      <th></th>\n",
              "      <th>Количество выпущенных игр</th>\n",
              "    </tr>\n",
              "    <tr>\n",
              "      <th>year_of_release</th>\n",
              "      <th></th>\n",
              "    </tr>\n",
              "  </thead>\n",
              "  <tbody>\n",
              "    <tr>\n",
              "      <th>1980</th>\n",
              "      <td>9</td>\n",
              "    </tr>\n",
              "    <tr>\n",
              "      <th>1981</th>\n",
              "      <td>46</td>\n",
              "    </tr>\n",
              "    <tr>\n",
              "      <th>1982</th>\n",
              "      <td>36</td>\n",
              "    </tr>\n",
              "    <tr>\n",
              "      <th>1983</th>\n",
              "      <td>17</td>\n",
              "    </tr>\n",
              "    <tr>\n",
              "      <th>1984</th>\n",
              "      <td>14</td>\n",
              "    </tr>\n",
              "    <tr>\n",
              "      <th>1985</th>\n",
              "      <td>14</td>\n",
              "    </tr>\n",
              "    <tr>\n",
              "      <th>1986</th>\n",
              "      <td>21</td>\n",
              "    </tr>\n",
              "    <tr>\n",
              "      <th>1987</th>\n",
              "      <td>16</td>\n",
              "    </tr>\n",
              "    <tr>\n",
              "      <th>1988</th>\n",
              "      <td>15</td>\n",
              "    </tr>\n",
              "    <tr>\n",
              "      <th>1989</th>\n",
              "      <td>17</td>\n",
              "    </tr>\n",
              "    <tr>\n",
              "      <th>1990</th>\n",
              "      <td>16</td>\n",
              "    </tr>\n",
              "    <tr>\n",
              "      <th>1991</th>\n",
              "      <td>41</td>\n",
              "    </tr>\n",
              "    <tr>\n",
              "      <th>1992</th>\n",
              "      <td>43</td>\n",
              "    </tr>\n",
              "    <tr>\n",
              "      <th>1993</th>\n",
              "      <td>60</td>\n",
              "    </tr>\n",
              "    <tr>\n",
              "      <th>1994</th>\n",
              "      <td>121</td>\n",
              "    </tr>\n",
              "    <tr>\n",
              "      <th>1995</th>\n",
              "      <td>219</td>\n",
              "    </tr>\n",
              "    <tr>\n",
              "      <th>1996</th>\n",
              "      <td>263</td>\n",
              "    </tr>\n",
              "    <tr>\n",
              "      <th>1997</th>\n",
              "      <td>289</td>\n",
              "    </tr>\n",
              "    <tr>\n",
              "      <th>1998</th>\n",
              "      <td>379</td>\n",
              "    </tr>\n",
              "    <tr>\n",
              "      <th>1999</th>\n",
              "      <td>338</td>\n",
              "    </tr>\n",
              "    <tr>\n",
              "      <th>2000</th>\n",
              "      <td>350</td>\n",
              "    </tr>\n",
              "    <tr>\n",
              "      <th>2001</th>\n",
              "      <td>482</td>\n",
              "    </tr>\n",
              "    <tr>\n",
              "      <th>2002</th>\n",
              "      <td>829</td>\n",
              "    </tr>\n",
              "    <tr>\n",
              "      <th>2003</th>\n",
              "      <td>775</td>\n",
              "    </tr>\n",
              "    <tr>\n",
              "      <th>2004</th>\n",
              "      <td>762</td>\n",
              "    </tr>\n",
              "    <tr>\n",
              "      <th>2005</th>\n",
              "      <td>939</td>\n",
              "    </tr>\n",
              "    <tr>\n",
              "      <th>2006</th>\n",
              "      <td>1006</td>\n",
              "    </tr>\n",
              "    <tr>\n",
              "      <th>2007</th>\n",
              "      <td>1197</td>\n",
              "    </tr>\n",
              "    <tr>\n",
              "      <th>2008</th>\n",
              "      <td>1427</td>\n",
              "    </tr>\n",
              "    <tr>\n",
              "      <th>2009</th>\n",
              "      <td>1426</td>\n",
              "    </tr>\n",
              "    <tr>\n",
              "      <th>2010</th>\n",
              "      <td>1255</td>\n",
              "    </tr>\n",
              "    <tr>\n",
              "      <th>2011</th>\n",
              "      <td>1136</td>\n",
              "    </tr>\n",
              "    <tr>\n",
              "      <th>2012</th>\n",
              "      <td>653</td>\n",
              "    </tr>\n",
              "    <tr>\n",
              "      <th>2013</th>\n",
              "      <td>544</td>\n",
              "    </tr>\n",
              "    <tr>\n",
              "      <th>2014</th>\n",
              "      <td>581</td>\n",
              "    </tr>\n",
              "    <tr>\n",
              "      <th>2015</th>\n",
              "      <td>606</td>\n",
              "    </tr>\n",
              "    <tr>\n",
              "      <th>2016</th>\n",
              "      <td>502</td>\n",
              "    </tr>\n",
              "  </tbody>\n",
              "</table>\n",
              "</div>"
            ],
            "text/plain": [
              "                 Количество выпущенных игр\n",
              "year_of_release                           \n",
              "1980                                     9\n",
              "1981                                    46\n",
              "1982                                    36\n",
              "1983                                    17\n",
              "1984                                    14\n",
              "1985                                    14\n",
              "1986                                    21\n",
              "1987                                    16\n",
              "1988                                    15\n",
              "1989                                    17\n",
              "1990                                    16\n",
              "1991                                    41\n",
              "1992                                    43\n",
              "1993                                    60\n",
              "1994                                   121\n",
              "1995                                   219\n",
              "1996                                   263\n",
              "1997                                   289\n",
              "1998                                   379\n",
              "1999                                   338\n",
              "2000                                   350\n",
              "2001                                   482\n",
              "2002                                   829\n",
              "2003                                   775\n",
              "2004                                   762\n",
              "2005                                   939\n",
              "2006                                  1006\n",
              "2007                                  1197\n",
              "2008                                  1427\n",
              "2009                                  1426\n",
              "2010                                  1255\n",
              "2011                                  1136\n",
              "2012                                   653\n",
              "2013                                   544\n",
              "2014                                   581\n",
              "2015                                   606\n",
              "2016                                   502"
            ]
          },
          "execution_count": 53,
          "metadata": {},
          "output_type": "execute_result"
        }
      ],
      "source": [
        "grouped_by_years"
      ]
    },
    {
      "cell_type": "markdown",
      "metadata": {
        "id": "iJeonNoDUhxp"
      },
      "source": [
        "- На основе данных о количестве выпущенных игр был отобран актуальный датасет - с 2012 по 2016 год, для пронозирования , поскольку он отражает снижение количества игр после его пика"
      ]
    },
    {
      "cell_type": "markdown",
      "metadata": {
        "id": "jlos46cpUhxp"
      },
      "source": [
        "- Также были определены топ пять игр по продажам"
      ]
    },
    {
      "cell_type": "code",
      "execution_count": null,
      "metadata": {
        "id": "iaRfpLwNUhxp",
        "outputId": "3b6ba9a1-9d28-4be7-858f-e53378dd299d"
      },
      "outputs": [
        {
          "data": {
            "text/html": [
              "<div>\n",
              "<style scoped>\n",
              "    .dataframe tbody tr th:only-of-type {\n",
              "        vertical-align: middle;\n",
              "    }\n",
              "\n",
              "    .dataframe tbody tr th {\n",
              "        vertical-align: top;\n",
              "    }\n",
              "\n",
              "    .dataframe thead th {\n",
              "        text-align: right;\n",
              "    }\n",
              "</style>\n",
              "<table border=\"1\" class=\"dataframe\">\n",
              "  <thead>\n",
              "    <tr style=\"text-align: right;\">\n",
              "      <th></th>\n",
              "      <th>platform</th>\n",
              "      <th>total_sales</th>\n",
              "    </tr>\n",
              "  </thead>\n",
              "  <tbody>\n",
              "    <tr>\n",
              "      <th>0</th>\n",
              "      <td>PS2</td>\n",
              "      <td>1255.77</td>\n",
              "    </tr>\n",
              "    <tr>\n",
              "      <th>1</th>\n",
              "      <td>X360</td>\n",
              "      <td>971.42</td>\n",
              "    </tr>\n",
              "    <tr>\n",
              "      <th>2</th>\n",
              "      <td>PS3</td>\n",
              "      <td>939.65</td>\n",
              "    </tr>\n",
              "    <tr>\n",
              "      <th>3</th>\n",
              "      <td>Wii</td>\n",
              "      <td>907.51</td>\n",
              "    </tr>\n",
              "    <tr>\n",
              "      <th>4</th>\n",
              "      <td>DS</td>\n",
              "      <td>806.12</td>\n",
              "    </tr>\n",
              "    <tr>\n",
              "      <th>5</th>\n",
              "      <td>PS</td>\n",
              "      <td>730.86</td>\n",
              "    </tr>\n",
              "  </tbody>\n",
              "</table>\n",
              "</div>"
            ],
            "text/plain": [
              "  platform  total_sales\n",
              "0      PS2      1255.77\n",
              "1     X360       971.42\n",
              "2      PS3       939.65\n",
              "3      Wii       907.51\n",
              "4       DS       806.12\n",
              "5       PS       730.86"
            ]
          },
          "execution_count": 54,
          "metadata": {},
          "output_type": "execute_result"
        }
      ],
      "source": [
        "top_platforms"
      ]
    },
    {
      "cell_type": "markdown",
      "metadata": {
        "id": "s-PzyT5WUhxp"
      },
      "source": [
        "- Платформы живут примерно 10-12 лет, а пик их продаж приходится на 4-6 года, после чего продажи начинают падать"
      ]
    },
    {
      "cell_type": "markdown",
      "metadata": {
        "id": "tY6iK4QDUhxq"
      },
      "source": [
        "- Прибыльными платформами являются ps4, xone, 3ds."
      ]
    },
    {
      "cell_type": "markdown",
      "metadata": {
        "id": "frUW4D22Uhxq"
      },
      "source": [
        "- Рассмотрев диаграммы рассеивания и корреляцию платформ, не было выявлено прямой зависимости между отзывами и продажами"
      ]
    },
    {
      "cell_type": "markdown",
      "metadata": {
        "id": "W6s0AdzIUhxq"
      },
      "source": [
        "- Самым популярным жанром является Action"
      ]
    },
    {
      "cell_type": "code",
      "execution_count": null,
      "metadata": {
        "id": "RyMPa21VUhxq",
        "outputId": "f0676d60-b81c-4c52-852d-dd037a54de12"
      },
      "outputs": [
        {
          "data": {
            "text/html": [
              "<div>\n",
              "<style scoped>\n",
              "    .dataframe tbody tr th:only-of-type {\n",
              "        vertical-align: middle;\n",
              "    }\n",
              "\n",
              "    .dataframe tbody tr th {\n",
              "        vertical-align: top;\n",
              "    }\n",
              "\n",
              "    .dataframe thead th {\n",
              "        text-align: right;\n",
              "    }\n",
              "</style>\n",
              "<table border=\"1\" class=\"dataframe\">\n",
              "  <thead>\n",
              "    <tr style=\"text-align: right;\">\n",
              "      <th></th>\n",
              "      <th>genre</th>\n",
              "      <th>name</th>\n",
              "    </tr>\n",
              "  </thead>\n",
              "  <tbody>\n",
              "    <tr>\n",
              "      <th>0</th>\n",
              "      <td>Action</td>\n",
              "      <td>766</td>\n",
              "    </tr>\n",
              "    <tr>\n",
              "      <th>1</th>\n",
              "      <td>Adventure</td>\n",
              "      <td>245</td>\n",
              "    </tr>\n",
              "    <tr>\n",
              "      <th>2</th>\n",
              "      <td>Fighting</td>\n",
              "      <td>80</td>\n",
              "    </tr>\n",
              "    <tr>\n",
              "      <th>3</th>\n",
              "      <td>Misc</td>\n",
              "      <td>155</td>\n",
              "    </tr>\n",
              "    <tr>\n",
              "      <th>4</th>\n",
              "      <td>Platform</td>\n",
              "      <td>74</td>\n",
              "    </tr>\n",
              "    <tr>\n",
              "      <th>5</th>\n",
              "      <td>Puzzle</td>\n",
              "      <td>17</td>\n",
              "    </tr>\n",
              "    <tr>\n",
              "      <th>6</th>\n",
              "      <td>Racing</td>\n",
              "      <td>85</td>\n",
              "    </tr>\n",
              "    <tr>\n",
              "      <th>7</th>\n",
              "      <td>Role-Playing</td>\n",
              "      <td>292</td>\n",
              "    </tr>\n",
              "    <tr>\n",
              "      <th>8</th>\n",
              "      <td>Shooter</td>\n",
              "      <td>187</td>\n",
              "    </tr>\n",
              "    <tr>\n",
              "      <th>9</th>\n",
              "      <td>Simulation</td>\n",
              "      <td>62</td>\n",
              "    </tr>\n",
              "    <tr>\n",
              "      <th>10</th>\n",
              "      <td>Sports</td>\n",
              "      <td>214</td>\n",
              "    </tr>\n",
              "    <tr>\n",
              "      <th>11</th>\n",
              "      <td>Strategy</td>\n",
              "      <td>56</td>\n",
              "    </tr>\n",
              "  </tbody>\n",
              "</table>\n",
              "</div>"
            ],
            "text/plain": [
              "           genre  name\n",
              "0         Action   766\n",
              "1      Adventure   245\n",
              "2       Fighting    80\n",
              "3           Misc   155\n",
              "4       Platform    74\n",
              "5         Puzzle    17\n",
              "6         Racing    85\n",
              "7   Role-Playing   292\n",
              "8        Shooter   187\n",
              "9     Simulation    62\n",
              "10        Sports   214\n",
              "11      Strategy    56"
            ]
          },
          "execution_count": 55,
          "metadata": {},
          "output_type": "execute_result"
        }
      ],
      "source": [
        "genre"
      ]
    },
    {
      "cell_type": "markdown",
      "metadata": {
        "id": "opSXZCxiUhxq"
      },
      "source": [
        "**Шаг 4. Портрет пользователя каждого региона**"
      ]
    },
    {
      "cell_type": "markdown",
      "metadata": {
        "id": "Mg3k435KUhxq"
      },
      "source": [
        "- У пользователей из Европы и Северной Америки похожие предпочтения, в Японии больше любят жанр игр Role-Playing"
      ]
    },
    {
      "cell_type": "markdown",
      "metadata": {
        "id": "Apc5b22DUhxq"
      },
      "source": [
        "**Шаг 5. Проверка гипотез**"
      ]
    },
    {
      "cell_type": "markdown",
      "metadata": {
        "id": "NzW77s0bUhxq"
      },
      "source": [
        "- Пользовательский рейтинг Xbox One и PC одинаков\n",
        "- Средние пользовательские рейтинги жанров Action и Sports различаются"
      ]
    },
    {
      "cell_type": "markdown",
      "metadata": {
        "id": "WTaXTp6hUhxr"
      },
      "source": [
        "**Рекомендация магазину видеоигр**"
      ]
    },
    {
      "cell_type": "markdown",
      "metadata": {
        "id": "kdI1zUg8Uhxr"
      },
      "source": [
        "- Необходимо сосредоточится на потенциально прибыльных платформах ps4, xone, 3ds и PC. Более того, если рассматривать жанры игр, то рекомендуется делать упор на игры в жанре Action, Role-Playing и Shooter"
      ]
    }
  ],
  "metadata": {
    "ExecuteTimeLog": [
      {
        "duration": 460,
        "start_time": "2022-12-18T10:26:48.950Z"
      },
      {
        "duration": 142,
        "start_time": "2022-12-18T10:27:19.929Z"
      },
      {
        "duration": 28,
        "start_time": "2022-12-18T10:27:27.732Z"
      },
      {
        "duration": 33,
        "start_time": "2022-12-18T10:27:39.201Z"
      },
      {
        "duration": 5,
        "start_time": "2022-12-18T10:30:13.303Z"
      },
      {
        "duration": 58,
        "start_time": "2022-12-18T10:35:17.007Z"
      },
      {
        "duration": 40,
        "start_time": "2022-12-18T10:39:11.586Z"
      },
      {
        "duration": 4,
        "start_time": "2022-12-18T10:43:58.420Z"
      },
      {
        "duration": 19,
        "start_time": "2022-12-18T10:44:08.161Z"
      },
      {
        "duration": 94,
        "start_time": "2022-12-18T10:46:51.090Z"
      },
      {
        "duration": 3,
        "start_time": "2022-12-18T10:47:21.055Z"
      },
      {
        "duration": 12,
        "start_time": "2022-12-18T10:47:24.668Z"
      },
      {
        "duration": 18,
        "start_time": "2022-12-18T10:55:24.541Z"
      },
      {
        "duration": 6,
        "start_time": "2022-12-18T10:57:59.393Z"
      },
      {
        "duration": 20,
        "start_time": "2022-12-18T10:58:05.771Z"
      },
      {
        "duration": 1081,
        "start_time": "2022-12-18T10:58:54.075Z"
      },
      {
        "duration": 28,
        "start_time": "2022-12-18T10:59:16.020Z"
      },
      {
        "duration": 1121,
        "start_time": "2022-12-20T19:20:58.921Z"
      },
      {
        "duration": 52,
        "start_time": "2022-12-20T19:21:00.044Z"
      },
      {
        "duration": 15,
        "start_time": "2022-12-20T19:21:00.097Z"
      },
      {
        "duration": 59,
        "start_time": "2022-12-20T19:21:00.114Z"
      },
      {
        "duration": 28,
        "start_time": "2022-12-20T19:21:00.175Z"
      },
      {
        "duration": 8,
        "start_time": "2022-12-20T19:21:00.205Z"
      },
      {
        "duration": 14,
        "start_time": "2022-12-20T19:21:00.240Z"
      },
      {
        "duration": 3,
        "start_time": "2022-12-20T19:21:01.263Z"
      },
      {
        "duration": 13,
        "start_time": "2022-12-20T19:21:01.599Z"
      },
      {
        "duration": 4,
        "start_time": "2022-12-20T19:21:01.951Z"
      },
      {
        "duration": 5,
        "start_time": "2022-12-20T19:21:02.111Z"
      },
      {
        "duration": 6,
        "start_time": "2022-12-20T19:21:02.631Z"
      },
      {
        "duration": 6,
        "start_time": "2022-12-20T19:21:02.983Z"
      },
      {
        "duration": 5,
        "start_time": "2022-12-20T19:21:03.567Z"
      },
      {
        "duration": 12,
        "start_time": "2022-12-20T19:21:04.407Z"
      },
      {
        "duration": 7,
        "start_time": "2022-12-20T19:21:04.776Z"
      },
      {
        "duration": 25,
        "start_time": "2022-12-20T19:21:05.320Z"
      },
      {
        "duration": 30,
        "start_time": "2022-12-20T19:21:10.465Z"
      },
      {
        "duration": 1127,
        "start_time": "2022-12-20T19:29:40.097Z"
      },
      {
        "duration": 50,
        "start_time": "2022-12-20T19:29:41.226Z"
      },
      {
        "duration": 16,
        "start_time": "2022-12-20T19:29:41.278Z"
      },
      {
        "duration": 27,
        "start_time": "2022-12-20T19:29:41.296Z"
      },
      {
        "duration": 48,
        "start_time": "2022-12-20T19:29:41.325Z"
      },
      {
        "duration": 8,
        "start_time": "2022-12-20T19:29:41.375Z"
      },
      {
        "duration": 26,
        "start_time": "2022-12-20T19:29:41.384Z"
      },
      {
        "duration": 4,
        "start_time": "2022-12-20T19:29:41.411Z"
      },
      {
        "duration": 38,
        "start_time": "2022-12-20T19:29:41.416Z"
      },
      {
        "duration": 4,
        "start_time": "2022-12-20T19:29:41.457Z"
      },
      {
        "duration": 9,
        "start_time": "2022-12-20T19:29:41.463Z"
      },
      {
        "duration": 7,
        "start_time": "2022-12-20T19:29:41.474Z"
      },
      {
        "duration": 10,
        "start_time": "2022-12-20T19:29:41.483Z"
      },
      {
        "duration": 7,
        "start_time": "2022-12-20T19:29:41.495Z"
      },
      {
        "duration": 15,
        "start_time": "2022-12-20T19:29:41.504Z"
      },
      {
        "duration": 5,
        "start_time": "2022-12-20T19:29:41.521Z"
      },
      {
        "duration": 42,
        "start_time": "2022-12-20T19:29:41.528Z"
      },
      {
        "duration": 204,
        "start_time": "2022-12-20T19:29:41.572Z"
      },
      {
        "duration": 18,
        "start_time": "2022-12-20T19:29:41.778Z"
      },
      {
        "duration": 291,
        "start_time": "2022-12-20T19:29:41.798Z"
      },
      {
        "duration": 16,
        "start_time": "2022-12-20T19:29:42.090Z"
      },
      {
        "duration": 4,
        "start_time": "2022-12-20T19:29:42.108Z"
      },
      {
        "duration": 1222,
        "start_time": "2022-12-20T19:29:42.114Z"
      },
      {
        "duration": 30,
        "start_time": "2022-12-20T19:29:43.338Z"
      },
      {
        "duration": 201,
        "start_time": "2022-12-20T19:29:43.370Z"
      },
      {
        "duration": 450,
        "start_time": "2022-12-20T19:29:43.573Z"
      },
      {
        "duration": 291,
        "start_time": "2022-12-20T19:29:44.024Z"
      },
      {
        "duration": 7,
        "start_time": "2022-12-20T19:29:44.319Z"
      },
      {
        "duration": 176,
        "start_time": "2022-12-20T19:29:44.327Z"
      },
      {
        "duration": 5,
        "start_time": "2022-12-20T19:29:44.505Z"
      },
      {
        "duration": 181,
        "start_time": "2022-12-20T19:29:44.511Z"
      },
      {
        "duration": 5,
        "start_time": "2022-12-20T19:29:44.694Z"
      },
      {
        "duration": 11,
        "start_time": "2022-12-20T19:29:44.701Z"
      },
      {
        "duration": 9,
        "start_time": "2022-12-20T19:29:44.714Z"
      },
      {
        "duration": 32,
        "start_time": "2022-12-20T19:29:44.725Z"
      },
      {
        "duration": 15,
        "start_time": "2022-12-20T19:29:44.758Z"
      },
      {
        "duration": 309,
        "start_time": "2022-12-20T19:29:44.775Z"
      },
      {
        "duration": 138,
        "start_time": "2022-12-20T19:29:45.086Z"
      },
      {
        "duration": 146,
        "start_time": "2022-12-20T19:29:45.225Z"
      },
      {
        "duration": 141,
        "start_time": "2022-12-20T19:29:45.373Z"
      },
      {
        "duration": 141,
        "start_time": "2022-12-20T19:29:45.516Z"
      },
      {
        "duration": 217,
        "start_time": "2022-12-20T19:29:45.659Z"
      },
      {
        "duration": 128,
        "start_time": "2022-12-20T19:29:45.877Z"
      },
      {
        "duration": 142,
        "start_time": "2022-12-20T19:29:46.007Z"
      },
      {
        "duration": 131,
        "start_time": "2022-12-20T19:29:46.152Z"
      },
      {
        "duration": 140,
        "start_time": "2022-12-20T19:29:46.284Z"
      },
      {
        "duration": 2,
        "start_time": "2022-12-20T19:29:46.426Z"
      },
      {
        "duration": 30,
        "start_time": "2022-12-20T19:29:46.430Z"
      },
      {
        "duration": 44,
        "start_time": "2022-12-20T19:29:46.462Z"
      },
      {
        "duration": 60,
        "start_time": "2022-12-20T19:29:46.507Z"
      },
      {
        "duration": 26,
        "start_time": "2022-12-20T19:29:46.568Z"
      },
      {
        "duration": 48,
        "start_time": "2022-12-20T19:29:46.595Z"
      },
      {
        "duration": 1286,
        "start_time": "2022-12-21T20:29:32.321Z"
      },
      {
        "duration": 181,
        "start_time": "2022-12-21T20:29:33.609Z"
      },
      {
        "duration": 14,
        "start_time": "2022-12-21T20:29:33.791Z"
      },
      {
        "duration": 28,
        "start_time": "2022-12-21T20:29:33.807Z"
      },
      {
        "duration": 36,
        "start_time": "2022-12-21T20:29:33.837Z"
      },
      {
        "duration": 9,
        "start_time": "2022-12-21T20:29:33.966Z"
      },
      {
        "duration": 15,
        "start_time": "2022-12-21T20:29:34.627Z"
      },
      {
        "duration": 3,
        "start_time": "2022-12-21T20:29:37.428Z"
      },
      {
        "duration": 14,
        "start_time": "2022-12-21T20:29:38.442Z"
      },
      {
        "duration": 4,
        "start_time": "2022-12-21T20:29:39.353Z"
      },
      {
        "duration": 4,
        "start_time": "2022-12-21T20:29:39.740Z"
      },
      {
        "duration": 6,
        "start_time": "2022-12-21T20:29:41.204Z"
      },
      {
        "duration": 9,
        "start_time": "2022-12-21T20:29:42.353Z"
      },
      {
        "duration": 4,
        "start_time": "2022-12-21T20:29:43.410Z"
      },
      {
        "duration": 11,
        "start_time": "2022-12-21T20:29:45.604Z"
      },
      {
        "duration": 3,
        "start_time": "2022-12-21T20:29:46.692Z"
      },
      {
        "duration": 8,
        "start_time": "2022-12-21T20:30:09.851Z"
      },
      {
        "duration": 5,
        "start_time": "2022-12-21T20:30:22.562Z"
      },
      {
        "duration": 27,
        "start_time": "2022-12-21T20:30:26.540Z"
      },
      {
        "duration": 67,
        "start_time": "2022-12-21T20:33:04.830Z"
      },
      {
        "duration": 66,
        "start_time": "2022-12-21T20:37:47.598Z"
      },
      {
        "duration": 94,
        "start_time": "2022-12-21T20:45:21.438Z"
      },
      {
        "duration": 93,
        "start_time": "2022-12-21T20:45:35.017Z"
      },
      {
        "duration": 184,
        "start_time": "2022-12-21T20:45:43.093Z"
      },
      {
        "duration": 15,
        "start_time": "2022-12-21T20:45:43.680Z"
      },
      {
        "duration": 251,
        "start_time": "2022-12-21T20:45:44.758Z"
      },
      {
        "duration": 16,
        "start_time": "2022-12-21T20:45:45.181Z"
      },
      {
        "duration": 4,
        "start_time": "2022-12-21T20:45:45.675Z"
      },
      {
        "duration": 1066,
        "start_time": "2022-12-21T20:45:45.916Z"
      },
      {
        "duration": 23,
        "start_time": "2022-12-21T20:45:47.297Z"
      },
      {
        "duration": 175,
        "start_time": "2022-12-21T20:45:48.034Z"
      },
      {
        "duration": 416,
        "start_time": "2022-12-21T20:45:48.321Z"
      },
      {
        "duration": 77,
        "start_time": "2022-12-21T20:45:49.609Z"
      },
      {
        "duration": 72,
        "start_time": "2022-12-21T20:45:52.125Z"
      },
      {
        "duration": 262,
        "start_time": "2022-12-21T20:45:53.284Z"
      },
      {
        "duration": 288,
        "start_time": "2022-12-21T20:46:28.525Z"
      },
      {
        "duration": 273,
        "start_time": "2022-12-21T20:53:37.603Z"
      },
      {
        "duration": 260,
        "start_time": "2022-12-21T20:53:43.341Z"
      },
      {
        "duration": 268,
        "start_time": "2022-12-21T20:53:51.146Z"
      },
      {
        "duration": 77,
        "start_time": "2022-12-21T20:54:16.258Z"
      },
      {
        "duration": 385,
        "start_time": "2022-12-21T20:54:35.662Z"
      },
      {
        "duration": 285,
        "start_time": "2022-12-21T20:54:50.770Z"
      },
      {
        "duration": 315,
        "start_time": "2022-12-21T20:55:03.150Z"
      },
      {
        "duration": 72,
        "start_time": "2022-12-21T21:00:58.250Z"
      },
      {
        "duration": 85,
        "start_time": "2022-12-21T21:01:52.617Z"
      },
      {
        "duration": 100,
        "start_time": "2022-12-21T21:03:34.595Z"
      },
      {
        "duration": 29,
        "start_time": "2022-12-21T21:03:55.708Z"
      },
      {
        "duration": 79,
        "start_time": "2022-12-21T21:11:31.034Z"
      },
      {
        "duration": 74,
        "start_time": "2022-12-21T21:17:59.800Z"
      },
      {
        "duration": 1245,
        "start_time": "2022-12-22T07:05:21.476Z"
      },
      {
        "duration": 194,
        "start_time": "2022-12-22T07:05:22.723Z"
      },
      {
        "duration": 16,
        "start_time": "2022-12-22T07:05:22.919Z"
      },
      {
        "duration": 106,
        "start_time": "2022-12-22T07:05:22.937Z"
      },
      {
        "duration": 32,
        "start_time": "2022-12-22T07:05:23.045Z"
      },
      {
        "duration": 11,
        "start_time": "2022-12-22T07:05:23.079Z"
      },
      {
        "duration": 27,
        "start_time": "2022-12-22T07:05:23.092Z"
      },
      {
        "duration": 4,
        "start_time": "2022-12-22T07:05:23.121Z"
      },
      {
        "duration": 21,
        "start_time": "2022-12-22T07:05:23.126Z"
      },
      {
        "duration": 5,
        "start_time": "2022-12-22T07:05:23.151Z"
      },
      {
        "duration": 6,
        "start_time": "2022-12-22T07:05:23.157Z"
      },
      {
        "duration": 7,
        "start_time": "2022-12-22T07:05:23.165Z"
      },
      {
        "duration": 35,
        "start_time": "2022-12-22T07:05:23.173Z"
      },
      {
        "duration": 5,
        "start_time": "2022-12-22T07:05:23.210Z"
      },
      {
        "duration": 18,
        "start_time": "2022-12-22T07:05:23.217Z"
      },
      {
        "duration": 3,
        "start_time": "2022-12-22T07:05:23.237Z"
      },
      {
        "duration": 12,
        "start_time": "2022-12-22T07:05:23.241Z"
      },
      {
        "duration": 27,
        "start_time": "2022-12-22T07:05:23.255Z"
      },
      {
        "duration": 216,
        "start_time": "2022-12-22T07:05:23.305Z"
      },
      {
        "duration": 17,
        "start_time": "2022-12-22T07:05:23.523Z"
      },
      {
        "duration": 306,
        "start_time": "2022-12-22T07:05:23.541Z"
      },
      {
        "duration": 16,
        "start_time": "2022-12-22T07:05:23.849Z"
      },
      {
        "duration": 4,
        "start_time": "2022-12-22T07:05:23.867Z"
      },
      {
        "duration": 1283,
        "start_time": "2022-12-22T07:05:23.873Z"
      },
      {
        "duration": 22,
        "start_time": "2022-12-22T07:05:25.158Z"
      },
      {
        "duration": 225,
        "start_time": "2022-12-22T07:05:25.182Z"
      },
      {
        "duration": 453,
        "start_time": "2022-12-22T07:05:25.409Z"
      },
      {
        "duration": 353,
        "start_time": "2022-12-22T07:05:25.866Z"
      },
      {
        "duration": 340,
        "start_time": "2022-12-22T07:05:26.221Z"
      },
      {
        "duration": 8,
        "start_time": "2022-12-22T07:05:26.563Z"
      },
      {
        "duration": 209,
        "start_time": "2022-12-22T07:05:26.574Z"
      },
      {
        "duration": 8,
        "start_time": "2022-12-22T07:05:26.785Z"
      },
      {
        "duration": 183,
        "start_time": "2022-12-22T07:05:26.804Z"
      },
      {
        "duration": 5,
        "start_time": "2022-12-22T07:05:26.989Z"
      },
      {
        "duration": 10,
        "start_time": "2022-12-22T07:05:27.004Z"
      },
      {
        "duration": 10,
        "start_time": "2022-12-22T07:05:27.016Z"
      },
      {
        "duration": 11,
        "start_time": "2022-12-22T07:05:27.028Z"
      },
      {
        "duration": 13,
        "start_time": "2022-12-22T07:05:27.041Z"
      },
      {
        "duration": 365,
        "start_time": "2022-12-22T07:05:27.056Z"
      },
      {
        "duration": 170,
        "start_time": "2022-12-22T07:05:27.423Z"
      },
      {
        "duration": 175,
        "start_time": "2022-12-22T07:05:27.595Z"
      },
      {
        "duration": 276,
        "start_time": "2022-12-22T07:05:27.772Z"
      },
      {
        "duration": 165,
        "start_time": "2022-12-22T07:05:28.050Z"
      },
      {
        "duration": 173,
        "start_time": "2022-12-22T07:05:28.218Z"
      },
      {
        "duration": 159,
        "start_time": "2022-12-22T07:05:28.393Z"
      },
      {
        "duration": 185,
        "start_time": "2022-12-22T07:05:28.554Z"
      },
      {
        "duration": 191,
        "start_time": "2022-12-22T07:05:28.742Z"
      },
      {
        "duration": 154,
        "start_time": "2022-12-22T07:05:28.935Z"
      },
      {
        "duration": 5,
        "start_time": "2022-12-22T07:05:29.091Z"
      },
      {
        "duration": 16,
        "start_time": "2022-12-22T07:05:29.097Z"
      },
      {
        "duration": 9,
        "start_time": "2022-12-22T07:05:29.115Z"
      },
      {
        "duration": 25,
        "start_time": "2022-12-22T07:05:29.126Z"
      },
      {
        "duration": 9,
        "start_time": "2022-12-22T07:05:29.152Z"
      },
      {
        "duration": 9,
        "start_time": "2022-12-22T07:05:29.163Z"
      },
      {
        "duration": 34,
        "start_time": "2022-12-22T07:05:29.174Z"
      },
      {
        "duration": 324,
        "start_time": "2022-12-22T07:05:34.953Z"
      },
      {
        "duration": 648,
        "start_time": "2022-12-22T07:05:38.258Z"
      }
    ],
    "kernelspec": {
      "display_name": "Python 3 (ipykernel)",
      "language": "python",
      "name": "python3"
    },
    "language_info": {
      "codemirror_mode": {
        "name": "ipython",
        "version": 3
      },
      "file_extension": ".py",
      "mimetype": "text/x-python",
      "name": "python",
      "nbconvert_exporter": "python",
      "pygments_lexer": "ipython3",
      "version": "3.9.5"
    },
    "toc": {
      "base_numbering": 1,
      "nav_menu": {},
      "number_sections": true,
      "sideBar": true,
      "skip_h1_title": true,
      "title_cell": "Table of Contents",
      "title_sidebar": "Contents",
      "toc_cell": false,
      "toc_position": {},
      "toc_section_display": true,
      "toc_window_display": false
    },
    "colab": {
      "provenance": []
    }
  },
  "nbformat": 4,
  "nbformat_minor": 0
}