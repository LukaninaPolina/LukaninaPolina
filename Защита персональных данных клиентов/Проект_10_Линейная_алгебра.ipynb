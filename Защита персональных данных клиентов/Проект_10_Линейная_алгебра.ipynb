{
  "cells": [
    {
      "cell_type": "markdown",
      "metadata": {
        "toc": true,
        "id": "sB_1Kgp4Z1C5"
      },
      "source": [
        "<h1>Содержание<span class=\"tocSkip\"></span></h1>\n",
        "<div class=\"toc\"><ul class=\"toc-item\"><li><span><a href=\"#Загрузка-данных\" data-toc-modified-id=\"Загрузка-данных-1\"><span class=\"toc-item-num\">1&nbsp;&nbsp;</span>Загрузка данных</a></span></li><li><span><a href=\"#Умножение-матриц\" data-toc-modified-id=\"Умножение-матриц-2\"><span class=\"toc-item-num\">2&nbsp;&nbsp;</span>Умножение матриц</a></span></li><li><span><a href=\"#Алгоритм-преобразования\" data-toc-modified-id=\"Алгоритм-преобразования-3\"><span class=\"toc-item-num\">3&nbsp;&nbsp;</span>Алгоритм преобразования</a></span></li><li><span><a href=\"#Проверка-алгоритма\" data-toc-modified-id=\"Проверка-алгоритма-4\"><span class=\"toc-item-num\">4&nbsp;&nbsp;</span>Проверка алгоритма</a></span></li><li><span><a href=\"#Чек-лист-проверки\" data-toc-modified-id=\"Чек-лист-проверки-5\"><span class=\"toc-item-num\">5&nbsp;&nbsp;</span>Чек-лист проверки</a></span></li></ul></div>"
      ]
    },
    {
      "cell_type": "markdown",
      "metadata": {
        "id": "1vn7opZHZ1C5"
      },
      "source": [
        "# Защита персональных данных клиентов"
      ]
    },
    {
      "cell_type": "markdown",
      "metadata": {
        "id": "Z9UD00rnZ1C6"
      },
      "source": [
        "Вам нужно защитить данные клиентов страховой компании «Хоть потоп». Разработайте такой метод преобразования данных, чтобы по ним было сложно восстановить персональную информацию. Обоснуйте корректность его работы.\n",
        "\n",
        "Нужно защитить данные, чтобы при преобразовании качество моделей машинного обучения не ухудшилось. Подбирать наилучшую модель не требуется."
      ]
    },
    {
      "cell_type": "markdown",
      "metadata": {
        "id": "MQHmYXnHZ1C6"
      },
      "source": [
        "## Загрузка данных"
      ]
    },
    {
      "cell_type": "code",
      "execution_count": null,
      "metadata": {
        "id": "TCKZoqLQZ1C6"
      },
      "outputs": [],
      "source": [
        "import pandas as pd\n",
        "from sklearn.model_selection import train_test_split\n",
        "from sklearn.linear_model import LinearRegression\n",
        "from sklearn.metrics import r2_score\n",
        "import numpy as np"
      ]
    },
    {
      "cell_type": "code",
      "execution_count": null,
      "metadata": {
        "id": "9vlsyWZpZ1C7"
      },
      "outputs": [],
      "source": [
        "data = pd.read_csv('/datasets/insurance.csv')"
      ]
    },
    {
      "cell_type": "code",
      "execution_count": null,
      "metadata": {
        "id": "L65dLHrrZ1C7",
        "outputId": "3cf92579-2071-4200-b98f-e94160662400"
      },
      "outputs": [
        {
          "name": "stdout",
          "output_type": "stream",
          "text": [
            "<class 'pandas.core.frame.DataFrame'>\n",
            "RangeIndex: 5000 entries, 0 to 4999\n",
            "Data columns (total 5 columns):\n",
            " #   Column             Non-Null Count  Dtype  \n",
            "---  ------             --------------  -----  \n",
            " 0   Пол                5000 non-null   int64  \n",
            " 1   Возраст            5000 non-null   float64\n",
            " 2   Зарплата           5000 non-null   float64\n",
            " 3   Члены семьи        5000 non-null   int64  \n",
            " 4   Страховые выплаты  5000 non-null   int64  \n",
            "dtypes: float64(2), int64(3)\n",
            "memory usage: 195.4 KB\n"
          ]
        },
        {
          "data": {
            "text/plain": [
              "(Пол                  0\n",
              " Возраст              0\n",
              " Зарплата             0\n",
              " Члены семьи          0\n",
              " Страховые выплаты    0\n",
              " dtype: int64,\n",
              " None)"
            ]
          },
          "execution_count": 3,
          "metadata": {},
          "output_type": "execute_result"
        }
      ],
      "source": [
        "data.isna().sum(), data.info()"
      ]
    },
    {
      "cell_type": "code",
      "execution_count": null,
      "metadata": {
        "scrolled": true,
        "id": "LiGoPAbAZ1C7",
        "outputId": "8997f6ba-a396-4c2e-bcd8-5765204a08fe"
      },
      "outputs": [
        {
          "data": {
            "text/html": [
              "<div>\n",
              "<style scoped>\n",
              "    .dataframe tbody tr th:only-of-type {\n",
              "        vertical-align: middle;\n",
              "    }\n",
              "\n",
              "    .dataframe tbody tr th {\n",
              "        vertical-align: top;\n",
              "    }\n",
              "\n",
              "    .dataframe thead th {\n",
              "        text-align: right;\n",
              "    }\n",
              "</style>\n",
              "<table border=\"1\" class=\"dataframe\">\n",
              "  <thead>\n",
              "    <tr style=\"text-align: right;\">\n",
              "      <th></th>\n",
              "      <th>Пол</th>\n",
              "      <th>Возраст</th>\n",
              "      <th>Зарплата</th>\n",
              "      <th>Члены семьи</th>\n",
              "      <th>Страховые выплаты</th>\n",
              "    </tr>\n",
              "  </thead>\n",
              "  <tbody>\n",
              "    <tr>\n",
              "      <th>0</th>\n",
              "      <td>1</td>\n",
              "      <td>41.0</td>\n",
              "      <td>49600.0</td>\n",
              "      <td>1</td>\n",
              "      <td>0</td>\n",
              "    </tr>\n",
              "    <tr>\n",
              "      <th>1</th>\n",
              "      <td>0</td>\n",
              "      <td>46.0</td>\n",
              "      <td>38000.0</td>\n",
              "      <td>1</td>\n",
              "      <td>1</td>\n",
              "    </tr>\n",
              "    <tr>\n",
              "      <th>2</th>\n",
              "      <td>0</td>\n",
              "      <td>29.0</td>\n",
              "      <td>21000.0</td>\n",
              "      <td>0</td>\n",
              "      <td>0</td>\n",
              "    </tr>\n",
              "    <tr>\n",
              "      <th>3</th>\n",
              "      <td>0</td>\n",
              "      <td>21.0</td>\n",
              "      <td>41700.0</td>\n",
              "      <td>2</td>\n",
              "      <td>0</td>\n",
              "    </tr>\n",
              "    <tr>\n",
              "      <th>4</th>\n",
              "      <td>1</td>\n",
              "      <td>28.0</td>\n",
              "      <td>26100.0</td>\n",
              "      <td>0</td>\n",
              "      <td>0</td>\n",
              "    </tr>\n",
              "    <tr>\n",
              "      <th>5</th>\n",
              "      <td>1</td>\n",
              "      <td>43.0</td>\n",
              "      <td>41000.0</td>\n",
              "      <td>2</td>\n",
              "      <td>1</td>\n",
              "    </tr>\n",
              "    <tr>\n",
              "      <th>6</th>\n",
              "      <td>1</td>\n",
              "      <td>39.0</td>\n",
              "      <td>39700.0</td>\n",
              "      <td>2</td>\n",
              "      <td>0</td>\n",
              "    </tr>\n",
              "    <tr>\n",
              "      <th>7</th>\n",
              "      <td>1</td>\n",
              "      <td>25.0</td>\n",
              "      <td>38600.0</td>\n",
              "      <td>4</td>\n",
              "      <td>0</td>\n",
              "    </tr>\n",
              "    <tr>\n",
              "      <th>8</th>\n",
              "      <td>1</td>\n",
              "      <td>36.0</td>\n",
              "      <td>49700.0</td>\n",
              "      <td>1</td>\n",
              "      <td>0</td>\n",
              "    </tr>\n",
              "    <tr>\n",
              "      <th>9</th>\n",
              "      <td>1</td>\n",
              "      <td>32.0</td>\n",
              "      <td>51700.0</td>\n",
              "      <td>1</td>\n",
              "      <td>0</td>\n",
              "    </tr>\n",
              "  </tbody>\n",
              "</table>\n",
              "</div>"
            ],
            "text/plain": [
              "   Пол  Возраст  Зарплата  Члены семьи  Страховые выплаты\n",
              "0    1     41.0   49600.0            1                  0\n",
              "1    0     46.0   38000.0            1                  1\n",
              "2    0     29.0   21000.0            0                  0\n",
              "3    0     21.0   41700.0            2                  0\n",
              "4    1     28.0   26100.0            0                  0\n",
              "5    1     43.0   41000.0            2                  1\n",
              "6    1     39.0   39700.0            2                  0\n",
              "7    1     25.0   38600.0            4                  0\n",
              "8    1     36.0   49700.0            1                  0\n",
              "9    1     32.0   51700.0            1                  0"
            ]
          },
          "execution_count": 4,
          "metadata": {},
          "output_type": "execute_result"
        }
      ],
      "source": [
        "data.head(10)"
      ]
    },
    {
      "cell_type": "markdown",
      "metadata": {
        "id": "LeFPn3eoZ1C8"
      },
      "source": [
        "**Вывод**"
      ]
    },
    {
      "cell_type": "markdown",
      "metadata": {
        "id": "wlsh7aGHZ1C8"
      },
      "source": [
        "В результате загрузки данных не обнаружено пропусков и аномалий не обнаружено"
      ]
    },
    {
      "cell_type": "markdown",
      "metadata": {
        "id": "7U8A7Zk9Z1C8"
      },
      "source": [
        "## Умножение матриц"
      ]
    },
    {
      "cell_type": "markdown",
      "metadata": {
        "id": "tCsKDhveZ1C9"
      },
      "source": [
        "В этом задании вы можете записывать формулы в *Jupyter Notebook.*\n",
        "\n",
        "Чтобы записать формулу внутри текста, окружите её символами доллара \\\\$; если снаружи —  двойными символами \\\\$\\\\$. Эти формулы записываются на языке вёрстки *LaTeX.*\n",
        "\n",
        "Для примера мы записали формулы линейной регрессии. Можете их скопировать и отредактировать, чтобы решить задачу.\n",
        "\n",
        "Работать в *LaTeX* необязательно."
      ]
    },
    {
      "cell_type": "markdown",
      "metadata": {
        "id": "fgaxvuhrZ1C9"
      },
      "source": [
        "Обозначения:\n",
        "\n",
        "- $X$ — матрица признаков (нулевой столбец состоит из единиц)\n",
        "\n",
        "- $y$ — вектор целевого признака\n",
        "\n",
        "- $P$ — матрица, на которую умножаются признаки\n",
        "\n",
        "- $w$ — вектор весов линейной регрессии (нулевой элемент равен сдвигу)"
      ]
    },
    {
      "cell_type": "markdown",
      "metadata": {
        "id": "ZdNiQ9dlZ1C9"
      },
      "source": [
        "Предсказания:\n",
        "\n",
        "$$\n",
        "a = Xw\n",
        "$$\n",
        "\n",
        "Задача обучения:\n",
        "\n",
        "$$\n",
        "w = \\arg\\min_w MSE(Xw, y)\n",
        "$$\n",
        "\n",
        "Формула обучения:\n",
        "\n",
        "$$\n",
        "w = (X^T X)^{-1} X^T y\n",
        "$$"
      ]
    },
    {
      "cell_type": "markdown",
      "metadata": {
        "id": "t6SePHQ1Z1C9"
      },
      "source": [
        "**Ответ:** Не изменится\n",
        "\n",
        "**Обоснование:**\n",
        "$$\n",
        "w' = ((XZ)^T XZ)^{-1} (XZ)^T y = (Z^T X^T X Z)^{-1} (XZ)^T y = (Z^T (X^T X) Z)^{-1} Z^T X^T y = ( (Z^T)^{-1} (X^T X)^{-1} Z^{-1})^{-1} Z^T X^T y =  Z^{-1}(X^T X)^{-1} (Z^T)^{-1} Z^T X^T y = (X^T X)^{-1} X^Ty = w\n",
        "$$"
      ]
    },
    {
      "cell_type": "markdown",
      "metadata": {
        "id": "PXPZ4RNTZ1C9"
      },
      "source": [
        "**Вывод**"
      ]
    },
    {
      "cell_type": "markdown",
      "metadata": {
        "id": "Y5_aBtk3Z1C9"
      },
      "source": [
        "Мы видим, что выражения тождественны, поскольку векторы предсказаний a и a1 совпали."
      ]
    },
    {
      "cell_type": "markdown",
      "metadata": {
        "id": "AFYGwkQ2Z1C-"
      },
      "source": [
        "$$\n",
        "a = Xw = XEw = XPP^{-1}w = (XP)P^{-1}w = (XP)w'\n",
        "$$\n",
        "\n",
        "$$\n",
        "w' = ((XP)^T XP)^{-1} (XP)^T y\n",
        "$$\n",
        "$$\n",
        "w' = (P^T (X^T X) P)^{-1} (XP)^T y\n",
        "$$\n",
        "$$\n",
        "....\n",
        "$$"
      ]
    },
    {
      "cell_type": "markdown",
      "metadata": {
        "id": "4gTmz57hZ1C-"
      },
      "source": [
        "## Алгоритм преобразования"
      ]
    },
    {
      "cell_type": "markdown",
      "metadata": {
        "id": "imtRFQ7eZ1C-"
      },
      "source": [
        "**Алгоритм**\n",
        "\n",
        "1) Нам необходимо отделить целевой признак и разбить выборки\n",
        "\n",
        "2) Обучить модель и вычислить коэффициенты\n",
        "\n",
        "3) Далее создадим случаную матрицу и умножим на матрицу с данными features\n",
        "\n",
        "4) Обучить модель и вычислить коэффициенты на новых параметрах\n",
        "\n",
        "5) Сравнить коэффициенты R2"
      ]
    },
    {
      "cell_type": "markdown",
      "metadata": {
        "id": "ClHG6ykiZ1C-"
      },
      "source": [
        "**Обоснование**\n",
        "\n",
        "Веса признаков до и после преобразования будут равны."
      ]
    },
    {
      "cell_type": "markdown",
      "metadata": {
        "id": "IQ77fCfpZ1C-"
      },
      "source": [
        "## Проверка алгоритма"
      ]
    },
    {
      "cell_type": "markdown",
      "metadata": {
        "id": "AxeCNeRaZ1C-"
      },
      "source": [
        "**Расчитаем для исходнях параметров**"
      ]
    },
    {
      "cell_type": "code",
      "execution_count": null,
      "metadata": {
        "id": "U1mPHzdjZ1C-"
      },
      "outputs": [],
      "source": [
        "features = data.drop('Страховые выплаты',axis=1)\n",
        "target = data['Страховые выплаты']"
      ]
    },
    {
      "cell_type": "code",
      "execution_count": null,
      "metadata": {
        "id": "OTLOJvszZ1C_"
      },
      "outputs": [],
      "source": [
        "features_train, features_test, target_train, target_test = train_test_split(features, target,\n",
        "                                                                            test_size=0.4, random_state=12345)"
      ]
    },
    {
      "cell_type": "code",
      "execution_count": null,
      "metadata": {
        "id": "7YRxVsB0Z1C_"
      },
      "outputs": [],
      "source": [
        "model1 = LinearRegression()\n",
        "model1 = model1.fit(features_train, target_train)\n",
        "predictions1 = model1.predict(features_test)"
      ]
    },
    {
      "cell_type": "code",
      "execution_count": null,
      "metadata": {
        "id": "iSoFFt9HZ1C_",
        "outputId": "38b962f7-3751-4eb8-b803-f8a73f7464cd"
      },
      "outputs": [
        {
          "data": {
            "text/plain": [
              "0.42375177725680335"
            ]
          },
          "execution_count": 8,
          "metadata": {},
          "output_type": "execute_result"
        }
      ],
      "source": [
        "r2_score(target_test, predictions1)"
      ]
    },
    {
      "cell_type": "markdown",
      "metadata": {
        "id": "47OBd4-TZ1C_"
      },
      "source": [
        "**Расчитаем для новых параметров**"
      ]
    },
    {
      "cell_type": "code",
      "execution_count": null,
      "metadata": {
        "id": "RYC1bDQzZ1C_"
      },
      "outputs": [],
      "source": [
        "matrix = np.random.rand(4,4)\n",
        "matrix_T = np.linalg.inv(matrix)"
      ]
    },
    {
      "cell_type": "code",
      "execution_count": null,
      "metadata": {
        "id": "W5Z4LnBlZ1DA",
        "outputId": "1a6928c9-d56d-4c54-a27f-c2432374780b"
      },
      "outputs": [
        {
          "data": {
            "text/plain": [
              "array([[ 1.00000000e+00, -1.20531666e-17,  5.35275698e-17,\n",
              "        -3.93026653e-17],\n",
              "       [ 7.25031983e-17,  1.00000000e+00,  6.70310639e-17,\n",
              "         1.68456343e-16],\n",
              "       [ 6.70697518e-17,  1.75326414e-18,  1.00000000e+00,\n",
              "         2.20512079e-16],\n",
              "       [-6.18241037e-17,  1.94834417e-17,  3.67689575e-17,\n",
              "         1.00000000e+00]])"
            ]
          },
          "execution_count": 10,
          "metadata": {},
          "output_type": "execute_result"
        }
      ],
      "source": [
        "matrix @ matrix_T"
      ]
    },
    {
      "cell_type": "code",
      "execution_count": null,
      "metadata": {
        "id": "PlO7f1T9Z1DJ"
      },
      "outputs": [],
      "source": [
        "tests = features.values @ matrix"
      ]
    },
    {
      "cell_type": "code",
      "execution_count": null,
      "metadata": {
        "id": "gFm7CdhnZ1DJ"
      },
      "outputs": [],
      "source": [
        "tests_train, tests_test, target_train, target_test = train_test_split(tests, target,\n",
        "                                                                            test_size=0.4, random_state=12345)"
      ]
    },
    {
      "cell_type": "code",
      "execution_count": null,
      "metadata": {
        "id": "w715e63vZ1DJ"
      },
      "outputs": [],
      "source": [
        "model2 = LinearRegression()\n",
        "model2 = model1.fit(tests_train, target_train)\n",
        "predictions2 = model2.predict(tests_test)"
      ]
    },
    {
      "cell_type": "code",
      "execution_count": null,
      "metadata": {
        "id": "SzvKFX2vZ1DJ",
        "outputId": "8a526c91-03ef-4e42-dca2-63e387704a31"
      },
      "outputs": [
        {
          "data": {
            "text/plain": [
              "0.42375177725680335"
            ]
          },
          "execution_count": 14,
          "metadata": {},
          "output_type": "execute_result"
        }
      ],
      "source": [
        "r2_score(target_test, predictions1)"
      ]
    },
    {
      "cell_type": "code",
      "execution_count": null,
      "metadata": {
        "id": "bI5-Uh44Z1DK"
      },
      "outputs": [],
      "source": [
        "dif = r2_score(target_test, predictions1) - r2_score(target_test, predictions2)"
      ]
    },
    {
      "cell_type": "code",
      "execution_count": null,
      "metadata": {
        "id": "EMnTQ5c0Z1DK",
        "outputId": "c5b5907b-cf63-41cb-c203-0421e79a1409"
      },
      "outputs": [
        {
          "data": {
            "text/plain": [
              "1.6209256159527285e-14"
            ]
          },
          "execution_count": 16,
          "metadata": {},
          "output_type": "execute_result"
        }
      ],
      "source": [
        "dif.sum()"
      ]
    },
    {
      "cell_type": "markdown",
      "metadata": {
        "id": "EBp0xXhqZ1DK"
      },
      "source": [
        "**Итоговый вывод**"
      ]
    },
    {
      "cell_type": "markdown",
      "metadata": {
        "id": "Lai2Fkf6Z1DK"
      },
      "source": [
        "Таким образом, были рассмотрены данные, на которых было доказано , что признаки, умножаемые на обратную матрицу, не изменяют метрики R2.\n",
        "Более того, был составлен алгоритм выполнения для проверки гипотезы, который был доказан на практике."
      ]
    }
  ],
  "metadata": {
    "ExecuteTimeLog": [
      {
        "duration": 1104,
        "start_time": "2023-03-13T15:45:10.905Z"
      },
      {
        "duration": 149,
        "start_time": "2023-03-13T15:45:29.771Z"
      },
      {
        "duration": 24,
        "start_time": "2023-03-13T15:45:59.866Z"
      },
      {
        "duration": 13,
        "start_time": "2023-03-13T15:46:13.060Z"
      },
      {
        "duration": 13,
        "start_time": "2023-03-13T15:46:24.060Z"
      },
      {
        "duration": 10,
        "start_time": "2023-03-13T15:46:27.556Z"
      },
      {
        "duration": 4,
        "start_time": "2023-03-13T16:15:58.313Z"
      },
      {
        "duration": 6,
        "start_time": "2023-03-13T16:16:08.525Z"
      },
      {
        "duration": 4,
        "start_time": "2023-03-13T16:17:35.597Z"
      },
      {
        "duration": 6,
        "start_time": "2023-03-13T16:17:35.974Z"
      },
      {
        "duration": 7,
        "start_time": "2023-03-13T16:17:36.324Z"
      },
      {
        "duration": 5,
        "start_time": "2023-03-13T16:17:36.678Z"
      },
      {
        "duration": 4,
        "start_time": "2023-03-13T16:17:37.636Z"
      },
      {
        "duration": 5,
        "start_time": "2023-03-13T16:17:38.008Z"
      },
      {
        "duration": 3,
        "start_time": "2023-03-13T16:17:38.690Z"
      },
      {
        "duration": 4,
        "start_time": "2023-03-13T16:17:39.088Z"
      },
      {
        "duration": 4,
        "start_time": "2023-03-13T16:17:39.503Z"
      },
      {
        "duration": 5,
        "start_time": "2023-03-13T16:17:40.578Z"
      },
      {
        "duration": 5,
        "start_time": "2023-03-13T16:21:00.020Z"
      },
      {
        "duration": 4,
        "start_time": "2023-03-13T16:21:12.845Z"
      },
      {
        "duration": 43,
        "start_time": "2023-03-13T16:21:36.938Z"
      },
      {
        "duration": 4,
        "start_time": "2023-03-13T16:28:27.237Z"
      },
      {
        "duration": 7,
        "start_time": "2023-03-13T16:28:27.609Z"
      },
      {
        "duration": 11,
        "start_time": "2023-03-13T16:28:27.936Z"
      },
      {
        "duration": 6,
        "start_time": "2023-03-13T16:28:28.284Z"
      },
      {
        "duration": 4,
        "start_time": "2023-03-13T16:28:40.795Z"
      },
      {
        "duration": 5,
        "start_time": "2023-03-13T16:28:45.659Z"
      },
      {
        "duration": 4,
        "start_time": "2023-03-13T16:28:52.468Z"
      },
      {
        "duration": 5,
        "start_time": "2023-03-13T16:28:55.359Z"
      },
      {
        "duration": 5,
        "start_time": "2023-03-13T16:29:07.326Z"
      },
      {
        "duration": 5,
        "start_time": "2023-03-13T16:29:08.269Z"
      },
      {
        "duration": 6,
        "start_time": "2023-03-13T16:29:15.730Z"
      },
      {
        "duration": 4,
        "start_time": "2023-03-13T16:29:16.696Z"
      },
      {
        "duration": 5,
        "start_time": "2023-03-13T16:29:26.510Z"
      },
      {
        "duration": 7,
        "start_time": "2023-03-13T16:29:26.895Z"
      },
      {
        "duration": 8,
        "start_time": "2023-03-13T16:29:27.220Z"
      },
      {
        "duration": 5,
        "start_time": "2023-03-13T16:29:27.582Z"
      },
      {
        "duration": 3,
        "start_time": "2023-03-13T16:29:28.309Z"
      },
      {
        "duration": 5,
        "start_time": "2023-03-13T16:29:28.615Z"
      },
      {
        "duration": 3,
        "start_time": "2023-03-13T16:29:28.953Z"
      },
      {
        "duration": 4,
        "start_time": "2023-03-13T16:29:29.365Z"
      },
      {
        "duration": 5,
        "start_time": "2023-03-13T16:29:29.825Z"
      },
      {
        "duration": 5,
        "start_time": "2023-03-13T16:29:30.564Z"
      },
      {
        "duration": 5,
        "start_time": "2023-03-13T16:29:30.996Z"
      },
      {
        "duration": 4,
        "start_time": "2023-03-13T16:29:31.351Z"
      },
      {
        "duration": 2321,
        "start_time": "2023-03-14T06:54:18.343Z"
      },
      {
        "duration": 108,
        "start_time": "2023-03-14T06:54:20.666Z"
      },
      {
        "duration": 26,
        "start_time": "2023-03-14T06:54:37.527Z"
      },
      {
        "duration": 14,
        "start_time": "2023-03-14T06:54:38.103Z"
      },
      {
        "duration": 4,
        "start_time": "2023-03-14T06:56:55.859Z"
      },
      {
        "duration": 6,
        "start_time": "2023-03-14T06:56:56.514Z"
      },
      {
        "duration": 99,
        "start_time": "2023-03-14T06:56:57.049Z"
      },
      {
        "duration": 13,
        "start_time": "2023-03-14T06:56:57.239Z"
      },
      {
        "duration": 9,
        "start_time": "2023-03-14T06:57:28.821Z"
      },
      {
        "duration": 16,
        "start_time": "2023-03-14T06:57:48.332Z"
      },
      {
        "duration": 9,
        "start_time": "2023-03-14T06:57:49.158Z"
      },
      {
        "duration": 5,
        "start_time": "2023-03-14T06:57:56.510Z"
      },
      {
        "duration": 7,
        "start_time": "2023-03-14T06:58:09.577Z"
      },
      {
        "duration": 2862,
        "start_time": "2023-03-14T06:58:21.899Z"
      },
      {
        "duration": 34,
        "start_time": "2023-03-14T06:58:25.360Z"
      },
      {
        "duration": 26,
        "start_time": "2023-03-14T06:58:25.661Z"
      },
      {
        "duration": 13,
        "start_time": "2023-03-14T06:58:25.804Z"
      },
      {
        "duration": 10,
        "start_time": "2023-03-14T06:58:30.141Z"
      },
      {
        "duration": 6,
        "start_time": "2023-03-14T06:58:30.401Z"
      },
      {
        "duration": 107,
        "start_time": "2023-03-14T06:58:30.724Z"
      },
      {
        "duration": 8,
        "start_time": "2023-03-14T06:58:30.988Z"
      },
      {
        "duration": 7,
        "start_time": "2023-03-14T06:59:09.153Z"
      },
      {
        "duration": 4,
        "start_time": "2023-03-14T06:59:09.629Z"
      },
      {
        "duration": 3,
        "start_time": "2023-03-14T07:00:20.355Z"
      },
      {
        "duration": 4,
        "start_time": "2023-03-14T07:00:20.894Z"
      },
      {
        "duration": 8,
        "start_time": "2023-03-14T07:00:21.340Z"
      },
      {
        "duration": 8,
        "start_time": "2023-03-14T07:00:22.510Z"
      },
      {
        "duration": 8,
        "start_time": "2023-03-14T07:00:23.022Z"
      },
      {
        "duration": 9,
        "start_time": "2023-03-14T07:00:24.509Z"
      },
      {
        "duration": 1091,
        "start_time": "2023-03-14T21:29:23.758Z"
      },
      {
        "duration": 66,
        "start_time": "2023-03-14T21:29:24.851Z"
      },
      {
        "duration": 20,
        "start_time": "2023-03-14T21:29:26.152Z"
      },
      {
        "duration": 12,
        "start_time": "2023-03-14T21:29:26.593Z"
      },
      {
        "duration": 4,
        "start_time": "2023-03-14T21:29:33.471Z"
      },
      {
        "duration": 5,
        "start_time": "2023-03-14T21:29:34.065Z"
      },
      {
        "duration": 97,
        "start_time": "2023-03-14T21:29:34.490Z"
      },
      {
        "duration": 9,
        "start_time": "2023-03-14T21:29:51.712Z"
      },
      {
        "duration": 8,
        "start_time": "2023-03-14T21:30:09.436Z"
      },
      {
        "duration": 5,
        "start_time": "2023-03-14T21:30:17.589Z"
      },
      {
        "duration": 3,
        "start_time": "2023-03-14T21:30:19.020Z"
      },
      {
        "duration": 5,
        "start_time": "2023-03-14T21:30:19.210Z"
      },
      {
        "duration": 3,
        "start_time": "2023-03-14T21:30:20.305Z"
      },
      {
        "duration": 5,
        "start_time": "2023-03-14T21:30:20.529Z"
      },
      {
        "duration": 5,
        "start_time": "2023-03-14T21:30:20.915Z"
      },
      {
        "duration": 5,
        "start_time": "2023-03-14T21:30:22.467Z"
      },
      {
        "duration": 4,
        "start_time": "2023-03-14T21:30:23.493Z"
      },
      {
        "duration": 5,
        "start_time": "2023-03-14T21:30:24.243Z"
      },
      {
        "duration": 67,
        "start_time": "2023-03-14T21:31:08.127Z"
      },
      {
        "duration": 2652,
        "start_time": "2023-03-15T06:25:04.952Z"
      },
      {
        "duration": 28,
        "start_time": "2023-03-15T06:25:07.606Z"
      },
      {
        "duration": 21,
        "start_time": "2023-03-15T06:25:07.636Z"
      },
      {
        "duration": 14,
        "start_time": "2023-03-15T06:25:07.659Z"
      },
      {
        "duration": 4,
        "start_time": "2023-03-15T06:25:11.102Z"
      },
      {
        "duration": 8,
        "start_time": "2023-03-15T06:25:11.276Z"
      },
      {
        "duration": 11,
        "start_time": "2023-03-15T06:25:11.467Z"
      },
      {
        "duration": 5,
        "start_time": "2023-03-15T06:25:12.014Z"
      },
      {
        "duration": 4,
        "start_time": "2023-03-15T06:25:12.752Z"
      },
      {
        "duration": 35,
        "start_time": "2023-03-15T06:25:12.919Z"
      },
      {
        "duration": 3,
        "start_time": "2023-03-15T06:25:13.460Z"
      },
      {
        "duration": 5,
        "start_time": "2023-03-15T06:25:13.841Z"
      },
      {
        "duration": 6,
        "start_time": "2023-03-15T06:25:14.031Z"
      },
      {
        "duration": 6,
        "start_time": "2023-03-15T06:25:14.213Z"
      },
      {
        "duration": 6,
        "start_time": "2023-03-15T06:25:14.395Z"
      },
      {
        "duration": 5,
        "start_time": "2023-03-15T06:25:14.569Z"
      }
    ],
    "kernelspec": {
      "display_name": "Python 3 (ipykernel)",
      "language": "python",
      "name": "python3"
    },
    "language_info": {
      "codemirror_mode": {
        "name": "ipython",
        "version": 3
      },
      "file_extension": ".py",
      "mimetype": "text/x-python",
      "name": "python",
      "nbconvert_exporter": "python",
      "pygments_lexer": "ipython3",
      "version": "3.9.5"
    },
    "toc": {
      "base_numbering": 1,
      "nav_menu": {},
      "number_sections": true,
      "sideBar": true,
      "skip_h1_title": true,
      "title_cell": "Содержание",
      "title_sidebar": "Contents",
      "toc_cell": true,
      "toc_position": {
        "height": "calc(100% - 180px)",
        "left": "10px",
        "top": "150px",
        "width": "244.98px"
      },
      "toc_section_display": true,
      "toc_window_display": true
    },
    "colab": {
      "provenance": []
    }
  },
  "nbformat": 4,
  "nbformat_minor": 0
}