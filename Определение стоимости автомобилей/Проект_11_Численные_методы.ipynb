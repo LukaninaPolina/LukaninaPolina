{
  "cells": [
    {
      "cell_type": "markdown",
      "metadata": {
        "id": "8ySIgLqqabyG"
      },
      "source": [
        "# Определение стоимости автомобилей"
      ]
    },
    {
      "cell_type": "markdown",
      "metadata": {
        "id": "Hd48tcWlabyG"
      },
      "source": [
        "Сервис по продаже автомобилей с пробегом «Не бит, не крашен» разрабатывает приложение для привлечения новых клиентов. В нём можно быстро узнать рыночную стоимость своего автомобиля. В вашем распоряжении исторические данные: технические характеристики, комплектации и цены автомобилей. Вам нужно построить модель для определения стоимости.\n",
        "\n",
        "Заказчику важны:\n",
        "\n",
        "- качество предсказания;\n",
        "- скорость предсказания;\n",
        "- время обучения."
      ]
    },
    {
      "cell_type": "markdown",
      "metadata": {
        "id": "YkWykEx4abyG"
      },
      "source": [
        "## Подготовка данных"
      ]
    },
    {
      "cell_type": "code",
      "execution_count": null,
      "metadata": {
        "id": "4Gp0Btg7abyG"
      },
      "outputs": [],
      "source": [
        "!pip install lightgbm"
      ]
    },
    {
      "cell_type": "code",
      "execution_count": null,
      "metadata": {
        "id": "nPSuiEUxabyH"
      },
      "outputs": [],
      "source": [
        "import pandas as pd\n",
        "import numpy as np\n",
        "import seaborn as sns\n",
        "import matplotlib.pyplot as plt\n",
        "from sklearn.model_selection import train_test_split\n",
        "from sklearn.tree import DecisionTreeRegressor\n",
        "from sklearn.ensemble import RandomForestRegressor\n",
        "from sklearn.dummy import DummyRegressor\n",
        "from sklearn.metrics import mean_squared_error\n",
        "import lightgbm as lgb\n",
        "from sklearn.preprocessing import OrdinalEncoder"
      ]
    },
    {
      "cell_type": "code",
      "execution_count": null,
      "metadata": {
        "id": "tBPZmqJTabyH"
      },
      "outputs": [],
      "source": [
        "try:\n",
        "    data = pd.read_csv('/Users/pashc/Downloads/autos.csv')\n",
        "except:\n",
        "    data = pd.read_csv('/datasets/autos.csv')"
      ]
    },
    {
      "cell_type": "code",
      "execution_count": null,
      "metadata": {
        "id": "mfljY7uPabyH"
      },
      "outputs": [],
      "source": [
        "data.head()"
      ]
    },
    {
      "cell_type": "code",
      "execution_count": null,
      "metadata": {
        "id": "mW0m0TRRabyI"
      },
      "outputs": [],
      "source": [
        "data.info(),data.isna().sum()"
      ]
    },
    {
      "cell_type": "markdown",
      "metadata": {
        "id": "i4sEWeonabyI"
      },
      "source": [
        "Мы видим, что есть пропуски в некоторых столбцах.Для исключения выбросов заменим"
      ]
    },
    {
      "cell_type": "code",
      "execution_count": null,
      "metadata": {
        "id": "P0Faop6aabyI"
      },
      "outputs": [],
      "source": [
        "data[\"VehicleType\"] = data[\"VehicleType\"].fillna(data[\"VehicleType\"].mode().values[0])\n",
        "data[\"Gearbox\"] = data[\"Gearbox\"].fillna(data[\"Gearbox\"].mode().values[0])\n",
        "data[\"Model\"] = data[\"Model\"].fillna(data[\"Model\"].mode().values[0])\n",
        "data[\"FuelType\"] = data[\"FuelType\"].fillna(data[\"FuelType\"].mode().values[0])\n",
        "data[\"Repaired\"] = data[\"Repaired\"].fillna(data[\"Repaired\"].mode().values[0])"
      ]
    },
    {
      "cell_type": "markdown",
      "metadata": {
        "id": "kI4Hrzw8abyI"
      },
      "source": [
        "data.dropna(subset=['model'], inplace=True)\n",
        "data.dropna(subset=['gearbox'], inplace=True)\n",
        "data.dropna(subset=[\"vehicletype\"], inplace=True)\n",
        "data.dropna(subset=[\"fueltype\"], inplace=True)\n",
        "data.dropna(subset=[\"repaired\"], inplace=True)"
      ]
    },
    {
      "cell_type": "markdown",
      "metadata": {
        "id": "mcCQfyTQabyI"
      },
      "source": [
        "Приведем к нижнему регистру"
      ]
    },
    {
      "cell_type": "code",
      "execution_count": null,
      "metadata": {
        "id": "tEH-Q2M8abyI"
      },
      "outputs": [],
      "source": [
        "data.columns = data.columns.str.lower()"
      ]
    },
    {
      "cell_type": "markdown",
      "metadata": {
        "id": "4unwDLj7abyJ"
      },
      "source": [
        "Смотрим, если дубликаты"
      ]
    },
    {
      "cell_type": "code",
      "execution_count": null,
      "metadata": {
        "id": "nC8AfQEcabyJ"
      },
      "outputs": [],
      "source": [
        "data.duplicated().sum()"
      ]
    },
    {
      "cell_type": "code",
      "execution_count": null,
      "metadata": {
        "id": "Ffp6Z786abyJ"
      },
      "outputs": [],
      "source": [
        "data = data.drop_duplicates().reset_index(drop=True)"
      ]
    },
    {
      "cell_type": "markdown",
      "metadata": {
        "id": "NRc0baZEabyJ"
      },
      "source": [
        "Удалим столбцы, которые нам не нужны в дальнейшей работе"
      ]
    },
    {
      "cell_type": "code",
      "execution_count": null,
      "metadata": {
        "id": "u4U9wHWWabyJ"
      },
      "outputs": [],
      "source": [
        "data = data.drop([\"datecrawled\",\"datecreated\",\"lastseen\",\"numberofpictures\",\"postalcode\"],axis = 1)"
      ]
    },
    {
      "cell_type": "code",
      "execution_count": null,
      "metadata": {
        "id": "klX0av3sabyK"
      },
      "outputs": [],
      "source": [
        "data.head()"
      ]
    },
    {
      "cell_type": "code",
      "execution_count": null,
      "metadata": {
        "id": "CAWRDtSvabyK"
      },
      "outputs": [],
      "source": [
        "data.price.unique()"
      ]
    },
    {
      "cell_type": "markdown",
      "metadata": {
        "id": "_p9LNjWmabyK"
      },
      "source": [
        "Проанализируем детально целевой признак"
      ]
    },
    {
      "cell_type": "code",
      "execution_count": null,
      "metadata": {
        "id": "QwfYYlEPabyK"
      },
      "outputs": [],
      "source": [
        "sns.set_style('darkgrid')\n",
        "data.price.hist(bins=50,figsize=(15,10))\n",
        "plt.title('Распределение стоимости автомобилей')\n",
        "plt.xlabel('Стоимость')\n",
        "plt.ylabel('Количество')\n",
        "plt.show()"
      ]
    },
    {
      "cell_type": "markdown",
      "metadata": {
        "id": "oFy_3E2dabyK"
      },
      "source": [
        "Можно заметить аномалию- мишины в нормальном состоянии не могут столько стоить. Поэтому удалим данные стоимости автомобилей ниже 1000"
      ]
    },
    {
      "cell_type": "code",
      "execution_count": null,
      "metadata": {
        "id": "UcrWeqJlabyK"
      },
      "outputs": [],
      "source": [
        "data = data.query('price> 10')"
      ]
    },
    {
      "cell_type": "code",
      "execution_count": null,
      "metadata": {
        "id": "nzGrStY_abyL"
      },
      "outputs": [],
      "source": [
        "data.vehicletype.unique()"
      ]
    },
    {
      "cell_type": "code",
      "execution_count": null,
      "metadata": {
        "id": "8si44mrUabyL"
      },
      "outputs": [],
      "source": [
        "data.registrationyear.unique()"
      ]
    },
    {
      "cell_type": "markdown",
      "metadata": {
        "id": "pvkTPMZKabyL"
      },
      "source": [
        "Выявлена аномалия, поэтому не будем включать в данные значение до 1900 и после 2023"
      ]
    },
    {
      "cell_type": "code",
      "execution_count": null,
      "metadata": {
        "id": "emVds68mabyL"
      },
      "outputs": [],
      "source": [
        "data = data.loc[(data['registrationyear'] <= 2023) & (data['registrationyear'] >= 1900)]"
      ]
    },
    {
      "cell_type": "code",
      "execution_count": null,
      "metadata": {
        "id": "4b2-8P9babyL"
      },
      "outputs": [],
      "source": [
        "data.gearbox.unique()"
      ]
    },
    {
      "cell_type": "code",
      "execution_count": null,
      "metadata": {
        "scrolled": true,
        "id": "xaaq3wP_abyM"
      },
      "outputs": [],
      "source": [
        "data.power.unique()"
      ]
    },
    {
      "cell_type": "markdown",
      "metadata": {
        "id": "1QeYEvgpabyM"
      },
      "source": [
        "Выявлена аномалия, поэтому не будем включать в данные силы 700"
      ]
    },
    {
      "cell_type": "code",
      "execution_count": null,
      "metadata": {
        "id": "mL-G14ulabyM"
      },
      "outputs": [],
      "source": [
        "data = data.loc[data['power'] <= 700]"
      ]
    },
    {
      "cell_type": "code",
      "execution_count": null,
      "metadata": {
        "id": "AK0S_bptabyM"
      },
      "outputs": [],
      "source": [
        "data.model.unique()"
      ]
    },
    {
      "cell_type": "code",
      "execution_count": null,
      "metadata": {
        "id": "W_1qRaaDabyM"
      },
      "outputs": [],
      "source": [
        "data.kilometer.unique()"
      ]
    },
    {
      "cell_type": "code",
      "execution_count": null,
      "metadata": {
        "id": "7rwMoNOXabyM"
      },
      "outputs": [],
      "source": [
        "data.registrationmonth.unique()"
      ]
    },
    {
      "cell_type": "code",
      "execution_count": null,
      "metadata": {
        "id": "xEAFsEQeabyN"
      },
      "outputs": [],
      "source": [
        "data.fueltype.unique()"
      ]
    },
    {
      "cell_type": "code",
      "execution_count": null,
      "metadata": {
        "id": "0ejuTd65abyN"
      },
      "outputs": [],
      "source": [
        "data.brand.unique()"
      ]
    },
    {
      "cell_type": "code",
      "execution_count": null,
      "metadata": {
        "id": "bDCWoEk-abyN"
      },
      "outputs": [],
      "source": [
        "data.repaired.unique()"
      ]
    },
    {
      "cell_type": "code",
      "execution_count": null,
      "metadata": {
        "id": "4upbeykFabyN"
      },
      "outputs": [],
      "source": [
        "data.duplicated().sum()"
      ]
    },
    {
      "cell_type": "markdown",
      "metadata": {
        "id": "sGly_CYnabyN"
      },
      "source": [
        "**Вывод**.\n",
        "- В данных были обнаружены пропущенные значения и удалены. Более того, мы обнаружили и удалили дубликаты, исключили из данных столбцы, которые не несут важной информации И обработали аномалии в столбцах."
      ]
    },
    {
      "cell_type": "markdown",
      "metadata": {
        "id": "mkvCxleiabyN"
      },
      "source": [
        "## Обучение моделей"
      ]
    },
    {
      "cell_type": "code",
      "execution_count": null,
      "metadata": {
        "id": "m7DOQveZabyN"
      },
      "outputs": [],
      "source": [
        "features=data.drop(['price'],axis=1)\n",
        "target=data['price']"
      ]
    },
    {
      "cell_type": "code",
      "execution_count": null,
      "metadata": {
        "id": "gBDqwUMkabyO"
      },
      "outputs": [],
      "source": [
        "col=['vehicletype', 'gearbox','model',\n",
        "       'fueltype', 'brand', 'repaired']"
      ]
    },
    {
      "cell_type": "markdown",
      "metadata": {
        "id": "sSSUbUUlabyO"
      },
      "source": [
        "Поделим данные на выборки"
      ]
    },
    {
      "cell_type": "code",
      "execution_count": null,
      "metadata": {
        "id": "YgDoZbbXabyO"
      },
      "outputs": [],
      "source": [
        "features_train, features_valid_test, target_train, target_valid_test  = train_test_split(features,target, test_size=0.4, random_state=254)\n",
        "features_valid, features_test, target_valid, target_test = train_test_split(features_valid_test, target_valid_test, test_size=0.5, random_state=12345)\n",
        "\n",
        "features_train.shape, features_valid.shape, features_test.shape"
      ]
    },
    {
      "cell_type": "markdown",
      "metadata": {
        "id": "SSRDax7pabyO"
      },
      "source": [
        "Скопируем данные для кодировки"
      ]
    },
    {
      "cell_type": "code",
      "execution_count": null,
      "metadata": {
        "id": "r54x0kBmabyO"
      },
      "outputs": [],
      "source": [
        "features_train_oe = features_train.copy()\n",
        "features_valid_oe = features_valid.copy()\n",
        "features_test_oe = features_test.copy()"
      ]
    },
    {
      "cell_type": "markdown",
      "metadata": {
        "id": "aSa5v8bTabyO"
      },
      "source": [
        "Приступаем к кодировке"
      ]
    },
    {
      "cell_type": "code",
      "execution_count": null,
      "metadata": {
        "id": "tNGlTlREabyO"
      },
      "outputs": [],
      "source": [
        "encoder = OrdinalEncoder(handle_unknown='use_encoded_value', unknown_value=-1)\n",
        "encoder.fit(features_train[col])\n",
        "features_train_oe[col] = encoder.transform(features_train_oe[col])\n",
        "features_valid_oe[col] = encoder.transform(features_valid_oe[col])\n",
        "features_test_oe[col] = encoder.transform(features_test_oe[col])\n",
        "features_test_oe.head()"
      ]
    },
    {
      "cell_type": "markdown",
      "metadata": {
        "id": "Rd91xGbBabyP"
      },
      "source": [
        "<div class=\"alert alert-block alert-success\">\n",
        "<b>Успех:</b> OE - хороший выбор\n",
        "</div>\n"
      ]
    },
    {
      "cell_type": "code",
      "execution_count": null,
      "metadata": {
        "id": "h-5RoYQ-abyP"
      },
      "outputs": [],
      "source": [
        "for depth in range(3, 20, 3):\n",
        "    model = DecisionTreeRegressor(random_state=12345, max_depth = depth)\n",
        "    model.fit(features_train_oe, target_train)\n",
        "    predictions = model.predict(features_valid_oe)\n",
        "    rmse = mean_squared_error(target_valid, predictions)**0.5\n",
        "    print('Глубина:', depth)\n",
        "    print('RMSE для решающего дерева:', rmse)\n",
        "    print('')"
      ]
    },
    {
      "cell_type": "markdown",
      "metadata": {
        "id": "FDZgnGEvabyP"
      },
      "source": [
        "Лучший результат модели решающего дерева - глубина: 12, rmse: 1974"
      ]
    },
    {
      "cell_type": "code",
      "execution_count": null,
      "metadata": {
        "id": "aXHCESx8abyQ"
      },
      "outputs": [],
      "source": [
        "for depth in range(1,10):\n",
        "    for est in range(5,20,5):\n",
        "        model = RandomForestRegressor(max_depth=depth, n_estimators=est, random_state=1234)\n",
        "        model.fit(features_train_oe, target_train)\n",
        "        predictions = model.predict(features_valid_oe)\n",
        "        rmse = mean_squared_error(target_valid, predictions)**0.5\n",
        "        print('Количество деревьев:', est, \"Глубина\",depth)\n",
        "        print('RMSE для случайного леса:', rmse)\n",
        "        print('')"
      ]
    },
    {
      "cell_type": "markdown",
      "metadata": {
        "id": "BA7mnJMSabyQ"
      },
      "source": [
        "Лучший результат модели случайного леса - глубина: 9, rmse: 2028"
      ]
    },
    {
      "cell_type": "code",
      "execution_count": null,
      "metadata": {
        "id": "A-AQjck1abyQ"
      },
      "outputs": [],
      "source": [
        "for est in [100, 500, 1000]:\n",
        "    for num in [25, 400, 15]:\n",
        "        model = lgb.LGBMRegressor(n_estimators = est, num_leaves = num, random_state=12345)\n",
        "        model.fit(features_train_oe, target_train)\n",
        "        predictions= model.predict(features_valid_oe)\n",
        "        rmse = mean_squared_error(target_valid, predictions)**0.5\n",
        "        print('Количество деревьев:', est, num)\n",
        "        print('RMSE для случайного леса:', rmse)\n",
        "        print('')"
      ]
    },
    {
      "cell_type": "markdown",
      "metadata": {
        "id": "s6cdZAPVabyQ"
      },
      "source": [
        "Лучший результат модели - rmse: 1588"
      ]
    },
    {
      "cell_type": "markdown",
      "metadata": {
        "id": "ep1bX5AqabyQ"
      },
      "source": [
        "**Вывод**\n",
        "- лучше всего себя показала модель LightGBM, с результатом 1588."
      ]
    },
    {
      "cell_type": "markdown",
      "metadata": {
        "id": "De3ggaifabyQ"
      },
      "source": [
        "## Анализ моделей"
      ]
    },
    {
      "cell_type": "code",
      "execution_count": null,
      "metadata": {
        "id": "U0xsnblsabyQ"
      },
      "outputs": [],
      "source": [
        "%%time\n",
        "model = DecisionTreeRegressor(random_state=12345, max_depth=15)\n",
        "model.fit(features_train_oe, target_train)"
      ]
    },
    {
      "cell_type": "code",
      "execution_count": null,
      "metadata": {
        "id": "w6302ElsabyR"
      },
      "outputs": [],
      "source": [
        "%%time\n",
        "predictions = model.predict(features_valid_oe)\n",
        "rmse = mean_squared_error(target_valid, predictions)**0.5\n",
        "print(rmse)"
      ]
    },
    {
      "cell_type": "code",
      "execution_count": null,
      "metadata": {
        "id": "ugM21rugabyR"
      },
      "outputs": [],
      "source": [
        "%%time\n",
        "model1 = RandomForestRegressor(random_state=12345, max_depth=9, n_estimators=15)\n",
        "model1.fit(features_train_oe, target_train)"
      ]
    },
    {
      "cell_type": "code",
      "execution_count": null,
      "metadata": {
        "id": "6WTJZaxvabyR"
      },
      "outputs": [],
      "source": [
        "%%time\n",
        "predictions = model1.predict(features_valid_oe)\n",
        "rmse = mean_squared_error(target_valid, predictions)**0.5\n",
        "print(rmse)"
      ]
    },
    {
      "cell_type": "code",
      "execution_count": null,
      "metadata": {
        "id": "eGy4n_ylabyR"
      },
      "outputs": [],
      "source": [
        "%%time\n",
        "model2 = lgb.LGBMRegressor(random_state=12345,\n",
        "                          n_estimators=500,\n",
        "                          num_leaves=400)\n",
        "model2.fit(features_train_oe, target_train)"
      ]
    },
    {
      "cell_type": "code",
      "execution_count": null,
      "metadata": {
        "id": "cycLCzlVabyR"
      },
      "outputs": [],
      "source": [
        "%%time\n",
        "predictions = model2.predict(features_valid_oe)\n",
        "rmse = mean_squared_error(target_valid, predictions)**0.5\n",
        "print(rmse)"
      ]
    },
    {
      "cell_type": "markdown",
      "metadata": {
        "id": "kYhqAwGAabyS"
      },
      "source": [
        "**Проверка лучшей модели**"
      ]
    },
    {
      "cell_type": "markdown",
      "metadata": {
        "id": "88KMWdHLabyS"
      },
      "source": [
        "По резульататм качества предсказания, времени обучения модели и времени предсказания модели была выбрана мрдель решаещего дерева"
      ]
    },
    {
      "cell_type": "code",
      "execution_count": null,
      "metadata": {
        "id": "bQ4Ydz22abyS"
      },
      "outputs": [],
      "source": [
        "%%time\n",
        "predictions = model.predict(features_test_oe)\n",
        "rmse = mean_squared_error(target_test, predictions)**0.5\n",
        "print(rmse)"
      ]
    },
    {
      "cell_type": "markdown",
      "metadata": {
        "id": "mipvgWJuabyT"
      },
      "source": [
        "**Вывод**\n",
        "- результат модели : rmse меньше 2500, со временем 15.3 ms"
      ]
    }
  ],
  "metadata": {
    "ExecuteTimeLog": [
      {
        "duration": 2341,
        "start_time": "2023-03-29T17:30:09.349Z"
      },
      {
        "duration": 1291,
        "start_time": "2023-03-29T17:30:11.692Z"
      },
      {
        "duration": 1064,
        "start_time": "2023-03-29T17:30:12.986Z"
      },
      {
        "duration": 213,
        "start_time": "2023-03-29T17:30:15.131Z"
      },
      {
        "duration": 172,
        "start_time": "2023-03-29T17:30:18.992Z"
      },
      {
        "duration": 125,
        "start_time": "2023-03-29T17:31:01.703Z"
      },
      {
        "duration": 2082,
        "start_time": "2023-03-29T17:31:22.362Z"
      },
      {
        "duration": 4,
        "start_time": "2023-03-29T17:31:24.446Z"
      },
      {
        "duration": 830,
        "start_time": "2023-03-29T17:31:24.451Z"
      },
      {
        "duration": 237,
        "start_time": "2023-03-29T17:31:25.283Z"
      },
      {
        "duration": 180,
        "start_time": "2023-03-29T17:31:25.522Z"
      },
      {
        "duration": 4,
        "start_time": "2023-03-29T17:31:25.704Z"
      },
      {
        "duration": 471,
        "start_time": "2023-03-29T17:31:25.710Z"
      },
      {
        "duration": 599,
        "start_time": "2023-03-29T17:31:26.183Z"
      },
      {
        "duration": 50,
        "start_time": "2023-03-29T17:31:26.784Z"
      },
      {
        "duration": 93,
        "start_time": "2023-03-29T17:31:26.836Z"
      },
      {
        "duration": 7,
        "start_time": "2023-03-29T17:31:26.931Z"
      },
      {
        "duration": 22,
        "start_time": "2023-03-29T17:31:26.939Z"
      },
      {
        "duration": 9,
        "start_time": "2023-03-29T17:31:26.963Z"
      },
      {
        "duration": 36,
        "start_time": "2023-03-29T17:31:27.003Z"
      },
      {
        "duration": 28,
        "start_time": "2023-03-29T17:31:27.041Z"
      },
      {
        "duration": 32,
        "start_time": "2023-03-29T17:31:27.071Z"
      },
      {
        "duration": 34,
        "start_time": "2023-03-29T17:31:27.105Z"
      },
      {
        "duration": 25,
        "start_time": "2023-03-29T17:31:27.140Z"
      },
      {
        "duration": 6,
        "start_time": "2023-03-29T17:31:27.166Z"
      },
      {
        "duration": 33,
        "start_time": "2023-03-29T17:31:27.174Z"
      },
      {
        "duration": 28,
        "start_time": "2023-03-29T17:31:27.209Z"
      },
      {
        "duration": 28,
        "start_time": "2023-03-29T17:31:27.238Z"
      },
      {
        "duration": 36,
        "start_time": "2023-03-29T17:31:27.268Z"
      },
      {
        "duration": 179,
        "start_time": "2023-03-29T17:31:27.306Z"
      },
      {
        "duration": 47,
        "start_time": "2023-03-29T17:32:49.768Z"
      },
      {
        "duration": 2110,
        "start_time": "2023-03-29T17:37:22.304Z"
      },
      {
        "duration": 4,
        "start_time": "2023-03-29T17:37:24.416Z"
      },
      {
        "duration": 778,
        "start_time": "2023-03-29T17:37:24.422Z"
      },
      {
        "duration": 238,
        "start_time": "2023-03-29T17:37:25.203Z"
      },
      {
        "duration": 194,
        "start_time": "2023-03-29T17:37:25.443Z"
      },
      {
        "duration": 4,
        "start_time": "2023-03-29T17:37:25.639Z"
      },
      {
        "duration": 422,
        "start_time": "2023-03-29T17:37:25.645Z"
      },
      {
        "duration": 485,
        "start_time": "2023-03-29T17:37:26.068Z"
      },
      {
        "duration": 38,
        "start_time": "2023-03-29T17:37:26.555Z"
      },
      {
        "duration": 12,
        "start_time": "2023-03-29T17:37:26.604Z"
      },
      {
        "duration": 11,
        "start_time": "2023-03-29T17:37:26.617Z"
      },
      {
        "duration": 20,
        "start_time": "2023-03-29T17:37:26.630Z"
      },
      {
        "duration": 9,
        "start_time": "2023-03-29T17:37:26.652Z"
      },
      {
        "duration": 55,
        "start_time": "2023-03-29T17:37:26.663Z"
      },
      {
        "duration": 21,
        "start_time": "2023-03-29T17:37:26.720Z"
      },
      {
        "duration": 24,
        "start_time": "2023-03-29T17:37:26.742Z"
      },
      {
        "duration": 46,
        "start_time": "2023-03-29T17:37:26.768Z"
      },
      {
        "duration": 25,
        "start_time": "2023-03-29T17:37:26.816Z"
      },
      {
        "duration": 9,
        "start_time": "2023-03-29T17:37:26.843Z"
      },
      {
        "duration": 7,
        "start_time": "2023-03-29T17:37:26.854Z"
      },
      {
        "duration": 47,
        "start_time": "2023-03-29T17:37:26.863Z"
      },
      {
        "duration": 24,
        "start_time": "2023-03-29T17:37:26.912Z"
      },
      {
        "duration": 19,
        "start_time": "2023-03-29T17:37:26.937Z"
      },
      {
        "duration": 187,
        "start_time": "2023-03-29T17:37:26.958Z"
      },
      {
        "duration": 16,
        "start_time": "2023-03-29T17:37:27.146Z"
      },
      {
        "duration": 3,
        "start_time": "2023-03-29T17:37:27.164Z"
      },
      {
        "duration": 135,
        "start_time": "2023-03-29T17:37:27.169Z"
      },
      {
        "duration": 33,
        "start_time": "2023-03-29T17:37:27.308Z"
      },
      {
        "duration": 1009,
        "start_time": "2023-03-29T17:37:27.342Z"
      },
      {
        "duration": 15,
        "start_time": "2023-03-29T17:37:28.352Z"
      },
      {
        "duration": 0,
        "start_time": "2023-03-29T17:37:28.369Z"
      },
      {
        "duration": 0,
        "start_time": "2023-03-29T17:37:28.371Z"
      },
      {
        "duration": 0,
        "start_time": "2023-03-29T17:37:28.372Z"
      },
      {
        "duration": 0,
        "start_time": "2023-03-29T17:37:28.374Z"
      },
      {
        "duration": 0,
        "start_time": "2023-03-29T17:37:28.375Z"
      },
      {
        "duration": 0,
        "start_time": "2023-03-29T17:37:28.377Z"
      },
      {
        "duration": 0,
        "start_time": "2023-03-29T17:37:28.378Z"
      },
      {
        "duration": 0,
        "start_time": "2023-03-29T17:37:28.379Z"
      },
      {
        "duration": 0,
        "start_time": "2023-03-29T17:37:28.380Z"
      },
      {
        "duration": 11,
        "start_time": "2023-03-29T17:39:10.964Z"
      },
      {
        "duration": 16,
        "start_time": "2023-03-29T17:40:53.718Z"
      },
      {
        "duration": 37,
        "start_time": "2023-03-29T17:42:11.560Z"
      },
      {
        "duration": 187,
        "start_time": "2023-03-29T17:42:35.788Z"
      },
      {
        "duration": 2761,
        "start_time": "2023-03-29T17:42:38.144Z"
      },
      {
        "duration": 10927,
        "start_time": "2023-03-29T17:42:43.055Z"
      },
      {
        "duration": 2126,
        "start_time": "2023-03-29T17:45:14.291Z"
      },
      {
        "duration": 1223,
        "start_time": "2023-03-29T17:45:16.419Z"
      },
      {
        "duration": 802,
        "start_time": "2023-03-29T17:45:17.644Z"
      },
      {
        "duration": 20,
        "start_time": "2023-03-29T17:45:18.448Z"
      },
      {
        "duration": 250,
        "start_time": "2023-03-29T17:45:18.470Z"
      },
      {
        "duration": 176,
        "start_time": "2023-03-29T17:45:18.721Z"
      },
      {
        "duration": 15,
        "start_time": "2023-03-29T17:45:18.898Z"
      },
      {
        "duration": 462,
        "start_time": "2023-03-29T17:45:18.915Z"
      },
      {
        "duration": 543,
        "start_time": "2023-03-29T17:45:19.378Z"
      },
      {
        "duration": 34,
        "start_time": "2023-03-29T17:45:19.924Z"
      },
      {
        "duration": 11,
        "start_time": "2023-03-29T17:45:19.960Z"
      },
      {
        "duration": 7,
        "start_time": "2023-03-29T17:45:19.973Z"
      },
      {
        "duration": 27,
        "start_time": "2023-03-29T17:45:20.008Z"
      },
      {
        "duration": 88,
        "start_time": "2023-03-29T17:45:20.037Z"
      },
      {
        "duration": 54,
        "start_time": "2023-03-29T17:45:20.127Z"
      },
      {
        "duration": 31,
        "start_time": "2023-03-29T17:45:20.183Z"
      },
      {
        "duration": 7,
        "start_time": "2023-03-29T17:45:20.217Z"
      },
      {
        "duration": 33,
        "start_time": "2023-03-29T17:45:20.225Z"
      },
      {
        "duration": 24,
        "start_time": "2023-03-29T17:45:20.260Z"
      },
      {
        "duration": 14,
        "start_time": "2023-03-29T17:45:20.303Z"
      },
      {
        "duration": 8,
        "start_time": "2023-03-29T17:45:20.320Z"
      },
      {
        "duration": 23,
        "start_time": "2023-03-29T17:45:20.330Z"
      },
      {
        "duration": 61,
        "start_time": "2023-03-29T17:45:20.355Z"
      },
      {
        "duration": 19,
        "start_time": "2023-03-29T17:45:20.418Z"
      },
      {
        "duration": 168,
        "start_time": "2023-03-29T17:45:20.439Z"
      },
      {
        "duration": 17,
        "start_time": "2023-03-29T17:45:20.615Z"
      },
      {
        "duration": 3,
        "start_time": "2023-03-29T17:45:20.633Z"
      },
      {
        "duration": 132,
        "start_time": "2023-03-29T17:45:20.639Z"
      },
      {
        "duration": 41,
        "start_time": "2023-03-29T17:45:20.773Z"
      },
      {
        "duration": 1003,
        "start_time": "2023-03-29T17:45:20.816Z"
      },
      {
        "duration": 220,
        "start_time": "2023-03-29T17:45:21.823Z"
      },
      {
        "duration": 2980,
        "start_time": "2023-03-29T17:45:22.046Z"
      },
      {
        "duration": 11571,
        "start_time": "2023-03-29T17:45:25.028Z"
      },
      {
        "duration": 58,
        "start_time": "2023-03-30T17:43:22.920Z"
      },
      {
        "duration": 1742,
        "start_time": "2023-03-30T17:43:43.834Z"
      },
      {
        "duration": 1207,
        "start_time": "2023-03-30T17:43:46.693Z"
      },
      {
        "duration": 20,
        "start_time": "2023-03-30T17:43:47.902Z"
      },
      {
        "duration": 292,
        "start_time": "2023-03-30T17:43:48.007Z"
      },
      {
        "duration": 191,
        "start_time": "2023-03-30T17:43:49.320Z"
      },
      {
        "duration": 3,
        "start_time": "2023-03-30T17:43:52.249Z"
      },
      {
        "duration": 472,
        "start_time": "2023-03-30T17:43:53.116Z"
      },
      {
        "duration": 596,
        "start_time": "2023-03-30T17:43:54.059Z"
      },
      {
        "duration": 37,
        "start_time": "2023-03-30T17:43:54.927Z"
      },
      {
        "duration": 11,
        "start_time": "2023-03-30T17:44:39.508Z"
      },
      {
        "duration": 8,
        "start_time": "2023-03-30T17:44:40.069Z"
      },
      {
        "duration": 88,
        "start_time": "2023-03-30T17:44:41.105Z"
      },
      {
        "duration": 282,
        "start_time": "2023-03-30T17:44:54.574Z"
      },
      {
        "duration": 3,
        "start_time": "2023-03-30T17:45:10.494Z"
      },
      {
        "duration": 265,
        "start_time": "2023-03-30T17:45:14.435Z"
      },
      {
        "duration": 348,
        "start_time": "2023-03-30T17:45:23.796Z"
      },
      {
        "duration": 377,
        "start_time": "2023-03-30T17:45:27.927Z"
      },
      {
        "duration": 43,
        "start_time": "2023-03-30T17:47:17.434Z"
      },
      {
        "duration": 21,
        "start_time": "2023-03-30T17:47:19.545Z"
      },
      {
        "duration": 6,
        "start_time": "2023-03-30T17:47:20.008Z"
      },
      {
        "duration": 34,
        "start_time": "2023-03-30T17:47:21.926Z"
      },
      {
        "duration": 16,
        "start_time": "2023-03-30T17:50:12.268Z"
      },
      {
        "duration": 86,
        "start_time": "2023-03-30T17:50:27.990Z"
      },
      {
        "duration": 126,
        "start_time": "2023-03-30T17:50:33.682Z"
      },
      {
        "duration": 189,
        "start_time": "2023-03-30T17:50:40.010Z"
      },
      {
        "duration": 168,
        "start_time": "2023-03-30T17:50:43.541Z"
      },
      {
        "duration": 52,
        "start_time": "2023-03-30T17:51:19.215Z"
      },
      {
        "duration": 51,
        "start_time": "2023-03-30T17:51:37.833Z"
      },
      {
        "duration": 2446,
        "start_time": "2023-03-30T17:52:45.842Z"
      },
      {
        "duration": 5,
        "start_time": "2023-03-30T17:52:48.291Z"
      },
      {
        "duration": 767,
        "start_time": "2023-03-30T17:52:48.297Z"
      },
      {
        "duration": 17,
        "start_time": "2023-03-30T17:52:49.066Z"
      },
      {
        "duration": 264,
        "start_time": "2023-03-30T17:52:49.085Z"
      },
      {
        "duration": 3,
        "start_time": "2023-03-30T17:52:49.350Z"
      },
      {
        "duration": 19,
        "start_time": "2023-03-30T17:52:49.361Z"
      },
      {
        "duration": 0,
        "start_time": "2023-03-30T17:52:49.382Z"
      },
      {
        "duration": 0,
        "start_time": "2023-03-30T17:52:49.383Z"
      },
      {
        "duration": 0,
        "start_time": "2023-03-30T17:52:49.385Z"
      },
      {
        "duration": 0,
        "start_time": "2023-03-30T17:52:49.386Z"
      },
      {
        "duration": 1,
        "start_time": "2023-03-30T17:52:49.386Z"
      },
      {
        "duration": 0,
        "start_time": "2023-03-30T17:52:49.388Z"
      },
      {
        "duration": 0,
        "start_time": "2023-03-30T17:52:49.389Z"
      },
      {
        "duration": 0,
        "start_time": "2023-03-30T17:52:49.390Z"
      },
      {
        "duration": 0,
        "start_time": "2023-03-30T17:52:49.391Z"
      },
      {
        "duration": 0,
        "start_time": "2023-03-30T17:52:49.393Z"
      },
      {
        "duration": 0,
        "start_time": "2023-03-30T17:52:49.394Z"
      },
      {
        "duration": 0,
        "start_time": "2023-03-30T17:52:49.395Z"
      },
      {
        "duration": 0,
        "start_time": "2023-03-30T17:52:49.396Z"
      },
      {
        "duration": 0,
        "start_time": "2023-03-30T17:52:49.397Z"
      },
      {
        "duration": 0,
        "start_time": "2023-03-30T17:52:49.398Z"
      },
      {
        "duration": 0,
        "start_time": "2023-03-30T17:52:49.399Z"
      },
      {
        "duration": 0,
        "start_time": "2023-03-30T17:52:49.401Z"
      },
      {
        "duration": 0,
        "start_time": "2023-03-30T17:52:49.402Z"
      },
      {
        "duration": 0,
        "start_time": "2023-03-30T17:52:49.404Z"
      },
      {
        "duration": 0,
        "start_time": "2023-03-30T17:52:49.406Z"
      },
      {
        "duration": 0,
        "start_time": "2023-03-30T17:52:49.407Z"
      },
      {
        "duration": 0,
        "start_time": "2023-03-30T17:52:49.408Z"
      },
      {
        "duration": 0,
        "start_time": "2023-03-30T17:52:49.409Z"
      },
      {
        "duration": 0,
        "start_time": "2023-03-30T17:52:49.410Z"
      },
      {
        "duration": 0,
        "start_time": "2023-03-30T17:52:49.412Z"
      },
      {
        "duration": 0,
        "start_time": "2023-03-30T17:52:49.463Z"
      },
      {
        "duration": 0,
        "start_time": "2023-03-30T17:52:49.464Z"
      },
      {
        "duration": 0,
        "start_time": "2023-03-30T17:52:49.465Z"
      },
      {
        "duration": 0,
        "start_time": "2023-03-30T17:52:49.466Z"
      },
      {
        "duration": 0,
        "start_time": "2023-03-30T17:52:49.468Z"
      },
      {
        "duration": 0,
        "start_time": "2023-03-30T17:52:49.468Z"
      },
      {
        "duration": 0,
        "start_time": "2023-03-30T17:52:49.470Z"
      },
      {
        "duration": 0,
        "start_time": "2023-03-30T17:52:49.471Z"
      },
      {
        "duration": 0,
        "start_time": "2023-03-30T17:52:49.471Z"
      },
      {
        "duration": 0,
        "start_time": "2023-03-30T17:52:49.472Z"
      },
      {
        "duration": 0,
        "start_time": "2023-03-30T17:52:49.473Z"
      },
      {
        "duration": 9,
        "start_time": "2023-03-30T17:54:47.098Z"
      },
      {
        "duration": 4,
        "start_time": "2023-03-30T17:55:12.713Z"
      },
      {
        "duration": 283,
        "start_time": "2023-03-30T17:55:16.281Z"
      },
      {
        "duration": 235,
        "start_time": "2023-03-30T17:55:33.111Z"
      },
      {
        "duration": 344,
        "start_time": "2023-03-30T17:55:35.722Z"
      },
      {
        "duration": 414,
        "start_time": "2023-03-30T17:55:36.264Z"
      },
      {
        "duration": 2169,
        "start_time": "2023-03-30T17:55:38.795Z"
      },
      {
        "duration": 4,
        "start_time": "2023-03-30T17:55:40.967Z"
      },
      {
        "duration": 796,
        "start_time": "2023-03-30T17:55:40.973Z"
      },
      {
        "duration": 20,
        "start_time": "2023-03-30T17:55:41.772Z"
      },
      {
        "duration": 269,
        "start_time": "2023-03-30T17:55:41.794Z"
      },
      {
        "duration": 6,
        "start_time": "2023-03-30T17:55:42.064Z"
      },
      {
        "duration": 6,
        "start_time": "2023-03-30T17:55:42.071Z"
      },
      {
        "duration": 292,
        "start_time": "2023-03-30T17:55:42.078Z"
      },
      {
        "duration": 354,
        "start_time": "2023-03-30T17:55:42.374Z"
      },
      {
        "duration": 419,
        "start_time": "2023-03-30T17:55:42.730Z"
      },
      {
        "duration": 22,
        "start_time": "2023-03-30T17:55:43.151Z"
      },
      {
        "duration": 15,
        "start_time": "2023-03-30T17:55:43.176Z"
      },
      {
        "duration": 8,
        "start_time": "2023-03-30T17:55:43.193Z"
      },
      {
        "duration": 315,
        "start_time": "2023-03-30T17:55:43.205Z"
      },
      {
        "duration": 17,
        "start_time": "2023-03-30T17:55:43.522Z"
      },
      {
        "duration": 25,
        "start_time": "2023-03-30T17:55:43.541Z"
      },
      {
        "duration": 6,
        "start_time": "2023-03-30T17:55:43.568Z"
      },
      {
        "duration": 19,
        "start_time": "2023-03-30T17:55:43.576Z"
      },
      {
        "duration": 13,
        "start_time": "2023-03-30T17:55:43.597Z"
      },
      {
        "duration": 8,
        "start_time": "2023-03-30T17:55:43.611Z"
      },
      {
        "duration": 52,
        "start_time": "2023-03-30T17:55:43.620Z"
      },
      {
        "duration": 20,
        "start_time": "2023-03-30T17:55:43.675Z"
      },
      {
        "duration": 10,
        "start_time": "2023-03-30T17:55:43.696Z"
      },
      {
        "duration": 13,
        "start_time": "2023-03-30T17:55:43.708Z"
      },
      {
        "duration": 28,
        "start_time": "2023-03-30T17:55:43.723Z"
      },
      {
        "duration": 33,
        "start_time": "2023-03-30T17:55:43.753Z"
      },
      {
        "duration": 24,
        "start_time": "2023-03-30T17:55:43.787Z"
      },
      {
        "duration": 126,
        "start_time": "2023-03-30T17:55:43.812Z"
      },
      {
        "duration": 13,
        "start_time": "2023-03-30T17:55:43.939Z"
      },
      {
        "duration": 11,
        "start_time": "2023-03-30T17:55:43.953Z"
      },
      {
        "duration": 103,
        "start_time": "2023-03-30T17:55:43.977Z"
      },
      {
        "duration": 15,
        "start_time": "2023-03-30T17:55:44.082Z"
      },
      {
        "duration": 812,
        "start_time": "2023-03-30T17:55:44.099Z"
      },
      {
        "duration": 3,
        "start_time": "2023-03-30T17:55:44.912Z"
      },
      {
        "duration": 1870,
        "start_time": "2023-03-30T17:55:44.916Z"
      },
      {
        "duration": 2284,
        "start_time": "2023-03-30T17:55:54.839Z"
      },
      {
        "duration": 1498,
        "start_time": "2023-03-30T17:55:57.126Z"
      },
      {
        "duration": 917,
        "start_time": "2023-03-30T17:55:58.626Z"
      },
      {
        "duration": 30,
        "start_time": "2023-03-30T17:55:59.546Z"
      },
      {
        "duration": 291,
        "start_time": "2023-03-30T17:55:59.581Z"
      },
      {
        "duration": 7,
        "start_time": "2023-03-30T17:55:59.874Z"
      },
      {
        "duration": 6,
        "start_time": "2023-03-30T17:55:59.883Z"
      },
      {
        "duration": 333,
        "start_time": "2023-03-30T17:55:59.890Z"
      },
      {
        "duration": 400,
        "start_time": "2023-03-30T17:56:00.225Z"
      },
      {
        "duration": 470,
        "start_time": "2023-03-30T17:56:00.627Z"
      },
      {
        "duration": 25,
        "start_time": "2023-03-30T17:56:01.099Z"
      },
      {
        "duration": 20,
        "start_time": "2023-03-30T17:56:01.126Z"
      },
      {
        "duration": 51,
        "start_time": "2023-03-30T17:56:01.148Z"
      },
      {
        "duration": 355,
        "start_time": "2023-03-30T17:56:01.201Z"
      },
      {
        "duration": 33,
        "start_time": "2023-03-30T17:56:01.558Z"
      },
      {
        "duration": 52,
        "start_time": "2023-03-30T17:56:01.593Z"
      },
      {
        "duration": 38,
        "start_time": "2023-03-30T17:56:01.647Z"
      },
      {
        "duration": 107,
        "start_time": "2023-03-30T17:56:01.687Z"
      },
      {
        "duration": 16,
        "start_time": "2023-03-30T17:56:01.796Z"
      },
      {
        "duration": 21,
        "start_time": "2023-03-30T17:56:01.814Z"
      },
      {
        "duration": 46,
        "start_time": "2023-03-30T17:56:01.837Z"
      },
      {
        "duration": 45,
        "start_time": "2023-03-30T17:56:01.886Z"
      },
      {
        "duration": 37,
        "start_time": "2023-03-30T17:56:01.933Z"
      },
      {
        "duration": 7,
        "start_time": "2023-03-30T17:56:02.065Z"
      },
      {
        "duration": 33,
        "start_time": "2023-03-30T17:56:02.074Z"
      },
      {
        "duration": 16,
        "start_time": "2023-03-30T17:56:02.142Z"
      },
      {
        "duration": 14,
        "start_time": "2023-03-30T17:56:02.309Z"
      },
      {
        "duration": 124,
        "start_time": "2023-03-30T17:56:02.694Z"
      },
      {
        "duration": 13,
        "start_time": "2023-03-30T17:56:03.540Z"
      },
      {
        "duration": 3,
        "start_time": "2023-03-30T17:56:03.911Z"
      },
      {
        "duration": 93,
        "start_time": "2023-03-30T17:56:04.247Z"
      },
      {
        "duration": 24,
        "start_time": "2023-03-30T17:56:04.595Z"
      },
      {
        "duration": 741,
        "start_time": "2023-03-30T17:56:04.948Z"
      },
      {
        "duration": 2,
        "start_time": "2023-03-30T17:56:05.691Z"
      },
      {
        "duration": 1937,
        "start_time": "2023-03-30T17:56:06.063Z"
      },
      {
        "duration": 32302,
        "start_time": "2023-03-30T17:56:08.094Z"
      },
      {
        "duration": 73590,
        "start_time": "2023-03-30T17:56:40.398Z"
      },
      {
        "duration": 505,
        "start_time": "2023-03-30T17:57:58.097Z"
      },
      {
        "duration": 80,
        "start_time": "2023-03-30T17:57:59.249Z"
      },
      {
        "duration": 566,
        "start_time": "2023-03-30T18:00:09.949Z"
      },
      {
        "duration": 2394,
        "start_time": "2023-03-31T12:48:01.192Z"
      },
      {
        "duration": 1539,
        "start_time": "2023-03-31T12:48:03.588Z"
      },
      {
        "duration": 2903,
        "start_time": "2023-03-31T12:48:05.129Z"
      },
      {
        "duration": 17,
        "start_time": "2023-03-31T12:48:08.034Z"
      },
      {
        "duration": 261,
        "start_time": "2023-03-31T12:48:08.054Z"
      },
      {
        "duration": 175,
        "start_time": "2023-03-31T12:48:08.317Z"
      },
      {
        "duration": 3,
        "start_time": "2023-03-31T12:48:08.494Z"
      },
      {
        "duration": 495,
        "start_time": "2023-03-31T12:48:08.499Z"
      },
      {
        "duration": 542,
        "start_time": "2023-03-31T12:48:08.995Z"
      },
      {
        "duration": 35,
        "start_time": "2023-03-31T12:48:09.539Z"
      },
      {
        "duration": 22,
        "start_time": "2023-03-31T12:48:09.576Z"
      },
      {
        "duration": 14,
        "start_time": "2023-03-31T12:48:09.599Z"
      },
      {
        "duration": 306,
        "start_time": "2023-03-31T12:48:09.615Z"
      },
      {
        "duration": 38,
        "start_time": "2023-03-31T12:48:09.924Z"
      },
      {
        "duration": 18,
        "start_time": "2023-03-31T12:48:09.964Z"
      },
      {
        "duration": 11,
        "start_time": "2023-03-31T12:48:09.983Z"
      },
      {
        "duration": 49,
        "start_time": "2023-03-31T12:48:09.996Z"
      },
      {
        "duration": 21,
        "start_time": "2023-03-31T12:48:10.046Z"
      },
      {
        "duration": 26,
        "start_time": "2023-03-31T12:48:10.069Z"
      },
      {
        "duration": 28,
        "start_time": "2023-03-31T12:48:10.097Z"
      },
      {
        "duration": 34,
        "start_time": "2023-03-31T12:48:10.127Z"
      },
      {
        "duration": 7,
        "start_time": "2023-03-31T12:48:10.162Z"
      },
      {
        "duration": 28,
        "start_time": "2023-03-31T12:48:10.171Z"
      },
      {
        "duration": 29,
        "start_time": "2023-03-31T12:48:10.201Z"
      },
      {
        "duration": 44,
        "start_time": "2023-03-31T12:48:10.232Z"
      },
      {
        "duration": 26,
        "start_time": "2023-03-31T12:48:10.278Z"
      },
      {
        "duration": 153,
        "start_time": "2023-03-31T12:48:10.306Z"
      },
      {
        "duration": 15,
        "start_time": "2023-03-31T12:48:10.461Z"
      },
      {
        "duration": 12,
        "start_time": "2023-03-31T12:48:10.477Z"
      },
      {
        "duration": 118,
        "start_time": "2023-03-31T12:48:10.491Z"
      },
      {
        "duration": 39,
        "start_time": "2023-03-31T12:48:10.611Z"
      },
      {
        "duration": 956,
        "start_time": "2023-03-31T12:48:10.652Z"
      },
      {
        "duration": 3,
        "start_time": "2023-03-31T12:48:11.610Z"
      },
      {
        "duration": 2584,
        "start_time": "2023-03-31T12:48:11.615Z"
      },
      {
        "duration": 39259,
        "start_time": "2023-03-31T12:48:14.201Z"
      },
      {
        "duration": 449223,
        "start_time": "2023-03-31T12:48:53.461Z"
      },
      {
        "duration": 538,
        "start_time": "2023-03-31T12:56:22.686Z"
      },
      {
        "duration": 21,
        "start_time": "2023-03-31T12:56:23.226Z"
      },
      {
        "duration": 3678,
        "start_time": "2023-03-31T12:56:23.249Z"
      },
      {
        "duration": 79,
        "start_time": "2023-03-31T12:56:26.928Z"
      },
      {
        "duration": 4,
        "start_time": "2023-03-31T12:56:27.011Z"
      },
      {
        "duration": 132383,
        "start_time": "2023-03-31T12:56:27.017Z"
      },
      {
        "duration": 36,
        "start_time": "2023-03-31T12:58:39.402Z"
      },
      {
        "duration": 108,
        "start_time": "2023-03-31T12:58:39.440Z"
      },
      {
        "duration": 1470,
        "start_time": "2023-03-31T13:04:44.170Z"
      },
      {
        "duration": 550,
        "start_time": "2023-03-31T13:06:25.542Z"
      },
      {
        "duration": 19,
        "start_time": "2023-03-31T13:06:29.114Z"
      },
      {
        "duration": 3591,
        "start_time": "2023-03-31T13:06:30.740Z"
      },
      {
        "duration": 78,
        "start_time": "2023-03-31T13:06:37.742Z"
      },
      {
        "duration": 4,
        "start_time": "2023-03-31T13:06:39.194Z"
      },
      {
        "duration": 93446,
        "start_time": "2023-03-31T13:06:47.389Z"
      },
      {
        "duration": 121,
        "start_time": "2023-03-31T13:11:04.282Z"
      },
      {
        "duration": 18,
        "start_time": "2023-03-31T13:15:31.496Z"
      },
      {
        "duration": 2977,
        "start_time": "2023-04-01T08:19:39.400Z"
      },
      {
        "duration": 8111,
        "start_time": "2023-04-01T08:19:42.379Z"
      },
      {
        "duration": 2946,
        "start_time": "2023-04-01T08:19:50.492Z"
      },
      {
        "duration": 17,
        "start_time": "2023-04-01T08:19:53.440Z"
      },
      {
        "duration": 292,
        "start_time": "2023-04-01T08:19:53.459Z"
      },
      {
        "duration": 194,
        "start_time": "2023-04-01T08:19:53.753Z"
      },
      {
        "duration": 3,
        "start_time": "2023-04-01T08:19:53.949Z"
      },
      {
        "duration": 474,
        "start_time": "2023-04-01T08:19:53.954Z"
      },
      {
        "duration": 583,
        "start_time": "2023-04-01T08:19:54.430Z"
      },
      {
        "duration": 46,
        "start_time": "2023-04-01T08:19:55.015Z"
      },
      {
        "duration": 83,
        "start_time": "2023-04-01T08:19:55.063Z"
      },
      {
        "duration": 62,
        "start_time": "2023-04-01T08:19:55.149Z"
      },
      {
        "duration": 326,
        "start_time": "2023-04-01T08:19:55.213Z"
      },
      {
        "duration": 56,
        "start_time": "2023-04-01T08:19:55.543Z"
      },
      {
        "duration": 20,
        "start_time": "2023-04-01T08:19:55.601Z"
      },
      {
        "duration": 23,
        "start_time": "2023-04-01T08:19:55.623Z"
      },
      {
        "duration": 66,
        "start_time": "2023-04-01T08:19:55.648Z"
      },
      {
        "duration": 21,
        "start_time": "2023-04-01T08:19:55.716Z"
      },
      {
        "duration": 36,
        "start_time": "2023-04-01T08:19:55.739Z"
      },
      {
        "duration": 40,
        "start_time": "2023-04-01T08:19:55.777Z"
      },
      {
        "duration": 26,
        "start_time": "2023-04-01T08:19:55.818Z"
      },
      {
        "duration": 8,
        "start_time": "2023-04-01T08:19:55.846Z"
      },
      {
        "duration": 17,
        "start_time": "2023-04-01T08:19:55.856Z"
      },
      {
        "duration": 62,
        "start_time": "2023-04-01T08:19:55.874Z"
      },
      {
        "duration": 70,
        "start_time": "2023-04-01T08:19:55.938Z"
      },
      {
        "duration": 49,
        "start_time": "2023-04-01T08:19:56.010Z"
      },
      {
        "duration": 189,
        "start_time": "2023-04-01T08:19:56.063Z"
      },
      {
        "duration": 14,
        "start_time": "2023-04-01T08:19:56.253Z"
      },
      {
        "duration": 10,
        "start_time": "2023-04-01T08:19:56.269Z"
      },
      {
        "duration": 121,
        "start_time": "2023-04-01T08:19:56.285Z"
      },
      {
        "duration": 32,
        "start_time": "2023-04-01T08:19:56.407Z"
      },
      {
        "duration": 1037,
        "start_time": "2023-04-01T08:19:56.441Z"
      },
      {
        "duration": 6,
        "start_time": "2023-04-01T08:19:57.484Z"
      },
      {
        "duration": 2866,
        "start_time": "2023-04-01T08:19:57.493Z"
      },
      {
        "duration": 47633,
        "start_time": "2023-04-01T08:20:00.361Z"
      },
      {
        "duration": 3204,
        "start_time": "2023-04-01T11:04:55.378Z"
      },
      {
        "duration": 2197,
        "start_time": "2023-04-01T11:04:58.585Z"
      },
      {
        "duration": 2024,
        "start_time": "2023-04-01T11:05:00.785Z"
      },
      {
        "duration": 19,
        "start_time": "2023-04-01T11:05:02.810Z"
      },
      {
        "duration": 480,
        "start_time": "2023-04-01T11:05:02.832Z"
      },
      {
        "duration": 299,
        "start_time": "2023-04-01T11:05:03.314Z"
      },
      {
        "duration": 5,
        "start_time": "2023-04-01T11:05:03.615Z"
      },
      {
        "duration": 689,
        "start_time": "2023-04-01T11:05:03.623Z"
      },
      {
        "duration": 752,
        "start_time": "2023-04-01T11:05:04.314Z"
      },
      {
        "duration": 74,
        "start_time": "2023-04-01T11:05:05.074Z"
      },
      {
        "duration": 23,
        "start_time": "2023-04-01T11:05:05.150Z"
      },
      {
        "duration": 50,
        "start_time": "2023-04-01T11:05:05.175Z"
      },
      {
        "duration": 416,
        "start_time": "2023-04-01T11:05:05.227Z"
      },
      {
        "duration": 43,
        "start_time": "2023-04-01T11:05:05.646Z"
      },
      {
        "duration": 40,
        "start_time": "2023-04-01T11:05:05.691Z"
      },
      {
        "duration": 22,
        "start_time": "2023-04-01T11:05:05.732Z"
      },
      {
        "duration": 45,
        "start_time": "2023-04-01T11:05:05.756Z"
      },
      {
        "duration": 37,
        "start_time": "2023-04-01T11:05:05.804Z"
      },
      {
        "duration": 12,
        "start_time": "2023-04-01T11:05:05.846Z"
      },
      {
        "duration": 42,
        "start_time": "2023-04-01T11:05:05.861Z"
      },
      {
        "duration": 39,
        "start_time": "2023-04-01T11:05:05.906Z"
      },
      {
        "duration": 8,
        "start_time": "2023-04-01T11:05:05.947Z"
      },
      {
        "duration": 8,
        "start_time": "2023-04-01T11:05:05.957Z"
      },
      {
        "duration": 53,
        "start_time": "2023-04-01T11:05:05.967Z"
      },
      {
        "duration": 32,
        "start_time": "2023-04-01T11:05:06.029Z"
      },
      {
        "duration": 38,
        "start_time": "2023-04-01T11:05:06.062Z"
      },
      {
        "duration": 246,
        "start_time": "2023-04-01T11:05:06.102Z"
      },
      {
        "duration": 36,
        "start_time": "2023-04-01T11:05:06.358Z"
      },
      {
        "duration": 6,
        "start_time": "2023-04-01T11:05:06.396Z"
      },
      {
        "duration": 167,
        "start_time": "2023-04-01T11:05:06.403Z"
      },
      {
        "duration": 42,
        "start_time": "2023-04-01T11:05:06.572Z"
      },
      {
        "duration": 1588,
        "start_time": "2023-04-01T11:05:06.616Z"
      },
      {
        "duration": 3,
        "start_time": "2023-04-01T11:05:08.214Z"
      },
      {
        "duration": 3942,
        "start_time": "2023-04-01T11:05:08.219Z"
      },
      {
        "duration": 58409,
        "start_time": "2023-04-01T11:05:12.167Z"
      }
    ],
    "kernelspec": {
      "display_name": "Python 3 (ipykernel)",
      "language": "python",
      "name": "python3"
    },
    "language_info": {
      "codemirror_mode": {
        "name": "ipython",
        "version": 3
      },
      "file_extension": ".py",
      "mimetype": "text/x-python",
      "name": "python",
      "nbconvert_exporter": "python",
      "pygments_lexer": "ipython3",
      "version": "3.9.5"
    },
    "toc": {
      "base_numbering": 1,
      "nav_menu": {},
      "number_sections": true,
      "sideBar": true,
      "skip_h1_title": true,
      "title_cell": "Table of Contents",
      "title_sidebar": "Contents",
      "toc_cell": false,
      "toc_position": {},
      "toc_section_display": true,
      "toc_window_display": false
    },
    "colab": {
      "provenance": []
    }
  },
  "nbformat": 4,
  "nbformat_minor": 0
}