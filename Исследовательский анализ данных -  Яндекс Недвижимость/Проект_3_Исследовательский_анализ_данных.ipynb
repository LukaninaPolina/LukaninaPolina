{
  "cells": [
    {
      "cell_type": "markdown",
      "metadata": {
        "id": "Qta79qEPP9CB"
      },
      "source": [
        "# Исследование объявлений о продаже квартир\n",
        "\n",
        "В нашем распоряжении данные сервиса Яндекс Недвижимость — архив объявлений за несколько лет о продаже квартир в Санкт-Петербурге и соседних населённых пунктах.\n",
        "Задача проекта — выполнить предобработку данных и изучить их, чтобы найти интересные особенности и зависимости, которые существуют на рынке недвижимости.\n",
        "О каждой квартире в базе содержится два типа данных: добавленные пользователем и картографические. Например, к первому типу относятся площадь квартиры, её этаж и количество балконов, ко второму — расстояния до центра города, аэропорта и ближайшего парка."
      ]
    },
    {
      "cell_type": "markdown",
      "metadata": {
        "id": "R1n2-8cjP9CC"
      },
      "source": [
        "### Обзор данных"
      ]
    },
    {
      "cell_type": "code",
      "execution_count": null,
      "metadata": {
        "id": "OCkKk4cGP9CC"
      },
      "outputs": [],
      "source": [
        "import pandas as pd"
      ]
    },
    {
      "cell_type": "code",
      "execution_count": null,
      "metadata": {
        "id": "bYZQ2E_-P9CC",
        "outputId": "a809e3bf-3f98-4519-a444-e713519d109b"
      },
      "outputs": [
        {
          "name": "stdout",
          "output_type": "stream",
          "text": [
            "<class 'pandas.core.frame.DataFrame'>\n",
            "RangeIndex: 23699 entries, 0 to 23698\n",
            "Data columns (total 22 columns):\n",
            " #   Column                Non-Null Count  Dtype  \n",
            "---  ------                --------------  -----  \n",
            " 0   total_images          23699 non-null  int64  \n",
            " 1   last_price            23699 non-null  float64\n",
            " 2   total_area            23699 non-null  float64\n",
            " 3   first_day_exposition  23699 non-null  object \n",
            " 4   rooms                 23699 non-null  int64  \n",
            " 5   ceiling_height        14504 non-null  float64\n",
            " 6   floors_total          23613 non-null  float64\n",
            " 7   living_area           21796 non-null  float64\n",
            " 8   floor                 23699 non-null  int64  \n",
            " 9   is_apartment          2775 non-null   object \n",
            " 10  studio                23699 non-null  bool   \n",
            " 11  open_plan             23699 non-null  bool   \n",
            " 12  kitchen_area          21421 non-null  float64\n",
            " 13  balcony               12180 non-null  float64\n",
            " 14  locality_name         23650 non-null  object \n",
            " 15  airports_nearest      18157 non-null  float64\n",
            " 16  cityCenters_nearest   18180 non-null  float64\n",
            " 17  parks_around3000      18181 non-null  float64\n",
            " 18  parks_nearest         8079 non-null   float64\n",
            " 19  ponds_around3000      18181 non-null  float64\n",
            " 20  ponds_nearest         9110 non-null   float64\n",
            " 21  days_exposition       20518 non-null  float64\n",
            "dtypes: bool(2), float64(14), int64(3), object(3)\n",
            "memory usage: 3.7+ MB\n"
          ]
        }
      ],
      "source": [
        "try:\n",
        "    data = pd.read_csv('/Users/pashc/Downloads/real_estate_data.csv', sep = '\\t')\n",
        "except:\n",
        "    data = pd.read_csv('/datasets/real_estate_data.csv', sep = '\\t')\n",
        "data.info()"
      ]
    },
    {
      "cell_type": "markdown",
      "metadata": {
        "id": "B8PrTVFHP9CD"
      },
      "source": [
        "Исходя из этого, можно сделать вывод о том, что пропущенные значения имеют следующие столбцы:\n",
        "\n",
        "ceiling_height\n",
        "\n",
        "floors_total               \n",
        "living_area              \n",
        "is_apartment            \n",
        "kitchen_area            \n",
        "balcony                 \n",
        "locality_name              \n",
        "airports_nearest         \n",
        "cityCenters_nearest      \n",
        "parks_around3000         \n",
        "parks_nearest           \n",
        "ponds_around3000         \n",
        "ponds_nearest           \n",
        "days_exposition"
      ]
    },
    {
      "cell_type": "code",
      "execution_count": null,
      "metadata": {
        "id": "Q92Xbq2gP9CD",
        "outputId": "1c665ae4-0084-4eef-9944-9635fbe2c1d3"
      },
      "outputs": [
        {
          "data": {
            "text/html": [
              "<div>\n",
              "<style scoped>\n",
              "    .dataframe tbody tr th:only-of-type {\n",
              "        vertical-align: middle;\n",
              "    }\n",
              "\n",
              "    .dataframe tbody tr th {\n",
              "        vertical-align: top;\n",
              "    }\n",
              "\n",
              "    .dataframe thead th {\n",
              "        text-align: right;\n",
              "    }\n",
              "</style>\n",
              "<table border=\"1\" class=\"dataframe\">\n",
              "  <thead>\n",
              "    <tr style=\"text-align: right;\">\n",
              "      <th></th>\n",
              "      <th>total_images</th>\n",
              "      <th>last_price</th>\n",
              "      <th>total_area</th>\n",
              "      <th>first_day_exposition</th>\n",
              "      <th>rooms</th>\n",
              "      <th>ceiling_height</th>\n",
              "      <th>floors_total</th>\n",
              "      <th>living_area</th>\n",
              "      <th>floor</th>\n",
              "      <th>is_apartment</th>\n",
              "      <th>...</th>\n",
              "      <th>kitchen_area</th>\n",
              "      <th>balcony</th>\n",
              "      <th>locality_name</th>\n",
              "      <th>airports_nearest</th>\n",
              "      <th>cityCenters_nearest</th>\n",
              "      <th>parks_around3000</th>\n",
              "      <th>parks_nearest</th>\n",
              "      <th>ponds_around3000</th>\n",
              "      <th>ponds_nearest</th>\n",
              "      <th>days_exposition</th>\n",
              "    </tr>\n",
              "  </thead>\n",
              "  <tbody>\n",
              "    <tr>\n",
              "      <th>0</th>\n",
              "      <td>20</td>\n",
              "      <td>13000000.0</td>\n",
              "      <td>108.00</td>\n",
              "      <td>2019-03-07T00:00:00</td>\n",
              "      <td>3</td>\n",
              "      <td>2.70</td>\n",
              "      <td>16.0</td>\n",
              "      <td>51.00</td>\n",
              "      <td>8</td>\n",
              "      <td>NaN</td>\n",
              "      <td>...</td>\n",
              "      <td>25.00</td>\n",
              "      <td>NaN</td>\n",
              "      <td>Санкт-Петербург</td>\n",
              "      <td>18863.0</td>\n",
              "      <td>16028.0</td>\n",
              "      <td>1.0</td>\n",
              "      <td>482.0</td>\n",
              "      <td>2.0</td>\n",
              "      <td>755.0</td>\n",
              "      <td>NaN</td>\n",
              "    </tr>\n",
              "    <tr>\n",
              "      <th>1</th>\n",
              "      <td>7</td>\n",
              "      <td>3350000.0</td>\n",
              "      <td>40.40</td>\n",
              "      <td>2018-12-04T00:00:00</td>\n",
              "      <td>1</td>\n",
              "      <td>NaN</td>\n",
              "      <td>11.0</td>\n",
              "      <td>18.60</td>\n",
              "      <td>1</td>\n",
              "      <td>NaN</td>\n",
              "      <td>...</td>\n",
              "      <td>11.00</td>\n",
              "      <td>2.0</td>\n",
              "      <td>посёлок Шушары</td>\n",
              "      <td>12817.0</td>\n",
              "      <td>18603.0</td>\n",
              "      <td>0.0</td>\n",
              "      <td>NaN</td>\n",
              "      <td>0.0</td>\n",
              "      <td>NaN</td>\n",
              "      <td>81.0</td>\n",
              "    </tr>\n",
              "    <tr>\n",
              "      <th>2</th>\n",
              "      <td>10</td>\n",
              "      <td>5196000.0</td>\n",
              "      <td>56.00</td>\n",
              "      <td>2015-08-20T00:00:00</td>\n",
              "      <td>2</td>\n",
              "      <td>NaN</td>\n",
              "      <td>5.0</td>\n",
              "      <td>34.30</td>\n",
              "      <td>4</td>\n",
              "      <td>NaN</td>\n",
              "      <td>...</td>\n",
              "      <td>8.30</td>\n",
              "      <td>0.0</td>\n",
              "      <td>Санкт-Петербург</td>\n",
              "      <td>21741.0</td>\n",
              "      <td>13933.0</td>\n",
              "      <td>1.0</td>\n",
              "      <td>90.0</td>\n",
              "      <td>2.0</td>\n",
              "      <td>574.0</td>\n",
              "      <td>558.0</td>\n",
              "    </tr>\n",
              "    <tr>\n",
              "      <th>3</th>\n",
              "      <td>0</td>\n",
              "      <td>64900000.0</td>\n",
              "      <td>159.00</td>\n",
              "      <td>2015-07-24T00:00:00</td>\n",
              "      <td>3</td>\n",
              "      <td>NaN</td>\n",
              "      <td>14.0</td>\n",
              "      <td>NaN</td>\n",
              "      <td>9</td>\n",
              "      <td>NaN</td>\n",
              "      <td>...</td>\n",
              "      <td>NaN</td>\n",
              "      <td>0.0</td>\n",
              "      <td>Санкт-Петербург</td>\n",
              "      <td>28098.0</td>\n",
              "      <td>6800.0</td>\n",
              "      <td>2.0</td>\n",
              "      <td>84.0</td>\n",
              "      <td>3.0</td>\n",
              "      <td>234.0</td>\n",
              "      <td>424.0</td>\n",
              "    </tr>\n",
              "    <tr>\n",
              "      <th>4</th>\n",
              "      <td>2</td>\n",
              "      <td>10000000.0</td>\n",
              "      <td>100.00</td>\n",
              "      <td>2018-06-19T00:00:00</td>\n",
              "      <td>2</td>\n",
              "      <td>3.03</td>\n",
              "      <td>14.0</td>\n",
              "      <td>32.00</td>\n",
              "      <td>13</td>\n",
              "      <td>NaN</td>\n",
              "      <td>...</td>\n",
              "      <td>41.00</td>\n",
              "      <td>NaN</td>\n",
              "      <td>Санкт-Петербург</td>\n",
              "      <td>31856.0</td>\n",
              "      <td>8098.0</td>\n",
              "      <td>2.0</td>\n",
              "      <td>112.0</td>\n",
              "      <td>1.0</td>\n",
              "      <td>48.0</td>\n",
              "      <td>121.0</td>\n",
              "    </tr>\n",
              "    <tr>\n",
              "      <th>5</th>\n",
              "      <td>10</td>\n",
              "      <td>2890000.0</td>\n",
              "      <td>30.40</td>\n",
              "      <td>2018-09-10T00:00:00</td>\n",
              "      <td>1</td>\n",
              "      <td>NaN</td>\n",
              "      <td>12.0</td>\n",
              "      <td>14.40</td>\n",
              "      <td>5</td>\n",
              "      <td>NaN</td>\n",
              "      <td>...</td>\n",
              "      <td>9.10</td>\n",
              "      <td>NaN</td>\n",
              "      <td>городской посёлок Янино-1</td>\n",
              "      <td>NaN</td>\n",
              "      <td>NaN</td>\n",
              "      <td>NaN</td>\n",
              "      <td>NaN</td>\n",
              "      <td>NaN</td>\n",
              "      <td>NaN</td>\n",
              "      <td>55.0</td>\n",
              "    </tr>\n",
              "    <tr>\n",
              "      <th>6</th>\n",
              "      <td>6</td>\n",
              "      <td>3700000.0</td>\n",
              "      <td>37.30</td>\n",
              "      <td>2017-11-02T00:00:00</td>\n",
              "      <td>1</td>\n",
              "      <td>NaN</td>\n",
              "      <td>26.0</td>\n",
              "      <td>10.60</td>\n",
              "      <td>6</td>\n",
              "      <td>NaN</td>\n",
              "      <td>...</td>\n",
              "      <td>14.40</td>\n",
              "      <td>1.0</td>\n",
              "      <td>посёлок Парголово</td>\n",
              "      <td>52996.0</td>\n",
              "      <td>19143.0</td>\n",
              "      <td>0.0</td>\n",
              "      <td>NaN</td>\n",
              "      <td>0.0</td>\n",
              "      <td>NaN</td>\n",
              "      <td>155.0</td>\n",
              "    </tr>\n",
              "    <tr>\n",
              "      <th>7</th>\n",
              "      <td>5</td>\n",
              "      <td>7915000.0</td>\n",
              "      <td>71.60</td>\n",
              "      <td>2019-04-18T00:00:00</td>\n",
              "      <td>2</td>\n",
              "      <td>NaN</td>\n",
              "      <td>24.0</td>\n",
              "      <td>NaN</td>\n",
              "      <td>22</td>\n",
              "      <td>NaN</td>\n",
              "      <td>...</td>\n",
              "      <td>18.90</td>\n",
              "      <td>2.0</td>\n",
              "      <td>Санкт-Петербург</td>\n",
              "      <td>23982.0</td>\n",
              "      <td>11634.0</td>\n",
              "      <td>0.0</td>\n",
              "      <td>NaN</td>\n",
              "      <td>0.0</td>\n",
              "      <td>NaN</td>\n",
              "      <td>NaN</td>\n",
              "    </tr>\n",
              "    <tr>\n",
              "      <th>8</th>\n",
              "      <td>20</td>\n",
              "      <td>2900000.0</td>\n",
              "      <td>33.16</td>\n",
              "      <td>2018-05-23T00:00:00</td>\n",
              "      <td>1</td>\n",
              "      <td>NaN</td>\n",
              "      <td>27.0</td>\n",
              "      <td>15.43</td>\n",
              "      <td>26</td>\n",
              "      <td>NaN</td>\n",
              "      <td>...</td>\n",
              "      <td>8.81</td>\n",
              "      <td>NaN</td>\n",
              "      <td>посёлок Мурино</td>\n",
              "      <td>NaN</td>\n",
              "      <td>NaN</td>\n",
              "      <td>NaN</td>\n",
              "      <td>NaN</td>\n",
              "      <td>NaN</td>\n",
              "      <td>NaN</td>\n",
              "      <td>189.0</td>\n",
              "    </tr>\n",
              "    <tr>\n",
              "      <th>9</th>\n",
              "      <td>18</td>\n",
              "      <td>5400000.0</td>\n",
              "      <td>61.00</td>\n",
              "      <td>2017-02-26T00:00:00</td>\n",
              "      <td>3</td>\n",
              "      <td>2.50</td>\n",
              "      <td>9.0</td>\n",
              "      <td>43.60</td>\n",
              "      <td>7</td>\n",
              "      <td>NaN</td>\n",
              "      <td>...</td>\n",
              "      <td>6.50</td>\n",
              "      <td>2.0</td>\n",
              "      <td>Санкт-Петербург</td>\n",
              "      <td>50898.0</td>\n",
              "      <td>15008.0</td>\n",
              "      <td>0.0</td>\n",
              "      <td>NaN</td>\n",
              "      <td>0.0</td>\n",
              "      <td>NaN</td>\n",
              "      <td>289.0</td>\n",
              "    </tr>\n",
              "    <tr>\n",
              "      <th>10</th>\n",
              "      <td>5</td>\n",
              "      <td>5050000.0</td>\n",
              "      <td>39.60</td>\n",
              "      <td>2017-11-16T00:00:00</td>\n",
              "      <td>1</td>\n",
              "      <td>2.67</td>\n",
              "      <td>12.0</td>\n",
              "      <td>20.30</td>\n",
              "      <td>3</td>\n",
              "      <td>NaN</td>\n",
              "      <td>...</td>\n",
              "      <td>8.50</td>\n",
              "      <td>NaN</td>\n",
              "      <td>Санкт-Петербург</td>\n",
              "      <td>38357.0</td>\n",
              "      <td>13878.0</td>\n",
              "      <td>1.0</td>\n",
              "      <td>310.0</td>\n",
              "      <td>2.0</td>\n",
              "      <td>553.0</td>\n",
              "      <td>137.0</td>\n",
              "    </tr>\n",
              "    <tr>\n",
              "      <th>11</th>\n",
              "      <td>9</td>\n",
              "      <td>3300000.0</td>\n",
              "      <td>44.00</td>\n",
              "      <td>2018-08-27T00:00:00</td>\n",
              "      <td>2</td>\n",
              "      <td>NaN</td>\n",
              "      <td>5.0</td>\n",
              "      <td>31.00</td>\n",
              "      <td>4</td>\n",
              "      <td>False</td>\n",
              "      <td>...</td>\n",
              "      <td>6.00</td>\n",
              "      <td>1.0</td>\n",
              "      <td>Ломоносов</td>\n",
              "      <td>48252.0</td>\n",
              "      <td>51677.0</td>\n",
              "      <td>0.0</td>\n",
              "      <td>NaN</td>\n",
              "      <td>0.0</td>\n",
              "      <td>NaN</td>\n",
              "      <td>7.0</td>\n",
              "    </tr>\n",
              "    <tr>\n",
              "      <th>12</th>\n",
              "      <td>10</td>\n",
              "      <td>3890000.0</td>\n",
              "      <td>54.00</td>\n",
              "      <td>2016-06-30T00:00:00</td>\n",
              "      <td>2</td>\n",
              "      <td>NaN</td>\n",
              "      <td>5.0</td>\n",
              "      <td>30.00</td>\n",
              "      <td>5</td>\n",
              "      <td>NaN</td>\n",
              "      <td>...</td>\n",
              "      <td>9.00</td>\n",
              "      <td>0.0</td>\n",
              "      <td>Сертолово</td>\n",
              "      <td>NaN</td>\n",
              "      <td>NaN</td>\n",
              "      <td>NaN</td>\n",
              "      <td>NaN</td>\n",
              "      <td>NaN</td>\n",
              "      <td>NaN</td>\n",
              "      <td>90.0</td>\n",
              "    </tr>\n",
              "    <tr>\n",
              "      <th>13</th>\n",
              "      <td>20</td>\n",
              "      <td>3550000.0</td>\n",
              "      <td>42.80</td>\n",
              "      <td>2017-07-01T00:00:00</td>\n",
              "      <td>2</td>\n",
              "      <td>2.56</td>\n",
              "      <td>5.0</td>\n",
              "      <td>27.00</td>\n",
              "      <td>5</td>\n",
              "      <td>NaN</td>\n",
              "      <td>...</td>\n",
              "      <td>5.20</td>\n",
              "      <td>1.0</td>\n",
              "      <td>Петергоф</td>\n",
              "      <td>37868.0</td>\n",
              "      <td>33058.0</td>\n",
              "      <td>1.0</td>\n",
              "      <td>294.0</td>\n",
              "      <td>3.0</td>\n",
              "      <td>298.0</td>\n",
              "      <td>366.0</td>\n",
              "    </tr>\n",
              "    <tr>\n",
              "      <th>14</th>\n",
              "      <td>1</td>\n",
              "      <td>4400000.0</td>\n",
              "      <td>36.00</td>\n",
              "      <td>2016-06-23T00:00:00</td>\n",
              "      <td>1</td>\n",
              "      <td>NaN</td>\n",
              "      <td>6.0</td>\n",
              "      <td>17.00</td>\n",
              "      <td>1</td>\n",
              "      <td>NaN</td>\n",
              "      <td>...</td>\n",
              "      <td>8.00</td>\n",
              "      <td>0.0</td>\n",
              "      <td>Пушкин</td>\n",
              "      <td>20782.0</td>\n",
              "      <td>30759.0</td>\n",
              "      <td>0.0</td>\n",
              "      <td>NaN</td>\n",
              "      <td>1.0</td>\n",
              "      <td>96.0</td>\n",
              "      <td>203.0</td>\n",
              "    </tr>\n",
              "    <tr>\n",
              "      <th>15</th>\n",
              "      <td>16</td>\n",
              "      <td>4650000.0</td>\n",
              "      <td>39.00</td>\n",
              "      <td>2017-11-18T00:00:00</td>\n",
              "      <td>1</td>\n",
              "      <td>NaN</td>\n",
              "      <td>14.0</td>\n",
              "      <td>20.50</td>\n",
              "      <td>5</td>\n",
              "      <td>NaN</td>\n",
              "      <td>...</td>\n",
              "      <td>7.60</td>\n",
              "      <td>1.0</td>\n",
              "      <td>Санкт-Петербург</td>\n",
              "      <td>12900.0</td>\n",
              "      <td>14259.0</td>\n",
              "      <td>1.0</td>\n",
              "      <td>590.0</td>\n",
              "      <td>1.0</td>\n",
              "      <td>296.0</td>\n",
              "      <td>19.0</td>\n",
              "    </tr>\n",
              "    <tr>\n",
              "      <th>16</th>\n",
              "      <td>11</td>\n",
              "      <td>6700000.0</td>\n",
              "      <td>82.00</td>\n",
              "      <td>2017-11-23T00:00:00</td>\n",
              "      <td>3</td>\n",
              "      <td>3.05</td>\n",
              "      <td>5.0</td>\n",
              "      <td>55.60</td>\n",
              "      <td>1</td>\n",
              "      <td>NaN</td>\n",
              "      <td>...</td>\n",
              "      <td>9.00</td>\n",
              "      <td>NaN</td>\n",
              "      <td>Санкт-Петербург</td>\n",
              "      <td>22108.0</td>\n",
              "      <td>10698.0</td>\n",
              "      <td>3.0</td>\n",
              "      <td>420.0</td>\n",
              "      <td>0.0</td>\n",
              "      <td>NaN</td>\n",
              "      <td>397.0</td>\n",
              "    </tr>\n",
              "    <tr>\n",
              "      <th>17</th>\n",
              "      <td>6</td>\n",
              "      <td>4180000.0</td>\n",
              "      <td>36.00</td>\n",
              "      <td>2016-09-09T00:00:00</td>\n",
              "      <td>1</td>\n",
              "      <td>NaN</td>\n",
              "      <td>17.0</td>\n",
              "      <td>16.50</td>\n",
              "      <td>7</td>\n",
              "      <td>NaN</td>\n",
              "      <td>...</td>\n",
              "      <td>11.00</td>\n",
              "      <td>1.0</td>\n",
              "      <td>Санкт-Петербург</td>\n",
              "      <td>33564.0</td>\n",
              "      <td>14616.0</td>\n",
              "      <td>0.0</td>\n",
              "      <td>NaN</td>\n",
              "      <td>1.0</td>\n",
              "      <td>859.0</td>\n",
              "      <td>571.0</td>\n",
              "    </tr>\n",
              "    <tr>\n",
              "      <th>18</th>\n",
              "      <td>8</td>\n",
              "      <td>3250000.0</td>\n",
              "      <td>31.00</td>\n",
              "      <td>2017-01-27T00:00:00</td>\n",
              "      <td>1</td>\n",
              "      <td>2.50</td>\n",
              "      <td>5.0</td>\n",
              "      <td>19.40</td>\n",
              "      <td>2</td>\n",
              "      <td>NaN</td>\n",
              "      <td>...</td>\n",
              "      <td>5.60</td>\n",
              "      <td>1.0</td>\n",
              "      <td>Санкт-Петербург</td>\n",
              "      <td>44060.0</td>\n",
              "      <td>10842.0</td>\n",
              "      <td>1.0</td>\n",
              "      <td>759.0</td>\n",
              "      <td>0.0</td>\n",
              "      <td>NaN</td>\n",
              "      <td>168.0</td>\n",
              "    </tr>\n",
              "    <tr>\n",
              "      <th>19</th>\n",
              "      <td>16</td>\n",
              "      <td>14200000.0</td>\n",
              "      <td>121.00</td>\n",
              "      <td>2019-01-09T00:00:00</td>\n",
              "      <td>3</td>\n",
              "      <td>2.75</td>\n",
              "      <td>16.0</td>\n",
              "      <td>76.00</td>\n",
              "      <td>8</td>\n",
              "      <td>NaN</td>\n",
              "      <td>...</td>\n",
              "      <td>12.00</td>\n",
              "      <td>NaN</td>\n",
              "      <td>Санкт-Петербург</td>\n",
              "      <td>38900.0</td>\n",
              "      <td>12843.0</td>\n",
              "      <td>0.0</td>\n",
              "      <td>NaN</td>\n",
              "      <td>0.0</td>\n",
              "      <td>NaN</td>\n",
              "      <td>97.0</td>\n",
              "    </tr>\n",
              "    <tr>\n",
              "      <th>20</th>\n",
              "      <td>12</td>\n",
              "      <td>6120000.0</td>\n",
              "      <td>80.00</td>\n",
              "      <td>2017-09-28T00:00:00</td>\n",
              "      <td>3</td>\n",
              "      <td>2.70</td>\n",
              "      <td>27.0</td>\n",
              "      <td>48.00</td>\n",
              "      <td>11</td>\n",
              "      <td>NaN</td>\n",
              "      <td>...</td>\n",
              "      <td>12.00</td>\n",
              "      <td>2.0</td>\n",
              "      <td>посёлок Парголово</td>\n",
              "      <td>53134.0</td>\n",
              "      <td>19311.0</td>\n",
              "      <td>0.0</td>\n",
              "      <td>NaN</td>\n",
              "      <td>0.0</td>\n",
              "      <td>NaN</td>\n",
              "      <td>74.0</td>\n",
              "    </tr>\n",
              "    <tr>\n",
              "      <th>21</th>\n",
              "      <td>13</td>\n",
              "      <td>3200000.0</td>\n",
              "      <td>31.60</td>\n",
              "      <td>2018-03-14T00:00:00</td>\n",
              "      <td>1</td>\n",
              "      <td>NaN</td>\n",
              "      <td>5.0</td>\n",
              "      <td>16.90</td>\n",
              "      <td>2</td>\n",
              "      <td>NaN</td>\n",
              "      <td>...</td>\n",
              "      <td>5.70</td>\n",
              "      <td>1.0</td>\n",
              "      <td>Санкт-Петербург</td>\n",
              "      <td>36064.0</td>\n",
              "      <td>9722.0</td>\n",
              "      <td>1.0</td>\n",
              "      <td>248.0</td>\n",
              "      <td>0.0</td>\n",
              "      <td>NaN</td>\n",
              "      <td>310.0</td>\n",
              "    </tr>\n",
              "    <tr>\n",
              "      <th>22</th>\n",
              "      <td>20</td>\n",
              "      <td>5000000.0</td>\n",
              "      <td>58.00</td>\n",
              "      <td>2017-04-24T00:00:00</td>\n",
              "      <td>2</td>\n",
              "      <td>2.75</td>\n",
              "      <td>25.0</td>\n",
              "      <td>30.00</td>\n",
              "      <td>15</td>\n",
              "      <td>NaN</td>\n",
              "      <td>...</td>\n",
              "      <td>11.00</td>\n",
              "      <td>2.0</td>\n",
              "      <td>деревня Кудрово</td>\n",
              "      <td>NaN</td>\n",
              "      <td>NaN</td>\n",
              "      <td>NaN</td>\n",
              "      <td>NaN</td>\n",
              "      <td>NaN</td>\n",
              "      <td>NaN</td>\n",
              "      <td>60.0</td>\n",
              "    </tr>\n",
              "    <tr>\n",
              "      <th>23</th>\n",
              "      <td>11</td>\n",
              "      <td>2950000.0</td>\n",
              "      <td>32.00</td>\n",
              "      <td>2016-10-29T00:00:00</td>\n",
              "      <td>1</td>\n",
              "      <td>2.60</td>\n",
              "      <td>9.0</td>\n",
              "      <td>17.70</td>\n",
              "      <td>9</td>\n",
              "      <td>NaN</td>\n",
              "      <td>...</td>\n",
              "      <td>6.10</td>\n",
              "      <td>NaN</td>\n",
              "      <td>Санкт-Петербург</td>\n",
              "      <td>15414.0</td>\n",
              "      <td>14211.0</td>\n",
              "      <td>2.0</td>\n",
              "      <td>517.0</td>\n",
              "      <td>1.0</td>\n",
              "      <td>190.0</td>\n",
              "      <td>615.0</td>\n",
              "    </tr>\n",
              "    <tr>\n",
              "      <th>24</th>\n",
              "      <td>8</td>\n",
              "      <td>6500000.0</td>\n",
              "      <td>97.20</td>\n",
              "      <td>2015-10-31T00:00:00</td>\n",
              "      <td>2</td>\n",
              "      <td>NaN</td>\n",
              "      <td>3.0</td>\n",
              "      <td>46.50</td>\n",
              "      <td>1</td>\n",
              "      <td>NaN</td>\n",
              "      <td>...</td>\n",
              "      <td>19.60</td>\n",
              "      <td>0.0</td>\n",
              "      <td>Санкт-Петербург</td>\n",
              "      <td>20052.0</td>\n",
              "      <td>2336.0</td>\n",
              "      <td>3.0</td>\n",
              "      <td>411.0</td>\n",
              "      <td>3.0</td>\n",
              "      <td>124.0</td>\n",
              "      <td>265.0</td>\n",
              "    </tr>\n",
              "    <tr>\n",
              "      <th>25</th>\n",
              "      <td>3</td>\n",
              "      <td>6800000.0</td>\n",
              "      <td>76.00</td>\n",
              "      <td>2015-10-01T00:00:00</td>\n",
              "      <td>2</td>\n",
              "      <td>2.75</td>\n",
              "      <td>23.0</td>\n",
              "      <td>39.00</td>\n",
              "      <td>18</td>\n",
              "      <td>False</td>\n",
              "      <td>...</td>\n",
              "      <td>15.00</td>\n",
              "      <td>2.0</td>\n",
              "      <td>Санкт-Петербург</td>\n",
              "      <td>34967.0</td>\n",
              "      <td>14640.0</td>\n",
              "      <td>0.0</td>\n",
              "      <td>NaN</td>\n",
              "      <td>1.0</td>\n",
              "      <td>564.0</td>\n",
              "      <td>300.0</td>\n",
              "    </tr>\n",
              "    <tr>\n",
              "      <th>26</th>\n",
              "      <td>6</td>\n",
              "      <td>4050000.0</td>\n",
              "      <td>60.00</td>\n",
              "      <td>2017-04-28T00:00:00</td>\n",
              "      <td>4</td>\n",
              "      <td>NaN</td>\n",
              "      <td>5.0</td>\n",
              "      <td>43.00</td>\n",
              "      <td>4</td>\n",
              "      <td>NaN</td>\n",
              "      <td>...</td>\n",
              "      <td>7.00</td>\n",
              "      <td>NaN</td>\n",
              "      <td>Санкт-Петербург</td>\n",
              "      <td>11580.0</td>\n",
              "      <td>10510.0</td>\n",
              "      <td>0.0</td>\n",
              "      <td>NaN</td>\n",
              "      <td>1.0</td>\n",
              "      <td>95.0</td>\n",
              "      <td>265.0</td>\n",
              "    </tr>\n",
              "    <tr>\n",
              "      <th>27</th>\n",
              "      <td>20</td>\n",
              "      <td>7100000.0</td>\n",
              "      <td>70.00</td>\n",
              "      <td>2017-05-12T00:00:00</td>\n",
              "      <td>3</td>\n",
              "      <td>2.60</td>\n",
              "      <td>17.0</td>\n",
              "      <td>49.00</td>\n",
              "      <td>11</td>\n",
              "      <td>NaN</td>\n",
              "      <td>...</td>\n",
              "      <td>9.20</td>\n",
              "      <td>0.0</td>\n",
              "      <td>Санкт-Петербург</td>\n",
              "      <td>29197.0</td>\n",
              "      <td>11456.0</td>\n",
              "      <td>2.0</td>\n",
              "      <td>452.0</td>\n",
              "      <td>1.0</td>\n",
              "      <td>779.0</td>\n",
              "      <td>151.0</td>\n",
              "    </tr>\n",
              "    <tr>\n",
              "      <th>28</th>\n",
              "      <td>8</td>\n",
              "      <td>4170000.0</td>\n",
              "      <td>44.00</td>\n",
              "      <td>2017-12-13T00:00:00</td>\n",
              "      <td>1</td>\n",
              "      <td>2.90</td>\n",
              "      <td>6.0</td>\n",
              "      <td>20.80</td>\n",
              "      <td>1</td>\n",
              "      <td>NaN</td>\n",
              "      <td>...</td>\n",
              "      <td>11.70</td>\n",
              "      <td>1.0</td>\n",
              "      <td>Пушкин</td>\n",
              "      <td>18557.0</td>\n",
              "      <td>30710.0</td>\n",
              "      <td>0.0</td>\n",
              "      <td>NaN</td>\n",
              "      <td>1.0</td>\n",
              "      <td>118.0</td>\n",
              "      <td>74.0</td>\n",
              "    </tr>\n",
              "    <tr>\n",
              "      <th>29</th>\n",
              "      <td>9</td>\n",
              "      <td>8600000.0</td>\n",
              "      <td>100.00</td>\n",
              "      <td>2016-04-09T00:00:00</td>\n",
              "      <td>3</td>\n",
              "      <td>NaN</td>\n",
              "      <td>19.0</td>\n",
              "      <td>52.00</td>\n",
              "      <td>15</td>\n",
              "      <td>False</td>\n",
              "      <td>...</td>\n",
              "      <td>11.00</td>\n",
              "      <td>0.0</td>\n",
              "      <td>Санкт-Петербург</td>\n",
              "      <td>30394.0</td>\n",
              "      <td>11526.0</td>\n",
              "      <td>1.0</td>\n",
              "      <td>532.0</td>\n",
              "      <td>1.0</td>\n",
              "      <td>896.0</td>\n",
              "      <td>125.0</td>\n",
              "    </tr>\n",
              "    <tr>\n",
              "      <th>30</th>\n",
              "      <td>12</td>\n",
              "      <td>2200000.0</td>\n",
              "      <td>32.80</td>\n",
              "      <td>2018-02-19T00:00:00</td>\n",
              "      <td>1</td>\n",
              "      <td>NaN</td>\n",
              "      <td>9.0</td>\n",
              "      <td>NaN</td>\n",
              "      <td>2</td>\n",
              "      <td>NaN</td>\n",
              "      <td>...</td>\n",
              "      <td>NaN</td>\n",
              "      <td>NaN</td>\n",
              "      <td>Коммунар</td>\n",
              "      <td>NaN</td>\n",
              "      <td>NaN</td>\n",
              "      <td>NaN</td>\n",
              "      <td>NaN</td>\n",
              "      <td>NaN</td>\n",
              "      <td>NaN</td>\n",
              "      <td>63.0</td>\n",
              "    </tr>\n",
              "    <tr>\n",
              "      <th>31</th>\n",
              "      <td>8</td>\n",
              "      <td>7200000.0</td>\n",
              "      <td>67.90</td>\n",
              "      <td>2017-10-26T00:00:00</td>\n",
              "      <td>2</td>\n",
              "      <td>2.80</td>\n",
              "      <td>16.0</td>\n",
              "      <td>38.10</td>\n",
              "      <td>4</td>\n",
              "      <td>NaN</td>\n",
              "      <td>...</td>\n",
              "      <td>13.40</td>\n",
              "      <td>2.0</td>\n",
              "      <td>Санкт-Петербург</td>\n",
              "      <td>32888.0</td>\n",
              "      <td>12944.0</td>\n",
              "      <td>0.0</td>\n",
              "      <td>NaN</td>\n",
              "      <td>0.0</td>\n",
              "      <td>NaN</td>\n",
              "      <td>112.0</td>\n",
              "    </tr>\n",
              "    <tr>\n",
              "      <th>32</th>\n",
              "      <td>7</td>\n",
              "      <td>4990000.0</td>\n",
              "      <td>60.00</td>\n",
              "      <td>2016-05-22T00:00:00</td>\n",
              "      <td>3</td>\n",
              "      <td>NaN</td>\n",
              "      <td>5.0</td>\n",
              "      <td>39.00</td>\n",
              "      <td>4</td>\n",
              "      <td>NaN</td>\n",
              "      <td>...</td>\n",
              "      <td>6.00</td>\n",
              "      <td>0.0</td>\n",
              "      <td>Санкт-Петербург</td>\n",
              "      <td>11349.0</td>\n",
              "      <td>12889.0</td>\n",
              "      <td>0.0</td>\n",
              "      <td>NaN</td>\n",
              "      <td>1.0</td>\n",
              "      <td>426.0</td>\n",
              "      <td>224.0</td>\n",
              "    </tr>\n",
              "    <tr>\n",
              "      <th>33</th>\n",
              "      <td>8</td>\n",
              "      <td>4800000.0</td>\n",
              "      <td>73.00</td>\n",
              "      <td>2018-10-15T00:00:00</td>\n",
              "      <td>4</td>\n",
              "      <td>NaN</td>\n",
              "      <td>9.0</td>\n",
              "      <td>51.60</td>\n",
              "      <td>5</td>\n",
              "      <td>NaN</td>\n",
              "      <td>...</td>\n",
              "      <td>6.50</td>\n",
              "      <td>NaN</td>\n",
              "      <td>Колпино</td>\n",
              "      <td>26535.0</td>\n",
              "      <td>32321.0</td>\n",
              "      <td>0.0</td>\n",
              "      <td>NaN</td>\n",
              "      <td>0.0</td>\n",
              "      <td>NaN</td>\n",
              "      <td>92.0</td>\n",
              "    </tr>\n",
              "    <tr>\n",
              "      <th>34</th>\n",
              "      <td>3</td>\n",
              "      <td>3290000.0</td>\n",
              "      <td>33.00</td>\n",
              "      <td>2018-02-04T00:00:00</td>\n",
              "      <td>1</td>\n",
              "      <td>2.55</td>\n",
              "      <td>16.0</td>\n",
              "      <td>14.00</td>\n",
              "      <td>3</td>\n",
              "      <td>NaN</td>\n",
              "      <td>...</td>\n",
              "      <td>8.00</td>\n",
              "      <td>NaN</td>\n",
              "      <td>Санкт-Петербург</td>\n",
              "      <td>13943.0</td>\n",
              "      <td>12739.0</td>\n",
              "      <td>0.0</td>\n",
              "      <td>NaN</td>\n",
              "      <td>0.0</td>\n",
              "      <td>NaN</td>\n",
              "      <td>15.0</td>\n",
              "    </tr>\n",
              "    <tr>\n",
              "      <th>35</th>\n",
              "      <td>6</td>\n",
              "      <td>15500000.0</td>\n",
              "      <td>149.00</td>\n",
              "      <td>2017-06-26T00:00:00</td>\n",
              "      <td>5</td>\n",
              "      <td>NaN</td>\n",
              "      <td>5.0</td>\n",
              "      <td>104.00</td>\n",
              "      <td>4</td>\n",
              "      <td>NaN</td>\n",
              "      <td>...</td>\n",
              "      <td>17.00</td>\n",
              "      <td>NaN</td>\n",
              "      <td>Санкт-Петербург</td>\n",
              "      <td>23670.0</td>\n",
              "      <td>3502.0</td>\n",
              "      <td>0.0</td>\n",
              "      <td>NaN</td>\n",
              "      <td>1.0</td>\n",
              "      <td>779.0</td>\n",
              "      <td>644.0</td>\n",
              "    </tr>\n",
              "    <tr>\n",
              "      <th>36</th>\n",
              "      <td>13</td>\n",
              "      <td>3790000.0</td>\n",
              "      <td>45.00</td>\n",
              "      <td>2017-01-25T00:00:00</td>\n",
              "      <td>2</td>\n",
              "      <td>NaN</td>\n",
              "      <td>9.0</td>\n",
              "      <td>27.00</td>\n",
              "      <td>9</td>\n",
              "      <td>False</td>\n",
              "      <td>...</td>\n",
              "      <td>6.30</td>\n",
              "      <td>2.0</td>\n",
              "      <td>Санкт-Петербург</td>\n",
              "      <td>49574.0</td>\n",
              "      <td>16461.0</td>\n",
              "      <td>1.0</td>\n",
              "      <td>459.0</td>\n",
              "      <td>0.0</td>\n",
              "      <td>NaN</td>\n",
              "      <td>139.0</td>\n",
              "    </tr>\n",
              "    <tr>\n",
              "      <th>37</th>\n",
              "      <td>10</td>\n",
              "      <td>1990000.0</td>\n",
              "      <td>45.80</td>\n",
              "      <td>2017-10-28T00:00:00</td>\n",
              "      <td>2</td>\n",
              "      <td>2.50</td>\n",
              "      <td>5.0</td>\n",
              "      <td>NaN</td>\n",
              "      <td>1</td>\n",
              "      <td>NaN</td>\n",
              "      <td>...</td>\n",
              "      <td>NaN</td>\n",
              "      <td>NaN</td>\n",
              "      <td>поселок городского типа Красный Бор</td>\n",
              "      <td>NaN</td>\n",
              "      <td>NaN</td>\n",
              "      <td>NaN</td>\n",
              "      <td>NaN</td>\n",
              "      <td>NaN</td>\n",
              "      <td>NaN</td>\n",
              "      <td>196.0</td>\n",
              "    </tr>\n",
              "    <tr>\n",
              "      <th>38</th>\n",
              "      <td>10</td>\n",
              "      <td>3150000.0</td>\n",
              "      <td>40.00</td>\n",
              "      <td>2018-03-29T00:00:00</td>\n",
              "      <td>1</td>\n",
              "      <td>2.75</td>\n",
              "      <td>18.0</td>\n",
              "      <td>16.30</td>\n",
              "      <td>9</td>\n",
              "      <td>NaN</td>\n",
              "      <td>...</td>\n",
              "      <td>11.60</td>\n",
              "      <td>NaN</td>\n",
              "      <td>посёлок Мурино</td>\n",
              "      <td>NaN</td>\n",
              "      <td>NaN</td>\n",
              "      <td>NaN</td>\n",
              "      <td>NaN</td>\n",
              "      <td>NaN</td>\n",
              "      <td>NaN</td>\n",
              "      <td>103.0</td>\n",
              "    </tr>\n",
              "    <tr>\n",
              "      <th>39</th>\n",
              "      <td>15</td>\n",
              "      <td>5200000.0</td>\n",
              "      <td>54.40</td>\n",
              "      <td>2018-11-29T00:00:00</td>\n",
              "      <td>2</td>\n",
              "      <td>2.75</td>\n",
              "      <td>9.0</td>\n",
              "      <td>29.70</td>\n",
              "      <td>2</td>\n",
              "      <td>NaN</td>\n",
              "      <td>...</td>\n",
              "      <td>8.80</td>\n",
              "      <td>2.0</td>\n",
              "      <td>Санкт-Петербург</td>\n",
              "      <td>13413.0</td>\n",
              "      <td>12209.0</td>\n",
              "      <td>0.0</td>\n",
              "      <td>NaN</td>\n",
              "      <td>1.0</td>\n",
              "      <td>1175.0</td>\n",
              "      <td>29.0</td>\n",
              "    </tr>\n",
              "  </tbody>\n",
              "</table>\n",
              "<p>40 rows × 22 columns</p>\n",
              "</div>"
            ],
            "text/plain": [
              "    total_images  last_price  total_area first_day_exposition  rooms  \\\n",
              "0             20  13000000.0      108.00  2019-03-07T00:00:00      3   \n",
              "1              7   3350000.0       40.40  2018-12-04T00:00:00      1   \n",
              "2             10   5196000.0       56.00  2015-08-20T00:00:00      2   \n",
              "3              0  64900000.0      159.00  2015-07-24T00:00:00      3   \n",
              "4              2  10000000.0      100.00  2018-06-19T00:00:00      2   \n",
              "5             10   2890000.0       30.40  2018-09-10T00:00:00      1   \n",
              "6              6   3700000.0       37.30  2017-11-02T00:00:00      1   \n",
              "7              5   7915000.0       71.60  2019-04-18T00:00:00      2   \n",
              "8             20   2900000.0       33.16  2018-05-23T00:00:00      1   \n",
              "9             18   5400000.0       61.00  2017-02-26T00:00:00      3   \n",
              "10             5   5050000.0       39.60  2017-11-16T00:00:00      1   \n",
              "11             9   3300000.0       44.00  2018-08-27T00:00:00      2   \n",
              "12            10   3890000.0       54.00  2016-06-30T00:00:00      2   \n",
              "13            20   3550000.0       42.80  2017-07-01T00:00:00      2   \n",
              "14             1   4400000.0       36.00  2016-06-23T00:00:00      1   \n",
              "15            16   4650000.0       39.00  2017-11-18T00:00:00      1   \n",
              "16            11   6700000.0       82.00  2017-11-23T00:00:00      3   \n",
              "17             6   4180000.0       36.00  2016-09-09T00:00:00      1   \n",
              "18             8   3250000.0       31.00  2017-01-27T00:00:00      1   \n",
              "19            16  14200000.0      121.00  2019-01-09T00:00:00      3   \n",
              "20            12   6120000.0       80.00  2017-09-28T00:00:00      3   \n",
              "21            13   3200000.0       31.60  2018-03-14T00:00:00      1   \n",
              "22            20   5000000.0       58.00  2017-04-24T00:00:00      2   \n",
              "23            11   2950000.0       32.00  2016-10-29T00:00:00      1   \n",
              "24             8   6500000.0       97.20  2015-10-31T00:00:00      2   \n",
              "25             3   6800000.0       76.00  2015-10-01T00:00:00      2   \n",
              "26             6   4050000.0       60.00  2017-04-28T00:00:00      4   \n",
              "27            20   7100000.0       70.00  2017-05-12T00:00:00      3   \n",
              "28             8   4170000.0       44.00  2017-12-13T00:00:00      1   \n",
              "29             9   8600000.0      100.00  2016-04-09T00:00:00      3   \n",
              "30            12   2200000.0       32.80  2018-02-19T00:00:00      1   \n",
              "31             8   7200000.0       67.90  2017-10-26T00:00:00      2   \n",
              "32             7   4990000.0       60.00  2016-05-22T00:00:00      3   \n",
              "33             8   4800000.0       73.00  2018-10-15T00:00:00      4   \n",
              "34             3   3290000.0       33.00  2018-02-04T00:00:00      1   \n",
              "35             6  15500000.0      149.00  2017-06-26T00:00:00      5   \n",
              "36            13   3790000.0       45.00  2017-01-25T00:00:00      2   \n",
              "37            10   1990000.0       45.80  2017-10-28T00:00:00      2   \n",
              "38            10   3150000.0       40.00  2018-03-29T00:00:00      1   \n",
              "39            15   5200000.0       54.40  2018-11-29T00:00:00      2   \n",
              "\n",
              "    ceiling_height  floors_total  living_area  floor is_apartment  ...  \\\n",
              "0             2.70          16.0        51.00      8          NaN  ...   \n",
              "1              NaN          11.0        18.60      1          NaN  ...   \n",
              "2              NaN           5.0        34.30      4          NaN  ...   \n",
              "3              NaN          14.0          NaN      9          NaN  ...   \n",
              "4             3.03          14.0        32.00     13          NaN  ...   \n",
              "5              NaN          12.0        14.40      5          NaN  ...   \n",
              "6              NaN          26.0        10.60      6          NaN  ...   \n",
              "7              NaN          24.0          NaN     22          NaN  ...   \n",
              "8              NaN          27.0        15.43     26          NaN  ...   \n",
              "9             2.50           9.0        43.60      7          NaN  ...   \n",
              "10            2.67          12.0        20.30      3          NaN  ...   \n",
              "11             NaN           5.0        31.00      4        False  ...   \n",
              "12             NaN           5.0        30.00      5          NaN  ...   \n",
              "13            2.56           5.0        27.00      5          NaN  ...   \n",
              "14             NaN           6.0        17.00      1          NaN  ...   \n",
              "15             NaN          14.0        20.50      5          NaN  ...   \n",
              "16            3.05           5.0        55.60      1          NaN  ...   \n",
              "17             NaN          17.0        16.50      7          NaN  ...   \n",
              "18            2.50           5.0        19.40      2          NaN  ...   \n",
              "19            2.75          16.0        76.00      8          NaN  ...   \n",
              "20            2.70          27.0        48.00     11          NaN  ...   \n",
              "21             NaN           5.0        16.90      2          NaN  ...   \n",
              "22            2.75          25.0        30.00     15          NaN  ...   \n",
              "23            2.60           9.0        17.70      9          NaN  ...   \n",
              "24             NaN           3.0        46.50      1          NaN  ...   \n",
              "25            2.75          23.0        39.00     18        False  ...   \n",
              "26             NaN           5.0        43.00      4          NaN  ...   \n",
              "27            2.60          17.0        49.00     11          NaN  ...   \n",
              "28            2.90           6.0        20.80      1          NaN  ...   \n",
              "29             NaN          19.0        52.00     15        False  ...   \n",
              "30             NaN           9.0          NaN      2          NaN  ...   \n",
              "31            2.80          16.0        38.10      4          NaN  ...   \n",
              "32             NaN           5.0        39.00      4          NaN  ...   \n",
              "33             NaN           9.0        51.60      5          NaN  ...   \n",
              "34            2.55          16.0        14.00      3          NaN  ...   \n",
              "35             NaN           5.0       104.00      4          NaN  ...   \n",
              "36             NaN           9.0        27.00      9        False  ...   \n",
              "37            2.50           5.0          NaN      1          NaN  ...   \n",
              "38            2.75          18.0        16.30      9          NaN  ...   \n",
              "39            2.75           9.0        29.70      2          NaN  ...   \n",
              "\n",
              "    kitchen_area  balcony                        locality_name  \\\n",
              "0          25.00      NaN                      Санкт-Петербург   \n",
              "1          11.00      2.0                       посёлок Шушары   \n",
              "2           8.30      0.0                      Санкт-Петербург   \n",
              "3            NaN      0.0                      Санкт-Петербург   \n",
              "4          41.00      NaN                      Санкт-Петербург   \n",
              "5           9.10      NaN            городской посёлок Янино-1   \n",
              "6          14.40      1.0                    посёлок Парголово   \n",
              "7          18.90      2.0                      Санкт-Петербург   \n",
              "8           8.81      NaN                       посёлок Мурино   \n",
              "9           6.50      2.0                      Санкт-Петербург   \n",
              "10          8.50      NaN                      Санкт-Петербург   \n",
              "11          6.00      1.0                            Ломоносов   \n",
              "12          9.00      0.0                            Сертолово   \n",
              "13          5.20      1.0                             Петергоф   \n",
              "14          8.00      0.0                               Пушкин   \n",
              "15          7.60      1.0                      Санкт-Петербург   \n",
              "16          9.00      NaN                      Санкт-Петербург   \n",
              "17         11.00      1.0                      Санкт-Петербург   \n",
              "18          5.60      1.0                      Санкт-Петербург   \n",
              "19         12.00      NaN                      Санкт-Петербург   \n",
              "20         12.00      2.0                    посёлок Парголово   \n",
              "21          5.70      1.0                      Санкт-Петербург   \n",
              "22         11.00      2.0                      деревня Кудрово   \n",
              "23          6.10      NaN                      Санкт-Петербург   \n",
              "24         19.60      0.0                      Санкт-Петербург   \n",
              "25         15.00      2.0                      Санкт-Петербург   \n",
              "26          7.00      NaN                      Санкт-Петербург   \n",
              "27          9.20      0.0                      Санкт-Петербург   \n",
              "28         11.70      1.0                               Пушкин   \n",
              "29         11.00      0.0                      Санкт-Петербург   \n",
              "30           NaN      NaN                             Коммунар   \n",
              "31         13.40      2.0                      Санкт-Петербург   \n",
              "32          6.00      0.0                      Санкт-Петербург   \n",
              "33          6.50      NaN                              Колпино   \n",
              "34          8.00      NaN                      Санкт-Петербург   \n",
              "35         17.00      NaN                      Санкт-Петербург   \n",
              "36          6.30      2.0                      Санкт-Петербург   \n",
              "37           NaN      NaN  поселок городского типа Красный Бор   \n",
              "38         11.60      NaN                       посёлок Мурино   \n",
              "39          8.80      2.0                      Санкт-Петербург   \n",
              "\n",
              "    airports_nearest cityCenters_nearest  parks_around3000  parks_nearest  \\\n",
              "0            18863.0             16028.0               1.0          482.0   \n",
              "1            12817.0             18603.0               0.0            NaN   \n",
              "2            21741.0             13933.0               1.0           90.0   \n",
              "3            28098.0              6800.0               2.0           84.0   \n",
              "4            31856.0              8098.0               2.0          112.0   \n",
              "5                NaN                 NaN               NaN            NaN   \n",
              "6            52996.0             19143.0               0.0            NaN   \n",
              "7            23982.0             11634.0               0.0            NaN   \n",
              "8                NaN                 NaN               NaN            NaN   \n",
              "9            50898.0             15008.0               0.0            NaN   \n",
              "10           38357.0             13878.0               1.0          310.0   \n",
              "11           48252.0             51677.0               0.0            NaN   \n",
              "12               NaN                 NaN               NaN            NaN   \n",
              "13           37868.0             33058.0               1.0          294.0   \n",
              "14           20782.0             30759.0               0.0            NaN   \n",
              "15           12900.0             14259.0               1.0          590.0   \n",
              "16           22108.0             10698.0               3.0          420.0   \n",
              "17           33564.0             14616.0               0.0            NaN   \n",
              "18           44060.0             10842.0               1.0          759.0   \n",
              "19           38900.0             12843.0               0.0            NaN   \n",
              "20           53134.0             19311.0               0.0            NaN   \n",
              "21           36064.0              9722.0               1.0          248.0   \n",
              "22               NaN                 NaN               NaN            NaN   \n",
              "23           15414.0             14211.0               2.0          517.0   \n",
              "24           20052.0              2336.0               3.0          411.0   \n",
              "25           34967.0             14640.0               0.0            NaN   \n",
              "26           11580.0             10510.0               0.0            NaN   \n",
              "27           29197.0             11456.0               2.0          452.0   \n",
              "28           18557.0             30710.0               0.0            NaN   \n",
              "29           30394.0             11526.0               1.0          532.0   \n",
              "30               NaN                 NaN               NaN            NaN   \n",
              "31           32888.0             12944.0               0.0            NaN   \n",
              "32           11349.0             12889.0               0.0            NaN   \n",
              "33           26535.0             32321.0               0.0            NaN   \n",
              "34           13943.0             12739.0               0.0            NaN   \n",
              "35           23670.0              3502.0               0.0            NaN   \n",
              "36           49574.0             16461.0               1.0          459.0   \n",
              "37               NaN                 NaN               NaN            NaN   \n",
              "38               NaN                 NaN               NaN            NaN   \n",
              "39           13413.0             12209.0               0.0            NaN   \n",
              "\n",
              "    ponds_around3000  ponds_nearest  days_exposition  \n",
              "0                2.0          755.0              NaN  \n",
              "1                0.0            NaN             81.0  \n",
              "2                2.0          574.0            558.0  \n",
              "3                3.0          234.0            424.0  \n",
              "4                1.0           48.0            121.0  \n",
              "5                NaN            NaN             55.0  \n",
              "6                0.0            NaN            155.0  \n",
              "7                0.0            NaN              NaN  \n",
              "8                NaN            NaN            189.0  \n",
              "9                0.0            NaN            289.0  \n",
              "10               2.0          553.0            137.0  \n",
              "11               0.0            NaN              7.0  \n",
              "12               NaN            NaN             90.0  \n",
              "13               3.0          298.0            366.0  \n",
              "14               1.0           96.0            203.0  \n",
              "15               1.0          296.0             19.0  \n",
              "16               0.0            NaN            397.0  \n",
              "17               1.0          859.0            571.0  \n",
              "18               0.0            NaN            168.0  \n",
              "19               0.0            NaN             97.0  \n",
              "20               0.0            NaN             74.0  \n",
              "21               0.0            NaN            310.0  \n",
              "22               NaN            NaN             60.0  \n",
              "23               1.0          190.0            615.0  \n",
              "24               3.0          124.0            265.0  \n",
              "25               1.0          564.0            300.0  \n",
              "26               1.0           95.0            265.0  \n",
              "27               1.0          779.0            151.0  \n",
              "28               1.0          118.0             74.0  \n",
              "29               1.0          896.0            125.0  \n",
              "30               NaN            NaN             63.0  \n",
              "31               0.0            NaN            112.0  \n",
              "32               1.0          426.0            224.0  \n",
              "33               0.0            NaN             92.0  \n",
              "34               0.0            NaN             15.0  \n",
              "35               1.0          779.0            644.0  \n",
              "36               0.0            NaN            139.0  \n",
              "37               NaN            NaN            196.0  \n",
              "38               NaN            NaN            103.0  \n",
              "39               1.0         1175.0             29.0  \n",
              "\n",
              "[40 rows x 22 columns]"
            ]
          },
          "execution_count": 3,
          "metadata": {},
          "output_type": "execute_result"
        }
      ],
      "source": [
        "data.head(40)"
      ]
    },
    {
      "cell_type": "code",
      "execution_count": null,
      "metadata": {
        "id": "XusYSPZoP9CE",
        "outputId": "10f10083-dabb-4508-d3c2-8b3bd93467bb"
      },
      "outputs": [
        {
          "data": {
            "text/plain": [
              "array([[<AxesSubplot:title={'center':'total_images'}>,\n",
              "        <AxesSubplot:title={'center':'last_price'}>,\n",
              "        <AxesSubplot:title={'center':'total_area'}>,\n",
              "        <AxesSubplot:title={'center':'rooms'}>],\n",
              "       [<AxesSubplot:title={'center':'ceiling_height'}>,\n",
              "        <AxesSubplot:title={'center':'floors_total'}>,\n",
              "        <AxesSubplot:title={'center':'living_area'}>,\n",
              "        <AxesSubplot:title={'center':'floor'}>],\n",
              "       [<AxesSubplot:title={'center':'kitchen_area'}>,\n",
              "        <AxesSubplot:title={'center':'balcony'}>,\n",
              "        <AxesSubplot:title={'center':'airports_nearest'}>,\n",
              "        <AxesSubplot:title={'center':'cityCenters_nearest'}>],\n",
              "       [<AxesSubplot:title={'center':'parks_around3000'}>,\n",
              "        <AxesSubplot:title={'center':'parks_nearest'}>,\n",
              "        <AxesSubplot:title={'center':'ponds_around3000'}>,\n",
              "        <AxesSubplot:title={'center':'ponds_nearest'}>],\n",
              "       [<AxesSubplot:title={'center':'days_exposition'}>, <AxesSubplot:>,\n",
              "        <AxesSubplot:>, <AxesSubplot:>]], dtype=object)"
            ]
          },
          "execution_count": 4,
          "metadata": {},
          "output_type": "execute_result"
        },
        {
          "data": {
            "image/png": "[encoded data removed]",
            "text/plain": [
              "<Figure size 1080x1440 with 20 Axes>"
            ]
          },
          "metadata": {
            "needs_background": "light"
          },
          "output_type": "display_data"
        }
      ],
      "source": [
        "data.hist(figsize=(15, 20))"
      ]
    },
    {
      "cell_type": "markdown",
      "metadata": {
        "id": "gXjXOGNlP9CE"
      },
      "source": [
        "**Вывод**"
      ]
    },
    {
      "cell_type": "markdown",
      "metadata": {
        "id": "zGuj-zevP9CE"
      },
      "source": [
        "В данных были обнаружены пропуски и неверные типы данных. Таким образом, необходимо рассмтотреть пропуски в следующих столбцах:\n",
        "    \n",
        "- ceiling_height\n",
        "- floors_total               \n",
        "- living_area              \n",
        "- is_apartment            \n",
        "- kitchen_area            \n",
        "- balcony                 \n",
        "- locality_name              \n",
        "- airports_nearest         \n",
        "- cityCenters_nearest      \n",
        "- parks_around3000         \n",
        "- parks_nearest           \n",
        "- ponds_around3000         \n",
        "- ponds_nearest           \n",
        "- days_exposition\n",
        "\n",
        "Также необходимо исправить типа данных в следующих столбцах:\n",
        "- first_day_exposition на datetime\n",
        "- floors_total на int\n",
        "- is_apartment на bool\n",
        "- parks_around3000 на int\n",
        "- days_exposition на int"
      ]
    },
    {
      "cell_type": "markdown",
      "metadata": {
        "id": "Dw41Z--RP9CF"
      },
      "source": [
        "### Предобработка данных"
      ]
    },
    {
      "cell_type": "markdown",
      "metadata": {
        "id": "AONXi6hyP9CF"
      },
      "source": [
        "Взаимосвязь с другими данными не была выявленна, поэтому можно предположить, что были допущены ошибки при их заполнении."
      ]
    },
    {
      "cell_type": "markdown",
      "metadata": {
        "id": "1GUxCFszP9CF"
      },
      "source": [
        "Эти данные лучше всего заменить на медианное значение, чтобы это не помешало расчетам"
      ]
    },
    {
      "cell_type": "code",
      "execution_count": null,
      "metadata": {
        "id": "nDYF_hPmP9CF",
        "outputId": "5beb8bde-8524-44a2-afe8-7db900b44296"
      },
      "outputs": [
        {
          "data": {
            "text/plain": [
              "0"
            ]
          },
          "execution_count": 5,
          "metadata": {},
          "output_type": "execute_result"
        }
      ],
      "source": [
        "data['ceiling_height'].fillna(data['ceiling_height'].median(), inplace = True)\n",
        "data['ceiling_height'].isna().sum()"
      ]
    },
    {
      "cell_type": "code",
      "execution_count": null,
      "metadata": {
        "id": "PpLUiEzaP9CF",
        "outputId": "03124071-2dfe-485f-f59a-e142bab90e6e"
      },
      "outputs": [
        {
          "data": {
            "text/plain": [
              "0"
            ]
          },
          "execution_count": 6,
          "metadata": {},
          "output_type": "execute_result"
        }
      ],
      "source": [
        "data['living_area'].fillna(data['living_area'].median(), inplace = True)\n",
        "data['living_area'].isna().sum()"
      ]
    },
    {
      "cell_type": "code",
      "execution_count": null,
      "metadata": {
        "id": "UMi72y6WP9CF",
        "outputId": "b7cf2d3b-329c-4ee4-f421-d26827b508c3"
      },
      "outputs": [
        {
          "data": {
            "text/plain": [
              "0"
            ]
          },
          "execution_count": 7,
          "metadata": {},
          "output_type": "execute_result"
        }
      ],
      "source": [
        "data['kitchen_area'].fillna(data['kitchen_area'].median(), inplace = True)\n",
        "data['kitchen_area'].isna().sum()"
      ]
    },
    {
      "cell_type": "markdown",
      "metadata": {
        "id": "QZYqgDtBP9CG"
      },
      "source": [
        "Такие данные бесполезно заменять, это может увеличить количество выбросов, поэтому их лучше удалить"
      ]
    },
    {
      "cell_type": "code",
      "execution_count": null,
      "metadata": {
        "id": "j5bnDkFIP9CG",
        "outputId": "3270f0f8-a759-4159-8810-ed4d0ccdeecb"
      },
      "outputs": [
        {
          "data": {
            "text/plain": [
              "0"
            ]
          },
          "execution_count": 8,
          "metadata": {},
          "output_type": "execute_result"
        }
      ],
      "source": [
        "data.dropna(subset=['locality_name'], inplace=True)\n",
        "data['locality_name'].isna().sum()"
      ]
    },
    {
      "cell_type": "code",
      "execution_count": null,
      "metadata": {
        "id": "RH0pkGeTP9CG",
        "outputId": "00116a31-90a9-4c37-9b70-b8b46c27d2ca"
      },
      "outputs": [
        {
          "data": {
            "text/plain": [
              "0"
            ]
          },
          "execution_count": 9,
          "metadata": {},
          "output_type": "execute_result"
        }
      ],
      "source": [
        "data.dropna(subset=['floors_total'], inplace=True)\n",
        "data['floors_total'].isna().sum()"
      ]
    },
    {
      "cell_type": "markdown",
      "metadata": {
        "id": "EF9VxmJsP9CG"
      },
      "source": [
        "Данные о балконах скорее всего были ошибочно заполненны, можно предположить , что в этой недвижимости просто отсутствуют балконы."
      ]
    },
    {
      "cell_type": "code",
      "execution_count": null,
      "metadata": {
        "id": "N0KrkHIoP9CG",
        "outputId": "7ccd654a-93f7-4a74-dbbb-17b8cd1ad73a"
      },
      "outputs": [
        {
          "data": {
            "text/plain": [
              "0"
            ]
          },
          "execution_count": 10,
          "metadata": {},
          "output_type": "execute_result"
        }
      ],
      "source": [
        "data['balcony'] = data['balcony'].fillna(value = 0).astype('int') #заменяем тип данных\n",
        "data['balcony'].isna().sum()"
      ]
    },
    {
      "cell_type": "code",
      "execution_count": null,
      "metadata": {
        "id": "maLbmVWiP9CH",
        "outputId": "5d4c9716-7af9-43d8-d7ca-eccf9103fcf3"
      },
      "outputs": [
        {
          "data": {
            "text/plain": [
              "0"
            ]
          },
          "execution_count": 11,
          "metadata": {},
          "output_type": "execute_result"
        }
      ],
      "source": [
        "data['is_apartment'] = data['is_apartment'].fillna(value = False)\n",
        "data['is_apartment'].isna().sum()"
      ]
    },
    {
      "cell_type": "markdown",
      "metadata": {
        "id": "9Uf2PM3zP9CH"
      },
      "source": [
        "Здесь тоже можно предположить, что данные были ошибочно заполнены.Более того, небходимо заменить тип данных на иннтеджер"
      ]
    },
    {
      "cell_type": "code",
      "execution_count": null,
      "metadata": {
        "id": "rZjQxz9NP9CH"
      },
      "outputs": [],
      "source": [
        "import numpy as np\n",
        "data['days_exposition'] = np.floor(pd.to_numeric(data['days_exposition'], errors='coerce')).astype('Int64')"
      ]
    },
    {
      "cell_type": "markdown",
      "metadata": {
        "id": "G_M0onsMP9CH"
      },
      "source": [
        "<div class=\"alert alert-info\">\n",
        "<b>Изменено</b>"
      ]
    },
    {
      "cell_type": "markdown",
      "metadata": {
        "id": "o0t3CGG1P9CH"
      },
      "source": [
        "Данные взаимосвязаны между собой, но мы можем предположить, что в этом радиусе нет ни парков ни водоемов"
      ]
    },
    {
      "cell_type": "code",
      "execution_count": null,
      "metadata": {
        "id": "wU3YWhelP9CH",
        "outputId": "3172779a-0358-4418-9aab-378f86d1aca7"
      },
      "outputs": [
        {
          "data": {
            "text/plain": [
              "0"
            ]
          },
          "execution_count": 13,
          "metadata": {},
          "output_type": "execute_result"
        }
      ],
      "source": [
        "data['parks_around3000'] = data['parks_around3000'].fillna(value = 0).astype('int')#заменяем тип данных\n",
        "data['parks_around3000'].isna().sum()"
      ]
    },
    {
      "cell_type": "code",
      "execution_count": null,
      "metadata": {
        "id": "gLKoIpVSP9CI",
        "outputId": "b802e7a1-d4e5-4717-cbd2-d4f636c184b4"
      },
      "outputs": [
        {
          "data": {
            "text/plain": [
              "0"
            ]
          },
          "execution_count": 14,
          "metadata": {},
          "output_type": "execute_result"
        }
      ],
      "source": [
        "data['ponds_around3000'] = data['ponds_around3000'].fillna(value = 0).astype('int')#заменяем тип данных\n",
        "data['ponds_around3000'].isna().sum()"
      ]
    },
    {
      "cell_type": "markdown",
      "metadata": {
        "id": "CUJEBaTMP9CI"
      },
      "source": [
        "Менять и удалать  эти данные мы не будем: cityCenters_nearest, airports_nearest, parks_nearest, ponds_nearest. Они взаимосвязаны между собой, но просто удалить их нельзя."
      ]
    },
    {
      "cell_type": "code",
      "execution_count": null,
      "metadata": {
        "id": "xjTOLD_XP9CI",
        "outputId": "a53a0973-1056-4736-c67d-57c44e3e2e9e"
      },
      "outputs": [
        {
          "data": {
            "text/plain": [
              "total_images                0\n",
              "last_price                  0\n",
              "total_area                  0\n",
              "first_day_exposition        0\n",
              "rooms                       0\n",
              "ceiling_height              0\n",
              "floors_total                0\n",
              "living_area                 0\n",
              "floor                       0\n",
              "is_apartment                0\n",
              "studio                      0\n",
              "open_plan                   0\n",
              "kitchen_area                0\n",
              "balcony                     0\n",
              "locality_name               0\n",
              "airports_nearest         5524\n",
              "cityCenters_nearest      5501\n",
              "parks_around3000            0\n",
              "parks_nearest           15535\n",
              "ponds_around3000            0\n",
              "ponds_nearest           14529\n",
              "days_exposition          3171\n",
              "dtype: int64"
            ]
          },
          "execution_count": 15,
          "metadata": {},
          "output_type": "execute_result"
        }
      ],
      "source": [
        "data.isna().sum()"
      ]
    },
    {
      "cell_type": "markdown",
      "metadata": {
        "id": "iSdUNOw_P9CI"
      },
      "source": [
        "**Замена данных**"
      ]
    },
    {
      "cell_type": "code",
      "execution_count": null,
      "metadata": {
        "id": "yu220K4AP9CI"
      },
      "outputs": [],
      "source": [
        "data['floors_total'] = data['floors_total'].astype('int')\n",
        "data['is_apartment'] = data['is_apartment'].astype('bool')\n",
        "data['first_day_exposition'] = pd.to_datetime(data['first_day_exposition'], format='%Y-%m-%dT%H:%M:%S')"
      ]
    },
    {
      "cell_type": "code",
      "execution_count": null,
      "metadata": {
        "id": "SM45FUCRP9CJ",
        "outputId": "2f57ff20-01aa-4b24-9e36-edb2ae705009"
      },
      "outputs": [
        {
          "name": "stdout",
          "output_type": "stream",
          "text": [
            "<class 'pandas.core.frame.DataFrame'>\n",
            "Int64Index: 23565 entries, 0 to 23698\n",
            "Data columns (total 22 columns):\n",
            " #   Column                Non-Null Count  Dtype         \n",
            "---  ------                --------------  -----         \n",
            " 0   total_images          23565 non-null  int64         \n",
            " 1   last_price            23565 non-null  float64       \n",
            " 2   total_area            23565 non-null  float64       \n",
            " 3   first_day_exposition  23565 non-null  datetime64[ns]\n",
            " 4   rooms                 23565 non-null  int64         \n",
            " 5   ceiling_height        23565 non-null  float64       \n",
            " 6   floors_total          23565 non-null  int64         \n",
            " 7   living_area           23565 non-null  float64       \n",
            " 8   floor                 23565 non-null  int64         \n",
            " 9   is_apartment          23565 non-null  bool          \n",
            " 10  studio                23565 non-null  bool          \n",
            " 11  open_plan             23565 non-null  bool          \n",
            " 12  kitchen_area          23565 non-null  float64       \n",
            " 13  balcony               23565 non-null  int64         \n",
            " 14  locality_name         23565 non-null  object        \n",
            " 15  airports_nearest      18041 non-null  float64       \n",
            " 16  cityCenters_nearest   18064 non-null  float64       \n",
            " 17  parks_around3000      23565 non-null  int64         \n",
            " 18  parks_nearest         8030 non-null   float64       \n",
            " 19  ponds_around3000      23565 non-null  int64         \n",
            " 20  ponds_nearest         9036 non-null   float64       \n",
            " 21  days_exposition       20394 non-null  Int64         \n",
            "dtypes: Int64(1), bool(3), datetime64[ns](1), float64(9), int64(7), object(1)\n",
            "memory usage: 3.7+ MB\n"
          ]
        }
      ],
      "source": [
        "data.info()"
      ]
    },
    {
      "cell_type": "code",
      "execution_count": null,
      "metadata": {
        "scrolled": false,
        "id": "VQXLEb4hP9CJ",
        "outputId": "36aec948-7b2b-480d-dbec-0fffb559f427"
      },
      "outputs": [
        {
          "data": {
            "text/html": [
              "<div>\n",
              "<style scoped>\n",
              "    .dataframe tbody tr th:only-of-type {\n",
              "        vertical-align: middle;\n",
              "    }\n",
              "\n",
              "    .dataframe tbody tr th {\n",
              "        vertical-align: top;\n",
              "    }\n",
              "\n",
              "    .dataframe thead th {\n",
              "        text-align: right;\n",
              "    }\n",
              "</style>\n",
              "<table border=\"1\" class=\"dataframe\">\n",
              "  <thead>\n",
              "    <tr style=\"text-align: right;\">\n",
              "      <th></th>\n",
              "      <th>total_images</th>\n",
              "      <th>last_price</th>\n",
              "      <th>total_area</th>\n",
              "      <th>first_day_exposition</th>\n",
              "      <th>rooms</th>\n",
              "      <th>ceiling_height</th>\n",
              "      <th>floors_total</th>\n",
              "      <th>living_area</th>\n",
              "      <th>floor</th>\n",
              "      <th>is_apartment</th>\n",
              "      <th>...</th>\n",
              "      <th>kitchen_area</th>\n",
              "      <th>balcony</th>\n",
              "      <th>locality_name</th>\n",
              "      <th>airports_nearest</th>\n",
              "      <th>cityCenters_nearest</th>\n",
              "      <th>parks_around3000</th>\n",
              "      <th>parks_nearest</th>\n",
              "      <th>ponds_around3000</th>\n",
              "      <th>ponds_nearest</th>\n",
              "      <th>days_exposition</th>\n",
              "    </tr>\n",
              "  </thead>\n",
              "  <tbody>\n",
              "    <tr>\n",
              "      <th>0</th>\n",
              "      <td>20</td>\n",
              "      <td>13000000.0</td>\n",
              "      <td>108.00</td>\n",
              "      <td>2019-03-07</td>\n",
              "      <td>3</td>\n",
              "      <td>2.70</td>\n",
              "      <td>16</td>\n",
              "      <td>51.00</td>\n",
              "      <td>8</td>\n",
              "      <td>False</td>\n",
              "      <td>...</td>\n",
              "      <td>25.00</td>\n",
              "      <td>0</td>\n",
              "      <td>Санкт-Петербург</td>\n",
              "      <td>18863.0</td>\n",
              "      <td>16028.0</td>\n",
              "      <td>1</td>\n",
              "      <td>482.0</td>\n",
              "      <td>2</td>\n",
              "      <td>755.0</td>\n",
              "      <td>&lt;NA&gt;</td>\n",
              "    </tr>\n",
              "    <tr>\n",
              "      <th>1</th>\n",
              "      <td>7</td>\n",
              "      <td>3350000.0</td>\n",
              "      <td>40.40</td>\n",
              "      <td>2018-12-04</td>\n",
              "      <td>1</td>\n",
              "      <td>2.65</td>\n",
              "      <td>11</td>\n",
              "      <td>18.60</td>\n",
              "      <td>1</td>\n",
              "      <td>False</td>\n",
              "      <td>...</td>\n",
              "      <td>11.00</td>\n",
              "      <td>2</td>\n",
              "      <td>посёлок Шушары</td>\n",
              "      <td>12817.0</td>\n",
              "      <td>18603.0</td>\n",
              "      <td>0</td>\n",
              "      <td>NaN</td>\n",
              "      <td>0</td>\n",
              "      <td>NaN</td>\n",
              "      <td>81</td>\n",
              "    </tr>\n",
              "    <tr>\n",
              "      <th>2</th>\n",
              "      <td>10</td>\n",
              "      <td>5196000.0</td>\n",
              "      <td>56.00</td>\n",
              "      <td>2015-08-20</td>\n",
              "      <td>2</td>\n",
              "      <td>2.65</td>\n",
              "      <td>5</td>\n",
              "      <td>34.30</td>\n",
              "      <td>4</td>\n",
              "      <td>False</td>\n",
              "      <td>...</td>\n",
              "      <td>8.30</td>\n",
              "      <td>0</td>\n",
              "      <td>Санкт-Петербург</td>\n",
              "      <td>21741.0</td>\n",
              "      <td>13933.0</td>\n",
              "      <td>1</td>\n",
              "      <td>90.0</td>\n",
              "      <td>2</td>\n",
              "      <td>574.0</td>\n",
              "      <td>558</td>\n",
              "    </tr>\n",
              "    <tr>\n",
              "      <th>3</th>\n",
              "      <td>0</td>\n",
              "      <td>64900000.0</td>\n",
              "      <td>159.00</td>\n",
              "      <td>2015-07-24</td>\n",
              "      <td>3</td>\n",
              "      <td>2.65</td>\n",
              "      <td>14</td>\n",
              "      <td>30.00</td>\n",
              "      <td>9</td>\n",
              "      <td>False</td>\n",
              "      <td>...</td>\n",
              "      <td>9.10</td>\n",
              "      <td>0</td>\n",
              "      <td>Санкт-Петербург</td>\n",
              "      <td>28098.0</td>\n",
              "      <td>6800.0</td>\n",
              "      <td>2</td>\n",
              "      <td>84.0</td>\n",
              "      <td>3</td>\n",
              "      <td>234.0</td>\n",
              "      <td>424</td>\n",
              "    </tr>\n",
              "    <tr>\n",
              "      <th>4</th>\n",
              "      <td>2</td>\n",
              "      <td>10000000.0</td>\n",
              "      <td>100.00</td>\n",
              "      <td>2018-06-19</td>\n",
              "      <td>2</td>\n",
              "      <td>3.03</td>\n",
              "      <td>14</td>\n",
              "      <td>32.00</td>\n",
              "      <td>13</td>\n",
              "      <td>False</td>\n",
              "      <td>...</td>\n",
              "      <td>41.00</td>\n",
              "      <td>0</td>\n",
              "      <td>Санкт-Петербург</td>\n",
              "      <td>31856.0</td>\n",
              "      <td>8098.0</td>\n",
              "      <td>2</td>\n",
              "      <td>112.0</td>\n",
              "      <td>1</td>\n",
              "      <td>48.0</td>\n",
              "      <td>121</td>\n",
              "    </tr>\n",
              "    <tr>\n",
              "      <th>5</th>\n",
              "      <td>10</td>\n",
              "      <td>2890000.0</td>\n",
              "      <td>30.40</td>\n",
              "      <td>2018-09-10</td>\n",
              "      <td>1</td>\n",
              "      <td>2.65</td>\n",
              "      <td>12</td>\n",
              "      <td>14.40</td>\n",
              "      <td>5</td>\n",
              "      <td>False</td>\n",
              "      <td>...</td>\n",
              "      <td>9.10</td>\n",
              "      <td>0</td>\n",
              "      <td>городской посёлок Янино-1</td>\n",
              "      <td>NaN</td>\n",
              "      <td>NaN</td>\n",
              "      <td>0</td>\n",
              "      <td>NaN</td>\n",
              "      <td>0</td>\n",
              "      <td>NaN</td>\n",
              "      <td>55</td>\n",
              "    </tr>\n",
              "    <tr>\n",
              "      <th>6</th>\n",
              "      <td>6</td>\n",
              "      <td>3700000.0</td>\n",
              "      <td>37.30</td>\n",
              "      <td>2017-11-02</td>\n",
              "      <td>1</td>\n",
              "      <td>2.65</td>\n",
              "      <td>26</td>\n",
              "      <td>10.60</td>\n",
              "      <td>6</td>\n",
              "      <td>False</td>\n",
              "      <td>...</td>\n",
              "      <td>14.40</td>\n",
              "      <td>1</td>\n",
              "      <td>посёлок Парголово</td>\n",
              "      <td>52996.0</td>\n",
              "      <td>19143.0</td>\n",
              "      <td>0</td>\n",
              "      <td>NaN</td>\n",
              "      <td>0</td>\n",
              "      <td>NaN</td>\n",
              "      <td>155</td>\n",
              "    </tr>\n",
              "    <tr>\n",
              "      <th>7</th>\n",
              "      <td>5</td>\n",
              "      <td>7915000.0</td>\n",
              "      <td>71.60</td>\n",
              "      <td>2019-04-18</td>\n",
              "      <td>2</td>\n",
              "      <td>2.65</td>\n",
              "      <td>24</td>\n",
              "      <td>30.00</td>\n",
              "      <td>22</td>\n",
              "      <td>False</td>\n",
              "      <td>...</td>\n",
              "      <td>18.90</td>\n",
              "      <td>2</td>\n",
              "      <td>Санкт-Петербург</td>\n",
              "      <td>23982.0</td>\n",
              "      <td>11634.0</td>\n",
              "      <td>0</td>\n",
              "      <td>NaN</td>\n",
              "      <td>0</td>\n",
              "      <td>NaN</td>\n",
              "      <td>&lt;NA&gt;</td>\n",
              "    </tr>\n",
              "    <tr>\n",
              "      <th>8</th>\n",
              "      <td>20</td>\n",
              "      <td>2900000.0</td>\n",
              "      <td>33.16</td>\n",
              "      <td>2018-05-23</td>\n",
              "      <td>1</td>\n",
              "      <td>2.65</td>\n",
              "      <td>27</td>\n",
              "      <td>15.43</td>\n",
              "      <td>26</td>\n",
              "      <td>False</td>\n",
              "      <td>...</td>\n",
              "      <td>8.81</td>\n",
              "      <td>0</td>\n",
              "      <td>посёлок Мурино</td>\n",
              "      <td>NaN</td>\n",
              "      <td>NaN</td>\n",
              "      <td>0</td>\n",
              "      <td>NaN</td>\n",
              "      <td>0</td>\n",
              "      <td>NaN</td>\n",
              "      <td>189</td>\n",
              "    </tr>\n",
              "    <tr>\n",
              "      <th>9</th>\n",
              "      <td>18</td>\n",
              "      <td>5400000.0</td>\n",
              "      <td>61.00</td>\n",
              "      <td>2017-02-26</td>\n",
              "      <td>3</td>\n",
              "      <td>2.50</td>\n",
              "      <td>9</td>\n",
              "      <td>43.60</td>\n",
              "      <td>7</td>\n",
              "      <td>False</td>\n",
              "      <td>...</td>\n",
              "      <td>6.50</td>\n",
              "      <td>2</td>\n",
              "      <td>Санкт-Петербург</td>\n",
              "      <td>50898.0</td>\n",
              "      <td>15008.0</td>\n",
              "      <td>0</td>\n",
              "      <td>NaN</td>\n",
              "      <td>0</td>\n",
              "      <td>NaN</td>\n",
              "      <td>289</td>\n",
              "    </tr>\n",
              "    <tr>\n",
              "      <th>10</th>\n",
              "      <td>5</td>\n",
              "      <td>5050000.0</td>\n",
              "      <td>39.60</td>\n",
              "      <td>2017-11-16</td>\n",
              "      <td>1</td>\n",
              "      <td>2.67</td>\n",
              "      <td>12</td>\n",
              "      <td>20.30</td>\n",
              "      <td>3</td>\n",
              "      <td>False</td>\n",
              "      <td>...</td>\n",
              "      <td>8.50</td>\n",
              "      <td>0</td>\n",
              "      <td>Санкт-Петербург</td>\n",
              "      <td>38357.0</td>\n",
              "      <td>13878.0</td>\n",
              "      <td>1</td>\n",
              "      <td>310.0</td>\n",
              "      <td>2</td>\n",
              "      <td>553.0</td>\n",
              "      <td>137</td>\n",
              "    </tr>\n",
              "    <tr>\n",
              "      <th>11</th>\n",
              "      <td>9</td>\n",
              "      <td>3300000.0</td>\n",
              "      <td>44.00</td>\n",
              "      <td>2018-08-27</td>\n",
              "      <td>2</td>\n",
              "      <td>2.65</td>\n",
              "      <td>5</td>\n",
              "      <td>31.00</td>\n",
              "      <td>4</td>\n",
              "      <td>False</td>\n",
              "      <td>...</td>\n",
              "      <td>6.00</td>\n",
              "      <td>1</td>\n",
              "      <td>Ломоносов</td>\n",
              "      <td>48252.0</td>\n",
              "      <td>51677.0</td>\n",
              "      <td>0</td>\n",
              "      <td>NaN</td>\n",
              "      <td>0</td>\n",
              "      <td>NaN</td>\n",
              "      <td>7</td>\n",
              "    </tr>\n",
              "    <tr>\n",
              "      <th>12</th>\n",
              "      <td>10</td>\n",
              "      <td>3890000.0</td>\n",
              "      <td>54.00</td>\n",
              "      <td>2016-06-30</td>\n",
              "      <td>2</td>\n",
              "      <td>2.65</td>\n",
              "      <td>5</td>\n",
              "      <td>30.00</td>\n",
              "      <td>5</td>\n",
              "      <td>False</td>\n",
              "      <td>...</td>\n",
              "      <td>9.00</td>\n",
              "      <td>0</td>\n",
              "      <td>Сертолово</td>\n",
              "      <td>NaN</td>\n",
              "      <td>NaN</td>\n",
              "      <td>0</td>\n",
              "      <td>NaN</td>\n",
              "      <td>0</td>\n",
              "      <td>NaN</td>\n",
              "      <td>90</td>\n",
              "    </tr>\n",
              "    <tr>\n",
              "      <th>13</th>\n",
              "      <td>20</td>\n",
              "      <td>3550000.0</td>\n",
              "      <td>42.80</td>\n",
              "      <td>2017-07-01</td>\n",
              "      <td>2</td>\n",
              "      <td>2.56</td>\n",
              "      <td>5</td>\n",
              "      <td>27.00</td>\n",
              "      <td>5</td>\n",
              "      <td>False</td>\n",
              "      <td>...</td>\n",
              "      <td>5.20</td>\n",
              "      <td>1</td>\n",
              "      <td>Петергоф</td>\n",
              "      <td>37868.0</td>\n",
              "      <td>33058.0</td>\n",
              "      <td>1</td>\n",
              "      <td>294.0</td>\n",
              "      <td>3</td>\n",
              "      <td>298.0</td>\n",
              "      <td>366</td>\n",
              "    </tr>\n",
              "    <tr>\n",
              "      <th>14</th>\n",
              "      <td>1</td>\n",
              "      <td>4400000.0</td>\n",
              "      <td>36.00</td>\n",
              "      <td>2016-06-23</td>\n",
              "      <td>1</td>\n",
              "      <td>2.65</td>\n",
              "      <td>6</td>\n",
              "      <td>17.00</td>\n",
              "      <td>1</td>\n",
              "      <td>False</td>\n",
              "      <td>...</td>\n",
              "      <td>8.00</td>\n",
              "      <td>0</td>\n",
              "      <td>Пушкин</td>\n",
              "      <td>20782.0</td>\n",
              "      <td>30759.0</td>\n",
              "      <td>0</td>\n",
              "      <td>NaN</td>\n",
              "      <td>1</td>\n",
              "      <td>96.0</td>\n",
              "      <td>203</td>\n",
              "    </tr>\n",
              "  </tbody>\n",
              "</table>\n",
              "<p>15 rows × 22 columns</p>\n",
              "</div>"
            ],
            "text/plain": [
              "    total_images  last_price  total_area first_day_exposition  rooms  \\\n",
              "0             20  13000000.0      108.00           2019-03-07      3   \n",
              "1              7   3350000.0       40.40           2018-12-04      1   \n",
              "2             10   5196000.0       56.00           2015-08-20      2   \n",
              "3              0  64900000.0      159.00           2015-07-24      3   \n",
              "4              2  10000000.0      100.00           2018-06-19      2   \n",
              "5             10   2890000.0       30.40           2018-09-10      1   \n",
              "6              6   3700000.0       37.30           2017-11-02      1   \n",
              "7              5   7915000.0       71.60           2019-04-18      2   \n",
              "8             20   2900000.0       33.16           2018-05-23      1   \n",
              "9             18   5400000.0       61.00           2017-02-26      3   \n",
              "10             5   5050000.0       39.60           2017-11-16      1   \n",
              "11             9   3300000.0       44.00           2018-08-27      2   \n",
              "12            10   3890000.0       54.00           2016-06-30      2   \n",
              "13            20   3550000.0       42.80           2017-07-01      2   \n",
              "14             1   4400000.0       36.00           2016-06-23      1   \n",
              "\n",
              "    ceiling_height  floors_total  living_area  floor  is_apartment  ...  \\\n",
              "0             2.70            16        51.00      8         False  ...   \n",
              "1             2.65            11        18.60      1         False  ...   \n",
              "2             2.65             5        34.30      4         False  ...   \n",
              "3             2.65            14        30.00      9         False  ...   \n",
              "4             3.03            14        32.00     13         False  ...   \n",
              "5             2.65            12        14.40      5         False  ...   \n",
              "6             2.65            26        10.60      6         False  ...   \n",
              "7             2.65            24        30.00     22         False  ...   \n",
              "8             2.65            27        15.43     26         False  ...   \n",
              "9             2.50             9        43.60      7         False  ...   \n",
              "10            2.67            12        20.30      3         False  ...   \n",
              "11            2.65             5        31.00      4         False  ...   \n",
              "12            2.65             5        30.00      5         False  ...   \n",
              "13            2.56             5        27.00      5         False  ...   \n",
              "14            2.65             6        17.00      1         False  ...   \n",
              "\n",
              "    kitchen_area  balcony              locality_name  airports_nearest  \\\n",
              "0          25.00        0            Санкт-Петербург           18863.0   \n",
              "1          11.00        2             посёлок Шушары           12817.0   \n",
              "2           8.30        0            Санкт-Петербург           21741.0   \n",
              "3           9.10        0            Санкт-Петербург           28098.0   \n",
              "4          41.00        0            Санкт-Петербург           31856.0   \n",
              "5           9.10        0  городской посёлок Янино-1               NaN   \n",
              "6          14.40        1          посёлок Парголово           52996.0   \n",
              "7          18.90        2            Санкт-Петербург           23982.0   \n",
              "8           8.81        0             посёлок Мурино               NaN   \n",
              "9           6.50        2            Санкт-Петербург           50898.0   \n",
              "10          8.50        0            Санкт-Петербург           38357.0   \n",
              "11          6.00        1                  Ломоносов           48252.0   \n",
              "12          9.00        0                  Сертолово               NaN   \n",
              "13          5.20        1                   Петергоф           37868.0   \n",
              "14          8.00        0                     Пушкин           20782.0   \n",
              "\n",
              "   cityCenters_nearest  parks_around3000  parks_nearest  ponds_around3000  \\\n",
              "0              16028.0                 1          482.0                 2   \n",
              "1              18603.0                 0            NaN                 0   \n",
              "2              13933.0                 1           90.0                 2   \n",
              "3               6800.0                 2           84.0                 3   \n",
              "4               8098.0                 2          112.0                 1   \n",
              "5                  NaN                 0            NaN                 0   \n",
              "6              19143.0                 0            NaN                 0   \n",
              "7              11634.0                 0            NaN                 0   \n",
              "8                  NaN                 0            NaN                 0   \n",
              "9              15008.0                 0            NaN                 0   \n",
              "10             13878.0                 1          310.0                 2   \n",
              "11             51677.0                 0            NaN                 0   \n",
              "12                 NaN                 0            NaN                 0   \n",
              "13             33058.0                 1          294.0                 3   \n",
              "14             30759.0                 0            NaN                 1   \n",
              "\n",
              "    ponds_nearest  days_exposition  \n",
              "0           755.0             <NA>  \n",
              "1             NaN               81  \n",
              "2           574.0              558  \n",
              "3           234.0              424  \n",
              "4            48.0              121  \n",
              "5             NaN               55  \n",
              "6             NaN              155  \n",
              "7             NaN             <NA>  \n",
              "8             NaN              189  \n",
              "9             NaN              289  \n",
              "10          553.0              137  \n",
              "11            NaN                7  \n",
              "12            NaN               90  \n",
              "13          298.0              366  \n",
              "14           96.0              203  \n",
              "\n",
              "[15 rows x 22 columns]"
            ]
          },
          "execution_count": 18,
          "metadata": {},
          "output_type": "execute_result"
        }
      ],
      "source": [
        "data.head(15)"
      ]
    },
    {
      "cell_type": "code",
      "execution_count": null,
      "metadata": {
        "id": "FsNizcxjP9CJ",
        "outputId": "4f516a36-737e-4e3d-8b1c-d72d44d9703c"
      },
      "outputs": [
        {
          "name": "stdout",
          "output_type": "stream",
          "text": [
            "0\n"
          ]
        }
      ],
      "source": [
        "print(data.duplicated().sum())"
      ]
    },
    {
      "cell_type": "markdown",
      "metadata": {
        "id": "OrmWL_gjP9CJ"
      },
      "source": [
        "Явные дубликаты не найдены"
      ]
    },
    {
      "cell_type": "code",
      "execution_count": null,
      "metadata": {
        "id": "SSjmCoLIP9CJ"
      },
      "outputs": [],
      "source": [
        "data['locality_name'] = data['locality_name'].replace('посёлок|деревня|коттеджный|село|городского типа', '', regex = True)"
      ]
    },
    {
      "cell_type": "code",
      "execution_count": null,
      "metadata": {
        "id": "GgMSMB3tP9CK",
        "outputId": "bb1f4d67-984c-44de-947e-786206d36e87"
      },
      "outputs": [
        {
          "data": {
            "text/plain": [
              "array([  2.7 ,   2.65,   3.03,   2.5 ,   2.67,   2.56,   3.05,   2.75,\n",
              "         2.6 ,   2.9 ,   2.8 ,   2.55,   3.  ,   3.2 ,   2.61,   3.25,\n",
              "         3.45,   2.77,   2.85,   2.64,   2.57,   4.15,   3.5 ,   3.3 ,\n",
              "         2.71,   4.  ,   2.47,   2.73,   2.84,   3.1 ,   2.34,   3.4 ,\n",
              "         3.06,   2.72,   2.54,   2.51,   2.78,   2.76,  25.  ,   2.58,\n",
              "         3.7 ,   2.52,   5.2 ,   2.87,   2.66,   2.59,   2.  ,   2.45,\n",
              "         3.6 ,   2.92,   3.11,   3.13,   3.8 ,   3.15,   3.55,   3.16,\n",
              "         3.62,   3.12,   2.53,   2.74,   2.96,   2.46,   5.3 ,   5.  ,\n",
              "         2.79,   2.95,   4.06,   2.94,   3.82,   3.54,   3.53,   2.83,\n",
              "         4.7 ,   2.4 ,   3.38,   3.01,   5.6 ,   3.65,   3.9 ,   3.18,\n",
              "         3.35,   2.3 ,   3.57,   2.48,   2.62,   2.82,   3.98,   2.63,\n",
              "         3.83,   3.52,   3.95,   3.75,   2.88,   3.67,   3.87,   3.66,\n",
              "         3.85,   3.86,   4.19,   3.24,   4.8 ,   4.5 ,   4.2 ,   3.36,\n",
              "        32.  ,   3.08,   3.68,   3.07,   3.37,   3.09,   8.  ,   3.26,\n",
              "         3.34,   2.81,   3.44,   2.97,   3.14,   4.37,   2.68,   3.22,\n",
              "         3.27,  27.  ,   4.1 ,   2.93,   3.46,  24.  ,   3.47,   3.33,\n",
              "         3.63,   3.32,  26.  ,   1.2 ,   8.3 ,   2.98,   2.86,   3.17,\n",
              "         4.4 ,   3.28,   3.04,   4.45,   5.5 ,   3.84,   3.23,   3.02,\n",
              "         3.21,   3.43,   3.78,   4.3 ,   3.39,   2.69,   3.31,   4.65,\n",
              "         3.56,   2.2 ,   3.51,   3.93,   3.42,   2.99,   3.49,  14.  ,\n",
              "         4.14,   2.91,   3.88,   1.75,   4.25,   3.29,  20.  ,   2.25,\n",
              "         3.76,   3.69,   6.  ,  22.6 ,   2.89,   3.58,   5.8 ,  27.5 ,\n",
              "         2.49,   4.9 ,   3.48,  10.3 ,   1.  , 100.  ,   3.59])"
            ]
          },
          "execution_count": 21,
          "metadata": {},
          "output_type": "execute_result"
        }
      ],
      "source": [
        "data['ceiling_height'].unique()"
      ]
    },
    {
      "cell_type": "markdown",
      "metadata": {
        "id": "kNvZGgNRP9CK"
      },
      "source": [
        "В данном столбце есть некоторые аномальные значения, которые должны разделяться точкой(например, 24, 25) и равны 1 метру."
      ]
    },
    {
      "cell_type": "code",
      "execution_count": null,
      "metadata": {
        "id": "CD45gEJcP9CK",
        "outputId": "ca9bdc11-86c7-43fa-f5e2-1ebad2339c46"
      },
      "outputs": [
        {
          "data": {
            "text/plain": [
              "array([2.7 , 2.65, 3.03, 2.5 , 2.67, 2.56, 3.05, 2.75, 2.6 , 2.9 , 2.8 ,\n",
              "       2.55, 3.  , 3.2 , 2.61, 3.25, 3.45, 2.77, 2.85, 2.64, 2.57, 4.15,\n",
              "       3.5 , 3.3 , 2.71, 4.  , 2.47, 2.73, 2.84, 3.1 , 2.34, 3.4 , 3.06,\n",
              "       2.72, 2.54, 2.51, 2.78, 2.76, 2.58, 3.7 , 2.52, 5.2 , 2.87, 2.66,\n",
              "       2.59, 2.  , 2.45, 3.6 , 2.92, 3.11, 3.13, 3.8 , 3.15, 3.55, 3.16,\n",
              "       3.62, 3.12, 2.53, 2.74, 2.96, 2.46, 5.3 , 5.  , 2.79, 2.95, 4.06,\n",
              "       2.94, 3.82, 3.54, 3.53, 2.83, 4.7 , 2.4 , 3.38, 3.01, 5.6 , 3.65,\n",
              "       3.9 , 3.18, 3.35, 2.3 , 3.57, 2.48, 2.62, 2.82, 3.98, 2.63, 3.83,\n",
              "       3.52, 3.95, 3.75, 2.88, 3.67, 3.87, 3.66, 3.85, 3.86, 4.19, 3.24,\n",
              "       4.8 , 4.5 , 4.2 , 3.36, 3.08, 3.68, 3.07, 3.37, 3.09, 8.  , 3.26,\n",
              "       3.34, 2.81, 3.44, 2.97, 3.14, 4.37, 2.68, 3.22, 3.27, 4.1 , 2.93,\n",
              "       3.46, 3.47, 3.33, 3.63, 3.32, 1.2 , 8.3 , 2.98, 2.86, 3.17, 4.4 ,\n",
              "       3.28, 3.04, 4.45, 5.5 , 3.84, 3.23, 3.02, 3.21, 3.43, 3.78, 4.3 ,\n",
              "       3.39, 2.69, 3.31, 4.65, 3.56, 2.2 , 3.51, 3.93, 3.42, 2.99, 3.49,\n",
              "       4.14, 2.91, 3.88, 1.75, 4.25, 3.29, 2.25, 3.76, 3.69, 6.  , 2.89,\n",
              "       3.58, 5.8 , 2.49, 4.9 , 3.48, 3.59])"
            ]
          },
          "execution_count": 22,
          "metadata": {},
          "output_type": "execute_result"
        }
      ],
      "source": [
        "data = data[(data['ceiling_height'] < 10) & (data['ceiling_height'] != 1)]\n",
        "data['ceiling_height'].unique()"
      ]
    },
    {
      "cell_type": "code",
      "execution_count": null,
      "metadata": {
        "id": "YMtY990wP9CK"
      },
      "outputs": [],
      "source": [
        "#Изменим большие цифры на миллионы\n",
        "data['last_price'] = data['last_price']/1000000"
      ]
    },
    {
      "cell_type": "code",
      "execution_count": null,
      "metadata": {
        "id": "kTYugAjnP9CK",
        "outputId": "f531d45c-f457-475b-bbd3-3e9d1e9f7651"
      },
      "outputs": [
        {
          "data": {
            "text/plain": [
              "array([ 3,  1,  2,  4,  5,  6,  0,  7, 11,  8, 14, 10, 15,  9, 19, 16, 12])"
            ]
          },
          "execution_count": 24,
          "metadata": {},
          "output_type": "execute_result"
        }
      ],
      "source": [
        "#изучим данные  о количестве комнат\n",
        "data['rooms'].unique()"
      ]
    },
    {
      "cell_type": "code",
      "execution_count": null,
      "metadata": {
        "id": "VelZzu7XP9CK",
        "outputId": "c30eb934-492e-4cee-f6ee-857c15a206b9"
      },
      "outputs": [
        {
          "data": {
            "text/html": [
              "<div>\n",
              "<style scoped>\n",
              "    .dataframe tbody tr th:only-of-type {\n",
              "        vertical-align: middle;\n",
              "    }\n",
              "\n",
              "    .dataframe tbody tr th {\n",
              "        vertical-align: top;\n",
              "    }\n",
              "\n",
              "    .dataframe thead th {\n",
              "        text-align: right;\n",
              "    }\n",
              "</style>\n",
              "<table border=\"1\" class=\"dataframe\">\n",
              "  <thead>\n",
              "    <tr style=\"text-align: right;\">\n",
              "      <th></th>\n",
              "      <th>total_images</th>\n",
              "      <th>last_price</th>\n",
              "      <th>total_area</th>\n",
              "      <th>first_day_exposition</th>\n",
              "      <th>rooms</th>\n",
              "      <th>ceiling_height</th>\n",
              "      <th>floors_total</th>\n",
              "      <th>living_area</th>\n",
              "      <th>floor</th>\n",
              "      <th>is_apartment</th>\n",
              "      <th>...</th>\n",
              "      <th>kitchen_area</th>\n",
              "      <th>balcony</th>\n",
              "      <th>locality_name</th>\n",
              "      <th>airports_nearest</th>\n",
              "      <th>cityCenters_nearest</th>\n",
              "      <th>parks_around3000</th>\n",
              "      <th>parks_nearest</th>\n",
              "      <th>ponds_around3000</th>\n",
              "      <th>ponds_nearest</th>\n",
              "      <th>days_exposition</th>\n",
              "    </tr>\n",
              "  </thead>\n",
              "  <tbody>\n",
              "    <tr>\n",
              "      <th>648</th>\n",
              "      <td>3</td>\n",
              "      <td>17.500</td>\n",
              "      <td>183.7</td>\n",
              "      <td>2018-07-01</td>\n",
              "      <td>11</td>\n",
              "      <td>3.40</td>\n",
              "      <td>7</td>\n",
              "      <td>138.8</td>\n",
              "      <td>7</td>\n",
              "      <td>False</td>\n",
              "      <td>...</td>\n",
              "      <td>13.3</td>\n",
              "      <td>0</td>\n",
              "      <td>Санкт-Петербург</td>\n",
              "      <td>23606.0</td>\n",
              "      <td>3148.0</td>\n",
              "      <td>0</td>\n",
              "      <td>NaN</td>\n",
              "      <td>0</td>\n",
              "      <td>NaN</td>\n",
              "      <td>&lt;NA&gt;</td>\n",
              "    </tr>\n",
              "    <tr>\n",
              "      <th>866</th>\n",
              "      <td>5</td>\n",
              "      <td>25.000</td>\n",
              "      <td>363.0</td>\n",
              "      <td>2017-12-23</td>\n",
              "      <td>14</td>\n",
              "      <td>3.16</td>\n",
              "      <td>5</td>\n",
              "      <td>222.0</td>\n",
              "      <td>4</td>\n",
              "      <td>False</td>\n",
              "      <td>...</td>\n",
              "      <td>16.6</td>\n",
              "      <td>0</td>\n",
              "      <td>Санкт-Петербург</td>\n",
              "      <td>38076.0</td>\n",
              "      <td>7950.0</td>\n",
              "      <td>0</td>\n",
              "      <td>NaN</td>\n",
              "      <td>2</td>\n",
              "      <td>435.0</td>\n",
              "      <td>418</td>\n",
              "    </tr>\n",
              "    <tr>\n",
              "      <th>5358</th>\n",
              "      <td>20</td>\n",
              "      <td>65.000</td>\n",
              "      <td>590.0</td>\n",
              "      <td>2019-02-14</td>\n",
              "      <td>15</td>\n",
              "      <td>3.50</td>\n",
              "      <td>6</td>\n",
              "      <td>409.0</td>\n",
              "      <td>3</td>\n",
              "      <td>False</td>\n",
              "      <td>...</td>\n",
              "      <td>100.0</td>\n",
              "      <td>0</td>\n",
              "      <td>Санкт-Петербург</td>\n",
              "      <td>24447.0</td>\n",
              "      <td>4666.0</td>\n",
              "      <td>1</td>\n",
              "      <td>767.0</td>\n",
              "      <td>0</td>\n",
              "      <td>NaN</td>\n",
              "      <td>14</td>\n",
              "    </tr>\n",
              "    <tr>\n",
              "      <th>9688</th>\n",
              "      <td>8</td>\n",
              "      <td>33.000</td>\n",
              "      <td>194.1</td>\n",
              "      <td>2017-02-07</td>\n",
              "      <td>11</td>\n",
              "      <td>3.43</td>\n",
              "      <td>5</td>\n",
              "      <td>129.0</td>\n",
              "      <td>2</td>\n",
              "      <td>False</td>\n",
              "      <td>...</td>\n",
              "      <td>11.9</td>\n",
              "      <td>0</td>\n",
              "      <td>Санкт-Петербург</td>\n",
              "      <td>21469.0</td>\n",
              "      <td>1015.0</td>\n",
              "      <td>1</td>\n",
              "      <td>686.0</td>\n",
              "      <td>2</td>\n",
              "      <td>66.0</td>\n",
              "      <td>813</td>\n",
              "    </tr>\n",
              "    <tr>\n",
              "      <th>14498</th>\n",
              "      <td>6</td>\n",
              "      <td>32.250</td>\n",
              "      <td>374.6</td>\n",
              "      <td>2018-06-09</td>\n",
              "      <td>19</td>\n",
              "      <td>2.65</td>\n",
              "      <td>5</td>\n",
              "      <td>264.5</td>\n",
              "      <td>2</td>\n",
              "      <td>False</td>\n",
              "      <td>...</td>\n",
              "      <td>27.6</td>\n",
              "      <td>0</td>\n",
              "      <td>Санкт-Петербург</td>\n",
              "      <td>19497.0</td>\n",
              "      <td>3574.0</td>\n",
              "      <td>0</td>\n",
              "      <td>NaN</td>\n",
              "      <td>2</td>\n",
              "      <td>548.0</td>\n",
              "      <td>114</td>\n",
              "    </tr>\n",
              "    <tr>\n",
              "      <th>18848</th>\n",
              "      <td>6</td>\n",
              "      <td>28.500</td>\n",
              "      <td>270.0</td>\n",
              "      <td>2015-03-02</td>\n",
              "      <td>16</td>\n",
              "      <td>3.00</td>\n",
              "      <td>4</td>\n",
              "      <td>180.0</td>\n",
              "      <td>4</td>\n",
              "      <td>False</td>\n",
              "      <td>...</td>\n",
              "      <td>13.0</td>\n",
              "      <td>1</td>\n",
              "      <td>Санкт-Петербург</td>\n",
              "      <td>23575.0</td>\n",
              "      <td>4142.0</td>\n",
              "      <td>1</td>\n",
              "      <td>516.0</td>\n",
              "      <td>0</td>\n",
              "      <td>NaN</td>\n",
              "      <td>1365</td>\n",
              "    </tr>\n",
              "    <tr>\n",
              "      <th>19540</th>\n",
              "      <td>8</td>\n",
              "      <td>420.000</td>\n",
              "      <td>900.0</td>\n",
              "      <td>2017-12-06</td>\n",
              "      <td>12</td>\n",
              "      <td>2.80</td>\n",
              "      <td>25</td>\n",
              "      <td>409.7</td>\n",
              "      <td>25</td>\n",
              "      <td>False</td>\n",
              "      <td>...</td>\n",
              "      <td>112.0</td>\n",
              "      <td>0</td>\n",
              "      <td>Санкт-Петербург</td>\n",
              "      <td>30706.0</td>\n",
              "      <td>7877.0</td>\n",
              "      <td>0</td>\n",
              "      <td>NaN</td>\n",
              "      <td>2</td>\n",
              "      <td>318.0</td>\n",
              "      <td>106</td>\n",
              "    </tr>\n",
              "    <tr>\n",
              "      <th>20829</th>\n",
              "      <td>6</td>\n",
              "      <td>28.659</td>\n",
              "      <td>245.4</td>\n",
              "      <td>2016-03-31</td>\n",
              "      <td>14</td>\n",
              "      <td>2.65</td>\n",
              "      <td>4</td>\n",
              "      <td>168.3</td>\n",
              "      <td>2</td>\n",
              "      <td>False</td>\n",
              "      <td>...</td>\n",
              "      <td>25.9</td>\n",
              "      <td>0</td>\n",
              "      <td>Санкт-Петербург</td>\n",
              "      <td>21104.0</td>\n",
              "      <td>2054.0</td>\n",
              "      <td>3</td>\n",
              "      <td>541.0</td>\n",
              "      <td>2</td>\n",
              "      <td>118.0</td>\n",
              "      <td>95</td>\n",
              "    </tr>\n",
              "  </tbody>\n",
              "</table>\n",
              "<p>8 rows × 22 columns</p>\n",
              "</div>"
            ],
            "text/plain": [
              "       total_images  last_price  total_area first_day_exposition  rooms  \\\n",
              "648               3      17.500       183.7           2018-07-01     11   \n",
              "866               5      25.000       363.0           2017-12-23     14   \n",
              "5358             20      65.000       590.0           2019-02-14     15   \n",
              "9688              8      33.000       194.1           2017-02-07     11   \n",
              "14498             6      32.250       374.6           2018-06-09     19   \n",
              "18848             6      28.500       270.0           2015-03-02     16   \n",
              "19540             8     420.000       900.0           2017-12-06     12   \n",
              "20829             6      28.659       245.4           2016-03-31     14   \n",
              "\n",
              "       ceiling_height  floors_total  living_area  floor  is_apartment  ...  \\\n",
              "648              3.40             7        138.8      7         False  ...   \n",
              "866              3.16             5        222.0      4         False  ...   \n",
              "5358             3.50             6        409.0      3         False  ...   \n",
              "9688             3.43             5        129.0      2         False  ...   \n",
              "14498            2.65             5        264.5      2         False  ...   \n",
              "18848            3.00             4        180.0      4         False  ...   \n",
              "19540            2.80            25        409.7     25         False  ...   \n",
              "20829            2.65             4        168.3      2         False  ...   \n",
              "\n",
              "       kitchen_area  balcony    locality_name  airports_nearest  \\\n",
              "648            13.3        0  Санкт-Петербург           23606.0   \n",
              "866            16.6        0  Санкт-Петербург           38076.0   \n",
              "5358          100.0        0  Санкт-Петербург           24447.0   \n",
              "9688           11.9        0  Санкт-Петербург           21469.0   \n",
              "14498          27.6        0  Санкт-Петербург           19497.0   \n",
              "18848          13.0        1  Санкт-Петербург           23575.0   \n",
              "19540         112.0        0  Санкт-Петербург           30706.0   \n",
              "20829          25.9        0  Санкт-Петербург           21104.0   \n",
              "\n",
              "      cityCenters_nearest  parks_around3000  parks_nearest  ponds_around3000  \\\n",
              "648                3148.0                 0            NaN                 0   \n",
              "866                7950.0                 0            NaN                 2   \n",
              "5358               4666.0                 1          767.0                 0   \n",
              "9688               1015.0                 1          686.0                 2   \n",
              "14498              3574.0                 0            NaN                 2   \n",
              "18848              4142.0                 1          516.0                 0   \n",
              "19540              7877.0                 0            NaN                 2   \n",
              "20829              2054.0                 3          541.0                 2   \n",
              "\n",
              "       ponds_nearest  days_exposition  \n",
              "648              NaN             <NA>  \n",
              "866            435.0              418  \n",
              "5358             NaN               14  \n",
              "9688            66.0              813  \n",
              "14498          548.0              114  \n",
              "18848            NaN             1365  \n",
              "19540          318.0              106  \n",
              "20829          118.0               95  \n",
              "\n",
              "[8 rows x 22 columns]"
            ]
          },
          "execution_count": 25,
          "metadata": {},
          "output_type": "execute_result"
        }
      ],
      "source": [
        "data[data['rooms'] > 10]"
      ]
    },
    {
      "cell_type": "code",
      "execution_count": null,
      "metadata": {
        "id": "EoQsWCAEP9CL"
      },
      "outputs": [],
      "source": [
        "#удаление аномальный значений больше 200 кв.метров\n",
        "data = data[data['total_area'] < 200.00]"
      ]
    },
    {
      "cell_type": "code",
      "execution_count": null,
      "metadata": {
        "id": "WSmV3g5wP9CL",
        "outputId": "68ca87d4-b00d-4b49-d35f-25e2653aa4d5"
      },
      "outputs": [
        {
          "data": {
            "image/png": "[encoded data removed]",
            "text/plain": [
              "<Figure size 432x288 with 1 Axes>"
            ]
          },
          "metadata": {
            "needs_background": "light"
          },
          "output_type": "display_data"
        }
      ],
      "source": [
        "#проверка аномальных данных\n",
        "data['total_area'].hist(bins=30);"
      ]
    },
    {
      "cell_type": "markdown",
      "metadata": {
        "id": "ajfH726eP9CM"
      },
      "source": [
        "Аномальными значениями в данном стобце можно счить те данные, которые выше 200 кв.метров, поскольку на графике видно, что их практически нет"
      ]
    },
    {
      "cell_type": "code",
      "execution_count": null,
      "metadata": {
        "id": "C5j4MqWxP9CM"
      },
      "outputs": [],
      "source": [
        "#удаление данных о количесве комнат больше 10\n",
        "data = data[data['rooms'] < 10.00]"
      ]
    },
    {
      "cell_type": "code",
      "execution_count": null,
      "metadata": {
        "id": "bhCKdGo8P9CM",
        "outputId": "4c9d277a-cfaf-4a1e-a62b-020e680467ac"
      },
      "outputs": [
        {
          "data": {
            "text/plain": [
              "<AxesSubplot:>"
            ]
          },
          "execution_count": 29,
          "metadata": {},
          "output_type": "execute_result"
        },
        {
          "data": {
            "image/png": "[encoded data removed]",
            "text/plain": [
              "<Figure size 432x288 with 1 Axes>"
            ]
          },
          "metadata": {
            "needs_background": "light"
          },
          "output_type": "display_data"
        }
      ],
      "source": [
        "#проверка аномальных данных\n",
        "data['rooms'].hist(bins=30)"
      ]
    },
    {
      "cell_type": "markdown",
      "metadata": {
        "id": "LUjCY3ACP9CM"
      },
      "source": [
        "Аномальными данными в этом случае могут считаться те, количество комнат которых превышает 10, поскольку их практически нет"
      ]
    },
    {
      "cell_type": "code",
      "execution_count": null,
      "metadata": {
        "id": "_Gza8HePP9CM",
        "outputId": "dbf71015-606e-4925-9dc7-f6d9205250d5"
      },
      "outputs": [
        {
          "data": {
            "text/plain": [
              "<AxesSubplot:>"
            ]
          },
          "execution_count": 30,
          "metadata": {},
          "output_type": "execute_result"
        },
        {
          "data": {
            "image/png": "[encoded data removed]",
            "text/plain": [
              "<Figure size 432x288 with 1 Axes>"
            ]
          },
          "metadata": {
            "needs_background": "light"
          },
          "output_type": "display_data"
        }
      ],
      "source": [
        "#проверка аномальных данных\n",
        "data['last_price'].hist(bins=30)"
      ]
    },
    {
      "cell_type": "code",
      "execution_count": null,
      "metadata": {
        "id": "28Zjvi_tP9CM",
        "outputId": "19b58f0e-a51b-486f-a3d5-14aaf8e76bf9"
      },
      "outputs": [
        {
          "data": {
            "text/plain": [
              "<AxesSubplot:>"
            ]
          },
          "execution_count": 31,
          "metadata": {},
          "output_type": "execute_result"
        },
        {
          "data": {
            "image/png": "[encoded data removed]",
            "text/plain": [
              "<Figure size 432x288 with 1 Axes>"
            ]
          },
          "metadata": {
            "needs_background": "light"
          },
          "output_type": "display_data"
        }
      ],
      "source": [
        "#удаление данных о стоимости меньше 50 миллионов\n",
        "data = data[data['last_price'] < 50.00]\n",
        "data['last_price'].hist(bins=30)"
      ]
    },
    {
      "cell_type": "markdown",
      "metadata": {
        "id": "28pVz_F9P9CN"
      },
      "source": [
        "Аномальными значениями является стоимость меньше 50 миллионов, поскольку их совесм не видно на рафике - значит таких значений очень мало"
      ]
    },
    {
      "cell_type": "markdown",
      "metadata": {
        "id": "9lTPJPK7P9CN"
      },
      "source": [
        "### Посчитайте и добавьте в таблицу новые столбцы"
      ]
    },
    {
      "cell_type": "code",
      "execution_count": null,
      "metadata": {
        "id": "lNmjfPNaP9CN"
      },
      "outputs": [],
      "source": [
        "# цена квадратного метра\n",
        "data['per_square_meter'] = data['last_price'] / data['total_area']\n",
        "# день недели публикации объявления\n",
        "data['weekday_exposition'] = data['first_day_exposition'].dt.weekday\n",
        "# месяц публикации объявления\n",
        "data['month_exposition'] = data['first_day_exposition'].dt.month\n",
        "# год публикации объявления\n",
        "data['year_exposition'] = data['first_day_exposition'].dt.year"
      ]
    },
    {
      "cell_type": "code",
      "execution_count": null,
      "metadata": {
        "id": "QWgo27bdP9CN"
      },
      "outputs": [],
      "source": [
        "# функция для создания типа этажа в квартире\n",
        "def floor_type(row):\n",
        "    if row['floor'] == 1:\n",
        "        return 'первый'\n",
        "    elif row['floor'] == row['floors_total']:\n",
        "        return 'последний'\n",
        "    return 'другой'"
      ]
    },
    {
      "cell_type": "code",
      "execution_count": null,
      "metadata": {
        "id": "3z68vQJvP9CN"
      },
      "outputs": [],
      "source": [
        "data['floor_type'] = data.apply(floor_type, axis = 1)"
      ]
    },
    {
      "cell_type": "code",
      "execution_count": null,
      "metadata": {
        "id": "iZd5ollwP9CN"
      },
      "outputs": [],
      "source": [
        "#функция расстояния до центра города в километрах\n",
        "def distance_to_the_center(row):\n",
        "    if row['cityCenters_nearest'] != 'NaN':\n",
        "        return row['cityCenters_nearest'] / 1000\n"
      ]
    },
    {
      "cell_type": "code",
      "execution_count": null,
      "metadata": {
        "id": "9a2U0dUgP9CO"
      },
      "outputs": [],
      "source": [
        "data['cityCenters_nearest_km'] = data.apply(distance_to_the_center, axis = 1)"
      ]
    },
    {
      "cell_type": "code",
      "execution_count": null,
      "metadata": {
        "id": "qKQoNQyYP9CO"
      },
      "outputs": [],
      "source": [
        "data['cityCenters_nearest_km'] = np.floor(pd.to_numeric(data['cityCenters_nearest_km'], errors='coerce')).astype('Int64')"
      ]
    },
    {
      "cell_type": "code",
      "execution_count": null,
      "metadata": {
        "id": "E99xdnHxP9CO",
        "outputId": "7d5afca5-b785-47f5-8e50-b320213eee06"
      },
      "outputs": [
        {
          "name": "stdout",
          "output_type": "stream",
          "text": [
            "<class 'pandas.core.frame.DataFrame'>\n",
            "Int64Index: 23252 entries, 0 to 23698\n",
            "Data columns (total 28 columns):\n",
            " #   Column                  Non-Null Count  Dtype         \n",
            "---  ------                  --------------  -----         \n",
            " 0   total_images            23252 non-null  int64         \n",
            " 1   last_price              23252 non-null  float64       \n",
            " 2   total_area              23252 non-null  float64       \n",
            " 3   first_day_exposition    23252 non-null  datetime64[ns]\n",
            " 4   rooms                   23252 non-null  int64         \n",
            " 5   ceiling_height          23252 non-null  float64       \n",
            " 6   floors_total            23252 non-null  int64         \n",
            " 7   living_area             23252 non-null  float64       \n",
            " 8   floor                   23252 non-null  int64         \n",
            " 9   is_apartment            23252 non-null  bool          \n",
            " 10  studio                  23252 non-null  bool          \n",
            " 11  open_plan               23252 non-null  bool          \n",
            " 12  kitchen_area            23252 non-null  float64       \n",
            " 13  balcony                 23252 non-null  int64         \n",
            " 14  locality_name           23252 non-null  object        \n",
            " 15  airports_nearest        17745 non-null  float64       \n",
            " 16  cityCenters_nearest     17765 non-null  float64       \n",
            " 17  parks_around3000        23252 non-null  int64         \n",
            " 18  parks_nearest           7821 non-null   float64       \n",
            " 19  ponds_around3000        23252 non-null  int64         \n",
            " 20  ponds_nearest           8815 non-null   float64       \n",
            " 21  days_exposition         20154 non-null  Int64         \n",
            " 22  per_square_meter        23252 non-null  float64       \n",
            " 23  weekday_exposition      23252 non-null  int64         \n",
            " 24  month_exposition        23252 non-null  int64         \n",
            " 25  year_exposition         23252 non-null  int64         \n",
            " 26  floor_type              23252 non-null  object        \n",
            " 27  cityCenters_nearest_km  17765 non-null  Int64         \n",
            "dtypes: Int64(2), bool(3), datetime64[ns](1), float64(10), int64(10), object(2)\n",
            "memory usage: 4.7+ MB\n"
          ]
        }
      ],
      "source": [
        "data.info()"
      ]
    },
    {
      "cell_type": "markdown",
      "metadata": {
        "id": "9Etos166P9CO"
      },
      "source": [
        "### Проведите исследовательский анализ данных"
      ]
    },
    {
      "cell_type": "code",
      "execution_count": null,
      "metadata": {
        "id": "tRlNQ8iTP9CP"
      },
      "outputs": [],
      "source": [
        "import matplotlib.pyplot as plt"
      ]
    },
    {
      "cell_type": "markdown",
      "metadata": {
        "id": "gIhjIE5wP9CP"
      },
      "source": [
        "**Изучение общей площади**"
      ]
    },
    {
      "cell_type": "code",
      "execution_count": null,
      "metadata": {
        "id": "pFHPEOIWP9CP",
        "outputId": "6ba6d738-f780-473b-c220-98591a233c5f"
      },
      "outputs": [
        {
          "data": {
            "image/png": "[encoded data removed]",
            "text/plain": [
              "<Figure size 432x288 with 1 Axes>"
            ]
          },
          "metadata": {
            "needs_background": "light"
          },
          "output_type": "display_data"
        },
        {
          "data": {
            "text/plain": [
              "count    23252.000000\n",
              "mean        57.891917\n",
              "std         26.009582\n",
              "min         12.000000\n",
              "25%         40.000000\n",
              "50%         51.550000\n",
              "75%         68.425000\n",
              "max        199.200000\n",
              "Name: total_area, dtype: float64"
            ]
          },
          "execution_count": 40,
          "metadata": {},
          "output_type": "execute_result"
        }
      ],
      "source": [
        "plt.hist(data['total_area'], bins=30, range = (0, 400))\n",
        "plt.title('Общая площадь')\n",
        "plt.show()\n",
        "data['total_area'].describe()"
      ]
    },
    {
      "cell_type": "code",
      "execution_count": null,
      "metadata": {
        "id": "rPHLxBtbP9CP",
        "outputId": "c32ece74-7741-4b0a-a566-c43bb7ffb8da"
      },
      "outputs": [
        {
          "data": {
            "text/plain": [
              "19904    12.0\n",
              "19546    13.0\n",
              "19807    13.0\n",
              "17961    13.0\n",
              "19558    13.2\n",
              "Name: total_area, dtype: float64"
            ]
          },
          "execution_count": 41,
          "metadata": {},
          "output_type": "execute_result"
        }
      ],
      "source": [
        "# топ 5 квартир с наименьшей площадью\n",
        "data['total_area'].sort_values().head()"
      ]
    },
    {
      "cell_type": "code",
      "execution_count": null,
      "metadata": {
        "id": "ysaHQMpFP9CP",
        "outputId": "a4b4e561-c326-42d1-8099-0a4fce36533e"
      },
      "outputs": [
        {
          "data": {
            "text/plain": [
              "15079    199.2\n",
              "6509     198.9\n",
              "16656    198.1\n",
              "10315    198.0\n",
              "11438    198.0\n",
              "Name: total_area, dtype: float64"
            ]
          },
          "execution_count": 42,
          "metadata": {},
          "output_type": "execute_result"
        }
      ],
      "source": [
        "# топ 5 квартир больших по площаде\n",
        "data['total_area'].sort_values(ascending=False).head()"
      ]
    },
    {
      "cell_type": "markdown",
      "metadata": {
        "id": "NkvIhAOtP9CP"
      },
      "source": [
        "Большинство квартир площадью 50 кв.м, наименьшая площадь составляет 12 кв.м., а наибольшая 900 кв.м"
      ]
    },
    {
      "cell_type": "markdown",
      "metadata": {
        "id": "KGhzk5kYP9CP"
      },
      "source": [
        "**Изучение жилой площади**"
      ]
    },
    {
      "cell_type": "code",
      "execution_count": null,
      "metadata": {
        "id": "GRRF0F3AP9CQ",
        "outputId": "1d82635f-3284-452c-8766-16f91752191c"
      },
      "outputs": [
        {
          "data": {
            "image/png": "[encoded data removed]",
            "text/plain": [
              "<Figure size 432x288 with 1 Axes>"
            ]
          },
          "metadata": {
            "needs_background": "light"
          },
          "output_type": "display_data"
        },
        {
          "data": {
            "text/plain": [
              "count    23252.000000\n",
              "mean        32.878027\n",
              "std         16.490793\n",
              "min          2.000000\n",
              "25%         19.000000\n",
              "50%         30.000000\n",
              "75%         40.800000\n",
              "max        164.700000\n",
              "Name: living_area, dtype: float64"
            ]
          },
          "execution_count": 43,
          "metadata": {},
          "output_type": "execute_result"
        }
      ],
      "source": [
        "plt.hist(data['living_area'], bins=100, range = (0, 200))\n",
        "plt.title('Жилая площадь')\n",
        "plt.show()\n",
        "data['living_area'].describe()"
      ]
    },
    {
      "cell_type": "code",
      "execution_count": null,
      "metadata": {
        "id": "INNkTJy2P9CQ",
        "outputId": "24a36b16-5c5d-4433-fef6-ba9a2d7ceceb"
      },
      "outputs": [
        {
          "data": {
            "text/plain": [
              "21758    2.0\n",
              "13915    2.0\n",
              "3242     3.0\n",
              "17582    5.0\n",
              "21943    5.4\n",
              "Name: living_area, dtype: float64"
            ]
          },
          "execution_count": 44,
          "metadata": {},
          "output_type": "execute_result"
        }
      ],
      "source": [
        "# топ 5 квартир по меньшей общей площади\n",
        "data['living_area'].sort_values().head()"
      ]
    },
    {
      "cell_type": "code",
      "execution_count": null,
      "metadata": {
        "id": "RCoSOn0SP9CQ",
        "outputId": "e80cda75-9510-47a9-99e4-e027acc8f193"
      },
      "outputs": [
        {
          "data": {
            "text/plain": [
              "21676    164.7\n",
              "22904    159.6\n",
              "9392     150.8\n",
              "11800    147.2\n",
              "11438    147.0\n",
              "Name: living_area, dtype: float64"
            ]
          },
          "execution_count": 45,
          "metadata": {},
          "output_type": "execute_result"
        }
      ],
      "source": [
        "# топ 5 квартир по большей общей площади\n",
        "data['living_area'].sort_values(ascending=False).head()"
      ]
    },
    {
      "cell_type": "markdown",
      "metadata": {
        "id": "nZegMiXRP9CQ"
      },
      "source": [
        "Жилая площадь в основном не превышает 30 кв.м, наименьшей жилой площадью квартир является 2 кв.м, а наибольшей 409.7 кв.м"
      ]
    },
    {
      "cell_type": "markdown",
      "metadata": {
        "id": "TZJC_TTsP9CQ"
      },
      "source": [
        "**Изучение площади кухни**"
      ]
    },
    {
      "cell_type": "code",
      "execution_count": null,
      "metadata": {
        "scrolled": true,
        "id": "ff3Yesb9P9CQ",
        "outputId": "c8929d88-b30d-4eb1-97ed-85d48a7adba8"
      },
      "outputs": [
        {
          "data": {
            "image/png": "[encoded data removed]",
            "text/plain": [
              "<Figure size 432x288 with 1 Axes>"
            ]
          },
          "metadata": {
            "needs_background": "light"
          },
          "output_type": "display_data"
        },
        {
          "data": {
            "text/plain": [
              "count    23252.000000\n",
              "mean        10.216512\n",
              "std          4.950153\n",
              "min          1.300000\n",
              "25%          7.300000\n",
              "50%          9.100000\n",
              "75%         11.300000\n",
              "max         75.000000\n",
              "Name: kitchen_area, dtype: float64"
            ]
          },
          "execution_count": 46,
          "metadata": {},
          "output_type": "execute_result"
        }
      ],
      "source": [
        "plt.hist(data['kitchen_area'], bins=30, range = (0, 60))\n",
        "plt.title('Площадь кухни')\n",
        "plt.show()\n",
        "data['kitchen_area'].describe()"
      ]
    },
    {
      "cell_type": "code",
      "execution_count": null,
      "metadata": {
        "id": "Qatu7U96P9CQ",
        "outputId": "cae437bb-a0a7-4bc1-a942-e7e097882bab"
      },
      "outputs": [
        {
          "data": {
            "text/plain": [
              "20217    1.3\n",
              "9138     2.0\n",
              "6262     2.0\n",
              "19642    2.0\n",
              "16367    2.0\n",
              "Name: kitchen_area, dtype: float64"
            ]
          },
          "execution_count": 47,
          "metadata": {},
          "output_type": "execute_result"
        }
      ],
      "source": [
        "# топ 5 квартир по меньшей площади кухни\n",
        "data['kitchen_area'].sort_values().head()"
      ]
    },
    {
      "cell_type": "code",
      "execution_count": null,
      "metadata": {
        "id": "0R7tl32wP9CR",
        "outputId": "d719925b-609d-49b0-ee32-e15c725a2862"
      },
      "outputs": [
        {
          "data": {
            "text/plain": [
              "14644    75.0\n",
              "18447    65.0\n",
              "22980    65.0\n",
              "19499    64.0\n",
              "15780    64.0\n",
              "Name: kitchen_area, dtype: float64"
            ]
          },
          "execution_count": 48,
          "metadata": {},
          "output_type": "execute_result"
        }
      ],
      "source": [
        "# топ 5 квартир по большей площади кухни\n",
        "data['kitchen_area'].sort_values(ascending=False).head()"
      ]
    },
    {
      "cell_type": "markdown",
      "metadata": {
        "id": "45YcYNW_P9CR"
      },
      "source": [
        "Общая площадь кухни не превышает 10 кв. м, наибольшей площадью кухни является 112 кв. м, а наименьшей 1,2 кв.м"
      ]
    },
    {
      "cell_type": "markdown",
      "metadata": {
        "id": "5ztVBvM4P9CR"
      },
      "source": [
        "**Изучение цены объекта**"
      ]
    },
    {
      "cell_type": "code",
      "execution_count": null,
      "metadata": {
        "id": "MKbZfyQvP9CR",
        "outputId": "c78ef789-f54e-4770-8fc8-a31ba30cf353"
      },
      "outputs": [
        {
          "data": {
            "image/png": "[encoded data removed]",
            "text/plain": [
              "<Figure size 432x288 with 1 Axes>"
            ]
          },
          "metadata": {
            "needs_background": "light"
          },
          "output_type": "display_data"
        },
        {
          "data": {
            "text/plain": [
              "count    23252.000000\n",
              "mean         5.848714\n",
              "std          4.575786\n",
              "min          0.012190\n",
              "25%          3.400000\n",
              "50%          4.600000\n",
              "75%          6.650000\n",
              "max         49.900000\n",
              "Name: last_price, dtype: float64"
            ]
          },
          "execution_count": 49,
          "metadata": {},
          "output_type": "execute_result"
        }
      ],
      "source": [
        "plt.hist(data['last_price'], bins=100, range = (0, 8))\n",
        "plt.title('Цена объекта')\n",
        "plt.show()\n",
        "data['last_price'].describe()"
      ]
    },
    {
      "cell_type": "code",
      "execution_count": null,
      "metadata": {
        "id": "UeLV9rbzP9CR",
        "outputId": "e1da8a4b-2926-4777-9072-f34712fe7b9d"
      },
      "outputs": [
        {
          "data": {
            "text/plain": [
              "8793     0.01219\n",
              "14911    0.43000\n",
              "17456    0.43000\n",
              "16274    0.44000\n",
              "9581     0.45000\n",
              "Name: last_price, dtype: float64"
            ]
          },
          "execution_count": 50,
          "metadata": {},
          "output_type": "execute_result"
        }
      ],
      "source": [
        "# топ 5 квартир по меньшей цене\n",
        "data['last_price'].sort_values().head()"
      ]
    },
    {
      "cell_type": "code",
      "execution_count": null,
      "metadata": {
        "id": "lecV2XsQP9CR",
        "outputId": "3354a7e4-62f1-4dc9-b778-41858b4708cd"
      },
      "outputs": [
        {
          "data": {
            "text/plain": [
              "13311    49.900\n",
              "9474     49.900\n",
              "10001    49.500\n",
              "18770    49.000\n",
              "17783    48.763\n",
              "Name: last_price, dtype: float64"
            ]
          },
          "execution_count": 51,
          "metadata": {},
          "output_type": "execute_result"
        }
      ],
      "source": [
        "# топ 5 квартир по большей цене\n",
        "data['last_price'].sort_values(ascending=False).head()"
      ]
    },
    {
      "cell_type": "markdown",
      "metadata": {
        "id": "epkRAhdeP9CS"
      },
      "source": [
        "Основная цена квартир располагается в диапозоне от 3 млн до 5 млн. Наибольшая стоимость 763000000, а наименьшая 12190"
      ]
    },
    {
      "cell_type": "markdown",
      "metadata": {
        "id": "mcxfFfRHP9CS"
      },
      "source": [
        "**Изучение количества комнат**"
      ]
    },
    {
      "cell_type": "code",
      "execution_count": null,
      "metadata": {
        "id": "q_lhe6o9P9CS",
        "outputId": "e801682b-c8c9-4be2-d151-972fad20c9c2"
      },
      "outputs": [
        {
          "data": {
            "image/png": "[encoded data removed]",
            "text/plain": [
              "<Figure size 432x288 with 1 Axes>"
            ]
          },
          "metadata": {
            "needs_background": "light"
          },
          "output_type": "display_data"
        },
        {
          "data": {
            "text/plain": [
              "count    23252.000000\n",
              "mean         2.030363\n",
              "std          0.989962\n",
              "min          0.000000\n",
              "25%          1.000000\n",
              "50%          2.000000\n",
              "75%          3.000000\n",
              "max          8.000000\n",
              "Name: rooms, dtype: float64"
            ]
          },
          "execution_count": 52,
          "metadata": {},
          "output_type": "execute_result"
        }
      ],
      "source": [
        "plt.hist(data['rooms'], bins=100, range = (0, 20))\n",
        "plt.title('Количество комнат')\n",
        "plt.show()\n",
        "data['rooms'].describe()"
      ]
    },
    {
      "cell_type": "code",
      "execution_count": null,
      "metadata": {
        "id": "Si-pZ6jyP9CS",
        "outputId": "e27e7723-2823-473c-e00a-2b61b1a1e9c5"
      },
      "outputs": [
        {
          "data": {
            "text/plain": [
              "8758     8\n",
              "4435     8\n",
              "2261     7\n",
              "17350    7\n",
              "855      7\n",
              "Name: rooms, dtype: int64"
            ]
          },
          "execution_count": 53,
          "metadata": {},
          "output_type": "execute_result"
        }
      ],
      "source": [
        "# топ 5 квартир с большим количеством комнат\n",
        "data['rooms'].sort_values(ascending=False).head()"
      ]
    },
    {
      "cell_type": "markdown",
      "metadata": {
        "id": "mVZiFYXFP9CS"
      },
      "source": [
        "больше всего квартир с 1, 2 и 3 комнатами. Квартирой с наибольшим числом комнат равна 19."
      ]
    },
    {
      "cell_type": "markdown",
      "metadata": {
        "id": "uTdclohQP9CS"
      },
      "source": [
        "**Изучение высоты потолков**"
      ]
    },
    {
      "cell_type": "code",
      "execution_count": null,
      "metadata": {
        "id": "g1WBUjZVP9CT",
        "outputId": "eed8853e-f2dc-4193-c620-6f2368ea335d"
      },
      "outputs": [
        {
          "data": {
            "image/png": "[encoded data removed]",
            "text/plain": [
              "<Figure size 432x288 with 1 Axes>"
            ]
          },
          "metadata": {
            "needs_background": "light"
          },
          "output_type": "display_data"
        },
        {
          "data": {
            "text/plain": [
              "count    23252.000000\n",
              "mean         2.692439\n",
              "std          0.220310\n",
              "min          1.200000\n",
              "25%          2.600000\n",
              "50%          2.650000\n",
              "75%          2.700000\n",
              "max          8.300000\n",
              "Name: ceiling_height, dtype: float64"
            ]
          },
          "execution_count": 54,
          "metadata": {},
          "output_type": "execute_result"
        }
      ],
      "source": [
        "plt.hist(data['ceiling_height'], bins=30, range = (1, 9))\n",
        "plt.title('Высота потолков')\n",
        "plt.show()\n",
        "data['ceiling_height'].describe()"
      ]
    },
    {
      "cell_type": "code",
      "execution_count": null,
      "metadata": {
        "id": "Jz85uS-nP9CT",
        "outputId": "1867ea38-5717-4349-8027-b94510ae6a3b"
      },
      "outputs": [
        {
          "data": {
            "text/plain": [
              "5712     1.20\n",
              "16934    1.75\n",
              "19329    2.00\n",
              "5850     2.00\n",
              "4212     2.00\n",
              "Name: ceiling_height, dtype: float64"
            ]
          },
          "execution_count": 55,
          "metadata": {},
          "output_type": "execute_result"
        }
      ],
      "source": [
        "# топ 5 квартир с меньшей высотой комнат\n",
        "data['ceiling_height'].sort_values().head()"
      ]
    },
    {
      "cell_type": "code",
      "execution_count": null,
      "metadata": {
        "id": "VUR77OFxP9CT",
        "outputId": "95eddd38-0400-4d75-8312-faa839d50cd8"
      },
      "outputs": [
        {
          "data": {
            "text/plain": [
              "5863     8.3\n",
              "3474     8.0\n",
              "17442    8.0\n",
              "15743    8.0\n",
              "21227    5.8\n",
              "Name: ceiling_height, dtype: float64"
            ]
          },
          "execution_count": 56,
          "metadata": {},
          "output_type": "execute_result"
        }
      ],
      "source": [
        "# топ 5 квартир с большей высотой комнат\n",
        "data['ceiling_height'].sort_values(ascending=False).head()"
      ]
    },
    {
      "cell_type": "markdown",
      "metadata": {
        "id": "avBeW8tMP9CT"
      },
      "source": [
        "Больше всего квартир с высотой потолков от 2 до 4 метров. Наибольшей высотой потолков является 8,3 м, а наименьшей 1,2."
      ]
    },
    {
      "cell_type": "markdown",
      "metadata": {
        "id": "AojDE3w_P9CT"
      },
      "source": [
        "**Изучение этажей квартиры**"
      ]
    },
    {
      "cell_type": "code",
      "execution_count": null,
      "metadata": {
        "id": "iUSi_Xp8P9CT",
        "outputId": "29f0c85d-160f-427d-b20e-d9be6e8f280b"
      },
      "outputs": [
        {
          "data": {
            "image/png": "[encoded data removed]",
            "text/plain": [
              "<Figure size 432x288 with 1 Axes>"
            ]
          },
          "metadata": {
            "needs_background": "light"
          },
          "output_type": "display_data"
        },
        {
          "data": {
            "text/plain": [
              "count    23252.000000\n",
              "mean         5.889558\n",
              "std          4.884298\n",
              "min          1.000000\n",
              "25%          2.000000\n",
              "50%          4.000000\n",
              "75%          8.000000\n",
              "max         33.000000\n",
              "Name: floor, dtype: float64"
            ]
          },
          "execution_count": 57,
          "metadata": {},
          "output_type": "execute_result"
        }
      ],
      "source": [
        "plt.hist(data['floor'], bins=30, range = (1, 35))\n",
        "plt.title('Этажи')\n",
        "plt.show()\n",
        "data['floor'].describe()"
      ]
    },
    {
      "cell_type": "code",
      "execution_count": null,
      "metadata": {
        "id": "-o5ZFrQfP9CU",
        "outputId": "13ea1182-be09-4b7d-965a-cc377c032cc1"
      },
      "outputs": [
        {
          "data": {
            "text/plain": [
              "18218    33\n",
              "11575    32\n",
              "18629    31\n",
              "1917     30\n",
              "11079    29\n",
              "Name: floor, dtype: int64"
            ]
          },
          "execution_count": 58,
          "metadata": {},
          "output_type": "execute_result"
        }
      ],
      "source": [
        "# топ 5 квартир на высоком этаже\n",
        "data['floor'].sort_values(ascending=False).head()"
      ]
    },
    {
      "cell_type": "markdown",
      "metadata": {
        "id": "jVYruE2YP9CU"
      },
      "source": [
        " Квартиры в основном находятся на 1 - 5 этаже. Наибольший этаж - 33"
      ]
    },
    {
      "cell_type": "markdown",
      "metadata": {
        "id": "OvmvkgWyP9CU"
      },
      "source": [
        "**Изучение типов этажей квартир**"
      ]
    },
    {
      "cell_type": "code",
      "execution_count": null,
      "metadata": {
        "id": "I6Y9RUd4P9CU",
        "outputId": "4cac723f-5928-4218-fcab-81cae23e19e9"
      },
      "outputs": [
        {
          "data": {
            "text/html": [
              "<div>\n",
              "<style scoped>\n",
              "    .dataframe tbody tr th:only-of-type {\n",
              "        vertical-align: middle;\n",
              "    }\n",
              "\n",
              "    .dataframe tbody tr th {\n",
              "        vertical-align: top;\n",
              "    }\n",
              "\n",
              "    .dataframe thead th {\n",
              "        text-align: right;\n",
              "    }\n",
              "</style>\n",
              "<table border=\"1\" class=\"dataframe\">\n",
              "  <thead>\n",
              "    <tr style=\"text-align: right;\">\n",
              "      <th></th>\n",
              "      <th>total_images</th>\n",
              "      <th>last_price</th>\n",
              "      <th>total_area</th>\n",
              "      <th>rooms</th>\n",
              "      <th>ceiling_height</th>\n",
              "      <th>floors_total</th>\n",
              "      <th>living_area</th>\n",
              "      <th>floor</th>\n",
              "      <th>is_apartment</th>\n",
              "      <th>studio</th>\n",
              "      <th>...</th>\n",
              "      <th>parks_around3000</th>\n",
              "      <th>parks_nearest</th>\n",
              "      <th>ponds_around3000</th>\n",
              "      <th>ponds_nearest</th>\n",
              "      <th>days_exposition</th>\n",
              "      <th>per_square_meter</th>\n",
              "      <th>weekday_exposition</th>\n",
              "      <th>month_exposition</th>\n",
              "      <th>year_exposition</th>\n",
              "      <th>cityCenters_nearest_km</th>\n",
              "    </tr>\n",
              "    <tr>\n",
              "      <th>floor_type</th>\n",
              "      <th></th>\n",
              "      <th></th>\n",
              "      <th></th>\n",
              "      <th></th>\n",
              "      <th></th>\n",
              "      <th></th>\n",
              "      <th></th>\n",
              "      <th></th>\n",
              "      <th></th>\n",
              "      <th></th>\n",
              "      <th></th>\n",
              "      <th></th>\n",
              "      <th></th>\n",
              "      <th></th>\n",
              "      <th></th>\n",
              "      <th></th>\n",
              "      <th></th>\n",
              "      <th></th>\n",
              "      <th></th>\n",
              "      <th></th>\n",
              "      <th></th>\n",
              "    </tr>\n",
              "  </thead>\n",
              "  <tbody>\n",
              "    <tr>\n",
              "      <th>другой</th>\n",
              "      <td>170401</td>\n",
              "      <td>104658.492083</td>\n",
              "      <td>994154.61</td>\n",
              "      <td>34076</td>\n",
              "      <td>46062.26</td>\n",
              "      <td>206083</td>\n",
              "      <td>556769.191510</td>\n",
              "      <td>110707</td>\n",
              "      <td>29</td>\n",
              "      <td>124</td>\n",
              "      <td>...</td>\n",
              "      <td>7650</td>\n",
              "      <td>2881161.0</td>\n",
              "      <td>10033</td>\n",
              "      <td>3502778.0</td>\n",
              "      <td>2595809</td>\n",
              "      <td>1741.681183</td>\n",
              "      <td>43857</td>\n",
              "      <td>109889</td>\n",
              "      <td>34531583</td>\n",
              "      <td>183531</td>\n",
              "    </tr>\n",
              "    <tr>\n",
              "      <th>первый</th>\n",
              "      <td>26746</td>\n",
              "      <td>13186.852827</td>\n",
              "      <td>159022.83</td>\n",
              "      <td>6154</td>\n",
              "      <td>7750.10</td>\n",
              "      <td>19952</td>\n",
              "      <td>94399.230000</td>\n",
              "      <td>2891</td>\n",
              "      <td>6</td>\n",
              "      <td>15</td>\n",
              "      <td>...</td>\n",
              "      <td>1372</td>\n",
              "      <td>446087.0</td>\n",
              "      <td>1535</td>\n",
              "      <td>508447.0</td>\n",
              "      <td>493159</td>\n",
              "      <td>234.937792</td>\n",
              "      <td>7396</td>\n",
              "      <td>18178</td>\n",
              "      <td>5832110</td>\n",
              "      <td>29973</td>\n",
              "    </tr>\n",
              "    <tr>\n",
              "      <th>последний</th>\n",
              "      <td>31827</td>\n",
              "      <td>18148.956625</td>\n",
              "      <td>192925.42</td>\n",
              "      <td>6980</td>\n",
              "      <td>8792.24</td>\n",
              "      <td>23346</td>\n",
              "      <td>113311.460002</td>\n",
              "      <td>23346</td>\n",
              "      <td>9</td>\n",
              "      <td>7</td>\n",
              "      <td>...</td>\n",
              "      <td>1630</td>\n",
              "      <td>526064.0</td>\n",
              "      <td>1895</td>\n",
              "      <td>586414.0</td>\n",
              "      <td>524684</td>\n",
              "      <td>289.161195</td>\n",
              "      <td>8415</td>\n",
              "      <td>20785</td>\n",
              "      <td>6544323</td>\n",
              "      <td>31927</td>\n",
              "    </tr>\n",
              "  </tbody>\n",
              "</table>\n",
              "<p>3 rows × 25 columns</p>\n",
              "</div>"
            ],
            "text/plain": [
              "            total_images     last_price  total_area  rooms  ceiling_height  \\\n",
              "floor_type                                                                   \n",
              "другой            170401  104658.492083   994154.61  34076        46062.26   \n",
              "первый             26746   13186.852827   159022.83   6154         7750.10   \n",
              "последний          31827   18148.956625   192925.42   6980         8792.24   \n",
              "\n",
              "            floors_total    living_area   floor  is_apartment  studio  ...  \\\n",
              "floor_type                                                             ...   \n",
              "другой            206083  556769.191510  110707            29     124  ...   \n",
              "первый             19952   94399.230000    2891             6      15  ...   \n",
              "последний          23346  113311.460002   23346             9       7  ...   \n",
              "\n",
              "            parks_around3000  parks_nearest  ponds_around3000  ponds_nearest  \\\n",
              "floor_type                                                                     \n",
              "другой                  7650      2881161.0             10033      3502778.0   \n",
              "первый                  1372       446087.0              1535       508447.0   \n",
              "последний               1630       526064.0              1895       586414.0   \n",
              "\n",
              "            days_exposition  per_square_meter  weekday_exposition  \\\n",
              "floor_type                                                          \n",
              "другой              2595809       1741.681183               43857   \n",
              "первый               493159        234.937792                7396   \n",
              "последний            524684        289.161195                8415   \n",
              "\n",
              "            month_exposition  year_exposition  cityCenters_nearest_km  \n",
              "floor_type                                                             \n",
              "другой                109889         34531583                  183531  \n",
              "первый                 18178          5832110                   29973  \n",
              "последний              20785          6544323                   31927  \n",
              "\n",
              "[3 rows x 25 columns]"
            ]
          },
          "execution_count": 59,
          "metadata": {},
          "output_type": "execute_result"
        }
      ],
      "source": [
        "data.groupby('floor_type').sum()"
      ]
    },
    {
      "cell_type": "markdown",
      "metadata": {
        "id": "dVcfyDZJP9CU"
      },
      "source": [
        "Больше всего квартир находится на другом этаже, а также на последнем."
      ]
    },
    {
      "cell_type": "markdown",
      "metadata": {
        "id": "en9uNIWkP9CU"
      },
      "source": [
        "**Изучение общего количества этажей**"
      ]
    },
    {
      "cell_type": "code",
      "execution_count": null,
      "metadata": {
        "scrolled": true,
        "id": "Fs8V_PK1P9CU",
        "outputId": "ab4c1135-1d6c-4bec-9f2b-ca0606ec71b9"
      },
      "outputs": [
        {
          "data": {
            "image/png": "[encoded data removed]",
            "text/plain": [
              "<Figure size 432x288 with 1 Axes>"
            ]
          },
          "metadata": {
            "needs_background": "light"
          },
          "output_type": "display_data"
        },
        {
          "data": {
            "text/plain": [
              "count    23252.000000\n",
              "mean        10.725142\n",
              "std          6.606705\n",
              "min          1.000000\n",
              "25%          5.000000\n",
              "50%          9.000000\n",
              "75%         16.000000\n",
              "max         60.000000\n",
              "Name: floors_total, dtype: float64"
            ]
          },
          "execution_count": 60,
          "metadata": {},
          "output_type": "execute_result"
        }
      ],
      "source": [
        "plt.hist(data['floors_total'], bins=100, range = (1, 30))\n",
        "plt.title('Общее количество этажей')\n",
        "plt.show()\n",
        "data['floors_total'].describe()"
      ]
    },
    {
      "cell_type": "code",
      "execution_count": null,
      "metadata": {
        "id": "SJiyYPoYP9CV",
        "outputId": "57e43131-4536-424c-95c8-d9e7d71d594c"
      },
      "outputs": [
        {
          "data": {
            "text/plain": [
              "2253     60\n",
              "16731    52\n",
              "16934    37\n",
              "11079    36\n",
              "397      36\n",
              "Name: floors_total, dtype: int64"
            ]
          },
          "execution_count": 61,
          "metadata": {},
          "output_type": "execute_result"
        }
      ],
      "source": [
        "# топ 5 квартир с большим общим количеством этажей\n",
        "data['floors_total'].sort_values(ascending=False).head()"
      ]
    },
    {
      "cell_type": "markdown",
      "metadata": {
        "id": "nC_HaOizP9CV"
      },
      "source": [
        "Большее количество этажей равняется 5. Макисимальное количество общих этажей - 60"
      ]
    },
    {
      "cell_type": "markdown",
      "metadata": {
        "id": "OfvEaOBdP9CV"
      },
      "source": [
        "**Изучение расстояния до центра города в метрах**"
      ]
    },
    {
      "cell_type": "code",
      "execution_count": null,
      "metadata": {
        "id": "X0WtZcpBP9CV",
        "outputId": "60ca4cf2-238f-468f-c4b6-4ec318bf8c9f"
      },
      "outputs": [
        {
          "data": {
            "image/png": "[encoded data removed]",
            "text/plain": [
              "<Figure size 432x288 with 1 Axes>"
            ]
          },
          "metadata": {
            "needs_background": "light"
          },
          "output_type": "display_data"
        },
        {
          "data": {
            "text/plain": [
              "count    17765.000000\n",
              "mean     14311.733352\n",
              "std       8592.916950\n",
              "min        181.000000\n",
              "25%       9488.000000\n",
              "50%      13170.000000\n",
              "75%      16333.000000\n",
              "max      65968.000000\n",
              "Name: cityCenters_nearest, dtype: float64"
            ]
          },
          "execution_count": 62,
          "metadata": {},
          "output_type": "execute_result"
        }
      ],
      "source": [
        "plt.hist(data['cityCenters_nearest'], bins=30, range = (1, 68000))\n",
        "plt.title('Расстояние до центра')\n",
        "plt.show()\n",
        "data['cityCenters_nearest'].describe()"
      ]
    },
    {
      "cell_type": "code",
      "execution_count": null,
      "metadata": {
        "id": "ya73LDf7P9CV",
        "outputId": "ab68eea4-c551-4c35-b367-02a60d2ac37d"
      },
      "outputs": [
        {
          "data": {
            "text/plain": [
              "13694    181.0\n",
              "1182     208.0\n",
              "8614     215.0\n",
              "1934     287.0\n",
              "20873    291.0\n",
              "Name: cityCenters_nearest, dtype: float64"
            ]
          },
          "execution_count": 63,
          "metadata": {},
          "output_type": "execute_result"
        }
      ],
      "source": [
        "# топ 5 квартир с меньшим расстоянием\n",
        "data['cityCenters_nearest'].sort_values().head()"
      ]
    },
    {
      "cell_type": "code",
      "execution_count": null,
      "metadata": {
        "id": "iRoX-ImvP9CV",
        "outputId": "1b66303a-d834-4f88-dccb-78e9b8e7f561"
      },
      "outputs": [
        {
          "data": {
            "text/plain": [
              "9640     65968.0\n",
              "5340     65952.0\n",
              "577      65764.0\n",
              "20746    65105.0\n",
              "5218     64857.0\n",
              "Name: cityCenters_nearest, dtype: float64"
            ]
          },
          "execution_count": 64,
          "metadata": {},
          "output_type": "execute_result"
        }
      ],
      "source": [
        "# топ 5 квартир с большим расстоянием\n",
        "data['cityCenters_nearest'].sort_values(ascending=False).head()"
      ]
    },
    {
      "cell_type": "markdown",
      "metadata": {
        "id": "sSGjlvdUP9CV"
      },
      "source": [
        "Больше всего квартир с удаленность от 10000 до 20000 метров. Большее расстояние 65968 метров, а наименьшее 181 метр."
      ]
    },
    {
      "cell_type": "markdown",
      "metadata": {
        "id": "ez9Wrg0aP9CW"
      },
      "source": [
        "**Изучение расстояния до ближайшего аэропорта**"
      ]
    },
    {
      "cell_type": "code",
      "execution_count": null,
      "metadata": {
        "id": "c6G0NaSZP9CW",
        "outputId": "ab4842ae-4bfe-402d-8d0c-8518fb66ac93"
      },
      "outputs": [
        {
          "data": {
            "image/png": "[encoded data removed]",
            "text/plain": [
              "<Figure size 432x288 with 1 Axes>"
            ]
          },
          "metadata": {
            "needs_background": "light"
          },
          "output_type": "display_data"
        },
        {
          "data": {
            "text/plain": [
              "count    17745.000000\n",
              "mean     28829.776106\n",
              "std      12695.327638\n",
              "min          0.000000\n",
              "25%      18488.000000\n",
              "50%      26819.000000\n",
              "75%      37407.000000\n",
              "max      84869.000000\n",
              "Name: airports_nearest, dtype: float64"
            ]
          },
          "execution_count": 65,
          "metadata": {},
          "output_type": "execute_result"
        }
      ],
      "source": [
        "plt.hist(data['airports_nearest'], bins=30, range = (0, 85000))\n",
        "plt.title('Расстояние до аэропорта')\n",
        "plt.show()\n",
        "data['airports_nearest'].describe()"
      ]
    },
    {
      "cell_type": "code",
      "execution_count": null,
      "metadata": {
        "id": "le6JuLE0P9CW",
        "outputId": "1e4842bf-5ecb-4035-b64d-e320b7e8c9a6"
      },
      "outputs": [
        {
          "data": {
            "text/plain": [
              "21085       0.0\n",
              "12899    6450.0\n",
              "4017     6450.0\n",
              "7778     6914.0\n",
              "23150    6949.0\n",
              "Name: airports_nearest, dtype: float64"
            ]
          },
          "execution_count": 66,
          "metadata": {},
          "output_type": "execute_result"
        }
      ],
      "source": [
        "# топ 5 квартир с меньшим расстоянием\n",
        "data['airports_nearest'].sort_values().head()"
      ]
    },
    {
      "cell_type": "code",
      "execution_count": null,
      "metadata": {
        "id": "Y8kvtmT0P9CW",
        "outputId": "6aff2e19-1c4a-4848-ddbb-cf7641ce4243"
      },
      "outputs": [
        {
          "data": {
            "text/plain": [
              "9640     84869.0\n",
              "5340     84853.0\n",
              "577      84665.0\n",
              "20746    84006.0\n",
              "5218     83758.0\n",
              "Name: airports_nearest, dtype: float64"
            ]
          },
          "execution_count": 67,
          "metadata": {},
          "output_type": "execute_result"
        }
      ],
      "source": [
        "# топ 5 квартир с большим расстоянием\n",
        "data['airports_nearest'].sort_values(ascending=False).head()"
      ]
    },
    {
      "cell_type": "markdown",
      "metadata": {
        "id": "egEZ9oVMP9CW"
      },
      "source": [
        "Больше всего квартир находится на рассотянии от аэропорта от 20000 до 30000 метров. Самая удаленная квартира от аэропорта находится на расстоянии более 80000 метров, а самая близжайшая на 6450 метров"
      ]
    },
    {
      "cell_type": "markdown",
      "metadata": {
        "id": "F1GD4YGvP9CW"
      },
      "source": [
        "**Изучение расстояния до ближайшего парка**"
      ]
    },
    {
      "cell_type": "code",
      "execution_count": null,
      "metadata": {
        "id": "m0v1_mmmP9CW",
        "outputId": "cd3a42b4-8830-4c85-af08-72d93de050a1"
      },
      "outputs": [
        {
          "data": {
            "image/png": "[encoded data removed]",
            "text/plain": [
              "<Figure size 432x288 with 1 Axes>"
            ]
          },
          "metadata": {
            "needs_background": "light"
          },
          "output_type": "display_data"
        },
        {
          "data": {
            "text/plain": [
              "count    7821.000000\n",
              "mean      492.687892\n",
              "std       342.421154\n",
              "min         1.000000\n",
              "25%       288.000000\n",
              "50%       456.000000\n",
              "75%       613.000000\n",
              "max      3190.000000\n",
              "Name: parks_nearest, dtype: float64"
            ]
          },
          "execution_count": 68,
          "metadata": {},
          "output_type": "execute_result"
        }
      ],
      "source": [
        "plt.hist(data['parks_nearest'], bins=30, range = (1, 3500))\n",
        "plt.title('Расстояние до парка')\n",
        "plt.show()\n",
        "data['parks_nearest'].describe()"
      ]
    },
    {
      "cell_type": "code",
      "execution_count": null,
      "metadata": {
        "id": "Wf5O_bNyP9CX",
        "outputId": "42ae9487-6e02-41ba-a255-418095c8fa17"
      },
      "outputs": [
        {
          "data": {
            "text/plain": [
              "14624    1.0\n",
              "11949    3.0\n",
              "22941    4.0\n",
              "9344     7.0\n",
              "2527     9.0\n",
              "Name: parks_nearest, dtype: float64"
            ]
          },
          "execution_count": 69,
          "metadata": {},
          "output_type": "execute_result"
        }
      ],
      "source": [
        "# топ 5 квартир с наименьшим расстоянием\n",
        "data['parks_nearest'].sort_values().head()"
      ]
    },
    {
      "cell_type": "code",
      "execution_count": null,
      "metadata": {
        "id": "V19myVryP9CX",
        "outputId": "a468f72e-b11e-466e-f6c6-72ff3841240c"
      },
      "outputs": [
        {
          "data": {
            "text/plain": [
              "10959    3190.0\n",
              "19430    3190.0\n",
              "1590     3064.0\n",
              "19208    3013.0\n",
              "23080    2984.0\n",
              "Name: parks_nearest, dtype: float64"
            ]
          },
          "execution_count": 70,
          "metadata": {},
          "output_type": "execute_result"
        }
      ],
      "source": [
        "# топ 5 квартир с большим расстоянием\n",
        "data['parks_nearest'].sort_values(ascending=False).head()"
      ]
    },
    {
      "cell_type": "markdown",
      "metadata": {
        "id": "nXbagnFQP9CX"
      },
      "source": [
        "Больше всего квартир находдится на расстоянии 500 метров. Самая удаленная квартира на расстоянии 1 метра, а самая удаленная на расстоянии 2984 метра"
      ]
    },
    {
      "cell_type": "markdown",
      "metadata": {
        "id": "eI1n2ZaMP9CX"
      },
      "source": [
        "**Изучение деня и месяца публикации объявления**"
      ]
    },
    {
      "cell_type": "code",
      "execution_count": null,
      "metadata": {
        "scrolled": true,
        "id": "BqXBEtRjP9CX",
        "outputId": "ac497628-7e50-4d97-c8c7-70d09d1582bb"
      },
      "outputs": [
        {
          "data": {
            "text/plain": [
              "<AxesSubplot:xlabel='weekday_exposition', ylabel='month_exposition'>"
            ]
          },
          "execution_count": 71,
          "metadata": {},
          "output_type": "execute_result"
        },
        {
          "data": {
            "image/png": "[encoded data removed]",
            "text/plain": [
              "<Figure size 432x288 with 2 Axes>"
            ]
          },
          "metadata": {
            "needs_background": "light"
          },
          "output_type": "display_data"
        }
      ],
      "source": [
        "data.plot(x = 'weekday_exposition', y = 'month_exposition', kind='hexbin', gridsize = 10, sharex=False, grid=True)"
      ]
    },
    {
      "cell_type": "markdown",
      "metadata": {
        "id": "q6825c93P9CX"
      },
      "source": [
        "Больше всего в публиковались в четверг в феврале месяце"
      ]
    },
    {
      "cell_type": "markdown",
      "metadata": {
        "id": "9EvvE6AmP9CX"
      },
      "source": [
        "**Как быстро продавались квартиры**"
      ]
    },
    {
      "cell_type": "code",
      "execution_count": null,
      "metadata": {
        "id": "WZJd0UUmP9CY",
        "outputId": "85976a40-ed41-44ac-bf89-e1179ee7c353"
      },
      "outputs": [
        {
          "data": {
            "image/png": "[encoded data removed]",
            "text/plain": [
              "<Figure size 432x288 with 1 Axes>"
            ]
          },
          "metadata": {
            "needs_background": "light"
          },
          "output_type": "display_data"
        },
        {
          "data": {
            "text/plain": [
              "count    20154.000000\n",
              "mean       179.301975\n",
              "std        218.152018\n",
              "min          1.000000\n",
              "25%         45.000000\n",
              "50%         95.000000\n",
              "75%        229.000000\n",
              "max       1580.000000\n",
              "Name: days_exposition, dtype: float64"
            ]
          },
          "execution_count": 72,
          "metadata": {},
          "output_type": "execute_result"
        }
      ],
      "source": [
        "hist = data[data['days_exposition'] !='NaN']\n",
        "plt.hist(hist['days_exposition'], bins=50, range = (0, 500))\n",
        "plt.title('Время продажи квартиры')\n",
        "plt.show()\n",
        "hist['days_exposition'].describe()"
      ]
    },
    {
      "cell_type": "markdown",
      "metadata": {
        "id": "-VNArVR5P9CY"
      },
      "source": [
        "Больше всего квартир продавались в течении 100 дней.Так же необходимо рассмотреть первый квантиль, который равен 45, до этого времени продажи можно назвать быстрыми, а самыми долгими от 230 дней."
      ]
    },
    {
      "cell_type": "markdown",
      "metadata": {
        "id": "InGqvupKP9CZ"
      },
      "source": [
        "**Какие факторы больше всего влияют на общую (полную) стоимость объекта**"
      ]
    },
    {
      "cell_type": "code",
      "execution_count": null,
      "metadata": {
        "id": "g49XA3YSP9CZ",
        "outputId": "481f70be-2e1a-40e9-b530-ff2952ac635d"
      },
      "outputs": [
        {
          "data": {
            "text/plain": [
              "<AxesSubplot:xlabel='total_area'>"
            ]
          },
          "execution_count": 73,
          "metadata": {},
          "output_type": "execute_result"
        },
        {
          "data": {
            "image/png": "[encoded data removed]",
            "text/plain": [
              "<Figure size 360x360 with 1 Axes>"
            ]
          },
          "metadata": {
            "needs_background": "light"
          },
          "output_type": "display_data"
        }
      ],
      "source": [
        "# влияние площади\n",
        "data.pivot_table(index='total_area', values='last_price').plot(grid=True, style='o', figsize=(5, 5))"
      ]
    },
    {
      "cell_type": "code",
      "execution_count": null,
      "metadata": {
        "id": "35_tKJiLP9CZ",
        "outputId": "9bc5a9db-62cf-4e74-bd5b-06a60e7b8d7e"
      },
      "outputs": [
        {
          "data": {
            "text/html": [
              "<div>\n",
              "<style scoped>\n",
              "    .dataframe tbody tr th:only-of-type {\n",
              "        vertical-align: middle;\n",
              "    }\n",
              "\n",
              "    .dataframe tbody tr th {\n",
              "        vertical-align: top;\n",
              "    }\n",
              "\n",
              "    .dataframe thead th {\n",
              "        text-align: right;\n",
              "    }\n",
              "</style>\n",
              "<table border=\"1\" class=\"dataframe\">\n",
              "  <thead>\n",
              "    <tr style=\"text-align: right;\">\n",
              "      <th></th>\n",
              "      <th>last_price</th>\n",
              "      <th>total_area</th>\n",
              "    </tr>\n",
              "  </thead>\n",
              "  <tbody>\n",
              "    <tr>\n",
              "      <th>last_price</th>\n",
              "      <td>1.00000</td>\n",
              "      <td>0.88236</td>\n",
              "    </tr>\n",
              "    <tr>\n",
              "      <th>total_area</th>\n",
              "      <td>0.88236</td>\n",
              "      <td>1.00000</td>\n",
              "    </tr>\n",
              "  </tbody>\n",
              "</table>\n",
              "</div>"
            ],
            "text/plain": [
              "            last_price  total_area\n",
              "last_price     1.00000     0.88236\n",
              "total_area     0.88236     1.00000"
            ]
          },
          "execution_count": 74,
          "metadata": {},
          "output_type": "execute_result"
        }
      ],
      "source": [
        "# кореляция\n",
        "data.pivot_table(index='floor', values=['total_area', 'last_price']).corr()"
      ]
    },
    {
      "cell_type": "markdown",
      "metadata": {
        "id": "KR5o2XJ6P9CZ"
      },
      "source": [
        "Благодаря диаграмме рассеивания и корреляции Пирсона, мы можем утверждать, что стоимость на прямую зависит от площади. То есть чем больше площадь - тем выше стоимость квартиры"
      ]
    },
    {
      "cell_type": "code",
      "execution_count": null,
      "metadata": {
        "id": "Mq7MZAdJP9CZ",
        "outputId": "e1a615d6-2c50-478e-b196-98fa289536f2"
      },
      "outputs": [
        {
          "data": {
            "text/plain": [
              "<AxesSubplot:xlabel='rooms'>"
            ]
          },
          "execution_count": 75,
          "metadata": {},
          "output_type": "execute_result"
        },
        {
          "data": {
            "image/png": "[encoded data removed]",
            "text/plain": [
              "<Figure size 360x360 with 1 Axes>"
            ]
          },
          "metadata": {
            "needs_background": "light"
          },
          "output_type": "display_data"
        }
      ],
      "source": [
        "# влияние числа комнат\n",
        "data.pivot_table(index='rooms', values='last_price').plot(grid=True, style='o-', figsize=(5, 5))"
      ]
    },
    {
      "cell_type": "code",
      "execution_count": null,
      "metadata": {
        "id": "TS_T711VP9CZ",
        "outputId": "9b4086af-1c34-49bd-9e68-a1489b3fffe2"
      },
      "outputs": [
        {
          "data": {
            "text/html": [
              "<div>\n",
              "<style scoped>\n",
              "    .dataframe tbody tr th:only-of-type {\n",
              "        vertical-align: middle;\n",
              "    }\n",
              "\n",
              "    .dataframe tbody tr th {\n",
              "        vertical-align: top;\n",
              "    }\n",
              "\n",
              "    .dataframe thead th {\n",
              "        text-align: right;\n",
              "    }\n",
              "</style>\n",
              "<table border=\"1\" class=\"dataframe\">\n",
              "  <thead>\n",
              "    <tr style=\"text-align: right;\">\n",
              "      <th></th>\n",
              "      <th>last_price</th>\n",
              "      <th>rooms</th>\n",
              "    </tr>\n",
              "  </thead>\n",
              "  <tbody>\n",
              "    <tr>\n",
              "      <th>last_price</th>\n",
              "      <td>1.000000</td>\n",
              "      <td>0.579978</td>\n",
              "    </tr>\n",
              "    <tr>\n",
              "      <th>rooms</th>\n",
              "      <td>0.579978</td>\n",
              "      <td>1.000000</td>\n",
              "    </tr>\n",
              "  </tbody>\n",
              "</table>\n",
              "</div>"
            ],
            "text/plain": [
              "            last_price     rooms\n",
              "last_price    1.000000  0.579978\n",
              "rooms         0.579978  1.000000"
            ]
          },
          "execution_count": 76,
          "metadata": {},
          "output_type": "execute_result"
        }
      ],
      "source": [
        "data.pivot_table(index='floor', values=['rooms', 'last_price']).corr()"
      ]
    },
    {
      "cell_type": "markdown",
      "metadata": {
        "id": "v7X2SnNbP9Ca"
      },
      "source": [
        "Рассмотрев диаграмму и значение корреляции можн говорить о том, что присутсвует некая взаимосвязь между числом комнат и ценой, но не такая сильная как у площади."
      ]
    },
    {
      "cell_type": "code",
      "execution_count": null,
      "metadata": {
        "id": "P4lrh7fwP9Ca",
        "outputId": "0ac8efbb-8e8a-43ef-ab32-2b58bbf72f8c"
      },
      "outputs": [
        {
          "data": {
            "text/plain": [
              "<AxesSubplot:xlabel='floor_type'>"
            ]
          },
          "execution_count": 77,
          "metadata": {},
          "output_type": "execute_result"
        },
        {
          "data": {
            "image/png": "[encoded data removed]",
            "text/plain": [
              "<Figure size 360x360 with 1 Axes>"
            ]
          },
          "metadata": {
            "needs_background": "light"
          },
          "output_type": "display_data"
        }
      ],
      "source": [
        "# влияние этажа\n",
        "data.pivot_table(index = 'floor_type', values ='last_price', aggfunc = 'median').plot(grid = True, style = 'o-', figsize = (5, 5))"
      ]
    },
    {
      "cell_type": "markdown",
      "metadata": {
        "id": "qHUNFsnqP9Ca"
      },
      "source": [
        "Здесь достаточно очевидно без дополнительной сводной таблицы, что дешевле всего  квартиры на первом этаже, чуть дороже - квартиры на последнем, самая высокая цена у картир на других этажах"
      ]
    },
    {
      "cell_type": "code",
      "execution_count": null,
      "metadata": {
        "id": "JgQLh_nMP9Ca",
        "outputId": "a7332bb8-9c6d-4186-f298-4f9ec5ccf945"
      },
      "outputs": [
        {
          "data": {
            "text/plain": [
              "<AxesSubplot:xlabel='cityCenters_nearest'>"
            ]
          },
          "execution_count": 78,
          "metadata": {},
          "output_type": "execute_result"
        },
        {
          "data": {
            "image/png": "[encoded data removed]",
            "text/plain": [
              "<Figure size 360x360 with 1 Axes>"
            ]
          },
          "metadata": {
            "needs_background": "light"
          },
          "output_type": "display_data"
        }
      ],
      "source": [
        "# влияние удаленности от центра\n",
        "data.pivot_table(index ='cityCenters_nearest', values ='last_price').plot(grid = True, style = 'o', figsize = (5, 5))"
      ]
    },
    {
      "cell_type": "code",
      "execution_count": null,
      "metadata": {
        "id": "PVy50OSDP9Ca",
        "outputId": "687fe328-8ffb-461c-ea27-00265757c3ee"
      },
      "outputs": [
        {
          "data": {
            "text/html": [
              "<div>\n",
              "<style scoped>\n",
              "    .dataframe tbody tr th:only-of-type {\n",
              "        vertical-align: middle;\n",
              "    }\n",
              "\n",
              "    .dataframe tbody tr th {\n",
              "        vertical-align: top;\n",
              "    }\n",
              "\n",
              "    .dataframe thead th {\n",
              "        text-align: right;\n",
              "    }\n",
              "</style>\n",
              "<table border=\"1\" class=\"dataframe\">\n",
              "  <thead>\n",
              "    <tr style=\"text-align: right;\">\n",
              "      <th></th>\n",
              "      <th>cityCenters_nearest</th>\n",
              "      <th>last_price</th>\n",
              "    </tr>\n",
              "  </thead>\n",
              "  <tbody>\n",
              "    <tr>\n",
              "      <th>cityCenters_nearest</th>\n",
              "      <td>1.000000</td>\n",
              "      <td>0.488407</td>\n",
              "    </tr>\n",
              "    <tr>\n",
              "      <th>last_price</th>\n",
              "      <td>0.488407</td>\n",
              "      <td>1.000000</td>\n",
              "    </tr>\n",
              "  </tbody>\n",
              "</table>\n",
              "</div>"
            ],
            "text/plain": [
              "                     cityCenters_nearest  last_price\n",
              "cityCenters_nearest             1.000000    0.488407\n",
              "last_price                      0.488407    1.000000"
            ]
          },
          "execution_count": 79,
          "metadata": {},
          "output_type": "execute_result"
        }
      ],
      "source": [
        "data.pivot_table(index = 'floor', values = ['cityCenters_nearest', 'last_price']).corr()"
      ]
    },
    {
      "cell_type": "markdown",
      "metadata": {
        "id": "iFmSorAhP9Ca"
      },
      "source": [
        "В данном случае нельзя сказать, что связь между ценой и удаленностей от центра существует, поскольку корреляция близка к нулю"
      ]
    },
    {
      "cell_type": "code",
      "execution_count": null,
      "metadata": {
        "id": "VH0rzrRiP9Ca"
      },
      "outputs": [],
      "source": [
        "# влияние удаленности от парка"
      ]
    },
    {
      "cell_type": "code",
      "execution_count": null,
      "metadata": {
        "id": "_IBO1ccOP9Cb",
        "outputId": "9e3b7c01-43de-4202-ed8a-02112f297469"
      },
      "outputs": [
        {
          "data": {
            "text/plain": [
              "<AxesSubplot:xlabel='parks_nearest'>"
            ]
          },
          "execution_count": 81,
          "metadata": {},
          "output_type": "execute_result"
        },
        {
          "data": {
            "image/png": "[encoded data removed]",
            "text/plain": [
              "<Figure size 360x360 with 1 Axes>"
            ]
          },
          "metadata": {
            "needs_background": "light"
          },
          "output_type": "display_data"
        }
      ],
      "source": [
        "data.pivot_table(index = 'parks_nearest', values = 'last_price').plot(grid=True, style='o', figsize=(5, 5))"
      ]
    },
    {
      "cell_type": "code",
      "execution_count": null,
      "metadata": {
        "id": "wrlUiRlVP9Cb",
        "outputId": "68bacb91-9cf6-4973-d393-b935b2c02cbf"
      },
      "outputs": [
        {
          "data": {
            "text/html": [
              "<div>\n",
              "<style scoped>\n",
              "    .dataframe tbody tr th:only-of-type {\n",
              "        vertical-align: middle;\n",
              "    }\n",
              "\n",
              "    .dataframe tbody tr th {\n",
              "        vertical-align: top;\n",
              "    }\n",
              "\n",
              "    .dataframe thead th {\n",
              "        text-align: right;\n",
              "    }\n",
              "</style>\n",
              "<table border=\"1\" class=\"dataframe\">\n",
              "  <thead>\n",
              "    <tr style=\"text-align: right;\">\n",
              "      <th></th>\n",
              "      <th>last_price</th>\n",
              "      <th>parks_nearest</th>\n",
              "    </tr>\n",
              "  </thead>\n",
              "  <tbody>\n",
              "    <tr>\n",
              "      <th>last_price</th>\n",
              "      <td>1.0000</td>\n",
              "      <td>-0.2067</td>\n",
              "    </tr>\n",
              "    <tr>\n",
              "      <th>parks_nearest</th>\n",
              "      <td>-0.2067</td>\n",
              "      <td>1.0000</td>\n",
              "    </tr>\n",
              "  </tbody>\n",
              "</table>\n",
              "</div>"
            ],
            "text/plain": [
              "               last_price  parks_nearest\n",
              "last_price         1.0000        -0.2067\n",
              "parks_nearest     -0.2067         1.0000"
            ]
          },
          "execution_count": 82,
          "metadata": {},
          "output_type": "execute_result"
        }
      ],
      "source": [
        "data.pivot_table(index = 'floor', values = ['parks_nearest', 'last_price']).corr()"
      ]
    },
    {
      "cell_type": "markdown",
      "metadata": {
        "id": "0PgzjpOwP9Cb"
      },
      "source": [
        "Также не обнаружена взаимосвязь цены от удаленности парка"
      ]
    },
    {
      "cell_type": "code",
      "execution_count": null,
      "metadata": {
        "id": "35QavI3FP9Cb"
      },
      "outputs": [],
      "source": [
        "# влияние удаленности от аэропорта"
      ]
    },
    {
      "cell_type": "code",
      "execution_count": null,
      "metadata": {
        "id": "AAz_ok_bP9Cb",
        "outputId": "cc1bef4e-6f3b-4b20-9093-b587077c2269"
      },
      "outputs": [
        {
          "data": {
            "text/plain": [
              "<AxesSubplot:xlabel='airports_nearest'>"
            ]
          },
          "execution_count": 84,
          "metadata": {},
          "output_type": "execute_result"
        },
        {
          "data": {
            "image/png": "[encoded data removed]",
            "text/plain": [
              "<Figure size 360x360 with 1 Axes>"
            ]
          },
          "metadata": {
            "needs_background": "light"
          },
          "output_type": "display_data"
        }
      ],
      "source": [
        "data.pivot_table(index ='airports_nearest', values = 'last_price').plot(grid=True, style='o', figsize=(5, 5))"
      ]
    },
    {
      "cell_type": "code",
      "execution_count": null,
      "metadata": {
        "id": "kauklHuaP9Cb",
        "outputId": "61f23092-2955-4d88-abe7-00161f45d173"
      },
      "outputs": [
        {
          "data": {
            "text/html": [
              "<div>\n",
              "<style scoped>\n",
              "    .dataframe tbody tr th:only-of-type {\n",
              "        vertical-align: middle;\n",
              "    }\n",
              "\n",
              "    .dataframe tbody tr th {\n",
              "        vertical-align: top;\n",
              "    }\n",
              "\n",
              "    .dataframe thead th {\n",
              "        text-align: right;\n",
              "    }\n",
              "</style>\n",
              "<table border=\"1\" class=\"dataframe\">\n",
              "  <thead>\n",
              "    <tr style=\"text-align: right;\">\n",
              "      <th></th>\n",
              "      <th>airports_nearest</th>\n",
              "      <th>last_price</th>\n",
              "    </tr>\n",
              "  </thead>\n",
              "  <tbody>\n",
              "    <tr>\n",
              "      <th>airports_nearest</th>\n",
              "      <td>1.000000</td>\n",
              "      <td>-0.667722</td>\n",
              "    </tr>\n",
              "    <tr>\n",
              "      <th>last_price</th>\n",
              "      <td>-0.667722</td>\n",
              "      <td>1.000000</td>\n",
              "    </tr>\n",
              "  </tbody>\n",
              "</table>\n",
              "</div>"
            ],
            "text/plain": [
              "                  airports_nearest  last_price\n",
              "airports_nearest          1.000000   -0.667722\n",
              "last_price               -0.667722    1.000000"
            ]
          },
          "execution_count": 85,
          "metadata": {},
          "output_type": "execute_result"
        }
      ],
      "source": [
        "data.pivot_table(index ='floor', values = ['airports_nearest', 'last_price']).corr()"
      ]
    },
    {
      "cell_type": "markdown",
      "metadata": {
        "id": "4dC9zjV0P9Cc"
      },
      "source": [
        "Здесь обратная взаимосвязь, то есть стоимость квартиры меньше, чем ближе она к аэропорту, но такая зависимость слабая"
      ]
    },
    {
      "cell_type": "code",
      "execution_count": null,
      "metadata": {
        "id": "P4LAWZWrP9Cc"
      },
      "outputs": [],
      "source": [
        "#влияние от удаленности водоема"
      ]
    },
    {
      "cell_type": "code",
      "execution_count": null,
      "metadata": {
        "id": "2VTVyNc1P9Cc",
        "outputId": "cce5bc74-806f-429b-cbfa-0a26560d1a5c"
      },
      "outputs": [
        {
          "data": {
            "text/plain": [
              "<AxesSubplot:xlabel='ponds_nearest'>"
            ]
          },
          "execution_count": 87,
          "metadata": {},
          "output_type": "execute_result"
        },
        {
          "data": {
            "image/png": "[encoded data removed]",
            "text/plain": [
              "<Figure size 360x360 with 1 Axes>"
            ]
          },
          "metadata": {
            "needs_background": "light"
          },
          "output_type": "display_data"
        }
      ],
      "source": [
        "data.pivot_table(index ='ponds_nearest', values = 'last_price').plot(grid=True, style='o', figsize=(5, 5))"
      ]
    },
    {
      "cell_type": "code",
      "execution_count": null,
      "metadata": {
        "id": "8xdrg4qaP9Cc",
        "outputId": "150bebbc-3fa7-4c98-b958-d224e1419d00"
      },
      "outputs": [
        {
          "data": {
            "text/html": [
              "<div>\n",
              "<style scoped>\n",
              "    .dataframe tbody tr th:only-of-type {\n",
              "        vertical-align: middle;\n",
              "    }\n",
              "\n",
              "    .dataframe tbody tr th {\n",
              "        vertical-align: top;\n",
              "    }\n",
              "\n",
              "    .dataframe thead th {\n",
              "        text-align: right;\n",
              "    }\n",
              "</style>\n",
              "<table border=\"1\" class=\"dataframe\">\n",
              "  <thead>\n",
              "    <tr style=\"text-align: right;\">\n",
              "      <th></th>\n",
              "      <th>last_price</th>\n",
              "      <th>ponds_nearest</th>\n",
              "    </tr>\n",
              "  </thead>\n",
              "  <tbody>\n",
              "    <tr>\n",
              "      <th>last_price</th>\n",
              "      <td>1.000000</td>\n",
              "      <td>-0.516768</td>\n",
              "    </tr>\n",
              "    <tr>\n",
              "      <th>ponds_nearest</th>\n",
              "      <td>-0.516768</td>\n",
              "      <td>1.000000</td>\n",
              "    </tr>\n",
              "  </tbody>\n",
              "</table>\n",
              "</div>"
            ],
            "text/plain": [
              "               last_price  ponds_nearest\n",
              "last_price       1.000000      -0.516768\n",
              "ponds_nearest   -0.516768       1.000000"
            ]
          },
          "execution_count": 88,
          "metadata": {},
          "output_type": "execute_result"
        }
      ],
      "source": [
        "data.pivot_table(index ='floor', values = ['ponds_nearest', 'last_price']).corr()"
      ]
    },
    {
      "cell_type": "markdown",
      "metadata": {
        "id": "tEma8w5lP9Cc"
      },
      "source": [
        "Особой взаимосвязи между удаленостью от водоемов нет"
      ]
    },
    {
      "cell_type": "code",
      "execution_count": null,
      "metadata": {
        "id": "QS8wfCsLP9Cc"
      },
      "outputs": [],
      "source": [
        "#влияние на площадь кухни"
      ]
    },
    {
      "cell_type": "code",
      "execution_count": null,
      "metadata": {
        "id": "ngyq5nTvP9Cc",
        "outputId": "defd7e51-4754-4533-a7f0-6a38d8f4202d"
      },
      "outputs": [
        {
          "data": {
            "text/plain": [
              "<AxesSubplot:xlabel='kitchen_area'>"
            ]
          },
          "execution_count": 90,
          "metadata": {},
          "output_type": "execute_result"
        },
        {
          "data": {
            "image/png": "[encoded data removed]",
            "text/plain": [
              "<Figure size 360x360 with 1 Axes>"
            ]
          },
          "metadata": {
            "needs_background": "light"
          },
          "output_type": "display_data"
        }
      ],
      "source": [
        "data.pivot_table(index ='kitchen_area', values = 'last_price').plot(grid=True, style='o', figsize=(5, 5))"
      ]
    },
    {
      "cell_type": "code",
      "execution_count": null,
      "metadata": {
        "id": "0MW2GyNEP9Cd",
        "outputId": "010cfb5d-0743-446e-f2cd-137d11a4c986"
      },
      "outputs": [
        {
          "data": {
            "text/html": [
              "<div>\n",
              "<style scoped>\n",
              "    .dataframe tbody tr th:only-of-type {\n",
              "        vertical-align: middle;\n",
              "    }\n",
              "\n",
              "    .dataframe tbody tr th {\n",
              "        vertical-align: top;\n",
              "    }\n",
              "\n",
              "    .dataframe thead th {\n",
              "        text-align: right;\n",
              "    }\n",
              "</style>\n",
              "<table border=\"1\" class=\"dataframe\">\n",
              "  <thead>\n",
              "    <tr style=\"text-align: right;\">\n",
              "      <th></th>\n",
              "      <th>kitchen_area</th>\n",
              "      <th>last_price</th>\n",
              "    </tr>\n",
              "  </thead>\n",
              "  <tbody>\n",
              "    <tr>\n",
              "      <th>kitchen_area</th>\n",
              "      <td>1.000000</td>\n",
              "      <td>0.400074</td>\n",
              "    </tr>\n",
              "    <tr>\n",
              "      <th>last_price</th>\n",
              "      <td>0.400074</td>\n",
              "      <td>1.000000</td>\n",
              "    </tr>\n",
              "  </tbody>\n",
              "</table>\n",
              "</div>"
            ],
            "text/plain": [
              "              kitchen_area  last_price\n",
              "kitchen_area      1.000000    0.400074\n",
              "last_price        0.400074    1.000000"
            ]
          },
          "execution_count": 91,
          "metadata": {},
          "output_type": "execute_result"
        }
      ],
      "source": [
        "data.pivot_table(index ='floor', values = ['kitchen_area', 'last_price']).corr()"
      ]
    },
    {
      "cell_type": "markdown",
      "metadata": {
        "id": "ITSGYWUYP9Cd"
      },
      "source": [
        "Взаимосвязь между площадью кухни есть, но слабая, можно утвержать о том, что больше играет роль общая площадь - где чаще всего больше и площадь кухни"
      ]
    },
    {
      "cell_type": "code",
      "execution_count": null,
      "metadata": {
        "id": "i31c1UofP9Cd",
        "outputId": "ea8d2e4e-e4d2-4b7a-e32f-d6940a38efb1"
      },
      "outputs": [
        {
          "data": {
            "text/plain": [
              "<AxesSubplot:xlabel='living_area'>"
            ]
          },
          "execution_count": 92,
          "metadata": {},
          "output_type": "execute_result"
        },
        {
          "data": {
            "image/png": "[encoded data removed]",
            "text/plain": [
              "<Figure size 360x360 with 1 Axes>"
            ]
          },
          "metadata": {
            "needs_background": "light"
          },
          "output_type": "display_data"
        }
      ],
      "source": [
        "#влияние жилой площади\n",
        "data.pivot_table(index ='living_area', values = 'last_price').plot(grid=True, style='o', figsize=(5, 5))"
      ]
    },
    {
      "cell_type": "code",
      "execution_count": null,
      "metadata": {
        "id": "h5hehJRPP9Cd",
        "outputId": "17eb98c5-71bc-42b1-ef8e-4c8c048bbb57"
      },
      "outputs": [
        {
          "data": {
            "text/html": [
              "<div>\n",
              "<style scoped>\n",
              "    .dataframe tbody tr th:only-of-type {\n",
              "        vertical-align: middle;\n",
              "    }\n",
              "\n",
              "    .dataframe tbody tr th {\n",
              "        vertical-align: top;\n",
              "    }\n",
              "\n",
              "    .dataframe thead th {\n",
              "        text-align: right;\n",
              "    }\n",
              "</style>\n",
              "<table border=\"1\" class=\"dataframe\">\n",
              "  <thead>\n",
              "    <tr style=\"text-align: right;\">\n",
              "      <th></th>\n",
              "      <th>last_price</th>\n",
              "      <th>living_area</th>\n",
              "    </tr>\n",
              "  </thead>\n",
              "  <tbody>\n",
              "    <tr>\n",
              "      <th>last_price</th>\n",
              "      <td>1.000000</td>\n",
              "      <td>0.731607</td>\n",
              "    </tr>\n",
              "    <tr>\n",
              "      <th>living_area</th>\n",
              "      <td>0.731607</td>\n",
              "      <td>1.000000</td>\n",
              "    </tr>\n",
              "  </tbody>\n",
              "</table>\n",
              "</div>"
            ],
            "text/plain": [
              "             last_price  living_area\n",
              "last_price     1.000000     0.731607\n",
              "living_area    0.731607     1.000000"
            ]
          },
          "execution_count": 93,
          "metadata": {},
          "output_type": "execute_result"
        }
      ],
      "source": [
        "data.pivot_table(index ='floor', values = ['living_area', 'last_price']).corr()"
      ]
    },
    {
      "cell_type": "markdown",
      "metadata": {
        "id": "LIQQeeJ1P9Cd"
      },
      "source": [
        "Зависимость жилой площади от цены имеется, поскольку из кореляции Пирсона видно, что что значение близко к единице"
      ]
    },
    {
      "cell_type": "code",
      "execution_count": null,
      "metadata": {
        "id": "ZGDjs2SBP9Cd",
        "outputId": "969f367a-9ce6-4ca7-dbf7-54948bae31c3"
      },
      "outputs": [
        {
          "data": {
            "text/html": [
              "<div>\n",
              "<style scoped>\n",
              "    .dataframe tbody tr th:only-of-type {\n",
              "        vertical-align: middle;\n",
              "    }\n",
              "\n",
              "    .dataframe tbody tr th {\n",
              "        vertical-align: top;\n",
              "    }\n",
              "\n",
              "    .dataframe thead th {\n",
              "        text-align: right;\n",
              "    }\n",
              "</style>\n",
              "<table border=\"1\" class=\"dataframe\">\n",
              "  <thead>\n",
              "    <tr style=\"text-align: right;\">\n",
              "      <th></th>\n",
              "      <th>mean</th>\n",
              "      <th>count</th>\n",
              "      <th>median</th>\n",
              "    </tr>\n",
              "    <tr>\n",
              "      <th>weekday_exposition</th>\n",
              "      <th></th>\n",
              "      <th></th>\n",
              "      <th></th>\n",
              "    </tr>\n",
              "  </thead>\n",
              "  <tbody>\n",
              "    <tr>\n",
              "      <th>1</th>\n",
              "      <td>0.098025</td>\n",
              "      <td>4124</td>\n",
              "      <td>0.095422</td>\n",
              "    </tr>\n",
              "    <tr>\n",
              "      <th>2</th>\n",
              "      <td>0.097884</td>\n",
              "      <td>3886</td>\n",
              "      <td>0.095392</td>\n",
              "    </tr>\n",
              "    <tr>\n",
              "      <th>3</th>\n",
              "      <td>0.097873</td>\n",
              "      <td>4206</td>\n",
              "      <td>0.094895</td>\n",
              "    </tr>\n",
              "    <tr>\n",
              "      <th>0</th>\n",
              "      <td>0.097773</td>\n",
              "      <td>3553</td>\n",
              "      <td>0.094504</td>\n",
              "    </tr>\n",
              "    <tr>\n",
              "      <th>6</th>\n",
              "      <td>0.096414</td>\n",
              "      <td>1665</td>\n",
              "      <td>0.094444</td>\n",
              "    </tr>\n",
              "    <tr>\n",
              "      <th>4</th>\n",
              "      <td>0.096943</td>\n",
              "      <td>3926</td>\n",
              "      <td>0.094418</td>\n",
              "    </tr>\n",
              "    <tr>\n",
              "      <th>5</th>\n",
              "      <td>0.095656</td>\n",
              "      <td>1892</td>\n",
              "      <td>0.093311</td>\n",
              "    </tr>\n",
              "  </tbody>\n",
              "</table>\n",
              "</div>"
            ],
            "text/plain": [
              "                        mean  count    median\n",
              "weekday_exposition                           \n",
              "1                   0.098025   4124  0.095422\n",
              "2                   0.097884   3886  0.095392\n",
              "3                   0.097873   4206  0.094895\n",
              "0                   0.097773   3553  0.094504\n",
              "6                   0.096414   1665  0.094444\n",
              "4                   0.096943   3926  0.094418\n",
              "5                   0.095656   1892  0.093311"
            ]
          },
          "execution_count": 94,
          "metadata": {},
          "output_type": "execute_result"
        },
        {
          "data": {
            "image/png": "[encoded data removed]",
            "text/plain": [
              "<Figure size 432x288 with 1 Axes>"
            ]
          },
          "metadata": {
            "needs_background": "light"
          },
          "output_type": "display_data"
        }
      ],
      "source": [
        "#влияние недели на цену\n",
        "week = data.pivot_table(index = 'weekday_exposition', values = 'per_square_meter', aggfunc = ['mean', 'count', 'median'])\n",
        "week.columns = ['mean', 'count', 'median']\n",
        "week.plot(y = 'median')\n",
        "week.sort_values('median', ascending = False)"
      ]
    },
    {
      "cell_type": "markdown",
      "metadata": {
        "id": "tLqOuHg5P9Cd"
      },
      "source": [
        "По субботам - самаяя низкая цена, во вторник - наибольшая цена, которая спадает к выходным. Можно утверждать, что цена зависит от спроса."
      ]
    },
    {
      "cell_type": "code",
      "execution_count": null,
      "metadata": {
        "id": "pFMwDIbFP9Ce",
        "outputId": "26642a5b-5502-4554-9a01-d8241546e880"
      },
      "outputs": [
        {
          "data": {
            "text/html": [
              "<div>\n",
              "<style scoped>\n",
              "    .dataframe tbody tr th:only-of-type {\n",
              "        vertical-align: middle;\n",
              "    }\n",
              "\n",
              "    .dataframe tbody tr th {\n",
              "        vertical-align: top;\n",
              "    }\n",
              "\n",
              "    .dataframe thead th {\n",
              "        text-align: right;\n",
              "    }\n",
              "</style>\n",
              "<table border=\"1\" class=\"dataframe\">\n",
              "  <thead>\n",
              "    <tr style=\"text-align: right;\">\n",
              "      <th></th>\n",
              "      <th>mean</th>\n",
              "      <th>count</th>\n",
              "      <th>median</th>\n",
              "    </tr>\n",
              "    <tr>\n",
              "      <th>month_exposition</th>\n",
              "      <th></th>\n",
              "      <th></th>\n",
              "      <th></th>\n",
              "    </tr>\n",
              "  </thead>\n",
              "  <tbody>\n",
              "    <tr>\n",
              "      <th>4</th>\n",
              "      <td>0.099189</td>\n",
              "      <td>2325</td>\n",
              "      <td>0.096203</td>\n",
              "    </tr>\n",
              "    <tr>\n",
              "      <th>8</th>\n",
              "      <td>0.098361</td>\n",
              "      <td>1722</td>\n",
              "      <td>0.095801</td>\n",
              "    </tr>\n",
              "    <tr>\n",
              "      <th>9</th>\n",
              "      <td>0.098052</td>\n",
              "      <td>1943</td>\n",
              "      <td>0.095513</td>\n",
              "    </tr>\n",
              "    <tr>\n",
              "      <th>11</th>\n",
              "      <td>0.098086</td>\n",
              "      <td>2335</td>\n",
              "      <td>0.095465</td>\n",
              "    </tr>\n",
              "    <tr>\n",
              "      <th>3</th>\n",
              "      <td>0.097253</td>\n",
              "      <td>2542</td>\n",
              "      <td>0.095161</td>\n",
              "    </tr>\n",
              "    <tr>\n",
              "      <th>1</th>\n",
              "      <td>0.098106</td>\n",
              "      <td>1463</td>\n",
              "      <td>0.095000</td>\n",
              "    </tr>\n",
              "    <tr>\n",
              "      <th>2</th>\n",
              "      <td>0.097128</td>\n",
              "      <td>2604</td>\n",
              "      <td>0.094944</td>\n",
              "    </tr>\n",
              "    <tr>\n",
              "      <th>7</th>\n",
              "      <td>0.096967</td>\n",
              "      <td>1657</td>\n",
              "      <td>0.094805</td>\n",
              "    </tr>\n",
              "    <tr>\n",
              "      <th>10</th>\n",
              "      <td>0.096431</td>\n",
              "      <td>2083</td>\n",
              "      <td>0.094103</td>\n",
              "    </tr>\n",
              "    <tr>\n",
              "      <th>12</th>\n",
              "      <td>0.096402</td>\n",
              "      <td>1609</td>\n",
              "      <td>0.093784</td>\n",
              "    </tr>\n",
              "    <tr>\n",
              "      <th>6</th>\n",
              "      <td>0.096066</td>\n",
              "      <td>1725</td>\n",
              "      <td>0.092568</td>\n",
              "    </tr>\n",
              "    <tr>\n",
              "      <th>5</th>\n",
              "      <td>0.096634</td>\n",
              "      <td>1244</td>\n",
              "      <td>0.092388</td>\n",
              "    </tr>\n",
              "  </tbody>\n",
              "</table>\n",
              "</div>"
            ],
            "text/plain": [
              "                      mean  count    median\n",
              "month_exposition                           \n",
              "4                 0.099189   2325  0.096203\n",
              "8                 0.098361   1722  0.095801\n",
              "9                 0.098052   1943  0.095513\n",
              "11                0.098086   2335  0.095465\n",
              "3                 0.097253   2542  0.095161\n",
              "1                 0.098106   1463  0.095000\n",
              "2                 0.097128   2604  0.094944\n",
              "7                 0.096967   1657  0.094805\n",
              "10                0.096431   2083  0.094103\n",
              "12                0.096402   1609  0.093784\n",
              "6                 0.096066   1725  0.092568\n",
              "5                 0.096634   1244  0.092388"
            ]
          },
          "execution_count": 95,
          "metadata": {},
          "output_type": "execute_result"
        },
        {
          "data": {
            "image/png": "[encoded data removed]",
            "text/plain": [
              "<Figure size 432x288 with 1 Axes>"
            ]
          },
          "metadata": {
            "needs_background": "light"
          },
          "output_type": "display_data"
        }
      ],
      "source": [
        "#влияние месяца на цену\n",
        "month = data.pivot_table(index = 'month_exposition', values = 'per_square_meter', aggfunc = ['mean', 'count', 'median'])\n",
        "month.columns = ['mean', 'count', 'median']\n",
        "month.plot(y = 'median')\n",
        "month.sort_values('median', ascending = False)"
      ]
    },
    {
      "cell_type": "markdown",
      "metadata": {
        "id": "Y9vYpOTWP9Ce"
      },
      "source": [
        "Большая стоимоть в апреле, августе, наименьшая цена в мае и июне. Можно предположить, что во время отпусков, цена на недвижимость повышается."
      ]
    },
    {
      "cell_type": "code",
      "execution_count": null,
      "metadata": {
        "id": "zhPJ73-ZP9Ce",
        "outputId": "661e343e-ce03-42fa-9428-01a77ed04a2a"
      },
      "outputs": [
        {
          "data": {
            "text/html": [
              "<div>\n",
              "<style scoped>\n",
              "    .dataframe tbody tr th:only-of-type {\n",
              "        vertical-align: middle;\n",
              "    }\n",
              "\n",
              "    .dataframe tbody tr th {\n",
              "        vertical-align: top;\n",
              "    }\n",
              "\n",
              "    .dataframe thead th {\n",
              "        text-align: right;\n",
              "    }\n",
              "</style>\n",
              "<table border=\"1\" class=\"dataframe\">\n",
              "  <thead>\n",
              "    <tr style=\"text-align: right;\">\n",
              "      <th></th>\n",
              "      <th>mean</th>\n",
              "      <th>count</th>\n",
              "      <th>median</th>\n",
              "    </tr>\n",
              "    <tr>\n",
              "      <th>year_exposition</th>\n",
              "      <th></th>\n",
              "      <th></th>\n",
              "      <th></th>\n",
              "    </tr>\n",
              "  </thead>\n",
              "  <tbody>\n",
              "    <tr>\n",
              "      <th>2014</th>\n",
              "      <td>0.119264</td>\n",
              "      <td>132</td>\n",
              "      <td>0.106406</td>\n",
              "    </tr>\n",
              "    <tr>\n",
              "      <th>2019</th>\n",
              "      <td>0.105094</td>\n",
              "      <td>2832</td>\n",
              "      <td>0.103109</td>\n",
              "    </tr>\n",
              "    <tr>\n",
              "      <th>2018</th>\n",
              "      <td>0.096845</td>\n",
              "      <td>8415</td>\n",
              "      <td>0.095628</td>\n",
              "    </tr>\n",
              "    <tr>\n",
              "      <th>2015</th>\n",
              "      <td>0.098664</td>\n",
              "      <td>1124</td>\n",
              "      <td>0.092519</td>\n",
              "    </tr>\n",
              "    <tr>\n",
              "      <th>2017</th>\n",
              "      <td>0.095450</td>\n",
              "      <td>8046</td>\n",
              "      <td>0.092317</td>\n",
              "    </tr>\n",
              "    <tr>\n",
              "      <th>2016</th>\n",
              "      <td>0.095662</td>\n",
              "      <td>2703</td>\n",
              "      <td>0.091451</td>\n",
              "    </tr>\n",
              "  </tbody>\n",
              "</table>\n",
              "</div>"
            ],
            "text/plain": [
              "                     mean  count    median\n",
              "year_exposition                           \n",
              "2014             0.119264    132  0.106406\n",
              "2019             0.105094   2832  0.103109\n",
              "2018             0.096845   8415  0.095628\n",
              "2015             0.098664   1124  0.092519\n",
              "2017             0.095450   8046  0.092317\n",
              "2016             0.095662   2703  0.091451"
            ]
          },
          "execution_count": 96,
          "metadata": {},
          "output_type": "execute_result"
        },
        {
          "data": {
            "image/png": "[encoded data removed]",
            "text/plain": [
              "<Figure size 432x288 with 1 Axes>"
            ]
          },
          "metadata": {
            "needs_background": "light"
          },
          "output_type": "display_data"
        }
      ],
      "source": [
        "#влияние года на цену\n",
        "year = data.pivot_table(index = 'year_exposition', values = 'per_square_meter', aggfunc = ['mean', 'count', 'median'])\n",
        "year.columns = ['mean', 'count', 'median']\n",
        "year.plot(y = 'median')\n",
        "year.sort_values('median', ascending = False)"
      ]
    },
    {
      "cell_type": "markdown",
      "metadata": {
        "id": "Nsd9vbxyP9Ce"
      },
      "source": [
        "Наименьшая цена была в 2016 году, позже она рости, здесь влияние на цену может скаладываться из множества факторов"
      ]
    },
    {
      "cell_type": "markdown",
      "metadata": {
        "id": "9NccGbqEP9Ce"
      },
      "source": [
        "**Средняя цену одного квадратного метра в 10 населённых пунктах с наибольшим числом объявлений**"
      ]
    },
    {
      "cell_type": "code",
      "execution_count": null,
      "metadata": {
        "id": "WsXpuBbCP9Cf",
        "outputId": "93685851-7723-4ed7-b934-4a7122364f05"
      },
      "outputs": [
        {
          "data": {
            "text/plain": [
              "Санкт-Петербург    15363\n",
              " Мурино              518\n",
              " Шушары              439\n",
              "Всеволожск           398\n",
              "Пушкин               364\n",
              "Колпино              337\n",
              " Парголово           326\n",
              "Гатчина              306\n",
              " Кудрово             299\n",
              "Выборг               237\n",
              "Name: locality_name, dtype: int64"
            ]
          },
          "execution_count": 97,
          "metadata": {},
          "output_type": "execute_result"
        }
      ],
      "source": [
        "data['locality_name'].value_counts().head(10)"
      ]
    },
    {
      "cell_type": "code",
      "execution_count": null,
      "metadata": {
        "id": "LXsDqybwP9Cf",
        "outputId": "768cf505-ac04-4730-bb38-6343ae4a5494"
      },
      "outputs": [
        {
          "data": {
            "text/html": [
              "<div>\n",
              "<style scoped>\n",
              "    .dataframe tbody tr th:only-of-type {\n",
              "        vertical-align: middle;\n",
              "    }\n",
              "\n",
              "    .dataframe tbody tr th {\n",
              "        vertical-align: top;\n",
              "    }\n",
              "\n",
              "    .dataframe thead th {\n",
              "        text-align: right;\n",
              "    }\n",
              "</style>\n",
              "<table border=\"1\" class=\"dataframe\">\n",
              "  <thead>\n",
              "    <tr style=\"text-align: right;\">\n",
              "      <th></th>\n",
              "      <th>count</th>\n",
              "      <th>median</th>\n",
              "    </tr>\n",
              "    <tr>\n",
              "      <th>locality_name</th>\n",
              "      <th></th>\n",
              "      <th></th>\n",
              "    </tr>\n",
              "  </thead>\n",
              "  <tbody>\n",
              "    <tr>\n",
              "      <th>Санкт-Петербург</th>\n",
              "      <td>15363</td>\n",
              "      <td>0.104545</td>\n",
              "    </tr>\n",
              "    <tr>\n",
              "      <th>Мурино</th>\n",
              "      <td>518</td>\n",
              "      <td>0.085878</td>\n",
              "    </tr>\n",
              "    <tr>\n",
              "      <th>Шушары</th>\n",
              "      <td>439</td>\n",
              "      <td>0.076829</td>\n",
              "    </tr>\n",
              "    <tr>\n",
              "      <th>Всеволожск</th>\n",
              "      <td>398</td>\n",
              "      <td>0.065789</td>\n",
              "    </tr>\n",
              "    <tr>\n",
              "      <th>Пушкин</th>\n",
              "      <td>364</td>\n",
              "      <td>0.099994</td>\n",
              "    </tr>\n",
              "    <tr>\n",
              "      <th>Колпино</th>\n",
              "      <td>337</td>\n",
              "      <td>0.074722</td>\n",
              "    </tr>\n",
              "    <tr>\n",
              "      <th>Парголово</th>\n",
              "      <td>326</td>\n",
              "      <td>0.091780</td>\n",
              "    </tr>\n",
              "    <tr>\n",
              "      <th>Гатчина</th>\n",
              "      <td>306</td>\n",
              "      <td>0.067861</td>\n",
              "    </tr>\n",
              "    <tr>\n",
              "      <th>Кудрово</th>\n",
              "      <td>299</td>\n",
              "      <td>0.091860</td>\n",
              "    </tr>\n",
              "    <tr>\n",
              "      <th>Выборг</th>\n",
              "      <td>237</td>\n",
              "      <td>0.058158</td>\n",
              "    </tr>\n",
              "  </tbody>\n",
              "</table>\n",
              "</div>"
            ],
            "text/plain": [
              "                 count    median\n",
              "locality_name                   \n",
              "Санкт-Петербург  15363  0.104545\n",
              " Мурино            518  0.085878\n",
              " Шушары            439  0.076829\n",
              "Всеволожск         398  0.065789\n",
              "Пушкин             364  0.099994\n",
              "Колпино            337  0.074722\n",
              " Парголово         326  0.091780\n",
              "Гатчина            306  0.067861\n",
              " Кудрово           299  0.091860\n",
              "Выборг             237  0.058158"
            ]
          },
          "execution_count": 98,
          "metadata": {},
          "output_type": "execute_result"
        }
      ],
      "source": [
        "city_top_10 = data.pivot_table(index = 'locality_name', values = 'per_square_meter', aggfunc=['count', 'median'])\n",
        "city_top_10.columns = ['count', 'median']\n",
        "city_top_10 = city_top_10.sort_values('count', ascending = False)\n",
        "city_top_10.head(10)"
      ]
    },
    {
      "cell_type": "markdown",
      "metadata": {
        "id": "qCyvG-i-P9Cf"
      },
      "source": [
        "Исходя из этого, можно сделать выбор о том, что самая большая цена за метр в квадрате - Санкт-Петербург. Наименьшая стоимость за квадратный метр в городах Гатчина, Кудрово, Выборг"
      ]
    },
    {
      "cell_type": "markdown",
      "metadata": {
        "id": "BNLW9s4cP9Cf"
      },
      "source": [
        "**Средняя цена километра в Санкт-Петербурге**"
      ]
    },
    {
      "cell_type": "code",
      "execution_count": null,
      "metadata": {
        "id": "1Bah9nFXP9Cf",
        "outputId": "929aef68-e6c0-4a92-923a-580614d424cd"
      },
      "outputs": [
        {
          "data": {
            "text/html": [
              "<div>\n",
              "<style scoped>\n",
              "    .dataframe tbody tr th:only-of-type {\n",
              "        vertical-align: middle;\n",
              "    }\n",
              "\n",
              "    .dataframe tbody tr th {\n",
              "        vertical-align: top;\n",
              "    }\n",
              "\n",
              "    .dataframe thead th {\n",
              "        text-align: right;\n",
              "    }\n",
              "</style>\n",
              "<table border=\"1\" class=\"dataframe\">\n",
              "  <thead>\n",
              "    <tr style=\"text-align: right;\">\n",
              "      <th></th>\n",
              "      <th>mean</th>\n",
              "    </tr>\n",
              "    <tr>\n",
              "      <th>cityCenters_nearest_km</th>\n",
              "      <th></th>\n",
              "    </tr>\n",
              "  </thead>\n",
              "  <tbody>\n",
              "    <tr>\n",
              "      <th>0</th>\n",
              "      <td>0.158222</td>\n",
              "    </tr>\n",
              "    <tr>\n",
              "      <th>1</th>\n",
              "      <td>0.141728</td>\n",
              "    </tr>\n",
              "    <tr>\n",
              "      <th>6</th>\n",
              "      <td>0.140958</td>\n",
              "    </tr>\n",
              "    <tr>\n",
              "      <th>5</th>\n",
              "      <td>0.138324</td>\n",
              "    </tr>\n",
              "    <tr>\n",
              "      <th>4</th>\n",
              "      <td>0.134520</td>\n",
              "    </tr>\n",
              "    <tr>\n",
              "      <th>7</th>\n",
              "      <td>0.132376</td>\n",
              "    </tr>\n",
              "    <tr>\n",
              "      <th>27</th>\n",
              "      <td>0.132116</td>\n",
              "    </tr>\n",
              "    <tr>\n",
              "      <th>2</th>\n",
              "      <td>0.129468</td>\n",
              "    </tr>\n",
              "    <tr>\n",
              "      <th>3</th>\n",
              "      <td>0.121612</td>\n",
              "    </tr>\n",
              "    <tr>\n",
              "      <th>8</th>\n",
              "      <td>0.119703</td>\n",
              "    </tr>\n",
              "    <tr>\n",
              "      <th>10</th>\n",
              "      <td>0.111144</td>\n",
              "    </tr>\n",
              "    <tr>\n",
              "      <th>9</th>\n",
              "      <td>0.110138</td>\n",
              "    </tr>\n",
              "    <tr>\n",
              "      <th>12</th>\n",
              "      <td>0.108334</td>\n",
              "    </tr>\n",
              "    <tr>\n",
              "      <th>13</th>\n",
              "      <td>0.107186</td>\n",
              "    </tr>\n",
              "    <tr>\n",
              "      <th>20</th>\n",
              "      <td>0.107108</td>\n",
              "    </tr>\n",
              "    <tr>\n",
              "      <th>11</th>\n",
              "      <td>0.106571</td>\n",
              "    </tr>\n",
              "    <tr>\n",
              "      <th>14</th>\n",
              "      <td>0.104991</td>\n",
              "    </tr>\n",
              "    <tr>\n",
              "      <th>15</th>\n",
              "      <td>0.101924</td>\n",
              "    </tr>\n",
              "    <tr>\n",
              "      <th>16</th>\n",
              "      <td>0.100112</td>\n",
              "    </tr>\n",
              "    <tr>\n",
              "      <th>19</th>\n",
              "      <td>0.095434</td>\n",
              "    </tr>\n",
              "    <tr>\n",
              "      <th>18</th>\n",
              "      <td>0.094859</td>\n",
              "    </tr>\n",
              "    <tr>\n",
              "      <th>17</th>\n",
              "      <td>0.094695</td>\n",
              "    </tr>\n",
              "    <tr>\n",
              "      <th>23</th>\n",
              "      <td>0.092721</td>\n",
              "    </tr>\n",
              "    <tr>\n",
              "      <th>21</th>\n",
              "      <td>0.091493</td>\n",
              "    </tr>\n",
              "    <tr>\n",
              "      <th>25</th>\n",
              "      <td>0.090437</td>\n",
              "    </tr>\n",
              "    <tr>\n",
              "      <th>22</th>\n",
              "      <td>0.088812</td>\n",
              "    </tr>\n",
              "    <tr>\n",
              "      <th>24</th>\n",
              "      <td>0.082440</td>\n",
              "    </tr>\n",
              "    <tr>\n",
              "      <th>28</th>\n",
              "      <td>0.081841</td>\n",
              "    </tr>\n",
              "    <tr>\n",
              "      <th>26</th>\n",
              "      <td>0.075172</td>\n",
              "    </tr>\n",
              "    <tr>\n",
              "      <th>29</th>\n",
              "      <td>0.062482</td>\n",
              "    </tr>\n",
              "  </tbody>\n",
              "</table>\n",
              "</div>"
            ],
            "text/plain": [
              "                            mean\n",
              "cityCenters_nearest_km          \n",
              "0                       0.158222\n",
              "1                       0.141728\n",
              "6                       0.140958\n",
              "5                       0.138324\n",
              "4                       0.134520\n",
              "7                       0.132376\n",
              "27                      0.132116\n",
              "2                       0.129468\n",
              "3                       0.121612\n",
              "8                       0.119703\n",
              "10                      0.111144\n",
              "9                       0.110138\n",
              "12                      0.108334\n",
              "13                      0.107186\n",
              "20                      0.107108\n",
              "11                      0.106571\n",
              "14                      0.104991\n",
              "15                      0.101924\n",
              "16                      0.100112\n",
              "19                      0.095434\n",
              "18                      0.094859\n",
              "17                      0.094695\n",
              "23                      0.092721\n",
              "21                      0.091493\n",
              "25                      0.090437\n",
              "22                      0.088812\n",
              "24                      0.082440\n",
              "28                      0.081841\n",
              "26                      0.075172\n",
              "29                      0.062482"
            ]
          },
          "execution_count": 99,
          "metadata": {},
          "output_type": "execute_result"
        },
        {
          "data": {
            "image/png": "[encoded data removed]",
            "text/plain": [
              "<Figure size 432x288 with 1 Axes>"
            ]
          },
          "metadata": {
            "needs_background": "light"
          },
          "output_type": "display_data"
        }
      ],
      "source": [
        "piter = data.query('locality_name == \"Санкт-Петербург\"')\n",
        "piter_km = piter.pivot_table(index = 'cityCenters_nearest_km', values = 'per_square_meter', aggfunc = ['mean'])\n",
        "piter_km.columns = ['mean']\n",
        "piter_km.plot(y = 'mean')\n",
        "piter_km.sort_values('mean', ascending = False)"
      ]
    },
    {
      "cell_type": "markdown",
      "metadata": {
        "id": "qqVAO3HVP9Cf"
      },
      "source": [
        "Можно сделатьл вывод о том, что чем ближе квартира к центру, тем дороже квартира. Исключениея является расстояние от центра от 25 до 30 километров. Возжможно там расспологается элитный загородный комплекс, поэтому цена выше"
      ]
    },
    {
      "cell_type": "markdown",
      "metadata": {
        "id": "4XFK4WK2P9Ch"
      },
      "source": [
        "### Общий вывод\n"
      ]
    },
    {
      "cell_type": "markdown",
      "metadata": {
        "id": "oPJxsdyBP9Ch"
      },
      "source": [
        "В ходе данного проекта была проведена переработка данных, а именно удаление пропусков из следующих столбцов:\n",
        "ceiling_height, floors_total, living_area, is_apartment, kitchen_area,balcony, locality_name, cityCenters_nearest, parks_around3000, ponds_around3000, days_exposition. Также были выявлены и исправленны выбивающиеся значения в высоте потолков, такие как 25 м на 2.5. Более того, были исправленны неявные дубликаты: «поселок Рябово» и «поселок городского типа Рябово»."
      ]
    },
    {
      "cell_type": "markdown",
      "metadata": {
        "id": "khSOJQCmP9Ch"
      },
      "source": [
        "**Добавление в таблицу новых столбцов :**"
      ]
    },
    {
      "cell_type": "markdown",
      "metadata": {
        "id": "3It_gUxWP9Ch"
      },
      "source": [
        "- день недели публикации объявления - weekday_exposition\n",
        "\n",
        "- месяц публикации объявления - month_exposition\n",
        "\n",
        "- год публикации объявления - year_exposition\n",
        "\n",
        "- цена квадратного метра - per_square_meter\n",
        "\n",
        "- тип этажа - floor_type\n",
        "\n",
        "- расстояние до центра в км - cityCenters_nearest_km"
      ]
    },
    {
      "cell_type": "markdown",
      "metadata": {
        "id": "kpHed1lfP9Ch"
      },
      "source": [
        "**Исследовательский анализ позволил выявить следующие факты**:"
      ]
    },
    {
      "cell_type": "markdown",
      "metadata": {
        "id": "rWjtzdfcP9Ci"
      },
      "source": [
        "- Квартиры продаются в основном общей площадью 50 кв метров, с жилой площадью около 30 кв м. Цена квартир в диапозоне от 3 млн до 5 млн с 1,2,3 комнатами.\n",
        "Также больше всего квартир находятся на 1 - 5 этаже. Если говорить о удаленности от центра - то в большинстве случаев они находятся на расстоянии 20000 метров."
      ]
    },
    {
      "cell_type": "markdown",
      "metadata": {
        "id": "MmWgNj3tP9Ci"
      },
      "source": [
        "**Сроки продажи квартиры**"
      ]
    },
    {
      "cell_type": "markdown",
      "metadata": {
        "id": "_xCZ9ZHqP9Ci"
      },
      "source": [
        "- Также было выяснено как быстро продаются квартиры - в течении 100 дней. Самые быстрые продажи квартир осуществлялись до 45 дней."
      ]
    },
    {
      "cell_type": "markdown",
      "metadata": {
        "id": "1wGlS8_EP9Ci"
      },
      "source": [
        "**Факторы влияющие на стоимость**"
      ]
    },
    {
      "cell_type": "markdown",
      "metadata": {
        "id": "fpR_c2JGP9Ci"
      },
      "source": [
        "- На стоимость квартиры больше всего влияет общая площадь квартиры, находящихся не на первом и не на последнем этаже. Более того влиятет так же число комнат, но только в том случае, если общая площадь квартиры больше."
      ]
    },
    {
      "cell_type": "markdown",
      "metadata": {
        "id": "JmgdiC6WP9Ci"
      },
      "source": [
        "- В Питере ярко выраена зависимость цены от удаленности от центра, чем выше цена - тем ближе к центру, за исключением 25 -30 км от центар, там цена на уровне небольшой удаленности от центра"
      ]
    },
    {
      "cell_type": "code",
      "execution_count": null,
      "metadata": {
        "id": "-0H2UE7IP9Cj"
      },
      "outputs": [],
      "source": []
    }
  ],
  "metadata": {
    "ExecuteTimeLog": [
      {
        "duration": 428,
        "start_time": "2022-11-24T14:17:23.399Z"
      },
      {
        "duration": 330,
        "start_time": "2022-11-24T14:17:23.829Z"
      },
      {
        "duration": 91,
        "start_time": "2022-11-24T14:17:48.094Z"
      },
      {
        "duration": 97,
        "start_time": "2022-11-24T14:18:09.415Z"
      },
      {
        "duration": 8,
        "start_time": "2022-11-24T14:18:22.101Z"
      },
      {
        "duration": 8,
        "start_time": "2022-11-24T14:18:37.869Z"
      },
      {
        "duration": 127,
        "start_time": "2022-11-24T14:25:24.799Z"
      },
      {
        "duration": 44,
        "start_time": "2022-11-24T14:25:28.844Z"
      },
      {
        "duration": 2371,
        "start_time": "2022-11-24T14:26:58.370Z"
      },
      {
        "duration": 76,
        "start_time": "2022-11-24T14:30:23.033Z"
      },
      {
        "duration": 8,
        "start_time": "2022-11-24T14:30:28.565Z"
      },
      {
        "duration": 53,
        "start_time": "2022-11-24T14:30:36.578Z"
      },
      {
        "duration": 24,
        "start_time": "2022-11-24T14:33:23.547Z"
      },
      {
        "duration": 59,
        "start_time": "2022-11-24T14:33:42.436Z"
      },
      {
        "duration": 17,
        "start_time": "2022-11-24T14:39:07.574Z"
      },
      {
        "duration": 11,
        "start_time": "2022-11-24T14:47:01.805Z"
      },
      {
        "duration": 67,
        "start_time": "2022-11-24T14:51:00.810Z"
      },
      {
        "duration": 6,
        "start_time": "2022-11-24T14:52:04.293Z"
      },
      {
        "duration": 7,
        "start_time": "2022-11-24T14:52:16.764Z"
      },
      {
        "duration": 12,
        "start_time": "2022-11-24T14:52:37.721Z"
      },
      {
        "duration": 39,
        "start_time": "2022-11-24T14:53:01.386Z"
      },
      {
        "duration": 35,
        "start_time": "2022-11-24T14:53:25.261Z"
      },
      {
        "duration": 40,
        "start_time": "2022-11-24T14:57:10.789Z"
      },
      {
        "duration": 33,
        "start_time": "2022-11-24T14:57:15.949Z"
      },
      {
        "duration": 28,
        "start_time": "2022-11-24T15:01:47.579Z"
      },
      {
        "duration": 40,
        "start_time": "2022-11-24T15:03:57.548Z"
      },
      {
        "duration": 32,
        "start_time": "2022-11-24T15:04:26.124Z"
      },
      {
        "duration": 9,
        "start_time": "2022-11-24T15:04:45.677Z"
      },
      {
        "duration": 38,
        "start_time": "2022-11-24T15:04:56.585Z"
      },
      {
        "duration": 5,
        "start_time": "2022-11-24T15:05:01.738Z"
      },
      {
        "duration": 7,
        "start_time": "2022-11-24T15:05:18.424Z"
      },
      {
        "duration": 8,
        "start_time": "2022-11-24T15:05:22.407Z"
      },
      {
        "duration": 30,
        "start_time": "2022-11-24T15:05:57.944Z"
      },
      {
        "duration": 40,
        "start_time": "2022-11-24T15:06:21.545Z"
      },
      {
        "duration": 9,
        "start_time": "2022-11-24T15:13:38.197Z"
      },
      {
        "duration": 5,
        "start_time": "2022-11-24T15:15:19.502Z"
      },
      {
        "duration": 6,
        "start_time": "2022-11-24T15:15:32.340Z"
      },
      {
        "duration": 9,
        "start_time": "2022-11-24T15:16:04.191Z"
      },
      {
        "duration": 38,
        "start_time": "2022-11-24T15:16:55.839Z"
      },
      {
        "duration": 7,
        "start_time": "2022-11-24T15:18:02.639Z"
      },
      {
        "duration": 55,
        "start_time": "2022-11-24T15:23:36.471Z"
      },
      {
        "duration": 926,
        "start_time": "2022-11-24T15:39:18.179Z"
      },
      {
        "duration": 6,
        "start_time": "2022-11-24T15:39:44.790Z"
      },
      {
        "duration": 10,
        "start_time": "2022-11-24T15:39:49.130Z"
      },
      {
        "duration": 3,
        "start_time": "2022-11-24T15:40:17.984Z"
      },
      {
        "duration": 104,
        "start_time": "2022-11-24T15:40:18.452Z"
      },
      {
        "duration": 5,
        "start_time": "2022-11-24T15:40:57.224Z"
      },
      {
        "duration": 5,
        "start_time": "2022-11-24T15:41:04.452Z"
      },
      {
        "duration": 5,
        "start_time": "2022-11-24T15:41:04.996Z"
      },
      {
        "duration": 7,
        "start_time": "2022-11-24T15:42:25.624Z"
      },
      {
        "duration": 40,
        "start_time": "2022-11-24T15:43:42.144Z"
      },
      {
        "duration": 6,
        "start_time": "2022-11-24T15:44:36.670Z"
      },
      {
        "duration": 5,
        "start_time": "2022-11-24T15:44:51.479Z"
      },
      {
        "duration": 6,
        "start_time": "2022-11-24T15:44:54.938Z"
      },
      {
        "duration": 6,
        "start_time": "2022-11-24T15:45:00.513Z"
      },
      {
        "duration": 5,
        "start_time": "2022-11-24T15:45:03.632Z"
      },
      {
        "duration": 8,
        "start_time": "2022-11-24T15:46:29.513Z"
      },
      {
        "duration": 15,
        "start_time": "2022-11-24T15:46:34.630Z"
      },
      {
        "duration": 8,
        "start_time": "2022-11-24T15:46:52.428Z"
      },
      {
        "duration": 4,
        "start_time": "2022-11-24T15:52:15.552Z"
      },
      {
        "duration": 6,
        "start_time": "2022-11-24T15:52:30.120Z"
      },
      {
        "duration": 6,
        "start_time": "2022-11-24T15:53:15.729Z"
      },
      {
        "duration": 10,
        "start_time": "2022-11-24T16:17:22.839Z"
      },
      {
        "duration": 10,
        "start_time": "2022-11-24T16:18:06.077Z"
      },
      {
        "duration": 5,
        "start_time": "2022-11-24T16:18:17.423Z"
      },
      {
        "duration": 5,
        "start_time": "2022-11-24T16:18:49.874Z"
      },
      {
        "duration": 5,
        "start_time": "2022-11-24T16:19:00.154Z"
      },
      {
        "duration": 10,
        "start_time": "2022-11-24T16:19:36.205Z"
      },
      {
        "duration": 10,
        "start_time": "2022-11-24T16:19:37.207Z"
      },
      {
        "duration": 8,
        "start_time": "2022-11-24T16:20:05.553Z"
      },
      {
        "duration": 6,
        "start_time": "2022-11-24T16:21:32.972Z"
      },
      {
        "duration": 5,
        "start_time": "2022-11-24T16:22:09.789Z"
      },
      {
        "duration": 8,
        "start_time": "2022-11-24T16:22:21.956Z"
      },
      {
        "duration": 5,
        "start_time": "2022-11-24T16:23:20.513Z"
      },
      {
        "duration": 7,
        "start_time": "2022-11-24T16:23:25.094Z"
      },
      {
        "duration": 6,
        "start_time": "2022-11-24T16:23:40.554Z"
      },
      {
        "duration": 10,
        "start_time": "2022-11-24T16:25:09.283Z"
      },
      {
        "duration": 10,
        "start_time": "2022-11-24T16:29:18.303Z"
      },
      {
        "duration": 6,
        "start_time": "2022-11-24T16:31:55.980Z"
      },
      {
        "duration": 6,
        "start_time": "2022-11-24T16:31:56.576Z"
      },
      {
        "duration": 7,
        "start_time": "2022-11-24T16:31:57.048Z"
      },
      {
        "duration": 7,
        "start_time": "2022-11-24T16:33:24.024Z"
      },
      {
        "duration": 15,
        "start_time": "2022-11-24T16:33:57.848Z"
      },
      {
        "duration": 6,
        "start_time": "2022-11-24T16:34:49.011Z"
      },
      {
        "duration": 8,
        "start_time": "2022-11-24T16:34:53.749Z"
      },
      {
        "duration": 15,
        "start_time": "2022-11-24T16:34:57.214Z"
      },
      {
        "duration": 42,
        "start_time": "2022-11-24T16:49:49.557Z"
      },
      {
        "duration": 50,
        "start_time": "2022-11-24T16:50:01.707Z"
      },
      {
        "duration": 2,
        "start_time": "2022-11-24T16:50:29.739Z"
      },
      {
        "duration": 96,
        "start_time": "2022-11-24T16:50:30.192Z"
      },
      {
        "duration": 51,
        "start_time": "2022-11-24T16:50:34.063Z"
      },
      {
        "duration": 2004,
        "start_time": "2022-11-24T16:50:49.051Z"
      },
      {
        "duration": 6,
        "start_time": "2022-11-24T16:50:55.574Z"
      },
      {
        "duration": 18,
        "start_time": "2022-11-24T16:50:56.231Z"
      },
      {
        "duration": 6,
        "start_time": "2022-11-24T16:50:56.589Z"
      },
      {
        "duration": 9,
        "start_time": "2022-11-24T16:50:57.178Z"
      },
      {
        "duration": 10,
        "start_time": "2022-11-24T16:50:57.646Z"
      },
      {
        "duration": 6,
        "start_time": "2022-11-24T16:50:58.009Z"
      },
      {
        "duration": 9,
        "start_time": "2022-11-24T16:50:58.496Z"
      },
      {
        "duration": 6,
        "start_time": "2022-11-24T16:50:59.121Z"
      },
      {
        "duration": 5,
        "start_time": "2022-11-24T16:50:59.862Z"
      },
      {
        "duration": 6,
        "start_time": "2022-11-24T16:51:00.648Z"
      },
      {
        "duration": 818,
        "start_time": "2022-11-24T16:51:03.495Z"
      },
      {
        "duration": 0,
        "start_time": "2022-11-24T16:51:04.315Z"
      },
      {
        "duration": 0,
        "start_time": "2022-11-24T16:51:04.315Z"
      },
      {
        "duration": 9,
        "start_time": "2022-11-24T16:51:04.548Z"
      },
      {
        "duration": 5,
        "start_time": "2022-11-24T16:51:35.872Z"
      },
      {
        "duration": 5,
        "start_time": "2022-11-24T16:51:39.091Z"
      },
      {
        "duration": 18,
        "start_time": "2022-11-24T16:54:26.836Z"
      },
      {
        "duration": 10,
        "start_time": "2022-11-24T16:54:27.362Z"
      },
      {
        "duration": 46,
        "start_time": "2022-11-24T16:57:01.858Z"
      },
      {
        "duration": 2,
        "start_time": "2022-11-24T16:58:28.718Z"
      },
      {
        "duration": 103,
        "start_time": "2022-11-24T16:58:29.102Z"
      },
      {
        "duration": 7,
        "start_time": "2022-11-24T17:01:05.106Z"
      },
      {
        "duration": 47,
        "start_time": "2022-11-24T17:10:48.294Z"
      },
      {
        "duration": 89,
        "start_time": "2022-11-24T17:12:26.819Z"
      },
      {
        "duration": 6,
        "start_time": "2022-11-24T17:13:13.533Z"
      },
      {
        "duration": 12,
        "start_time": "2022-11-24T17:13:15.333Z"
      },
      {
        "duration": 12,
        "start_time": "2022-11-24T17:13:17.433Z"
      },
      {
        "duration": 39,
        "start_time": "2022-11-24T17:20:10.601Z"
      },
      {
        "duration": 6,
        "start_time": "2022-11-24T17:22:16.109Z"
      },
      {
        "duration": 6,
        "start_time": "2022-11-24T17:22:17.967Z"
      },
      {
        "duration": 3,
        "start_time": "2022-11-24T17:23:36.595Z"
      },
      {
        "duration": 106,
        "start_time": "2022-11-24T17:23:36.938Z"
      },
      {
        "duration": 51,
        "start_time": "2022-11-24T17:23:37.452Z"
      },
      {
        "duration": 1921,
        "start_time": "2022-11-24T17:23:37.809Z"
      },
      {
        "duration": 7,
        "start_time": "2022-11-24T17:23:39.899Z"
      },
      {
        "duration": 7,
        "start_time": "2022-11-24T17:23:40.673Z"
      },
      {
        "duration": 7,
        "start_time": "2022-11-24T17:23:41.055Z"
      },
      {
        "duration": 11,
        "start_time": "2022-11-24T17:23:42.097Z"
      },
      {
        "duration": 10,
        "start_time": "2022-11-24T17:23:42.452Z"
      },
      {
        "duration": 6,
        "start_time": "2022-11-24T17:23:50.087Z"
      },
      {
        "duration": 8,
        "start_time": "2022-11-24T17:23:51.187Z"
      },
      {
        "duration": 6,
        "start_time": "2022-11-24T17:23:52.362Z"
      },
      {
        "duration": 7,
        "start_time": "2022-11-24T17:23:55.546Z"
      },
      {
        "duration": 5,
        "start_time": "2022-11-24T17:23:56.344Z"
      },
      {
        "duration": 31,
        "start_time": "2022-11-24T17:24:14.505Z"
      },
      {
        "duration": 9,
        "start_time": "2022-11-24T17:25:58.883Z"
      },
      {
        "duration": 8,
        "start_time": "2022-11-24T17:29:43.656Z"
      },
      {
        "duration": 9,
        "start_time": "2022-11-24T17:29:49.341Z"
      },
      {
        "duration": 9,
        "start_time": "2022-11-24T17:30:06.973Z"
      },
      {
        "duration": 6,
        "start_time": "2022-11-24T17:32:14.464Z"
      },
      {
        "duration": 12,
        "start_time": "2022-11-24T17:33:13.627Z"
      },
      {
        "duration": 12,
        "start_time": "2022-11-24T17:33:55.635Z"
      },
      {
        "duration": 10,
        "start_time": "2022-11-24T17:34:20.797Z"
      },
      {
        "duration": 5,
        "start_time": "2022-11-24T17:34:31.767Z"
      },
      {
        "duration": 6,
        "start_time": "2022-11-24T17:34:37.960Z"
      },
      {
        "duration": 5,
        "start_time": "2022-11-24T17:34:54.052Z"
      },
      {
        "duration": 6,
        "start_time": "2022-11-24T17:34:55.855Z"
      },
      {
        "duration": 6,
        "start_time": "2022-11-24T17:34:58.435Z"
      },
      {
        "duration": 6,
        "start_time": "2022-11-24T17:35:05.901Z"
      },
      {
        "duration": 4,
        "start_time": "2022-11-24T17:37:29.542Z"
      },
      {
        "duration": 11,
        "start_time": "2022-11-24T17:40:27.171Z"
      },
      {
        "duration": 9,
        "start_time": "2022-11-24T17:40:51.760Z"
      },
      {
        "duration": 29,
        "start_time": "2022-11-24T17:40:56.421Z"
      },
      {
        "duration": 13,
        "start_time": "2022-11-24T17:41:04.669Z"
      },
      {
        "duration": 31,
        "start_time": "2022-11-24T17:41:29.062Z"
      },
      {
        "duration": 19,
        "start_time": "2022-11-24T17:44:40.745Z"
      },
      {
        "duration": 6,
        "start_time": "2022-11-24T17:52:11.303Z"
      },
      {
        "duration": 7,
        "start_time": "2022-11-24T17:58:55.148Z"
      },
      {
        "duration": 102,
        "start_time": "2022-11-24T18:00:34.823Z"
      },
      {
        "duration": 43,
        "start_time": "2022-11-24T18:00:48.054Z"
      },
      {
        "duration": 74,
        "start_time": "2022-11-24T18:00:59.438Z"
      },
      {
        "duration": 7,
        "start_time": "2022-11-24T18:01:08.967Z"
      },
      {
        "duration": 10,
        "start_time": "2022-11-24T18:01:46.360Z"
      },
      {
        "duration": 6,
        "start_time": "2022-11-24T18:01:57.708Z"
      },
      {
        "duration": 7,
        "start_time": "2022-11-24T18:02:08.837Z"
      },
      {
        "duration": 10,
        "start_time": "2022-11-24T18:02:45.355Z"
      },
      {
        "duration": 32,
        "start_time": "2022-11-24T18:21:53.509Z"
      },
      {
        "duration": 8,
        "start_time": "2022-11-24T18:22:46.762Z"
      },
      {
        "duration": 10,
        "start_time": "2022-11-24T18:22:48.188Z"
      },
      {
        "duration": 31,
        "start_time": "2022-11-24T18:22:53.018Z"
      },
      {
        "duration": 11,
        "start_time": "2022-11-24T18:31:42.649Z"
      },
      {
        "duration": 15,
        "start_time": "2022-11-24T18:31:58.235Z"
      },
      {
        "duration": 4,
        "start_time": "2022-11-24T18:36:41.419Z"
      },
      {
        "duration": 571,
        "start_time": "2022-11-24T18:37:59.529Z"
      },
      {
        "duration": 303,
        "start_time": "2022-11-24T18:38:20.343Z"
      },
      {
        "duration": 299,
        "start_time": "2022-11-24T18:38:38.336Z"
      },
      {
        "duration": 3,
        "start_time": "2022-11-24T18:45:26.664Z"
      },
      {
        "duration": 427,
        "start_time": "2022-11-24T18:45:29.748Z"
      },
      {
        "duration": 271,
        "start_time": "2022-11-24T18:45:58.026Z"
      },
      {
        "duration": 29,
        "start_time": "2022-11-24T18:46:14.666Z"
      },
      {
        "duration": 4,
        "start_time": "2022-11-24T18:50:10.777Z"
      },
      {
        "duration": 294,
        "start_time": "2022-11-24T18:50:11.165Z"
      },
      {
        "duration": 33,
        "start_time": "2022-11-24T18:50:14.917Z"
      },
      {
        "duration": 2,
        "start_time": "2022-11-24T18:53:38.426Z"
      },
      {
        "duration": 9,
        "start_time": "2022-11-24T18:56:33.530Z"
      },
      {
        "duration": 3,
        "start_time": "2022-11-24T18:56:39.107Z"
      },
      {
        "duration": 146,
        "start_time": "2022-11-24T18:56:39.629Z"
      },
      {
        "duration": 135,
        "start_time": "2022-11-24T18:57:08.263Z"
      },
      {
        "duration": 147,
        "start_time": "2022-11-24T18:57:19.984Z"
      },
      {
        "duration": 147,
        "start_time": "2022-11-24T18:57:40.965Z"
      },
      {
        "duration": 140,
        "start_time": "2022-11-24T18:57:51.820Z"
      },
      {
        "duration": 8,
        "start_time": "2022-11-24T18:57:59.663Z"
      },
      {
        "duration": 7,
        "start_time": "2022-11-24T18:58:33.923Z"
      },
      {
        "duration": 9,
        "start_time": "2022-11-24T18:59:42.681Z"
      },
      {
        "duration": 54,
        "start_time": "2022-11-24T19:00:38.262Z"
      },
      {
        "duration": 167,
        "start_time": "2022-11-24T19:01:46.992Z"
      },
      {
        "duration": 495,
        "start_time": "2022-11-24T19:04:27.343Z"
      },
      {
        "duration": 361,
        "start_time": "2022-11-24T19:04:39.737Z"
      },
      {
        "duration": 267,
        "start_time": "2022-11-24T19:04:46.549Z"
      },
      {
        "duration": 316,
        "start_time": "2022-11-24T19:05:09.866Z"
      },
      {
        "duration": 419,
        "start_time": "2022-11-24T19:05:16.349Z"
      },
      {
        "duration": 7,
        "start_time": "2022-11-24T19:06:28.883Z"
      },
      {
        "duration": 8,
        "start_time": "2022-11-24T19:06:30.504Z"
      },
      {
        "duration": 8,
        "start_time": "2022-11-24T19:10:38.177Z"
      },
      {
        "duration": 51,
        "start_time": "2022-11-24T19:16:31.582Z"
      },
      {
        "duration": 96,
        "start_time": "2022-11-24T19:18:00.077Z"
      },
      {
        "duration": 219,
        "start_time": "2022-11-24T19:26:13.688Z"
      },
      {
        "duration": 251,
        "start_time": "2022-11-24T19:28:26.287Z"
      },
      {
        "duration": 162,
        "start_time": "2022-11-24T19:28:37.533Z"
      },
      {
        "duration": 6,
        "start_time": "2022-11-24T19:30:28.247Z"
      },
      {
        "duration": 7,
        "start_time": "2022-11-24T19:30:29.256Z"
      },
      {
        "duration": 143,
        "start_time": "2022-11-24T19:35:20.175Z"
      },
      {
        "duration": 143,
        "start_time": "2022-11-24T19:35:30.824Z"
      },
      {
        "duration": 30,
        "start_time": "2022-11-24T19:35:47.704Z"
      },
      {
        "duration": 160,
        "start_time": "2022-11-24T19:36:27.104Z"
      },
      {
        "duration": 7,
        "start_time": "2022-11-24T19:36:39.877Z"
      },
      {
        "duration": 7,
        "start_time": "2022-11-24T19:36:43.835Z"
      },
      {
        "duration": 174,
        "start_time": "2022-11-24T19:36:51.297Z"
      },
      {
        "duration": 169,
        "start_time": "2022-11-24T19:36:58.238Z"
      },
      {
        "duration": 180,
        "start_time": "2022-11-24T19:37:03.461Z"
      },
      {
        "duration": 417,
        "start_time": "2022-11-24T19:37:08.485Z"
      },
      {
        "duration": 258,
        "start_time": "2022-11-24T19:39:24.578Z"
      },
      {
        "duration": 240,
        "start_time": "2022-11-24T19:39:29.481Z"
      },
      {
        "duration": 236,
        "start_time": "2022-11-24T19:41:19.610Z"
      },
      {
        "duration": 255,
        "start_time": "2022-11-24T19:41:26.495Z"
      },
      {
        "duration": 252,
        "start_time": "2022-11-24T19:41:33.302Z"
      },
      {
        "duration": 181,
        "start_time": "2022-11-24T19:41:39.920Z"
      },
      {
        "duration": 323,
        "start_time": "2022-11-24T19:41:48.343Z"
      },
      {
        "duration": 7,
        "start_time": "2022-11-24T19:41:56.325Z"
      },
      {
        "duration": 7,
        "start_time": "2022-11-24T19:41:57.083Z"
      },
      {
        "duration": 180,
        "start_time": "2022-11-24T19:42:36.140Z"
      },
      {
        "duration": 165,
        "start_time": "2022-11-24T19:46:44.942Z"
      },
      {
        "duration": 233,
        "start_time": "2022-11-24T19:49:58.313Z"
      },
      {
        "duration": 163,
        "start_time": "2022-11-24T19:50:07.877Z"
      },
      {
        "duration": 157,
        "start_time": "2022-11-24T19:50:24.383Z"
      },
      {
        "duration": 190,
        "start_time": "2022-11-24T19:50:31.866Z"
      },
      {
        "duration": 161,
        "start_time": "2022-11-24T19:50:55.366Z"
      },
      {
        "duration": 8,
        "start_time": "2022-11-24T19:51:04.756Z"
      },
      {
        "duration": 9,
        "start_time": "2022-11-24T19:51:05.511Z"
      },
      {
        "duration": 158,
        "start_time": "2022-11-24T19:56:43.809Z"
      },
      {
        "duration": 150,
        "start_time": "2022-11-24T19:56:52.895Z"
      },
      {
        "duration": 8,
        "start_time": "2022-11-24T19:57:27.451Z"
      },
      {
        "duration": 7,
        "start_time": "2022-11-24T19:57:41.072Z"
      },
      {
        "duration": 7,
        "start_time": "2022-11-24T19:57:55.606Z"
      },
      {
        "duration": 143,
        "start_time": "2022-11-24T20:01:31.137Z"
      },
      {
        "duration": 26,
        "start_time": "2022-11-24T20:05:28.319Z"
      },
      {
        "duration": 20,
        "start_time": "2022-11-24T20:05:47.286Z"
      },
      {
        "duration": 20,
        "start_time": "2022-11-24T20:06:05.534Z"
      },
      {
        "duration": 19,
        "start_time": "2022-11-24T20:06:49.638Z"
      },
      {
        "duration": 31,
        "start_time": "2022-11-24T20:07:11.088Z"
      },
      {
        "duration": 5,
        "start_time": "2022-11-24T20:07:35.228Z"
      },
      {
        "duration": 4,
        "start_time": "2022-11-24T20:07:40.502Z"
      },
      {
        "duration": 17,
        "start_time": "2022-11-24T20:11:23.302Z"
      },
      {
        "duration": 20,
        "start_time": "2022-11-24T20:13:05.886Z"
      },
      {
        "duration": 14,
        "start_time": "2022-11-24T20:15:38.770Z"
      },
      {
        "duration": 20,
        "start_time": "2022-11-24T20:16:23.069Z"
      },
      {
        "duration": 15,
        "start_time": "2022-11-24T20:16:45.645Z"
      },
      {
        "duration": 33,
        "start_time": "2022-11-24T20:16:59.707Z"
      },
      {
        "duration": 8,
        "start_time": "2022-11-24T20:19:16.493Z"
      },
      {
        "duration": 122,
        "start_time": "2022-11-24T20:19:21.630Z"
      },
      {
        "duration": 5,
        "start_time": "2022-11-24T20:19:31.574Z"
      },
      {
        "duration": 11,
        "start_time": "2022-11-24T20:20:52.092Z"
      },
      {
        "duration": 18,
        "start_time": "2022-11-24T20:21:06.266Z"
      },
      {
        "duration": 128,
        "start_time": "2022-11-24T20:21:26.161Z"
      },
      {
        "duration": 29,
        "start_time": "2022-11-24T20:21:45.881Z"
      },
      {
        "duration": 150,
        "start_time": "2022-11-24T20:28:37.205Z"
      },
      {
        "duration": 318,
        "start_time": "2022-11-24T20:28:48.851Z"
      },
      {
        "duration": 237,
        "start_time": "2022-11-24T20:29:03.356Z"
      },
      {
        "duration": 8,
        "start_time": "2022-11-24T20:32:39.478Z"
      },
      {
        "duration": 170,
        "start_time": "2022-11-24T20:33:27.791Z"
      },
      {
        "duration": 8,
        "start_time": "2022-11-24T20:34:20.574Z"
      },
      {
        "duration": 8,
        "start_time": "2022-11-24T20:34:24.151Z"
      },
      {
        "duration": 183,
        "start_time": "2022-11-24T20:34:49.130Z"
      },
      {
        "duration": 160,
        "start_time": "2022-11-24T20:39:19.132Z"
      },
      {
        "duration": 165,
        "start_time": "2022-11-24T20:39:35.153Z"
      },
      {
        "duration": 8,
        "start_time": "2022-11-24T20:40:49.026Z"
      },
      {
        "duration": 8,
        "start_time": "2022-11-24T20:40:51.142Z"
      },
      {
        "duration": 7,
        "start_time": "2022-11-24T20:44:24.573Z"
      },
      {
        "duration": 167,
        "start_time": "2022-11-24T20:46:45.198Z"
      },
      {
        "duration": 150,
        "start_time": "2022-11-24T20:46:53.823Z"
      },
      {
        "duration": 8,
        "start_time": "2022-11-24T20:47:28.419Z"
      },
      {
        "duration": 6,
        "start_time": "2022-11-24T20:47:34.113Z"
      },
      {
        "duration": 7,
        "start_time": "2022-11-24T20:47:34.588Z"
      },
      {
        "duration": 105,
        "start_time": "2022-11-25T10:00:26.535Z"
      },
      {
        "duration": 96,
        "start_time": "2022-11-25T10:00:40.256Z"
      },
      {
        "duration": 3,
        "start_time": "2022-11-25T10:00:48.304Z"
      },
      {
        "duration": 202,
        "start_time": "2022-11-25T10:00:48.637Z"
      },
      {
        "duration": 54,
        "start_time": "2022-11-25T10:00:48.947Z"
      },
      {
        "duration": 2039,
        "start_time": "2022-11-25T10:00:49.103Z"
      },
      {
        "duration": 7,
        "start_time": "2022-11-25T10:00:51.144Z"
      },
      {
        "duration": 17,
        "start_time": "2022-11-25T10:00:51.152Z"
      },
      {
        "duration": 10,
        "start_time": "2022-11-25T10:00:51.171Z"
      },
      {
        "duration": 14,
        "start_time": "2022-11-25T10:00:51.182Z"
      },
      {
        "duration": 8,
        "start_time": "2022-11-25T10:00:51.198Z"
      },
      {
        "duration": 27,
        "start_time": "2022-11-25T10:00:51.208Z"
      },
      {
        "duration": 7,
        "start_time": "2022-11-25T10:00:51.237Z"
      },
      {
        "duration": 7,
        "start_time": "2022-11-25T10:00:51.426Z"
      },
      {
        "duration": 8,
        "start_time": "2022-11-25T10:00:51.795Z"
      },
      {
        "duration": 7,
        "start_time": "2022-11-25T10:00:51.985Z"
      },
      {
        "duration": 10,
        "start_time": "2022-11-25T10:00:52.328Z"
      },
      {
        "duration": 9,
        "start_time": "2022-11-25T10:00:52.697Z"
      },
      {
        "duration": 14,
        "start_time": "2022-11-25T10:00:52.904Z"
      },
      {
        "duration": 34,
        "start_time": "2022-11-25T10:00:53.030Z"
      },
      {
        "duration": 19,
        "start_time": "2022-11-25T10:00:53.228Z"
      },
      {
        "duration": 32,
        "start_time": "2022-11-25T10:00:53.600Z"
      },
      {
        "duration": 6,
        "start_time": "2022-11-25T10:00:53.774Z"
      },
      {
        "duration": 10,
        "start_time": "2022-11-25T10:00:54.162Z"
      },
      {
        "duration": 13,
        "start_time": "2022-11-25T10:00:54.577Z"
      },
      {
        "duration": 3,
        "start_time": "2022-11-25T10:00:54.776Z"
      },
      {
        "duration": 296,
        "start_time": "2022-11-25T10:00:54.966Z"
      },
      {
        "duration": 3,
        "start_time": "2022-11-25T10:00:55.263Z"
      },
      {
        "duration": 398,
        "start_time": "2022-11-25T10:00:55.357Z"
      },
      {
        "duration": 29,
        "start_time": "2022-11-25T10:00:55.757Z"
      },
      {
        "duration": 3,
        "start_time": "2022-11-25T10:00:55.901Z"
      },
      {
        "duration": 164,
        "start_time": "2022-11-25T10:00:56.283Z"
      },
      {
        "duration": 7,
        "start_time": "2022-11-25T10:00:56.492Z"
      },
      {
        "duration": 8,
        "start_time": "2022-11-25T10:00:56.672Z"
      },
      {
        "duration": 250,
        "start_time": "2022-11-25T10:00:58.102Z"
      },
      {
        "duration": 7,
        "start_time": "2022-11-25T10:00:58.353Z"
      },
      {
        "duration": 8,
        "start_time": "2022-11-25T10:00:58.493Z"
      },
      {
        "duration": 156,
        "start_time": "2022-11-25T10:00:59.144Z"
      },
      {
        "duration": 7,
        "start_time": "2022-11-25T10:00:59.379Z"
      },
      {
        "duration": 8,
        "start_time": "2022-11-25T10:00:59.592Z"
      },
      {
        "duration": 217,
        "start_time": "2022-11-25T10:01:00.273Z"
      },
      {
        "duration": 7,
        "start_time": "2022-11-25T10:01:00.492Z"
      },
      {
        "duration": 8,
        "start_time": "2022-11-25T10:01:00.725Z"
      },
      {
        "duration": 103,
        "start_time": "2022-11-25T10:01:11.575Z"
      },
      {
        "duration": 113,
        "start_time": "2022-11-25T10:01:29.736Z"
      },
      {
        "duration": 202,
        "start_time": "2022-11-25T10:02:55.480Z"
      },
      {
        "duration": 218,
        "start_time": "2022-11-25T10:03:15.982Z"
      },
      {
        "duration": 214,
        "start_time": "2022-11-25T10:03:21.653Z"
      },
      {
        "duration": 213,
        "start_time": "2022-11-25T10:03:27.722Z"
      },
      {
        "duration": 197,
        "start_time": "2022-11-25T10:06:27.032Z"
      },
      {
        "duration": 564,
        "start_time": "2022-11-26T14:36:51.552Z"
      },
      {
        "duration": 158,
        "start_time": "2022-11-26T14:36:52.119Z"
      },
      {
        "duration": 154,
        "start_time": "2022-11-26T14:36:52.280Z"
      },
      {
        "duration": 3659,
        "start_time": "2022-11-26T14:36:52.437Z"
      },
      {
        "duration": 11,
        "start_time": "2022-11-26T14:36:56.098Z"
      },
      {
        "duration": 25,
        "start_time": "2022-11-26T14:36:56.112Z"
      },
      {
        "duration": 20,
        "start_time": "2022-11-26T14:36:56.140Z"
      },
      {
        "duration": 36,
        "start_time": "2022-11-26T14:36:56.163Z"
      },
      {
        "duration": 31,
        "start_time": "2022-11-26T14:36:56.202Z"
      },
      {
        "duration": 15,
        "start_time": "2022-11-26T14:36:56.240Z"
      },
      {
        "duration": 12,
        "start_time": "2022-11-26T14:36:56.258Z"
      },
      {
        "duration": 15,
        "start_time": "2022-11-26T14:36:56.273Z"
      },
      {
        "duration": 13,
        "start_time": "2022-11-26T14:36:56.291Z"
      },
      {
        "duration": 14,
        "start_time": "2022-11-26T14:36:56.306Z"
      },
      {
        "duration": 54,
        "start_time": "2022-11-26T14:36:56.322Z"
      },
      {
        "duration": 24,
        "start_time": "2022-11-26T14:36:56.379Z"
      },
      {
        "duration": 32,
        "start_time": "2022-11-26T14:36:56.406Z"
      },
      {
        "duration": 52,
        "start_time": "2022-11-26T14:36:56.440Z"
      },
      {
        "duration": 29,
        "start_time": "2022-11-26T14:36:56.494Z"
      },
      {
        "duration": 72,
        "start_time": "2022-11-26T14:36:56.525Z"
      },
      {
        "duration": 14,
        "start_time": "2022-11-26T14:36:56.600Z"
      },
      {
        "duration": 35,
        "start_time": "2022-11-26T14:36:56.617Z"
      },
      {
        "duration": 20,
        "start_time": "2022-11-26T14:36:56.656Z"
      },
      {
        "duration": 30,
        "start_time": "2022-11-26T14:36:56.678Z"
      },
      {
        "duration": 582,
        "start_time": "2022-11-26T14:36:56.711Z"
      },
      {
        "duration": 4,
        "start_time": "2022-11-26T14:36:57.296Z"
      },
      {
        "duration": 451,
        "start_time": "2022-11-26T14:36:57.303Z"
      },
      {
        "duration": 48,
        "start_time": "2022-11-26T14:36:57.761Z"
      },
      {
        "duration": 3,
        "start_time": "2022-11-26T14:36:57.812Z"
      },
      {
        "duration": 371,
        "start_time": "2022-11-26T14:36:57.817Z"
      },
      {
        "duration": 10,
        "start_time": "2022-11-26T14:36:58.191Z"
      },
      {
        "duration": 15,
        "start_time": "2022-11-26T14:36:58.203Z"
      },
      {
        "duration": 465,
        "start_time": "2022-11-26T14:36:58.220Z"
      },
      {
        "duration": 11,
        "start_time": "2022-11-26T14:36:58.688Z"
      },
      {
        "duration": 11,
        "start_time": "2022-11-26T14:36:58.701Z"
      },
      {
        "duration": 308,
        "start_time": "2022-11-26T14:36:58.714Z"
      },
      {
        "duration": 12,
        "start_time": "2022-11-26T14:36:59.024Z"
      },
      {
        "duration": 22,
        "start_time": "2022-11-26T14:36:59.038Z"
      },
      {
        "duration": 437,
        "start_time": "2022-11-26T14:36:59.063Z"
      },
      {
        "duration": 13,
        "start_time": "2022-11-26T14:36:59.502Z"
      },
      {
        "duration": 37,
        "start_time": "2022-11-26T14:36:59.517Z"
      },
      {
        "duration": 585,
        "start_time": "2022-11-26T14:36:59.556Z"
      },
      {
        "duration": 12,
        "start_time": "2022-11-26T14:37:00.143Z"
      },
      {
        "duration": 404,
        "start_time": "2022-11-26T14:37:00.157Z"
      },
      {
        "duration": 13,
        "start_time": "2022-11-26T14:37:00.563Z"
      },
      {
        "duration": 24,
        "start_time": "2022-11-26T14:37:00.579Z"
      },
      {
        "duration": 290,
        "start_time": "2022-11-26T14:37:00.606Z"
      },
      {
        "duration": 15,
        "start_time": "2022-11-26T14:37:00.899Z"
      },
      {
        "duration": 100,
        "start_time": "2022-11-26T14:37:00.917Z"
      },
      {
        "duration": 749,
        "start_time": "2022-11-26T14:37:01.019Z"
      },
      {
        "duration": 12,
        "start_time": "2022-11-26T14:37:01.770Z"
      },
      {
        "duration": 312,
        "start_time": "2022-11-26T14:37:01.785Z"
      },
      {
        "duration": 12,
        "start_time": "2022-11-26T14:37:02.099Z"
      },
      {
        "duration": 42,
        "start_time": "2022-11-26T14:37:02.113Z"
      },
      {
        "duration": 268,
        "start_time": "2022-11-26T14:37:02.158Z"
      },
      {
        "duration": 17,
        "start_time": "2022-11-26T14:37:02.428Z"
      },
      {
        "duration": 48,
        "start_time": "2022-11-26T14:37:02.447Z"
      },
      {
        "duration": 382,
        "start_time": "2022-11-26T14:37:02.498Z"
      },
      {
        "duration": 9,
        "start_time": "2022-11-26T14:37:02.882Z"
      },
      {
        "duration": 96,
        "start_time": "2022-11-26T14:37:02.894Z"
      },
      {
        "duration": 399,
        "start_time": "2022-11-26T14:37:02.992Z"
      },
      {
        "duration": 384,
        "start_time": "2022-11-26T14:37:03.394Z"
      },
      {
        "duration": 275,
        "start_time": "2022-11-26T14:37:03.780Z"
      },
      {
        "duration": 21,
        "start_time": "2022-11-26T14:37:04.058Z"
      },
      {
        "duration": 242,
        "start_time": "2022-11-26T14:37:04.081Z"
      },
      {
        "duration": 38,
        "start_time": "2022-11-26T14:37:04.325Z"
      },
      {
        "duration": 265,
        "start_time": "2022-11-26T14:37:04.366Z"
      },
      {
        "duration": 352,
        "start_time": "2022-11-26T14:37:04.633Z"
      },
      {
        "duration": 35,
        "start_time": "2022-11-26T14:37:04.988Z"
      },
      {
        "duration": 40,
        "start_time": "2022-11-26T14:37:05.026Z"
      },
      {
        "duration": 255,
        "start_time": "2022-11-26T14:37:05.073Z"
      },
      {
        "duration": 33,
        "start_time": "2022-11-26T14:37:05.330Z"
      },
      {
        "duration": 4,
        "start_time": "2022-11-26T14:37:05.365Z"
      },
      {
        "duration": 439,
        "start_time": "2022-11-26T14:37:05.371Z"
      },
      {
        "duration": 26,
        "start_time": "2022-11-26T14:37:05.812Z"
      },
      {
        "duration": 22,
        "start_time": "2022-11-26T14:37:05.851Z"
      },
      {
        "duration": 258,
        "start_time": "2022-11-26T14:37:05.877Z"
      },
      {
        "duration": 29,
        "start_time": "2022-11-26T14:37:06.138Z"
      },
      {
        "duration": 7,
        "start_time": "2022-11-26T14:37:06.170Z"
      },
      {
        "duration": 237,
        "start_time": "2022-11-26T14:37:06.179Z"
      },
      {
        "duration": 26,
        "start_time": "2022-11-26T14:37:06.418Z"
      },
      {
        "duration": 12,
        "start_time": "2022-11-26T14:37:06.455Z"
      },
      {
        "duration": 44,
        "start_time": "2022-11-26T14:37:06.470Z"
      },
      {
        "duration": 57,
        "start_time": "2022-11-26T14:37:06.517Z"
      },
      {
        "duration": 14,
        "start_time": "2022-11-26T14:39:24.076Z"
      },
      {
        "duration": 12,
        "start_time": "2022-11-26T14:39:27.933Z"
      },
      {
        "duration": 25,
        "start_time": "2022-11-26T14:40:22.994Z"
      },
      {
        "duration": 89,
        "start_time": "2022-11-26T14:40:26.169Z"
      },
      {
        "duration": 116,
        "start_time": "2022-11-26T14:40:42.732Z"
      },
      {
        "duration": 7,
        "start_time": "2022-11-26T14:40:52.313Z"
      },
      {
        "duration": 18,
        "start_time": "2022-11-26T14:45:08.625Z"
      },
      {
        "duration": 19,
        "start_time": "2022-11-26T14:45:21.293Z"
      },
      {
        "duration": 418,
        "start_time": "2022-11-26T14:56:25.216Z"
      },
      {
        "duration": 348,
        "start_time": "2022-11-26T14:56:25.809Z"
      },
      {
        "duration": 57,
        "start_time": "2022-11-26T14:56:29.527Z"
      },
      {
        "duration": 2314,
        "start_time": "2022-11-26T14:56:34.354Z"
      },
      {
        "duration": 3,
        "start_time": "2022-11-26T14:56:58.451Z"
      },
      {
        "duration": 51,
        "start_time": "2022-11-26T14:57:03.939Z"
      },
      {
        "duration": 3,
        "start_time": "2022-11-26T14:57:19.543Z"
      },
      {
        "duration": 69,
        "start_time": "2022-11-26T14:58:11.082Z"
      },
      {
        "duration": 7,
        "start_time": "2022-11-26T14:58:39.270Z"
      },
      {
        "duration": 7,
        "start_time": "2022-11-26T14:58:40.388Z"
      },
      {
        "duration": 6,
        "start_time": "2022-11-26T14:58:41.214Z"
      },
      {
        "duration": 14,
        "start_time": "2022-11-26T14:58:42.511Z"
      },
      {
        "duration": 11,
        "start_time": "2022-11-26T14:58:42.982Z"
      },
      {
        "duration": 7,
        "start_time": "2022-11-26T14:58:46.050Z"
      },
      {
        "duration": 8,
        "start_time": "2022-11-26T14:58:46.566Z"
      },
      {
        "duration": 15,
        "start_time": "2022-11-26T14:58:47.909Z"
      },
      {
        "duration": 7,
        "start_time": "2022-11-26T14:59:51.371Z"
      },
      {
        "duration": 5,
        "start_time": "2022-11-26T15:00:03.289Z"
      },
      {
        "duration": 85,
        "start_time": "2022-11-26T15:00:58.837Z"
      },
      {
        "duration": 7,
        "start_time": "2022-11-26T15:02:41.029Z"
      },
      {
        "duration": 6,
        "start_time": "2022-11-26T15:02:41.451Z"
      },
      {
        "duration": 9,
        "start_time": "2022-11-26T15:02:46.414Z"
      },
      {
        "duration": 6,
        "start_time": "2022-11-26T15:14:22.319Z"
      },
      {
        "duration": 26,
        "start_time": "2022-11-26T15:14:39.423Z"
      },
      {
        "duration": 5,
        "start_time": "2022-11-26T15:16:50.815Z"
      },
      {
        "duration": 22,
        "start_time": "2022-11-26T15:18:45.027Z"
      },
      {
        "duration": 31,
        "start_time": "2022-11-26T15:19:57.405Z"
      },
      {
        "duration": 5,
        "start_time": "2022-11-26T15:20:52.260Z"
      },
      {
        "duration": 8,
        "start_time": "2022-11-26T15:21:35.035Z"
      },
      {
        "duration": 2,
        "start_time": "2022-11-26T15:21:50.207Z"
      },
      {
        "duration": 324,
        "start_time": "2022-11-26T15:22:03.426Z"
      },
      {
        "duration": 7,
        "start_time": "2022-11-26T15:23:53.029Z"
      },
      {
        "duration": 4,
        "start_time": "2022-11-26T15:24:04.602Z"
      },
      {
        "duration": 31,
        "start_time": "2022-11-26T15:24:11.323Z"
      },
      {
        "duration": 25,
        "start_time": "2022-11-26T15:24:32.086Z"
      },
      {
        "duration": 38,
        "start_time": "2022-11-26T15:25:42.904Z"
      },
      {
        "duration": 27,
        "start_time": "2022-11-26T15:26:04.145Z"
      },
      {
        "duration": 26,
        "start_time": "2022-11-26T15:26:43.445Z"
      },
      {
        "duration": 4,
        "start_time": "2022-11-26T15:28:51.305Z"
      },
      {
        "duration": 101,
        "start_time": "2022-11-26T15:29:01.218Z"
      },
      {
        "duration": 56,
        "start_time": "2022-11-26T15:33:04.609Z"
      },
      {
        "duration": 8,
        "start_time": "2022-11-26T15:37:15.569Z"
      },
      {
        "duration": 3,
        "start_time": "2022-11-26T15:37:38.495Z"
      },
      {
        "duration": 206,
        "start_time": "2022-11-26T15:37:39.353Z"
      },
      {
        "duration": 6,
        "start_time": "2022-11-26T15:39:51.899Z"
      },
      {
        "duration": 7,
        "start_time": "2022-11-26T15:39:52.507Z"
      },
      {
        "duration": 7,
        "start_time": "2022-11-26T15:39:52.829Z"
      },
      {
        "duration": 14,
        "start_time": "2022-11-26T15:39:53.614Z"
      },
      {
        "duration": 11,
        "start_time": "2022-11-26T15:39:53.900Z"
      },
      {
        "duration": 7,
        "start_time": "2022-11-26T15:39:54.378Z"
      },
      {
        "duration": 8,
        "start_time": "2022-11-26T15:39:54.779Z"
      },
      {
        "duration": 6,
        "start_time": "2022-11-26T15:39:58.471Z"
      },
      {
        "duration": 7,
        "start_time": "2022-11-26T15:40:01.399Z"
      },
      {
        "duration": 6,
        "start_time": "2022-11-26T15:40:01.851Z"
      },
      {
        "duration": 11,
        "start_time": "2022-11-26T15:40:03.014Z"
      },
      {
        "duration": 11,
        "start_time": "2022-11-26T15:40:03.939Z"
      },
      {
        "duration": 14,
        "start_time": "2022-11-26T15:40:04.241Z"
      },
      {
        "duration": 27,
        "start_time": "2022-11-26T15:40:04.784Z"
      },
      {
        "duration": 22,
        "start_time": "2022-11-26T15:40:05.349Z"
      },
      {
        "duration": 30,
        "start_time": "2022-11-26T15:40:06.429Z"
      },
      {
        "duration": 5,
        "start_time": "2022-11-26T15:40:07.514Z"
      },
      {
        "duration": 9,
        "start_time": "2022-11-26T15:40:08.323Z"
      },
      {
        "duration": 4,
        "start_time": "2022-11-26T15:40:08.982Z"
      },
      {
        "duration": 4,
        "start_time": "2022-11-26T15:40:09.526Z"
      },
      {
        "duration": 22,
        "start_time": "2022-11-26T15:40:10.023Z"
      },
      {
        "duration": 13,
        "start_time": "2022-11-26T15:40:13.850Z"
      },
      {
        "duration": 3,
        "start_time": "2022-11-26T15:40:15.386Z"
      },
      {
        "duration": 292,
        "start_time": "2022-11-26T15:40:15.809Z"
      },
      {
        "duration": 4,
        "start_time": "2022-11-26T15:40:16.997Z"
      },
      {
        "duration": 330,
        "start_time": "2022-11-26T15:40:18.772Z"
      },
      {
        "duration": 95,
        "start_time": "2022-11-26T15:42:12.145Z"
      },
      {
        "duration": 237,
        "start_time": "2022-11-26T15:45:44.916Z"
      },
      {
        "duration": 96,
        "start_time": "2022-11-26T15:45:55.194Z"
      },
      {
        "duration": 127,
        "start_time": "2022-11-26T15:46:23.574Z"
      },
      {
        "duration": 28,
        "start_time": "2022-11-26T15:46:51.648Z"
      },
      {
        "duration": 3,
        "start_time": "2022-11-26T15:47:10.805Z"
      },
      {
        "duration": 201,
        "start_time": "2022-11-26T15:47:11.536Z"
      },
      {
        "duration": 29,
        "start_time": "2022-11-26T15:47:12.413Z"
      },
      {
        "duration": 14,
        "start_time": "2022-11-26T15:47:39.345Z"
      },
      {
        "duration": 201,
        "start_time": "2022-11-26T15:48:39.768Z"
      },
      {
        "duration": 3,
        "start_time": "2022-11-26T15:48:46.804Z"
      },
      {
        "duration": 14,
        "start_time": "2022-11-26T15:48:47.581Z"
      },
      {
        "duration": 5,
        "start_time": "2022-11-26T15:50:31.503Z"
      },
      {
        "duration": 8,
        "start_time": "2022-11-26T15:50:46.235Z"
      },
      {
        "duration": 16,
        "start_time": "2022-11-26T15:50:51.554Z"
      },
      {
        "duration": 5,
        "start_time": "2022-11-26T15:51:31.322Z"
      },
      {
        "duration": 14,
        "start_time": "2022-11-26T15:51:32.886Z"
      },
      {
        "duration": 44,
        "start_time": "2022-11-26T15:52:33.992Z"
      },
      {
        "duration": 289,
        "start_time": "2022-11-26T15:52:57.008Z"
      },
      {
        "duration": 308,
        "start_time": "2022-11-26T15:53:23.279Z"
      },
      {
        "duration": 173,
        "start_time": "2022-11-26T15:59:32.357Z"
      },
      {
        "duration": 179,
        "start_time": "2022-11-26T15:59:56.616Z"
      },
      {
        "duration": 33,
        "start_time": "2022-11-26T16:00:13.356Z"
      },
      {
        "duration": 11,
        "start_time": "2022-11-26T16:11:56.155Z"
      },
      {
        "duration": 12,
        "start_time": "2022-11-26T16:12:05.793Z"
      },
      {
        "duration": 7,
        "start_time": "2022-11-26T16:12:16.307Z"
      },
      {
        "duration": 10,
        "start_time": "2022-11-26T16:12:16.477Z"
      },
      {
        "duration": 3,
        "start_time": "2022-11-26T16:12:26.448Z"
      },
      {
        "duration": 94,
        "start_time": "2022-11-26T16:12:26.584Z"
      },
      {
        "duration": 48,
        "start_time": "2022-11-26T16:12:26.873Z"
      },
      {
        "duration": 1779,
        "start_time": "2022-11-26T16:12:27.162Z"
      },
      {
        "duration": 5,
        "start_time": "2022-11-26T16:12:28.943Z"
      },
      {
        "duration": 12,
        "start_time": "2022-11-26T16:12:28.949Z"
      },
      {
        "duration": 14,
        "start_time": "2022-11-26T16:12:28.962Z"
      },
      {
        "duration": 9,
        "start_time": "2022-11-26T16:12:29.016Z"
      },
      {
        "duration": 9,
        "start_time": "2022-11-26T16:12:29.619Z"
      },
      {
        "duration": 6,
        "start_time": "2022-11-26T16:12:30.188Z"
      },
      {
        "duration": 9,
        "start_time": "2022-11-26T16:12:30.377Z"
      },
      {
        "duration": 5,
        "start_time": "2022-11-26T16:12:30.723Z"
      },
      {
        "duration": 7,
        "start_time": "2022-11-26T16:12:31.651Z"
      },
      {
        "duration": 7,
        "start_time": "2022-11-26T16:12:31.826Z"
      },
      {
        "duration": 10,
        "start_time": "2022-11-26T16:12:32.173Z"
      },
      {
        "duration": 10,
        "start_time": "2022-11-26T16:12:32.518Z"
      },
      {
        "duration": 13,
        "start_time": "2022-11-26T16:12:32.677Z"
      },
      {
        "duration": 38,
        "start_time": "2022-11-26T16:12:33.022Z"
      },
      {
        "duration": 17,
        "start_time": "2022-11-26T16:12:33.208Z"
      },
      {
        "duration": 29,
        "start_time": "2022-11-26T16:12:33.539Z"
      },
      {
        "duration": 5,
        "start_time": "2022-11-26T16:12:33.904Z"
      },
      {
        "duration": 13,
        "start_time": "2022-11-26T16:12:34.275Z"
      },
      {
        "duration": 3,
        "start_time": "2022-11-26T16:12:34.456Z"
      },
      {
        "duration": 4,
        "start_time": "2022-11-26T16:12:34.642Z"
      },
      {
        "duration": 21,
        "start_time": "2022-11-26T16:12:34.812Z"
      },
      {
        "duration": 13,
        "start_time": "2022-11-26T16:12:35.537Z"
      },
      {
        "duration": 3,
        "start_time": "2022-11-26T16:12:35.708Z"
      },
      {
        "duration": 295,
        "start_time": "2022-11-26T16:12:35.882Z"
      },
      {
        "duration": 3,
        "start_time": "2022-11-26T16:12:36.179Z"
      },
      {
        "duration": 248,
        "start_time": "2022-11-26T16:12:36.238Z"
      },
      {
        "duration": 4,
        "start_time": "2022-11-26T16:12:36.488Z"
      },
      {
        "duration": 13,
        "start_time": "2022-11-26T16:12:36.595Z"
      },
      {
        "duration": 2,
        "start_time": "2022-11-26T16:12:37.349Z"
      },
      {
        "duration": 242,
        "start_time": "2022-11-26T16:12:37.742Z"
      },
      {
        "duration": 7,
        "start_time": "2022-11-26T16:12:37.986Z"
      },
      {
        "duration": 9,
        "start_time": "2022-11-26T16:12:38.172Z"
      },
      {
        "duration": 230,
        "start_time": "2022-11-26T16:12:39.073Z"
      },
      {
        "duration": 7,
        "start_time": "2022-11-26T16:12:39.519Z"
      },
      {
        "duration": 6,
        "start_time": "2022-11-26T16:12:39.850Z"
      },
      {
        "duration": 155,
        "start_time": "2022-11-26T16:12:40.812Z"
      },
      {
        "duration": 7,
        "start_time": "2022-11-26T16:12:41.272Z"
      },
      {
        "duration": 8,
        "start_time": "2022-11-26T16:12:41.689Z"
      },
      {
        "duration": 224,
        "start_time": "2022-11-26T16:12:42.524Z"
      },
      {
        "duration": 225,
        "start_time": "2022-11-26T16:13:05.016Z"
      },
      {
        "duration": 233,
        "start_time": "2022-11-26T16:13:20.922Z"
      },
      {
        "duration": 5,
        "start_time": "2022-11-26T16:13:21.156Z"
      },
      {
        "duration": 189,
        "start_time": "2022-11-26T16:13:21.607Z"
      },
      {
        "duration": 7,
        "start_time": "2022-11-26T16:13:21.798Z"
      },
      {
        "duration": 7,
        "start_time": "2022-11-26T16:13:21.931Z"
      },
      {
        "duration": 264,
        "start_time": "2022-11-26T16:13:22.503Z"
      },
      {
        "duration": 6,
        "start_time": "2022-11-26T16:13:22.769Z"
      },
      {
        "duration": 28,
        "start_time": "2022-11-26T16:13:23.212Z"
      },
      {
        "duration": 236,
        "start_time": "2022-11-26T16:13:23.757Z"
      },
      {
        "duration": 6,
        "start_time": "2022-11-26T16:13:23.995Z"
      },
      {
        "duration": 158,
        "start_time": "2022-11-26T16:13:24.419Z"
      },
      {
        "duration": 7,
        "start_time": "2022-11-26T16:13:24.590Z"
      },
      {
        "duration": 7,
        "start_time": "2022-11-26T16:13:24.766Z"
      },
      {
        "duration": 181,
        "start_time": "2022-11-26T16:13:25.300Z"
      },
      {
        "duration": 7,
        "start_time": "2022-11-26T16:13:25.528Z"
      },
      {
        "duration": 7,
        "start_time": "2022-11-26T16:13:25.707Z"
      },
      {
        "duration": 148,
        "start_time": "2022-11-26T16:13:26.278Z"
      },
      {
        "duration": 7,
        "start_time": "2022-11-26T16:13:26.473Z"
      },
      {
        "duration": 7,
        "start_time": "2022-11-26T16:13:26.667Z"
      },
      {
        "duration": 197,
        "start_time": "2022-11-26T16:13:27.505Z"
      },
      {
        "duration": 177,
        "start_time": "2022-11-26T16:13:29.372Z"
      },
      {
        "duration": 129,
        "start_time": "2022-11-26T16:13:31.444Z"
      },
      {
        "duration": 13,
        "start_time": "2022-11-26T16:13:31.820Z"
      },
      {
        "duration": 130,
        "start_time": "2022-11-26T16:13:32.557Z"
      },
      {
        "duration": 16,
        "start_time": "2022-11-26T16:13:32.903Z"
      },
      {
        "duration": 125,
        "start_time": "2022-11-26T16:13:33.744Z"
      },
      {
        "duration": 150,
        "start_time": "2022-11-26T16:13:34.703Z"
      },
      {
        "duration": 13,
        "start_time": "2022-11-26T16:13:35.171Z"
      },
      {
        "duration": 262,
        "start_time": "2022-11-26T16:13:41.843Z"
      },
      {
        "duration": 27,
        "start_time": "2022-11-26T16:13:52.574Z"
      },
      {
        "duration": 25,
        "start_time": "2022-11-26T16:14:33.486Z"
      },
      {
        "duration": 18,
        "start_time": "2022-11-26T16:14:41.404Z"
      },
      {
        "duration": 135,
        "start_time": "2022-11-26T16:15:47.036Z"
      },
      {
        "duration": 14,
        "start_time": "2022-11-26T16:16:06.623Z"
      },
      {
        "duration": 165,
        "start_time": "2022-11-26T16:17:50.433Z"
      },
      {
        "duration": 14,
        "start_time": "2022-11-26T16:22:28.352Z"
      },
      {
        "duration": 150,
        "start_time": "2022-11-26T16:24:16.181Z"
      },
      {
        "duration": 15,
        "start_time": "2022-11-26T16:24:25.070Z"
      },
      {
        "duration": 187,
        "start_time": "2022-11-26T16:24:35.583Z"
      },
      {
        "duration": 49,
        "start_time": "2022-11-26T16:28:10.671Z"
      },
      {
        "duration": 75,
        "start_time": "2022-11-26T16:30:41.134Z"
      },
      {
        "duration": 8,
        "start_time": "2022-11-26T16:30:50.596Z"
      },
      {
        "duration": 26,
        "start_time": "2022-11-26T16:30:51.027Z"
      },
      {
        "duration": 17,
        "start_time": "2022-11-26T16:31:00.980Z"
      },
      {
        "duration": 754,
        "start_time": "2022-11-26T16:32:45.034Z"
      },
      {
        "duration": 17,
        "start_time": "2022-11-26T16:33:26.873Z"
      },
      {
        "duration": 147,
        "start_time": "2022-11-26T16:34:26.711Z"
      },
      {
        "duration": 43,
        "start_time": "2022-11-26T16:37:13.354Z"
      },
      {
        "duration": 102,
        "start_time": "2022-11-26T16:38:16.913Z"
      },
      {
        "duration": 131,
        "start_time": "2022-11-26T16:38:36.102Z"
      },
      {
        "duration": 421,
        "start_time": "2022-11-27T08:15:03.307Z"
      },
      {
        "duration": 119,
        "start_time": "2022-11-27T08:15:03.730Z"
      },
      {
        "duration": 63,
        "start_time": "2022-11-27T08:15:03.851Z"
      },
      {
        "duration": 2210,
        "start_time": "2022-11-27T08:15:03.916Z"
      },
      {
        "duration": 10,
        "start_time": "2022-11-27T08:15:06.127Z"
      },
      {
        "duration": 8,
        "start_time": "2022-11-27T08:15:06.139Z"
      },
      {
        "duration": 8,
        "start_time": "2022-11-27T08:15:06.148Z"
      },
      {
        "duration": 14,
        "start_time": "2022-11-27T08:15:06.157Z"
      },
      {
        "duration": 10,
        "start_time": "2022-11-27T08:15:06.172Z"
      },
      {
        "duration": 5,
        "start_time": "2022-11-27T08:15:06.185Z"
      },
      {
        "duration": 50,
        "start_time": "2022-11-27T08:15:06.191Z"
      },
      {
        "duration": 7,
        "start_time": "2022-11-27T08:15:06.243Z"
      },
      {
        "duration": 6,
        "start_time": "2022-11-27T08:15:06.251Z"
      },
      {
        "duration": 5,
        "start_time": "2022-11-27T08:15:06.259Z"
      },
      {
        "duration": 8,
        "start_time": "2022-11-27T08:15:06.265Z"
      },
      {
        "duration": 8,
        "start_time": "2022-11-27T08:15:06.274Z"
      },
      {
        "duration": 12,
        "start_time": "2022-11-27T08:15:06.284Z"
      },
      {
        "duration": 69,
        "start_time": "2022-11-27T08:15:06.298Z"
      },
      {
        "duration": 20,
        "start_time": "2022-11-27T08:15:06.369Z"
      },
      {
        "duration": 48,
        "start_time": "2022-11-27T08:15:06.391Z"
      },
      {
        "duration": 6,
        "start_time": "2022-11-27T08:15:06.441Z"
      },
      {
        "duration": 11,
        "start_time": "2022-11-27T08:15:06.449Z"
      },
      {
        "duration": 4,
        "start_time": "2022-11-27T08:15:06.462Z"
      },
      {
        "duration": 10,
        "start_time": "2022-11-27T08:15:06.467Z"
      },
      {
        "duration": 31,
        "start_time": "2022-11-27T08:15:06.479Z"
      },
      {
        "duration": 38,
        "start_time": "2022-11-27T08:15:06.512Z"
      },
      {
        "duration": 2,
        "start_time": "2022-11-27T08:15:06.552Z"
      },
      {
        "duration": 319,
        "start_time": "2022-11-27T08:15:06.559Z"
      },
      {
        "duration": 2,
        "start_time": "2022-11-27T08:15:06.880Z"
      },
      {
        "duration": 262,
        "start_time": "2022-11-27T08:15:06.884Z"
      },
      {
        "duration": 5,
        "start_time": "2022-11-27T08:15:07.147Z"
      },
      {
        "duration": 16,
        "start_time": "2022-11-27T08:15:07.153Z"
      },
      {
        "duration": 2,
        "start_time": "2022-11-27T08:15:07.171Z"
      },
      {
        "duration": 247,
        "start_time": "2022-11-27T08:15:07.175Z"
      },
      {
        "duration": 15,
        "start_time": "2022-11-27T08:15:07.423Z"
      },
      {
        "duration": 7,
        "start_time": "2022-11-27T08:15:07.440Z"
      },
      {
        "duration": 268,
        "start_time": "2022-11-27T08:15:07.448Z"
      },
      {
        "duration": 6,
        "start_time": "2022-11-27T08:15:07.718Z"
      },
      {
        "duration": 7,
        "start_time": "2022-11-27T08:15:07.737Z"
      },
      {
        "duration": 169,
        "start_time": "2022-11-27T08:15:07.746Z"
      },
      {
        "duration": 6,
        "start_time": "2022-11-27T08:15:07.917Z"
      },
      {
        "duration": 8,
        "start_time": "2022-11-27T08:15:07.938Z"
      },
      {
        "duration": 250,
        "start_time": "2022-11-27T08:15:07.947Z"
      },
      {
        "duration": 7,
        "start_time": "2022-11-27T08:15:08.199Z"
      },
      {
        "duration": 9,
        "start_time": "2022-11-27T08:15:08.208Z"
      },
      {
        "duration": 270,
        "start_time": "2022-11-27T08:15:08.218Z"
      },
      {
        "duration": 6,
        "start_time": "2022-11-27T08:15:08.489Z"
      },
      {
        "duration": 193,
        "start_time": "2022-11-27T08:15:08.496Z"
      },
      {
        "duration": 5,
        "start_time": "2022-11-27T08:15:08.691Z"
      },
      {
        "duration": 22,
        "start_time": "2022-11-27T08:15:08.697Z"
      },
      {
        "duration": 195,
        "start_time": "2022-11-27T08:15:08.720Z"
      },
      {
        "duration": 20,
        "start_time": "2022-11-27T08:15:08.917Z"
      },
      {
        "duration": 41,
        "start_time": "2022-11-27T08:15:08.940Z"
      },
      {
        "duration": 364,
        "start_time": "2022-11-27T08:15:08.983Z"
      },
      {
        "duration": 7,
        "start_time": "2022-11-27T08:15:09.348Z"
      },
      {
        "duration": 201,
        "start_time": "2022-11-27T08:15:09.357Z"
      },
      {
        "duration": 8,
        "start_time": "2022-11-27T08:15:09.561Z"
      },
      {
        "duration": 26,
        "start_time": "2022-11-27T08:15:09.570Z"
      },
      {
        "duration": 164,
        "start_time": "2022-11-27T08:15:09.598Z"
      },
      {
        "duration": 7,
        "start_time": "2022-11-27T08:15:09.764Z"
      },
      {
        "duration": 23,
        "start_time": "2022-11-27T08:15:09.772Z"
      },
      {
        "duration": 188,
        "start_time": "2022-11-27T08:15:09.797Z"
      },
      {
        "duration": 6,
        "start_time": "2022-11-27T08:15:09.986Z"
      },
      {
        "duration": 18,
        "start_time": "2022-11-27T08:15:09.994Z"
      },
      {
        "duration": 238,
        "start_time": "2022-11-27T08:15:10.014Z"
      },
      {
        "duration": 192,
        "start_time": "2022-11-27T08:15:10.254Z"
      },
      {
        "duration": 140,
        "start_time": "2022-11-27T08:15:10.447Z"
      },
      {
        "duration": 15,
        "start_time": "2022-11-27T08:15:10.589Z"
      },
      {
        "duration": 151,
        "start_time": "2022-11-27T08:15:10.606Z"
      },
      {
        "duration": 16,
        "start_time": "2022-11-27T08:15:10.759Z"
      },
      {
        "duration": 139,
        "start_time": "2022-11-27T08:15:10.777Z"
      },
      {
        "duration": 171,
        "start_time": "2022-11-27T08:15:10.918Z"
      },
      {
        "duration": 13,
        "start_time": "2022-11-27T08:15:11.091Z"
      },
      {
        "duration": 22,
        "start_time": "2022-11-27T08:15:11.106Z"
      },
      {
        "duration": 155,
        "start_time": "2022-11-27T08:15:11.130Z"
      },
      {
        "duration": 15,
        "start_time": "2022-11-27T08:15:11.287Z"
      },
      {
        "duration": 5,
        "start_time": "2022-11-27T08:15:11.304Z"
      },
      {
        "duration": 269,
        "start_time": "2022-11-27T08:15:11.311Z"
      },
      {
        "duration": 15,
        "start_time": "2022-11-27T08:15:11.582Z"
      },
      {
        "duration": 14,
        "start_time": "2022-11-27T08:15:11.598Z"
      },
      {
        "duration": 173,
        "start_time": "2022-11-27T08:15:11.614Z"
      },
      {
        "duration": 13,
        "start_time": "2022-11-27T08:15:11.792Z"
      },
      {
        "duration": 16,
        "start_time": "2022-11-27T08:15:11.806Z"
      },
      {
        "duration": 155,
        "start_time": "2022-11-27T08:15:11.824Z"
      },
      {
        "duration": 14,
        "start_time": "2022-11-27T08:15:11.980Z"
      },
      {
        "duration": 161,
        "start_time": "2022-11-27T08:15:11.995Z"
      },
      {
        "duration": 14,
        "start_time": "2022-11-27T08:15:12.158Z"
      },
      {
        "duration": 187,
        "start_time": "2022-11-27T08:15:12.174Z"
      },
      {
        "duration": 162,
        "start_time": "2022-11-27T08:15:12.362Z"
      },
      {
        "duration": 162,
        "start_time": "2022-11-27T08:15:12.526Z"
      },
      {
        "duration": 7,
        "start_time": "2022-11-27T08:15:12.690Z"
      },
      {
        "duration": 35,
        "start_time": "2022-11-27T08:15:12.699Z"
      },
      {
        "duration": 25,
        "start_time": "2022-11-27T08:15:12.738Z"
      },
      {
        "duration": 147,
        "start_time": "2022-11-27T08:15:12.764Z"
      },
      {
        "duration": 151,
        "start_time": "2022-11-27T08:16:13.638Z"
      },
      {
        "duration": 102,
        "start_time": "2022-11-27T08:16:27.179Z"
      },
      {
        "duration": 40,
        "start_time": "2022-11-27T13:55:34.854Z"
      },
      {
        "duration": 2,
        "start_time": "2022-11-27T13:55:50.886Z"
      },
      {
        "duration": 103,
        "start_time": "2022-11-27T13:55:51.385Z"
      },
      {
        "duration": 47,
        "start_time": "2022-11-27T13:55:52.405Z"
      },
      {
        "duration": 1833,
        "start_time": "2022-11-27T13:55:52.678Z"
      },
      {
        "duration": 8,
        "start_time": "2022-11-27T13:55:54.513Z"
      },
      {
        "duration": 6,
        "start_time": "2022-11-27T13:55:54.735Z"
      },
      {
        "duration": 6,
        "start_time": "2022-11-27T13:55:54.922Z"
      },
      {
        "duration": 13,
        "start_time": "2022-11-27T13:55:55.497Z"
      },
      {
        "duration": 8,
        "start_time": "2022-11-27T13:55:55.678Z"
      },
      {
        "duration": 7,
        "start_time": "2022-11-27T13:55:56.037Z"
      },
      {
        "duration": 7,
        "start_time": "2022-11-27T13:55:56.225Z"
      },
      {
        "duration": 6,
        "start_time": "2022-11-27T13:55:56.577Z"
      },
      {
        "duration": 7,
        "start_time": "2022-11-27T13:55:57.736Z"
      },
      {
        "duration": 7,
        "start_time": "2022-11-27T13:55:57.917Z"
      },
      {
        "duration": 9,
        "start_time": "2022-11-27T13:55:58.269Z"
      },
      {
        "duration": 12,
        "start_time": "2022-11-27T13:55:58.648Z"
      },
      {
        "duration": 12,
        "start_time": "2022-11-27T13:55:58.871Z"
      },
      {
        "duration": 26,
        "start_time": "2022-11-27T13:55:59.293Z"
      },
      {
        "duration": 17,
        "start_time": "2022-11-27T13:55:59.492Z"
      },
      {
        "duration": 32,
        "start_time": "2022-11-27T13:55:59.920Z"
      },
      {
        "duration": 5,
        "start_time": "2022-11-27T13:56:00.413Z"
      },
      {
        "duration": 11,
        "start_time": "2022-11-27T13:56:00.982Z"
      },
      {
        "duration": 4,
        "start_time": "2022-11-27T13:56:01.173Z"
      },
      {
        "duration": 4,
        "start_time": "2022-11-27T13:56:01.313Z"
      },
      {
        "duration": 26,
        "start_time": "2022-11-27T13:56:01.533Z"
      },
      {
        "duration": 84,
        "start_time": "2022-11-27T13:57:37.850Z"
      },
      {
        "duration": 64,
        "start_time": "2022-11-27T13:59:27.427Z"
      },
      {
        "duration": 68,
        "start_time": "2022-11-27T13:59:47.547Z"
      },
      {
        "duration": 81,
        "start_time": "2022-11-27T14:00:48.238Z"
      },
      {
        "duration": 136,
        "start_time": "2022-11-27T14:00:51.616Z"
      },
      {
        "duration": 2,
        "start_time": "2022-11-27T14:05:40.905Z"
      },
      {
        "duration": 105,
        "start_time": "2022-11-27T14:05:43.399Z"
      },
      {
        "duration": 44,
        "start_time": "2022-11-27T14:05:45.720Z"
      },
      {
        "duration": 1815,
        "start_time": "2022-11-27T14:05:46.018Z"
      },
      {
        "duration": 7,
        "start_time": "2022-11-27T14:05:47.835Z"
      },
      {
        "duration": 6,
        "start_time": "2022-11-27T14:05:48.580Z"
      },
      {
        "duration": 5,
        "start_time": "2022-11-27T14:05:48.804Z"
      },
      {
        "duration": 10,
        "start_time": "2022-11-27T14:05:49.246Z"
      },
      {
        "duration": 9,
        "start_time": "2022-11-27T14:05:49.447Z"
      },
      {
        "duration": 6,
        "start_time": "2022-11-27T14:05:50.008Z"
      },
      {
        "duration": 8,
        "start_time": "2022-11-27T14:05:50.157Z"
      },
      {
        "duration": 5,
        "start_time": "2022-11-27T14:05:50.598Z"
      },
      {
        "duration": 6,
        "start_time": "2022-11-27T14:05:51.805Z"
      },
      {
        "duration": 7,
        "start_time": "2022-11-27T14:05:51.921Z"
      },
      {
        "duration": 9,
        "start_time": "2022-11-27T14:05:52.338Z"
      },
      {
        "duration": 8,
        "start_time": "2022-11-27T14:05:52.735Z"
      },
      {
        "duration": 13,
        "start_time": "2022-11-27T14:05:52.889Z"
      },
      {
        "duration": 25,
        "start_time": "2022-11-27T14:05:53.302Z"
      },
      {
        "duration": 24,
        "start_time": "2022-11-27T14:05:53.478Z"
      },
      {
        "duration": 29,
        "start_time": "2022-11-27T14:05:53.870Z"
      },
      {
        "duration": 6,
        "start_time": "2022-11-27T14:05:54.232Z"
      },
      {
        "duration": 12,
        "start_time": "2022-11-27T14:05:54.626Z"
      },
      {
        "duration": 4,
        "start_time": "2022-11-27T14:05:54.822Z"
      },
      {
        "duration": 4,
        "start_time": "2022-11-27T14:05:55.021Z"
      },
      {
        "duration": 21,
        "start_time": "2022-11-27T14:05:55.232Z"
      },
      {
        "duration": 85,
        "start_time": "2022-11-27T14:05:56.261Z"
      },
      {
        "duration": 135,
        "start_time": "2022-11-27T14:05:56.451Z"
      },
      {
        "duration": 14,
        "start_time": "2022-11-27T14:05:57.352Z"
      },
      {
        "duration": 3,
        "start_time": "2022-11-27T14:05:57.630Z"
      },
      {
        "duration": 453,
        "start_time": "2022-11-27T14:05:58.270Z"
      },
      {
        "duration": 2,
        "start_time": "2022-11-27T14:05:58.726Z"
      },
      {
        "duration": 279,
        "start_time": "2022-11-27T14:05:59.317Z"
      },
      {
        "duration": 5,
        "start_time": "2022-11-27T14:05:59.858Z"
      },
      {
        "duration": 13,
        "start_time": "2022-11-27T14:06:16.043Z"
      },
      {
        "duration": 147,
        "start_time": "2022-11-27T14:06:25.077Z"
      },
      {
        "duration": 339,
        "start_time": "2022-11-27T14:06:35.867Z"
      },
      {
        "duration": 100,
        "start_time": "2022-11-27T14:06:36.399Z"
      },
      {
        "duration": 53,
        "start_time": "2022-11-27T14:06:39.657Z"
      },
      {
        "duration": 2024,
        "start_time": "2022-11-27T14:06:40.560Z"
      },
      {
        "duration": 6,
        "start_time": "2022-11-27T14:06:43.149Z"
      },
      {
        "duration": 6,
        "start_time": "2022-11-27T14:06:43.645Z"
      },
      {
        "duration": 6,
        "start_time": "2022-11-27T14:06:43.837Z"
      },
      {
        "duration": 15,
        "start_time": "2022-11-27T14:06:44.845Z"
      },
      {
        "duration": 11,
        "start_time": "2022-11-27T14:06:45.007Z"
      },
      {
        "duration": 7,
        "start_time": "2022-11-27T14:06:45.459Z"
      },
      {
        "duration": 8,
        "start_time": "2022-11-27T14:06:45.719Z"
      },
      {
        "duration": 5,
        "start_time": "2022-11-27T14:06:46.188Z"
      },
      {
        "duration": 6,
        "start_time": "2022-11-27T14:06:47.885Z"
      },
      {
        "duration": 6,
        "start_time": "2022-11-27T14:06:48.278Z"
      },
      {
        "duration": 9,
        "start_time": "2022-11-27T14:06:50.940Z"
      },
      {
        "duration": 10,
        "start_time": "2022-11-27T14:06:51.509Z"
      },
      {
        "duration": 16,
        "start_time": "2022-11-27T14:06:52.050Z"
      },
      {
        "duration": 30,
        "start_time": "2022-11-27T14:06:53.149Z"
      },
      {
        "duration": 20,
        "start_time": "2022-11-27T14:06:56.860Z"
      },
      {
        "duration": 31,
        "start_time": "2022-11-27T14:06:57.580Z"
      },
      {
        "duration": 7,
        "start_time": "2022-11-27T14:06:58.199Z"
      },
      {
        "duration": 12,
        "start_time": "2022-11-27T14:07:01.390Z"
      },
      {
        "duration": 3,
        "start_time": "2022-11-27T14:07:03.550Z"
      },
      {
        "duration": 124,
        "start_time": "2022-11-27T14:07:08.989Z"
      },
      {
        "duration": 119,
        "start_time": "2022-11-27T14:07:20.197Z"
      },
      {
        "duration": 206,
        "start_time": "2022-11-27T14:08:10.462Z"
      },
      {
        "duration": 46,
        "start_time": "2022-11-27T14:09:03.107Z"
      },
      {
        "duration": 30,
        "start_time": "2022-11-27T14:09:25.197Z"
      },
      {
        "duration": 336,
        "start_time": "2022-11-27T14:10:13.179Z"
      },
      {
        "duration": 103,
        "start_time": "2022-11-27T14:10:14.197Z"
      },
      {
        "duration": 40,
        "start_time": "2022-11-27T14:10:40.182Z"
      },
      {
        "duration": 48,
        "start_time": "2022-11-27T14:11:23.075Z"
      },
      {
        "duration": 355,
        "start_time": "2022-11-27T14:11:24.477Z"
      },
      {
        "duration": 35,
        "start_time": "2022-11-27T14:11:37.936Z"
      },
      {
        "duration": 61,
        "start_time": "2022-11-27T14:11:58.579Z"
      },
      {
        "duration": 414,
        "start_time": "2022-11-27T14:12:09.500Z"
      },
      {
        "duration": 100,
        "start_time": "2022-11-27T14:12:10.072Z"
      },
      {
        "duration": 58,
        "start_time": "2022-11-27T14:12:17.529Z"
      },
      {
        "duration": 47,
        "start_time": "2022-11-27T14:12:28.699Z"
      },
      {
        "duration": 44,
        "start_time": "2022-11-27T14:12:35.437Z"
      },
      {
        "duration": 391,
        "start_time": "2022-11-27T14:12:52.019Z"
      },
      {
        "duration": 103,
        "start_time": "2022-11-27T14:12:52.526Z"
      },
      {
        "duration": 70,
        "start_time": "2022-11-27T14:13:08.580Z"
      },
      {
        "duration": 339,
        "start_time": "2022-11-27T14:13:21.893Z"
      },
      {
        "duration": 56,
        "start_time": "2022-11-27T14:13:34.529Z"
      },
      {
        "duration": 133,
        "start_time": "2022-11-27T14:13:34.848Z"
      },
      {
        "duration": 34,
        "start_time": "2022-11-27T14:13:48.420Z"
      },
      {
        "duration": 57,
        "start_time": "2022-11-27T14:13:58.190Z"
      },
      {
        "duration": 129,
        "start_time": "2022-11-27T14:14:12.390Z"
      },
      {
        "duration": 129,
        "start_time": "2022-11-27T14:14:16.250Z"
      },
      {
        "duration": 48,
        "start_time": "2022-11-27T14:14:36.468Z"
      },
      {
        "duration": 8,
        "start_time": "2022-11-27T14:16:00.530Z"
      },
      {
        "duration": 48,
        "start_time": "2022-11-27T14:16:05.091Z"
      },
      {
        "duration": 195,
        "start_time": "2022-11-27T14:16:10.580Z"
      },
      {
        "duration": 141,
        "start_time": "2022-11-27T14:16:52.340Z"
      },
      {
        "duration": 8,
        "start_time": "2022-11-27T14:17:14.287Z"
      },
      {
        "duration": 152,
        "start_time": "2022-11-27T14:17:18.068Z"
      },
      {
        "duration": 43,
        "start_time": "2022-11-27T14:17:25.222Z"
      },
      {
        "duration": 146,
        "start_time": "2022-11-27T14:18:13.740Z"
      },
      {
        "duration": 145,
        "start_time": "2022-11-27T14:18:53.408Z"
      },
      {
        "duration": 3,
        "start_time": "2022-11-27T14:19:12.150Z"
      },
      {
        "duration": 13,
        "start_time": "2022-11-27T14:19:17.528Z"
      },
      {
        "duration": 50,
        "start_time": "2022-11-27T14:19:35.670Z"
      },
      {
        "duration": 3,
        "start_time": "2022-11-27T14:20:03.620Z"
      },
      {
        "duration": 149,
        "start_time": "2022-11-27T14:20:09.380Z"
      },
      {
        "duration": 3,
        "start_time": "2022-11-27T14:20:50.208Z"
      },
      {
        "duration": 47,
        "start_time": "2022-11-27T14:21:05.290Z"
      },
      {
        "duration": 154,
        "start_time": "2022-11-27T14:21:11.679Z"
      },
      {
        "duration": 191,
        "start_time": "2022-11-27T14:21:35.488Z"
      },
      {
        "duration": 157,
        "start_time": "2022-11-27T14:22:26.695Z"
      },
      {
        "duration": 8,
        "start_time": "2022-11-27T14:22:32.418Z"
      },
      {
        "duration": 149,
        "start_time": "2022-11-27T14:22:40.798Z"
      },
      {
        "duration": 151,
        "start_time": "2022-11-27T14:22:51.272Z"
      },
      {
        "duration": 7,
        "start_time": "2022-11-27T14:25:37.676Z"
      },
      {
        "duration": 203,
        "start_time": "2022-11-27T14:27:11.667Z"
      },
      {
        "duration": 160,
        "start_time": "2022-11-27T14:27:31.823Z"
      },
      {
        "duration": 20,
        "start_time": "2022-11-27T14:28:00.738Z"
      },
      {
        "duration": 8,
        "start_time": "2022-11-27T14:29:26.703Z"
      },
      {
        "duration": 21,
        "start_time": "2022-11-27T14:30:04.001Z"
      },
      {
        "duration": 3,
        "start_time": "2022-11-27T14:30:30.350Z"
      },
      {
        "duration": 201,
        "start_time": "2022-11-27T14:30:31.150Z"
      },
      {
        "duration": 8,
        "start_time": "2022-11-27T14:30:31.934Z"
      },
      {
        "duration": 2,
        "start_time": "2022-11-27T14:30:56.372Z"
      },
      {
        "duration": 100,
        "start_time": "2022-11-27T14:30:56.778Z"
      },
      {
        "duration": 50,
        "start_time": "2022-11-27T14:30:57.104Z"
      },
      {
        "duration": 1765,
        "start_time": "2022-11-27T14:30:57.430Z"
      },
      {
        "duration": 6,
        "start_time": "2022-11-27T14:30:59.198Z"
      },
      {
        "duration": 6,
        "start_time": "2022-11-27T14:30:59.398Z"
      },
      {
        "duration": 6,
        "start_time": "2022-11-27T14:30:59.631Z"
      },
      {
        "duration": 10,
        "start_time": "2022-11-27T14:31:00.138Z"
      },
      {
        "duration": 9,
        "start_time": "2022-11-27T14:31:00.330Z"
      },
      {
        "duration": 8,
        "start_time": "2022-11-27T14:31:00.690Z"
      },
      {
        "duration": 8,
        "start_time": "2022-11-27T14:31:00.879Z"
      },
      {
        "duration": 5,
        "start_time": "2022-11-27T14:31:01.319Z"
      },
      {
        "duration": 7,
        "start_time": "2022-11-27T14:31:02.429Z"
      },
      {
        "duration": 10,
        "start_time": "2022-11-27T14:31:02.632Z"
      },
      {
        "duration": 9,
        "start_time": "2022-11-27T14:31:03.030Z"
      },
      {
        "duration": 9,
        "start_time": "2022-11-27T14:31:03.401Z"
      },
      {
        "duration": 96,
        "start_time": "2022-11-27T14:31:03.606Z"
      },
      {
        "duration": 30,
        "start_time": "2022-11-27T14:31:04.031Z"
      },
      {
        "duration": 18,
        "start_time": "2022-11-27T14:31:04.196Z"
      },
      {
        "duration": 29,
        "start_time": "2022-11-27T14:31:04.633Z"
      },
      {
        "duration": 6,
        "start_time": "2022-11-27T14:31:05.088Z"
      },
      {
        "duration": 10,
        "start_time": "2022-11-27T14:31:05.565Z"
      },
      {
        "duration": 3,
        "start_time": "2022-11-27T14:31:05.767Z"
      },
      {
        "duration": 5,
        "start_time": "2022-11-27T14:31:06.238Z"
      },
      {
        "duration": 30,
        "start_time": "2022-11-27T14:31:06.721Z"
      },
      {
        "duration": 6,
        "start_time": "2022-11-27T14:31:08.390Z"
      },
      {
        "duration": 166,
        "start_time": "2022-11-27T14:31:09.228Z"
      },
      {
        "duration": 4,
        "start_time": "2022-11-27T14:31:35.400Z"
      },
      {
        "duration": 254,
        "start_time": "2022-11-27T14:31:36.328Z"
      },
      {
        "duration": 5,
        "start_time": "2022-11-27T14:31:37.668Z"
      },
      {
        "duration": 16,
        "start_time": "2022-11-27T14:32:01.343Z"
      },
      {
        "duration": 12,
        "start_time": "2022-11-27T14:32:40.498Z"
      },
      {
        "duration": 18,
        "start_time": "2022-11-27T14:32:55.071Z"
      },
      {
        "duration": 131,
        "start_time": "2022-11-27T14:32:58.350Z"
      },
      {
        "duration": 44,
        "start_time": "2022-11-27T14:36:39.146Z"
      },
      {
        "duration": 61,
        "start_time": "2022-11-27T14:39:02.339Z"
      },
      {
        "duration": 529,
        "start_time": "2022-11-27T19:29:18.606Z"
      },
      {
        "duration": 130,
        "start_time": "2022-11-27T19:29:19.138Z"
      },
      {
        "duration": 74,
        "start_time": "2022-11-27T19:29:19.270Z"
      },
      {
        "duration": 2363,
        "start_time": "2022-11-27T19:29:19.346Z"
      },
      {
        "duration": 7,
        "start_time": "2022-11-27T19:29:21.711Z"
      },
      {
        "duration": 24,
        "start_time": "2022-11-27T19:29:21.719Z"
      },
      {
        "duration": 8,
        "start_time": "2022-11-27T19:29:21.745Z"
      },
      {
        "duration": 13,
        "start_time": "2022-11-27T19:29:21.755Z"
      },
      {
        "duration": 10,
        "start_time": "2022-11-27T19:29:21.770Z"
      },
      {
        "duration": 5,
        "start_time": "2022-11-27T19:29:21.782Z"
      },
      {
        "duration": 7,
        "start_time": "2022-11-27T19:29:21.789Z"
      },
      {
        "duration": 5,
        "start_time": "2022-11-27T19:29:21.797Z"
      },
      {
        "duration": 9,
        "start_time": "2022-11-27T19:29:21.837Z"
      },
      {
        "duration": 13,
        "start_time": "2022-11-27T19:29:21.850Z"
      },
      {
        "duration": 84,
        "start_time": "2022-11-27T19:29:21.865Z"
      },
      {
        "duration": 9,
        "start_time": "2022-11-27T19:29:21.951Z"
      },
      {
        "duration": 14,
        "start_time": "2022-11-27T19:29:21.962Z"
      },
      {
        "duration": 33,
        "start_time": "2022-11-27T19:29:21.978Z"
      },
      {
        "duration": 39,
        "start_time": "2022-11-27T19:29:22.013Z"
      },
      {
        "duration": 44,
        "start_time": "2022-11-27T19:29:22.054Z"
      },
      {
        "duration": 15,
        "start_time": "2022-11-27T19:29:22.100Z"
      },
      {
        "duration": 9,
        "start_time": "2022-11-27T19:29:22.117Z"
      },
      {
        "duration": 11,
        "start_time": "2022-11-27T19:29:22.128Z"
      },
      {
        "duration": 7,
        "start_time": "2022-11-27T19:29:22.141Z"
      },
      {
        "duration": 31,
        "start_time": "2022-11-27T19:29:22.149Z"
      },
      {
        "duration": 6,
        "start_time": "2022-11-27T19:29:22.182Z"
      },
      {
        "duration": 187,
        "start_time": "2022-11-27T19:29:22.190Z"
      },
      {
        "duration": 6,
        "start_time": "2022-11-27T19:29:22.381Z"
      },
      {
        "duration": 183,
        "start_time": "2022-11-27T19:29:22.389Z"
      },
      {
        "duration": 172,
        "start_time": "2022-11-27T19:29:22.574Z"
      },
      {
        "duration": 170,
        "start_time": "2022-11-27T19:29:22.748Z"
      },
      {
        "duration": 18,
        "start_time": "2022-11-27T19:29:22.920Z"
      },
      {
        "duration": 4,
        "start_time": "2022-11-27T19:29:22.939Z"
      },
      {
        "duration": 400,
        "start_time": "2022-11-27T19:29:22.945Z"
      },
      {
        "duration": 3,
        "start_time": "2022-11-27T19:29:23.347Z"
      },
      {
        "duration": 275,
        "start_time": "2022-11-27T19:29:23.352Z"
      },
      {
        "duration": 10,
        "start_time": "2022-11-27T19:29:23.629Z"
      },
      {
        "duration": 17,
        "start_time": "2022-11-27T19:29:23.640Z"
      },
      {
        "duration": 3,
        "start_time": "2022-11-27T19:29:23.658Z"
      },
      {
        "duration": 194,
        "start_time": "2022-11-27T19:29:23.662Z"
      },
      {
        "duration": 8,
        "start_time": "2022-11-27T19:29:23.858Z"
      },
      {
        "duration": 10,
        "start_time": "2022-11-27T19:29:23.867Z"
      },
      {
        "duration": 265,
        "start_time": "2022-11-27T19:29:23.879Z"
      },
      {
        "duration": 10,
        "start_time": "2022-11-27T19:29:24.146Z"
      },
      {
        "duration": 9,
        "start_time": "2022-11-27T19:29:24.158Z"
      },
      {
        "duration": 195,
        "start_time": "2022-11-27T19:29:24.169Z"
      },
      {
        "duration": 6,
        "start_time": "2022-11-27T19:29:24.366Z"
      },
      {
        "duration": 7,
        "start_time": "2022-11-27T19:29:24.374Z"
      },
      {
        "duration": 263,
        "start_time": "2022-11-27T19:29:24.382Z"
      },
      {
        "duration": 7,
        "start_time": "2022-11-27T19:29:24.646Z"
      },
      {
        "duration": 8,
        "start_time": "2022-11-27T19:29:24.655Z"
      },
      {
        "duration": 376,
        "start_time": "2022-11-27T19:29:24.664Z"
      },
      {
        "duration": 7,
        "start_time": "2022-11-27T19:29:25.043Z"
      },
      {
        "duration": 187,
        "start_time": "2022-11-27T19:29:25.051Z"
      },
      {
        "duration": 6,
        "start_time": "2022-11-27T19:29:25.239Z"
      },
      {
        "duration": 7,
        "start_time": "2022-11-27T19:29:25.247Z"
      },
      {
        "duration": 183,
        "start_time": "2022-11-27T19:29:25.255Z"
      },
      {
        "duration": 5,
        "start_time": "2022-11-27T19:29:25.440Z"
      },
      {
        "duration": 29,
        "start_time": "2022-11-27T19:29:25.447Z"
      },
      {
        "duration": 262,
        "start_time": "2022-11-27T19:29:25.478Z"
      },
      {
        "duration": 6,
        "start_time": "2022-11-27T19:29:25.742Z"
      },
      {
        "duration": 197,
        "start_time": "2022-11-27T19:29:25.749Z"
      },
      {
        "duration": 7,
        "start_time": "2022-11-27T19:29:25.948Z"
      },
      {
        "duration": 8,
        "start_time": "2022-11-27T19:29:25.957Z"
      },
      {
        "duration": 181,
        "start_time": "2022-11-27T19:29:25.967Z"
      },
      {
        "duration": 7,
        "start_time": "2022-11-27T19:29:26.150Z"
      },
      {
        "duration": 7,
        "start_time": "2022-11-27T19:29:26.159Z"
      },
      {
        "duration": 191,
        "start_time": "2022-11-27T19:29:26.168Z"
      },
      {
        "duration": 6,
        "start_time": "2022-11-27T19:29:26.361Z"
      },
      {
        "duration": 10,
        "start_time": "2022-11-27T19:29:26.369Z"
      },
      {
        "duration": 243,
        "start_time": "2022-11-27T19:29:26.381Z"
      },
      {
        "duration": 214,
        "start_time": "2022-11-27T19:29:26.626Z"
      },
      {
        "duration": 298,
        "start_time": "2022-11-27T19:29:26.841Z"
      },
      {
        "duration": 16,
        "start_time": "2022-11-27T19:29:27.141Z"
      },
      {
        "duration": 180,
        "start_time": "2022-11-27T19:29:27.159Z"
      },
      {
        "duration": 17,
        "start_time": "2022-11-27T19:29:27.341Z"
      },
      {
        "duration": 146,
        "start_time": "2022-11-27T19:29:27.361Z"
      },
      {
        "duration": 167,
        "start_time": "2022-11-27T19:29:27.509Z"
      },
      {
        "duration": 15,
        "start_time": "2022-11-27T19:29:27.678Z"
      },
      {
        "duration": 5,
        "start_time": "2022-11-27T19:29:27.694Z"
      },
      {
        "duration": 170,
        "start_time": "2022-11-27T19:29:27.701Z"
      },
      {
        "duration": 15,
        "start_time": "2022-11-27T19:29:27.876Z"
      },
      {
        "duration": 3,
        "start_time": "2022-11-27T19:29:27.892Z"
      },
      {
        "duration": 185,
        "start_time": "2022-11-27T19:29:27.897Z"
      },
      {
        "duration": 15,
        "start_time": "2022-11-27T19:29:28.084Z"
      },
      {
        "duration": 3,
        "start_time": "2022-11-27T19:29:28.100Z"
      },
      {
        "duration": 172,
        "start_time": "2022-11-27T19:29:28.105Z"
      },
      {
        "duration": 15,
        "start_time": "2022-11-27T19:29:28.279Z"
      },
      {
        "duration": 2,
        "start_time": "2022-11-27T19:29:28.296Z"
      },
      {
        "duration": 170,
        "start_time": "2022-11-27T19:29:28.301Z"
      },
      {
        "duration": 14,
        "start_time": "2022-11-27T19:29:28.473Z"
      },
      {
        "duration": 182,
        "start_time": "2022-11-27T19:29:28.489Z"
      },
      {
        "duration": 15,
        "start_time": "2022-11-27T19:29:28.673Z"
      },
      {
        "duration": 184,
        "start_time": "2022-11-27T19:29:28.690Z"
      },
      {
        "duration": 213,
        "start_time": "2022-11-27T19:29:28.876Z"
      },
      {
        "duration": 157,
        "start_time": "2022-11-27T19:29:29.091Z"
      },
      {
        "duration": 8,
        "start_time": "2022-11-27T19:29:29.250Z"
      },
      {
        "duration": 25,
        "start_time": "2022-11-27T19:29:29.260Z"
      },
      {
        "duration": 178,
        "start_time": "2022-11-27T19:29:29.286Z"
      },
      {
        "duration": 14,
        "start_time": "2022-11-27T19:29:46.281Z"
      },
      {
        "duration": 96,
        "start_time": "2022-11-27T19:30:03.451Z"
      }
    ],
    "kernelspec": {
      "display_name": "Python 3 (ipykernel)",
      "language": "python",
      "name": "python3"
    },
    "language_info": {
      "codemirror_mode": {
        "name": "ipython",
        "version": 3
      },
      "file_extension": ".py",
      "mimetype": "text/x-python",
      "name": "python",
      "nbconvert_exporter": "python",
      "pygments_lexer": "ipython3",
      "version": "3.9.5"
    },
    "toc": {
      "base_numbering": 1,
      "nav_menu": {},
      "number_sections": true,
      "sideBar": true,
      "skip_h1_title": true,
      "title_cell": "Table of Contents",
      "title_sidebar": "Contents",
      "toc_cell": false,
      "toc_position": {},
      "toc_section_display": true,
      "toc_window_display": false
    },
    "colab": {
      "provenance": []
    }
  },
  "nbformat": 4,
  "nbformat_minor": 0
}