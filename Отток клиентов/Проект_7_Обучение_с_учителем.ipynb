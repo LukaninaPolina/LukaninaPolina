{
  "cells": [
    {
      "cell_type": "markdown",
      "metadata": {
        "toc": true,
        "id": "Wqm-s9oYXFpc"
      },
      "source": [
        "<h1>Содержание<span class=\"tocSkip\"></span></h1>\n",
        "<div class=\"toc\"><ul class=\"toc-item\"><li><span><a href=\"#Подготовка-данных\" data-toc-modified-id=\"Подготовка-данных-1\"><span class=\"toc-item-num\">1&nbsp;&nbsp;</span>Подготовка данных</a></span></li><li><span><a href=\"#Исследование-задачи\" data-toc-modified-id=\"Исследование-задачи-2\"><span class=\"toc-item-num\">2&nbsp;&nbsp;</span>Исследование задачи</a></span></li><li><span><a href=\"#Борьба-с-дисбалансом\" data-toc-modified-id=\"Борьба-с-дисбалансом-3\"><span class=\"toc-item-num\">3&nbsp;&nbsp;</span>Борьба с дисбалансом</a></span></li><li><span><a href=\"#Тестирование-модели\" data-toc-modified-id=\"Тестирование-модели-4\"><span class=\"toc-item-num\">4&nbsp;&nbsp;</span>Тестирование модели</a></span></li><li><span><a href=\"#Чек-лист-готовности-проекта\" data-toc-modified-id=\"Чек-лист-готовности-проекта-5\"><span class=\"toc-item-num\">5&nbsp;&nbsp;</span>Чек-лист готовности проекта</a></span></li></ul></div>"
      ]
    },
    {
      "cell_type": "markdown",
      "metadata": {
        "id": "XTS7aqR3XFpc"
      },
      "source": [
        "# Отток клиентов"
      ]
    },
    {
      "cell_type": "markdown",
      "metadata": {
        "id": "iN98LqkqXFpc"
      },
      "source": [
        "Из «Бета-Банка» стали уходить клиенты. Каждый месяц. Немного, но заметно. Банковские маркетологи посчитали: сохранять текущих клиентов дешевле, чем привлекать новых.\n",
        "\n",
        "Нужно спрогнозировать, уйдёт клиент из банка в ближайшее время или нет. Вам предоставлены исторические данные о поведении клиентов и расторжении договоров с банком.\n",
        "\n",
        "Постройте модель с предельно большим значением *F1*-меры. Чтобы сдать проект успешно, нужно довести метрику до 0.59. Проверьте *F1*-меру на тестовой выборке самостоятельно.\n",
        "\n",
        "Дополнительно измеряйте *AUC-ROC*, сравнивайте её значение с *F1*-мерой.\n",
        "\n",
        "Источник данных: [https://www.kaggle.com/barelydedicated/bank-customer-churn-modeling](https://www.kaggle.com/barelydedicated/bank-customer-churn-modeling)"
      ]
    },
    {
      "cell_type": "markdown",
      "metadata": {
        "id": "2B-vSRCnXFpc"
      },
      "source": [
        "## Подготовка данных"
      ]
    },
    {
      "cell_type": "markdown",
      "metadata": {
        "id": "h47mCKbbXFpd"
      },
      "source": [
        "**Признаки**\n",
        "- RowNumber — индекс строки в данных\n",
        "- CustomerId — уникальный идентификатор клиента\n",
        "- Surname — фамилия\n",
        "- CreditScore — кредитный рейтинг\n",
        "- Geography — страна проживания\n",
        "- Gender — пол\n",
        "- Age — возраст\n",
        "- Tenure — сколько лет человек является клиентом банка\n",
        "- Balance — баланс на счёте\n",
        "- NumOfProducts — количество продуктов банка, используемых клиентом\n",
        "- HasCrCard — наличие кредитной карты\n",
        "- IsActiveMember — активность клиента\n",
        "- EstimatedSalary — предполагаемая зарплата"
      ]
    },
    {
      "cell_type": "markdown",
      "metadata": {
        "id": "B_3LjlfJXFpd"
      },
      "source": [
        "**Целевой признак**\n",
        "- Exited — факт ухода клиента"
      ]
    },
    {
      "cell_type": "code",
      "execution_count": null,
      "metadata": {
        "id": "3UFf_ofkXFpd"
      },
      "outputs": [],
      "source": [
        "import pandas as pd\n",
        "from sklearn.model_selection import train_test_split\n",
        "from sklearn.linear_model import LogisticRegression\n",
        "from sklearn.ensemble import RandomForestClassifier\n",
        "from sklearn.tree import DecisionTreeClassifier\n",
        "from sklearn.metrics import accuracy_score, f1_score\n",
        "from sklearn.metrics import roc_auc_score\n",
        "from sklearn.utils import shuffle\n",
        "from sklearn.preprocessing import StandardScaler"
      ]
    },
    {
      "cell_type": "code",
      "execution_count": null,
      "metadata": {
        "id": "zCsIKaK6XFpe"
      },
      "outputs": [],
      "source": [
        "data = pd.read_csv('/datasets/Churn.csv')"
      ]
    },
    {
      "cell_type": "code",
      "execution_count": null,
      "metadata": {
        "id": "60oXrWR4XFpe",
        "outputId": "75ac6a09-9f36-40e6-8eb0-21948e2f9033"
      },
      "outputs": [
        {
          "data": {
            "text/html": [
              "<div>\n",
              "<style scoped>\n",
              "    .dataframe tbody tr th:only-of-type {\n",
              "        vertical-align: middle;\n",
              "    }\n",
              "\n",
              "    .dataframe tbody tr th {\n",
              "        vertical-align: top;\n",
              "    }\n",
              "\n",
              "    .dataframe thead th {\n",
              "        text-align: right;\n",
              "    }\n",
              "</style>\n",
              "<table border=\"1\" class=\"dataframe\">\n",
              "  <thead>\n",
              "    <tr style=\"text-align: right;\">\n",
              "      <th></th>\n",
              "      <th>RowNumber</th>\n",
              "      <th>CustomerId</th>\n",
              "      <th>Surname</th>\n",
              "      <th>CreditScore</th>\n",
              "      <th>Geography</th>\n",
              "      <th>Gender</th>\n",
              "      <th>Age</th>\n",
              "      <th>Tenure</th>\n",
              "      <th>Balance</th>\n",
              "      <th>NumOfProducts</th>\n",
              "      <th>HasCrCard</th>\n",
              "      <th>IsActiveMember</th>\n",
              "      <th>EstimatedSalary</th>\n",
              "      <th>Exited</th>\n",
              "    </tr>\n",
              "  </thead>\n",
              "  <tbody>\n",
              "    <tr>\n",
              "      <th>0</th>\n",
              "      <td>1</td>\n",
              "      <td>15634602</td>\n",
              "      <td>Hargrave</td>\n",
              "      <td>619</td>\n",
              "      <td>France</td>\n",
              "      <td>Female</td>\n",
              "      <td>42</td>\n",
              "      <td>2.0</td>\n",
              "      <td>0.00</td>\n",
              "      <td>1</td>\n",
              "      <td>1</td>\n",
              "      <td>1</td>\n",
              "      <td>101348.88</td>\n",
              "      <td>1</td>\n",
              "    </tr>\n",
              "    <tr>\n",
              "      <th>1</th>\n",
              "      <td>2</td>\n",
              "      <td>15647311</td>\n",
              "      <td>Hill</td>\n",
              "      <td>608</td>\n",
              "      <td>Spain</td>\n",
              "      <td>Female</td>\n",
              "      <td>41</td>\n",
              "      <td>1.0</td>\n",
              "      <td>83807.86</td>\n",
              "      <td>1</td>\n",
              "      <td>0</td>\n",
              "      <td>1</td>\n",
              "      <td>112542.58</td>\n",
              "      <td>0</td>\n",
              "    </tr>\n",
              "    <tr>\n",
              "      <th>2</th>\n",
              "      <td>3</td>\n",
              "      <td>15619304</td>\n",
              "      <td>Onio</td>\n",
              "      <td>502</td>\n",
              "      <td>France</td>\n",
              "      <td>Female</td>\n",
              "      <td>42</td>\n",
              "      <td>8.0</td>\n",
              "      <td>159660.80</td>\n",
              "      <td>3</td>\n",
              "      <td>1</td>\n",
              "      <td>0</td>\n",
              "      <td>113931.57</td>\n",
              "      <td>1</td>\n",
              "    </tr>\n",
              "    <tr>\n",
              "      <th>3</th>\n",
              "      <td>4</td>\n",
              "      <td>15701354</td>\n",
              "      <td>Boni</td>\n",
              "      <td>699</td>\n",
              "      <td>France</td>\n",
              "      <td>Female</td>\n",
              "      <td>39</td>\n",
              "      <td>1.0</td>\n",
              "      <td>0.00</td>\n",
              "      <td>2</td>\n",
              "      <td>0</td>\n",
              "      <td>0</td>\n",
              "      <td>93826.63</td>\n",
              "      <td>0</td>\n",
              "    </tr>\n",
              "    <tr>\n",
              "      <th>4</th>\n",
              "      <td>5</td>\n",
              "      <td>15737888</td>\n",
              "      <td>Mitchell</td>\n",
              "      <td>850</td>\n",
              "      <td>Spain</td>\n",
              "      <td>Female</td>\n",
              "      <td>43</td>\n",
              "      <td>2.0</td>\n",
              "      <td>125510.82</td>\n",
              "      <td>1</td>\n",
              "      <td>1</td>\n",
              "      <td>1</td>\n",
              "      <td>79084.10</td>\n",
              "      <td>0</td>\n",
              "    </tr>\n",
              "    <tr>\n",
              "      <th>5</th>\n",
              "      <td>6</td>\n",
              "      <td>15574012</td>\n",
              "      <td>Chu</td>\n",
              "      <td>645</td>\n",
              "      <td>Spain</td>\n",
              "      <td>Male</td>\n",
              "      <td>44</td>\n",
              "      <td>8.0</td>\n",
              "      <td>113755.78</td>\n",
              "      <td>2</td>\n",
              "      <td>1</td>\n",
              "      <td>0</td>\n",
              "      <td>149756.71</td>\n",
              "      <td>1</td>\n",
              "    </tr>\n",
              "    <tr>\n",
              "      <th>6</th>\n",
              "      <td>7</td>\n",
              "      <td>15592531</td>\n",
              "      <td>Bartlett</td>\n",
              "      <td>822</td>\n",
              "      <td>France</td>\n",
              "      <td>Male</td>\n",
              "      <td>50</td>\n",
              "      <td>7.0</td>\n",
              "      <td>0.00</td>\n",
              "      <td>2</td>\n",
              "      <td>1</td>\n",
              "      <td>1</td>\n",
              "      <td>10062.80</td>\n",
              "      <td>0</td>\n",
              "    </tr>\n",
              "    <tr>\n",
              "      <th>7</th>\n",
              "      <td>8</td>\n",
              "      <td>15656148</td>\n",
              "      <td>Obinna</td>\n",
              "      <td>376</td>\n",
              "      <td>Germany</td>\n",
              "      <td>Female</td>\n",
              "      <td>29</td>\n",
              "      <td>4.0</td>\n",
              "      <td>115046.74</td>\n",
              "      <td>4</td>\n",
              "      <td>1</td>\n",
              "      <td>0</td>\n",
              "      <td>119346.88</td>\n",
              "      <td>1</td>\n",
              "    </tr>\n",
              "    <tr>\n",
              "      <th>8</th>\n",
              "      <td>9</td>\n",
              "      <td>15792365</td>\n",
              "      <td>He</td>\n",
              "      <td>501</td>\n",
              "      <td>France</td>\n",
              "      <td>Male</td>\n",
              "      <td>44</td>\n",
              "      <td>4.0</td>\n",
              "      <td>142051.07</td>\n",
              "      <td>2</td>\n",
              "      <td>0</td>\n",
              "      <td>1</td>\n",
              "      <td>74940.50</td>\n",
              "      <td>0</td>\n",
              "    </tr>\n",
              "    <tr>\n",
              "      <th>9</th>\n",
              "      <td>10</td>\n",
              "      <td>15592389</td>\n",
              "      <td>H?</td>\n",
              "      <td>684</td>\n",
              "      <td>France</td>\n",
              "      <td>Male</td>\n",
              "      <td>27</td>\n",
              "      <td>2.0</td>\n",
              "      <td>134603.88</td>\n",
              "      <td>1</td>\n",
              "      <td>1</td>\n",
              "      <td>1</td>\n",
              "      <td>71725.73</td>\n",
              "      <td>0</td>\n",
              "    </tr>\n",
              "  </tbody>\n",
              "</table>\n",
              "</div>"
            ],
            "text/plain": [
              "   RowNumber  CustomerId   Surname  CreditScore Geography  Gender  Age  \\\n",
              "0          1    15634602  Hargrave          619    France  Female   42   \n",
              "1          2    15647311      Hill          608     Spain  Female   41   \n",
              "2          3    15619304      Onio          502    France  Female   42   \n",
              "3          4    15701354      Boni          699    France  Female   39   \n",
              "4          5    15737888  Mitchell          850     Spain  Female   43   \n",
              "5          6    15574012       Chu          645     Spain    Male   44   \n",
              "6          7    15592531  Bartlett          822    France    Male   50   \n",
              "7          8    15656148    Obinna          376   Germany  Female   29   \n",
              "8          9    15792365        He          501    France    Male   44   \n",
              "9         10    15592389        H?          684    France    Male   27   \n",
              "\n",
              "   Tenure    Balance  NumOfProducts  HasCrCard  IsActiveMember  \\\n",
              "0     2.0       0.00              1          1               1   \n",
              "1     1.0   83807.86              1          0               1   \n",
              "2     8.0  159660.80              3          1               0   \n",
              "3     1.0       0.00              2          0               0   \n",
              "4     2.0  125510.82              1          1               1   \n",
              "5     8.0  113755.78              2          1               0   \n",
              "6     7.0       0.00              2          1               1   \n",
              "7     4.0  115046.74              4          1               0   \n",
              "8     4.0  142051.07              2          0               1   \n",
              "9     2.0  134603.88              1          1               1   \n",
              "\n",
              "   EstimatedSalary  Exited  \n",
              "0        101348.88       1  \n",
              "1        112542.58       0  \n",
              "2        113931.57       1  \n",
              "3         93826.63       0  \n",
              "4         79084.10       0  \n",
              "5        149756.71       1  \n",
              "6         10062.80       0  \n",
              "7        119346.88       1  \n",
              "8         74940.50       0  \n",
              "9         71725.73       0  "
            ]
          },
          "execution_count": 3,
          "metadata": {},
          "output_type": "execute_result"
        }
      ],
      "source": [
        "data.head(10)"
      ]
    },
    {
      "cell_type": "code",
      "execution_count": null,
      "metadata": {
        "id": "6HyEg5viXFpf",
        "outputId": "54c156fd-8e78-4871-d347-18a16b30709d"
      },
      "outputs": [
        {
          "name": "stdout",
          "output_type": "stream",
          "text": [
            "<class 'pandas.core.frame.DataFrame'>\n",
            "RangeIndex: 10000 entries, 0 to 9999\n",
            "Data columns (total 14 columns):\n",
            " #   Column           Non-Null Count  Dtype  \n",
            "---  ------           --------------  -----  \n",
            " 0   RowNumber        10000 non-null  int64  \n",
            " 1   CustomerId       10000 non-null  int64  \n",
            " 2   Surname          10000 non-null  object \n",
            " 3   CreditScore      10000 non-null  int64  \n",
            " 4   Geography        10000 non-null  object \n",
            " 5   Gender           10000 non-null  object \n",
            " 6   Age              10000 non-null  int64  \n",
            " 7   Tenure           9091 non-null   float64\n",
            " 8   Balance          10000 non-null  float64\n",
            " 9   NumOfProducts    10000 non-null  int64  \n",
            " 10  HasCrCard        10000 non-null  int64  \n",
            " 11  IsActiveMember   10000 non-null  int64  \n",
            " 12  EstimatedSalary  10000 non-null  float64\n",
            " 13  Exited           10000 non-null  int64  \n",
            "dtypes: float64(3), int64(8), object(3)\n",
            "memory usage: 1.1+ MB\n"
          ]
        }
      ],
      "source": [
        "data.info()"
      ]
    },
    {
      "cell_type": "markdown",
      "metadata": {
        "id": "DTQw2zxPXFpf"
      },
      "source": [
        "В дальнейшем нам не понадобятся следующие столбцы: RowNumber, CustomerId, Surname"
      ]
    },
    {
      "cell_type": "code",
      "execution_count": null,
      "metadata": {
        "id": "dISJo_qTXFpf"
      },
      "outputs": [],
      "source": [
        "data = data.drop(['RowNumber', 'CustomerId', 'Surname'], axis=1)"
      ]
    },
    {
      "cell_type": "markdown",
      "metadata": {
        "id": "sKgsB8qIXFpf"
      },
      "source": [
        "Посмотрим на наличие дубликатов"
      ]
    },
    {
      "cell_type": "code",
      "execution_count": null,
      "metadata": {
        "id": "ypB5bNMLXFpg",
        "outputId": "a27583e5-c421-4a98-c1fe-8534e40f9d94"
      },
      "outputs": [
        {
          "data": {
            "text/plain": [
              "0"
            ]
          },
          "execution_count": 6,
          "metadata": {},
          "output_type": "execute_result"
        }
      ],
      "source": [
        "data.duplicated().sum()"
      ]
    },
    {
      "cell_type": "code",
      "execution_count": null,
      "metadata": {
        "id": "bbcCbgTbXFpg",
        "outputId": "cfd777ce-a213-43cd-c1bb-5de71c9aa2ab"
      },
      "outputs": [
        {
          "data": {
            "text/plain": [
              "CreditScore          0\n",
              "Geography            0\n",
              "Gender               0\n",
              "Age                  0\n",
              "Tenure             909\n",
              "Balance              0\n",
              "NumOfProducts        0\n",
              "HasCrCard            0\n",
              "IsActiveMember       0\n",
              "EstimatedSalary      0\n",
              "Exited               0\n",
              "dtype: int64"
            ]
          },
          "execution_count": 7,
          "metadata": {},
          "output_type": "execute_result"
        }
      ],
      "source": [
        "data.isna().sum()"
      ]
    },
    {
      "cell_type": "markdown",
      "metadata": {
        "id": "eRDzrnDGXFpg"
      },
      "source": [
        "Можно заметить пропуски в одном из столбцов, поскольку пропусков очень мало по соотношению с данными, то можно их удалить"
      ]
    },
    {
      "cell_type": "code",
      "execution_count": null,
      "metadata": {
        "id": "O1tJ5Rl8XFpg"
      },
      "outputs": [],
      "source": [
        "data = data.dropna(subset = [\"Tenure\"], axis = 0)"
      ]
    },
    {
      "cell_type": "markdown",
      "metadata": {
        "id": "gt0-a_A3XFpg"
      },
      "source": [
        "Подготовим данные с помощью ОНЕ, чтобы не словить дамми ловушку"
      ]
    },
    {
      "cell_type": "code",
      "execution_count": null,
      "metadata": {
        "id": "M0EFX6h0XFpg"
      },
      "outputs": [],
      "source": [
        "data = pd.get_dummies(data, drop_first=True)"
      ]
    },
    {
      "cell_type": "markdown",
      "metadata": {
        "id": "VO4R3G6gXFph"
      },
      "source": [
        "Вывод: явных дубликатов в данных не было обнаружено, но были пропущенные значения в столбце Tenure, где было принято решение удалить их. Также были удаленыы столбцы, которые не понадобились бы в дальнейшем RowNumber', CustomerId, Surname"
      ]
    },
    {
      "cell_type": "markdown",
      "metadata": {
        "id": "Vu9ic9HmXFph"
      },
      "source": [
        "**Изменено**"
      ]
    },
    {
      "cell_type": "markdown",
      "metadata": {
        "id": "R4GUnESAXFph"
      },
      "source": [
        "## Исследование задачи"
      ]
    },
    {
      "cell_type": "markdown",
      "metadata": {
        "id": "aR7B_adIXFph"
      },
      "source": [
        "Разделим выборки на тренировочную, валидационную и обучающую выборку"
      ]
    },
    {
      "cell_type": "code",
      "execution_count": null,
      "metadata": {
        "id": "B2yUoBA_XFph"
      },
      "outputs": [],
      "source": [
        "data_train, data_test = train_test_split(data, test_size=0.4, random_state=12345)\n",
        "features = data_test.drop('Exited', axis=1)\n",
        "target = data_test['Exited']"
      ]
    },
    {
      "cell_type": "code",
      "execution_count": null,
      "metadata": {
        "id": "xEioOY_rXFpi"
      },
      "outputs": [],
      "source": [
        "features_valid, features_test, target_valid, target_test = train_test_split(features, target, test_size=0.5, random_state=12345)\n",
        "features_train = data_train.drop('Exited', axis=1)\n",
        "target_train = data_train['Exited']"
      ]
    },
    {
      "cell_type": "markdown",
      "metadata": {
        "id": "kv3amKujXFpi"
      },
      "source": [
        "**Масштабируемость для линейной регрессии**"
      ]
    },
    {
      "cell_type": "markdown",
      "metadata": {
        "id": "ujpVcsDzXFpi"
      },
      "source": [
        "Для начала зафиксируем численные признаки"
      ]
    },
    {
      "cell_type": "code",
      "execution_count": null,
      "metadata": {
        "id": "KjJRjJiYXFpi"
      },
      "outputs": [],
      "source": [
        "numeric = ['CreditScore', 'Age', 'Tenure', 'Balance', 'NumOfProducts', 'EstimatedSalary']"
      ]
    },
    {
      "cell_type": "code",
      "execution_count": null,
      "metadata": {
        "id": "Ao4HkZbeXFpi",
        "outputId": "8fd26873-94dd-4db8-fe7d-24762d467a0c"
      },
      "outputs": [
        {
          "data": {
            "text/plain": [
              "StandardScaler()"
            ]
          },
          "execution_count": 13,
          "metadata": {},
          "output_type": "execute_result"
        }
      ],
      "source": [
        "scaler = StandardScaler()\n",
        "scaler.fit(features_train[numeric])"
      ]
    },
    {
      "cell_type": "markdown",
      "metadata": {
        "id": "A9TP2spjXFpi"
      },
      "source": [
        "Масштабируем числ признаки обучающей выборки"
      ]
    },
    {
      "cell_type": "code",
      "execution_count": null,
      "metadata": {
        "id": "cOmTxQqxXFpi",
        "outputId": "b3668c11-c1d2-41c6-e5ec-3a51642b743c"
      },
      "outputs": [
        {
          "data": {
            "text/html": [
              "<div>\n",
              "<style scoped>\n",
              "    .dataframe tbody tr th:only-of-type {\n",
              "        vertical-align: middle;\n",
              "    }\n",
              "\n",
              "    .dataframe tbody tr th {\n",
              "        vertical-align: top;\n",
              "    }\n",
              "\n",
              "    .dataframe thead th {\n",
              "        text-align: right;\n",
              "    }\n",
              "</style>\n",
              "<table border=\"1\" class=\"dataframe\">\n",
              "  <thead>\n",
              "    <tr style=\"text-align: right;\">\n",
              "      <th></th>\n",
              "      <th>CreditScore</th>\n",
              "      <th>Age</th>\n",
              "      <th>Tenure</th>\n",
              "      <th>Balance</th>\n",
              "      <th>NumOfProducts</th>\n",
              "      <th>HasCrCard</th>\n",
              "      <th>IsActiveMember</th>\n",
              "      <th>EstimatedSalary</th>\n",
              "      <th>Geography_Germany</th>\n",
              "      <th>Geography_Spain</th>\n",
              "      <th>Gender_Male</th>\n",
              "    </tr>\n",
              "  </thead>\n",
              "  <tbody>\n",
              "    <tr>\n",
              "      <th>9344</th>\n",
              "      <td>0.809075</td>\n",
              "      <td>-1.039327</td>\n",
              "      <td>-1.025995</td>\n",
              "      <td>0.554904</td>\n",
              "      <td>-0.908179</td>\n",
              "      <td>1</td>\n",
              "      <td>0</td>\n",
              "      <td>0.019508</td>\n",
              "      <td>0</td>\n",
              "      <td>0</td>\n",
              "      <td>0</td>\n",
              "    </tr>\n",
              "    <tr>\n",
              "      <th>3796</th>\n",
              "      <td>-1.152518</td>\n",
              "      <td>-1.227561</td>\n",
              "      <td>0.696524</td>\n",
              "      <td>0.480609</td>\n",
              "      <td>-0.908179</td>\n",
              "      <td>0</td>\n",
              "      <td>0</td>\n",
              "      <td>0.056167</td>\n",
              "      <td>0</td>\n",
              "      <td>0</td>\n",
              "      <td>1</td>\n",
              "    </tr>\n",
              "    <tr>\n",
              "      <th>7462</th>\n",
              "      <td>-0.398853</td>\n",
              "      <td>0.090079</td>\n",
              "      <td>1.385532</td>\n",
              "      <td>-1.237830</td>\n",
              "      <td>-0.908179</td>\n",
              "      <td>1</td>\n",
              "      <td>1</td>\n",
              "      <td>0.848738</td>\n",
              "      <td>0</td>\n",
              "      <td>0</td>\n",
              "      <td>1</td>\n",
              "    </tr>\n",
              "    <tr>\n",
              "      <th>1508</th>\n",
              "      <td>-0.749875</td>\n",
              "      <td>-0.286389</td>\n",
              "      <td>0.352020</td>\n",
              "      <td>-1.237830</td>\n",
              "      <td>0.809300</td>\n",
              "      <td>1</td>\n",
              "      <td>1</td>\n",
              "      <td>-0.894953</td>\n",
              "      <td>0</td>\n",
              "      <td>0</td>\n",
              "      <td>1</td>\n",
              "    </tr>\n",
              "    <tr>\n",
              "      <th>4478</th>\n",
              "      <td>-1.028628</td>\n",
              "      <td>-0.756975</td>\n",
              "      <td>-0.336987</td>\n",
              "      <td>-1.237830</td>\n",
              "      <td>0.809300</td>\n",
              "      <td>0</td>\n",
              "      <td>1</td>\n",
              "      <td>-1.284516</td>\n",
              "      <td>0</td>\n",
              "      <td>0</td>\n",
              "      <td>1</td>\n",
              "    </tr>\n",
              "  </tbody>\n",
              "</table>\n",
              "</div>"
            ],
            "text/plain": [
              "      CreditScore       Age    Tenure   Balance  NumOfProducts  HasCrCard  \\\n",
              "9344     0.809075 -1.039327 -1.025995  0.554904      -0.908179          1   \n",
              "3796    -1.152518 -1.227561  0.696524  0.480609      -0.908179          0   \n",
              "7462    -0.398853  0.090079  1.385532 -1.237830      -0.908179          1   \n",
              "1508    -0.749875 -0.286389  0.352020 -1.237830       0.809300          1   \n",
              "4478    -1.028628 -0.756975 -0.336987 -1.237830       0.809300          0   \n",
              "\n",
              "      IsActiveMember  EstimatedSalary  Geography_Germany  Geography_Spain  \\\n",
              "9344               0         0.019508                  0                0   \n",
              "3796               0         0.056167                  0                0   \n",
              "7462               1         0.848738                  0                0   \n",
              "1508               1        -0.894953                  0                0   \n",
              "4478               1        -1.284516                  0                0   \n",
              "\n",
              "      Gender_Male  \n",
              "9344            0  \n",
              "3796            1  \n",
              "7462            1  \n",
              "1508            1  \n",
              "4478            1  "
            ]
          },
          "execution_count": 14,
          "metadata": {},
          "output_type": "execute_result"
        }
      ],
      "source": [
        "features_train[numeric] = scaler.transform(features_train[numeric])\n",
        "features_train.head()"
      ]
    },
    {
      "cell_type": "markdown",
      "metadata": {
        "id": "kBrMYyigXFpj"
      },
      "source": [
        "Масштабируем численные признаки валидационной выборки"
      ]
    },
    {
      "cell_type": "code",
      "execution_count": null,
      "metadata": {
        "id": "QA5gRGxBXFpj",
        "outputId": "1632b7da-ddda-41b8-fc5c-8982a5164929"
      },
      "outputs": [
        {
          "name": "stderr",
          "output_type": "stream",
          "text": [
            "/tmp/ipykernel_31/3700386726.py:1: SettingWithCopyWarning: \n",
            "A value is trying to be set on a copy of a slice from a DataFrame.\n",
            "Try using .loc[row_indexer,col_indexer] = value instead\n",
            "\n",
            "See the caveats in the documentation: https://pandas.pydata.org/pandas-docs/stable/user_guide/indexing.html#returning-a-view-versus-a-copy\n",
            "  features_valid[numeric] = scaler.transform(features_valid[numeric])\n",
            "/opt/conda/lib/python3.9/site-packages/pandas/core/indexing.py:1738: SettingWithCopyWarning: \n",
            "A value is trying to be set on a copy of a slice from a DataFrame.\n",
            "Try using .loc[row_indexer,col_indexer] = value instead\n",
            "\n",
            "See the caveats in the documentation: https://pandas.pydata.org/pandas-docs/stable/user_guide/indexing.html#returning-a-view-versus-a-copy\n",
            "  self._setitem_single_column(loc, value[:, i].tolist(), pi)\n"
          ]
        },
        {
          "data": {
            "text/html": [
              "<div>\n",
              "<style scoped>\n",
              "    .dataframe tbody tr th:only-of-type {\n",
              "        vertical-align: middle;\n",
              "    }\n",
              "\n",
              "    .dataframe tbody tr th {\n",
              "        vertical-align: top;\n",
              "    }\n",
              "\n",
              "    .dataframe thead th {\n",
              "        text-align: right;\n",
              "    }\n",
              "</style>\n",
              "<table border=\"1\" class=\"dataframe\">\n",
              "  <thead>\n",
              "    <tr style=\"text-align: right;\">\n",
              "      <th></th>\n",
              "      <th>CreditScore</th>\n",
              "      <th>Age</th>\n",
              "      <th>Tenure</th>\n",
              "      <th>Balance</th>\n",
              "      <th>NumOfProducts</th>\n",
              "      <th>HasCrCard</th>\n",
              "      <th>IsActiveMember</th>\n",
              "      <th>EstimatedSalary</th>\n",
              "      <th>Geography_Germany</th>\n",
              "      <th>Geography_Spain</th>\n",
              "      <th>Gender_Male</th>\n",
              "    </tr>\n",
              "  </thead>\n",
              "  <tbody>\n",
              "    <tr>\n",
              "      <th>7445</th>\n",
              "      <td>-1.369326</td>\n",
              "      <td>0.560665</td>\n",
              "      <td>-0.336987</td>\n",
              "      <td>-1.237830</td>\n",
              "      <td>-0.908179</td>\n",
              "      <td>1</td>\n",
              "      <td>0</td>\n",
              "      <td>-0.086537</td>\n",
              "      <td>0</td>\n",
              "      <td>0</td>\n",
              "      <td>0</td>\n",
              "    </tr>\n",
              "    <tr>\n",
              "      <th>8620</th>\n",
              "      <td>1.232367</td>\n",
              "      <td>0.090079</td>\n",
              "      <td>1.041028</td>\n",
              "      <td>-1.237830</td>\n",
              "      <td>0.809300</td>\n",
              "      <td>0</td>\n",
              "      <td>1</td>\n",
              "      <td>-0.537457</td>\n",
              "      <td>0</td>\n",
              "      <td>0</td>\n",
              "      <td>0</td>\n",
              "    </tr>\n",
              "    <tr>\n",
              "      <th>1714</th>\n",
              "      <td>0.840048</td>\n",
              "      <td>0.560665</td>\n",
              "      <td>0.352020</td>\n",
              "      <td>1.231363</td>\n",
              "      <td>-0.908179</td>\n",
              "      <td>0</td>\n",
              "      <td>0</td>\n",
              "      <td>1.070393</td>\n",
              "      <td>1</td>\n",
              "      <td>0</td>\n",
              "      <td>1</td>\n",
              "    </tr>\n",
              "    <tr>\n",
              "      <th>5441</th>\n",
              "      <td>1.056856</td>\n",
              "      <td>-0.945210</td>\n",
              "      <td>-1.370498</td>\n",
              "      <td>0.951231</td>\n",
              "      <td>-0.908179</td>\n",
              "      <td>1</td>\n",
              "      <td>0</td>\n",
              "      <td>-0.576279</td>\n",
              "      <td>0</td>\n",
              "      <td>0</td>\n",
              "      <td>1</td>\n",
              "    </tr>\n",
              "    <tr>\n",
              "      <th>9001</th>\n",
              "      <td>0.406433</td>\n",
              "      <td>-0.662858</td>\n",
              "      <td>0.352020</td>\n",
              "      <td>0.767800</td>\n",
              "      <td>-0.908179</td>\n",
              "      <td>1</td>\n",
              "      <td>1</td>\n",
              "      <td>0.662068</td>\n",
              "      <td>0</td>\n",
              "      <td>1</td>\n",
              "      <td>1</td>\n",
              "    </tr>\n",
              "  </tbody>\n",
              "</table>\n",
              "</div>"
            ],
            "text/plain": [
              "      CreditScore       Age    Tenure   Balance  NumOfProducts  HasCrCard  \\\n",
              "7445    -1.369326  0.560665 -0.336987 -1.237830      -0.908179          1   \n",
              "8620     1.232367  0.090079  1.041028 -1.237830       0.809300          0   \n",
              "1714     0.840048  0.560665  0.352020  1.231363      -0.908179          0   \n",
              "5441     1.056856 -0.945210 -1.370498  0.951231      -0.908179          1   \n",
              "9001     0.406433 -0.662858  0.352020  0.767800      -0.908179          1   \n",
              "\n",
              "      IsActiveMember  EstimatedSalary  Geography_Germany  Geography_Spain  \\\n",
              "7445               0        -0.086537                  0                0   \n",
              "8620               1        -0.537457                  0                0   \n",
              "1714               0         1.070393                  1                0   \n",
              "5441               0        -0.576279                  0                0   \n",
              "9001               1         0.662068                  0                1   \n",
              "\n",
              "      Gender_Male  \n",
              "7445            0  \n",
              "8620            0  \n",
              "1714            1  \n",
              "5441            1  \n",
              "9001            1  "
            ]
          },
          "execution_count": 15,
          "metadata": {},
          "output_type": "execute_result"
        }
      ],
      "source": [
        " features_valid[numeric] = scaler.transform(features_valid[numeric])\n",
        "features_valid.head()"
      ]
    },
    {
      "cell_type": "markdown",
      "metadata": {
        "id": "JITYfDwlXFpj"
      },
      "source": [
        "Масштабируем численные признаки тестовой выборки"
      ]
    },
    {
      "cell_type": "code",
      "execution_count": null,
      "metadata": {
        "scrolled": true,
        "id": "qqeOcPuMXFpj",
        "outputId": "56a9c344-7b20-47d2-f439-26c7b7f4c616"
      },
      "outputs": [
        {
          "name": "stderr",
          "output_type": "stream",
          "text": [
            "/tmp/ipykernel_31/2409317702.py:1: SettingWithCopyWarning: \n",
            "A value is trying to be set on a copy of a slice from a DataFrame.\n",
            "Try using .loc[row_indexer,col_indexer] = value instead\n",
            "\n",
            "See the caveats in the documentation: https://pandas.pydata.org/pandas-docs/stable/user_guide/indexing.html#returning-a-view-versus-a-copy\n",
            "  features_test[numeric] = scaler.transform(features_test[numeric])\n",
            "/opt/conda/lib/python3.9/site-packages/pandas/core/indexing.py:1738: SettingWithCopyWarning: \n",
            "A value is trying to be set on a copy of a slice from a DataFrame.\n",
            "Try using .loc[row_indexer,col_indexer] = value instead\n",
            "\n",
            "See the caveats in the documentation: https://pandas.pydata.org/pandas-docs/stable/user_guide/indexing.html#returning-a-view-versus-a-copy\n",
            "  self._setitem_single_column(loc, value[:, i].tolist(), pi)\n"
          ]
        },
        {
          "data": {
            "text/html": [
              "<div>\n",
              "<style scoped>\n",
              "    .dataframe tbody tr th:only-of-type {\n",
              "        vertical-align: middle;\n",
              "    }\n",
              "\n",
              "    .dataframe tbody tr th {\n",
              "        vertical-align: top;\n",
              "    }\n",
              "\n",
              "    .dataframe thead th {\n",
              "        text-align: right;\n",
              "    }\n",
              "</style>\n",
              "<table border=\"1\" class=\"dataframe\">\n",
              "  <thead>\n",
              "    <tr style=\"text-align: right;\">\n",
              "      <th></th>\n",
              "      <th>CreditScore</th>\n",
              "      <th>Age</th>\n",
              "      <th>Tenure</th>\n",
              "      <th>Balance</th>\n",
              "      <th>NumOfProducts</th>\n",
              "      <th>HasCrCard</th>\n",
              "      <th>IsActiveMember</th>\n",
              "      <th>EstimatedSalary</th>\n",
              "      <th>Geography_Germany</th>\n",
              "      <th>Geography_Spain</th>\n",
              "      <th>Gender_Male</th>\n",
              "    </tr>\n",
              "  </thead>\n",
              "  <tbody>\n",
              "    <tr>\n",
              "      <th>5170</th>\n",
              "      <td>1.707279</td>\n",
              "      <td>-0.756975</td>\n",
              "      <td>-0.336987</td>\n",
              "      <td>-1.237830</td>\n",
              "      <td>0.809300</td>\n",
              "      <td>1</td>\n",
              "      <td>1</td>\n",
              "      <td>0.718362</td>\n",
              "      <td>0</td>\n",
              "      <td>0</td>\n",
              "      <td>0</td>\n",
              "    </tr>\n",
              "    <tr>\n",
              "      <th>4180</th>\n",
              "      <td>-0.429826</td>\n",
              "      <td>-0.286389</td>\n",
              "      <td>1.730036</td>\n",
              "      <td>0.485538</td>\n",
              "      <td>0.809300</td>\n",
              "      <td>0</td>\n",
              "      <td>0</td>\n",
              "      <td>1.687305</td>\n",
              "      <td>1</td>\n",
              "      <td>0</td>\n",
              "      <td>1</td>\n",
              "    </tr>\n",
              "    <tr>\n",
              "      <th>7349</th>\n",
              "      <td>-0.171721</td>\n",
              "      <td>0.278313</td>\n",
              "      <td>0.352020</td>\n",
              "      <td>-0.269213</td>\n",
              "      <td>0.809300</td>\n",
              "      <td>0</td>\n",
              "      <td>1</td>\n",
              "      <td>0.824128</td>\n",
              "      <td>1</td>\n",
              "      <td>0</td>\n",
              "      <td>1</td>\n",
              "    </tr>\n",
              "    <tr>\n",
              "      <th>7469</th>\n",
              "      <td>0.385784</td>\n",
              "      <td>-0.380507</td>\n",
              "      <td>1.041028</td>\n",
              "      <td>0.464813</td>\n",
              "      <td>-0.908179</td>\n",
              "      <td>1</td>\n",
              "      <td>0</td>\n",
              "      <td>-1.118018</td>\n",
              "      <td>0</td>\n",
              "      <td>0</td>\n",
              "      <td>0</td>\n",
              "    </tr>\n",
              "    <tr>\n",
              "      <th>3467</th>\n",
              "      <td>-1.142194</td>\n",
              "      <td>0.278313</td>\n",
              "      <td>-1.370498</td>\n",
              "      <td>0.353837</td>\n",
              "      <td>0.809300</td>\n",
              "      <td>0</td>\n",
              "      <td>1</td>\n",
              "      <td>-0.107642</td>\n",
              "      <td>1</td>\n",
              "      <td>0</td>\n",
              "      <td>0</td>\n",
              "    </tr>\n",
              "  </tbody>\n",
              "</table>\n",
              "</div>"
            ],
            "text/plain": [
              "      CreditScore       Age    Tenure   Balance  NumOfProducts  HasCrCard  \\\n",
              "5170     1.707279 -0.756975 -0.336987 -1.237830       0.809300          1   \n",
              "4180    -0.429826 -0.286389  1.730036  0.485538       0.809300          0   \n",
              "7349    -0.171721  0.278313  0.352020 -0.269213       0.809300          0   \n",
              "7469     0.385784 -0.380507  1.041028  0.464813      -0.908179          1   \n",
              "3467    -1.142194  0.278313 -1.370498  0.353837       0.809300          0   \n",
              "\n",
              "      IsActiveMember  EstimatedSalary  Geography_Germany  Geography_Spain  \\\n",
              "5170               1         0.718362                  0                0   \n",
              "4180               0         1.687305                  1                0   \n",
              "7349               1         0.824128                  1                0   \n",
              "7469               0        -1.118018                  0                0   \n",
              "3467               1        -0.107642                  1                0   \n",
              "\n",
              "      Gender_Male  \n",
              "5170            0  \n",
              "4180            1  \n",
              "7349            1  \n",
              "7469            0  \n",
              "3467            0  "
            ]
          },
          "execution_count": 16,
          "metadata": {},
          "output_type": "execute_result"
        }
      ],
      "source": [
        "features_test[numeric] = scaler.transform(features_test[numeric])\n",
        "features_test.head()"
      ]
    },
    {
      "cell_type": "markdown",
      "metadata": {
        "id": "Rclgdri2XFpk"
      },
      "source": [
        "Проверка баланса классов"
      ]
    },
    {
      "cell_type": "code",
      "execution_count": null,
      "metadata": {
        "id": "Iy-H-gwEXFpk",
        "outputId": "38578914-3b44-4a8a-9294-31eca469e05c"
      },
      "outputs": [
        {
          "data": {
            "text/plain": [
              "0    0.793546\n",
              "1    0.206454\n",
              "Name: Exited, dtype: float64"
            ]
          },
          "execution_count": 17,
          "metadata": {},
          "output_type": "execute_result"
        }
      ],
      "source": [
        "target_train.value_counts(normalize = 1)"
      ]
    },
    {
      "cell_type": "code",
      "execution_count": null,
      "metadata": {
        "id": "AviA5M7uXFpk",
        "outputId": "c16c4152-7563-4d30-a82d-fd14f96c248a"
      },
      "outputs": [
        {
          "data": {
            "text/plain": [
              "0    0.792629\n",
              "1    0.207371\n",
              "Name: Exited, dtype: float64"
            ]
          },
          "execution_count": 18,
          "metadata": {},
          "output_type": "execute_result"
        }
      ],
      "source": [
        "target_valid.value_counts(normalize = 1)"
      ]
    },
    {
      "cell_type": "markdown",
      "metadata": {
        "id": "m6JJQ7XEXFpk"
      },
      "source": [
        "Можно заметить, что ответов 0 - 80 %, а ответов 1 - 20%. На основании этого можно сделать вывод о том, что наблюдается дисбаланс"
      ]
    },
    {
      "cell_type": "markdown",
      "metadata": {
        "id": "KpLiReG5XFpl"
      },
      "source": [
        "Дерево решений\n"
      ]
    },
    {
      "cell_type": "code",
      "execution_count": null,
      "metadata": {
        "id": "ie1GPvjgXFpl",
        "outputId": "a3d89f56-3b90-4cc7-ee6f-b6e0109723d0"
      },
      "outputs": [
        {
          "name": "stdout",
          "output_type": "stream",
          "text": [
            "Глубина дерева: 7 F1: 0.5764331210191083 AUC-ROC 0.7566971065260089\n"
          ]
        }
      ],
      "source": [
        "best_result = 0\n",
        "depth = 0\n",
        "for depth in range(1, 11):\n",
        "    model = DecisionTreeClassifier(random_state=12345, max_depth=depth)\n",
        "    model.fit(features_train, target_train)\n",
        "    predictions_valid = model.predict(features_valid)\n",
        "    result = f1_score(target_valid, predictions_valid)\n",
        "    probabilities_one_valid = model.predict_proba(features_valid)[:, 1]\n",
        "    AUC = roc_auc_score(target_valid, probabilities_one_valid)\n",
        "    if result > best_result:\n",
        "        best_depth = depth\n",
        "        best_result = result\n",
        "\n",
        "print(\"Глубина дерева:\", best_depth, \"F1:\", best_result,'AUC-ROC',AUC)"
      ]
    },
    {
      "cell_type": "markdown",
      "metadata": {
        "id": "IGvY7QSEXFpl"
      },
      "source": [
        "Случайный лес"
      ]
    },
    {
      "cell_type": "code",
      "execution_count": null,
      "metadata": {
        "id": "h0JSyTnjXFpm",
        "outputId": "4bab0213-9429-4d0b-fdfa-0ff4a576b8c6"
      },
      "outputs": [
        {
          "name": "stdout",
          "output_type": "stream",
          "text": [
            "Глубина дерева: 16 Количество деревьев: 15 F1: 0.6026936026936026 AUC-ROC 0.8650933167911321 4\n"
          ]
        }
      ],
      "source": [
        "best_result = 0\n",
        "depth = 0\n",
        "for depth in range(1,20):\n",
        "    for est in range(5,50,5):\n",
        "        for sample in range(2,5):\n",
        "            model = RandomForestClassifier(max_depth=depth, n_estimators=est, min_samples_leaf=sample, random_state=1234)\n",
        "            model.fit(features_train , target_train)\n",
        "            predictions = model.predict(features_valid)\n",
        "            result = f1_score(predictions, target_valid)\n",
        "            probabilities_one_valid = model.predict_proba(features_valid)[:, 1]\n",
        "            AUC = roc_auc_score(target_valid, probabilities_one_valid)\n",
        "            if result > best_result:\n",
        "                best_result = result\n",
        "                best_depth = depth\n",
        "                best_est = est\n",
        "                best_sample = sample\n",
        "print(\"Глубина дерева:\", best_depth, \"Количество деревьев:\", best_est,\"F1:\", best_result,'AUC-ROC',AUC,sample)"
      ]
    },
    {
      "cell_type": "markdown",
      "metadata": {
        "id": "sWT1nw8EXFpm"
      },
      "source": [
        "Логическая регрессия"
      ]
    },
    {
      "cell_type": "code",
      "execution_count": null,
      "metadata": {
        "id": "e1TzNbvJXFpm",
        "outputId": "e5207d62-d01f-491c-9dcf-add91ff3f9ad"
      },
      "outputs": [
        {
          "name": "stdout",
          "output_type": "stream",
          "text": [
            "F1: 0.30400000000000005 AUC-ROC 0.773663293800172\n"
          ]
        }
      ],
      "source": [
        "model = LogisticRegression()\n",
        "model.fit(features_train , target_train)\n",
        "predictions = model.predict(features_valid)\n",
        "best_result = f1_score(predictions, target_valid)\n",
        "probabilities_one_valid = model.predict_proba(features_valid)[:, 1]\n",
        "AUC = roc_auc_score(target_valid, probabilities_one_valid)\n",
        "print(\"F1:\", best_result,'AUC-ROC',AUC)"
      ]
    },
    {
      "cell_type": "markdown",
      "metadata": {
        "id": "jsGVawbCXFpm"
      },
      "source": [
        "Лучшее значение f1 у модели случайный лес"
      ]
    },
    {
      "cell_type": "markdown",
      "metadata": {
        "id": "rgsksp4LXFpm"
      },
      "source": [
        "## Борьба с дисбалансом"
      ]
    },
    {
      "cell_type": "markdown",
      "metadata": {
        "id": "4MmLDiZoXFpn"
      },
      "source": [
        "Увеличение выборки"
      ]
    },
    {
      "cell_type": "code",
      "execution_count": null,
      "metadata": {
        "id": "0VPQ9GLnXFpn"
      },
      "outputs": [],
      "source": [
        "def upsample(features, target, repeat):\n",
        "    features_zeros = features[target == 0]\n",
        "    features_ones = features[target == 1]\n",
        "    target_zeros = target[target == 0]\n",
        "    target_ones = target[target == 1]\n",
        "    features_upsampled = pd.concat([features_zeros] + [features_ones] * repeat)\n",
        "    target_upsampled = pd.concat([target_zeros] + [target_ones] * repeat)\n",
        "    features_upsampled, target_upsampled = shuffle(\n",
        "        features_upsampled, target_upsampled, random_state=12345)\n",
        "    return features_upsampled, target_upsampled"
      ]
    },
    {
      "cell_type": "code",
      "execution_count": null,
      "metadata": {
        "id": "rZQ6h4NrXFpn"
      },
      "outputs": [],
      "source": [
        "features_upsampled_train, target_upsampled_train = upsample(features_train, target_train, repeat=4)"
      ]
    },
    {
      "cell_type": "code",
      "execution_count": null,
      "metadata": {
        "id": "nc6P_vldXFpn",
        "outputId": "16228812-ebfb-4cfc-fc34-8cbb093304f7"
      },
      "outputs": [
        {
          "data": {
            "text/plain": [
              "1    0.509964\n",
              "0    0.490036\n",
              "Name: Exited, dtype: float64"
            ]
          },
          "execution_count": 24,
          "metadata": {},
          "output_type": "execute_result"
        }
      ],
      "source": [
        "target_upsampled_train.value_counts(normalize = 1)"
      ]
    },
    {
      "cell_type": "markdown",
      "metadata": {
        "id": "XjAOL_qvXFpn"
      },
      "source": [
        "<div class=\"alert alert-success\">\n",
        "<h2> Комментарий ревьюера <a class=\"tocSkip\"> </h2>\n",
        "\n",
        "👍 Отлично, что проверяем баланс классов после преобразований.\n",
        "</div>\n"
      ]
    },
    {
      "cell_type": "code",
      "execution_count": null,
      "metadata": {
        "id": "b-RB3WXAXFpn",
        "outputId": "d961fe65-eb6f-4bdb-e244-5f86e1549483"
      },
      "outputs": [
        {
          "name": "stdout",
          "output_type": "stream",
          "text": [
            "Глубина дерева: 5 F1: 0.5735449735449736 AUC-ROC 0.7295110785502994\n"
          ]
        }
      ],
      "source": [
        "best_result = 0\n",
        "depth = 0\n",
        "for depth in range(1, 11):\n",
        "    model = DecisionTreeClassifier(random_state=12345, max_depth=depth)\n",
        "    model.fit(features_upsampled_train, target_upsampled_train)\n",
        "    predictions_valid = model.predict(features_valid)\n",
        "    result = f1_score(target_valid, predictions_valid)\n",
        "    probabilities_one_valid = model.predict_proba(features_valid)[:, 1]\n",
        "    AUC = roc_auc_score(target_valid, probabilities_one_valid)\n",
        "    if result > best_result:\n",
        "        best_depth = depth\n",
        "        best_result = result\n",
        "\n",
        "print(\"Глубина дерева:\", best_depth, \"F1:\", best_result,'AUC-ROC',AUC)"
      ]
    },
    {
      "cell_type": "code",
      "execution_count": null,
      "metadata": {
        "id": "0Nqb5dTTXFpo"
      },
      "outputs": [],
      "source": [
        "best_result = 0\n",
        "depth = 0\n",
        "for depth in range(1,20):\n",
        "    for est in range(5,50,5):\n",
        "        for sample in range(2,5):\n",
        "            model = RandomForestClassifier(max_depth=depth, n_estimators=est, min_samples_leaf=sample, random_state=1234)\n",
        "            model.fit(features_upsampled_train, target_upsampled_train)\n",
        "            predictions = model.predict(features_valid)\n",
        "            result = f1_score(predictions, target_valid)\n",
        "            probabilities_one_valid = model.predict_proba(features_valid)[:, 1]\n",
        "            AUC = roc_auc_score(target_valid, probabilities_one_valid)\n",
        "            if result > best_result:\n",
        "                best_result = result\n",
        "                best_depth = depth\n",
        "                best_est = est\n",
        "                best_sample = sample\n",
        "print(\"Глубина дерева:\", best_depth, \"Количество деревьев:\", best_est,\"F1:\", best_result,'AUC-ROC',AUC,sample)"
      ]
    },
    {
      "cell_type": "code",
      "execution_count": null,
      "metadata": {
        "id": "dS3VSkegXFpo"
      },
      "outputs": [],
      "source": [
        "model = LogisticRegression()\n",
        "model.fit(features_upsampled_train, target_upsampled_train)\n",
        "predictions = model.predict(features_valid)\n",
        "best_result = f1_score(predictions, target_valid)\n",
        "probabilities_one_valid = model.predict_proba(features_valid)[:, 1]\n",
        "AUC = roc_auc_score(target_valid, probabilities_one_valid)\n",
        "print(\"F1:\", best_result,'AUC-ROC',AUC)"
      ]
    },
    {
      "cell_type": "markdown",
      "metadata": {
        "id": "ucDuwIX-XFpo"
      },
      "source": [
        "Уменьшение выборки"
      ]
    },
    {
      "cell_type": "code",
      "execution_count": null,
      "metadata": {
        "id": "7204yzvZXFpo"
      },
      "outputs": [],
      "source": [
        "def downsample(features, target, fraction):\n",
        "    features_zeros = features[target == 0]\n",
        "    features_ones = features[target == 1]\n",
        "    target_zeros = target[target == 0]\n",
        "    target_ones = target[target == 1]\n",
        "    features_downsampled = pd.concat(\n",
        "        [features_zeros.sample(frac=fraction, random_state=12345)] + [features_ones])\n",
        "    target_downsampled = pd.concat(\n",
        "        [target_zeros.sample(frac=fraction, random_state=12345)] + [target_ones])\n",
        "    features_downsampled, target_downsampled = shuffle(\n",
        "        features_downsampled, target_downsampled, random_state=12345)\n",
        "    return features_downsampled, target_downsampled"
      ]
    },
    {
      "cell_type": "code",
      "execution_count": null,
      "metadata": {
        "id": "yHlowxNGXFpo"
      },
      "outputs": [],
      "source": [
        "features_downsampled_train, target_downsampled_train = downsample(features_train, target_train, fraction=0.25)"
      ]
    },
    {
      "cell_type": "code",
      "execution_count": null,
      "metadata": {
        "id": "5zWiWMQWXFpp"
      },
      "outputs": [],
      "source": [
        "target_downsampled_train.value_counts(normalize = 1)"
      ]
    },
    {
      "cell_type": "code",
      "execution_count": null,
      "metadata": {
        "id": "E3-9FUA_XFpp"
      },
      "outputs": [],
      "source": [
        "best_result = 0\n",
        "depth = 0\n",
        "for depth in range(1, 11):\n",
        "    model = DecisionTreeClassifier(random_state=12345, max_depth=depth)\n",
        "    model.fit(features_downsampled_train, target_downsampled_train)\n",
        "    predictions_valid = model.predict(features_valid)\n",
        "    result = f1_score(target_valid, predictions_valid)\n",
        "    probabilities_one_valid = model.predict_proba(features_valid)[:, 1]\n",
        "    AUC = roc_auc_score(target_valid, probabilities_one_valid)\n",
        "    if result > best_result:\n",
        "        best_depth = depth\n",
        "        best_result = result\n",
        "\n",
        "print(\"Глубина дерева:\", best_depth, \"F1:\", best_result,'AUC-ROC',AUC)"
      ]
    },
    {
      "cell_type": "code",
      "execution_count": null,
      "metadata": {
        "id": "zMxk-zEiXFpp"
      },
      "outputs": [],
      "source": [
        "best_result = 0\n",
        "depth = 0\n",
        "for depth in range(1,20):\n",
        "    for est in range(5,50,5):\n",
        "        for sample in range(2,5):\n",
        "            model = RandomForestClassifier(max_depth=depth, n_estimators=est, min_samples_leaf=sample, random_state=1234)\n",
        "            model.fit(features_downsampled_train, target_downsampled_train)\n",
        "            predictions = model.predict(features_valid)\n",
        "            result = f1_score(predictions, target_valid)\n",
        "            probabilities_one_valid = model.predict_proba(features_valid)[:, 1]\n",
        "            AUC = roc_auc_score(target_valid, probabilities_one_valid)\n",
        "            if result > best_result:\n",
        "                best_result = result\n",
        "                best_depth = depth\n",
        "                best_est = est\n",
        "                best_sample = sample\n",
        "print(\"Глубина дерева:\", best_depth, \"Количество деревьев:\", best_est,\"F1:\", best_result,'AUC-ROC',AUC,sample)"
      ]
    },
    {
      "cell_type": "code",
      "execution_count": null,
      "metadata": {
        "id": "wDILNJcGXFpp"
      },
      "outputs": [],
      "source": [
        "model = LogisticRegression()\n",
        "model.fit(features_downsampled_train, target_downsampled_train)\n",
        "predictions = model.predict(features_valid)\n",
        "best_result = f1_score(predictions, target_valid)\n",
        "probabilities_one_valid = model.predict_proba(features_valid)[:, 1]\n",
        "AUC = roc_auc_score(target_valid, probabilities_one_valid)\n",
        "print(\"F1:\", best_result,'AUC-ROC',AUC)"
      ]
    },
    {
      "cell_type": "markdown",
      "metadata": {
        "id": "-KER-LNSXFpp"
      },
      "source": [
        "Благодаря сбаланнисрованности классов, F1 меры выше 0,59. Для тестирования лучше всего взять модель Случайного леса, так как у нее лучший результат F1 меры, с гиперпараметрами: max_depth = 18 ; n_estimators = 45; min_samples_leaf = 4; random_state = 1234"
      ]
    },
    {
      "cell_type": "markdown",
      "metadata": {
        "id": "-Q__0qv-XFpp"
      },
      "source": [
        "## Тестирование модели"
      ]
    },
    {
      "cell_type": "code",
      "execution_count": null,
      "metadata": {
        "id": "KYXxGUSBXFpq"
      },
      "outputs": [],
      "source": [
        "model = RandomForestClassifier(max_depth=18, n_estimators=45, min_samples_leaf=4, random_state=1234)\n",
        "model.fit(features_upsampled_train, target_upsampled_train)\n",
        "predictions = model.predict(features_test)\n",
        "result = f1_score(predictions, target_test)\n",
        "probabilities_one_valid = model.predict_proba(features_test)[:, 1]\n",
        "AUC = roc_auc_score(target_test, probabilities_one_valid)\n",
        "\n",
        "print(\"F1:\",result,'AUC-ROC',AUC)"
      ]
    },
    {
      "cell_type": "markdown",
      "metadata": {
        "id": "eV0FEY31XFpq"
      },
      "source": [
        "**Итоговый вывод**"
      ]
    },
    {
      "cell_type": "markdown",
      "metadata": {
        "id": "3GUEDQ_1XFpq"
      },
      "source": [
        "Сравнив  модели дерево решений, случаный лес и линейную регрессию лучшего всего себя показала модель случайного леса с гиперпараметрами: max_depth = 18 ; n_estimators = 45; min_samples_leaf = 4; random_state = 1234."
      ]
    }
  ],
  "metadata": {
    "ExecuteTimeLog": [
      {
        "duration": 63,
        "start_time": "2023-01-30T00:14:44.442Z"
      },
      {
        "duration": 1664,
        "start_time": "2023-01-30T00:15:04.449Z"
      },
      {
        "duration": 191,
        "start_time": "2023-01-30T00:15:06.115Z"
      },
      {
        "duration": 51,
        "start_time": "2023-01-30T00:15:29.983Z"
      },
      {
        "duration": 16,
        "start_time": "2023-01-30T00:15:31.156Z"
      },
      {
        "duration": 15,
        "start_time": "2023-01-30T00:15:35.288Z"
      },
      {
        "duration": 12,
        "start_time": "2023-01-30T00:15:36.318Z"
      },
      {
        "duration": 71,
        "start_time": "2023-01-30T00:16:20.184Z"
      },
      {
        "duration": 5,
        "start_time": "2023-01-30T00:16:28.747Z"
      },
      {
        "duration": 10,
        "start_time": "2023-01-30T00:17:33.490Z"
      },
      {
        "duration": 4,
        "start_time": "2023-01-30T00:18:25.895Z"
      },
      {
        "duration": 12,
        "start_time": "2023-01-30T00:18:33.596Z"
      },
      {
        "duration": 1565,
        "start_time": "2023-02-01T15:43:37.209Z"
      },
      {
        "duration": 92,
        "start_time": "2023-02-01T15:43:38.776Z"
      },
      {
        "duration": 21,
        "start_time": "2023-02-01T15:43:38.870Z"
      },
      {
        "duration": 14,
        "start_time": "2023-02-01T15:43:39.158Z"
      },
      {
        "duration": 11,
        "start_time": "2023-02-01T15:43:42.594Z"
      },
      {
        "duration": 8,
        "start_time": "2023-02-01T15:43:50.894Z"
      },
      {
        "duration": 216,
        "start_time": "2023-02-01T15:44:27.346Z"
      },
      {
        "duration": 5,
        "start_time": "2023-02-01T15:47:00.014Z"
      },
      {
        "duration": 79,
        "start_time": "2023-02-01T15:47:04.706Z"
      },
      {
        "duration": 165,
        "start_time": "2023-02-01T15:58:37.134Z"
      },
      {
        "duration": 73,
        "start_time": "2023-02-01T15:59:21.406Z"
      },
      {
        "duration": 51,
        "start_time": "2023-02-01T16:00:03.813Z"
      },
      {
        "duration": 3,
        "start_time": "2023-02-01T16:02:29.148Z"
      },
      {
        "duration": 11,
        "start_time": "2023-02-01T16:02:30.558Z"
      },
      {
        "duration": 48,
        "start_time": "2023-02-01T16:03:46.602Z"
      },
      {
        "duration": 32,
        "start_time": "2023-02-01T16:03:50.702Z"
      },
      {
        "duration": 30,
        "start_time": "2023-02-01T16:03:55.604Z"
      },
      {
        "duration": 10,
        "start_time": "2023-02-01T16:09:35.312Z"
      },
      {
        "duration": 7,
        "start_time": "2023-02-01T16:09:37.751Z"
      },
      {
        "duration": 69,
        "start_time": "2023-02-01T16:13:34.014Z"
      },
      {
        "duration": 3515,
        "start_time": "2023-02-01T16:15:15.132Z"
      },
      {
        "duration": 207,
        "start_time": "2023-02-01T16:24:18.493Z"
      },
      {
        "duration": 3721,
        "start_time": "2023-02-01T16:24:25.054Z"
      },
      {
        "duration": 11957,
        "start_time": "2023-02-01T16:26:27.233Z"
      },
      {
        "duration": 3849,
        "start_time": "2023-02-01T16:27:07.618Z"
      },
      {
        "duration": 19,
        "start_time": "2023-02-01T16:27:46.064Z"
      },
      {
        "duration": 188,
        "start_time": "2023-02-01T16:32:27.566Z"
      },
      {
        "duration": 233,
        "start_time": "2023-02-01T16:32:41.954Z"
      },
      {
        "duration": 80960,
        "start_time": "2023-02-01T16:32:50.109Z"
      },
      {
        "duration": 0,
        "start_time": "2023-02-01T16:34:11.070Z"
      },
      {
        "duration": 81948,
        "start_time": "2023-02-01T16:40:03.401Z"
      },
      {
        "duration": 208742,
        "start_time": "2023-02-01T16:41:50.767Z"
      },
      {
        "duration": 3814,
        "start_time": "2023-02-01T16:45:25.097Z"
      },
      {
        "duration": 2049,
        "start_time": "2023-02-01T16:52:15.338Z"
      },
      {
        "duration": 1947,
        "start_time": "2023-02-01T16:52:30.338Z"
      },
      {
        "duration": 1987,
        "start_time": "2023-02-01T16:53:35.796Z"
      },
      {
        "duration": 6,
        "start_time": "2023-02-01T16:57:59.793Z"
      },
      {
        "duration": 114,
        "start_time": "2023-02-01T16:58:01.142Z"
      },
      {
        "duration": 7,
        "start_time": "2023-02-01T16:58:02.252Z"
      },
      {
        "duration": 4,
        "start_time": "2023-02-01T16:59:56.149Z"
      },
      {
        "duration": 66,
        "start_time": "2023-02-01T16:59:57.115Z"
      },
      {
        "duration": 6,
        "start_time": "2023-02-01T16:59:57.854Z"
      },
      {
        "duration": 3973,
        "start_time": "2023-02-01T17:02:35.731Z"
      },
      {
        "duration": 5468,
        "start_time": "2023-02-01T17:05:06.906Z"
      },
      {
        "duration": 316971,
        "start_time": "2023-02-01T17:06:23.647Z"
      },
      {
        "duration": 1650,
        "start_time": "2023-02-01T17:11:51.269Z"
      },
      {
        "duration": 1589,
        "start_time": "2023-02-01T17:11:57.096Z"
      },
      {
        "duration": 4,
        "start_time": "2023-02-01T17:13:24.662Z"
      },
      {
        "duration": 55,
        "start_time": "2023-02-01T17:13:25.292Z"
      },
      {
        "duration": 8,
        "start_time": "2023-02-01T17:13:28.798Z"
      },
      {
        "duration": 1769,
        "start_time": "2023-02-01T17:13:53.647Z"
      },
      {
        "duration": 107554,
        "start_time": "2023-02-01T17:14:44.736Z"
      },
      {
        "duration": 603,
        "start_time": "2023-02-01T17:16:33.782Z"
      },
      {
        "duration": 15,
        "start_time": "2023-02-01T17:19:39.037Z"
      },
      {
        "duration": 33,
        "start_time": "2023-02-01T17:19:55.225Z"
      },
      {
        "duration": 15,
        "start_time": "2023-02-01T17:20:01.063Z"
      },
      {
        "duration": 58,
        "start_time": "2023-02-01T17:20:47.443Z"
      },
      {
        "duration": 1396,
        "start_time": "2023-02-01T17:23:12.312Z"
      },
      {
        "duration": 39,
        "start_time": "2023-02-01T17:23:13.710Z"
      },
      {
        "duration": 20,
        "start_time": "2023-02-01T17:23:14.497Z"
      },
      {
        "duration": 15,
        "start_time": "2023-02-01T17:23:15.920Z"
      },
      {
        "duration": 17,
        "start_time": "2023-02-01T17:23:19.632Z"
      },
      {
        "duration": 8,
        "start_time": "2023-02-01T17:23:21.208Z"
      },
      {
        "duration": 7,
        "start_time": "2023-02-01T17:23:24.865Z"
      },
      {
        "duration": 8,
        "start_time": "2023-02-01T17:23:27.193Z"
      },
      {
        "duration": 8,
        "start_time": "2023-02-01T17:23:28.210Z"
      },
      {
        "duration": 4,
        "start_time": "2023-02-01T17:23:29.896Z"
      },
      {
        "duration": 10,
        "start_time": "2023-02-01T17:23:30.595Z"
      },
      {
        "duration": 25,
        "start_time": "2023-02-01T17:23:31.493Z"
      },
      {
        "duration": 21,
        "start_time": "2023-02-01T17:23:32.490Z"
      },
      {
        "duration": 21,
        "start_time": "2023-02-01T17:23:33.697Z"
      },
      {
        "duration": 7,
        "start_time": "2023-02-01T17:23:37.424Z"
      },
      {
        "duration": 7,
        "start_time": "2023-02-01T17:23:38.858Z"
      },
      {
        "duration": 151,
        "start_time": "2023-02-01T17:23:57.580Z"
      },
      {
        "duration": 20,
        "start_time": "2023-02-01T17:24:09.259Z"
      },
      {
        "duration": 23,
        "start_time": "2023-02-01T17:24:15.365Z"
      },
      {
        "duration": 1428,
        "start_time": "2023-02-01T17:24:28.502Z"
      },
      {
        "duration": 39,
        "start_time": "2023-02-01T17:24:30.854Z"
      },
      {
        "duration": 21,
        "start_time": "2023-02-01T17:24:31.992Z"
      },
      {
        "duration": 15,
        "start_time": "2023-02-01T17:24:35.654Z"
      },
      {
        "duration": 12,
        "start_time": "2023-02-01T17:24:39.868Z"
      },
      {
        "duration": 8,
        "start_time": "2023-02-01T17:24:43.610Z"
      },
      {
        "duration": 7,
        "start_time": "2023-02-01T17:24:46.719Z"
      },
      {
        "duration": 8,
        "start_time": "2023-02-01T17:24:50.396Z"
      },
      {
        "duration": 9,
        "start_time": "2023-02-01T17:24:52.193Z"
      },
      {
        "duration": 3,
        "start_time": "2023-02-01T17:24:55.308Z"
      },
      {
        "duration": 10,
        "start_time": "2023-02-01T17:24:57.092Z"
      },
      {
        "duration": 23,
        "start_time": "2023-02-01T17:24:58.239Z"
      },
      {
        "duration": 23,
        "start_time": "2023-02-01T17:25:01.214Z"
      },
      {
        "duration": 21,
        "start_time": "2023-02-01T17:25:02.287Z"
      },
      {
        "duration": 6,
        "start_time": "2023-02-01T17:25:06.795Z"
      },
      {
        "duration": 8,
        "start_time": "2023-02-01T17:25:09.796Z"
      },
      {
        "duration": 133,
        "start_time": "2023-02-01T17:25:14.033Z"
      },
      {
        "duration": 26,
        "start_time": "2023-02-01T17:25:53.265Z"
      },
      {
        "duration": 21,
        "start_time": "2023-02-01T17:25:59.255Z"
      },
      {
        "duration": 4,
        "start_time": "2023-02-01T17:26:01.917Z"
      },
      {
        "duration": 19,
        "start_time": "2023-02-01T17:26:02.919Z"
      },
      {
        "duration": 6,
        "start_time": "2023-02-01T17:26:03.692Z"
      },
      {
        "duration": 24,
        "start_time": "2023-02-01T17:26:07.193Z"
      },
      {
        "duration": 1440,
        "start_time": "2023-02-01T17:34:43.564Z"
      },
      {
        "duration": 39,
        "start_time": "2023-02-01T17:34:45.006Z"
      },
      {
        "duration": 20,
        "start_time": "2023-02-01T17:34:46.097Z"
      },
      {
        "duration": 13,
        "start_time": "2023-02-01T17:34:47.151Z"
      },
      {
        "duration": 14,
        "start_time": "2023-02-01T17:34:47.983Z"
      },
      {
        "duration": 9,
        "start_time": "2023-02-01T17:34:48.157Z"
      },
      {
        "duration": 8,
        "start_time": "2023-02-01T17:34:48.350Z"
      },
      {
        "duration": 7,
        "start_time": "2023-02-01T17:34:48.774Z"
      },
      {
        "duration": 8,
        "start_time": "2023-02-01T17:34:48.965Z"
      },
      {
        "duration": 3,
        "start_time": "2023-02-01T17:34:49.386Z"
      },
      {
        "duration": 11,
        "start_time": "2023-02-01T17:34:49.519Z"
      },
      {
        "duration": 30,
        "start_time": "2023-02-01T17:34:49.736Z"
      },
      {
        "duration": 22,
        "start_time": "2023-02-01T17:34:50.607Z"
      },
      {
        "duration": 27,
        "start_time": "2023-02-01T17:34:51.282Z"
      },
      {
        "duration": 5,
        "start_time": "2023-02-01T17:34:52.979Z"
      },
      {
        "duration": 5,
        "start_time": "2023-02-01T17:34:53.805Z"
      },
      {
        "duration": 123,
        "start_time": "2023-02-01T17:34:56.179Z"
      },
      {
        "duration": 23,
        "start_time": "2023-02-01T17:35:00.550Z"
      },
      {
        "duration": 177,
        "start_time": "2023-02-01T17:36:35.910Z"
      },
      {
        "duration": 101,
        "start_time": "2023-02-01T17:37:55.336Z"
      },
      {
        "duration": 47,
        "start_time": "2023-02-01T17:37:55.760Z"
      },
      {
        "duration": 3,
        "start_time": "2023-02-01T17:37:59.110Z"
      },
      {
        "duration": 10,
        "start_time": "2023-02-01T17:37:59.467Z"
      },
      {
        "duration": 30,
        "start_time": "2023-02-01T17:38:00.249Z"
      },
      {
        "duration": 31,
        "start_time": "2023-02-01T17:38:01.581Z"
      },
      {
        "duration": 27,
        "start_time": "2023-02-01T17:38:05.037Z"
      },
      {
        "duration": 7,
        "start_time": "2023-02-01T17:38:10.938Z"
      },
      {
        "duration": 7,
        "start_time": "2023-02-01T17:38:11.735Z"
      },
      {
        "duration": 3341,
        "start_time": "2023-02-01T17:38:14.924Z"
      },
      {
        "duration": 186483,
        "start_time": "2023-02-01T17:38:29.759Z"
      },
      {
        "duration": 43,
        "start_time": "2023-02-01T17:41:59.052Z"
      },
      {
        "duration": 2040,
        "start_time": "2023-02-01T17:42:17.346Z"
      },
      {
        "duration": 4,
        "start_time": "2023-02-01T17:42:25.952Z"
      },
      {
        "duration": 115,
        "start_time": "2023-02-01T17:42:26.690Z"
      },
      {
        "duration": 6,
        "start_time": "2023-02-01T17:42:27.314Z"
      },
      {
        "duration": 4878,
        "start_time": "2023-02-01T17:42:29.180Z"
      },
      {
        "duration": 1434,
        "start_time": "2023-02-01T17:46:11.996Z"
      },
      {
        "duration": 39,
        "start_time": "2023-02-01T17:46:13.884Z"
      },
      {
        "duration": 26,
        "start_time": "2023-02-01T17:46:14.650Z"
      },
      {
        "duration": 15,
        "start_time": "2023-02-01T17:46:15.121Z"
      },
      {
        "duration": 13,
        "start_time": "2023-02-01T17:46:15.542Z"
      },
      {
        "duration": 8,
        "start_time": "2023-02-01T17:46:15.946Z"
      },
      {
        "duration": 7,
        "start_time": "2023-02-01T17:46:16.355Z"
      },
      {
        "duration": 178,
        "start_time": "2023-02-01T17:46:16.779Z"
      },
      {
        "duration": 96,
        "start_time": "2023-02-01T17:46:18.218Z"
      },
      {
        "duration": 47,
        "start_time": "2023-02-01T17:46:18.643Z"
      },
      {
        "duration": 1359,
        "start_time": "2023-02-01T17:46:47.818Z"
      },
      {
        "duration": 39,
        "start_time": "2023-02-01T17:46:50.248Z"
      },
      {
        "duration": 21,
        "start_time": "2023-02-01T17:46:51.139Z"
      },
      {
        "duration": 15,
        "start_time": "2023-02-01T17:46:52.233Z"
      },
      {
        "duration": 12,
        "start_time": "2023-02-01T17:46:56.215Z"
      },
      {
        "duration": 7,
        "start_time": "2023-02-01T17:46:56.889Z"
      },
      {
        "duration": 8,
        "start_time": "2023-02-01T17:46:58.068Z"
      },
      {
        "duration": 172,
        "start_time": "2023-02-01T17:46:58.712Z"
      },
      {
        "duration": 103,
        "start_time": "2023-02-01T17:47:01.913Z"
      },
      {
        "duration": 49,
        "start_time": "2023-02-01T17:47:02.682Z"
      },
      {
        "duration": 3,
        "start_time": "2023-02-01T17:47:04.080Z"
      },
      {
        "duration": 9,
        "start_time": "2023-02-01T17:47:04.686Z"
      },
      {
        "duration": 31,
        "start_time": "2023-02-01T17:47:05.513Z"
      },
      {
        "duration": 29,
        "start_time": "2023-02-01T17:47:07.668Z"
      },
      {
        "duration": 27,
        "start_time": "2023-02-01T17:47:10.469Z"
      },
      {
        "duration": 8,
        "start_time": "2023-02-01T17:47:13.266Z"
      },
      {
        "duration": 6,
        "start_time": "2023-02-01T17:47:14.048Z"
      },
      {
        "duration": 3510,
        "start_time": "2023-02-01T17:47:16.811Z"
      },
      {
        "duration": 186906,
        "start_time": "2023-02-01T17:47:38.021Z"
      },
      {
        "duration": 1996,
        "start_time": "2023-02-01T17:50:50.601Z"
      },
      {
        "duration": 4,
        "start_time": "2023-02-01T17:51:57.115Z"
      },
      {
        "duration": 97,
        "start_time": "2023-02-01T17:51:58.179Z"
      },
      {
        "duration": 6,
        "start_time": "2023-02-01T17:51:58.910Z"
      },
      {
        "duration": 4720,
        "start_time": "2023-02-01T17:52:00.335Z"
      },
      {
        "duration": 277130,
        "start_time": "2023-02-01T17:52:07.590Z"
      },
      {
        "duration": 2200,
        "start_time": "2023-02-01T17:56:49.616Z"
      },
      {
        "duration": 276129,
        "start_time": "2023-02-01T17:57:20.068Z"
      },
      {
        "duration": 1900,
        "start_time": "2023-02-01T18:02:11.899Z"
      },
      {
        "duration": 4,
        "start_time": "2023-02-01T18:02:21.340Z"
      },
      {
        "duration": 55,
        "start_time": "2023-02-01T18:02:22.009Z"
      },
      {
        "duration": 7,
        "start_time": "2023-02-01T18:02:22.600Z"
      },
      {
        "duration": 1606,
        "start_time": "2023-02-01T18:02:23.411Z"
      },
      {
        "duration": 99876,
        "start_time": "2023-02-01T18:02:32.222Z"
      },
      {
        "duration": 622,
        "start_time": "2023-02-01T18:04:33.666Z"
      },
      {
        "duration": 502,
        "start_time": "2023-02-01T18:07:55.945Z"
      },
      {
        "duration": 1090,
        "start_time": "2023-02-01T18:27:19.415Z"
      },
      {
        "duration": 10885,
        "start_time": "2023-02-01T18:31:32.312Z"
      },
      {
        "duration": 3538,
        "start_time": "2023-02-01T18:32:04.563Z"
      },
      {
        "duration": 123,
        "start_time": "2023-02-01T18:35:56.985Z"
      },
      {
        "duration": 14,
        "start_time": "2023-02-01T18:36:07.203Z"
      },
      {
        "duration": 13,
        "start_time": "2023-02-01T18:36:49.393Z"
      },
      {
        "duration": 14,
        "start_time": "2023-02-01T18:37:14.579Z"
      },
      {
        "duration": 32,
        "start_time": "2023-02-01T18:37:59.291Z"
      },
      {
        "duration": 28,
        "start_time": "2023-02-01T18:38:46.368Z"
      },
      {
        "duration": 13,
        "start_time": "2023-02-01T18:38:47.125Z"
      },
      {
        "duration": 16,
        "start_time": "2023-02-01T18:39:21.859Z"
      },
      {
        "duration": 11,
        "start_time": "2023-02-01T18:39:43.268Z"
      },
      {
        "duration": 13,
        "start_time": "2023-02-01T18:39:48.102Z"
      },
      {
        "duration": 13,
        "start_time": "2023-02-01T18:40:07.067Z"
      },
      {
        "duration": 14,
        "start_time": "2023-02-01T18:40:12.966Z"
      },
      {
        "duration": 14,
        "start_time": "2023-02-01T18:42:32.914Z"
      },
      {
        "duration": 4191,
        "start_time": "2023-02-01T18:48:00.542Z"
      },
      {
        "duration": 1645,
        "start_time": "2023-02-01T18:48:19.087Z"
      },
      {
        "duration": 1154,
        "start_time": "2023-02-01T18:50:49.883Z"
      },
      {
        "duration": 40,
        "start_time": "2023-02-01T18:50:51.039Z"
      },
      {
        "duration": 29,
        "start_time": "2023-02-01T18:50:52.029Z"
      },
      {
        "duration": 16,
        "start_time": "2023-02-01T18:50:53.040Z"
      },
      {
        "duration": 5,
        "start_time": "2023-02-01T18:50:55.482Z"
      },
      {
        "duration": 11,
        "start_time": "2023-02-01T18:50:59.878Z"
      },
      {
        "duration": 8,
        "start_time": "2023-02-01T18:51:00.690Z"
      },
      {
        "duration": 7,
        "start_time": "2023-02-01T18:51:05.447Z"
      },
      {
        "duration": 11,
        "start_time": "2023-02-01T18:51:06.682Z"
      },
      {
        "duration": 8,
        "start_time": "2023-02-01T18:51:08.722Z"
      },
      {
        "duration": 7,
        "start_time": "2023-02-01T18:51:09.533Z"
      },
      {
        "duration": 3,
        "start_time": "2023-02-01T18:51:17.118Z"
      },
      {
        "duration": 9,
        "start_time": "2023-02-01T18:51:17.733Z"
      },
      {
        "duration": 23,
        "start_time": "2023-02-01T18:51:19.235Z"
      },
      {
        "duration": 20,
        "start_time": "2023-02-01T18:51:23.057Z"
      },
      {
        "duration": 21,
        "start_time": "2023-02-01T18:51:24.695Z"
      },
      {
        "duration": 6,
        "start_time": "2023-02-01T18:51:26.335Z"
      },
      {
        "duration": 6,
        "start_time": "2023-02-01T18:51:27.007Z"
      },
      {
        "duration": 219,
        "start_time": "2023-02-01T18:51:29.786Z"
      },
      {
        "duration": 74128,
        "start_time": "2023-02-01T18:51:35.028Z"
      },
      {
        "duration": 152,
        "start_time": "2023-02-01T18:59:47.634Z"
      },
      {
        "duration": 4,
        "start_time": "2023-02-01T19:00:12.589Z"
      },
      {
        "duration": 11,
        "start_time": "2023-02-01T19:00:13.174Z"
      },
      {
        "duration": 8,
        "start_time": "2023-02-01T19:00:13.744Z"
      },
      {
        "duration": 248,
        "start_time": "2023-02-01T19:00:14.562Z"
      },
      {
        "duration": 101754,
        "start_time": "2023-02-01T19:00:15.337Z"
      },
      {
        "duration": 591,
        "start_time": "2023-02-01T19:01:57.093Z"
      },
      {
        "duration": 5,
        "start_time": "2023-02-01T19:02:06.354Z"
      },
      {
        "duration": 10,
        "start_time": "2023-02-01T19:02:09.977Z"
      },
      {
        "duration": 17,
        "start_time": "2023-02-01T19:02:10.541Z"
      },
      {
        "duration": 127,
        "start_time": "2023-02-01T19:02:11.293Z"
      },
      {
        "duration": 46339,
        "start_time": "2023-02-01T19:02:30.410Z"
      },
      {
        "duration": 183,
        "start_time": "2023-02-01T19:10:43.485Z"
      },
      {
        "duration": 165,
        "start_time": "2023-02-01T19:11:08.036Z"
      },
      {
        "duration": 182,
        "start_time": "2023-02-01T19:11:12.282Z"
      },
      {
        "duration": 442,
        "start_time": "2023-02-01T19:11:39.992Z"
      },
      {
        "duration": 59,
        "start_time": "2023-02-01T19:13:58.840Z"
      },
      {
        "duration": 1352,
        "start_time": "2023-02-02T07:15:14.843Z"
      },
      {
        "duration": 80,
        "start_time": "2023-02-02T07:15:16.197Z"
      },
      {
        "duration": 21,
        "start_time": "2023-02-02T07:15:16.279Z"
      },
      {
        "duration": 27,
        "start_time": "2023-02-02T07:15:16.303Z"
      },
      {
        "duration": 12,
        "start_time": "2023-02-02T07:15:16.331Z"
      },
      {
        "duration": 17,
        "start_time": "2023-02-02T07:15:16.345Z"
      },
      {
        "duration": 17,
        "start_time": "2023-02-02T07:15:16.363Z"
      },
      {
        "duration": 35,
        "start_time": "2023-02-02T07:15:16.383Z"
      },
      {
        "duration": 16,
        "start_time": "2023-02-02T07:15:16.419Z"
      },
      {
        "duration": 15,
        "start_time": "2023-02-02T07:15:16.437Z"
      },
      {
        "duration": 20,
        "start_time": "2023-02-02T07:15:16.453Z"
      },
      {
        "duration": 14,
        "start_time": "2023-02-02T07:15:16.475Z"
      },
      {
        "duration": 20,
        "start_time": "2023-02-02T07:15:16.491Z"
      },
      {
        "duration": 24,
        "start_time": "2023-02-02T07:15:16.513Z"
      },
      {
        "duration": 20,
        "start_time": "2023-02-02T07:15:16.539Z"
      },
      {
        "duration": 18,
        "start_time": "2023-02-02T07:15:16.561Z"
      },
      {
        "duration": 5,
        "start_time": "2023-02-02T07:15:16.581Z"
      },
      {
        "duration": 28,
        "start_time": "2023-02-02T07:15:16.588Z"
      },
      {
        "duration": 189,
        "start_time": "2023-02-02T07:15:16.617Z"
      },
      {
        "duration": 66941,
        "start_time": "2023-02-02T07:15:16.808Z"
      },
      {
        "duration": 383,
        "start_time": "2023-02-02T07:16:23.751Z"
      },
      {
        "duration": 94,
        "start_time": "2023-02-02T07:16:24.136Z"
      },
      {
        "duration": 115,
        "start_time": "2023-02-02T07:16:24.232Z"
      },
      {
        "duration": 9,
        "start_time": "2023-02-02T07:16:24.348Z"
      },
      {
        "duration": 240,
        "start_time": "2023-02-02T07:16:24.359Z"
      }
    ],
    "kernelspec": {
      "display_name": "Python 3 (ipykernel)",
      "language": "python",
      "name": "python3"
    },
    "language_info": {
      "codemirror_mode": {
        "name": "ipython",
        "version": 3
      },
      "file_extension": ".py",
      "mimetype": "text/x-python",
      "name": "python",
      "nbconvert_exporter": "python",
      "pygments_lexer": "ipython3",
      "version": "3.9.5"
    },
    "toc": {
      "base_numbering": 1,
      "nav_menu": {},
      "number_sections": true,
      "sideBar": true,
      "skip_h1_title": true,
      "title_cell": "Содержание",
      "title_sidebar": "Contents",
      "toc_cell": true,
      "toc_position": {
        "height": "calc(100% - 180px)",
        "left": "10px",
        "top": "150px",
        "width": "165px"
      },
      "toc_section_display": true,
      "toc_window_display": false
    },
    "colab": {
      "provenance": []
    }
  },
  "nbformat": 4,
  "nbformat_minor": 0
}